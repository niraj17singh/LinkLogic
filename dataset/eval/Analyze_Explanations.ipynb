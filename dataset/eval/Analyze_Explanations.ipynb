{
 "cells": [
  {
   "cell_type": "code",
   "execution_count": 1,
   "id": "ac349d71-6459-4ffb-adfd-ee5bb5c02bfa",
   "metadata": {},
   "outputs": [],
   "source": [
    "import pickle5 as pickle\n",
    "import json\n",
    "from sklearn.metrics import ndcg_score\n",
    "import pandas as pd\n",
    "\n",
    "import seaborn as sns\n",
    "import matplotlib.pyplot as plt\n",
    "import plotly.express as px\n",
    "\n",
    "import eval\n",
    "import utils as ut"
   ]
  },
  {
   "cell_type": "markdown",
   "id": "b8ef6872-e370-4b16-b61a-493842426661",
   "metadata": {},
   "source": [
    "### Run parameters"
   ]
  },
  {
   "cell_type": "code",
   "execution_count": 2,
   "id": "6d4721f4-ef25-43d7-904b-9ea349f11811",
   "metadata": {},
   "outputs": [],
   "source": [
    "plot_individual_results = False\n",
    "score_column = 'coefficient'"
   ]
  },
  {
   "cell_type": "markdown",
   "id": "fa05579b-c3e0-494e-9965-d18dfe82674e",
   "metadata": {},
   "source": [
    "### Load benchmark and results"
   ]
  },
  {
   "cell_type": "code",
   "execution_count": 3,
   "id": "a67b2eeb-fcdf-4287-bc9c-673754b2e190",
   "metadata": {},
   "outputs": [],
   "source": [
    "# load benchmark\n",
    "with open('../../data/commonsense_benchmark/v3/commonsense_benchmark_for_analysis.json', 'r') as f:\n",
    "    benchmark = json.load(f)"
   ]
  },
  {
   "cell_type": "code",
   "execution_count": 4,
   "id": "f3edfd86-f85a-43ad-b655-8678ce9b280c",
   "metadata": {},
   "outputs": [],
   "source": [
    "# load explanations\n",
    "results_dir = '../../results/linklogic/num_samples/'\n",
    "results = dict()\n",
    "experiments = {'with parent--child path': '', 'without parent--child path': '_fb12'}\n",
    "\n",
    "for experiment, exp_str in experiments.items():\n",
    "    with open(f'{results_dir}/parents_analysis_ComplEx_all_logsum_True_alpha_0.2_n_1000{exp_str}.pickle', 'rb') as f:\n",
    "        results[experiment] = pickle.load(f)"
   ]
  },
  {
   "cell_type": "markdown",
   "id": "11c07d38-675e-4a9c-9664-fd215e806c42",
   "metadata": {},
   "source": [
    "### Compute Metrics"
   ]
  },
  {
   "cell_type": "code",
   "execution_count": 5,
   "id": "bb41b85a-5850-4b26-a8e0-b24d4e9e23cb",
   "metadata": {},
   "outputs": [],
   "source": [
    "\n",
    "metrics = []\n",
    "feature_df_list = []\n",
    "\n",
    "for i, bmk in enumerate(benchmark):\n",
    "\n",
    "    if bmk['category'] == 'location':\n",
    "        continue\n",
    "\n",
    "    triple = bmk['query_triple']\n",
    "    s_triple = ut.stringify_path(triple)\n",
    "\n",
    "    bmk_df = eval.extract_bmk_paths_as_df(bmk)\n",
    "\n",
    "    for experiment in experiments.keys():\n",
    "\n",
    "        res = eval.get_results_for_query_triple(results[experiment], triple)\n",
    "\n",
    "        if not res:\n",
    "            continue\n",
    "            \n",
    "        feature_df = eval.extract_feature_df_from_results(res['linklogic_features'], bmk_df, score_column=score_column,\n",
    "                                                          experiment=experiment, query_triple=s_triple)\n",
    "        num_true_candidates = feature_df['label'].sum()\n",
    "\n",
    "        if num_true_candidates == 0:\n",
    "            continue\n",
    "\n",
    "        feature_df_list.append(feature_df)\n",
    "        \n",
    "        y_true = [feature_df['label']]\n",
    "        metrics.append({'experiment': experiment,\n",
    "                        'ndcg: score heuristic': ndcg_score(y_true=y_true, y_score=[feature_df['baseline path score']]),\n",
    "                        'ndcg: linklogic': ndcg_score(y_true=y_true, y_score=[feature_df['coefficient']]),\n",
    "                        'ndcg: random': ndcg_score(y_true=y_true, y_score=[feature_df['random']]),\n",
    "                        'num true': num_true_candidates,\n",
    "                        'query triple': s_triple,\n",
    "                        'kge score': float(res['query_triple_kge_score']),\n",
    "                        'fidelity': res['linklogic_metrics']['test_acc']})\n",
    "\n",
    "        if plot_individual_results:\n",
    "            fig = px.scatter(feature_df, x='baseline path score', y='coefficient', color='label',\n",
    "                             hover_data=[\"path\"], title=f'features: {s_triple}')\n",
    "            fig.show()"
   ]
  },
  {
   "cell_type": "code",
   "execution_count": 6,
   "id": "abbaba89-9967-48c1-b03c-eed792f6c991",
   "metadata": {},
   "outputs": [
    {
     "data": {
      "image/png": "[encoded data removed]",
      "text/plain": [
       "<Figure size 432x288 with 1 Axes>"
      ]
     },
     "metadata": {},
     "output_type": "display_data"
    }
   ],
   "source": [
    "feature_data = pd.concat(feature_df_list, axis=0)\n",
    "\n",
    "xcol = 'normalized ' + score_column\n",
    "category_means = feature_data.groupby('bmk category')[xcol].mean()\n",
    "category_order = list(category_means.sort_values(ascending=False).index)\n",
    "\n",
    "sns.set(style=\"white\")\n",
    "p = sns.barplot(x=xcol, y=\"bmk category\", hue=\"experiment\", data=feature_data, palette=\"colorblind\", \n",
    "                order=category_order, hue_order=['with parent--child path', 'without parent--child path'], errwidth=2)#, fliersize=1)\n",
    "_ = p.set(ylabel=None)\n",
    "_ = p.legend(loc='lower right')\n",
    "plt.show()"
   ]
  },
  {
   "cell_type": "code",
   "execution_count": 7,
   "id": "dcb11fb3-2a26-4028-ac59-17fd4a5dd53b",
   "metadata": {},
   "outputs": [],
   "source": [
    "def plot_scatter_with_facets(M, x, y, color, palette='matter', filename=None, size=8, width=700, height=300):\n",
    "    fig = px.scatter(M, x=x, y=y, color=color, facet_col='experiment', \n",
    "                     hover_data=[\"query triple\", \"kge score\"],\n",
    "                     color_continuous_scale=palette, opacity=0.5, width=width, height=height)\n",
    "    fig.add_shape(dict(type=\"line\", x0=0, y0=0, x1=1.1, y1=1.1, line_width=1),\n",
    "                       row=\"all\", col=\"all\",\n",
    "                  line=dict(color=\"gray\", width=1, dash=\"dot\"))\n",
    "    \n",
    "    fig.update_traces(marker_size=size, marker_line={'width':0.5, 'color':'lightgrey'})\n",
    "    \n",
    "    fig.layout.plot_bgcolor = '#f0f0f0'\n",
    "    fig.show()\n",
    "    if filename is not None:\n",
    "        fig.write_html(filename)"
   ]
  },
  {
   "cell_type": "code",
   "execution_count": 9,
   "id": "b2a4e4eb-2146-46c3-be18-ca39f810c306",
   "metadata": {},
   "outputs": [
    {
     "data": {
      "application/vnd.plotly.v1+json": {
       "config": {
        "plotlyServerURL": "https://plot.ly"
       },
       "data": [
        {
         "customdata": [
          [
           "irene_doukaina_laskarina--parents--elena_of_bulgaria",
           0.9592115
          ],
          [
           "prince_augustus_frederick_duke_of_sussex--parents--charlotte_of_mecklenburg-strelitz",
           0.97009754
          ],
          [
           "chiang_wei-kuo--parents--tai_chi-tao",
           0.9765339
          ],
          [
           "vajirunhis--parents--savang_vadhana",
           0.9786349
          ],
          [
           "carlos_i_of_portugal--parents--maria_pia_of_italy",
           0.9735309
          ],
          [
           "alice_of_bourbon_parma--parents--louise_marie_therese_of_france",
           0.98301446
          ],
          [
           "theuderic_iii--parents--balthild",
           0.97680193
          ],
          [
           "john_iii_of_sweden--parents--gustav_i_of_sweden",
           0.9552274
          ],
          [
           "charlotte_princess_royal--parents--charlotte_of_mecklenburg-strelitz",
           0.9730996
          ],
          [
           "abdulmecid--parents--mahmud_ii",
           0.9892191
          ],
          [
           "sukumalmarsri--parents--mongkut",
           0.80018896
          ],
          [
           "geoffrey_ii_duke_of_brittany--parents--henry_ii_of_england",
           0.9751305
          ],
          [
           "augusta_of_cambridge--parents--princess_augusta_of_hesse-kassel",
           0.98547643
          ],
          [
           "duke_george_augustus_of_mecklenburg--parents--charles_louis_frederick_duke_of_mecklenburg_mirow",
           0.9752793
          ],
          [
           "elizabeth_medora_leigh--parents--george_byron_6th_baron_byron",
           0.96682817
          ],
          [
           "galeria_valeria--parents--diocletian",
           0.9601176
          ],
          [
           "dominik_mikolaj_radziwill--parents--aleksander_ludwik_radziwill",
           0.97936845
          ],
          [
           "henry_howard_7th_duke_of_norfolk--parents--henry_howard_6th_duke_of_norfolk",
           0.9702331
          ],
          [
           "augustus_pugin--parents--augustus_charles_pugin",
           0.98073936
          ],
          [
           "christian_v_of_denmark--parents--sophia_amelia_of_brunswick_luneburg",
           0.976494
          ],
          [
           "isabel_of_france--parents--louis_viii_of_france",
           0.8680845
          ],
          [
           "elisabeth_of_parma--parents--dorothea_sophie_of_neuburg",
           0.9737673
          ],
          [
           "richard_i_of_england--parents--henry_ii_of_england",
           0.98376
          ],
          [
           "alexis_i_du_pont_bayard--parents--thomas_f_bayard_jr",
           0.9787707
          ],
          [
           "catherine_of_braganza--parents--luisa_of_medina-sidonia",
           0.54259306
          ],
          [
           "theodore_ii_laskaris--parents--irene_lascarina",
           0.9648506
          ],
          [
           "james_stanley_10th_earl_of_derby--parents--charles_stanley_8th_earl_of_derby",
           0.9304358
          ],
          [
           "princess_amelia_sophia_of_great_britain--parents--george_ii_of_great_britain",
           0.9859283
          ],
          [
           "frances_gulick--parents--luther_gulick",
           0.941363
          ],
          [
           "charles_devreux--parents--margaret_of_artois",
           0.96911556
          ],
          [
           "antiochus_iii_the_great--parents--seleucus_ii_callinicus",
           0.9850825
          ],
          [
           "william_michael_rossetti--parents--gabriele_rossetti",
           0.9867381
          ],
          [
           "hugh_percy_3rd_duke_of_northumberland--parents--hugh_percy_2nd_duke_of_northumberland",
           0.97634536
          ],
          [
           "frederick_i_of_denmark--parents--dorothea_of_brandenburg",
           0.98210686
          ],
          [
           "ryan_patrick_bellar--parents--troy_ryan_bellar",
           0.97193855
          ],
          [
           "francesco_maria_ii_della_rovere--parents--guidobaldo_ii_della_rovere",
           0.9423761
          ],
          [
           "minamoto_no_yoriie--parents--hojo_masako",
           0.9856418
          ],
          [
           "frederick_terman--parents--lewis_terman",
           0.9708561
          ],
          [
           "catharina_of_sweden--parents--maria_of_palatinate_simmern",
           0.9608146
          ],
          [
           "baltasar_carlos_prince_of_asturias--parents--philip_iv_of_spain",
           0.97654176
          ],
          [
           "prince_henry_of_prussia--parents--sophia_dorothea_of_hanover",
           0.98229516
          ],
          [
           "patricia_kennedy_lawford--parents--joseph_p_kennedy_sr",
           0.73155105
          ],
          [
           "gabriel_de_borbon--parents--maria_amalia_of_saxony",
           0.7770967
          ],
          [
           "princess_cecilia_of_sweden_1807--parents--gustav_iv_adolf_of_sweden",
           0.9776373
          ],
          [
           "violante_of_bavaria--parents--ferdinand_maria_elector_of_bavaria",
           0.96904534
          ],
          [
           "franz_xaver_wolfgang_mozart--parents--wolfgang_amadeus_mozart",
           0.61086947
          ],
          [
           "hans_albert_einstein--parents--mileva_maric",
           0.98081756
          ],
          [
           "vilhelmine_marie_of_denmark--parents--frederick_vi_of_denmark",
           0.9696176
          ],
          [
           "princess_viktoria_of_prussia--parents--victoria_princess_royal",
           0.9627752
          ],
          [
           "james_rudolph_garfield--parents--james_garfield",
           0.9808333
          ],
          [
           "dorothea_of_denmark_electress_palatine--parents--christian_ii_of_denmark",
           0.4386606
          ],
          [
           "maria_christina_of_the_two_sicilies--parents--maria_isabella_of_spain",
           0.7103085
          ],
          [
           "maria_luisa_of_savoy--parents--victor_amadeus_ii_of_sardinia",
           0.96920353
          ],
          [
           "marie_of_brienne--parents--berenguela_of_leon",
           0.97387797
          ],
          [
           "maria_isabel_of_portugal--parents--john_vi_of_portugal",
           0.9896506
          ],
          [
           "emperor_komei--parents--emperor_ninko",
           0.9812971
          ],
          [
           "hugh_oconnor--parents--carroll_oconnor",
           0.9565969
          ],
          [
           "svetoslav_roerich--parents--nicholas_roerich",
           0.97442687
          ],
          [
           "prince_maurice_of_battenberg--parents--princess_beatrice_of_the_united_kingdom",
           0.9254762
          ],
          [
           "adolphe_grand_duke_of_luxembourg--parents--wilhelm_duke_of_nassau",
           0.9751066
          ],
          [
           "henry_iii_of_france--parents--henry_ii_of_france",
           0.9642366
          ],
          [
           "henry_herbert_2nd_earl_of_pembroke--parents--anne_herbert_countess_of_pembroke",
           0.9682901
          ],
          [
           "princess_ileana_of_romania--parents--marie_of_edinburgh",
           0.9851478
          ],
          [
           "theodosius_ii--parents--aelia_eudoxia",
           0.6729651
          ],
          [
           "clementine_of_orleans--parents--maria_amalia_of_the_two_sicilies",
           0.9749135
          ],
          [
           "enno_louis_prince_of_ostfriesland--parents--ulrich_ii_count_of_ostfriesland",
           0.97741574
          ],
          [
           "john_i_of_france--parents--louis_x_of_france",
           0.023947218
          ],
          [
           "aleksandar_obrenovic--parents--natalija_obrenovic",
           0.9815599
          ],
          [
           "publius_septimius_geta--parents--julia_domna",
           0.9722038
          ],
          [
           "elliott_roosevelt_i--parents--theodore_roosevelt_sr",
           0.97683126
          ],
          [
           "cleopatra_thea--parents--cleopatra_ii_of_egypt",
           0.9881151
          ],
          [
           "philippe_ii_duke_of_orleans--parents--philippe_i_duke_of_orleans",
           0.84335303
          ],
          [
           "princess_elizabeth_of_the_united_kingdom--parents--george_iii_of_the_united_kingdom",
           0.9633542
          ],
          [
           "lady_jane_grey--parents--lady_frances_brandon",
           0.98196423
          ],
          [
           "anne_of_great_britain--parents--anne_hyde",
           0.96934223
          ],
          [
           "jovan_vladimir--parents--petrislav_of_duklja_and_travunia",
           0.9737017
          ],
          [
           "lindsay_crosby--parents--bing_crosby",
           0.96038955
          ],
          [
           "princess_adelgunde_of_bavaria--parents--therese_of_saxe_hildburghausen",
           0.98799706
          ],
          [
           "mary_plantagenet--parents--edward_iii_of_england",
           0.9811323
          ],
          [
           "rudolph_i_of_bohemia--parents--albert_i_of_germany",
           0.97996587
          ],
          [
           "harald_v_of_norway--parents--princess_martha_of_sweden",
           0.038780075
          ],
          [
           "margaret_of_york--parents--cecily_neville",
           0.9874077
          ],
          [
           "louise_marie_adelaide_de_bourbon_penthievre--parents--maria_teresa_deste",
           0.97583395
          ],
          [
           "ptolemy_x_alexander_i--parents--berenice_iii_of_egypt",
           0.96424174
          ],
          [
           "charles_ii_gonzaga--parents--charles_i_duke_of_mantua",
           0.9748905
          ],
          [
           "prince_willem_of_the_netherlands--parents--william_iii_of_the_netherlands",
           0.9858641
          ],
          [
           "meredith_macrae--parents--gordon_macrae",
           0.9395109
          ],
          [
           "edward_the_martyr--parents--edgar_of_england",
           0.9623234
          ],
          [
           "sebastian_of_portugal--parents--john_crown_prince_of_portugal",
           0.97903824
          ],
          [
           "pierre_koechlin--parents--emma_rossier",
           0.9553046
          ],
          [
           "philip_ii_duke_of_burgundy--parents--bonne_of_bohemia",
           0.967347
          ],
          [
           "mary_shelley--parents--mary_wollstonecraft",
           0.96337235
          ],
          [
           "frederick_ix_of_denmark--parents--christian_x_of_denmark",
           0.9503574
          ],
          [
           "stefan_uro_ii_milutin_of_serbia--parents--helene_danjou",
           0.97644687
          ],
          [
           "archduchess_luise_princess_of_tuscany--parents--ferdinand_iv_grand_duke_of_tuscany",
           0.9771985
          ],
          [
           "george_crown_prince_of_serbia--parents--zorka_of_montenegro",
           0.9777884
          ],
          [
           "john_ii_of_france--parents--philip_vi_of_france",
           0.97351474
          ],
          [
           "albert_francis_capone--parents--mae_capone",
           0.9512877
          ]
         ],
         "hovertemplate": "experiment=with parent--child path<br>ndcg: random=%{x}<br>ndcg: linklogic=%{y}<br>query triple=%{customdata[0]}<br>kge score=%{customdata[1]}<br>num true=%{marker.color}<extra></extra>",
         "legendgroup": "",
         "marker": {
          "color": [
           2,
           18,
           1,
           8,
           2,
           2,
           5,
           6,
           18,
           5,
           1,
           11,
           7,
           1,
           1,
           1,
           1,
           1,
           1,
           7,
           9,
           1,
           11,
           1,
           9,
           2,
           1,
           11,
           1,
           1,
           1,
           2,
           1,
           7,
           6,
           1,
           6,
           1,
           5,
           6,
           14,
           11,
           8,
           7,
           1,
           6,
           6,
           3,
           11,
           5,
           6,
           8,
           7,
           2,
           1,
           1,
           1,
           1,
           8,
           1,
           11,
           5,
           9,
           6,
           12,
           1,
           3,
           5,
           6,
           8,
           1,
           5,
           18,
           3,
           6,
           1,
           6,
           5,
           11,
           1,
           3,
           10,
           6,
           1,
           1,
           6,
           1,
           1,
           1,
           2,
           7,
           5,
           6,
           6,
           6,
           3,
           5,
           5
          ],
          "coloraxis": "coloraxis",
          "line": {
           "color": "lightgrey",
           "width": 0.5
          },
          "opacity": 0.5,
          "size": 8,
          "symbol": "circle"
         },
         "mode": "markers",
         "name": "",
         "orientation": "v",
         "showlegend": false,
         "type": "scatter",
         "x": [
          0.21348598607765604,
          0.4170379021849668,
          0.17199279804247747,
          0.3089446838254115,
          0.1804561283436261,
          0.2047675944627488,
          0.29904481792873694,
          0.2837443497539291,
          0.4173060014848449,
          0.27745952499294546,
          0.15571604376929962,
          0.34108917906803493,
          0.3048233265247379,
          0.1636156133170789,
          0.16647442327914075,
          0.19087705202037414,
          0.19198529613263352,
          0.14979749797313324,
          0.16749639259454444,
          0.3055445837794451,
          0.3367229430614921,
          0.15378494233177642,
          0.337837962594845,
          0.14919335085965996,
          0.33035563051849137,
          0.2183126393896233,
          0.16346517263779492,
          0.3531841090425005,
          0.1967972367470229,
          0.16614185243441604,
          0.1861270955442863,
          0.20851169192740476,
          0.1553836107250708,
          0.3136700282402898,
          0.3189135670025171,
          0.17565048656591298,
          0.3232271093600173,
          0.16422580045873178,
          0.28259201165965864,
          0.2647045933825194,
          0.38317201789972427,
          0.3414850748657536,
          0.3113995103503183,
          0.3133868321845831,
          0.1532742710649141,
          0.2941385717723712,
          0.2850041651883899,
          0.22132524028229947,
          0.35725663416183495,
          0.2858384007422098,
          0.3172771721099922,
          0.30070728123582996,
          0.2989789397776241,
          0.2119211308492437,
          0.1454291654326927,
          0.19992656912923223,
          0.16837711454623674,
          0.1770540334910716,
          0.3247492028452076,
          0.17928556806465892,
          0.3399188083850776,
          0.2530022375151045,
          0.32642139856508445,
          0.2938811882234384,
          0.35837039260395726,
          0.18910451129800512,
          0.23390051054845068,
          0.2678170756394358,
          0.2901764342808586,
          0.30455821395459953,
          0.1713913160852139,
          0.25373132773623774,
          0.41140040051598264,
          0.2055649194723762,
          0.2744241840453273,
          0.22093731239390707,
          0.3164767829432258,
          0.2604400963406209,
          0.3383973850106211,
          0.16516726828460732,
          0.23991695079237946,
          0.3256240896713546,
          0.28171876314092187,
          0.162147485416519,
          0.16438049417649012,
          0.27293768780441086,
          0.1819641345174049,
          0.16837711454623674,
          0.15732811925755025,
          0.21596426941317015,
          0.3165894881589323,
          0.2747281965019667,
          0.28191731194502295,
          0.2916242676994457,
          0.2931171178955352,
          0.2153607960067799,
          0.27401078543451124,
          0.2852316636788228
         ],
         "xaxis": "x",
         "y": [
          0.48776075054479806,
          0.6092527132027836,
          1,
          0.6384259180401751,
          0.7000336335114942,
          0.8503449055347547,
          0.723857323088043,
          0.6762173394937626,
          0.6094657016644492,
          0.666648349289507,
          0.14754941770219818,
          0.6658781379924563,
          0.6598918828131346,
          1,
          1,
          1,
          1,
          1,
          1,
          0.6603472768884403,
          0.7699855029446265,
          1,
          0.7074251862568188,
          1,
          0.712319308490778,
          0.40798240788333795,
          1,
          0.6743832245046106,
          1,
          1,
          1,
          0.48747797288598427,
          1,
          0.7580121007710121,
          0.695914056916074,
          1,
          0.7760807648586717,
          1,
          0.7144967240699822,
          0.6630398605463074,
          0.6084514453016237,
          0.615506157987931,
          0.7253020469287095,
          0.6634703134465623,
          1,
          0.7247413225599921,
          0.675826773897044,
          0.7743218278040905,
          0.6225341548494877,
          0.7150419553065037,
          0.8750665828930406,
          0.6363929689147251,
          0.7490553374249811,
          0.4871361476232385,
          1,
          1,
          1,
          1,
          0.7344402967692681,
          1,
          0.6805948288951335,
          0.7004758133255414,
          0.62888442142998,
          0.8682232910135951,
          0.611486925469134,
          1,
          0.23390051054845068,
          0.8254308268062928,
          0.7845963602772998,
          0.6354806480592526,
          1,
          0.8291907692482976,
          0.654484255257234,
          0.8314094954827773,
          0.7778181929007507,
          1,
          0.7956151315474075,
          0.705413758392885,
          0.6796503354437324,
          1,
          0.23991695079237946,
          0.6135621657736334,
          0.6750558494370332,
          1,
          1,
          0.7548966277595758,
          1,
          1,
          1,
          0.48960820155674906,
          0.6638906153945974,
          0.7130029925002522,
          0.6751698314270804,
          0.7852125729662535,
          0.7849175787532812,
          0.740489838488932,
          0.7093957590827213,
          0.7185084444715345
         ],
         "yaxis": "y"
        },
        {
         "customdata": [
          [
           "irene_doukaina_laskarina--parents--elena_of_bulgaria",
           0.9592115
          ],
          [
           "prince_augustus_frederick_duke_of_sussex--parents--charlotte_of_mecklenburg-strelitz",
           0.97009754
          ],
          [
           "vajirunhis--parents--savang_vadhana",
           0.9786349
          ],
          [
           "carlos_i_of_portugal--parents--maria_pia_of_italy",
           0.9735309
          ],
          [
           "alice_of_bourbon_parma--parents--louise_marie_therese_of_france",
           0.98301446
          ],
          [
           "theuderic_iii--parents--balthild",
           0.97680193
          ],
          [
           "john_iii_of_sweden--parents--gustav_i_of_sweden",
           0.9552274
          ],
          [
           "charlotte_princess_royal--parents--charlotte_of_mecklenburg-strelitz",
           0.9730996
          ],
          [
           "abdulmecid--parents--mahmud_ii",
           0.9892191
          ],
          [
           "geoffrey_ii_duke_of_brittany--parents--henry_ii_of_england",
           0.9751305
          ],
          [
           "augusta_of_cambridge--parents--princess_augusta_of_hesse-kassel",
           0.98547643
          ],
          [
           "christian_v_of_denmark--parents--sophia_amelia_of_brunswick_luneburg",
           0.976494
          ],
          [
           "isabel_of_france--parents--louis_viii_of_france",
           0.8680845
          ],
          [
           "richard_i_of_england--parents--henry_ii_of_england",
           0.98376
          ],
          [
           "catherine_of_braganza--parents--luisa_of_medina-sidonia",
           0.54259306
          ],
          [
           "theodore_ii_laskaris--parents--irene_lascarina",
           0.9648506
          ],
          [
           "princess_amelia_sophia_of_great_britain--parents--george_ii_of_great_britain",
           0.9859283
          ],
          [
           "william_michael_rossetti--parents--gabriele_rossetti",
           0.9867381
          ],
          [
           "frederick_i_of_denmark--parents--dorothea_of_brandenburg",
           0.98210686
          ],
          [
           "ryan_patrick_bellar--parents--troy_ryan_bellar",
           0.97193855
          ],
          [
           "minamoto_no_yoriie--parents--hojo_masako",
           0.9856418
          ],
          [
           "catharina_of_sweden--parents--maria_of_palatinate_simmern",
           0.9608146
          ],
          [
           "baltasar_carlos_prince_of_asturias--parents--philip_iv_of_spain",
           0.97654176
          ],
          [
           "prince_henry_of_prussia--parents--sophia_dorothea_of_hanover",
           0.98229516
          ],
          [
           "patricia_kennedy_lawford--parents--joseph_p_kennedy_sr",
           0.73155105
          ],
          [
           "gabriel_de_borbon--parents--maria_amalia_of_saxony",
           0.7770967
          ],
          [
           "princess_cecilia_of_sweden_1807--parents--gustav_iv_adolf_of_sweden",
           0.9776373
          ],
          [
           "franz_xaver_wolfgang_mozart--parents--wolfgang_amadeus_mozart",
           0.61086947
          ],
          [
           "hans_albert_einstein--parents--mileva_maric",
           0.98081756
          ],
          [
           "vilhelmine_marie_of_denmark--parents--frederick_vi_of_denmark",
           0.9696176
          ],
          [
           "princess_viktoria_of_prussia--parents--victoria_princess_royal",
           0.9627752
          ],
          [
           "james_rudolph_garfield--parents--james_garfield",
           0.9808333
          ],
          [
           "dorothea_of_denmark_electress_palatine--parents--christian_ii_of_denmark",
           0.4386606
          ],
          [
           "maria_christina_of_the_two_sicilies--parents--maria_isabella_of_spain",
           0.7103085
          ],
          [
           "maria_luisa_of_savoy--parents--victor_amadeus_ii_of_sardinia",
           0.96920353
          ],
          [
           "marie_of_brienne--parents--berenguela_of_leon",
           0.97387797
          ],
          [
           "prince_maurice_of_battenberg--parents--princess_beatrice_of_the_united_kingdom",
           0.9254762
          ],
          [
           "henry_iii_of_france--parents--henry_ii_of_france",
           0.9642366
          ],
          [
           "henry_herbert_2nd_earl_of_pembroke--parents--anne_herbert_countess_of_pembroke",
           0.9682901
          ],
          [
           "princess_ileana_of_romania--parents--marie_of_edinburgh",
           0.9851478
          ],
          [
           "theodosius_ii--parents--aelia_eudoxia",
           0.6729651
          ],
          [
           "clementine_of_orleans--parents--maria_amalia_of_the_two_sicilies",
           0.9749135
          ],
          [
           "john_i_of_france--parents--louis_x_of_france",
           0.023947218
          ],
          [
           "aleksandar_obrenovic--parents--natalija_obrenovic",
           0.9815599
          ],
          [
           "publius_septimius_geta--parents--julia_domna",
           0.9722038
          ],
          [
           "elliott_roosevelt_i--parents--theodore_roosevelt_sr",
           0.97683126
          ],
          [
           "philippe_ii_duke_of_orleans--parents--philippe_i_duke_of_orleans",
           0.84335303
          ],
          [
           "princess_elizabeth_of_the_united_kingdom--parents--george_iii_of_the_united_kingdom",
           0.9633542
          ],
          [
           "lady_jane_grey--parents--lady_frances_brandon",
           0.98196423
          ],
          [
           "anne_of_great_britain--parents--anne_hyde",
           0.96934223
          ],
          [
           "lindsay_crosby--parents--bing_crosby",
           0.96038955
          ],
          [
           "princess_adelgunde_of_bavaria--parents--therese_of_saxe_hildburghausen",
           0.98799706
          ],
          [
           "mary_plantagenet--parents--edward_iii_of_england",
           0.9811323
          ],
          [
           "harald_v_of_norway--parents--princess_martha_of_sweden",
           0.038780075
          ],
          [
           "margaret_of_york--parents--cecily_neville",
           0.9874077
          ],
          [
           "louise_marie_adelaide_de_bourbon_penthievre--parents--maria_teresa_deste",
           0.97583395
          ],
          [
           "prince_willem_of_the_netherlands--parents--william_iii_of_the_netherlands",
           0.9858641
          ],
          [
           "pierre_koechlin--parents--emma_rossier",
           0.9553046
          ],
          [
           "philip_ii_duke_of_burgundy--parents--bonne_of_bohemia",
           0.967347
          ],
          [
           "mary_shelley--parents--mary_wollstonecraft",
           0.96337235
          ],
          [
           "frederick_ix_of_denmark--parents--christian_x_of_denmark",
           0.9503574
          ],
          [
           "stefan_uro_ii_milutin_of_serbia--parents--helene_danjou",
           0.97644687
          ],
          [
           "archduchess_luise_princess_of_tuscany--parents--ferdinand_iv_grand_duke_of_tuscany",
           0.9771985
          ],
          [
           "george_crown_prince_of_serbia--parents--zorka_of_montenegro",
           0.9777884
          ],
          [
           "john_ii_of_france--parents--philip_vi_of_france",
           0.97351474
          ],
          [
           "albert_francis_capone--parents--mae_capone",
           0.9512877
          ]
         ],
         "hovertemplate": "experiment=without parent--child path<br>ndcg: random=%{x}<br>ndcg: linklogic=%{y}<br>query triple=%{customdata[0]}<br>kge score=%{customdata[1]}<br>num true=%{marker.color}<extra></extra>",
         "legendgroup": "",
         "marker": {
          "color": [
           2,
           17,
           7,
           1,
           1,
           4,
           5,
           17,
           4,
           10,
           6,
           6,
           8,
           10,
           8,
           2,
           10,
           2,
           6,
           5,
           5,
           4,
           5,
           13,
           10,
           7,
           6,
           5,
           5,
           2,
           10,
           4,
           5,
           7,
           6,
           2,
           7,
           10,
           4,
           8,
           5,
           11,
           3,
           4,
           5,
           7,
           4,
           17,
           2,
           5,
           5,
           4,
           10,
           3,
           9,
           5,
           5,
           2,
           6,
           4,
           5,
           5,
           5,
           2,
           4,
           4
          ],
          "coloraxis": "coloraxis",
          "line": {
           "color": "lightgrey",
           "width": 0.5
          },
          "opacity": 0.5,
          "size": 8,
          "symbol": "circle"
         },
         "mode": "markers",
         "name": "",
         "orientation": "v",
         "showlegend": false,
         "type": "scatter",
         "x": [
          0.21375336346840149,
          0.4087429892833388,
          0.2939577990899658,
          0.1472337673342951,
          0.16715160920880112,
          0.27573177525935555,
          0.2652137834811723,
          0.4090066530132278,
          0.25572530429744383,
          0.3293085404378357,
          0.28785726745148404,
          0.28854114444259055,
          0.32235875825144367,
          0.3261600784235811,
          0.3162392169622342,
          0.2186165887405389,
          0.34102588158403413,
          0.20874479808068402,
          0.29624793767114904,
          0.29825751499673187,
          0.3023174858676279,
          0.2604787167669223,
          0.2473613281146021,
          0.37305694049715415,
          0.32969195915939986,
          0.2963017225870151,
          0.29597925494532057,
          0.27496987219233626,
          0.2663958525873492,
          0.1929305893316724,
          0.3449730119564649,
          0.26348647124890123,
          0.2967177586401588,
          0.2860950448129003,
          0.2823170351845834,
          0.2121773615639671,
          0.30905474203500477,
          0.32817510015300266,
          0.2331017189470779,
          0.3124592847663907,
          0.2747281965019667,
          0.34713468870236097,
          0.23390051054845068,
          0.24680066297559788,
          0.2712500773175776,
          0.2897703617561574,
          0.23377555160912739,
          0.4031994795794941,
          0.1791482324345816,
          0.2564720295326378,
          0.295964724357735,
          0.23997747512992865,
          0.32670178395795624,
          0.23991695079237946,
          0.3131444053580703,
          0.2633134247122007,
          0.25507829323672465,
          0.2162500054817917,
          0.2990181181685984,
          0.2531965738519771,
          0.2634996865483534,
          0.2726092221826373,
          0.27401078543451124,
          0.18771249932142983,
          0.25253247461159917,
          0.2629242655763429
         ],
         "xaxis": "x2",
         "y": [
          0.8772153153380493,
          0.7411408622469681,
          0.652993903680792,
          1,
          1,
          0.5715283746125056,
          0.5917075230795367,
          0.6601182520956916,
          0.5624143340581098,
          0.7901324201708695,
          0.8323632350770419,
          0.7921073001740266,
          0.7903676684932905,
          0.8058966939923989,
          0.7287523190485362,
          0.33938002996514044,
          0.7988569248245329,
          0.7129202566240332,
          0.7366832445834179,
          0.8118136885039015,
          0.7254642897780326,
          0.7858693917829511,
          0.530719967199298,
          0.7174080526252664,
          0.621747194131888,
          0.6508750843922125,
          0.7635864299546694,
          0.7598813109881424,
          0.8004499962373202,
          0.7043931176209913,
          0.8128597583308579,
          0.5387708045176791,
          0.9248498246554006,
          0.5858594760258999,
          0.7791479281640616,
          0.8772153153380493,
          0.6625591345607268,
          0.7267754175961432,
          0.6980952217002588,
          0.6956888906661687,
          0.8277196447152774,
          0.6132829114745099,
          0.23390051054845068,
          0.8907069193043863,
          0.82724100552035,
          0.6489946063977824,
          0.8146511807800373,
          0.6997067423626695,
          0.39290969152707206,
          0.8221551435973103,
          0.9247300161066202,
          0.6562770077409349,
          0.7931321053041396,
          0.23991695079237946,
          0.7350574953370291,
          0.8229741179680348,
          0.7015619045135694,
          0.57064171895532,
          0.751286592144501,
          0.7065107602008984,
          0.7050387803027314,
          0.7106120647067947,
          0.8281798079980556,
          0.6934264036172708,
          0.7055554549634009,
          0.7601114827373792
         ],
         "yaxis": "y2"
        }
       ],
       "layout": {
        "annotations": [
         {
          "font": {},
          "showarrow": false,
          "text": "experiment=with parent--child path",
          "x": 0.245,
          "xanchor": "center",
          "xref": "paper",
          "y": 1,
          "yanchor": "bottom",
          "yref": "paper"
         },
         {
          "font": {},
          "showarrow": false,
          "text": "experiment=without parent--child path",
          "x": 0.755,
          "xanchor": "center",
          "xref": "paper",
          "y": 1,
          "yanchor": "bottom",
          "yref": "paper"
         }
        ],
        "coloraxis": {
         "colorbar": {
          "title": {
           "text": "num true"
          }
         },
         "colorscale": [
          [
           0,
           "rgb(253, 237, 176)"
          ],
          [
           0.09090909090909091,
           "rgb(250, 205, 145)"
          ],
          [
           0.18181818181818182,
           "rgb(246, 173, 119)"
          ],
          [
           0.2727272727272727,
           "rgb(240, 142, 98)"
          ],
          [
           0.36363636363636365,
           "rgb(231, 109, 84)"
          ],
          [
           0.45454545454545453,
           "rgb(216, 80, 83)"
          ],
          [
           0.5454545454545454,
           "rgb(195, 56, 90)"
          ],
          [
           0.6363636363636364,
           "rgb(168, 40, 96)"
          ],
          [
           0.7272727272727273,
           "rgb(138, 29, 99)"
          ],
          [
           0.8181818181818182,
           "rgb(107, 24, 93)"
          ],
          [
           0.9090909090909091,
           "rgb(76, 21, 80)"
          ],
          [
           1,
           "rgb(47, 15, 61)"
          ]
         ]
        },
        "height": 300,
        "legend": {
         "tracegroupgap": 0
        },
        "margin": {
         "t": 60
        },
        "plot_bgcolor": "#f0f0f0",
        "shapes": [
         {
          "line": {
           "color": "gray",
           "dash": "dot",
           "width": 1
          },
          "type": "line",
          "x0": 0,
          "x1": 1.1,
          "xref": "x",
          "y0": 0,
          "y1": 1.1,
          "yref": "y"
         },
         {
          "line": {
           "color": "gray",
           "dash": "dot",
           "width": 1
          },
          "type": "line",
          "x0": 0,
          "x1": 1.1,
          "xref": "x2",
          "y0": 0,
          "y1": 1.1,
          "yref": "y2"
         }
        ],
        "template": {
         "data": {
          "bar": [
           {
            "error_x": {
             "color": "#2a3f5f"
            },
            "error_y": {
             "color": "#2a3f5f"
            },
            "marker": {
             "line": {
              "color": "#E5ECF6",
              "width": 0.5
             }
            },
            "type": "bar"
           }
          ],
          "barpolar": [
           {
            "marker": {
             "line": {
              "color": "#E5ECF6",
              "width": 0.5
             }
            },
            "type": "barpolar"
           }
          ],
          "carpet": [
           {
            "aaxis": {
             "endlinecolor": "#2a3f5f",
             "gridcolor": "white",
             "linecolor": "white",
             "minorgridcolor": "white",
             "startlinecolor": "#2a3f5f"
            },
            "baxis": {
             "endlinecolor": "#2a3f5f",
             "gridcolor": "white",
             "linecolor": "white",
             "minorgridcolor": "white",
             "startlinecolor": "#2a3f5f"
            },
            "type": "carpet"
           }
          ],
          "choropleth": [
           {
            "colorbar": {
             "outlinewidth": 0,
             "ticks": ""
            },
            "type": "choropleth"
           }
          ],
          "contour": [
           {
            "colorbar": {
             "outlinewidth": 0,
             "ticks": ""
            },
            "colorscale": [
             [
              0,
              "#0d0887"
             ],
             [
              0.1111111111111111,
              "#46039f"
             ],
             [
              0.2222222222222222,
              "#7201a8"
             ],
             [
              0.3333333333333333,
              "#9c179e"
             ],
             [
              0.4444444444444444,
              "#bd3786"
             ],
             [
              0.5555555555555556,
              "#d8576b"
             ],
             [
              0.6666666666666666,
              "#ed7953"
             ],
             [
              0.7777777777777778,
              "#fb9f3a"
             ],
             [
              0.8888888888888888,
              "#fdca26"
             ],
             [
              1,
              "#f0f921"
             ]
            ],
            "type": "contour"
           }
          ],
          "contourcarpet": [
           {
            "colorbar": {
             "outlinewidth": 0,
             "ticks": ""
            },
            "type": "contourcarpet"
           }
          ],
          "heatmap": [
           {
            "colorbar": {
             "outlinewidth": 0,
             "ticks": ""
            },
            "colorscale": [
             [
              0,
              "#0d0887"
             ],
             [
              0.1111111111111111,
              "#46039f"
             ],
             [
              0.2222222222222222,
              "#7201a8"
             ],
             [
              0.3333333333333333,
              "#9c179e"
             ],
             [
              0.4444444444444444,
              "#bd3786"
             ],
             [
              0.5555555555555556,
              "#d8576b"
             ],
             [
              0.6666666666666666,
              "#ed7953"
             ],
             [
              0.7777777777777778,
              "#fb9f3a"
             ],
             [
              0.8888888888888888,
              "#fdca26"
             ],
             [
              1,
              "#f0f921"
             ]
            ],
            "type": "heatmap"
           }
          ],
          "heatmapgl": [
           {
            "colorbar": {
             "outlinewidth": 0,
             "ticks": ""
            },
            "colorscale": [
             [
              0,
              "#0d0887"
             ],
             [
              0.1111111111111111,
              "#46039f"
             ],
             [
              0.2222222222222222,
              "#7201a8"
             ],
             [
              0.3333333333333333,
              "#9c179e"
             ],
             [
              0.4444444444444444,
              "#bd3786"
             ],
             [
              0.5555555555555556,
              "#d8576b"
             ],
             [
              0.6666666666666666,
              "#ed7953"
             ],
             [
              0.7777777777777778,
              "#fb9f3a"
             ],
             [
              0.8888888888888888,
              "#fdca26"
             ],
             [
              1,
              "#f0f921"
             ]
            ],
            "type": "heatmapgl"
           }
          ],
          "histogram": [
           {
            "marker": {
             "colorbar": {
              "outlinewidth": 0,
              "ticks": ""
             }
            },
            "type": "histogram"
           }
          ],
          "histogram2d": [
           {
            "colorbar": {
             "outlinewidth": 0,
             "ticks": ""
            },
            "colorscale": [
             [
              0,
              "#0d0887"
             ],
             [
              0.1111111111111111,
              "#46039f"
             ],
             [
              0.2222222222222222,
              "#7201a8"
             ],
             [
              0.3333333333333333,
              "#9c179e"
             ],
             [
              0.4444444444444444,
              "#bd3786"
             ],
             [
              0.5555555555555556,
              "#d8576b"
             ],
             [
              0.6666666666666666,
              "#ed7953"
             ],
             [
              0.7777777777777778,
              "#fb9f3a"
             ],
             [
              0.8888888888888888,
              "#fdca26"
             ],
             [
              1,
              "#f0f921"
             ]
            ],
            "type": "histogram2d"
           }
          ],
          "histogram2dcontour": [
           {
            "colorbar": {
             "outlinewidth": 0,
             "ticks": ""
            },
            "colorscale": [
             [
              0,
              "#0d0887"
             ],
             [
              0.1111111111111111,
              "#46039f"
             ],
             [
              0.2222222222222222,
              "#7201a8"
             ],
             [
              0.3333333333333333,
              "#9c179e"
             ],
             [
              0.4444444444444444,
              "#bd3786"
             ],
             [
              0.5555555555555556,
              "#d8576b"
             ],
             [
              0.6666666666666666,
              "#ed7953"
             ],
             [
              0.7777777777777778,
              "#fb9f3a"
             ],
             [
              0.8888888888888888,
              "#fdca26"
             ],
             [
              1,
              "#f0f921"
             ]
            ],
            "type": "histogram2dcontour"
           }
          ],
          "mesh3d": [
           {
            "colorbar": {
             "outlinewidth": 0,
             "ticks": ""
            },
            "type": "mesh3d"
           }
          ],
          "parcoords": [
           {
            "line": {
             "colorbar": {
              "outlinewidth": 0,
              "ticks": ""
             }
            },
            "type": "parcoords"
           }
          ],
          "pie": [
           {
            "automargin": true,
            "type": "pie"
           }
          ],
          "scatter": [
           {
            "marker": {
             "colorbar": {
              "outlinewidth": 0,
              "ticks": ""
             }
            },
            "type": "scatter"
           }
          ],
          "scatter3d": [
           {
            "line": {
             "colorbar": {
              "outlinewidth": 0,
              "ticks": ""
             }
            },
            "marker": {
             "colorbar": {
              "outlinewidth": 0,
              "ticks": ""
             }
            },
            "type": "scatter3d"
           }
          ],
          "scattercarpet": [
           {
            "marker": {
             "colorbar": {
              "outlinewidth": 0,
              "ticks": ""
             }
            },
            "type": "scattercarpet"
           }
          ],
          "scattergeo": [
           {
            "marker": {
             "colorbar": {
              "outlinewidth": 0,
              "ticks": ""
             }
            },
            "type": "scattergeo"
           }
          ],
          "scattergl": [
           {
            "marker": {
             "colorbar": {
              "outlinewidth": 0,
              "ticks": ""
             }
            },
            "type": "scattergl"
           }
          ],
          "scattermapbox": [
           {
            "marker": {
             "colorbar": {
              "outlinewidth": 0,
              "ticks": ""
             }
            },
            "type": "scattermapbox"
           }
          ],
          "scatterpolar": [
           {
            "marker": {
             "colorbar": {
              "outlinewidth": 0,
              "ticks": ""
             }
            },
            "type": "scatterpolar"
           }
          ],
          "scatterpolargl": [
           {
            "marker": {
             "colorbar": {
              "outlinewidth": 0,
              "ticks": ""
             }
            },
            "type": "scatterpolargl"
           }
          ],
          "scatterternary": [
           {
            "marker": {
             "colorbar": {
              "outlinewidth": 0,
              "ticks": ""
             }
            },
            "type": "scatterternary"
           }
          ],
          "surface": [
           {
            "colorbar": {
             "outlinewidth": 0,
             "ticks": ""
            },
            "colorscale": [
             [
              0,
              "#0d0887"
             ],
             [
              0.1111111111111111,
              "#46039f"
             ],
             [
              0.2222222222222222,
              "#7201a8"
             ],
             [
              0.3333333333333333,
              "#9c179e"
             ],
             [
              0.4444444444444444,
              "#bd3786"
             ],
             [
              0.5555555555555556,
              "#d8576b"
             ],
             [
              0.6666666666666666,
              "#ed7953"
             ],
             [
              0.7777777777777778,
              "#fb9f3a"
             ],
             [
              0.8888888888888888,
              "#fdca26"
             ],
             [
              1,
              "#f0f921"
             ]
            ],
            "type": "surface"
           }
          ],
          "table": [
           {
            "cells": {
             "fill": {
              "color": "#EBF0F8"
             },
             "line": {
              "color": "white"
             }
            },
            "header": {
             "fill": {
              "color": "#C8D4E3"
             },
             "line": {
              "color": "white"
             }
            },
            "type": "table"
           }
          ]
         },
         "layout": {
          "annotationdefaults": {
           "arrowcolor": "#2a3f5f",
           "arrowhead": 0,
           "arrowwidth": 1
          },
          "autotypenumbers": "strict",
          "coloraxis": {
           "colorbar": {
            "outlinewidth": 0,
            "ticks": ""
           }
          },
          "colorscale": {
           "diverging": [
            [
             0,
             "#8e0152"
            ],
            [
             0.1,
             "#c51b7d"
            ],
            [
             0.2,
             "#de77ae"
            ],
            [
             0.3,
             "#f1b6da"
            ],
            [
             0.4,
             "#fde0ef"
            ],
            [
             0.5,
             "#f7f7f7"
            ],
            [
             0.6,
             "#e6f5d0"
            ],
            [
             0.7,
             "#b8e186"
            ],
            [
             0.8,
             "#7fbc41"
            ],
            [
             0.9,
             "#4d9221"
            ],
            [
             1,
             "#276419"
            ]
           ],
           "sequential": [
            [
             0,
             "#0d0887"
            ],
            [
             0.1111111111111111,
             "#46039f"
            ],
            [
             0.2222222222222222,
             "#7201a8"
            ],
            [
             0.3333333333333333,
             "#9c179e"
            ],
            [
             0.4444444444444444,
             "#bd3786"
            ],
            [
             0.5555555555555556,
             "#d8576b"
            ],
            [
             0.6666666666666666,
             "#ed7953"
            ],
            [
             0.7777777777777778,
             "#fb9f3a"
            ],
            [
             0.8888888888888888,
             "#fdca26"
            ],
            [
             1,
             "#f0f921"
            ]
           ],
           "sequentialminus": [
            [
             0,
             "#0d0887"
            ],
            [
             0.1111111111111111,
             "#46039f"
            ],
            [
             0.2222222222222222,
             "#7201a8"
            ],
            [
             0.3333333333333333,
             "#9c179e"
            ],
            [
             0.4444444444444444,
             "#bd3786"
            ],
            [
             0.5555555555555556,
             "#d8576b"
            ],
            [
             0.6666666666666666,
             "#ed7953"
            ],
            [
             0.7777777777777778,
             "#fb9f3a"
            ],
            [
             0.8888888888888888,
             "#fdca26"
            ],
            [
             1,
             "#f0f921"
            ]
           ]
          },
          "colorway": [
           "#636efa",
           "#EF553B",
           "#00cc96",
           "#ab63fa",
           "#FFA15A",
           "#19d3f3",
           "#FF6692",
           "#B6E880",
           "#FF97FF",
           "#FECB52"
          ],
          "font": {
           "color": "#2a3f5f"
          },
          "geo": {
           "bgcolor": "white",
           "lakecolor": "white",
           "landcolor": "#E5ECF6",
           "showlakes": true,
           "showland": true,
           "subunitcolor": "white"
          },
          "hoverlabel": {
           "align": "left"
          },
          "hovermode": "closest",
          "mapbox": {
           "style": "light"
          },
          "paper_bgcolor": "white",
          "plot_bgcolor": "#E5ECF6",
          "polar": {
           "angularaxis": {
            "gridcolor": "white",
            "linecolor": "white",
            "ticks": ""
           },
           "bgcolor": "#E5ECF6",
           "radialaxis": {
            "gridcolor": "white",
            "linecolor": "white",
            "ticks": ""
           }
          },
          "scene": {
           "xaxis": {
            "backgroundcolor": "#E5ECF6",
            "gridcolor": "white",
            "gridwidth": 2,
            "linecolor": "white",
            "showbackground": true,
            "ticks": "",
            "zerolinecolor": "white"
           },
           "yaxis": {
            "backgroundcolor": "#E5ECF6",
            "gridcolor": "white",
            "gridwidth": 2,
            "linecolor": "white",
            "showbackground": true,
            "ticks": "",
            "zerolinecolor": "white"
           },
           "zaxis": {
            "backgroundcolor": "#E5ECF6",
            "gridcolor": "white",
            "gridwidth": 2,
            "linecolor": "white",
            "showbackground": true,
            "ticks": "",
            "zerolinecolor": "white"
           }
          },
          "shapedefaults": {
           "line": {
            "color": "#2a3f5f"
           }
          },
          "ternary": {
           "aaxis": {
            "gridcolor": "white",
            "linecolor": "white",
            "ticks": ""
           },
           "baxis": {
            "gridcolor": "white",
            "linecolor": "white",
            "ticks": ""
           },
           "bgcolor": "#E5ECF6",
           "caxis": {
            "gridcolor": "white",
            "linecolor": "white",
            "ticks": ""
           }
          },
          "title": {
           "x": 0.05
          },
          "xaxis": {
           "automargin": true,
           "gridcolor": "white",
           "linecolor": "white",
           "ticks": "",
           "title": {
            "standoff": 15
           },
           "zerolinecolor": "white",
           "zerolinewidth": 2
          },
          "yaxis": {
           "automargin": true,
           "gridcolor": "white",
           "linecolor": "white",
           "ticks": "",
           "title": {
            "standoff": 15
           },
           "zerolinecolor": "white",
           "zerolinewidth": 2
          }
         }
        },
        "width": 700,
        "xaxis": {
         "anchor": "y",
         "autorange": true,
         "domain": [
          0,
          0.49
         ],
         "range": [
          -0.0021628848951983958,
          1.1021628848951985
         ],
         "title": {
          "text": "ndcg: random"
         },
         "type": "linear"
        },
        "xaxis2": {
         "anchor": "y2",
         "autorange": true,
         "domain": [
          0.51,
          1
         ],
         "matches": "x",
         "range": [
          -0.0021628848951983958,
          1.1021628848951985
         ],
         "title": {
          "text": "ndcg: random"
         },
         "type": "linear"
        },
        "yaxis": {
         "anchor": "x",
         "autorange": true,
         "domain": [
          0,
          1
         ],
         "range": [
          -0.003459119496855346,
          1.1034591194968555
         ],
         "title": {
          "text": "ndcg: linklogic"
         },
         "type": "linear"
        },
        "yaxis2": {
         "anchor": "x2",
         "autorange": true,
         "domain": [
          0,
          1
         ],
         "matches": "y",
         "range": [
          -0.003459119496855346,
          1.1034591194968555
         ],
         "showticklabels": false,
         "type": "linear"
        }
       }
      },
      "image/png": "[encoded data removed]",
      "text/html": [
       "<div>                            <div id=\"0bfd5478-61b6-4476-8ed4-739ce699c00e\" class=\"plotly-graph-div\" style=\"height:300px; width:700px;\"></div>            <script type=\"text/javascript\">                require([\"plotly\"], function(Plotly) {                    window.PLOTLYENV=window.PLOTLYENV || {};                                    if (document.getElementById(\"0bfd5478-61b6-4476-8ed4-739ce699c00e\")) {                    Plotly.newPlot(                        \"0bfd5478-61b6-4476-8ed4-739ce699c00e\",                        [{\"customdata\": [[\"irene_doukaina_laskarina--parents--elena_of_bulgaria\", 0.9592115], [\"prince_augustus_frederick_duke_of_sussex--parents--charlotte_of_mecklenburg-strelitz\", 0.97009754], [\"chiang_wei-kuo--parents--tai_chi-tao\", 0.9765339], [\"vajirunhis--parents--savang_vadhana\", 0.9786349], [\"carlos_i_of_portugal--parents--maria_pia_of_italy\", 0.9735309], [\"alice_of_bourbon_parma--parents--louise_marie_therese_of_france\", 0.98301446], [\"theuderic_iii--parents--balthild\", 0.97680193], [\"john_iii_of_sweden--parents--gustav_i_of_sweden\", 0.9552274], [\"charlotte_princess_royal--parents--charlotte_of_mecklenburg-strelitz\", 0.9730996], [\"abdulmecid--parents--mahmud_ii\", 0.9892191], [\"sukumalmarsri--parents--mongkut\", 0.80018896], [\"geoffrey_ii_duke_of_brittany--parents--henry_ii_of_england\", 0.9751305], [\"augusta_of_cambridge--parents--princess_augusta_of_hesse-kassel\", 0.98547643], [\"duke_george_augustus_of_mecklenburg--parents--charles_louis_frederick_duke_of_mecklenburg_mirow\", 0.9752793], [\"elizabeth_medora_leigh--parents--george_byron_6th_baron_byron\", 0.96682817], [\"galeria_valeria--parents--diocletian\", 0.9601176], [\"dominik_mikolaj_radziwill--parents--aleksander_ludwik_radziwill\", 0.97936845], [\"henry_howard_7th_duke_of_norfolk--parents--henry_howard_6th_duke_of_norfolk\", 0.9702331], [\"augustus_pugin--parents--augustus_charles_pugin\", 0.98073936], [\"christian_v_of_denmark--parents--sophia_amelia_of_brunswick_luneburg\", 0.976494], [\"isabel_of_france--parents--louis_viii_of_france\", 0.8680845], [\"elisabeth_of_parma--parents--dorothea_sophie_of_neuburg\", 0.9737673], [\"richard_i_of_england--parents--henry_ii_of_england\", 0.98376], [\"alexis_i_du_pont_bayard--parents--thomas_f_bayard_jr\", 0.9787707], [\"catherine_of_braganza--parents--luisa_of_medina-sidonia\", 0.54259306], [\"theodore_ii_laskaris--parents--irene_lascarina\", 0.9648506], [\"james_stanley_10th_earl_of_derby--parents--charles_stanley_8th_earl_of_derby\", 0.9304358], [\"princess_amelia_sophia_of_great_britain--parents--george_ii_of_great_britain\", 0.9859283], [\"frances_gulick--parents--luther_gulick\", 0.941363], [\"charles_devreux--parents--margaret_of_artois\", 0.96911556], [\"antiochus_iii_the_great--parents--seleucus_ii_callinicus\", 0.9850825], [\"william_michael_rossetti--parents--gabriele_rossetti\", 0.9867381], [\"hugh_percy_3rd_duke_of_northumberland--parents--hugh_percy_2nd_duke_of_northumberland\", 0.97634536], [\"frederick_i_of_denmark--parents--dorothea_of_brandenburg\", 0.98210686], [\"ryan_patrick_bellar--parents--troy_ryan_bellar\", 0.97193855], [\"francesco_maria_ii_della_rovere--parents--guidobaldo_ii_della_rovere\", 0.9423761], [\"minamoto_no_yoriie--parents--hojo_masako\", 0.9856418], [\"frederick_terman--parents--lewis_terman\", 0.9708561], [\"catharina_of_sweden--parents--maria_of_palatinate_simmern\", 0.9608146], [\"baltasar_carlos_prince_of_asturias--parents--philip_iv_of_spain\", 0.97654176], [\"prince_henry_of_prussia--parents--sophia_dorothea_of_hanover\", 0.98229516], [\"patricia_kennedy_lawford--parents--joseph_p_kennedy_sr\", 0.73155105], [\"gabriel_de_borbon--parents--maria_amalia_of_saxony\", 0.7770967], [\"princess_cecilia_of_sweden_1807--parents--gustav_iv_adolf_of_sweden\", 0.9776373], [\"violante_of_bavaria--parents--ferdinand_maria_elector_of_bavaria\", 0.96904534], [\"franz_xaver_wolfgang_mozart--parents--wolfgang_amadeus_mozart\", 0.61086947], [\"hans_albert_einstein--parents--mileva_maric\", 0.98081756], [\"vilhelmine_marie_of_denmark--parents--frederick_vi_of_denmark\", 0.9696176], [\"princess_viktoria_of_prussia--parents--victoria_princess_royal\", 0.9627752], [\"james_rudolph_garfield--parents--james_garfield\", 0.9808333], [\"dorothea_of_denmark_electress_palatine--parents--christian_ii_of_denmark\", 0.4386606], [\"maria_christina_of_the_two_sicilies--parents--maria_isabella_of_spain\", 0.7103085], [\"maria_luisa_of_savoy--parents--victor_amadeus_ii_of_sardinia\", 0.96920353], [\"marie_of_brienne--parents--berenguela_of_leon\", 0.97387797], [\"maria_isabel_of_portugal--parents--john_vi_of_portugal\", 0.9896506], [\"emperor_komei--parents--emperor_ninko\", 0.9812971], [\"hugh_oconnor--parents--carroll_oconnor\", 0.9565969], [\"svetoslav_roerich--parents--nicholas_roerich\", 0.97442687], [\"prince_maurice_of_battenberg--parents--princess_beatrice_of_the_united_kingdom\", 0.9254762], [\"adolphe_grand_duke_of_luxembourg--parents--wilhelm_duke_of_nassau\", 0.9751066], [\"henry_iii_of_france--parents--henry_ii_of_france\", 0.9642366], [\"henry_herbert_2nd_earl_of_pembroke--parents--anne_herbert_countess_of_pembroke\", 0.9682901], [\"princess_ileana_of_romania--parents--marie_of_edinburgh\", 0.9851478], [\"theodosius_ii--parents--aelia_eudoxia\", 0.6729651], [\"clementine_of_orleans--parents--maria_amalia_of_the_two_sicilies\", 0.9749135], [\"enno_louis_prince_of_ostfriesland--parents--ulrich_ii_count_of_ostfriesland\", 0.97741574], [\"john_i_of_france--parents--louis_x_of_france\", 0.023947218], [\"aleksandar_obrenovic--parents--natalija_obrenovic\", 0.9815599], [\"publius_septimius_geta--parents--julia_domna\", 0.9722038], [\"elliott_roosevelt_i--parents--theodore_roosevelt_sr\", 0.97683126], [\"cleopatra_thea--parents--cleopatra_ii_of_egypt\", 0.9881151], [\"philippe_ii_duke_of_orleans--parents--philippe_i_duke_of_orleans\", 0.84335303], [\"princess_elizabeth_of_the_united_kingdom--parents--george_iii_of_the_united_kingdom\", 0.9633542], [\"lady_jane_grey--parents--lady_frances_brandon\", 0.98196423], [\"anne_of_great_britain--parents--anne_hyde\", 0.96934223], [\"jovan_vladimir--parents--petrislav_of_duklja_and_travunia\", 0.9737017], [\"lindsay_crosby--parents--bing_crosby\", 0.96038955], [\"princess_adelgunde_of_bavaria--parents--therese_of_saxe_hildburghausen\", 0.98799706], [\"mary_plantagenet--parents--edward_iii_of_england\", 0.9811323], [\"rudolph_i_of_bohemia--parents--albert_i_of_germany\", 0.97996587], [\"harald_v_of_norway--parents--princess_martha_of_sweden\", 0.038780075], [\"margaret_of_york--parents--cecily_neville\", 0.9874077], [\"louise_marie_adelaide_de_bourbon_penthievre--parents--maria_teresa_deste\", 0.97583395], [\"ptolemy_x_alexander_i--parents--berenice_iii_of_egypt\", 0.96424174], [\"charles_ii_gonzaga--parents--charles_i_duke_of_mantua\", 0.9748905], [\"prince_willem_of_the_netherlands--parents--william_iii_of_the_netherlands\", 0.9858641], [\"meredith_macrae--parents--gordon_macrae\", 0.9395109], [\"edward_the_martyr--parents--edgar_of_england\", 0.9623234], [\"sebastian_of_portugal--parents--john_crown_prince_of_portugal\", 0.97903824], [\"pierre_koechlin--parents--emma_rossier\", 0.9553046], [\"philip_ii_duke_of_burgundy--parents--bonne_of_bohemia\", 0.967347], [\"mary_shelley--parents--mary_wollstonecraft\", 0.96337235], [\"frederick_ix_of_denmark--parents--christian_x_of_denmark\", 0.9503574], [\"stefan_uro_ii_milutin_of_serbia--parents--helene_danjou\", 0.97644687], [\"archduchess_luise_princess_of_tuscany--parents--ferdinand_iv_grand_duke_of_tuscany\", 0.9771985], [\"george_crown_prince_of_serbia--parents--zorka_of_montenegro\", 0.9777884], [\"john_ii_of_france--parents--philip_vi_of_france\", 0.97351474], [\"albert_francis_capone--parents--mae_capone\", 0.9512877]], \"hovertemplate\": \"experiment=with parent--child path<br>ndcg: random=%{x}<br>ndcg: linklogic=%{y}<br>query triple=%{customdata[0]}<br>kge score=%{customdata[1]}<br>num true=%{marker.color}<extra></extra>\", \"legendgroup\": \"\", \"marker\": {\"color\": [2, 18, 1, 8, 2, 2, 5, 6, 18, 5, 1, 11, 7, 1, 1, 1, 1, 1, 1, 7, 9, 1, 11, 1, 9, 2, 1, 11, 1, 1, 1, 2, 1, 7, 6, 1, 6, 1, 5, 6, 14, 11, 8, 7, 1, 6, 6, 3, 11, 5, 6, 8, 7, 2, 1, 1, 1, 1, 8, 1, 11, 5, 9, 6, 12, 1, 3, 5, 6, 8, 1, 5, 18, 3, 6, 1, 6, 5, 11, 1, 3, 10, 6, 1, 1, 6, 1, 1, 1, 2, 7, 5, 6, 6, 6, 3, 5, 5], \"coloraxis\": \"coloraxis\", \"line\": {\"color\": \"lightgrey\", \"width\": 0.5}, \"opacity\": 0.5, \"size\": 8, \"symbol\": \"circle\"}, \"mode\": \"markers\", \"name\": \"\", \"orientation\": \"v\", \"showlegend\": false, \"type\": \"scatter\", \"x\": [0.21348598607765604, 0.4170379021849668, 0.17199279804247747, 0.3089446838254115, 0.1804561283436261, 0.2047675944627488, 0.29904481792873694, 0.2837443497539291, 0.4173060014848449, 0.27745952499294546, 0.15571604376929962, 0.34108917906803493, 0.3048233265247379, 0.1636156133170789, 0.16647442327914075, 0.19087705202037414, 0.19198529613263352, 0.14979749797313324, 0.16749639259454444, 0.3055445837794451, 0.3367229430614921, 0.15378494233177642, 0.337837962594845, 0.14919335085965996, 0.33035563051849137, 0.2183126393896233, 0.16346517263779492, 0.3531841090425005, 0.1967972367470229, 0.16614185243441604, 0.1861270955442863, 0.20851169192740476, 0.1553836107250708, 0.3136700282402898, 0.3189135670025171, 0.17565048656591298, 0.3232271093600173, 0.16422580045873178, 0.28259201165965864, 0.2647045933825194, 0.38317201789972427, 0.3414850748657536, 0.3113995103503183, 0.3133868321845831, 0.1532742710649141, 0.2941385717723712, 0.2850041651883899, 0.22132524028229947, 0.35725663416183495, 0.2858384007422098, 0.3172771721099922, 0.30070728123582996, 0.2989789397776241, 0.2119211308492437, 0.1454291654326927, 0.19992656912923223, 0.16837711454623674, 0.1770540334910716, 0.3247492028452076, 0.17928556806465892, 0.3399188083850776, 0.2530022375151045, 0.32642139856508445, 0.2938811882234384, 0.35837039260395726, 0.18910451129800512, 0.23390051054845068, 0.2678170756394358, 0.2901764342808586, 0.30455821395459953, 0.1713913160852139, 0.25373132773623774, 0.41140040051598264, 0.2055649194723762, 0.2744241840453273, 0.22093731239390707, 0.3164767829432258, 0.2604400963406209, 0.3383973850106211, 0.16516726828460732, 0.23991695079237946, 0.3256240896713546, 0.28171876314092187, 0.162147485416519, 0.16438049417649012, 0.27293768780441086, 0.1819641345174049, 0.16837711454623674, 0.15732811925755025, 0.21596426941317015, 0.3165894881589323, 0.2747281965019667, 0.28191731194502295, 0.2916242676994457, 0.2931171178955352, 0.2153607960067799, 0.27401078543451124, 0.2852316636788228], \"xaxis\": \"x\", \"y\": [0.48776075054479806, 0.6092527132027836, 1.0, 0.6384259180401751, 0.7000336335114942, 0.8503449055347547, 0.723857323088043, 0.6762173394937626, 0.6094657016644492, 0.666648349289507, 0.14754941770219818, 0.6658781379924563, 0.6598918828131346, 1.0, 1.0, 1.0, 1.0, 1.0, 1.0, 0.6603472768884403, 0.7699855029446265, 1.0, 0.7074251862568188, 1.0, 0.712319308490778, 0.40798240788333795, 1.0, 0.6743832245046106, 1.0, 1.0, 1.0, 0.48747797288598427, 1.0, 0.7580121007710121, 0.695914056916074, 1.0, 0.7760807648586717, 1.0, 0.7144967240699822, 0.6630398605463074, 0.6084514453016237, 0.615506157987931, 0.7253020469287095, 0.6634703134465623, 1.0, 0.7247413225599921, 0.675826773897044, 0.7743218278040905, 0.6225341548494877, 0.7150419553065037, 0.8750665828930406, 0.6363929689147251, 0.7490553374249811, 0.4871361476232385, 1.0, 1.0, 1.0, 1.0, 0.7344402967692681, 1.0, 0.6805948288951335, 0.7004758133255414, 0.62888442142998, 0.8682232910135951, 0.611486925469134, 1.0, 0.23390051054845068, 0.8254308268062928, 0.7845963602772998, 0.6354806480592526, 1.0, 0.8291907692482976, 0.654484255257234, 0.8314094954827773, 0.7778181929007507, 1.0, 0.7956151315474075, 0.705413758392885, 0.6796503354437324, 1.0, 0.23991695079237946, 0.6135621657736334, 0.6750558494370332, 1.0, 1.0, 0.7548966277595758, 1.0, 1.0, 1.0, 0.48960820155674906, 0.6638906153945974, 0.7130029925002522, 0.6751698314270804, 0.7852125729662535, 0.7849175787532812, 0.740489838488932, 0.7093957590827213, 0.7185084444715345], \"yaxis\": \"y\"}, {\"customdata\": [[\"irene_doukaina_laskarina--parents--elena_of_bulgaria\", 0.9592115], [\"prince_augustus_frederick_duke_of_sussex--parents--charlotte_of_mecklenburg-strelitz\", 0.97009754], [\"vajirunhis--parents--savang_vadhana\", 0.9786349], [\"carlos_i_of_portugal--parents--maria_pia_of_italy\", 0.9735309], [\"alice_of_bourbon_parma--parents--louise_marie_therese_of_france\", 0.98301446], [\"theuderic_iii--parents--balthild\", 0.97680193], [\"john_iii_of_sweden--parents--gustav_i_of_sweden\", 0.9552274], [\"charlotte_princess_royal--parents--charlotte_of_mecklenburg-strelitz\", 0.9730996], [\"abdulmecid--parents--mahmud_ii\", 0.9892191], [\"geoffrey_ii_duke_of_brittany--parents--henry_ii_of_england\", 0.9751305], [\"augusta_of_cambridge--parents--princess_augusta_of_hesse-kassel\", 0.98547643], [\"christian_v_of_denmark--parents--sophia_amelia_of_brunswick_luneburg\", 0.976494], [\"isabel_of_france--parents--louis_viii_of_france\", 0.8680845], [\"richard_i_of_england--parents--henry_ii_of_england\", 0.98376], [\"catherine_of_braganza--parents--luisa_of_medina-sidonia\", 0.54259306], [\"theodore_ii_laskaris--parents--irene_lascarina\", 0.9648506], [\"princess_amelia_sophia_of_great_britain--parents--george_ii_of_great_britain\", 0.9859283], [\"william_michael_rossetti--parents--gabriele_rossetti\", 0.9867381], [\"frederick_i_of_denmark--parents--dorothea_of_brandenburg\", 0.98210686], [\"ryan_patrick_bellar--parents--troy_ryan_bellar\", 0.97193855], [\"minamoto_no_yoriie--parents--hojo_masako\", 0.9856418], [\"catharina_of_sweden--parents--maria_of_palatinate_simmern\", 0.9608146], [\"baltasar_carlos_prince_of_asturias--parents--philip_iv_of_spain\", 0.97654176], [\"prince_henry_of_prussia--parents--sophia_dorothea_of_hanover\", 0.98229516], [\"patricia_kennedy_lawford--parents--joseph_p_kennedy_sr\", 0.73155105], [\"gabriel_de_borbon--parents--maria_amalia_of_saxony\", 0.7770967], [\"princess_cecilia_of_sweden_1807--parents--gustav_iv_adolf_of_sweden\", 0.9776373], [\"franz_xaver_wolfgang_mozart--parents--wolfgang_amadeus_mozart\", 0.61086947], [\"hans_albert_einstein--parents--mileva_maric\", 0.98081756], [\"vilhelmine_marie_of_denmark--parents--frederick_vi_of_denmark\", 0.9696176], [\"princess_viktoria_of_prussia--parents--victoria_princess_royal\", 0.9627752], [\"james_rudolph_garfield--parents--james_garfield\", 0.9808333], [\"dorothea_of_denmark_electress_palatine--parents--christian_ii_of_denmark\", 0.4386606], [\"maria_christina_of_the_two_sicilies--parents--maria_isabella_of_spain\", 0.7103085], [\"maria_luisa_of_savoy--parents--victor_amadeus_ii_of_sardinia\", 0.96920353], [\"marie_of_brienne--parents--berenguela_of_leon\", 0.97387797], [\"prince_maurice_of_battenberg--parents--princess_beatrice_of_the_united_kingdom\", 0.9254762], [\"henry_iii_of_france--parents--henry_ii_of_france\", 0.9642366], [\"henry_herbert_2nd_earl_of_pembroke--parents--anne_herbert_countess_of_pembroke\", 0.9682901], [\"princess_ileana_of_romania--parents--marie_of_edinburgh\", 0.9851478], [\"theodosius_ii--parents--aelia_eudoxia\", 0.6729651], [\"clementine_of_orleans--parents--maria_amalia_of_the_two_sicilies\", 0.9749135], [\"john_i_of_france--parents--louis_x_of_france\", 0.023947218], [\"aleksandar_obrenovic--parents--natalija_obrenovic\", 0.9815599], [\"publius_septimius_geta--parents--julia_domna\", 0.9722038], [\"elliott_roosevelt_i--parents--theodore_roosevelt_sr\", 0.97683126], [\"philippe_ii_duke_of_orleans--parents--philippe_i_duke_of_orleans\", 0.84335303], [\"princess_elizabeth_of_the_united_kingdom--parents--george_iii_of_the_united_kingdom\", 0.9633542], [\"lady_jane_grey--parents--lady_frances_brandon\", 0.98196423], [\"anne_of_great_britain--parents--anne_hyde\", 0.96934223], [\"lindsay_crosby--parents--bing_crosby\", 0.96038955], [\"princess_adelgunde_of_bavaria--parents--therese_of_saxe_hildburghausen\", 0.98799706], [\"mary_plantagenet--parents--edward_iii_of_england\", 0.9811323], [\"harald_v_of_norway--parents--princess_martha_of_sweden\", 0.038780075], [\"margaret_of_york--parents--cecily_neville\", 0.9874077], [\"louise_marie_adelaide_de_bourbon_penthievre--parents--maria_teresa_deste\", 0.97583395], [\"prince_willem_of_the_netherlands--parents--william_iii_of_the_netherlands\", 0.9858641], [\"pierre_koechlin--parents--emma_rossier\", 0.9553046], [\"philip_ii_duke_of_burgundy--parents--bonne_of_bohemia\", 0.967347], [\"mary_shelley--parents--mary_wollstonecraft\", 0.96337235], [\"frederick_ix_of_denmark--parents--christian_x_of_denmark\", 0.9503574], [\"stefan_uro_ii_milutin_of_serbia--parents--helene_danjou\", 0.97644687], [\"archduchess_luise_princess_of_tuscany--parents--ferdinand_iv_grand_duke_of_tuscany\", 0.9771985], [\"george_crown_prince_of_serbia--parents--zorka_of_montenegro\", 0.9777884], [\"john_ii_of_france--parents--philip_vi_of_france\", 0.97351474], [\"albert_francis_capone--parents--mae_capone\", 0.9512877]], \"hovertemplate\": \"experiment=without parent--child path<br>ndcg: random=%{x}<br>ndcg: linklogic=%{y}<br>query triple=%{customdata[0]}<br>kge score=%{customdata[1]}<br>num true=%{marker.color}<extra></extra>\", \"legendgroup\": \"\", \"marker\": {\"color\": [2, 17, 7, 1, 1, 4, 5, 17, 4, 10, 6, 6, 8, 10, 8, 2, 10, 2, 6, 5, 5, 4, 5, 13, 10, 7, 6, 5, 5, 2, 10, 4, 5, 7, 6, 2, 7, 10, 4, 8, 5, 11, 3, 4, 5, 7, 4, 17, 2, 5, 5, 4, 10, 3, 9, 5, 5, 2, 6, 4, 5, 5, 5, 2, 4, 4], \"coloraxis\": \"coloraxis\", \"line\": {\"color\": \"lightgrey\", \"width\": 0.5}, \"opacity\": 0.5, \"size\": 8, \"symbol\": \"circle\"}, \"mode\": \"markers\", \"name\": \"\", \"orientation\": \"v\", \"showlegend\": false, \"type\": \"scatter\", \"x\": [0.21375336346840149, 0.4087429892833388, 0.2939577990899658, 0.1472337673342951, 0.16715160920880112, 0.27573177525935555, 0.2652137834811723, 0.4090066530132278, 0.25572530429744383, 0.3293085404378357, 0.28785726745148404, 0.28854114444259055, 0.32235875825144367, 0.3261600784235811, 0.3162392169622342, 0.2186165887405389, 0.34102588158403413, 0.20874479808068402, 0.29624793767114904, 0.29825751499673187, 0.3023174858676279, 0.2604787167669223, 0.2473613281146021, 0.37305694049715415, 0.32969195915939986, 0.2963017225870151, 0.29597925494532057, 0.27496987219233626, 0.2663958525873492, 0.1929305893316724, 0.3449730119564649, 0.26348647124890123, 0.2967177586401588, 0.2860950448129003, 0.2823170351845834, 0.2121773615639671, 0.30905474203500477, 0.32817510015300266, 0.2331017189470779, 0.3124592847663907, 0.2747281965019667, 0.34713468870236097, 0.23390051054845068, 0.24680066297559788, 0.2712500773175776, 0.2897703617561574, 0.23377555160912739, 0.4031994795794941, 0.1791482324345816, 0.2564720295326378, 0.295964724357735, 0.23997747512992865, 0.32670178395795624, 0.23991695079237946, 0.3131444053580703, 0.2633134247122007, 0.25507829323672465, 0.2162500054817917, 0.2990181181685984, 0.2531965738519771, 0.2634996865483534, 0.2726092221826373, 0.27401078543451124, 0.18771249932142983, 0.25253247461159917, 0.2629242655763429], \"xaxis\": \"x2\", \"y\": [0.8772153153380493, 0.7411408622469681, 0.652993903680792, 1.0, 1.0, 0.5715283746125056, 0.5917075230795367, 0.6601182520956916, 0.5624143340581098, 0.7901324201708695, 0.8323632350770419, 0.7921073001740266, 0.7903676684932905, 0.8058966939923989, 0.7287523190485362, 0.33938002996514044, 0.7988569248245329, 0.7129202566240332, 0.7366832445834179, 0.8118136885039015, 0.7254642897780326, 0.7858693917829511, 0.530719967199298, 0.7174080526252664, 0.621747194131888, 0.6508750843922125, 0.7635864299546694, 0.7598813109881424, 0.8004499962373202, 0.7043931176209913, 0.8128597583308579, 0.5387708045176791, 0.9248498246554006, 0.5858594760258999, 0.7791479281640616, 0.8772153153380493, 0.6625591345607268, 0.7267754175961432, 0.6980952217002588, 0.6956888906661687, 0.8277196447152774, 0.6132829114745099, 0.23390051054845068, 0.8907069193043863, 0.82724100552035, 0.6489946063977824, 0.8146511807800373, 0.6997067423626695, 0.39290969152707206, 0.8221551435973103, 0.9247300161066202, 0.6562770077409349, 0.7931321053041396, 0.23991695079237946, 0.7350574953370291, 0.8229741179680348, 0.7015619045135694, 0.57064171895532, 0.751286592144501, 0.7065107602008984, 0.7050387803027314, 0.7106120647067947, 0.8281798079980556, 0.6934264036172708, 0.7055554549634009, 0.7601114827373792], \"yaxis\": \"y2\"}],                        {\"annotations\": [{\"font\": {}, \"showarrow\": false, \"text\": \"experiment=with parent--child path\", \"x\": 0.245, \"xanchor\": \"center\", \"xref\": \"paper\", \"y\": 1.0, \"yanchor\": \"bottom\", \"yref\": \"paper\"}, {\"font\": {}, \"showarrow\": false, \"text\": \"experiment=without parent--child path\", \"x\": 0.755, \"xanchor\": \"center\", \"xref\": \"paper\", \"y\": 1.0, \"yanchor\": \"bottom\", \"yref\": \"paper\"}], \"coloraxis\": {\"colorbar\": {\"title\": {\"text\": \"num true\"}}, \"colorscale\": [[0.0, \"rgb(253, 237, 176)\"], [0.09090909090909091, \"rgb(250, 205, 145)\"], [0.18181818181818182, \"rgb(246, 173, 119)\"], [0.2727272727272727, \"rgb(240, 142, 98)\"], [0.36363636363636365, \"rgb(231, 109, 84)\"], [0.45454545454545453, \"rgb(216, 80, 83)\"], [0.5454545454545454, \"rgb(195, 56, 90)\"], [0.6363636363636364, \"rgb(168, 40, 96)\"], [0.7272727272727273, \"rgb(138, 29, 99)\"], [0.8181818181818182, \"rgb(107, 24, 93)\"], [0.9090909090909091, \"rgb(76, 21, 80)\"], [1.0, \"rgb(47, 15, 61)\"]]}, \"height\": 300, \"legend\": {\"tracegroupgap\": 0}, \"margin\": {\"t\": 60}, \"plot_bgcolor\": \"#f0f0f0\", \"shapes\": [{\"line\": {\"color\": \"gray\", \"dash\": \"dot\", \"width\": 1}, \"type\": \"line\", \"x0\": 0, \"x1\": 1.1, \"xref\": \"x\", \"y0\": 0, \"y1\": 1.1, \"yref\": \"y\"}, {\"line\": {\"color\": \"gray\", \"dash\": \"dot\", \"width\": 1}, \"type\": \"line\", \"x0\": 0, \"x1\": 1.1, \"xref\": \"x2\", \"y0\": 0, \"y1\": 1.1, \"yref\": \"y2\"}], \"template\": {\"data\": {\"bar\": [{\"error_x\": {\"color\": \"#2a3f5f\"}, \"error_y\": {\"color\": \"#2a3f5f\"}, \"marker\": {\"line\": {\"color\": \"#E5ECF6\", \"width\": 0.5}}, \"type\": \"bar\"}], \"barpolar\": [{\"marker\": {\"line\": {\"color\": \"#E5ECF6\", \"width\": 0.5}}, \"type\": \"barpolar\"}], \"carpet\": [{\"aaxis\": {\"endlinecolor\": \"#2a3f5f\", \"gridcolor\": \"white\", \"linecolor\": \"white\", \"minorgridcolor\": \"white\", \"startlinecolor\": \"#2a3f5f\"}, \"baxis\": {\"endlinecolor\": \"#2a3f5f\", \"gridcolor\": \"white\", \"linecolor\": \"white\", \"minorgridcolor\": \"white\", \"startlinecolor\": \"#2a3f5f\"}, \"type\": \"carpet\"}], \"choropleth\": [{\"colorbar\": {\"outlinewidth\": 0, \"ticks\": \"\"}, \"type\": \"choropleth\"}], \"contour\": [{\"colorbar\": {\"outlinewidth\": 0, \"ticks\": \"\"}, \"colorscale\": [[0.0, \"#0d0887\"], [0.1111111111111111, \"#46039f\"], [0.2222222222222222, \"#7201a8\"], [0.3333333333333333, \"#9c179e\"], [0.4444444444444444, \"#bd3786\"], [0.5555555555555556, \"#d8576b\"], [0.6666666666666666, \"#ed7953\"], [0.7777777777777778, \"#fb9f3a\"], [0.8888888888888888, \"#fdca26\"], [1.0, \"#f0f921\"]], \"type\": \"contour\"}], \"contourcarpet\": [{\"colorbar\": {\"outlinewidth\": 0, \"ticks\": \"\"}, \"type\": \"contourcarpet\"}], \"heatmap\": [{\"colorbar\": {\"outlinewidth\": 0, \"ticks\": \"\"}, \"colorscale\": [[0.0, \"#0d0887\"], [0.1111111111111111, \"#46039f\"], [0.2222222222222222, \"#7201a8\"], [0.3333333333333333, \"#9c179e\"], [0.4444444444444444, \"#bd3786\"], [0.5555555555555556, \"#d8576b\"], [0.6666666666666666, \"#ed7953\"], [0.7777777777777778, \"#fb9f3a\"], [0.8888888888888888, \"#fdca26\"], [1.0, \"#f0f921\"]], \"type\": \"heatmap\"}], \"heatmapgl\": [{\"colorbar\": {\"outlinewidth\": 0, \"ticks\": \"\"}, \"colorscale\": [[0.0, \"#0d0887\"], [0.1111111111111111, \"#46039f\"], [0.2222222222222222, \"#7201a8\"], [0.3333333333333333, \"#9c179e\"], [0.4444444444444444, \"#bd3786\"], [0.5555555555555556, \"#d8576b\"], [0.6666666666666666, \"#ed7953\"], [0.7777777777777778, \"#fb9f3a\"], [0.8888888888888888, \"#fdca26\"], [1.0, \"#f0f921\"]], \"type\": \"heatmapgl\"}], \"histogram\": [{\"marker\": {\"colorbar\": {\"outlinewidth\": 0, \"ticks\": \"\"}}, \"type\": \"histogram\"}], \"histogram2d\": [{\"colorbar\": {\"outlinewidth\": 0, \"ticks\": \"\"}, \"colorscale\": [[0.0, \"#0d0887\"], [0.1111111111111111, \"#46039f\"], [0.2222222222222222, \"#7201a8\"], [0.3333333333333333, \"#9c179e\"], [0.4444444444444444, \"#bd3786\"], [0.5555555555555556, \"#d8576b\"], [0.6666666666666666, \"#ed7953\"], [0.7777777777777778, \"#fb9f3a\"], [0.8888888888888888, \"#fdca26\"], [1.0, \"#f0f921\"]], \"type\": \"histogram2d\"}], \"histogram2dcontour\": [{\"colorbar\": {\"outlinewidth\": 0, \"ticks\": \"\"}, \"colorscale\": [[0.0, \"#0d0887\"], [0.1111111111111111, \"#46039f\"], [0.2222222222222222, \"#7201a8\"], [0.3333333333333333, \"#9c179e\"], [0.4444444444444444, \"#bd3786\"], [0.5555555555555556, \"#d8576b\"], [0.6666666666666666, \"#ed7953\"], [0.7777777777777778, \"#fb9f3a\"], [0.8888888888888888, \"#fdca26\"], [1.0, \"#f0f921\"]], \"type\": \"histogram2dcontour\"}], \"mesh3d\": [{\"colorbar\": {\"outlinewidth\": 0, \"ticks\": \"\"}, \"type\": \"mesh3d\"}], \"parcoords\": [{\"line\": {\"colorbar\": {\"outlinewidth\": 0, \"ticks\": \"\"}}, \"type\": \"parcoords\"}], \"pie\": [{\"automargin\": true, \"type\": \"pie\"}], \"scatter\": [{\"marker\": {\"colorbar\": {\"outlinewidth\": 0, \"ticks\": \"\"}}, \"type\": \"scatter\"}], \"scatter3d\": [{\"line\": {\"colorbar\": {\"outlinewidth\": 0, \"ticks\": \"\"}}, \"marker\": {\"colorbar\": {\"outlinewidth\": 0, \"ticks\": \"\"}}, \"type\": \"scatter3d\"}], \"scattercarpet\": [{\"marker\": {\"colorbar\": {\"outlinewidth\": 0, \"ticks\": \"\"}}, \"type\": \"scattercarpet\"}], \"scattergeo\": [{\"marker\": {\"colorbar\": {\"outlinewidth\": 0, \"ticks\": \"\"}}, \"type\": \"scattergeo\"}], \"scattergl\": [{\"marker\": {\"colorbar\": {\"outlinewidth\": 0, \"ticks\": \"\"}}, \"type\": \"scattergl\"}], \"scattermapbox\": [{\"marker\": {\"colorbar\": {\"outlinewidth\": 0, \"ticks\": \"\"}}, \"type\": \"scattermapbox\"}], \"scatterpolar\": [{\"marker\": {\"colorbar\": {\"outlinewidth\": 0, \"ticks\": \"\"}}, \"type\": \"scatterpolar\"}], \"scatterpolargl\": [{\"marker\": {\"colorbar\": {\"outlinewidth\": 0, \"ticks\": \"\"}}, \"type\": \"scatterpolargl\"}], \"scatterternary\": [{\"marker\": {\"colorbar\": {\"outlinewidth\": 0, \"ticks\": \"\"}}, \"type\": \"scatterternary\"}], \"surface\": [{\"colorbar\": {\"outlinewidth\": 0, \"ticks\": \"\"}, \"colorscale\": [[0.0, \"#0d0887\"], [0.1111111111111111, \"#46039f\"], [0.2222222222222222, \"#7201a8\"], [0.3333333333333333, \"#9c179e\"], [0.4444444444444444, \"#bd3786\"], [0.5555555555555556, \"#d8576b\"], [0.6666666666666666, \"#ed7953\"], [0.7777777777777778, \"#fb9f3a\"], [0.8888888888888888, \"#fdca26\"], [1.0, \"#f0f921\"]], \"type\": \"surface\"}], \"table\": [{\"cells\": {\"fill\": {\"color\": \"#EBF0F8\"}, \"line\": {\"color\": \"white\"}}, \"header\": {\"fill\": {\"color\": \"#C8D4E3\"}, \"line\": {\"color\": \"white\"}}, \"type\": \"table\"}]}, \"layout\": {\"annotationdefaults\": {\"arrowcolor\": \"#2a3f5f\", \"arrowhead\": 0, \"arrowwidth\": 1}, \"autotypenumbers\": \"strict\", \"coloraxis\": {\"colorbar\": {\"outlinewidth\": 0, \"ticks\": \"\"}}, \"colorscale\": {\"diverging\": [[0, \"#8e0152\"], [0.1, \"#c51b7d\"], [0.2, \"#de77ae\"], [0.3, \"#f1b6da\"], [0.4, \"#fde0ef\"], [0.5, \"#f7f7f7\"], [0.6, \"#e6f5d0\"], [0.7, \"#b8e186\"], [0.8, \"#7fbc41\"], [0.9, \"#4d9221\"], [1, \"#276419\"]], \"sequential\": [[0.0, \"#0d0887\"], [0.1111111111111111, \"#46039f\"], [0.2222222222222222, \"#7201a8\"], [0.3333333333333333, \"#9c179e\"], [0.4444444444444444, \"#bd3786\"], [0.5555555555555556, \"#d8576b\"], [0.6666666666666666, \"#ed7953\"], [0.7777777777777778, \"#fb9f3a\"], [0.8888888888888888, \"#fdca26\"], [1.0, \"#f0f921\"]], \"sequentialminus\": [[0.0, \"#0d0887\"], [0.1111111111111111, \"#46039f\"], [0.2222222222222222, \"#7201a8\"], [0.3333333333333333, \"#9c179e\"], [0.4444444444444444, \"#bd3786\"], [0.5555555555555556, \"#d8576b\"], [0.6666666666666666, \"#ed7953\"], [0.7777777777777778, \"#fb9f3a\"], [0.8888888888888888, \"#fdca26\"], [1.0, \"#f0f921\"]]}, \"colorway\": [\"#636efa\", \"#EF553B\", \"#00cc96\", \"#ab63fa\", \"#FFA15A\", \"#19d3f3\", \"#FF6692\", \"#B6E880\", \"#FF97FF\", \"#FECB52\"], \"font\": {\"color\": \"#2a3f5f\"}, \"geo\": {\"bgcolor\": \"white\", \"lakecolor\": \"white\", \"landcolor\": \"#E5ECF6\", \"showlakes\": true, \"showland\": true, \"subunitcolor\": \"white\"}, \"hoverlabel\": {\"align\": \"left\"}, \"hovermode\": \"closest\", \"mapbox\": {\"style\": \"light\"}, \"paper_bgcolor\": \"white\", \"plot_bgcolor\": \"#E5ECF6\", \"polar\": {\"angularaxis\": {\"gridcolor\": \"white\", \"linecolor\": \"white\", \"ticks\": \"\"}, \"bgcolor\": \"#E5ECF6\", \"radialaxis\": {\"gridcolor\": \"white\", \"linecolor\": \"white\", \"ticks\": \"\"}}, \"scene\": {\"xaxis\": {\"backgroundcolor\": \"#E5ECF6\", \"gridcolor\": \"white\", \"gridwidth\": 2, \"linecolor\": \"white\", \"showbackground\": true, \"ticks\": \"\", \"zerolinecolor\": \"white\"}, \"yaxis\": {\"backgroundcolor\": \"#E5ECF6\", \"gridcolor\": \"white\", \"gridwidth\": 2, \"linecolor\": \"white\", \"showbackground\": true, \"ticks\": \"\", \"zerolinecolor\": \"white\"}, \"zaxis\": {\"backgroundcolor\": \"#E5ECF6\", \"gridcolor\": \"white\", \"gridwidth\": 2, \"linecolor\": \"white\", \"showbackground\": true, \"ticks\": \"\", \"zerolinecolor\": \"white\"}}, \"shapedefaults\": {\"line\": {\"color\": \"#2a3f5f\"}}, \"ternary\": {\"aaxis\": {\"gridcolor\": \"white\", \"linecolor\": \"white\", \"ticks\": \"\"}, \"baxis\": {\"gridcolor\": \"white\", \"linecolor\": \"white\", \"ticks\": \"\"}, \"bgcolor\": \"#E5ECF6\", \"caxis\": {\"gridcolor\": \"white\", \"linecolor\": \"white\", \"ticks\": \"\"}}, \"title\": {\"x\": 0.05}, \"xaxis\": {\"automargin\": true, \"gridcolor\": \"white\", \"linecolor\": \"white\", \"ticks\": \"\", \"title\": {\"standoff\": 15}, \"zerolinecolor\": \"white\", \"zerolinewidth\": 2}, \"yaxis\": {\"automargin\": true, \"gridcolor\": \"white\", \"linecolor\": \"white\", \"ticks\": \"\", \"title\": {\"standoff\": 15}, \"zerolinecolor\": \"white\", \"zerolinewidth\": 2}}}, \"width\": 700, \"xaxis\": {\"anchor\": \"y\", \"domain\": [0.0, 0.49], \"title\": {\"text\": \"ndcg: random\"}}, \"xaxis2\": {\"anchor\": \"y2\", \"domain\": [0.51, 1.0], \"matches\": \"x\", \"title\": {\"text\": \"ndcg: random\"}}, \"yaxis\": {\"anchor\": \"x\", \"domain\": [0.0, 1.0], \"title\": {\"text\": \"ndcg: linklogic\"}}, \"yaxis2\": {\"anchor\": \"x2\", \"domain\": [0.0, 1.0], \"matches\": \"y\", \"showticklabels\": false}},                        {\"responsive\": true}                    ).then(function(){\n",
       "                            \n",
       "var gd = document.getElementById('0bfd5478-61b6-4476-8ed4-739ce699c00e');\n",
       "var x = new MutationObserver(function (mutations, observer) {{\n",
       "        var display = window.getComputedStyle(gd).display;\n",
       "        if (!display || display === 'none') {{\n",
       "            console.log([gd, 'removed!']);\n",
       "            Plotly.purge(gd);\n",
       "            observer.disconnect();\n",
       "        }}\n",
       "}});\n",
       "\n",
       "// Listen for the removal of the full notebook cells\n",
       "var notebookContainer = gd.closest('#notebook-container');\n",
       "if (notebookContainer) {{\n",
       "    x.observe(notebookContainer, {childList: true});\n",
       "}}\n",
       "\n",
       "// Listen for the clearing of the current output cell\n",
       "var outputEl = gd.closest('.output');\n",
       "if (outputEl) {{\n",
       "    x.observe(outputEl, {childList: true});\n",
       "}}\n",
       "\n",
       "                        })                };                });            </script>        </div>"
      ]
     },
     "metadata": {},
     "output_type": "display_data"
    },
    {
     "data": {
      "application/vnd.plotly.v1+json": {
       "config": {
        "plotlyServerURL": "https://plot.ly"
       },
       "data": [
        {
         "customdata": [
          [
           "irene_doukaina_laskarina--parents--elena_of_bulgaria",
           0.9592115
          ],
          [
           "prince_augustus_frederick_duke_of_sussex--parents--charlotte_of_mecklenburg-strelitz",
           0.97009754
          ],
          [
           "chiang_wei-kuo--parents--tai_chi-tao",
           0.9765339
          ],
          [
           "vajirunhis--parents--savang_vadhana",
           0.9786349
          ],
          [
           "carlos_i_of_portugal--parents--maria_pia_of_italy",
           0.9735309
          ],
          [
           "alice_of_bourbon_parma--parents--louise_marie_therese_of_france",
           0.98301446
          ],
          [
           "theuderic_iii--parents--balthild",
           0.97680193
          ],
          [
           "john_iii_of_sweden--parents--gustav_i_of_sweden",
           0.9552274
          ],
          [
           "charlotte_princess_royal--parents--charlotte_of_mecklenburg-strelitz",
           0.9730996
          ],
          [
           "abdulmecid--parents--mahmud_ii",
           0.9892191
          ],
          [
           "sukumalmarsri--parents--mongkut",
           0.80018896
          ],
          [
           "geoffrey_ii_duke_of_brittany--parents--henry_ii_of_england",
           0.9751305
          ],
          [
           "augusta_of_cambridge--parents--princess_augusta_of_hesse-kassel",
           0.98547643
          ],
          [
           "duke_george_augustus_of_mecklenburg--parents--charles_louis_frederick_duke_of_mecklenburg_mirow",
           0.9752793
          ],
          [
           "elizabeth_medora_leigh--parents--george_byron_6th_baron_byron",
           0.96682817
          ],
          [
           "galeria_valeria--parents--diocletian",
           0.9601176
          ],
          [
           "dominik_mikolaj_radziwill--parents--aleksander_ludwik_radziwill",
           0.97936845
          ],
          [
           "henry_howard_7th_duke_of_norfolk--parents--henry_howard_6th_duke_of_norfolk",
           0.9702331
          ],
          [
           "augustus_pugin--parents--augustus_charles_pugin",
           0.98073936
          ],
          [
           "christian_v_of_denmark--parents--sophia_amelia_of_brunswick_luneburg",
           0.976494
          ],
          [
           "isabel_of_france--parents--louis_viii_of_france",
           0.8680845
          ],
          [
           "elisabeth_of_parma--parents--dorothea_sophie_of_neuburg",
           0.9737673
          ],
          [
           "richard_i_of_england--parents--henry_ii_of_england",
           0.98376
          ],
          [
           "alexis_i_du_pont_bayard--parents--thomas_f_bayard_jr",
           0.9787707
          ],
          [
           "catherine_of_braganza--parents--luisa_of_medina-sidonia",
           0.54259306
          ],
          [
           "theodore_ii_laskaris--parents--irene_lascarina",
           0.9648506
          ],
          [
           "james_stanley_10th_earl_of_derby--parents--charles_stanley_8th_earl_of_derby",
           0.9304358
          ],
          [
           "princess_amelia_sophia_of_great_britain--parents--george_ii_of_great_britain",
           0.9859283
          ],
          [
           "frances_gulick--parents--luther_gulick",
           0.941363
          ],
          [
           "charles_devreux--parents--margaret_of_artois",
           0.96911556
          ],
          [
           "antiochus_iii_the_great--parents--seleucus_ii_callinicus",
           0.9850825
          ],
          [
           "william_michael_rossetti--parents--gabriele_rossetti",
           0.9867381
          ],
          [
           "hugh_percy_3rd_duke_of_northumberland--parents--hugh_percy_2nd_duke_of_northumberland",
           0.97634536
          ],
          [
           "frederick_i_of_denmark--parents--dorothea_of_brandenburg",
           0.98210686
          ],
          [
           "ryan_patrick_bellar--parents--troy_ryan_bellar",
           0.97193855
          ],
          [
           "francesco_maria_ii_della_rovere--parents--guidobaldo_ii_della_rovere",
           0.9423761
          ],
          [
           "minamoto_no_yoriie--parents--hojo_masako",
           0.9856418
          ],
          [
           "frederick_terman--parents--lewis_terman",
           0.9708561
          ],
          [
           "catharina_of_sweden--parents--maria_of_palatinate_simmern",
           0.9608146
          ],
          [
           "baltasar_carlos_prince_of_asturias--parents--philip_iv_of_spain",
           0.97654176
          ],
          [
           "prince_henry_of_prussia--parents--sophia_dorothea_of_hanover",
           0.98229516
          ],
          [
           "patricia_kennedy_lawford--parents--joseph_p_kennedy_sr",
           0.73155105
          ],
          [
           "gabriel_de_borbon--parents--maria_amalia_of_saxony",
           0.7770967
          ],
          [
           "princess_cecilia_of_sweden_1807--parents--gustav_iv_adolf_of_sweden",
           0.9776373
          ],
          [
           "violante_of_bavaria--parents--ferdinand_maria_elector_of_bavaria",
           0.96904534
          ],
          [
           "franz_xaver_wolfgang_mozart--parents--wolfgang_amadeus_mozart",
           0.61086947
          ],
          [
           "hans_albert_einstein--parents--mileva_maric",
           0.98081756
          ],
          [
           "vilhelmine_marie_of_denmark--parents--frederick_vi_of_denmark",
           0.9696176
          ],
          [
           "princess_viktoria_of_prussia--parents--victoria_princess_royal",
           0.9627752
          ],
          [
           "james_rudolph_garfield--parents--james_garfield",
           0.9808333
          ],
          [
           "dorothea_of_denmark_electress_palatine--parents--christian_ii_of_denmark",
           0.4386606
          ],
          [
           "maria_christina_of_the_two_sicilies--parents--maria_isabella_of_spain",
           0.7103085
          ],
          [
           "maria_luisa_of_savoy--parents--victor_amadeus_ii_of_sardinia",
           0.96920353
          ],
          [
           "marie_of_brienne--parents--berenguela_of_leon",
           0.97387797
          ],
          [
           "maria_isabel_of_portugal--parents--john_vi_of_portugal",
           0.9896506
          ],
          [
           "emperor_komei--parents--emperor_ninko",
           0.9812971
          ],
          [
           "hugh_oconnor--parents--carroll_oconnor",
           0.9565969
          ],
          [
           "svetoslav_roerich--parents--nicholas_roerich",
           0.97442687
          ],
          [
           "prince_maurice_of_battenberg--parents--princess_beatrice_of_the_united_kingdom",
           0.9254762
          ],
          [
           "adolphe_grand_duke_of_luxembourg--parents--wilhelm_duke_of_nassau",
           0.9751066
          ],
          [
           "henry_iii_of_france--parents--henry_ii_of_france",
           0.9642366
          ],
          [
           "henry_herbert_2nd_earl_of_pembroke--parents--anne_herbert_countess_of_pembroke",
           0.9682901
          ],
          [
           "princess_ileana_of_romania--parents--marie_of_edinburgh",
           0.9851478
          ],
          [
           "theodosius_ii--parents--aelia_eudoxia",
           0.6729651
          ],
          [
           "clementine_of_orleans--parents--maria_amalia_of_the_two_sicilies",
           0.9749135
          ],
          [
           "enno_louis_prince_of_ostfriesland--parents--ulrich_ii_count_of_ostfriesland",
           0.97741574
          ],
          [
           "john_i_of_france--parents--louis_x_of_france",
           0.023947218
          ],
          [
           "aleksandar_obrenovic--parents--natalija_obrenovic",
           0.9815599
          ],
          [
           "publius_septimius_geta--parents--julia_domna",
           0.9722038
          ],
          [
           "elliott_roosevelt_i--parents--theodore_roosevelt_sr",
           0.97683126
          ],
          [
           "cleopatra_thea--parents--cleopatra_ii_of_egypt",
           0.9881151
          ],
          [
           "philippe_ii_duke_of_orleans--parents--philippe_i_duke_of_orleans",
           0.84335303
          ],
          [
           "princess_elizabeth_of_the_united_kingdom--parents--george_iii_of_the_united_kingdom",
           0.9633542
          ],
          [
           "lady_jane_grey--parents--lady_frances_brandon",
           0.98196423
          ],
          [
           "anne_of_great_britain--parents--anne_hyde",
           0.96934223
          ],
          [
           "jovan_vladimir--parents--petrislav_of_duklja_and_travunia",
           0.9737017
          ],
          [
           "lindsay_crosby--parents--bing_crosby",
           0.96038955
          ],
          [
           "princess_adelgunde_of_bavaria--parents--therese_of_saxe_hildburghausen",
           0.98799706
          ],
          [
           "mary_plantagenet--parents--edward_iii_of_england",
           0.9811323
          ],
          [
           "rudolph_i_of_bohemia--parents--albert_i_of_germany",
           0.97996587
          ],
          [
           "harald_v_of_norway--parents--princess_martha_of_sweden",
           0.038780075
          ],
          [
           "margaret_of_york--parents--cecily_neville",
           0.9874077
          ],
          [
           "louise_marie_adelaide_de_bourbon_penthievre--parents--maria_teresa_deste",
           0.97583395
          ],
          [
           "ptolemy_x_alexander_i--parents--berenice_iii_of_egypt",
           0.96424174
          ],
          [
           "charles_ii_gonzaga--parents--charles_i_duke_of_mantua",
           0.9748905
          ],
          [
           "prince_willem_of_the_netherlands--parents--william_iii_of_the_netherlands",
           0.9858641
          ],
          [
           "meredith_macrae--parents--gordon_macrae",
           0.9395109
          ],
          [
           "edward_the_martyr--parents--edgar_of_england",
           0.9623234
          ],
          [
           "sebastian_of_portugal--parents--john_crown_prince_of_portugal",
           0.97903824
          ],
          [
           "pierre_koechlin--parents--emma_rossier",
           0.9553046
          ],
          [
           "philip_ii_duke_of_burgundy--parents--bonne_of_bohemia",
           0.967347
          ],
          [
           "mary_shelley--parents--mary_wollstonecraft",
           0.96337235
          ],
          [
           "frederick_ix_of_denmark--parents--christian_x_of_denmark",
           0.9503574
          ],
          [
           "stefan_uro_ii_milutin_of_serbia--parents--helene_danjou",
           0.97644687
          ],
          [
           "archduchess_luise_princess_of_tuscany--parents--ferdinand_iv_grand_duke_of_tuscany",
           0.9771985
          ],
          [
           "george_crown_prince_of_serbia--parents--zorka_of_montenegro",
           0.9777884
          ],
          [
           "john_ii_of_france--parents--philip_vi_of_france",
           0.97351474
          ],
          [
           "albert_francis_capone--parents--mae_capone",
           0.9512877
          ]
         ],
         "hovertemplate": "experiment=with parent--child path<br>ndcg: score heuristic=%{x}<br>ndcg: linklogic=%{y}<br>query triple=%{customdata[0]}<br>kge score=%{customdata[1]}<br>num true=%{marker.color}<extra></extra>",
         "legendgroup": "",
         "marker": {
          "color": [
           2,
           18,
           1,
           8,
           2,
           2,
           5,
           6,
           18,
           5,
           1,
           11,
           7,
           1,
           1,
           1,
           1,
           1,
           1,
           7,
           9,
           1,
           11,
           1,
           9,
           2,
           1,
           11,
           1,
           1,
           1,
           2,
           1,
           7,
           6,
           1,
           6,
           1,
           5,
           6,
           14,
           11,
           8,
           7,
           1,
           6,
           6,
           3,
           11,
           5,
           6,
           8,
           7,
           2,
           1,
           1,
           1,
           1,
           8,
           1,
           11,
           5,
           9,
           6,
           12,
           1,
           3,
           5,
           6,
           8,
           1,
           5,
           18,
           3,
           6,
           1,
           6,
           5,
           11,
           1,
           3,
           10,
           6,
           1,
           1,
           6,
           1,
           1,
           1,
           2,
           7,
           5,
           6,
           6,
           6,
           3,
           5,
           5
          ],
          "coloraxis": "coloraxis",
          "line": {
           "color": "lightgrey",
           "width": 0.5
          },
          "opacity": 0.5,
          "size": 8,
          "symbol": "circle"
         },
         "mode": "markers",
         "name": "",
         "orientation": "v",
         "showlegend": false,
         "type": "scatter",
         "x": [
          0.7601875334318686,
          0.6349473489247037,
          0.2702381544273198,
          0.6734380041016965,
          0.2345350139058422,
          0.2537579740823649,
          0.7818716154833572,
          0.7071644734075845,
          0.6272827338161849,
          0.7477104077563566,
          0.1556113914024948,
          0.6489120469130581,
          0.7552679722587853,
          0.20584683246043411,
          0.20584683246043411,
          0.6309297535714573,
          0.27894294565112965,
          0.35620718710802235,
          0.38685280723454163,
          0.7014828362680585,
          0.7020146759297301,
          0.1934264036172717,
          0.6509174518309936,
          0.3154648767857289,
          0.7047738323495353,
          0.528721709100536,
          0.2446505421182259,
          0.6841359870631218,
          1,
          0.25,
          0.2626495350371938,
          0.7550160946314528,
          0.27894294565112965,
          0.7023868769945093,
          0.8132170337247846,
          0.2446505421182259,
          0.7653260579710817,
          0.6309297535714573,
          0.7936274918804078,
          0.7133722443205813,
          0.6470955066866998,
          0.6567272123975986,
          0.7097880704794663,
          0.7365799493823483,
          0.20584683246043411,
          0.7532822872352406,
          0.8148357925907197,
          0.3344801617544709,
          0.6673153605104437,
          0.8284871148613753,
          0.7539879420670791,
          0.3306839837297162,
          0.7293586859518872,
          0.7700871371433883,
          0.1781035935540114,
          0.28906482631788766,
          1,
          0.2559580248098152,
          0.7171460646554005,
          0.23981246656813138,
          0.6674547374095868,
          0.7642356891596209,
          0.6889962737290569,
          0.7780633070454531,
          0.6564423499740621,
          0.2446505421182259,
          0.39172824101829434,
          0.8478894976690764,
          0.8148357925907197,
          0.7271406107652886,
          0.203795047090507,
          0.7133501246270715,
          0.6337762918002307,
          0.6527899118999849,
          0.7305267933175935,
          1,
          0.8166387052778556,
          0.7294244963708625,
          0.6790291697565858,
          0.20584683246043411,
          0.8212377705398239,
          0.6756391932512326,
          0.7065460243869306,
          0.21810429198553116,
          0.25,
          0.7159345429922859,
          0.38685280723454163,
          0.21810429198553116,
          0.22767024869695263,
          0.7435918382736327,
          0.7139856361407606,
          0.7855122558711002,
          0.7443797758037959,
          0.776235588663005,
          0.7653260579710817,
          0.3053719715616364,
          0.7467506964951488,
          0.8677993508399438
         ],
         "xaxis": "x",
         "y": [
          0.48776075054479806,
          0.6092527132027836,
          1,
          0.6384259180401751,
          0.7000336335114942,
          0.8503449055347547,
          0.723857323088043,
          0.6762173394937626,
          0.6094657016644492,
          0.666648349289507,
          0.14754941770219818,
          0.6658781379924563,
          0.6598918828131346,
          1,
          1,
          1,
          1,
          1,
          1,
          0.6603472768884403,
          0.7699855029446265,
          1,
          0.7074251862568188,
          1,
          0.712319308490778,
          0.40798240788333795,
          1,
          0.6743832245046106,
          1,
          1,
          1,
          0.48747797288598427,
          1,
          0.7580121007710121,
          0.695914056916074,
          1,
          0.7760807648586717,
          1,
          0.7144967240699822,
          0.6630398605463074,
          0.6084514453016237,
          0.615506157987931,
          0.7253020469287095,
          0.6634703134465623,
          1,
          0.7247413225599921,
          0.675826773897044,
          0.7743218278040905,
          0.6225341548494877,
          0.7150419553065037,
          0.8750665828930406,
          0.6363929689147251,
          0.7490553374249811,
          0.4871361476232385,
          1,
          1,
          1,
          1,
          0.7344402967692681,
          1,
          0.6805948288951335,
          0.7004758133255414,
          0.62888442142998,
          0.8682232910135951,
          0.611486925469134,
          1,
          0.23390051054845068,
          0.8254308268062928,
          0.7845963602772998,
          0.6354806480592526,
          1,
          0.8291907692482976,
          0.654484255257234,
          0.8314094954827773,
          0.7778181929007507,
          1,
          0.7956151315474075,
          0.705413758392885,
          0.6796503354437324,
          1,
          0.23991695079237946,
          0.6135621657736334,
          0.6750558494370332,
          1,
          1,
          0.7548966277595758,
          1,
          1,
          1,
          0.48960820155674906,
          0.6638906153945974,
          0.7130029925002522,
          0.6751698314270804,
          0.7852125729662535,
          0.7849175787532812,
          0.740489838488932,
          0.7093957590827213,
          0.7185084444715345
         ],
         "yaxis": "y"
        },
        {
         "customdata": [
          [
           "irene_doukaina_laskarina--parents--elena_of_bulgaria",
           0.9592115
          ],
          [
           "prince_augustus_frederick_duke_of_sussex--parents--charlotte_of_mecklenburg-strelitz",
           0.97009754
          ],
          [
           "vajirunhis--parents--savang_vadhana",
           0.9786349
          ],
          [
           "carlos_i_of_portugal--parents--maria_pia_of_italy",
           0.9735309
          ],
          [
           "alice_of_bourbon_parma--parents--louise_marie_therese_of_france",
           0.98301446
          ],
          [
           "theuderic_iii--parents--balthild",
           0.97680193
          ],
          [
           "john_iii_of_sweden--parents--gustav_i_of_sweden",
           0.9552274
          ],
          [
           "charlotte_princess_royal--parents--charlotte_of_mecklenburg-strelitz",
           0.9730996
          ],
          [
           "abdulmecid--parents--mahmud_ii",
           0.9892191
          ],
          [
           "geoffrey_ii_duke_of_brittany--parents--henry_ii_of_england",
           0.9751305
          ],
          [
           "augusta_of_cambridge--parents--princess_augusta_of_hesse-kassel",
           0.98547643
          ],
          [
           "christian_v_of_denmark--parents--sophia_amelia_of_brunswick_luneburg",
           0.976494
          ],
          [
           "isabel_of_france--parents--louis_viii_of_france",
           0.8680845
          ],
          [
           "richard_i_of_england--parents--henry_ii_of_england",
           0.98376
          ],
          [
           "catherine_of_braganza--parents--luisa_of_medina-sidonia",
           0.54259306
          ],
          [
           "theodore_ii_laskaris--parents--irene_lascarina",
           0.9648506
          ],
          [
           "princess_amelia_sophia_of_great_britain--parents--george_ii_of_great_britain",
           0.9859283
          ],
          [
           "william_michael_rossetti--parents--gabriele_rossetti",
           0.9867381
          ],
          [
           "frederick_i_of_denmark--parents--dorothea_of_brandenburg",
           0.98210686
          ],
          [
           "ryan_patrick_bellar--parents--troy_ryan_bellar",
           0.97193855
          ],
          [
           "minamoto_no_yoriie--parents--hojo_masako",
           0.9856418
          ],
          [
           "catharina_of_sweden--parents--maria_of_palatinate_simmern",
           0.9608146
          ],
          [
           "baltasar_carlos_prince_of_asturias--parents--philip_iv_of_spain",
           0.97654176
          ],
          [
           "prince_henry_of_prussia--parents--sophia_dorothea_of_hanover",
           0.98229516
          ],
          [
           "patricia_kennedy_lawford--parents--joseph_p_kennedy_sr",
           0.73155105
          ],
          [
           "gabriel_de_borbon--parents--maria_amalia_of_saxony",
           0.7770967
          ],
          [
           "princess_cecilia_of_sweden_1807--parents--gustav_iv_adolf_of_sweden",
           0.9776373
          ],
          [
           "franz_xaver_wolfgang_mozart--parents--wolfgang_amadeus_mozart",
           0.61086947
          ],
          [
           "hans_albert_einstein--parents--mileva_maric",
           0.98081756
          ],
          [
           "vilhelmine_marie_of_denmark--parents--frederick_vi_of_denmark",
           0.9696176
          ],
          [
           "princess_viktoria_of_prussia--parents--victoria_princess_royal",
           0.9627752
          ],
          [
           "james_rudolph_garfield--parents--james_garfield",
           0.9808333
          ],
          [
           "dorothea_of_denmark_electress_palatine--parents--christian_ii_of_denmark",
           0.4386606
          ],
          [
           "maria_christina_of_the_two_sicilies--parents--maria_isabella_of_spain",
           0.7103085
          ],
          [
           "maria_luisa_of_savoy--parents--victor_amadeus_ii_of_sardinia",
           0.96920353
          ],
          [
           "marie_of_brienne--parents--berenguela_of_leon",
           0.97387797
          ],
          [
           "prince_maurice_of_battenberg--parents--princess_beatrice_of_the_united_kingdom",
           0.9254762
          ],
          [
           "henry_iii_of_france--parents--henry_ii_of_france",
           0.9642366
          ],
          [
           "henry_herbert_2nd_earl_of_pembroke--parents--anne_herbert_countess_of_pembroke",
           0.9682901
          ],
          [
           "princess_ileana_of_romania--parents--marie_of_edinburgh",
           0.9851478
          ],
          [
           "theodosius_ii--parents--aelia_eudoxia",
           0.6729651
          ],
          [
           "clementine_of_orleans--parents--maria_amalia_of_the_two_sicilies",
           0.9749135
          ],
          [
           "john_i_of_france--parents--louis_x_of_france",
           0.023947218
          ],
          [
           "aleksandar_obrenovic--parents--natalija_obrenovic",
           0.9815599
          ],
          [
           "publius_septimius_geta--parents--julia_domna",
           0.9722038
          ],
          [
           "elliott_roosevelt_i--parents--theodore_roosevelt_sr",
           0.97683126
          ],
          [
           "philippe_ii_duke_of_orleans--parents--philippe_i_duke_of_orleans",
           0.84335303
          ],
          [
           "princess_elizabeth_of_the_united_kingdom--parents--george_iii_of_the_united_kingdom",
           0.9633542
          ],
          [
           "lady_jane_grey--parents--lady_frances_brandon",
           0.98196423
          ],
          [
           "anne_of_great_britain--parents--anne_hyde",
           0.96934223
          ],
          [
           "lindsay_crosby--parents--bing_crosby",
           0.96038955
          ],
          [
           "princess_adelgunde_of_bavaria--parents--therese_of_saxe_hildburghausen",
           0.98799706
          ],
          [
           "mary_plantagenet--parents--edward_iii_of_england",
           0.9811323
          ],
          [
           "harald_v_of_norway--parents--princess_martha_of_sweden",
           0.038780075
          ],
          [
           "margaret_of_york--parents--cecily_neville",
           0.9874077
          ],
          [
           "louise_marie_adelaide_de_bourbon_penthievre--parents--maria_teresa_deste",
           0.97583395
          ],
          [
           "prince_willem_of_the_netherlands--parents--william_iii_of_the_netherlands",
           0.9858641
          ],
          [
           "pierre_koechlin--parents--emma_rossier",
           0.9553046
          ],
          [
           "philip_ii_duke_of_burgundy--parents--bonne_of_bohemia",
           0.967347
          ],
          [
           "mary_shelley--parents--mary_wollstonecraft",
           0.96337235
          ],
          [
           "frederick_ix_of_denmark--parents--christian_x_of_denmark",
           0.9503574
          ],
          [
           "stefan_uro_ii_milutin_of_serbia--parents--helene_danjou",
           0.97644687
          ],
          [
           "archduchess_luise_princess_of_tuscany--parents--ferdinand_iv_grand_duke_of_tuscany",
           0.9771985
          ],
          [
           "george_crown_prince_of_serbia--parents--zorka_of_montenegro",
           0.9777884
          ],
          [
           "john_ii_of_france--parents--philip_vi_of_france",
           0.97351474
          ],
          [
           "albert_francis_capone--parents--mae_capone",
           0.9512877
          ]
         ],
         "hovertemplate": "experiment=without parent--child path<br>ndcg: score heuristic=%{x}<br>ndcg: linklogic=%{y}<br>query triple=%{customdata[0]}<br>kge score=%{customdata[1]}<br>num true=%{marker.color}<extra></extra>",
         "legendgroup": "",
         "marker": {
          "color": [
           2,
           17,
           7,
           1,
           1,
           4,
           5,
           17,
           4,
           10,
           6,
           6,
           8,
           10,
           8,
           2,
           10,
           2,
           6,
           5,
           5,
           4,
           5,
           13,
           10,
           7,
           6,
           5,
           5,
           2,
           10,
           4,
           5,
           7,
           6,
           2,
           7,
           10,
           4,
           8,
           5,
           11,
           3,
           4,
           5,
           7,
           4,
           17,
           2,
           5,
           5,
           4,
           10,
           3,
           9,
           5,
           5,
           2,
           6,
           4,
           5,
           5,
           5,
           2,
           4,
           4
          ],
          "coloraxis": "coloraxis",
          "line": {
           "color": "lightgrey",
           "width": 0.5
          },
          "opacity": 0.5,
          "size": 8,
          "symbol": "circle"
         },
         "mode": "markers",
         "name": "",
         "orientation": "v",
         "showlegend": false,
         "type": "scatter",
         "x": [
          0.7601875334318686,
          0.634042350980918,
          0.6850936064269968,
          0.19195872000656067,
          0.20801459767650954,
          0.8158858002212522,
          0.7344517662196706,
          0.6265083966031922,
          0.7849299544487798,
          0.6527060051101697,
          0.7653260579710817,
          0.7171084551052197,
          0.7082560532107725,
          0.654439990871181,
          0.7164371259727549,
          0.528721709100536,
          0.6856498493434255,
          0.7550160946314528,
          0.7181237190714869,
          0.8241968959615449,
          0.782651692753787,
          0.8246028896512471,
          0.7387900512627676,
          0.6475560781359946,
          0.6626150269462306,
          0.7209876194963977,
          0.747605700632022,
          0.7844962625812714,
          0.8262176208790671,
          0.30657830235404177,
          0.6702011796231969,
          0.8510717840361741,
          0.7840187458633483,
          0.3197656626472887,
          0.742379853067411,
          0.7700871371433883,
          0.7261642049960467,
          0.6704686207249967,
          0.8000927505012357,
          0.6943541753093309,
          0.8022470948000863,
          0.6585207248942736,
          0.39172824101829434,
          0.8670436848381937,
          0.8284871148613753,
          0.7339848671103727,
          0.7616601053517781,
          0.632666194950521,
          0.7299832563724273,
          0.7531007563216909,
          0.8284871148613753,
          0.7723602432858477,
          0.6815113511529666,
          0.8212377705398239,
          0.6798550321449619,
          0.7337586015671783,
          0.7406705580775249,
          0.7435918382736327,
          0.7295081641093021,
          0.8178407567289051,
          0.7658500885823333,
          0.7927969330483376,
          0.7838137995835671,
          0.27004001937292454,
          0.7871291025593156,
          0.8899603164338973
         ],
         "xaxis": "x2",
         "y": [
          0.8772153153380493,
          0.7411408622469681,
          0.652993903680792,
          1,
          1,
          0.5715283746125056,
          0.5917075230795367,
          0.6601182520956916,
          0.5624143340581098,
          0.7901324201708695,
          0.8323632350770419,
          0.7921073001740266,
          0.7903676684932905,
          0.8058966939923989,
          0.7287523190485362,
          0.33938002996514044,
          0.7988569248245329,
          0.7129202566240332,
          0.7366832445834179,
          0.8118136885039015,
          0.7254642897780326,
          0.7858693917829511,
          0.530719967199298,
          0.7174080526252664,
          0.621747194131888,
          0.6508750843922125,
          0.7635864299546694,
          0.7598813109881424,
          0.8004499962373202,
          0.7043931176209913,
          0.8128597583308579,
          0.5387708045176791,
          0.9248498246554006,
          0.5858594760258999,
          0.7791479281640616,
          0.8772153153380493,
          0.6625591345607268,
          0.7267754175961432,
          0.6980952217002588,
          0.6956888906661687,
          0.8277196447152774,
          0.6132829114745099,
          0.23390051054845068,
          0.8907069193043863,
          0.82724100552035,
          0.6489946063977824,
          0.8146511807800373,
          0.6997067423626695,
          0.39290969152707206,
          0.8221551435973103,
          0.9247300161066202,
          0.6562770077409349,
          0.7931321053041396,
          0.23991695079237946,
          0.7350574953370291,
          0.8229741179680348,
          0.7015619045135694,
          0.57064171895532,
          0.751286592144501,
          0.7065107602008984,
          0.7050387803027314,
          0.7106120647067947,
          0.8281798079980556,
          0.6934264036172708,
          0.7055554549634009,
          0.7601114827373792
         ],
         "yaxis": "y2"
        }
       ],
       "layout": {
        "annotations": [
         {
          "font": {},
          "showarrow": false,
          "text": "experiment=with parent--child path",
          "x": 0.245,
          "xanchor": "center",
          "xref": "paper",
          "y": 1,
          "yanchor": "bottom",
          "yref": "paper"
         },
         {
          "font": {},
          "showarrow": false,
          "text": "experiment=without parent--child path",
          "x": 0.755,
          "xanchor": "center",
          "xref": "paper",
          "y": 1,
          "yanchor": "bottom",
          "yref": "paper"
         }
        ],
        "coloraxis": {
         "colorbar": {
          "title": {
           "text": "num true"
          }
         },
         "colorscale": [
          [
           0,
           "rgb(253, 237, 176)"
          ],
          [
           0.09090909090909091,
           "rgb(250, 205, 145)"
          ],
          [
           0.18181818181818182,
           "rgb(246, 173, 119)"
          ],
          [
           0.2727272727272727,
           "rgb(240, 142, 98)"
          ],
          [
           0.36363636363636365,
           "rgb(231, 109, 84)"
          ],
          [
           0.45454545454545453,
           "rgb(216, 80, 83)"
          ],
          [
           0.5454545454545454,
           "rgb(195, 56, 90)"
          ],
          [
           0.6363636363636364,
           "rgb(168, 40, 96)"
          ],
          [
           0.7272727272727273,
           "rgb(138, 29, 99)"
          ],
          [
           0.8181818181818182,
           "rgb(107, 24, 93)"
          ],
          [
           0.9090909090909091,
           "rgb(76, 21, 80)"
          ],
          [
           1,
           "rgb(47, 15, 61)"
          ]
         ]
        },
        "height": 300,
        "legend": {
         "tracegroupgap": 0
        },
        "margin": {
         "t": 60
        },
        "plot_bgcolor": "#f0f0f0",
        "shapes": [
         {
          "line": {
           "color": "gray",
           "dash": "dot",
           "width": 1
          },
          "type": "line",
          "x0": 0,
          "x1": 1.1,
          "xref": "x",
          "y0": 0,
          "y1": 1.1,
          "yref": "y"
         },
         {
          "line": {
           "color": "gray",
           "dash": "dot",
           "width": 1
          },
          "type": "line",
          "x0": 0,
          "x1": 1.1,
          "xref": "x2",
          "y0": 0,
          "y1": 1.1,
          "yref": "y2"
         }
        ],
        "template": {
         "data": {
          "bar": [
           {
            "error_x": {
             "color": "#2a3f5f"
            },
            "error_y": {
             "color": "#2a3f5f"
            },
            "marker": {
             "line": {
              "color": "#E5ECF6",
              "width": 0.5
             }
            },
            "type": "bar"
           }
          ],
          "barpolar": [
           {
            "marker": {
             "line": {
              "color": "#E5ECF6",
              "width": 0.5
             }
            },
            "type": "barpolar"
           }
          ],
          "carpet": [
           {
            "aaxis": {
             "endlinecolor": "#2a3f5f",
             "gridcolor": "white",
             "linecolor": "white",
             "minorgridcolor": "white",
             "startlinecolor": "#2a3f5f"
            },
            "baxis": {
             "endlinecolor": "#2a3f5f",
             "gridcolor": "white",
             "linecolor": "white",
             "minorgridcolor": "white",
             "startlinecolor": "#2a3f5f"
            },
            "type": "carpet"
           }
          ],
          "choropleth": [
           {
            "colorbar": {
             "outlinewidth": 0,
             "ticks": ""
            },
            "type": "choropleth"
           }
          ],
          "contour": [
           {
            "colorbar": {
             "outlinewidth": 0,
             "ticks": ""
            },
            "colorscale": [
             [
              0,
              "#0d0887"
             ],
             [
              0.1111111111111111,
              "#46039f"
             ],
             [
              0.2222222222222222,
              "#7201a8"
             ],
             [
              0.3333333333333333,
              "#9c179e"
             ],
             [
              0.4444444444444444,
              "#bd3786"
             ],
             [
              0.5555555555555556,
              "#d8576b"
             ],
             [
              0.6666666666666666,
              "#ed7953"
             ],
             [
              0.7777777777777778,
              "#fb9f3a"
             ],
             [
              0.8888888888888888,
              "#fdca26"
             ],
             [
              1,
              "#f0f921"
             ]
            ],
            "type": "contour"
           }
          ],
          "contourcarpet": [
           {
            "colorbar": {
             "outlinewidth": 0,
             "ticks": ""
            },
            "type": "contourcarpet"
           }
          ],
          "heatmap": [
           {
            "colorbar": {
             "outlinewidth": 0,
             "ticks": ""
            },
            "colorscale": [
             [
              0,
              "#0d0887"
             ],
             [
              0.1111111111111111,
              "#46039f"
             ],
             [
              0.2222222222222222,
              "#7201a8"
             ],
             [
              0.3333333333333333,
              "#9c179e"
             ],
             [
              0.4444444444444444,
              "#bd3786"
             ],
             [
              0.5555555555555556,
              "#d8576b"
             ],
             [
              0.6666666666666666,
              "#ed7953"
             ],
             [
              0.7777777777777778,
              "#fb9f3a"
             ],
             [
              0.8888888888888888,
              "#fdca26"
             ],
             [
              1,
              "#f0f921"
             ]
            ],
            "type": "heatmap"
           }
          ],
          "heatmapgl": [
           {
            "colorbar": {
             "outlinewidth": 0,
             "ticks": ""
            },
            "colorscale": [
             [
              0,
              "#0d0887"
             ],
             [
              0.1111111111111111,
              "#46039f"
             ],
             [
              0.2222222222222222,
              "#7201a8"
             ],
             [
              0.3333333333333333,
              "#9c179e"
             ],
             [
              0.4444444444444444,
              "#bd3786"
             ],
             [
              0.5555555555555556,
              "#d8576b"
             ],
             [
              0.6666666666666666,
              "#ed7953"
             ],
             [
              0.7777777777777778,
              "#fb9f3a"
             ],
             [
              0.8888888888888888,
              "#fdca26"
             ],
             [
              1,
              "#f0f921"
             ]
            ],
            "type": "heatmapgl"
           }
          ],
          "histogram": [
           {
            "marker": {
             "colorbar": {
              "outlinewidth": 0,
              "ticks": ""
             }
            },
            "type": "histogram"
           }
          ],
          "histogram2d": [
           {
            "colorbar": {
             "outlinewidth": 0,
             "ticks": ""
            },
            "colorscale": [
             [
              0,
              "#0d0887"
             ],
             [
              0.1111111111111111,
              "#46039f"
             ],
             [
              0.2222222222222222,
              "#7201a8"
             ],
             [
              0.3333333333333333,
              "#9c179e"
             ],
             [
              0.4444444444444444,
              "#bd3786"
             ],
             [
              0.5555555555555556,
              "#d8576b"
             ],
             [
              0.6666666666666666,
              "#ed7953"
             ],
             [
              0.7777777777777778,
              "#fb9f3a"
             ],
             [
              0.8888888888888888,
              "#fdca26"
             ],
             [
              1,
              "#f0f921"
             ]
            ],
            "type": "histogram2d"
           }
          ],
          "histogram2dcontour": [
           {
            "colorbar": {
             "outlinewidth": 0,
             "ticks": ""
            },
            "colorscale": [
             [
              0,
              "#0d0887"
             ],
             [
              0.1111111111111111,
              "#46039f"
             ],
             [
              0.2222222222222222,
              "#7201a8"
             ],
             [
              0.3333333333333333,
              "#9c179e"
             ],
             [
              0.4444444444444444,
              "#bd3786"
             ],
             [
              0.5555555555555556,
              "#d8576b"
             ],
             [
              0.6666666666666666,
              "#ed7953"
             ],
             [
              0.7777777777777778,
              "#fb9f3a"
             ],
             [
              0.8888888888888888,
              "#fdca26"
             ],
             [
              1,
              "#f0f921"
             ]
            ],
            "type": "histogram2dcontour"
           }
          ],
          "mesh3d": [
           {
            "colorbar": {
             "outlinewidth": 0,
             "ticks": ""
            },
            "type": "mesh3d"
           }
          ],
          "parcoords": [
           {
            "line": {
             "colorbar": {
              "outlinewidth": 0,
              "ticks": ""
             }
            },
            "type": "parcoords"
           }
          ],
          "pie": [
           {
            "automargin": true,
            "type": "pie"
           }
          ],
          "scatter": [
           {
            "marker": {
             "colorbar": {
              "outlinewidth": 0,
              "ticks": ""
             }
            },
            "type": "scatter"
           }
          ],
          "scatter3d": [
           {
            "line": {
             "colorbar": {
              "outlinewidth": 0,
              "ticks": ""
             }
            },
            "marker": {
             "colorbar": {
              "outlinewidth": 0,
              "ticks": ""
             }
            },
            "type": "scatter3d"
           }
          ],
          "scattercarpet": [
           {
            "marker": {
             "colorbar": {
              "outlinewidth": 0,
              "ticks": ""
             }
            },
            "type": "scattercarpet"
           }
          ],
          "scattergeo": [
           {
            "marker": {
             "colorbar": {
              "outlinewidth": 0,
              "ticks": ""
             }
            },
            "type": "scattergeo"
           }
          ],
          "scattergl": [
           {
            "marker": {
             "colorbar": {
              "outlinewidth": 0,
              "ticks": ""
             }
            },
            "type": "scattergl"
           }
          ],
          "scattermapbox": [
           {
            "marker": {
             "colorbar": {
              "outlinewidth": 0,
              "ticks": ""
             }
            },
            "type": "scattermapbox"
           }
          ],
          "scatterpolar": [
           {
            "marker": {
             "colorbar": {
              "outlinewidth": 0,
              "ticks": ""
             }
            },
            "type": "scatterpolar"
           }
          ],
          "scatterpolargl": [
           {
            "marker": {
             "colorbar": {
              "outlinewidth": 0,
              "ticks": ""
             }
            },
            "type": "scatterpolargl"
           }
          ],
          "scatterternary": [
           {
            "marker": {
             "colorbar": {
              "outlinewidth": 0,
              "ticks": ""
             }
            },
            "type": "scatterternary"
           }
          ],
          "surface": [
           {
            "colorbar": {
             "outlinewidth": 0,
             "ticks": ""
            },
            "colorscale": [
             [
              0,
              "#0d0887"
             ],
             [
              0.1111111111111111,
              "#46039f"
             ],
             [
              0.2222222222222222,
              "#7201a8"
             ],
             [
              0.3333333333333333,
              "#9c179e"
             ],
             [
              0.4444444444444444,
              "#bd3786"
             ],
             [
              0.5555555555555556,
              "#d8576b"
             ],
             [
              0.6666666666666666,
              "#ed7953"
             ],
             [
              0.7777777777777778,
              "#fb9f3a"
             ],
             [
              0.8888888888888888,
              "#fdca26"
             ],
             [
              1,
              "#f0f921"
             ]
            ],
            "type": "surface"
           }
          ],
          "table": [
           {
            "cells": {
             "fill": {
              "color": "#EBF0F8"
             },
             "line": {
              "color": "white"
             }
            },
            "header": {
             "fill": {
              "color": "#C8D4E3"
             },
             "line": {
              "color": "white"
             }
            },
            "type": "table"
           }
          ]
         },
         "layout": {
          "annotationdefaults": {
           "arrowcolor": "#2a3f5f",
           "arrowhead": 0,
           "arrowwidth": 1
          },
          "autotypenumbers": "strict",
          "coloraxis": {
           "colorbar": {
            "outlinewidth": 0,
            "ticks": ""
           }
          },
          "colorscale": {
           "diverging": [
            [
             0,
             "#8e0152"
            ],
            [
             0.1,
             "#c51b7d"
            ],
            [
             0.2,
             "#de77ae"
            ],
            [
             0.3,
             "#f1b6da"
            ],
            [
             0.4,
             "#fde0ef"
            ],
            [
             0.5,
             "#f7f7f7"
            ],
            [
             0.6,
             "#e6f5d0"
            ],
            [
             0.7,
             "#b8e186"
            ],
            [
             0.8,
             "#7fbc41"
            ],
            [
             0.9,
             "#4d9221"
            ],
            [
             1,
             "#276419"
            ]
           ],
           "sequential": [
            [
             0,
             "#0d0887"
            ],
            [
             0.1111111111111111,
             "#46039f"
            ],
            [
             0.2222222222222222,
             "#7201a8"
            ],
            [
             0.3333333333333333,
             "#9c179e"
            ],
            [
             0.4444444444444444,
             "#bd3786"
            ],
            [
             0.5555555555555556,
             "#d8576b"
            ],
            [
             0.6666666666666666,
             "#ed7953"
            ],
            [
             0.7777777777777778,
             "#fb9f3a"
            ],
            [
             0.8888888888888888,
             "#fdca26"
            ],
            [
             1,
             "#f0f921"
            ]
           ],
           "sequentialminus": [
            [
             0,
             "#0d0887"
            ],
            [
             0.1111111111111111,
             "#46039f"
            ],
            [
             0.2222222222222222,
             "#7201a8"
            ],
            [
             0.3333333333333333,
             "#9c179e"
            ],
            [
             0.4444444444444444,
             "#bd3786"
            ],
            [
             0.5555555555555556,
             "#d8576b"
            ],
            [
             0.6666666666666666,
             "#ed7953"
            ],
            [
             0.7777777777777778,
             "#fb9f3a"
            ],
            [
             0.8888888888888888,
             "#fdca26"
            ],
            [
             1,
             "#f0f921"
            ]
           ]
          },
          "colorway": [
           "#636efa",
           "#EF553B",
           "#00cc96",
           "#ab63fa",
           "#FFA15A",
           "#19d3f3",
           "#FF6692",
           "#B6E880",
           "#FF97FF",
           "#FECB52"
          ],
          "font": {
           "color": "#2a3f5f"
          },
          "geo": {
           "bgcolor": "white",
           "lakecolor": "white",
           "landcolor": "#E5ECF6",
           "showlakes": true,
           "showland": true,
           "subunitcolor": "white"
          },
          "hoverlabel": {
           "align": "left"
          },
          "hovermode": "closest",
          "mapbox": {
           "style": "light"
          },
          "paper_bgcolor": "white",
          "plot_bgcolor": "#E5ECF6",
          "polar": {
           "angularaxis": {
            "gridcolor": "white",
            "linecolor": "white",
            "ticks": ""
           },
           "bgcolor": "#E5ECF6",
           "radialaxis": {
            "gridcolor": "white",
            "linecolor": "white",
            "ticks": ""
           }
          },
          "scene": {
           "xaxis": {
            "backgroundcolor": "#E5ECF6",
            "gridcolor": "white",
            "gridwidth": 2,
            "linecolor": "white",
            "showbackground": true,
            "ticks": "",
            "zerolinecolor": "white"
           },
           "yaxis": {
            "backgroundcolor": "#E5ECF6",
            "gridcolor": "white",
            "gridwidth": 2,
            "linecolor": "white",
            "showbackground": true,
            "ticks": "",
            "zerolinecolor": "white"
           },
           "zaxis": {
            "backgroundcolor": "#E5ECF6",
            "gridcolor": "white",
            "gridwidth": 2,
            "linecolor": "white",
            "showbackground": true,
            "ticks": "",
            "zerolinecolor": "white"
           }
          },
          "shapedefaults": {
           "line": {
            "color": "#2a3f5f"
           }
          },
          "ternary": {
           "aaxis": {
            "gridcolor": "white",
            "linecolor": "white",
            "ticks": ""
           },
           "baxis": {
            "gridcolor": "white",
            "linecolor": "white",
            "ticks": ""
           },
           "bgcolor": "#E5ECF6",
           "caxis": {
            "gridcolor": "white",
            "linecolor": "white",
            "ticks": ""
           }
          },
          "title": {
           "x": 0.05
          },
          "xaxis": {
           "automargin": true,
           "gridcolor": "white",
           "linecolor": "white",
           "ticks": "",
           "title": {
            "standoff": 15
           },
           "zerolinecolor": "white",
           "zerolinewidth": 2
          },
          "yaxis": {
           "automargin": true,
           "gridcolor": "white",
           "linecolor": "white",
           "ticks": "",
           "title": {
            "standoff": 15
           },
           "zerolinecolor": "white",
           "zerolinewidth": 2
          }
         }
        },
        "width": 700,
        "xaxis": {
         "anchor": "y",
         "autorange": true,
         "domain": [
          0,
          0.49
         ],
         "range": [
          -0.0021628848951983958,
          1.1021628848951985
         ],
         "title": {
          "text": "ndcg: score heuristic"
         },
         "type": "linear"
        },
        "xaxis2": {
         "anchor": "y2",
         "autorange": true,
         "domain": [
          0.51,
          1
         ],
         "matches": "x",
         "range": [
          -0.0021628848951983958,
          1.1021628848951985
         ],
         "title": {
          "text": "ndcg: score heuristic"
         },
         "type": "linear"
        },
        "yaxis": {
         "anchor": "x",
         "autorange": true,
         "domain": [
          0,
          1
         ],
         "range": [
          -0.003459119496855346,
          1.1034591194968555
         ],
         "title": {
          "text": "ndcg: linklogic"
         },
         "type": "linear"
        },
        "yaxis2": {
         "anchor": "x2",
         "autorange": true,
         "domain": [
          0,
          1
         ],
         "matches": "y",
         "range": [
          -0.003459119496855346,
          1.1034591194968555
         ],
         "showticklabels": false,
         "type": "linear"
        }
       }
      },
      "image/png": "[encoded data removed]",
      "text/html": [
       "<div>                            <div id=\"aec7d5eb-5a77-4987-a624-d6965466bad4\" class=\"plotly-graph-div\" style=\"height:300px; width:700px;\"></div>            <script type=\"text/javascript\">                require([\"plotly\"], function(Plotly) {                    window.PLOTLYENV=window.PLOTLYENV || {};                                    if (document.getElementById(\"aec7d5eb-5a77-4987-a624-d6965466bad4\")) {                    Plotly.newPlot(                        \"aec7d5eb-5a77-4987-a624-d6965466bad4\",                        [{\"customdata\": [[\"irene_doukaina_laskarina--parents--elena_of_bulgaria\", 0.9592115], [\"prince_augustus_frederick_duke_of_sussex--parents--charlotte_of_mecklenburg-strelitz\", 0.97009754], [\"chiang_wei-kuo--parents--tai_chi-tao\", 0.9765339], [\"vajirunhis--parents--savang_vadhana\", 0.9786349], [\"carlos_i_of_portugal--parents--maria_pia_of_italy\", 0.9735309], [\"alice_of_bourbon_parma--parents--louise_marie_therese_of_france\", 0.98301446], [\"theuderic_iii--parents--balthild\", 0.97680193], [\"john_iii_of_sweden--parents--gustav_i_of_sweden\", 0.9552274], [\"charlotte_princess_royal--parents--charlotte_of_mecklenburg-strelitz\", 0.9730996], [\"abdulmecid--parents--mahmud_ii\", 0.9892191], [\"sukumalmarsri--parents--mongkut\", 0.80018896], [\"geoffrey_ii_duke_of_brittany--parents--henry_ii_of_england\", 0.9751305], [\"augusta_of_cambridge--parents--princess_augusta_of_hesse-kassel\", 0.98547643], [\"duke_george_augustus_of_mecklenburg--parents--charles_louis_frederick_duke_of_mecklenburg_mirow\", 0.9752793], [\"elizabeth_medora_leigh--parents--george_byron_6th_baron_byron\", 0.96682817], [\"galeria_valeria--parents--diocletian\", 0.9601176], [\"dominik_mikolaj_radziwill--parents--aleksander_ludwik_radziwill\", 0.97936845], [\"henry_howard_7th_duke_of_norfolk--parents--henry_howard_6th_duke_of_norfolk\", 0.9702331], [\"augustus_pugin--parents--augustus_charles_pugin\", 0.98073936], [\"christian_v_of_denmark--parents--sophia_amelia_of_brunswick_luneburg\", 0.976494], [\"isabel_of_france--parents--louis_viii_of_france\", 0.8680845], [\"elisabeth_of_parma--parents--dorothea_sophie_of_neuburg\", 0.9737673], [\"richard_i_of_england--parents--henry_ii_of_england\", 0.98376], [\"alexis_i_du_pont_bayard--parents--thomas_f_bayard_jr\", 0.9787707], [\"catherine_of_braganza--parents--luisa_of_medina-sidonia\", 0.54259306], [\"theodore_ii_laskaris--parents--irene_lascarina\", 0.9648506], [\"james_stanley_10th_earl_of_derby--parents--charles_stanley_8th_earl_of_derby\", 0.9304358], [\"princess_amelia_sophia_of_great_britain--parents--george_ii_of_great_britain\", 0.9859283], [\"frances_gulick--parents--luther_gulick\", 0.941363], [\"charles_devreux--parents--margaret_of_artois\", 0.96911556], [\"antiochus_iii_the_great--parents--seleucus_ii_callinicus\", 0.9850825], [\"william_michael_rossetti--parents--gabriele_rossetti\", 0.9867381], [\"hugh_percy_3rd_duke_of_northumberland--parents--hugh_percy_2nd_duke_of_northumberland\", 0.97634536], [\"frederick_i_of_denmark--parents--dorothea_of_brandenburg\", 0.98210686], [\"ryan_patrick_bellar--parents--troy_ryan_bellar\", 0.97193855], [\"francesco_maria_ii_della_rovere--parents--guidobaldo_ii_della_rovere\", 0.9423761], [\"minamoto_no_yoriie--parents--hojo_masako\", 0.9856418], [\"frederick_terman--parents--lewis_terman\", 0.9708561], [\"catharina_of_sweden--parents--maria_of_palatinate_simmern\", 0.9608146], [\"baltasar_carlos_prince_of_asturias--parents--philip_iv_of_spain\", 0.97654176], [\"prince_henry_of_prussia--parents--sophia_dorothea_of_hanover\", 0.98229516], [\"patricia_kennedy_lawford--parents--joseph_p_kennedy_sr\", 0.73155105], [\"gabriel_de_borbon--parents--maria_amalia_of_saxony\", 0.7770967], [\"princess_cecilia_of_sweden_1807--parents--gustav_iv_adolf_of_sweden\", 0.9776373], [\"violante_of_bavaria--parents--ferdinand_maria_elector_of_bavaria\", 0.96904534], [\"franz_xaver_wolfgang_mozart--parents--wolfgang_amadeus_mozart\", 0.61086947], [\"hans_albert_einstein--parents--mileva_maric\", 0.98081756], [\"vilhelmine_marie_of_denmark--parents--frederick_vi_of_denmark\", 0.9696176], [\"princess_viktoria_of_prussia--parents--victoria_princess_royal\", 0.9627752], [\"james_rudolph_garfield--parents--james_garfield\", 0.9808333], [\"dorothea_of_denmark_electress_palatine--parents--christian_ii_of_denmark\", 0.4386606], [\"maria_christina_of_the_two_sicilies--parents--maria_isabella_of_spain\", 0.7103085], [\"maria_luisa_of_savoy--parents--victor_amadeus_ii_of_sardinia\", 0.96920353], [\"marie_of_brienne--parents--berenguela_of_leon\", 0.97387797], [\"maria_isabel_of_portugal--parents--john_vi_of_portugal\", 0.9896506], [\"emperor_komei--parents--emperor_ninko\", 0.9812971], [\"hugh_oconnor--parents--carroll_oconnor\", 0.9565969], [\"svetoslav_roerich--parents--nicholas_roerich\", 0.97442687], [\"prince_maurice_of_battenberg--parents--princess_beatrice_of_the_united_kingdom\", 0.9254762], [\"adolphe_grand_duke_of_luxembourg--parents--wilhelm_duke_of_nassau\", 0.9751066], [\"henry_iii_of_france--parents--henry_ii_of_france\", 0.9642366], [\"henry_herbert_2nd_earl_of_pembroke--parents--anne_herbert_countess_of_pembroke\", 0.9682901], [\"princess_ileana_of_romania--parents--marie_of_edinburgh\", 0.9851478], [\"theodosius_ii--parents--aelia_eudoxia\", 0.6729651], [\"clementine_of_orleans--parents--maria_amalia_of_the_two_sicilies\", 0.9749135], [\"enno_louis_prince_of_ostfriesland--parents--ulrich_ii_count_of_ostfriesland\", 0.97741574], [\"john_i_of_france--parents--louis_x_of_france\", 0.023947218], [\"aleksandar_obrenovic--parents--natalija_obrenovic\", 0.9815599], [\"publius_septimius_geta--parents--julia_domna\", 0.9722038], [\"elliott_roosevelt_i--parents--theodore_roosevelt_sr\", 0.97683126], [\"cleopatra_thea--parents--cleopatra_ii_of_egypt\", 0.9881151], [\"philippe_ii_duke_of_orleans--parents--philippe_i_duke_of_orleans\", 0.84335303], [\"princess_elizabeth_of_the_united_kingdom--parents--george_iii_of_the_united_kingdom\", 0.9633542], [\"lady_jane_grey--parents--lady_frances_brandon\", 0.98196423], [\"anne_of_great_britain--parents--anne_hyde\", 0.96934223], [\"jovan_vladimir--parents--petrislav_of_duklja_and_travunia\", 0.9737017], [\"lindsay_crosby--parents--bing_crosby\", 0.96038955], [\"princess_adelgunde_of_bavaria--parents--therese_of_saxe_hildburghausen\", 0.98799706], [\"mary_plantagenet--parents--edward_iii_of_england\", 0.9811323], [\"rudolph_i_of_bohemia--parents--albert_i_of_germany\", 0.97996587], [\"harald_v_of_norway--parents--princess_martha_of_sweden\", 0.038780075], [\"margaret_of_york--parents--cecily_neville\", 0.9874077], [\"louise_marie_adelaide_de_bourbon_penthievre--parents--maria_teresa_deste\", 0.97583395], [\"ptolemy_x_alexander_i--parents--berenice_iii_of_egypt\", 0.96424174], [\"charles_ii_gonzaga--parents--charles_i_duke_of_mantua\", 0.9748905], [\"prince_willem_of_the_netherlands--parents--william_iii_of_the_netherlands\", 0.9858641], [\"meredith_macrae--parents--gordon_macrae\", 0.9395109], [\"edward_the_martyr--parents--edgar_of_england\", 0.9623234], [\"sebastian_of_portugal--parents--john_crown_prince_of_portugal\", 0.97903824], [\"pierre_koechlin--parents--emma_rossier\", 0.9553046], [\"philip_ii_duke_of_burgundy--parents--bonne_of_bohemia\", 0.967347], [\"mary_shelley--parents--mary_wollstonecraft\", 0.96337235], [\"frederick_ix_of_denmark--parents--christian_x_of_denmark\", 0.9503574], [\"stefan_uro_ii_milutin_of_serbia--parents--helene_danjou\", 0.97644687], [\"archduchess_luise_princess_of_tuscany--parents--ferdinand_iv_grand_duke_of_tuscany\", 0.9771985], [\"george_crown_prince_of_serbia--parents--zorka_of_montenegro\", 0.9777884], [\"john_ii_of_france--parents--philip_vi_of_france\", 0.97351474], [\"albert_francis_capone--parents--mae_capone\", 0.9512877]], \"hovertemplate\": \"experiment=with parent--child path<br>ndcg: score heuristic=%{x}<br>ndcg: linklogic=%{y}<br>query triple=%{customdata[0]}<br>kge score=%{customdata[1]}<br>num true=%{marker.color}<extra></extra>\", \"legendgroup\": \"\", \"marker\": {\"color\": [2, 18, 1, 8, 2, 2, 5, 6, 18, 5, 1, 11, 7, 1, 1, 1, 1, 1, 1, 7, 9, 1, 11, 1, 9, 2, 1, 11, 1, 1, 1, 2, 1, 7, 6, 1, 6, 1, 5, 6, 14, 11, 8, 7, 1, 6, 6, 3, 11, 5, 6, 8, 7, 2, 1, 1, 1, 1, 8, 1, 11, 5, 9, 6, 12, 1, 3, 5, 6, 8, 1, 5, 18, 3, 6, 1, 6, 5, 11, 1, 3, 10, 6, 1, 1, 6, 1, 1, 1, 2, 7, 5, 6, 6, 6, 3, 5, 5], \"coloraxis\": \"coloraxis\", \"line\": {\"color\": \"lightgrey\", \"width\": 0.5}, \"opacity\": 0.5, \"size\": 8, \"symbol\": \"circle\"}, \"mode\": \"markers\", \"name\": \"\", \"orientation\": \"v\", \"showlegend\": false, \"type\": \"scatter\", \"x\": [0.7601875334318686, 0.6349473489247037, 0.2702381544273198, 0.6734380041016965, 0.2345350139058422, 0.2537579740823649, 0.7818716154833572, 0.7071644734075845, 0.6272827338161849, 0.7477104077563566, 0.1556113914024948, 0.6489120469130581, 0.7552679722587853, 0.20584683246043411, 0.20584683246043411, 0.6309297535714573, 0.27894294565112965, 0.35620718710802235, 0.38685280723454163, 0.7014828362680585, 0.7020146759297301, 0.1934264036172717, 0.6509174518309936, 0.3154648767857289, 0.7047738323495353, 0.528721709100536, 0.2446505421182259, 0.6841359870631218, 1.0, 0.25, 0.2626495350371938, 0.7550160946314528, 0.27894294565112965, 0.7023868769945093, 0.8132170337247846, 0.2446505421182259, 0.7653260579710817, 0.6309297535714573, 0.7936274918804078, 0.7133722443205813, 0.6470955066866998, 0.6567272123975986, 0.7097880704794663, 0.7365799493823483, 0.20584683246043411, 0.7532822872352406, 0.8148357925907197, 0.3344801617544709, 0.6673153605104437, 0.8284871148613753, 0.7539879420670791, 0.3306839837297162, 0.7293586859518872, 0.7700871371433883, 0.1781035935540114, 0.28906482631788766, 1.0, 0.2559580248098152, 0.7171460646554005, 0.23981246656813138, 0.6674547374095868, 0.7642356891596209, 0.6889962737290569, 0.7780633070454531, 0.6564423499740621, 0.2446505421182259, 0.39172824101829434, 0.8478894976690764, 0.8148357925907197, 0.7271406107652886, 0.203795047090507, 0.7133501246270715, 0.6337762918002307, 0.6527899118999849, 0.7305267933175935, 1.0, 0.8166387052778556, 0.7294244963708625, 0.6790291697565858, 0.20584683246043411, 0.8212377705398239, 0.6756391932512326, 0.7065460243869306, 0.21810429198553116, 0.25, 0.7159345429922859, 0.38685280723454163, 0.21810429198553116, 0.22767024869695263, 0.7435918382736327, 0.7139856361407606, 0.7855122558711002, 0.7443797758037959, 0.776235588663005, 0.7653260579710817, 0.3053719715616364, 0.7467506964951488, 0.8677993508399438], \"xaxis\": \"x\", \"y\": [0.48776075054479806, 0.6092527132027836, 1.0, 0.6384259180401751, 0.7000336335114942, 0.8503449055347547, 0.723857323088043, 0.6762173394937626, 0.6094657016644492, 0.666648349289507, 0.14754941770219818, 0.6658781379924563, 0.6598918828131346, 1.0, 1.0, 1.0, 1.0, 1.0, 1.0, 0.6603472768884403, 0.7699855029446265, 1.0, 0.7074251862568188, 1.0, 0.712319308490778, 0.40798240788333795, 1.0, 0.6743832245046106, 1.0, 1.0, 1.0, 0.48747797288598427, 1.0, 0.7580121007710121, 0.695914056916074, 1.0, 0.7760807648586717, 1.0, 0.7144967240699822, 0.6630398605463074, 0.6084514453016237, 0.615506157987931, 0.7253020469287095, 0.6634703134465623, 1.0, 0.7247413225599921, 0.675826773897044, 0.7743218278040905, 0.6225341548494877, 0.7150419553065037, 0.8750665828930406, 0.6363929689147251, 0.7490553374249811, 0.4871361476232385, 1.0, 1.0, 1.0, 1.0, 0.7344402967692681, 1.0, 0.6805948288951335, 0.7004758133255414, 0.62888442142998, 0.8682232910135951, 0.611486925469134, 1.0, 0.23390051054845068, 0.8254308268062928, 0.7845963602772998, 0.6354806480592526, 1.0, 0.8291907692482976, 0.654484255257234, 0.8314094954827773, 0.7778181929007507, 1.0, 0.7956151315474075, 0.705413758392885, 0.6796503354437324, 1.0, 0.23991695079237946, 0.6135621657736334, 0.6750558494370332, 1.0, 1.0, 0.7548966277595758, 1.0, 1.0, 1.0, 0.48960820155674906, 0.6638906153945974, 0.7130029925002522, 0.6751698314270804, 0.7852125729662535, 0.7849175787532812, 0.740489838488932, 0.7093957590827213, 0.7185084444715345], \"yaxis\": \"y\"}, {\"customdata\": [[\"irene_doukaina_laskarina--parents--elena_of_bulgaria\", 0.9592115], [\"prince_augustus_frederick_duke_of_sussex--parents--charlotte_of_mecklenburg-strelitz\", 0.97009754], [\"vajirunhis--parents--savang_vadhana\", 0.9786349], [\"carlos_i_of_portugal--parents--maria_pia_of_italy\", 0.9735309], [\"alice_of_bourbon_parma--parents--louise_marie_therese_of_france\", 0.98301446], [\"theuderic_iii--parents--balthild\", 0.97680193], [\"john_iii_of_sweden--parents--gustav_i_of_sweden\", 0.9552274], [\"charlotte_princess_royal--parents--charlotte_of_mecklenburg-strelitz\", 0.9730996], [\"abdulmecid--parents--mahmud_ii\", 0.9892191], [\"geoffrey_ii_duke_of_brittany--parents--henry_ii_of_england\", 0.9751305], [\"augusta_of_cambridge--parents--princess_augusta_of_hesse-kassel\", 0.98547643], [\"christian_v_of_denmark--parents--sophia_amelia_of_brunswick_luneburg\", 0.976494], [\"isabel_of_france--parents--louis_viii_of_france\", 0.8680845], [\"richard_i_of_england--parents--henry_ii_of_england\", 0.98376], [\"catherine_of_braganza--parents--luisa_of_medina-sidonia\", 0.54259306], [\"theodore_ii_laskaris--parents--irene_lascarina\", 0.9648506], [\"princess_amelia_sophia_of_great_britain--parents--george_ii_of_great_britain\", 0.9859283], [\"william_michael_rossetti--parents--gabriele_rossetti\", 0.9867381], [\"frederick_i_of_denmark--parents--dorothea_of_brandenburg\", 0.98210686], [\"ryan_patrick_bellar--parents--troy_ryan_bellar\", 0.97193855], [\"minamoto_no_yoriie--parents--hojo_masako\", 0.9856418], [\"catharina_of_sweden--parents--maria_of_palatinate_simmern\", 0.9608146], [\"baltasar_carlos_prince_of_asturias--parents--philip_iv_of_spain\", 0.97654176], [\"prince_henry_of_prussia--parents--sophia_dorothea_of_hanover\", 0.98229516], [\"patricia_kennedy_lawford--parents--joseph_p_kennedy_sr\", 0.73155105], [\"gabriel_de_borbon--parents--maria_amalia_of_saxony\", 0.7770967], [\"princess_cecilia_of_sweden_1807--parents--gustav_iv_adolf_of_sweden\", 0.9776373], [\"franz_xaver_wolfgang_mozart--parents--wolfgang_amadeus_mozart\", 0.61086947], [\"hans_albert_einstein--parents--mileva_maric\", 0.98081756], [\"vilhelmine_marie_of_denmark--parents--frederick_vi_of_denmark\", 0.9696176], [\"princess_viktoria_of_prussia--parents--victoria_princess_royal\", 0.9627752], [\"james_rudolph_garfield--parents--james_garfield\", 0.9808333], [\"dorothea_of_denmark_electress_palatine--parents--christian_ii_of_denmark\", 0.4386606], [\"maria_christina_of_the_two_sicilies--parents--maria_isabella_of_spain\", 0.7103085], [\"maria_luisa_of_savoy--parents--victor_amadeus_ii_of_sardinia\", 0.96920353], [\"marie_of_brienne--parents--berenguela_of_leon\", 0.97387797], [\"prince_maurice_of_battenberg--parents--princess_beatrice_of_the_united_kingdom\", 0.9254762], [\"henry_iii_of_france--parents--henry_ii_of_france\", 0.9642366], [\"henry_herbert_2nd_earl_of_pembroke--parents--anne_herbert_countess_of_pembroke\", 0.9682901], [\"princess_ileana_of_romania--parents--marie_of_edinburgh\", 0.9851478], [\"theodosius_ii--parents--aelia_eudoxia\", 0.6729651], [\"clementine_of_orleans--parents--maria_amalia_of_the_two_sicilies\", 0.9749135], [\"john_i_of_france--parents--louis_x_of_france\", 0.023947218], [\"aleksandar_obrenovic--parents--natalija_obrenovic\", 0.9815599], [\"publius_septimius_geta--parents--julia_domna\", 0.9722038], [\"elliott_roosevelt_i--parents--theodore_roosevelt_sr\", 0.97683126], [\"philippe_ii_duke_of_orleans--parents--philippe_i_duke_of_orleans\", 0.84335303], [\"princess_elizabeth_of_the_united_kingdom--parents--george_iii_of_the_united_kingdom\", 0.9633542], [\"lady_jane_grey--parents--lady_frances_brandon\", 0.98196423], [\"anne_of_great_britain--parents--anne_hyde\", 0.96934223], [\"lindsay_crosby--parents--bing_crosby\", 0.96038955], [\"princess_adelgunde_of_bavaria--parents--therese_of_saxe_hildburghausen\", 0.98799706], [\"mary_plantagenet--parents--edward_iii_of_england\", 0.9811323], [\"harald_v_of_norway--parents--princess_martha_of_sweden\", 0.038780075], [\"margaret_of_york--parents--cecily_neville\", 0.9874077], [\"louise_marie_adelaide_de_bourbon_penthievre--parents--maria_teresa_deste\", 0.97583395], [\"prince_willem_of_the_netherlands--parents--william_iii_of_the_netherlands\", 0.9858641], [\"pierre_koechlin--parents--emma_rossier\", 0.9553046], [\"philip_ii_duke_of_burgundy--parents--bonne_of_bohemia\", 0.967347], [\"mary_shelley--parents--mary_wollstonecraft\", 0.96337235], [\"frederick_ix_of_denmark--parents--christian_x_of_denmark\", 0.9503574], [\"stefan_uro_ii_milutin_of_serbia--parents--helene_danjou\", 0.97644687], [\"archduchess_luise_princess_of_tuscany--parents--ferdinand_iv_grand_duke_of_tuscany\", 0.9771985], [\"george_crown_prince_of_serbia--parents--zorka_of_montenegro\", 0.9777884], [\"john_ii_of_france--parents--philip_vi_of_france\", 0.97351474], [\"albert_francis_capone--parents--mae_capone\", 0.9512877]], \"hovertemplate\": \"experiment=without parent--child path<br>ndcg: score heuristic=%{x}<br>ndcg: linklogic=%{y}<br>query triple=%{customdata[0]}<br>kge score=%{customdata[1]}<br>num true=%{marker.color}<extra></extra>\", \"legendgroup\": \"\", \"marker\": {\"color\": [2, 17, 7, 1, 1, 4, 5, 17, 4, 10, 6, 6, 8, 10, 8, 2, 10, 2, 6, 5, 5, 4, 5, 13, 10, 7, 6, 5, 5, 2, 10, 4, 5, 7, 6, 2, 7, 10, 4, 8, 5, 11, 3, 4, 5, 7, 4, 17, 2, 5, 5, 4, 10, 3, 9, 5, 5, 2, 6, 4, 5, 5, 5, 2, 4, 4], \"coloraxis\": \"coloraxis\", \"line\": {\"color\": \"lightgrey\", \"width\": 0.5}, \"opacity\": 0.5, \"size\": 8, \"symbol\": \"circle\"}, \"mode\": \"markers\", \"name\": \"\", \"orientation\": \"v\", \"showlegend\": false, \"type\": \"scatter\", \"x\": [0.7601875334318686, 0.634042350980918, 0.6850936064269968, 0.19195872000656067, 0.20801459767650954, 0.8158858002212522, 0.7344517662196706, 0.6265083966031922, 0.7849299544487798, 0.6527060051101697, 0.7653260579710817, 0.7171084551052197, 0.7082560532107725, 0.654439990871181, 0.7164371259727549, 0.528721709100536, 0.6856498493434255, 0.7550160946314528, 0.7181237190714869, 0.8241968959615449, 0.782651692753787, 0.8246028896512471, 0.7387900512627676, 0.6475560781359946, 0.6626150269462306, 0.7209876194963977, 0.747605700632022, 0.7844962625812714, 0.8262176208790671, 0.30657830235404177, 0.6702011796231969, 0.8510717840361741, 0.7840187458633483, 0.3197656626472887, 0.742379853067411, 0.7700871371433883, 0.7261642049960467, 0.6704686207249967, 0.8000927505012357, 0.6943541753093309, 0.8022470948000863, 0.6585207248942736, 0.39172824101829434, 0.8670436848381937, 0.8284871148613753, 0.7339848671103727, 0.7616601053517781, 0.632666194950521, 0.7299832563724273, 0.7531007563216909, 0.8284871148613753, 0.7723602432858477, 0.6815113511529666, 0.8212377705398239, 0.6798550321449619, 0.7337586015671783, 0.7406705580775249, 0.7435918382736327, 0.7295081641093021, 0.8178407567289051, 0.7658500885823333, 0.7927969330483376, 0.7838137995835671, 0.27004001937292454, 0.7871291025593156, 0.8899603164338973], \"xaxis\": \"x2\", \"y\": [0.8772153153380493, 0.7411408622469681, 0.652993903680792, 1.0, 1.0, 0.5715283746125056, 0.5917075230795367, 0.6601182520956916, 0.5624143340581098, 0.7901324201708695, 0.8323632350770419, 0.7921073001740266, 0.7903676684932905, 0.8058966939923989, 0.7287523190485362, 0.33938002996514044, 0.7988569248245329, 0.7129202566240332, 0.7366832445834179, 0.8118136885039015, 0.7254642897780326, 0.7858693917829511, 0.530719967199298, 0.7174080526252664, 0.621747194131888, 0.6508750843922125, 0.7635864299546694, 0.7598813109881424, 0.8004499962373202, 0.7043931176209913, 0.8128597583308579, 0.5387708045176791, 0.9248498246554006, 0.5858594760258999, 0.7791479281640616, 0.8772153153380493, 0.6625591345607268, 0.7267754175961432, 0.6980952217002588, 0.6956888906661687, 0.8277196447152774, 0.6132829114745099, 0.23390051054845068, 0.8907069193043863, 0.82724100552035, 0.6489946063977824, 0.8146511807800373, 0.6997067423626695, 0.39290969152707206, 0.8221551435973103, 0.9247300161066202, 0.6562770077409349, 0.7931321053041396, 0.23991695079237946, 0.7350574953370291, 0.8229741179680348, 0.7015619045135694, 0.57064171895532, 0.751286592144501, 0.7065107602008984, 0.7050387803027314, 0.7106120647067947, 0.8281798079980556, 0.6934264036172708, 0.7055554549634009, 0.7601114827373792], \"yaxis\": \"y2\"}],                        {\"annotations\": [{\"font\": {}, \"showarrow\": false, \"text\": \"experiment=with parent--child path\", \"x\": 0.245, \"xanchor\": \"center\", \"xref\": \"paper\", \"y\": 1.0, \"yanchor\": \"bottom\", \"yref\": \"paper\"}, {\"font\": {}, \"showarrow\": false, \"text\": \"experiment=without parent--child path\", \"x\": 0.755, \"xanchor\": \"center\", \"xref\": \"paper\", \"y\": 1.0, \"yanchor\": \"bottom\", \"yref\": \"paper\"}], \"coloraxis\": {\"colorbar\": {\"title\": {\"text\": \"num true\"}}, \"colorscale\": [[0.0, \"rgb(253, 237, 176)\"], [0.09090909090909091, \"rgb(250, 205, 145)\"], [0.18181818181818182, \"rgb(246, 173, 119)\"], [0.2727272727272727, \"rgb(240, 142, 98)\"], [0.36363636363636365, \"rgb(231, 109, 84)\"], [0.45454545454545453, \"rgb(216, 80, 83)\"], [0.5454545454545454, \"rgb(195, 56, 90)\"], [0.6363636363636364, \"rgb(168, 40, 96)\"], [0.7272727272727273, \"rgb(138, 29, 99)\"], [0.8181818181818182, \"rgb(107, 24, 93)\"], [0.9090909090909091, \"rgb(76, 21, 80)\"], [1.0, \"rgb(47, 15, 61)\"]]}, \"height\": 300, \"legend\": {\"tracegroupgap\": 0}, \"margin\": {\"t\": 60}, \"plot_bgcolor\": \"#f0f0f0\", \"shapes\": [{\"line\": {\"color\": \"gray\", \"dash\": \"dot\", \"width\": 1}, \"type\": \"line\", \"x0\": 0, \"x1\": 1.1, \"xref\": \"x\", \"y0\": 0, \"y1\": 1.1, \"yref\": \"y\"}, {\"line\": {\"color\": \"gray\", \"dash\": \"dot\", \"width\": 1}, \"type\": \"line\", \"x0\": 0, \"x1\": 1.1, \"xref\": \"x2\", \"y0\": 0, \"y1\": 1.1, \"yref\": \"y2\"}], \"template\": {\"data\": {\"bar\": [{\"error_x\": {\"color\": \"#2a3f5f\"}, \"error_y\": {\"color\": \"#2a3f5f\"}, \"marker\": {\"line\": {\"color\": \"#E5ECF6\", \"width\": 0.5}}, \"type\": \"bar\"}], \"barpolar\": [{\"marker\": {\"line\": {\"color\": \"#E5ECF6\", \"width\": 0.5}}, \"type\": \"barpolar\"}], \"carpet\": [{\"aaxis\": {\"endlinecolor\": \"#2a3f5f\", \"gridcolor\": \"white\", \"linecolor\": \"white\", \"minorgridcolor\": \"white\", \"startlinecolor\": \"#2a3f5f\"}, \"baxis\": {\"endlinecolor\": \"#2a3f5f\", \"gridcolor\": \"white\", \"linecolor\": \"white\", \"minorgridcolor\": \"white\", \"startlinecolor\": \"#2a3f5f\"}, \"type\": \"carpet\"}], \"choropleth\": [{\"colorbar\": {\"outlinewidth\": 0, \"ticks\": \"\"}, \"type\": \"choropleth\"}], \"contour\": [{\"colorbar\": {\"outlinewidth\": 0, \"ticks\": \"\"}, \"colorscale\": [[0.0, \"#0d0887\"], [0.1111111111111111, \"#46039f\"], [0.2222222222222222, \"#7201a8\"], [0.3333333333333333, \"#9c179e\"], [0.4444444444444444, \"#bd3786\"], [0.5555555555555556, \"#d8576b\"], [0.6666666666666666, \"#ed7953\"], [0.7777777777777778, \"#fb9f3a\"], [0.8888888888888888, \"#fdca26\"], [1.0, \"#f0f921\"]], \"type\": \"contour\"}], \"contourcarpet\": [{\"colorbar\": {\"outlinewidth\": 0, \"ticks\": \"\"}, \"type\": \"contourcarpet\"}], \"heatmap\": [{\"colorbar\": {\"outlinewidth\": 0, \"ticks\": \"\"}, \"colorscale\": [[0.0, \"#0d0887\"], [0.1111111111111111, \"#46039f\"], [0.2222222222222222, \"#7201a8\"], [0.3333333333333333, \"#9c179e\"], [0.4444444444444444, \"#bd3786\"], [0.5555555555555556, \"#d8576b\"], [0.6666666666666666, \"#ed7953\"], [0.7777777777777778, \"#fb9f3a\"], [0.8888888888888888, \"#fdca26\"], [1.0, \"#f0f921\"]], \"type\": \"heatmap\"}], \"heatmapgl\": [{\"colorbar\": {\"outlinewidth\": 0, \"ticks\": \"\"}, \"colorscale\": [[0.0, \"#0d0887\"], [0.1111111111111111, \"#46039f\"], [0.2222222222222222, \"#7201a8\"], [0.3333333333333333, \"#9c179e\"], [0.4444444444444444, \"#bd3786\"], [0.5555555555555556, \"#d8576b\"], [0.6666666666666666, \"#ed7953\"], [0.7777777777777778, \"#fb9f3a\"], [0.8888888888888888, \"#fdca26\"], [1.0, \"#f0f921\"]], \"type\": \"heatmapgl\"}], \"histogram\": [{\"marker\": {\"colorbar\": {\"outlinewidth\": 0, \"ticks\": \"\"}}, \"type\": \"histogram\"}], \"histogram2d\": [{\"colorbar\": {\"outlinewidth\": 0, \"ticks\": \"\"}, \"colorscale\": [[0.0, \"#0d0887\"], [0.1111111111111111, \"#46039f\"], [0.2222222222222222, \"#7201a8\"], [0.3333333333333333, \"#9c179e\"], [0.4444444444444444, \"#bd3786\"], [0.5555555555555556, \"#d8576b\"], [0.6666666666666666, \"#ed7953\"], [0.7777777777777778, \"#fb9f3a\"], [0.8888888888888888, \"#fdca26\"], [1.0, \"#f0f921\"]], \"type\": \"histogram2d\"}], \"histogram2dcontour\": [{\"colorbar\": {\"outlinewidth\": 0, \"ticks\": \"\"}, \"colorscale\": [[0.0, \"#0d0887\"], [0.1111111111111111, \"#46039f\"], [0.2222222222222222, \"#7201a8\"], [0.3333333333333333, \"#9c179e\"], [0.4444444444444444, \"#bd3786\"], [0.5555555555555556, \"#d8576b\"], [0.6666666666666666, \"#ed7953\"], [0.7777777777777778, \"#fb9f3a\"], [0.8888888888888888, \"#fdca26\"], [1.0, \"#f0f921\"]], \"type\": \"histogram2dcontour\"}], \"mesh3d\": [{\"colorbar\": {\"outlinewidth\": 0, \"ticks\": \"\"}, \"type\": \"mesh3d\"}], \"parcoords\": [{\"line\": {\"colorbar\": {\"outlinewidth\": 0, \"ticks\": \"\"}}, \"type\": \"parcoords\"}], \"pie\": [{\"automargin\": true, \"type\": \"pie\"}], \"scatter\": [{\"marker\": {\"colorbar\": {\"outlinewidth\": 0, \"ticks\": \"\"}}, \"type\": \"scatter\"}], \"scatter3d\": [{\"line\": {\"colorbar\": {\"outlinewidth\": 0, \"ticks\": \"\"}}, \"marker\": {\"colorbar\": {\"outlinewidth\": 0, \"ticks\": \"\"}}, \"type\": \"scatter3d\"}], \"scattercarpet\": [{\"marker\": {\"colorbar\": {\"outlinewidth\": 0, \"ticks\": \"\"}}, \"type\": \"scattercarpet\"}], \"scattergeo\": [{\"marker\": {\"colorbar\": {\"outlinewidth\": 0, \"ticks\": \"\"}}, \"type\": \"scattergeo\"}], \"scattergl\": [{\"marker\": {\"colorbar\": {\"outlinewidth\": 0, \"ticks\": \"\"}}, \"type\": \"scattergl\"}], \"scattermapbox\": [{\"marker\": {\"colorbar\": {\"outlinewidth\": 0, \"ticks\": \"\"}}, \"type\": \"scattermapbox\"}], \"scatterpolar\": [{\"marker\": {\"colorbar\": {\"outlinewidth\": 0, \"ticks\": \"\"}}, \"type\": \"scatterpolar\"}], \"scatterpolargl\": [{\"marker\": {\"colorbar\": {\"outlinewidth\": 0, \"ticks\": \"\"}}, \"type\": \"scatterpolargl\"}], \"scatterternary\": [{\"marker\": {\"colorbar\": {\"outlinewidth\": 0, \"ticks\": \"\"}}, \"type\": \"scatterternary\"}], \"surface\": [{\"colorbar\": {\"outlinewidth\": 0, \"ticks\": \"\"}, \"colorscale\": [[0.0, \"#0d0887\"], [0.1111111111111111, \"#46039f\"], [0.2222222222222222, \"#7201a8\"], [0.3333333333333333, \"#9c179e\"], [0.4444444444444444, \"#bd3786\"], [0.5555555555555556, \"#d8576b\"], [0.6666666666666666, \"#ed7953\"], [0.7777777777777778, \"#fb9f3a\"], [0.8888888888888888, \"#fdca26\"], [1.0, \"#f0f921\"]], \"type\": \"surface\"}], \"table\": [{\"cells\": {\"fill\": {\"color\": \"#EBF0F8\"}, \"line\": {\"color\": \"white\"}}, \"header\": {\"fill\": {\"color\": \"#C8D4E3\"}, \"line\": {\"color\": \"white\"}}, \"type\": \"table\"}]}, \"layout\": {\"annotationdefaults\": {\"arrowcolor\": \"#2a3f5f\", \"arrowhead\": 0, \"arrowwidth\": 1}, \"autotypenumbers\": \"strict\", \"coloraxis\": {\"colorbar\": {\"outlinewidth\": 0, \"ticks\": \"\"}}, \"colorscale\": {\"diverging\": [[0, \"#8e0152\"], [0.1, \"#c51b7d\"], [0.2, \"#de77ae\"], [0.3, \"#f1b6da\"], [0.4, \"#fde0ef\"], [0.5, \"#f7f7f7\"], [0.6, \"#e6f5d0\"], [0.7, \"#b8e186\"], [0.8, \"#7fbc41\"], [0.9, \"#4d9221\"], [1, \"#276419\"]], \"sequential\": [[0.0, \"#0d0887\"], [0.1111111111111111, \"#46039f\"], [0.2222222222222222, \"#7201a8\"], [0.3333333333333333, \"#9c179e\"], [0.4444444444444444, \"#bd3786\"], [0.5555555555555556, \"#d8576b\"], [0.6666666666666666, \"#ed7953\"], [0.7777777777777778, \"#fb9f3a\"], [0.8888888888888888, \"#fdca26\"], [1.0, \"#f0f921\"]], \"sequentialminus\": [[0.0, \"#0d0887\"], [0.1111111111111111, \"#46039f\"], [0.2222222222222222, \"#7201a8\"], [0.3333333333333333, \"#9c179e\"], [0.4444444444444444, \"#bd3786\"], [0.5555555555555556, \"#d8576b\"], [0.6666666666666666, \"#ed7953\"], [0.7777777777777778, \"#fb9f3a\"], [0.8888888888888888, \"#fdca26\"], [1.0, \"#f0f921\"]]}, \"colorway\": [\"#636efa\", \"#EF553B\", \"#00cc96\", \"#ab63fa\", \"#FFA15A\", \"#19d3f3\", \"#FF6692\", \"#B6E880\", \"#FF97FF\", \"#FECB52\"], \"font\": {\"color\": \"#2a3f5f\"}, \"geo\": {\"bgcolor\": \"white\", \"lakecolor\": \"white\", \"landcolor\": \"#E5ECF6\", \"showlakes\": true, \"showland\": true, \"subunitcolor\": \"white\"}, \"hoverlabel\": {\"align\": \"left\"}, \"hovermode\": \"closest\", \"mapbox\": {\"style\": \"light\"}, \"paper_bgcolor\": \"white\", \"plot_bgcolor\": \"#E5ECF6\", \"polar\": {\"angularaxis\": {\"gridcolor\": \"white\", \"linecolor\": \"white\", \"ticks\": \"\"}, \"bgcolor\": \"#E5ECF6\", \"radialaxis\": {\"gridcolor\": \"white\", \"linecolor\": \"white\", \"ticks\": \"\"}}, \"scene\": {\"xaxis\": {\"backgroundcolor\": \"#E5ECF6\", \"gridcolor\": \"white\", \"gridwidth\": 2, \"linecolor\": \"white\", \"showbackground\": true, \"ticks\": \"\", \"zerolinecolor\": \"white\"}, \"yaxis\": {\"backgroundcolor\": \"#E5ECF6\", \"gridcolor\": \"white\", \"gridwidth\": 2, \"linecolor\": \"white\", \"showbackground\": true, \"ticks\": \"\", \"zerolinecolor\": \"white\"}, \"zaxis\": {\"backgroundcolor\": \"#E5ECF6\", \"gridcolor\": \"white\", \"gridwidth\": 2, \"linecolor\": \"white\", \"showbackground\": true, \"ticks\": \"\", \"zerolinecolor\": \"white\"}}, \"shapedefaults\": {\"line\": {\"color\": \"#2a3f5f\"}}, \"ternary\": {\"aaxis\": {\"gridcolor\": \"white\", \"linecolor\": \"white\", \"ticks\": \"\"}, \"baxis\": {\"gridcolor\": \"white\", \"linecolor\": \"white\", \"ticks\": \"\"}, \"bgcolor\": \"#E5ECF6\", \"caxis\": {\"gridcolor\": \"white\", \"linecolor\": \"white\", \"ticks\": \"\"}}, \"title\": {\"x\": 0.05}, \"xaxis\": {\"automargin\": true, \"gridcolor\": \"white\", \"linecolor\": \"white\", \"ticks\": \"\", \"title\": {\"standoff\": 15}, \"zerolinecolor\": \"white\", \"zerolinewidth\": 2}, \"yaxis\": {\"automargin\": true, \"gridcolor\": \"white\", \"linecolor\": \"white\", \"ticks\": \"\", \"title\": {\"standoff\": 15}, \"zerolinecolor\": \"white\", \"zerolinewidth\": 2}}}, \"width\": 700, \"xaxis\": {\"anchor\": \"y\", \"domain\": [0.0, 0.49], \"title\": {\"text\": \"ndcg: score heuristic\"}}, \"xaxis2\": {\"anchor\": \"y2\", \"domain\": [0.51, 1.0], \"matches\": \"x\", \"title\": {\"text\": \"ndcg: score heuristic\"}}, \"yaxis\": {\"anchor\": \"x\", \"domain\": [0.0, 1.0], \"title\": {\"text\": \"ndcg: linklogic\"}}, \"yaxis2\": {\"anchor\": \"x2\", \"domain\": [0.0, 1.0], \"matches\": \"y\", \"showticklabels\": false}},                        {\"responsive\": true}                    ).then(function(){\n",
       "                            \n",
       "var gd = document.getElementById('aec7d5eb-5a77-4987-a624-d6965466bad4');\n",
       "var x = new MutationObserver(function (mutations, observer) {{\n",
       "        var display = window.getComputedStyle(gd).display;\n",
       "        if (!display || display === 'none') {{\n",
       "            console.log([gd, 'removed!']);\n",
       "            Plotly.purge(gd);\n",
       "            observer.disconnect();\n",
       "        }}\n",
       "}});\n",
       "\n",
       "// Listen for the removal of the full notebook cells\n",
       "var notebookContainer = gd.closest('#notebook-container');\n",
       "if (notebookContainer) {{\n",
       "    x.observe(notebookContainer, {childList: true});\n",
       "}}\n",
       "\n",
       "// Listen for the clearing of the current output cell\n",
       "var outputEl = gd.closest('.output');\n",
       "if (outputEl) {{\n",
       "    x.observe(outputEl, {childList: true});\n",
       "}}\n",
       "\n",
       "                        })                };                });            </script>        </div>"
      ]
     },
     "metadata": {},
     "output_type": "display_data"
    },
    {
     "data": {
      "application/vnd.plotly.v1+json": {
       "config": {
        "plotlyServerURL": "https://plot.ly"
       },
       "data": [
        {
         "customdata": [
          [
           "irene_doukaina_laskarina--parents--elena_of_bulgaria",
           0.9592115
          ],
          [
           "prince_augustus_frederick_duke_of_sussex--parents--charlotte_of_mecklenburg-strelitz",
           0.97009754
          ],
          [
           "chiang_wei-kuo--parents--tai_chi-tao",
           0.9765339
          ],
          [
           "vajirunhis--parents--savang_vadhana",
           0.9786349
          ],
          [
           "carlos_i_of_portugal--parents--maria_pia_of_italy",
           0.9735309
          ],
          [
           "alice_of_bourbon_parma--parents--louise_marie_therese_of_france",
           0.98301446
          ],
          [
           "theuderic_iii--parents--balthild",
           0.97680193
          ],
          [
           "john_iii_of_sweden--parents--gustav_i_of_sweden",
           0.9552274
          ],
          [
           "charlotte_princess_royal--parents--charlotte_of_mecklenburg-strelitz",
           0.9730996
          ],
          [
           "abdulmecid--parents--mahmud_ii",
           0.9892191
          ],
          [
           "sukumalmarsri--parents--mongkut",
           0.80018896
          ],
          [
           "geoffrey_ii_duke_of_brittany--parents--henry_ii_of_england",
           0.9751305
          ],
          [
           "augusta_of_cambridge--parents--princess_augusta_of_hesse-kassel",
           0.98547643
          ],
          [
           "duke_george_augustus_of_mecklenburg--parents--charles_louis_frederick_duke_of_mecklenburg_mirow",
           0.9752793
          ],
          [
           "elizabeth_medora_leigh--parents--george_byron_6th_baron_byron",
           0.96682817
          ],
          [
           "galeria_valeria--parents--diocletian",
           0.9601176
          ],
          [
           "dominik_mikolaj_radziwill--parents--aleksander_ludwik_radziwill",
           0.97936845
          ],
          [
           "henry_howard_7th_duke_of_norfolk--parents--henry_howard_6th_duke_of_norfolk",
           0.9702331
          ],
          [
           "augustus_pugin--parents--augustus_charles_pugin",
           0.98073936
          ],
          [
           "christian_v_of_denmark--parents--sophia_amelia_of_brunswick_luneburg",
           0.976494
          ],
          [
           "isabel_of_france--parents--louis_viii_of_france",
           0.8680845
          ],
          [
           "elisabeth_of_parma--parents--dorothea_sophie_of_neuburg",
           0.9737673
          ],
          [
           "richard_i_of_england--parents--henry_ii_of_england",
           0.98376
          ],
          [
           "alexis_i_du_pont_bayard--parents--thomas_f_bayard_jr",
           0.9787707
          ],
          [
           "catherine_of_braganza--parents--luisa_of_medina-sidonia",
           0.54259306
          ],
          [
           "theodore_ii_laskaris--parents--irene_lascarina",
           0.9648506
          ],
          [
           "james_stanley_10th_earl_of_derby--parents--charles_stanley_8th_earl_of_derby",
           0.9304358
          ],
          [
           "princess_amelia_sophia_of_great_britain--parents--george_ii_of_great_britain",
           0.9859283
          ],
          [
           "frances_gulick--parents--luther_gulick",
           0.941363
          ],
          [
           "charles_devreux--parents--margaret_of_artois",
           0.96911556
          ],
          [
           "antiochus_iii_the_great--parents--seleucus_ii_callinicus",
           0.9850825
          ],
          [
           "william_michael_rossetti--parents--gabriele_rossetti",
           0.9867381
          ],
          [
           "hugh_percy_3rd_duke_of_northumberland--parents--hugh_percy_2nd_duke_of_northumberland",
           0.97634536
          ],
          [
           "frederick_i_of_denmark--parents--dorothea_of_brandenburg",
           0.98210686
          ],
          [
           "ryan_patrick_bellar--parents--troy_ryan_bellar",
           0.97193855
          ],
          [
           "francesco_maria_ii_della_rovere--parents--guidobaldo_ii_della_rovere",
           0.9423761
          ],
          [
           "minamoto_no_yoriie--parents--hojo_masako",
           0.9856418
          ],
          [
           "frederick_terman--parents--lewis_terman",
           0.9708561
          ],
          [
           "catharina_of_sweden--parents--maria_of_palatinate_simmern",
           0.9608146
          ],
          [
           "baltasar_carlos_prince_of_asturias--parents--philip_iv_of_spain",
           0.97654176
          ],
          [
           "prince_henry_of_prussia--parents--sophia_dorothea_of_hanover",
           0.98229516
          ],
          [
           "patricia_kennedy_lawford--parents--joseph_p_kennedy_sr",
           0.73155105
          ],
          [
           "gabriel_de_borbon--parents--maria_amalia_of_saxony",
           0.7770967
          ],
          [
           "princess_cecilia_of_sweden_1807--parents--gustav_iv_adolf_of_sweden",
           0.9776373
          ],
          [
           "violante_of_bavaria--parents--ferdinand_maria_elector_of_bavaria",
           0.96904534
          ],
          [
           "franz_xaver_wolfgang_mozart--parents--wolfgang_amadeus_mozart",
           0.61086947
          ],
          [
           "hans_albert_einstein--parents--mileva_maric",
           0.98081756
          ],
          [
           "vilhelmine_marie_of_denmark--parents--frederick_vi_of_denmark",
           0.9696176
          ],
          [
           "princess_viktoria_of_prussia--parents--victoria_princess_royal",
           0.9627752
          ],
          [
           "james_rudolph_garfield--parents--james_garfield",
           0.9808333
          ],
          [
           "dorothea_of_denmark_electress_palatine--parents--christian_ii_of_denmark",
           0.4386606
          ],
          [
           "maria_christina_of_the_two_sicilies--parents--maria_isabella_of_spain",
           0.7103085
          ],
          [
           "maria_luisa_of_savoy--parents--victor_amadeus_ii_of_sardinia",
           0.96920353
          ],
          [
           "marie_of_brienne--parents--berenguela_of_leon",
           0.97387797
          ],
          [
           "maria_isabel_of_portugal--parents--john_vi_of_portugal",
           0.9896506
          ],
          [
           "emperor_komei--parents--emperor_ninko",
           0.9812971
          ],
          [
           "hugh_oconnor--parents--carroll_oconnor",
           0.9565969
          ],
          [
           "svetoslav_roerich--parents--nicholas_roerich",
           0.97442687
          ],
          [
           "prince_maurice_of_battenberg--parents--princess_beatrice_of_the_united_kingdom",
           0.9254762
          ],
          [
           "adolphe_grand_duke_of_luxembourg--parents--wilhelm_duke_of_nassau",
           0.9751066
          ],
          [
           "henry_iii_of_france--parents--henry_ii_of_france",
           0.9642366
          ],
          [
           "henry_herbert_2nd_earl_of_pembroke--parents--anne_herbert_countess_of_pembroke",
           0.9682901
          ],
          [
           "princess_ileana_of_romania--parents--marie_of_edinburgh",
           0.9851478
          ],
          [
           "theodosius_ii--parents--aelia_eudoxia",
           0.6729651
          ],
          [
           "clementine_of_orleans--parents--maria_amalia_of_the_two_sicilies",
           0.9749135
          ],
          [
           "enno_louis_prince_of_ostfriesland--parents--ulrich_ii_count_of_ostfriesland",
           0.97741574
          ],
          [
           "john_i_of_france--parents--louis_x_of_france",
           0.023947218
          ],
          [
           "aleksandar_obrenovic--parents--natalija_obrenovic",
           0.9815599
          ],
          [
           "publius_septimius_geta--parents--julia_domna",
           0.9722038
          ],
          [
           "elliott_roosevelt_i--parents--theodore_roosevelt_sr",
           0.97683126
          ],
          [
           "cleopatra_thea--parents--cleopatra_ii_of_egypt",
           0.9881151
          ],
          [
           "philippe_ii_duke_of_orleans--parents--philippe_i_duke_of_orleans",
           0.84335303
          ],
          [
           "princess_elizabeth_of_the_united_kingdom--parents--george_iii_of_the_united_kingdom",
           0.9633542
          ],
          [
           "lady_jane_grey--parents--lady_frances_brandon",
           0.98196423
          ],
          [
           "anne_of_great_britain--parents--anne_hyde",
           0.96934223
          ],
          [
           "jovan_vladimir--parents--petrislav_of_duklja_and_travunia",
           0.9737017
          ],
          [
           "lindsay_crosby--parents--bing_crosby",
           0.96038955
          ],
          [
           "princess_adelgunde_of_bavaria--parents--therese_of_saxe_hildburghausen",
           0.98799706
          ],
          [
           "mary_plantagenet--parents--edward_iii_of_england",
           0.9811323
          ],
          [
           "rudolph_i_of_bohemia--parents--albert_i_of_germany",
           0.97996587
          ],
          [
           "harald_v_of_norway--parents--princess_martha_of_sweden",
           0.038780075
          ],
          [
           "margaret_of_york--parents--cecily_neville",
           0.9874077
          ],
          [
           "louise_marie_adelaide_de_bourbon_penthievre--parents--maria_teresa_deste",
           0.97583395
          ],
          [
           "ptolemy_x_alexander_i--parents--berenice_iii_of_egypt",
           0.96424174
          ],
          [
           "charles_ii_gonzaga--parents--charles_i_duke_of_mantua",
           0.9748905
          ],
          [
           "prince_willem_of_the_netherlands--parents--william_iii_of_the_netherlands",
           0.9858641
          ],
          [
           "meredith_macrae--parents--gordon_macrae",
           0.9395109
          ],
          [
           "edward_the_martyr--parents--edgar_of_england",
           0.9623234
          ],
          [
           "sebastian_of_portugal--parents--john_crown_prince_of_portugal",
           0.97903824
          ],
          [
           "pierre_koechlin--parents--emma_rossier",
           0.9553046
          ],
          [
           "philip_ii_duke_of_burgundy--parents--bonne_of_bohemia",
           0.967347
          ],
          [
           "mary_shelley--parents--mary_wollstonecraft",
           0.96337235
          ],
          [
           "frederick_ix_of_denmark--parents--christian_x_of_denmark",
           0.9503574
          ],
          [
           "stefan_uro_ii_milutin_of_serbia--parents--helene_danjou",
           0.97644687
          ],
          [
           "archduchess_luise_princess_of_tuscany--parents--ferdinand_iv_grand_duke_of_tuscany",
           0.9771985
          ],
          [
           "george_crown_prince_of_serbia--parents--zorka_of_montenegro",
           0.9777884
          ],
          [
           "john_ii_of_france--parents--philip_vi_of_france",
           0.97351474
          ],
          [
           "albert_francis_capone--parents--mae_capone",
           0.9512877
          ]
         ],
         "hovertemplate": "experiment=with parent--child path<br>ndcg: random=%{x}<br>ndcg: score heuristic=%{y}<br>query triple=%{customdata[0]}<br>kge score=%{customdata[1]}<br>num true=%{marker.color}<extra></extra>",
         "legendgroup": "",
         "marker": {
          "color": [
           2,
           18,
           1,
           8,
           2,
           2,
           5,
           6,
           18,
           5,
           1,
           11,
           7,
           1,
           1,
           1,
           1,
           1,
           1,
           7,
           9,
           1,
           11,
           1,
           9,
           2,
           1,
           11,
           1,
           1,
           1,
           2,
           1,
           7,
           6,
           1,
           6,
           1,
           5,
           6,
           14,
           11,
           8,
           7,
           1,
           6,
           6,
           3,
           11,
           5,
           6,
           8,
           7,
           2,
           1,
           1,
           1,
           1,
           8,
           1,
           11,
           5,
           9,
           6,
           12,
           1,
           3,
           5,
           6,
           8,
           1,
           5,
           18,
           3,
           6,
           1,
           6,
           5,
           11,
           1,
           3,
           10,
           6,
           1,
           1,
           6,
           1,
           1,
           1,
           2,
           7,
           5,
           6,
           6,
           6,
           3,
           5,
           5
          ],
          "coloraxis": "coloraxis",
          "line": {
           "color": "lightgrey",
           "width": 0.5
          },
          "opacity": 0.5,
          "size": 8,
          "symbol": "circle"
         },
         "mode": "markers",
         "name": "",
         "orientation": "v",
         "showlegend": false,
         "type": "scatter",
         "x": [
          0.21348598607765604,
          0.4170379021849668,
          0.17199279804247747,
          0.3089446838254115,
          0.1804561283436261,
          0.2047675944627488,
          0.29904481792873694,
          0.2837443497539291,
          0.4173060014848449,
          0.27745952499294546,
          0.15571604376929962,
          0.34108917906803493,
          0.3048233265247379,
          0.1636156133170789,
          0.16647442327914075,
          0.19087705202037414,
          0.19198529613263352,
          0.14979749797313324,
          0.16749639259454444,
          0.3055445837794451,
          0.3367229430614921,
          0.15378494233177642,
          0.337837962594845,
          0.14919335085965996,
          0.33035563051849137,
          0.2183126393896233,
          0.16346517263779492,
          0.3531841090425005,
          0.1967972367470229,
          0.16614185243441604,
          0.1861270955442863,
          0.20851169192740476,
          0.1553836107250708,
          0.3136700282402898,
          0.3189135670025171,
          0.17565048656591298,
          0.3232271093600173,
          0.16422580045873178,
          0.28259201165965864,
          0.2647045933825194,
          0.38317201789972427,
          0.3414850748657536,
          0.3113995103503183,
          0.3133868321845831,
          0.1532742710649141,
          0.2941385717723712,
          0.2850041651883899,
          0.22132524028229947,
          0.35725663416183495,
          0.2858384007422098,
          0.3172771721099922,
          0.30070728123582996,
          0.2989789397776241,
          0.2119211308492437,
          0.1454291654326927,
          0.19992656912923223,
          0.16837711454623674,
          0.1770540334910716,
          0.3247492028452076,
          0.17928556806465892,
          0.3399188083850776,
          0.2530022375151045,
          0.32642139856508445,
          0.2938811882234384,
          0.35837039260395726,
          0.18910451129800512,
          0.23390051054845068,
          0.2678170756394358,
          0.2901764342808586,
          0.30455821395459953,
          0.1713913160852139,
          0.25373132773623774,
          0.41140040051598264,
          0.2055649194723762,
          0.2744241840453273,
          0.22093731239390707,
          0.3164767829432258,
          0.2604400963406209,
          0.3383973850106211,
          0.16516726828460732,
          0.23991695079237946,
          0.3256240896713546,
          0.28171876314092187,
          0.162147485416519,
          0.16438049417649012,
          0.27293768780441086,
          0.1819641345174049,
          0.16837711454623674,
          0.15732811925755025,
          0.21596426941317015,
          0.3165894881589323,
          0.2747281965019667,
          0.28191731194502295,
          0.2916242676994457,
          0.2931171178955352,
          0.2153607960067799,
          0.27401078543451124,
          0.2852316636788228
         ],
         "xaxis": "x",
         "y": [
          0.7601875334318686,
          0.6349473489247037,
          0.2702381544273198,
          0.6734380041016965,
          0.2345350139058422,
          0.2537579740823649,
          0.7818716154833572,
          0.7071644734075845,
          0.6272827338161849,
          0.7477104077563566,
          0.1556113914024948,
          0.6489120469130581,
          0.7552679722587853,
          0.20584683246043411,
          0.20584683246043411,
          0.6309297535714573,
          0.27894294565112965,
          0.35620718710802235,
          0.38685280723454163,
          0.7014828362680585,
          0.7020146759297301,
          0.1934264036172717,
          0.6509174518309936,
          0.3154648767857289,
          0.7047738323495353,
          0.528721709100536,
          0.2446505421182259,
          0.6841359870631218,
          1,
          0.25,
          0.2626495350371938,
          0.7550160946314528,
          0.27894294565112965,
          0.7023868769945093,
          0.8132170337247846,
          0.2446505421182259,
          0.7653260579710817,
          0.6309297535714573,
          0.7936274918804078,
          0.7133722443205813,
          0.6470955066866998,
          0.6567272123975986,
          0.7097880704794663,
          0.7365799493823483,
          0.20584683246043411,
          0.7532822872352406,
          0.8148357925907197,
          0.3344801617544709,
          0.6673153605104437,
          0.8284871148613753,
          0.7539879420670791,
          0.3306839837297162,
          0.7293586859518872,
          0.7700871371433883,
          0.1781035935540114,
          0.28906482631788766,
          1,
          0.2559580248098152,
          0.7171460646554005,
          0.23981246656813138,
          0.6674547374095868,
          0.7642356891596209,
          0.6889962737290569,
          0.7780633070454531,
          0.6564423499740621,
          0.2446505421182259,
          0.39172824101829434,
          0.8478894976690764,
          0.8148357925907197,
          0.7271406107652886,
          0.203795047090507,
          0.7133501246270715,
          0.6337762918002307,
          0.6527899118999849,
          0.7305267933175935,
          1,
          0.8166387052778556,
          0.7294244963708625,
          0.6790291697565858,
          0.20584683246043411,
          0.8212377705398239,
          0.6756391932512326,
          0.7065460243869306,
          0.21810429198553116,
          0.25,
          0.7159345429922859,
          0.38685280723454163,
          0.21810429198553116,
          0.22767024869695263,
          0.7435918382736327,
          0.7139856361407606,
          0.7855122558711002,
          0.7443797758037959,
          0.776235588663005,
          0.7653260579710817,
          0.3053719715616364,
          0.7467506964951488,
          0.8677993508399438
         ],
         "yaxis": "y"
        },
        {
         "customdata": [
          [
           "irene_doukaina_laskarina--parents--elena_of_bulgaria",
           0.9592115
          ],
          [
           "prince_augustus_frederick_duke_of_sussex--parents--charlotte_of_mecklenburg-strelitz",
           0.97009754
          ],
          [
           "vajirunhis--parents--savang_vadhana",
           0.9786349
          ],
          [
           "carlos_i_of_portugal--parents--maria_pia_of_italy",
           0.9735309
          ],
          [
           "alice_of_bourbon_parma--parents--louise_marie_therese_of_france",
           0.98301446
          ],
          [
           "theuderic_iii--parents--balthild",
           0.97680193
          ],
          [
           "john_iii_of_sweden--parents--gustav_i_of_sweden",
           0.9552274
          ],
          [
           "charlotte_princess_royal--parents--charlotte_of_mecklenburg-strelitz",
           0.9730996
          ],
          [
           "abdulmecid--parents--mahmud_ii",
           0.9892191
          ],
          [
           "geoffrey_ii_duke_of_brittany--parents--henry_ii_of_england",
           0.9751305
          ],
          [
           "augusta_of_cambridge--parents--princess_augusta_of_hesse-kassel",
           0.98547643
          ],
          [
           "christian_v_of_denmark--parents--sophia_amelia_of_brunswick_luneburg",
           0.976494
          ],
          [
           "isabel_of_france--parents--louis_viii_of_france",
           0.8680845
          ],
          [
           "richard_i_of_england--parents--henry_ii_of_england",
           0.98376
          ],
          [
           "catherine_of_braganza--parents--luisa_of_medina-sidonia",
           0.54259306
          ],
          [
           "theodore_ii_laskaris--parents--irene_lascarina",
           0.9648506
          ],
          [
           "princess_amelia_sophia_of_great_britain--parents--george_ii_of_great_britain",
           0.9859283
          ],
          [
           "william_michael_rossetti--parents--gabriele_rossetti",
           0.9867381
          ],
          [
           "frederick_i_of_denmark--parents--dorothea_of_brandenburg",
           0.98210686
          ],
          [
           "ryan_patrick_bellar--parents--troy_ryan_bellar",
           0.97193855
          ],
          [
           "minamoto_no_yoriie--parents--hojo_masako",
           0.9856418
          ],
          [
           "catharina_of_sweden--parents--maria_of_palatinate_simmern",
           0.9608146
          ],
          [
           "baltasar_carlos_prince_of_asturias--parents--philip_iv_of_spain",
           0.97654176
          ],
          [
           "prince_henry_of_prussia--parents--sophia_dorothea_of_hanover",
           0.98229516
          ],
          [
           "patricia_kennedy_lawford--parents--joseph_p_kennedy_sr",
           0.73155105
          ],
          [
           "gabriel_de_borbon--parents--maria_amalia_of_saxony",
           0.7770967
          ],
          [
           "princess_cecilia_of_sweden_1807--parents--gustav_iv_adolf_of_sweden",
           0.9776373
          ],
          [
           "franz_xaver_wolfgang_mozart--parents--wolfgang_amadeus_mozart",
           0.61086947
          ],
          [
           "hans_albert_einstein--parents--mileva_maric",
           0.98081756
          ],
          [
           "vilhelmine_marie_of_denmark--parents--frederick_vi_of_denmark",
           0.9696176
          ],
          [
           "princess_viktoria_of_prussia--parents--victoria_princess_royal",
           0.9627752
          ],
          [
           "james_rudolph_garfield--parents--james_garfield",
           0.9808333
          ],
          [
           "dorothea_of_denmark_electress_palatine--parents--christian_ii_of_denmark",
           0.4386606
          ],
          [
           "maria_christina_of_the_two_sicilies--parents--maria_isabella_of_spain",
           0.7103085
          ],
          [
           "maria_luisa_of_savoy--parents--victor_amadeus_ii_of_sardinia",
           0.96920353
          ],
          [
           "marie_of_brienne--parents--berenguela_of_leon",
           0.97387797
          ],
          [
           "prince_maurice_of_battenberg--parents--princess_beatrice_of_the_united_kingdom",
           0.9254762
          ],
          [
           "henry_iii_of_france--parents--henry_ii_of_france",
           0.9642366
          ],
          [
           "henry_herbert_2nd_earl_of_pembroke--parents--anne_herbert_countess_of_pembroke",
           0.9682901
          ],
          [
           "princess_ileana_of_romania--parents--marie_of_edinburgh",
           0.9851478
          ],
          [
           "theodosius_ii--parents--aelia_eudoxia",
           0.6729651
          ],
          [
           "clementine_of_orleans--parents--maria_amalia_of_the_two_sicilies",
           0.9749135
          ],
          [
           "john_i_of_france--parents--louis_x_of_france",
           0.023947218
          ],
          [
           "aleksandar_obrenovic--parents--natalija_obrenovic",
           0.9815599
          ],
          [
           "publius_septimius_geta--parents--julia_domna",
           0.9722038
          ],
          [
           "elliott_roosevelt_i--parents--theodore_roosevelt_sr",
           0.97683126
          ],
          [
           "philippe_ii_duke_of_orleans--parents--philippe_i_duke_of_orleans",
           0.84335303
          ],
          [
           "princess_elizabeth_of_the_united_kingdom--parents--george_iii_of_the_united_kingdom",
           0.9633542
          ],
          [
           "lady_jane_grey--parents--lady_frances_brandon",
           0.98196423
          ],
          [
           "anne_of_great_britain--parents--anne_hyde",
           0.96934223
          ],
          [
           "lindsay_crosby--parents--bing_crosby",
           0.96038955
          ],
          [
           "princess_adelgunde_of_bavaria--parents--therese_of_saxe_hildburghausen",
           0.98799706
          ],
          [
           "mary_plantagenet--parents--edward_iii_of_england",
           0.9811323
          ],
          [
           "harald_v_of_norway--parents--princess_martha_of_sweden",
           0.038780075
          ],
          [
           "margaret_of_york--parents--cecily_neville",
           0.9874077
          ],
          [
           "louise_marie_adelaide_de_bourbon_penthievre--parents--maria_teresa_deste",
           0.97583395
          ],
          [
           "prince_willem_of_the_netherlands--parents--william_iii_of_the_netherlands",
           0.9858641
          ],
          [
           "pierre_koechlin--parents--emma_rossier",
           0.9553046
          ],
          [
           "philip_ii_duke_of_burgundy--parents--bonne_of_bohemia",
           0.967347
          ],
          [
           "mary_shelley--parents--mary_wollstonecraft",
           0.96337235
          ],
          [
           "frederick_ix_of_denmark--parents--christian_x_of_denmark",
           0.9503574
          ],
          [
           "stefan_uro_ii_milutin_of_serbia--parents--helene_danjou",
           0.97644687
          ],
          [
           "archduchess_luise_princess_of_tuscany--parents--ferdinand_iv_grand_duke_of_tuscany",
           0.9771985
          ],
          [
           "george_crown_prince_of_serbia--parents--zorka_of_montenegro",
           0.9777884
          ],
          [
           "john_ii_of_france--parents--philip_vi_of_france",
           0.97351474
          ],
          [
           "albert_francis_capone--parents--mae_capone",
           0.9512877
          ]
         ],
         "hovertemplate": "experiment=without parent--child path<br>ndcg: random=%{x}<br>ndcg: score heuristic=%{y}<br>query triple=%{customdata[0]}<br>kge score=%{customdata[1]}<br>num true=%{marker.color}<extra></extra>",
         "legendgroup": "",
         "marker": {
          "color": [
           2,
           17,
           7,
           1,
           1,
           4,
           5,
           17,
           4,
           10,
           6,
           6,
           8,
           10,
           8,
           2,
           10,
           2,
           6,
           5,
           5,
           4,
           5,
           13,
           10,
           7,
           6,
           5,
           5,
           2,
           10,
           4,
           5,
           7,
           6,
           2,
           7,
           10,
           4,
           8,
           5,
           11,
           3,
           4,
           5,
           7,
           4,
           17,
           2,
           5,
           5,
           4,
           10,
           3,
           9,
           5,
           5,
           2,
           6,
           4,
           5,
           5,
           5,
           2,
           4,
           4
          ],
          "coloraxis": "coloraxis",
          "line": {
           "color": "lightgrey",
           "width": 0.5
          },
          "opacity": 0.5,
          "size": 8,
          "symbol": "circle"
         },
         "mode": "markers",
         "name": "",
         "orientation": "v",
         "showlegend": false,
         "type": "scatter",
         "x": [
          0.21375336346840149,
          0.4087429892833388,
          0.2939577990899658,
          0.1472337673342951,
          0.16715160920880112,
          0.27573177525935555,
          0.2652137834811723,
          0.4090066530132278,
          0.25572530429744383,
          0.3293085404378357,
          0.28785726745148404,
          0.28854114444259055,
          0.32235875825144367,
          0.3261600784235811,
          0.3162392169622342,
          0.2186165887405389,
          0.34102588158403413,
          0.20874479808068402,
          0.29624793767114904,
          0.29825751499673187,
          0.3023174858676279,
          0.2604787167669223,
          0.2473613281146021,
          0.37305694049715415,
          0.32969195915939986,
          0.2963017225870151,
          0.29597925494532057,
          0.27496987219233626,
          0.2663958525873492,
          0.1929305893316724,
          0.3449730119564649,
          0.26348647124890123,
          0.2967177586401588,
          0.2860950448129003,
          0.2823170351845834,
          0.2121773615639671,
          0.30905474203500477,
          0.32817510015300266,
          0.2331017189470779,
          0.3124592847663907,
          0.2747281965019667,
          0.34713468870236097,
          0.23390051054845068,
          0.24680066297559788,
          0.2712500773175776,
          0.2897703617561574,
          0.23377555160912739,
          0.4031994795794941,
          0.1791482324345816,
          0.2564720295326378,
          0.295964724357735,
          0.23997747512992865,
          0.32670178395795624,
          0.23991695079237946,
          0.3131444053580703,
          0.2633134247122007,
          0.25507829323672465,
          0.2162500054817917,
          0.2990181181685984,
          0.2531965738519771,
          0.2634996865483534,
          0.2726092221826373,
          0.27401078543451124,
          0.18771249932142983,
          0.25253247461159917,
          0.2629242655763429
         ],
         "xaxis": "x2",
         "y": [
          0.7601875334318686,
          0.634042350980918,
          0.6850936064269968,
          0.19195872000656067,
          0.20801459767650954,
          0.8158858002212522,
          0.7344517662196706,
          0.6265083966031922,
          0.7849299544487798,
          0.6527060051101697,
          0.7653260579710817,
          0.7171084551052197,
          0.7082560532107725,
          0.654439990871181,
          0.7164371259727549,
          0.528721709100536,
          0.6856498493434255,
          0.7550160946314528,
          0.7181237190714869,
          0.8241968959615449,
          0.782651692753787,
          0.8246028896512471,
          0.7387900512627676,
          0.6475560781359946,
          0.6626150269462306,
          0.7209876194963977,
          0.747605700632022,
          0.7844962625812714,
          0.8262176208790671,
          0.30657830235404177,
          0.6702011796231969,
          0.8510717840361741,
          0.7840187458633483,
          0.3197656626472887,
          0.742379853067411,
          0.7700871371433883,
          0.7261642049960467,
          0.6704686207249967,
          0.8000927505012357,
          0.6943541753093309,
          0.8022470948000863,
          0.6585207248942736,
          0.39172824101829434,
          0.8670436848381937,
          0.8284871148613753,
          0.7339848671103727,
          0.7616601053517781,
          0.632666194950521,
          0.7299832563724273,
          0.7531007563216909,
          0.8284871148613753,
          0.7723602432858477,
          0.6815113511529666,
          0.8212377705398239,
          0.6798550321449619,
          0.7337586015671783,
          0.7406705580775249,
          0.7435918382736327,
          0.7295081641093021,
          0.8178407567289051,
          0.7658500885823333,
          0.7927969330483376,
          0.7838137995835671,
          0.27004001937292454,
          0.7871291025593156,
          0.8899603164338973
         ],
         "yaxis": "y2"
        }
       ],
       "layout": {
        "annotations": [
         {
          "font": {},
          "showarrow": false,
          "text": "experiment=with parent--child path",
          "x": 0.245,
          "xanchor": "center",
          "xref": "paper",
          "y": 1,
          "yanchor": "bottom",
          "yref": "paper"
         },
         {
          "font": {},
          "showarrow": false,
          "text": "experiment=without parent--child path",
          "x": 0.755,
          "xanchor": "center",
          "xref": "paper",
          "y": 1,
          "yanchor": "bottom",
          "yref": "paper"
         }
        ],
        "coloraxis": {
         "colorbar": {
          "title": {
           "text": "num true"
          }
         },
         "colorscale": [
          [
           0,
           "rgb(253, 237, 176)"
          ],
          [
           0.09090909090909091,
           "rgb(250, 205, 145)"
          ],
          [
           0.18181818181818182,
           "rgb(246, 173, 119)"
          ],
          [
           0.2727272727272727,
           "rgb(240, 142, 98)"
          ],
          [
           0.36363636363636365,
           "rgb(231, 109, 84)"
          ],
          [
           0.45454545454545453,
           "rgb(216, 80, 83)"
          ],
          [
           0.5454545454545454,
           "rgb(195, 56, 90)"
          ],
          [
           0.6363636363636364,
           "rgb(168, 40, 96)"
          ],
          [
           0.7272727272727273,
           "rgb(138, 29, 99)"
          ],
          [
           0.8181818181818182,
           "rgb(107, 24, 93)"
          ],
          [
           0.9090909090909091,
           "rgb(76, 21, 80)"
          ],
          [
           1,
           "rgb(47, 15, 61)"
          ]
         ]
        },
        "height": 300,
        "legend": {
         "tracegroupgap": 0
        },
        "margin": {
         "t": 60
        },
        "plot_bgcolor": "#f0f0f0",
        "shapes": [
         {
          "line": {
           "color": "gray",
           "dash": "dot",
           "width": 1
          },
          "type": "line",
          "x0": 0,
          "x1": 1.1,
          "xref": "x",
          "y0": 0,
          "y1": 1.1,
          "yref": "y"
         },
         {
          "line": {
           "color": "gray",
           "dash": "dot",
           "width": 1
          },
          "type": "line",
          "x0": 0,
          "x1": 1.1,
          "xref": "x2",
          "y0": 0,
          "y1": 1.1,
          "yref": "y2"
         }
        ],
        "template": {
         "data": {
          "bar": [
           {
            "error_x": {
             "color": "#2a3f5f"
            },
            "error_y": {
             "color": "#2a3f5f"
            },
            "marker": {
             "line": {
              "color": "#E5ECF6",
              "width": 0.5
             }
            },
            "type": "bar"
           }
          ],
          "barpolar": [
           {
            "marker": {
             "line": {
              "color": "#E5ECF6",
              "width": 0.5
             }
            },
            "type": "barpolar"
           }
          ],
          "carpet": [
           {
            "aaxis": {
             "endlinecolor": "#2a3f5f",
             "gridcolor": "white",
             "linecolor": "white",
             "minorgridcolor": "white",
             "startlinecolor": "#2a3f5f"
            },
            "baxis": {
             "endlinecolor": "#2a3f5f",
             "gridcolor": "white",
             "linecolor": "white",
             "minorgridcolor": "white",
             "startlinecolor": "#2a3f5f"
            },
            "type": "carpet"
           }
          ],
          "choropleth": [
           {
            "colorbar": {
             "outlinewidth": 0,
             "ticks": ""
            },
            "type": "choropleth"
           }
          ],
          "contour": [
           {
            "colorbar": {
             "outlinewidth": 0,
             "ticks": ""
            },
            "colorscale": [
             [
              0,
              "#0d0887"
             ],
             [
              0.1111111111111111,
              "#46039f"
             ],
             [
              0.2222222222222222,
              "#7201a8"
             ],
             [
              0.3333333333333333,
              "#9c179e"
             ],
             [
              0.4444444444444444,
              "#bd3786"
             ],
             [
              0.5555555555555556,
              "#d8576b"
             ],
             [
              0.6666666666666666,
              "#ed7953"
             ],
             [
              0.7777777777777778,
              "#fb9f3a"
             ],
             [
              0.8888888888888888,
              "#fdca26"
             ],
             [
              1,
              "#f0f921"
             ]
            ],
            "type": "contour"
           }
          ],
          "contourcarpet": [
           {
            "colorbar": {
             "outlinewidth": 0,
             "ticks": ""
            },
            "type": "contourcarpet"
           }
          ],
          "heatmap": [
           {
            "colorbar": {
             "outlinewidth": 0,
             "ticks": ""
            },
            "colorscale": [
             [
              0,
              "#0d0887"
             ],
             [
              0.1111111111111111,
              "#46039f"
             ],
             [
              0.2222222222222222,
              "#7201a8"
             ],
             [
              0.3333333333333333,
              "#9c179e"
             ],
             [
              0.4444444444444444,
              "#bd3786"
             ],
             [
              0.5555555555555556,
              "#d8576b"
             ],
             [
              0.6666666666666666,
              "#ed7953"
             ],
             [
              0.7777777777777778,
              "#fb9f3a"
             ],
             [
              0.8888888888888888,
              "#fdca26"
             ],
             [
              1,
              "#f0f921"
             ]
            ],
            "type": "heatmap"
           }
          ],
          "heatmapgl": [
           {
            "colorbar": {
             "outlinewidth": 0,
             "ticks": ""
            },
            "colorscale": [
             [
              0,
              "#0d0887"
             ],
             [
              0.1111111111111111,
              "#46039f"
             ],
             [
              0.2222222222222222,
              "#7201a8"
             ],
             [
              0.3333333333333333,
              "#9c179e"
             ],
             [
              0.4444444444444444,
              "#bd3786"
             ],
             [
              0.5555555555555556,
              "#d8576b"
             ],
             [
              0.6666666666666666,
              "#ed7953"
             ],
             [
              0.7777777777777778,
              "#fb9f3a"
             ],
             [
              0.8888888888888888,
              "#fdca26"
             ],
             [
              1,
              "#f0f921"
             ]
            ],
            "type": "heatmapgl"
           }
          ],
          "histogram": [
           {
            "marker": {
             "colorbar": {
              "outlinewidth": 0,
              "ticks": ""
             }
            },
            "type": "histogram"
           }
          ],
          "histogram2d": [
           {
            "colorbar": {
             "outlinewidth": 0,
             "ticks": ""
            },
            "colorscale": [
             [
              0,
              "#0d0887"
             ],
             [
              0.1111111111111111,
              "#46039f"
             ],
             [
              0.2222222222222222,
              "#7201a8"
             ],
             [
              0.3333333333333333,
              "#9c179e"
             ],
             [
              0.4444444444444444,
              "#bd3786"
             ],
             [
              0.5555555555555556,
              "#d8576b"
             ],
             [
              0.6666666666666666,
              "#ed7953"
             ],
             [
              0.7777777777777778,
              "#fb9f3a"
             ],
             [
              0.8888888888888888,
              "#fdca26"
             ],
             [
              1,
              "#f0f921"
             ]
            ],
            "type": "histogram2d"
           }
          ],
          "histogram2dcontour": [
           {
            "colorbar": {
             "outlinewidth": 0,
             "ticks": ""
            },
            "colorscale": [
             [
              0,
              "#0d0887"
             ],
             [
              0.1111111111111111,
              "#46039f"
             ],
             [
              0.2222222222222222,
              "#7201a8"
             ],
             [
              0.3333333333333333,
              "#9c179e"
             ],
             [
              0.4444444444444444,
              "#bd3786"
             ],
             [
              0.5555555555555556,
              "#d8576b"
             ],
             [
              0.6666666666666666,
              "#ed7953"
             ],
             [
              0.7777777777777778,
              "#fb9f3a"
             ],
             [
              0.8888888888888888,
              "#fdca26"
             ],
             [
              1,
              "#f0f921"
             ]
            ],
            "type": "histogram2dcontour"
           }
          ],
          "mesh3d": [
           {
            "colorbar": {
             "outlinewidth": 0,
             "ticks": ""
            },
            "type": "mesh3d"
           }
          ],
          "parcoords": [
           {
            "line": {
             "colorbar": {
              "outlinewidth": 0,
              "ticks": ""
             }
            },
            "type": "parcoords"
           }
          ],
          "pie": [
           {
            "automargin": true,
            "type": "pie"
           }
          ],
          "scatter": [
           {
            "marker": {
             "colorbar": {
              "outlinewidth": 0,
              "ticks": ""
             }
            },
            "type": "scatter"
           }
          ],
          "scatter3d": [
           {
            "line": {
             "colorbar": {
              "outlinewidth": 0,
              "ticks": ""
             }
            },
            "marker": {
             "colorbar": {
              "outlinewidth": 0,
              "ticks": ""
             }
            },
            "type": "scatter3d"
           }
          ],
          "scattercarpet": [
           {
            "marker": {
             "colorbar": {
              "outlinewidth": 0,
              "ticks": ""
             }
            },
            "type": "scattercarpet"
           }
          ],
          "scattergeo": [
           {
            "marker": {
             "colorbar": {
              "outlinewidth": 0,
              "ticks": ""
             }
            },
            "type": "scattergeo"
           }
          ],
          "scattergl": [
           {
            "marker": {
             "colorbar": {
              "outlinewidth": 0,
              "ticks": ""
             }
            },
            "type": "scattergl"
           }
          ],
          "scattermapbox": [
           {
            "marker": {
             "colorbar": {
              "outlinewidth": 0,
              "ticks": ""
             }
            },
            "type": "scattermapbox"
           }
          ],
          "scatterpolar": [
           {
            "marker": {
             "colorbar": {
              "outlinewidth": 0,
              "ticks": ""
             }
            },
            "type": "scatterpolar"
           }
          ],
          "scatterpolargl": [
           {
            "marker": {
             "colorbar": {
              "outlinewidth": 0,
              "ticks": ""
             }
            },
            "type": "scatterpolargl"
           }
          ],
          "scatterternary": [
           {
            "marker": {
             "colorbar": {
              "outlinewidth": 0,
              "ticks": ""
             }
            },
            "type": "scatterternary"
           }
          ],
          "surface": [
           {
            "colorbar": {
             "outlinewidth": 0,
             "ticks": ""
            },
            "colorscale": [
             [
              0,
              "#0d0887"
             ],
             [
              0.1111111111111111,
              "#46039f"
             ],
             [
              0.2222222222222222,
              "#7201a8"
             ],
             [
              0.3333333333333333,
              "#9c179e"
             ],
             [
              0.4444444444444444,
              "#bd3786"
             ],
             [
              0.5555555555555556,
              "#d8576b"
             ],
             [
              0.6666666666666666,
              "#ed7953"
             ],
             [
              0.7777777777777778,
              "#fb9f3a"
             ],
             [
              0.8888888888888888,
              "#fdca26"
             ],
             [
              1,
              "#f0f921"
             ]
            ],
            "type": "surface"
           }
          ],
          "table": [
           {
            "cells": {
             "fill": {
              "color": "#EBF0F8"
             },
             "line": {
              "color": "white"
             }
            },
            "header": {
             "fill": {
              "color": "#C8D4E3"
             },
             "line": {
              "color": "white"
             }
            },
            "type": "table"
           }
          ]
         },
         "layout": {
          "annotationdefaults": {
           "arrowcolor": "#2a3f5f",
           "arrowhead": 0,
           "arrowwidth": 1
          },
          "autotypenumbers": "strict",
          "coloraxis": {
           "colorbar": {
            "outlinewidth": 0,
            "ticks": ""
           }
          },
          "colorscale": {
           "diverging": [
            [
             0,
             "#8e0152"
            ],
            [
             0.1,
             "#c51b7d"
            ],
            [
             0.2,
             "#de77ae"
            ],
            [
             0.3,
             "#f1b6da"
            ],
            [
             0.4,
             "#fde0ef"
            ],
            [
             0.5,
             "#f7f7f7"
            ],
            [
             0.6,
             "#e6f5d0"
            ],
            [
             0.7,
             "#b8e186"
            ],
            [
             0.8,
             "#7fbc41"
            ],
            [
             0.9,
             "#4d9221"
            ],
            [
             1,
             "#276419"
            ]
           ],
           "sequential": [
            [
             0,
             "#0d0887"
            ],
            [
             0.1111111111111111,
             "#46039f"
            ],
            [
             0.2222222222222222,
             "#7201a8"
            ],
            [
             0.3333333333333333,
             "#9c179e"
            ],
            [
             0.4444444444444444,
             "#bd3786"
            ],
            [
             0.5555555555555556,
             "#d8576b"
            ],
            [
             0.6666666666666666,
             "#ed7953"
            ],
            [
             0.7777777777777778,
             "#fb9f3a"
            ],
            [
             0.8888888888888888,
             "#fdca26"
            ],
            [
             1,
             "#f0f921"
            ]
           ],
           "sequentialminus": [
            [
             0,
             "#0d0887"
            ],
            [
             0.1111111111111111,
             "#46039f"
            ],
            [
             0.2222222222222222,
             "#7201a8"
            ],
            [
             0.3333333333333333,
             "#9c179e"
            ],
            [
             0.4444444444444444,
             "#bd3786"
            ],
            [
             0.5555555555555556,
             "#d8576b"
            ],
            [
             0.6666666666666666,
             "#ed7953"
            ],
            [
             0.7777777777777778,
             "#fb9f3a"
            ],
            [
             0.8888888888888888,
             "#fdca26"
            ],
            [
             1,
             "#f0f921"
            ]
           ]
          },
          "colorway": [
           "#636efa",
           "#EF553B",
           "#00cc96",
           "#ab63fa",
           "#FFA15A",
           "#19d3f3",
           "#FF6692",
           "#B6E880",
           "#FF97FF",
           "#FECB52"
          ],
          "font": {
           "color": "#2a3f5f"
          },
          "geo": {
           "bgcolor": "white",
           "lakecolor": "white",
           "landcolor": "#E5ECF6",
           "showlakes": true,
           "showland": true,
           "subunitcolor": "white"
          },
          "hoverlabel": {
           "align": "left"
          },
          "hovermode": "closest",
          "mapbox": {
           "style": "light"
          },
          "paper_bgcolor": "white",
          "plot_bgcolor": "#E5ECF6",
          "polar": {
           "angularaxis": {
            "gridcolor": "white",
            "linecolor": "white",
            "ticks": ""
           },
           "bgcolor": "#E5ECF6",
           "radialaxis": {
            "gridcolor": "white",
            "linecolor": "white",
            "ticks": ""
           }
          },
          "scene": {
           "xaxis": {
            "backgroundcolor": "#E5ECF6",
            "gridcolor": "white",
            "gridwidth": 2,
            "linecolor": "white",
            "showbackground": true,
            "ticks": "",
            "zerolinecolor": "white"
           },
           "yaxis": {
            "backgroundcolor": "#E5ECF6",
            "gridcolor": "white",
            "gridwidth": 2,
            "linecolor": "white",
            "showbackground": true,
            "ticks": "",
            "zerolinecolor": "white"
           },
           "zaxis": {
            "backgroundcolor": "#E5ECF6",
            "gridcolor": "white",
            "gridwidth": 2,
            "linecolor": "white",
            "showbackground": true,
            "ticks": "",
            "zerolinecolor": "white"
           }
          },
          "shapedefaults": {
           "line": {
            "color": "#2a3f5f"
           }
          },
          "ternary": {
           "aaxis": {
            "gridcolor": "white",
            "linecolor": "white",
            "ticks": ""
           },
           "baxis": {
            "gridcolor": "white",
            "linecolor": "white",
            "ticks": ""
           },
           "bgcolor": "#E5ECF6",
           "caxis": {
            "gridcolor": "white",
            "linecolor": "white",
            "ticks": ""
           }
          },
          "title": {
           "x": 0.05
          },
          "xaxis": {
           "automargin": true,
           "gridcolor": "white",
           "linecolor": "white",
           "ticks": "",
           "title": {
            "standoff": 15
           },
           "zerolinecolor": "white",
           "zerolinewidth": 2
          },
          "yaxis": {
           "automargin": true,
           "gridcolor": "white",
           "linecolor": "white",
           "ticks": "",
           "title": {
            "standoff": 15
           },
           "zerolinecolor": "white",
           "zerolinewidth": 2
          }
         }
        },
        "width": 700,
        "xaxis": {
         "anchor": "y",
         "autorange": true,
         "domain": [
          0,
          0.49
         ],
         "range": [
          -0.0021628848951983958,
          1.1021628848951985
         ],
         "title": {
          "text": "ndcg: random"
         },
         "type": "linear"
        },
        "xaxis2": {
         "anchor": "y2",
         "autorange": true,
         "domain": [
          0.51,
          1
         ],
         "matches": "x",
         "range": [
          -0.0021628848951983958,
          1.1021628848951985
         ],
         "title": {
          "text": "ndcg: random"
         },
         "type": "linear"
        },
        "yaxis": {
         "anchor": "x",
         "autorange": true,
         "domain": [
          0,
          1
         ],
         "range": [
          -0.003459119496855346,
          1.1034591194968555
         ],
         "title": {
          "text": "ndcg: score heuristic"
         },
         "type": "linear"
        },
        "yaxis2": {
         "anchor": "x2",
         "autorange": true,
         "domain": [
          0,
          1
         ],
         "matches": "y",
         "range": [
          -0.003459119496855346,
          1.1034591194968555
         ],
         "showticklabels": false,
         "type": "linear"
        }
       }
      },
      "image/png": "[encoded data removed]",
      "text/html": [
       "<div>                            <div id=\"abcb94fd-f3e8-475b-a1ed-c06556c52f9b\" class=\"plotly-graph-div\" style=\"height:300px; width:700px;\"></div>            <script type=\"text/javascript\">                require([\"plotly\"], function(Plotly) {                    window.PLOTLYENV=window.PLOTLYENV || {};                                    if (document.getElementById(\"abcb94fd-f3e8-475b-a1ed-c06556c52f9b\")) {                    Plotly.newPlot(                        \"abcb94fd-f3e8-475b-a1ed-c06556c52f9b\",                        [{\"customdata\": [[\"irene_doukaina_laskarina--parents--elena_of_bulgaria\", 0.9592115], [\"prince_augustus_frederick_duke_of_sussex--parents--charlotte_of_mecklenburg-strelitz\", 0.97009754], [\"chiang_wei-kuo--parents--tai_chi-tao\", 0.9765339], [\"vajirunhis--parents--savang_vadhana\", 0.9786349], [\"carlos_i_of_portugal--parents--maria_pia_of_italy\", 0.9735309], [\"alice_of_bourbon_parma--parents--louise_marie_therese_of_france\", 0.98301446], [\"theuderic_iii--parents--balthild\", 0.97680193], [\"john_iii_of_sweden--parents--gustav_i_of_sweden\", 0.9552274], [\"charlotte_princess_royal--parents--charlotte_of_mecklenburg-strelitz\", 0.9730996], [\"abdulmecid--parents--mahmud_ii\", 0.9892191], [\"sukumalmarsri--parents--mongkut\", 0.80018896], [\"geoffrey_ii_duke_of_brittany--parents--henry_ii_of_england\", 0.9751305], [\"augusta_of_cambridge--parents--princess_augusta_of_hesse-kassel\", 0.98547643], [\"duke_george_augustus_of_mecklenburg--parents--charles_louis_frederick_duke_of_mecklenburg_mirow\", 0.9752793], [\"elizabeth_medora_leigh--parents--george_byron_6th_baron_byron\", 0.96682817], [\"galeria_valeria--parents--diocletian\", 0.9601176], [\"dominik_mikolaj_radziwill--parents--aleksander_ludwik_radziwill\", 0.97936845], [\"henry_howard_7th_duke_of_norfolk--parents--henry_howard_6th_duke_of_norfolk\", 0.9702331], [\"augustus_pugin--parents--augustus_charles_pugin\", 0.98073936], [\"christian_v_of_denmark--parents--sophia_amelia_of_brunswick_luneburg\", 0.976494], [\"isabel_of_france--parents--louis_viii_of_france\", 0.8680845], [\"elisabeth_of_parma--parents--dorothea_sophie_of_neuburg\", 0.9737673], [\"richard_i_of_england--parents--henry_ii_of_england\", 0.98376], [\"alexis_i_du_pont_bayard--parents--thomas_f_bayard_jr\", 0.9787707], [\"catherine_of_braganza--parents--luisa_of_medina-sidonia\", 0.54259306], [\"theodore_ii_laskaris--parents--irene_lascarina\", 0.9648506], [\"james_stanley_10th_earl_of_derby--parents--charles_stanley_8th_earl_of_derby\", 0.9304358], [\"princess_amelia_sophia_of_great_britain--parents--george_ii_of_great_britain\", 0.9859283], [\"frances_gulick--parents--luther_gulick\", 0.941363], [\"charles_devreux--parents--margaret_of_artois\", 0.96911556], [\"antiochus_iii_the_great--parents--seleucus_ii_callinicus\", 0.9850825], [\"william_michael_rossetti--parents--gabriele_rossetti\", 0.9867381], [\"hugh_percy_3rd_duke_of_northumberland--parents--hugh_percy_2nd_duke_of_northumberland\", 0.97634536], [\"frederick_i_of_denmark--parents--dorothea_of_brandenburg\", 0.98210686], [\"ryan_patrick_bellar--parents--troy_ryan_bellar\", 0.97193855], [\"francesco_maria_ii_della_rovere--parents--guidobaldo_ii_della_rovere\", 0.9423761], [\"minamoto_no_yoriie--parents--hojo_masako\", 0.9856418], [\"frederick_terman--parents--lewis_terman\", 0.9708561], [\"catharina_of_sweden--parents--maria_of_palatinate_simmern\", 0.9608146], [\"baltasar_carlos_prince_of_asturias--parents--philip_iv_of_spain\", 0.97654176], [\"prince_henry_of_prussia--parents--sophia_dorothea_of_hanover\", 0.98229516], [\"patricia_kennedy_lawford--parents--joseph_p_kennedy_sr\", 0.73155105], [\"gabriel_de_borbon--parents--maria_amalia_of_saxony\", 0.7770967], [\"princess_cecilia_of_sweden_1807--parents--gustav_iv_adolf_of_sweden\", 0.9776373], [\"violante_of_bavaria--parents--ferdinand_maria_elector_of_bavaria\", 0.96904534], [\"franz_xaver_wolfgang_mozart--parents--wolfgang_amadeus_mozart\", 0.61086947], [\"hans_albert_einstein--parents--mileva_maric\", 0.98081756], [\"vilhelmine_marie_of_denmark--parents--frederick_vi_of_denmark\", 0.9696176], [\"princess_viktoria_of_prussia--parents--victoria_princess_royal\", 0.9627752], [\"james_rudolph_garfield--parents--james_garfield\", 0.9808333], [\"dorothea_of_denmark_electress_palatine--parents--christian_ii_of_denmark\", 0.4386606], [\"maria_christina_of_the_two_sicilies--parents--maria_isabella_of_spain\", 0.7103085], [\"maria_luisa_of_savoy--parents--victor_amadeus_ii_of_sardinia\", 0.96920353], [\"marie_of_brienne--parents--berenguela_of_leon\", 0.97387797], [\"maria_isabel_of_portugal--parents--john_vi_of_portugal\", 0.9896506], [\"emperor_komei--parents--emperor_ninko\", 0.9812971], [\"hugh_oconnor--parents--carroll_oconnor\", 0.9565969], [\"svetoslav_roerich--parents--nicholas_roerich\", 0.97442687], [\"prince_maurice_of_battenberg--parents--princess_beatrice_of_the_united_kingdom\", 0.9254762], [\"adolphe_grand_duke_of_luxembourg--parents--wilhelm_duke_of_nassau\", 0.9751066], [\"henry_iii_of_france--parents--henry_ii_of_france\", 0.9642366], [\"henry_herbert_2nd_earl_of_pembroke--parents--anne_herbert_countess_of_pembroke\", 0.9682901], [\"princess_ileana_of_romania--parents--marie_of_edinburgh\", 0.9851478], [\"theodosius_ii--parents--aelia_eudoxia\", 0.6729651], [\"clementine_of_orleans--parents--maria_amalia_of_the_two_sicilies\", 0.9749135], [\"enno_louis_prince_of_ostfriesland--parents--ulrich_ii_count_of_ostfriesland\", 0.97741574], [\"john_i_of_france--parents--louis_x_of_france\", 0.023947218], [\"aleksandar_obrenovic--parents--natalija_obrenovic\", 0.9815599], [\"publius_septimius_geta--parents--julia_domna\", 0.9722038], [\"elliott_roosevelt_i--parents--theodore_roosevelt_sr\", 0.97683126], [\"cleopatra_thea--parents--cleopatra_ii_of_egypt\", 0.9881151], [\"philippe_ii_duke_of_orleans--parents--philippe_i_duke_of_orleans\", 0.84335303], [\"princess_elizabeth_of_the_united_kingdom--parents--george_iii_of_the_united_kingdom\", 0.9633542], [\"lady_jane_grey--parents--lady_frances_brandon\", 0.98196423], [\"anne_of_great_britain--parents--anne_hyde\", 0.96934223], [\"jovan_vladimir--parents--petrislav_of_duklja_and_travunia\", 0.9737017], [\"lindsay_crosby--parents--bing_crosby\", 0.96038955], [\"princess_adelgunde_of_bavaria--parents--therese_of_saxe_hildburghausen\", 0.98799706], [\"mary_plantagenet--parents--edward_iii_of_england\", 0.9811323], [\"rudolph_i_of_bohemia--parents--albert_i_of_germany\", 0.97996587], [\"harald_v_of_norway--parents--princess_martha_of_sweden\", 0.038780075], [\"margaret_of_york--parents--cecily_neville\", 0.9874077], [\"louise_marie_adelaide_de_bourbon_penthievre--parents--maria_teresa_deste\", 0.97583395], [\"ptolemy_x_alexander_i--parents--berenice_iii_of_egypt\", 0.96424174], [\"charles_ii_gonzaga--parents--charles_i_duke_of_mantua\", 0.9748905], [\"prince_willem_of_the_netherlands--parents--william_iii_of_the_netherlands\", 0.9858641], [\"meredith_macrae--parents--gordon_macrae\", 0.9395109], [\"edward_the_martyr--parents--edgar_of_england\", 0.9623234], [\"sebastian_of_portugal--parents--john_crown_prince_of_portugal\", 0.97903824], [\"pierre_koechlin--parents--emma_rossier\", 0.9553046], [\"philip_ii_duke_of_burgundy--parents--bonne_of_bohemia\", 0.967347], [\"mary_shelley--parents--mary_wollstonecraft\", 0.96337235], [\"frederick_ix_of_denmark--parents--christian_x_of_denmark\", 0.9503574], [\"stefan_uro_ii_milutin_of_serbia--parents--helene_danjou\", 0.97644687], [\"archduchess_luise_princess_of_tuscany--parents--ferdinand_iv_grand_duke_of_tuscany\", 0.9771985], [\"george_crown_prince_of_serbia--parents--zorka_of_montenegro\", 0.9777884], [\"john_ii_of_france--parents--philip_vi_of_france\", 0.97351474], [\"albert_francis_capone--parents--mae_capone\", 0.9512877]], \"hovertemplate\": \"experiment=with parent--child path<br>ndcg: random=%{x}<br>ndcg: score heuristic=%{y}<br>query triple=%{customdata[0]}<br>kge score=%{customdata[1]}<br>num true=%{marker.color}<extra></extra>\", \"legendgroup\": \"\", \"marker\": {\"color\": [2, 18, 1, 8, 2, 2, 5, 6, 18, 5, 1, 11, 7, 1, 1, 1, 1, 1, 1, 7, 9, 1, 11, 1, 9, 2, 1, 11, 1, 1, 1, 2, 1, 7, 6, 1, 6, 1, 5, 6, 14, 11, 8, 7, 1, 6, 6, 3, 11, 5, 6, 8, 7, 2, 1, 1, 1, 1, 8, 1, 11, 5, 9, 6, 12, 1, 3, 5, 6, 8, 1, 5, 18, 3, 6, 1, 6, 5, 11, 1, 3, 10, 6, 1, 1, 6, 1, 1, 1, 2, 7, 5, 6, 6, 6, 3, 5, 5], \"coloraxis\": \"coloraxis\", \"line\": {\"color\": \"lightgrey\", \"width\": 0.5}, \"opacity\": 0.5, \"size\": 8, \"symbol\": \"circle\"}, \"mode\": \"markers\", \"name\": \"\", \"orientation\": \"v\", \"showlegend\": false, \"type\": \"scatter\", \"x\": [0.21348598607765604, 0.4170379021849668, 0.17199279804247747, 0.3089446838254115, 0.1804561283436261, 0.2047675944627488, 0.29904481792873694, 0.2837443497539291, 0.4173060014848449, 0.27745952499294546, 0.15571604376929962, 0.34108917906803493, 0.3048233265247379, 0.1636156133170789, 0.16647442327914075, 0.19087705202037414, 0.19198529613263352, 0.14979749797313324, 0.16749639259454444, 0.3055445837794451, 0.3367229430614921, 0.15378494233177642, 0.337837962594845, 0.14919335085965996, 0.33035563051849137, 0.2183126393896233, 0.16346517263779492, 0.3531841090425005, 0.1967972367470229, 0.16614185243441604, 0.1861270955442863, 0.20851169192740476, 0.1553836107250708, 0.3136700282402898, 0.3189135670025171, 0.17565048656591298, 0.3232271093600173, 0.16422580045873178, 0.28259201165965864, 0.2647045933825194, 0.38317201789972427, 0.3414850748657536, 0.3113995103503183, 0.3133868321845831, 0.1532742710649141, 0.2941385717723712, 0.2850041651883899, 0.22132524028229947, 0.35725663416183495, 0.2858384007422098, 0.3172771721099922, 0.30070728123582996, 0.2989789397776241, 0.2119211308492437, 0.1454291654326927, 0.19992656912923223, 0.16837711454623674, 0.1770540334910716, 0.3247492028452076, 0.17928556806465892, 0.3399188083850776, 0.2530022375151045, 0.32642139856508445, 0.2938811882234384, 0.35837039260395726, 0.18910451129800512, 0.23390051054845068, 0.2678170756394358, 0.2901764342808586, 0.30455821395459953, 0.1713913160852139, 0.25373132773623774, 0.41140040051598264, 0.2055649194723762, 0.2744241840453273, 0.22093731239390707, 0.3164767829432258, 0.2604400963406209, 0.3383973850106211, 0.16516726828460732, 0.23991695079237946, 0.3256240896713546, 0.28171876314092187, 0.162147485416519, 0.16438049417649012, 0.27293768780441086, 0.1819641345174049, 0.16837711454623674, 0.15732811925755025, 0.21596426941317015, 0.3165894881589323, 0.2747281965019667, 0.28191731194502295, 0.2916242676994457, 0.2931171178955352, 0.2153607960067799, 0.27401078543451124, 0.2852316636788228], \"xaxis\": \"x\", \"y\": [0.7601875334318686, 0.6349473489247037, 0.2702381544273198, 0.6734380041016965, 0.2345350139058422, 0.2537579740823649, 0.7818716154833572, 0.7071644734075845, 0.6272827338161849, 0.7477104077563566, 0.1556113914024948, 0.6489120469130581, 0.7552679722587853, 0.20584683246043411, 0.20584683246043411, 0.6309297535714573, 0.27894294565112965, 0.35620718710802235, 0.38685280723454163, 0.7014828362680585, 0.7020146759297301, 0.1934264036172717, 0.6509174518309936, 0.3154648767857289, 0.7047738323495353, 0.528721709100536, 0.2446505421182259, 0.6841359870631218, 1.0, 0.25, 0.2626495350371938, 0.7550160946314528, 0.27894294565112965, 0.7023868769945093, 0.8132170337247846, 0.2446505421182259, 0.7653260579710817, 0.6309297535714573, 0.7936274918804078, 0.7133722443205813, 0.6470955066866998, 0.6567272123975986, 0.7097880704794663, 0.7365799493823483, 0.20584683246043411, 0.7532822872352406, 0.8148357925907197, 0.3344801617544709, 0.6673153605104437, 0.8284871148613753, 0.7539879420670791, 0.3306839837297162, 0.7293586859518872, 0.7700871371433883, 0.1781035935540114, 0.28906482631788766, 1.0, 0.2559580248098152, 0.7171460646554005, 0.23981246656813138, 0.6674547374095868, 0.7642356891596209, 0.6889962737290569, 0.7780633070454531, 0.6564423499740621, 0.2446505421182259, 0.39172824101829434, 0.8478894976690764, 0.8148357925907197, 0.7271406107652886, 0.203795047090507, 0.7133501246270715, 0.6337762918002307, 0.6527899118999849, 0.7305267933175935, 1.0, 0.8166387052778556, 0.7294244963708625, 0.6790291697565858, 0.20584683246043411, 0.8212377705398239, 0.6756391932512326, 0.7065460243869306, 0.21810429198553116, 0.25, 0.7159345429922859, 0.38685280723454163, 0.21810429198553116, 0.22767024869695263, 0.7435918382736327, 0.7139856361407606, 0.7855122558711002, 0.7443797758037959, 0.776235588663005, 0.7653260579710817, 0.3053719715616364, 0.7467506964951488, 0.8677993508399438], \"yaxis\": \"y\"}, {\"customdata\": [[\"irene_doukaina_laskarina--parents--elena_of_bulgaria\", 0.9592115], [\"prince_augustus_frederick_duke_of_sussex--parents--charlotte_of_mecklenburg-strelitz\", 0.97009754], [\"vajirunhis--parents--savang_vadhana\", 0.9786349], [\"carlos_i_of_portugal--parents--maria_pia_of_italy\", 0.9735309], [\"alice_of_bourbon_parma--parents--louise_marie_therese_of_france\", 0.98301446], [\"theuderic_iii--parents--balthild\", 0.97680193], [\"john_iii_of_sweden--parents--gustav_i_of_sweden\", 0.9552274], [\"charlotte_princess_royal--parents--charlotte_of_mecklenburg-strelitz\", 0.9730996], [\"abdulmecid--parents--mahmud_ii\", 0.9892191], [\"geoffrey_ii_duke_of_brittany--parents--henry_ii_of_england\", 0.9751305], [\"augusta_of_cambridge--parents--princess_augusta_of_hesse-kassel\", 0.98547643], [\"christian_v_of_denmark--parents--sophia_amelia_of_brunswick_luneburg\", 0.976494], [\"isabel_of_france--parents--louis_viii_of_france\", 0.8680845], [\"richard_i_of_england--parents--henry_ii_of_england\", 0.98376], [\"catherine_of_braganza--parents--luisa_of_medina-sidonia\", 0.54259306], [\"theodore_ii_laskaris--parents--irene_lascarina\", 0.9648506], [\"princess_amelia_sophia_of_great_britain--parents--george_ii_of_great_britain\", 0.9859283], [\"william_michael_rossetti--parents--gabriele_rossetti\", 0.9867381], [\"frederick_i_of_denmark--parents--dorothea_of_brandenburg\", 0.98210686], [\"ryan_patrick_bellar--parents--troy_ryan_bellar\", 0.97193855], [\"minamoto_no_yoriie--parents--hojo_masako\", 0.9856418], [\"catharina_of_sweden--parents--maria_of_palatinate_simmern\", 0.9608146], [\"baltasar_carlos_prince_of_asturias--parents--philip_iv_of_spain\", 0.97654176], [\"prince_henry_of_prussia--parents--sophia_dorothea_of_hanover\", 0.98229516], [\"patricia_kennedy_lawford--parents--joseph_p_kennedy_sr\", 0.73155105], [\"gabriel_de_borbon--parents--maria_amalia_of_saxony\", 0.7770967], [\"princess_cecilia_of_sweden_1807--parents--gustav_iv_adolf_of_sweden\", 0.9776373], [\"franz_xaver_wolfgang_mozart--parents--wolfgang_amadeus_mozart\", 0.61086947], [\"hans_albert_einstein--parents--mileva_maric\", 0.98081756], [\"vilhelmine_marie_of_denmark--parents--frederick_vi_of_denmark\", 0.9696176], [\"princess_viktoria_of_prussia--parents--victoria_princess_royal\", 0.9627752], [\"james_rudolph_garfield--parents--james_garfield\", 0.9808333], [\"dorothea_of_denmark_electress_palatine--parents--christian_ii_of_denmark\", 0.4386606], [\"maria_christina_of_the_two_sicilies--parents--maria_isabella_of_spain\", 0.7103085], [\"maria_luisa_of_savoy--parents--victor_amadeus_ii_of_sardinia\", 0.96920353], [\"marie_of_brienne--parents--berenguela_of_leon\", 0.97387797], [\"prince_maurice_of_battenberg--parents--princess_beatrice_of_the_united_kingdom\", 0.9254762], [\"henry_iii_of_france--parents--henry_ii_of_france\", 0.9642366], [\"henry_herbert_2nd_earl_of_pembroke--parents--anne_herbert_countess_of_pembroke\", 0.9682901], [\"princess_ileana_of_romania--parents--marie_of_edinburgh\", 0.9851478], [\"theodosius_ii--parents--aelia_eudoxia\", 0.6729651], [\"clementine_of_orleans--parents--maria_amalia_of_the_two_sicilies\", 0.9749135], [\"john_i_of_france--parents--louis_x_of_france\", 0.023947218], [\"aleksandar_obrenovic--parents--natalija_obrenovic\", 0.9815599], [\"publius_septimius_geta--parents--julia_domna\", 0.9722038], [\"elliott_roosevelt_i--parents--theodore_roosevelt_sr\", 0.97683126], [\"philippe_ii_duke_of_orleans--parents--philippe_i_duke_of_orleans\", 0.84335303], [\"princess_elizabeth_of_the_united_kingdom--parents--george_iii_of_the_united_kingdom\", 0.9633542], [\"lady_jane_grey--parents--lady_frances_brandon\", 0.98196423], [\"anne_of_great_britain--parents--anne_hyde\", 0.96934223], [\"lindsay_crosby--parents--bing_crosby\", 0.96038955], [\"princess_adelgunde_of_bavaria--parents--therese_of_saxe_hildburghausen\", 0.98799706], [\"mary_plantagenet--parents--edward_iii_of_england\", 0.9811323], [\"harald_v_of_norway--parents--princess_martha_of_sweden\", 0.038780075], [\"margaret_of_york--parents--cecily_neville\", 0.9874077], [\"louise_marie_adelaide_de_bourbon_penthievre--parents--maria_teresa_deste\", 0.97583395], [\"prince_willem_of_the_netherlands--parents--william_iii_of_the_netherlands\", 0.9858641], [\"pierre_koechlin--parents--emma_rossier\", 0.9553046], [\"philip_ii_duke_of_burgundy--parents--bonne_of_bohemia\", 0.967347], [\"mary_shelley--parents--mary_wollstonecraft\", 0.96337235], [\"frederick_ix_of_denmark--parents--christian_x_of_denmark\", 0.9503574], [\"stefan_uro_ii_milutin_of_serbia--parents--helene_danjou\", 0.97644687], [\"archduchess_luise_princess_of_tuscany--parents--ferdinand_iv_grand_duke_of_tuscany\", 0.9771985], [\"george_crown_prince_of_serbia--parents--zorka_of_montenegro\", 0.9777884], [\"john_ii_of_france--parents--philip_vi_of_france\", 0.97351474], [\"albert_francis_capone--parents--mae_capone\", 0.9512877]], \"hovertemplate\": \"experiment=without parent--child path<br>ndcg: random=%{x}<br>ndcg: score heuristic=%{y}<br>query triple=%{customdata[0]}<br>kge score=%{customdata[1]}<br>num true=%{marker.color}<extra></extra>\", \"legendgroup\": \"\", \"marker\": {\"color\": [2, 17, 7, 1, 1, 4, 5, 17, 4, 10, 6, 6, 8, 10, 8, 2, 10, 2, 6, 5, 5, 4, 5, 13, 10, 7, 6, 5, 5, 2, 10, 4, 5, 7, 6, 2, 7, 10, 4, 8, 5, 11, 3, 4, 5, 7, 4, 17, 2, 5, 5, 4, 10, 3, 9, 5, 5, 2, 6, 4, 5, 5, 5, 2, 4, 4], \"coloraxis\": \"coloraxis\", \"line\": {\"color\": \"lightgrey\", \"width\": 0.5}, \"opacity\": 0.5, \"size\": 8, \"symbol\": \"circle\"}, \"mode\": \"markers\", \"name\": \"\", \"orientation\": \"v\", \"showlegend\": false, \"type\": \"scatter\", \"x\": [0.21375336346840149, 0.4087429892833388, 0.2939577990899658, 0.1472337673342951, 0.16715160920880112, 0.27573177525935555, 0.2652137834811723, 0.4090066530132278, 0.25572530429744383, 0.3293085404378357, 0.28785726745148404, 0.28854114444259055, 0.32235875825144367, 0.3261600784235811, 0.3162392169622342, 0.2186165887405389, 0.34102588158403413, 0.20874479808068402, 0.29624793767114904, 0.29825751499673187, 0.3023174858676279, 0.2604787167669223, 0.2473613281146021, 0.37305694049715415, 0.32969195915939986, 0.2963017225870151, 0.29597925494532057, 0.27496987219233626, 0.2663958525873492, 0.1929305893316724, 0.3449730119564649, 0.26348647124890123, 0.2967177586401588, 0.2860950448129003, 0.2823170351845834, 0.2121773615639671, 0.30905474203500477, 0.32817510015300266, 0.2331017189470779, 0.3124592847663907, 0.2747281965019667, 0.34713468870236097, 0.23390051054845068, 0.24680066297559788, 0.2712500773175776, 0.2897703617561574, 0.23377555160912739, 0.4031994795794941, 0.1791482324345816, 0.2564720295326378, 0.295964724357735, 0.23997747512992865, 0.32670178395795624, 0.23991695079237946, 0.3131444053580703, 0.2633134247122007, 0.25507829323672465, 0.2162500054817917, 0.2990181181685984, 0.2531965738519771, 0.2634996865483534, 0.2726092221826373, 0.27401078543451124, 0.18771249932142983, 0.25253247461159917, 0.2629242655763429], \"xaxis\": \"x2\", \"y\": [0.7601875334318686, 0.634042350980918, 0.6850936064269968, 0.19195872000656067, 0.20801459767650954, 0.8158858002212522, 0.7344517662196706, 0.6265083966031922, 0.7849299544487798, 0.6527060051101697, 0.7653260579710817, 0.7171084551052197, 0.7082560532107725, 0.654439990871181, 0.7164371259727549, 0.528721709100536, 0.6856498493434255, 0.7550160946314528, 0.7181237190714869, 0.8241968959615449, 0.782651692753787, 0.8246028896512471, 0.7387900512627676, 0.6475560781359946, 0.6626150269462306, 0.7209876194963977, 0.747605700632022, 0.7844962625812714, 0.8262176208790671, 0.30657830235404177, 0.6702011796231969, 0.8510717840361741, 0.7840187458633483, 0.3197656626472887, 0.742379853067411, 0.7700871371433883, 0.7261642049960467, 0.6704686207249967, 0.8000927505012357, 0.6943541753093309, 0.8022470948000863, 0.6585207248942736, 0.39172824101829434, 0.8670436848381937, 0.8284871148613753, 0.7339848671103727, 0.7616601053517781, 0.632666194950521, 0.7299832563724273, 0.7531007563216909, 0.8284871148613753, 0.7723602432858477, 0.6815113511529666, 0.8212377705398239, 0.6798550321449619, 0.7337586015671783, 0.7406705580775249, 0.7435918382736327, 0.7295081641093021, 0.8178407567289051, 0.7658500885823333, 0.7927969330483376, 0.7838137995835671, 0.27004001937292454, 0.7871291025593156, 0.8899603164338973], \"yaxis\": \"y2\"}],                        {\"annotations\": [{\"font\": {}, \"showarrow\": false, \"text\": \"experiment=with parent--child path\", \"x\": 0.245, \"xanchor\": \"center\", \"xref\": \"paper\", \"y\": 1.0, \"yanchor\": \"bottom\", \"yref\": \"paper\"}, {\"font\": {}, \"showarrow\": false, \"text\": \"experiment=without parent--child path\", \"x\": 0.755, \"xanchor\": \"center\", \"xref\": \"paper\", \"y\": 1.0, \"yanchor\": \"bottom\", \"yref\": \"paper\"}], \"coloraxis\": {\"colorbar\": {\"title\": {\"text\": \"num true\"}}, \"colorscale\": [[0.0, \"rgb(253, 237, 176)\"], [0.09090909090909091, \"rgb(250, 205, 145)\"], [0.18181818181818182, \"rgb(246, 173, 119)\"], [0.2727272727272727, \"rgb(240, 142, 98)\"], [0.36363636363636365, \"rgb(231, 109, 84)\"], [0.45454545454545453, \"rgb(216, 80, 83)\"], [0.5454545454545454, \"rgb(195, 56, 90)\"], [0.6363636363636364, \"rgb(168, 40, 96)\"], [0.7272727272727273, \"rgb(138, 29, 99)\"], [0.8181818181818182, \"rgb(107, 24, 93)\"], [0.9090909090909091, \"rgb(76, 21, 80)\"], [1.0, \"rgb(47, 15, 61)\"]]}, \"height\": 300, \"legend\": {\"tracegroupgap\": 0}, \"margin\": {\"t\": 60}, \"plot_bgcolor\": \"#f0f0f0\", \"shapes\": [{\"line\": {\"color\": \"gray\", \"dash\": \"dot\", \"width\": 1}, \"type\": \"line\", \"x0\": 0, \"x1\": 1.1, \"xref\": \"x\", \"y0\": 0, \"y1\": 1.1, \"yref\": \"y\"}, {\"line\": {\"color\": \"gray\", \"dash\": \"dot\", \"width\": 1}, \"type\": \"line\", \"x0\": 0, \"x1\": 1.1, \"xref\": \"x2\", \"y0\": 0, \"y1\": 1.1, \"yref\": \"y2\"}], \"template\": {\"data\": {\"bar\": [{\"error_x\": {\"color\": \"#2a3f5f\"}, \"error_y\": {\"color\": \"#2a3f5f\"}, \"marker\": {\"line\": {\"color\": \"#E5ECF6\", \"width\": 0.5}}, \"type\": \"bar\"}], \"barpolar\": [{\"marker\": {\"line\": {\"color\": \"#E5ECF6\", \"width\": 0.5}}, \"type\": \"barpolar\"}], \"carpet\": [{\"aaxis\": {\"endlinecolor\": \"#2a3f5f\", \"gridcolor\": \"white\", \"linecolor\": \"white\", \"minorgridcolor\": \"white\", \"startlinecolor\": \"#2a3f5f\"}, \"baxis\": {\"endlinecolor\": \"#2a3f5f\", \"gridcolor\": \"white\", \"linecolor\": \"white\", \"minorgridcolor\": \"white\", \"startlinecolor\": \"#2a3f5f\"}, \"type\": \"carpet\"}], \"choropleth\": [{\"colorbar\": {\"outlinewidth\": 0, \"ticks\": \"\"}, \"type\": \"choropleth\"}], \"contour\": [{\"colorbar\": {\"outlinewidth\": 0, \"ticks\": \"\"}, \"colorscale\": [[0.0, \"#0d0887\"], [0.1111111111111111, \"#46039f\"], [0.2222222222222222, \"#7201a8\"], [0.3333333333333333, \"#9c179e\"], [0.4444444444444444, \"#bd3786\"], [0.5555555555555556, \"#d8576b\"], [0.6666666666666666, \"#ed7953\"], [0.7777777777777778, \"#fb9f3a\"], [0.8888888888888888, \"#fdca26\"], [1.0, \"#f0f921\"]], \"type\": \"contour\"}], \"contourcarpet\": [{\"colorbar\": {\"outlinewidth\": 0, \"ticks\": \"\"}, \"type\": \"contourcarpet\"}], \"heatmap\": [{\"colorbar\": {\"outlinewidth\": 0, \"ticks\": \"\"}, \"colorscale\": [[0.0, \"#0d0887\"], [0.1111111111111111, \"#46039f\"], [0.2222222222222222, \"#7201a8\"], [0.3333333333333333, \"#9c179e\"], [0.4444444444444444, \"#bd3786\"], [0.5555555555555556, \"#d8576b\"], [0.6666666666666666, \"#ed7953\"], [0.7777777777777778, \"#fb9f3a\"], [0.8888888888888888, \"#fdca26\"], [1.0, \"#f0f921\"]], \"type\": \"heatmap\"}], \"heatmapgl\": [{\"colorbar\": {\"outlinewidth\": 0, \"ticks\": \"\"}, \"colorscale\": [[0.0, \"#0d0887\"], [0.1111111111111111, \"#46039f\"], [0.2222222222222222, \"#7201a8\"], [0.3333333333333333, \"#9c179e\"], [0.4444444444444444, \"#bd3786\"], [0.5555555555555556, \"#d8576b\"], [0.6666666666666666, \"#ed7953\"], [0.7777777777777778, \"#fb9f3a\"], [0.8888888888888888, \"#fdca26\"], [1.0, \"#f0f921\"]], \"type\": \"heatmapgl\"}], \"histogram\": [{\"marker\": {\"colorbar\": {\"outlinewidth\": 0, \"ticks\": \"\"}}, \"type\": \"histogram\"}], \"histogram2d\": [{\"colorbar\": {\"outlinewidth\": 0, \"ticks\": \"\"}, \"colorscale\": [[0.0, \"#0d0887\"], [0.1111111111111111, \"#46039f\"], [0.2222222222222222, \"#7201a8\"], [0.3333333333333333, \"#9c179e\"], [0.4444444444444444, \"#bd3786\"], [0.5555555555555556, \"#d8576b\"], [0.6666666666666666, \"#ed7953\"], [0.7777777777777778, \"#fb9f3a\"], [0.8888888888888888, \"#fdca26\"], [1.0, \"#f0f921\"]], \"type\": \"histogram2d\"}], \"histogram2dcontour\": [{\"colorbar\": {\"outlinewidth\": 0, \"ticks\": \"\"}, \"colorscale\": [[0.0, \"#0d0887\"], [0.1111111111111111, \"#46039f\"], [0.2222222222222222, \"#7201a8\"], [0.3333333333333333, \"#9c179e\"], [0.4444444444444444, \"#bd3786\"], [0.5555555555555556, \"#d8576b\"], [0.6666666666666666, \"#ed7953\"], [0.7777777777777778, \"#fb9f3a\"], [0.8888888888888888, \"#fdca26\"], [1.0, \"#f0f921\"]], \"type\": \"histogram2dcontour\"}], \"mesh3d\": [{\"colorbar\": {\"outlinewidth\": 0, \"ticks\": \"\"}, \"type\": \"mesh3d\"}], \"parcoords\": [{\"line\": {\"colorbar\": {\"outlinewidth\": 0, \"ticks\": \"\"}}, \"type\": \"parcoords\"}], \"pie\": [{\"automargin\": true, \"type\": \"pie\"}], \"scatter\": [{\"marker\": {\"colorbar\": {\"outlinewidth\": 0, \"ticks\": \"\"}}, \"type\": \"scatter\"}], \"scatter3d\": [{\"line\": {\"colorbar\": {\"outlinewidth\": 0, \"ticks\": \"\"}}, \"marker\": {\"colorbar\": {\"outlinewidth\": 0, \"ticks\": \"\"}}, \"type\": \"scatter3d\"}], \"scattercarpet\": [{\"marker\": {\"colorbar\": {\"outlinewidth\": 0, \"ticks\": \"\"}}, \"type\": \"scattercarpet\"}], \"scattergeo\": [{\"marker\": {\"colorbar\": {\"outlinewidth\": 0, \"ticks\": \"\"}}, \"type\": \"scattergeo\"}], \"scattergl\": [{\"marker\": {\"colorbar\": {\"outlinewidth\": 0, \"ticks\": \"\"}}, \"type\": \"scattergl\"}], \"scattermapbox\": [{\"marker\": {\"colorbar\": {\"outlinewidth\": 0, \"ticks\": \"\"}}, \"type\": \"scattermapbox\"}], \"scatterpolar\": [{\"marker\": {\"colorbar\": {\"outlinewidth\": 0, \"ticks\": \"\"}}, \"type\": \"scatterpolar\"}], \"scatterpolargl\": [{\"marker\": {\"colorbar\": {\"outlinewidth\": 0, \"ticks\": \"\"}}, \"type\": \"scatterpolargl\"}], \"scatterternary\": [{\"marker\": {\"colorbar\": {\"outlinewidth\": 0, \"ticks\": \"\"}}, \"type\": \"scatterternary\"}], \"surface\": [{\"colorbar\": {\"outlinewidth\": 0, \"ticks\": \"\"}, \"colorscale\": [[0.0, \"#0d0887\"], [0.1111111111111111, \"#46039f\"], [0.2222222222222222, \"#7201a8\"], [0.3333333333333333, \"#9c179e\"], [0.4444444444444444, \"#bd3786\"], [0.5555555555555556, \"#d8576b\"], [0.6666666666666666, \"#ed7953\"], [0.7777777777777778, \"#fb9f3a\"], [0.8888888888888888, \"#fdca26\"], [1.0, \"#f0f921\"]], \"type\": \"surface\"}], \"table\": [{\"cells\": {\"fill\": {\"color\": \"#EBF0F8\"}, \"line\": {\"color\": \"white\"}}, \"header\": {\"fill\": {\"color\": \"#C8D4E3\"}, \"line\": {\"color\": \"white\"}}, \"type\": \"table\"}]}, \"layout\": {\"annotationdefaults\": {\"arrowcolor\": \"#2a3f5f\", \"arrowhead\": 0, \"arrowwidth\": 1}, \"autotypenumbers\": \"strict\", \"coloraxis\": {\"colorbar\": {\"outlinewidth\": 0, \"ticks\": \"\"}}, \"colorscale\": {\"diverging\": [[0, \"#8e0152\"], [0.1, \"#c51b7d\"], [0.2, \"#de77ae\"], [0.3, \"#f1b6da\"], [0.4, \"#fde0ef\"], [0.5, \"#f7f7f7\"], [0.6, \"#e6f5d0\"], [0.7, \"#b8e186\"], [0.8, \"#7fbc41\"], [0.9, \"#4d9221\"], [1, \"#276419\"]], \"sequential\": [[0.0, \"#0d0887\"], [0.1111111111111111, \"#46039f\"], [0.2222222222222222, \"#7201a8\"], [0.3333333333333333, \"#9c179e\"], [0.4444444444444444, \"#bd3786\"], [0.5555555555555556, \"#d8576b\"], [0.6666666666666666, \"#ed7953\"], [0.7777777777777778, \"#fb9f3a\"], [0.8888888888888888, \"#fdca26\"], [1.0, \"#f0f921\"]], \"sequentialminus\": [[0.0, \"#0d0887\"], [0.1111111111111111, \"#46039f\"], [0.2222222222222222, \"#7201a8\"], [0.3333333333333333, \"#9c179e\"], [0.4444444444444444, \"#bd3786\"], [0.5555555555555556, \"#d8576b\"], [0.6666666666666666, \"#ed7953\"], [0.7777777777777778, \"#fb9f3a\"], [0.8888888888888888, \"#fdca26\"], [1.0, \"#f0f921\"]]}, \"colorway\": [\"#636efa\", \"#EF553B\", \"#00cc96\", \"#ab63fa\", \"#FFA15A\", \"#19d3f3\", \"#FF6692\", \"#B6E880\", \"#FF97FF\", \"#FECB52\"], \"font\": {\"color\": \"#2a3f5f\"}, \"geo\": {\"bgcolor\": \"white\", \"lakecolor\": \"white\", \"landcolor\": \"#E5ECF6\", \"showlakes\": true, \"showland\": true, \"subunitcolor\": \"white\"}, \"hoverlabel\": {\"align\": \"left\"}, \"hovermode\": \"closest\", \"mapbox\": {\"style\": \"light\"}, \"paper_bgcolor\": \"white\", \"plot_bgcolor\": \"#E5ECF6\", \"polar\": {\"angularaxis\": {\"gridcolor\": \"white\", \"linecolor\": \"white\", \"ticks\": \"\"}, \"bgcolor\": \"#E5ECF6\", \"radialaxis\": {\"gridcolor\": \"white\", \"linecolor\": \"white\", \"ticks\": \"\"}}, \"scene\": {\"xaxis\": {\"backgroundcolor\": \"#E5ECF6\", \"gridcolor\": \"white\", \"gridwidth\": 2, \"linecolor\": \"white\", \"showbackground\": true, \"ticks\": \"\", \"zerolinecolor\": \"white\"}, \"yaxis\": {\"backgroundcolor\": \"#E5ECF6\", \"gridcolor\": \"white\", \"gridwidth\": 2, \"linecolor\": \"white\", \"showbackground\": true, \"ticks\": \"\", \"zerolinecolor\": \"white\"}, \"zaxis\": {\"backgroundcolor\": \"#E5ECF6\", \"gridcolor\": \"white\", \"gridwidth\": 2, \"linecolor\": \"white\", \"showbackground\": true, \"ticks\": \"\", \"zerolinecolor\": \"white\"}}, \"shapedefaults\": {\"line\": {\"color\": \"#2a3f5f\"}}, \"ternary\": {\"aaxis\": {\"gridcolor\": \"white\", \"linecolor\": \"white\", \"ticks\": \"\"}, \"baxis\": {\"gridcolor\": \"white\", \"linecolor\": \"white\", \"ticks\": \"\"}, \"bgcolor\": \"#E5ECF6\", \"caxis\": {\"gridcolor\": \"white\", \"linecolor\": \"white\", \"ticks\": \"\"}}, \"title\": {\"x\": 0.05}, \"xaxis\": {\"automargin\": true, \"gridcolor\": \"white\", \"linecolor\": \"white\", \"ticks\": \"\", \"title\": {\"standoff\": 15}, \"zerolinecolor\": \"white\", \"zerolinewidth\": 2}, \"yaxis\": {\"automargin\": true, \"gridcolor\": \"white\", \"linecolor\": \"white\", \"ticks\": \"\", \"title\": {\"standoff\": 15}, \"zerolinecolor\": \"white\", \"zerolinewidth\": 2}}}, \"width\": 700, \"xaxis\": {\"anchor\": \"y\", \"domain\": [0.0, 0.49], \"title\": {\"text\": \"ndcg: random\"}}, \"xaxis2\": {\"anchor\": \"y2\", \"domain\": [0.51, 1.0], \"matches\": \"x\", \"title\": {\"text\": \"ndcg: random\"}}, \"yaxis\": {\"anchor\": \"x\", \"domain\": [0.0, 1.0], \"title\": {\"text\": \"ndcg: score heuristic\"}}, \"yaxis2\": {\"anchor\": \"x2\", \"domain\": [0.0, 1.0], \"matches\": \"y\", \"showticklabels\": false}},                        {\"responsive\": true}                    ).then(function(){\n",
       "                            \n",
       "var gd = document.getElementById('abcb94fd-f3e8-475b-a1ed-c06556c52f9b');\n",
       "var x = new MutationObserver(function (mutations, observer) {{\n",
       "        var display = window.getComputedStyle(gd).display;\n",
       "        if (!display || display === 'none') {{\n",
       "            console.log([gd, 'removed!']);\n",
       "            Plotly.purge(gd);\n",
       "            observer.disconnect();\n",
       "        }}\n",
       "}});\n",
       "\n",
       "// Listen for the removal of the full notebook cells\n",
       "var notebookContainer = gd.closest('#notebook-container');\n",
       "if (notebookContainer) {{\n",
       "    x.observe(notebookContainer, {childList: true});\n",
       "}}\n",
       "\n",
       "// Listen for the clearing of the current output cell\n",
       "var outputEl = gd.closest('.output');\n",
       "if (outputEl) {{\n",
       "    x.observe(outputEl, {childList: true});\n",
       "}}\n",
       "\n",
       "                        })                };                });            </script>        </div>"
      ]
     },
     "metadata": {},
     "output_type": "display_data"
    }
   ],
   "source": [
    "overlay = 'num true'\n",
    "M = pd.DataFrame(metrics)  \n",
    "\n",
    "plot_scatter_with_facets(M=M, x='ndcg: random', y='ndcg: linklogic', color=overlay, filename=None)\n",
    "plot_scatter_with_facets(M=M, x='ndcg: score heuristic', y='ndcg: linklogic', color=overlay, filename=None)\n",
    "plot_scatter_with_facets(M=M, x='ndcg: random', y='ndcg: score heuristic', color=overlay, filename=None)"
   ]
  },
  {
   "cell_type": "code",
   "execution_count": 15,
   "id": "cd66021f-d39f-4ab2-bff2-5cdc84d87c19",
   "metadata": {},
   "outputs": [
    {
     "data": {
      "text/html": [
       "<div>\n",
       "<style scoped>\n",
       "    .dataframe tbody tr th:only-of-type {\n",
       "        vertical-align: middle;\n",
       "    }\n",
       "\n",
       "    .dataframe tbody tr th {\n",
       "        vertical-align: top;\n",
       "    }\n",
       "\n",
       "    .dataframe thead th {\n",
       "        text-align: right;\n",
       "    }\n",
       "</style>\n",
       "<table border=\"1\" class=\"dataframe\">\n",
       "  <thead>\n",
       "    <tr style=\"text-align: right;\">\n",
       "      <th></th>\n",
       "      <th>ndcg: random</th>\n",
       "      <th>ndcg: score heuristic</th>\n",
       "      <th>ndcg: linklogic</th>\n",
       "    </tr>\n",
       "    <tr>\n",
       "      <th>experiment</th>\n",
       "      <th></th>\n",
       "      <th></th>\n",
       "      <th></th>\n",
       "    </tr>\n",
       "  </thead>\n",
       "  <tbody>\n",
       "    <tr>\n",
       "      <th>with parent--child path</th>\n",
       "      <td>0.253658</td>\n",
       "      <td>0.576383</td>\n",
       "      <td>0.774249</td>\n",
       "    </tr>\n",
       "    <tr>\n",
       "      <th>without parent--child path</th>\n",
       "      <td>0.277726</td>\n",
       "      <td>0.700539</td>\n",
       "      <td>0.715680</td>\n",
       "    </tr>\n",
       "  </tbody>\n",
       "</table>\n",
       "</div>"
      ],
      "text/plain": [
       "                            ndcg: random  ndcg: score heuristic  \\\n",
       "experiment                                                        \n",
       "with parent--child path         0.253658               0.576383   \n",
       "without parent--child path      0.277726               0.700539   \n",
       "\n",
       "                            ndcg: linklogic  \n",
       "experiment                                   \n",
       "with parent--child path            0.774249  \n",
       "without parent--child path         0.715680  "
      ]
     },
     "execution_count": 15,
     "metadata": {},
     "output_type": "execute_result"
    }
   ],
   "source": [
    "M.groupby('experiment')[['ndcg: random', 'ndcg: score heuristic', 'ndcg: linklogic']].mean()"
   ]
  }
 ],
 "metadata": {
  "kernelspec": {
   "display_name": "Python 3",
   "language": "python",
   "name": "python3"
  },
  "language_info": {
   "codemirror_mode": {
    "name": "ipython",
    "version": 3
   },
   "file_extension": ".py",
   "mimetype": "text/x-python",
   "name": "python",
   "nbconvert_exporter": "python",
   "pygments_lexer": "ipython3",
   "version": "3.6.5"
  }
 },
 "nbformat": 4,
 "nbformat_minor": 5
}
