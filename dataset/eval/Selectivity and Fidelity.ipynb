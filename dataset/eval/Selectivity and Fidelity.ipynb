{
 "cells": [
  {
   "cell_type": "code",
   "execution_count": 1,
   "id": "679bf39e-3d4c-4a45-b485-e94ae4f49e2f",
   "metadata": {},
   "outputs": [],
   "source": [
    "import pandas as pd\n",
    "import pickle5 as pickle\n",
    "import numpy as np\n",
    "from collections import defaultdict\n",
    "import json\n",
    "from tqdm import tqdm\n",
    "\n",
    "import matplotlib.pyplot as plt\n",
    "import seaborn as sns\n",
    "import plot\n",
    "import eval\n",
    "\n",
    "pd.options.mode.chained_assignment = None # turns off pandas SettingWithCopyWarning"
   ]
  },
  {
   "cell_type": "code",
   "execution_count": 2,
   "id": "1c9fc54a-1fb7-4ac5-bbfe-ddcc0632a124",
   "metadata": {},
   "outputs": [],
   "source": [
    "base_dir = '/Users/rhodos/Desktop/Projects/akbc2021/'\n",
    "figure_dir = f'{base_dir}figures/submission_june_21/'\n",
    "results_dir = f'{base_dir}explanations/linklogic/for_paper/true_false_nonsense/'"
   ]
  },
  {
   "cell_type": "code",
   "execution_count": 3,
   "id": "570f9c7f-834e-49f6-b44b-c41c224b86b8",
   "metadata": {},
   "outputs": [],
   "source": [
    "palette = plot.get_categorical_palette()\n",
    "\n",
    "heuristic90 = 'Path score heuristic, 0.90'\n",
    "heuristic95 = 'Path score heuristic, 0.95'\n",
    "\n",
    "thresh95 = -np.log(0.05)\n",
    "thresh90 = -np.log(0.1)"
   ]
  },
  {
   "cell_type": "code",
   "execution_count": 4,
   "id": "09951cb3-ecaa-4427-9714-dc29e0dec323",
   "metadata": {},
   "outputs": [
    {
     "name": "stdout",
     "output_type": "stream",
     "text": [
      "nonsense\n",
      "false_facts\n",
      "true_facts\n"
     ]
    }
   ],
   "source": [
    "# read in pickle files and extract explanation size\n",
    "experiments = {'nonsense': 'Nonsense',\n",
    "               'false_facts': 'False Fact',\n",
    "               'true_facts': 'True Fact'}\n",
    "P = dict()\n",
    "for experiment in experiments.keys():\n",
    "    print(experiment)\n",
    "    with open(f'{results_dir}/pickle_files/{experiment}.pickle', 'rb') as f:\n",
    "        P[experiment] = pickle.load(f)"
   ]
  },
  {
   "cell_type": "code",
   "execution_count": 5,
   "id": "51880c59-7a3d-4588-b0ba-e8009e562561",
   "metadata": {},
   "outputs": [
    {
     "name": "stdout",
     "output_type": "stream",
     "text": [
      "Nonsense\n",
      "False Fact\n",
      "True Fact\n"
     ]
    },
    {
     "data": {
      "text/plain": [
       "(3894, 9)"
      ]
     },
     "execution_count": 5,
     "metadata": {},
     "output_type": "execute_result"
    },
    {
     "data": {
      "text/html": [
       "<div>\n",
       "<style scoped>\n",
       "    .dataframe tbody tr th:only-of-type {\n",
       "        vertical-align: middle;\n",
       "    }\n",
       "\n",
       "    .dataframe tbody tr th {\n",
       "        vertical-align: top;\n",
       "    }\n",
       "\n",
       "    .dataframe thead th {\n",
       "        text-align: right;\n",
       "    }\n",
       "</style>\n",
       "<table border=\"1\" class=\"dataframe\">\n",
       "  <thead>\n",
       "    <tr style=\"text-align: right;\">\n",
       "      <th></th>\n",
       "      <th>Query Triple Category</th>\n",
       "      <th>Query Triple</th>\n",
       "      <th>KGE Score</th>\n",
       "      <th>linklogic Fidelity</th>\n",
       "      <th>Total Features Considered</th>\n",
       "      <th>linklogic</th>\n",
       "      <th>Path score heuristic, 0.90</th>\n",
       "      <th>Path score heuristic, 0.95</th>\n",
       "      <th>relation</th>\n",
       "    </tr>\n",
       "  </thead>\n",
       "  <tbody>\n",
       "    <tr>\n",
       "      <th>0</th>\n",
       "      <td>Nonsense</td>\n",
       "      <td>josaphat_kuncevyc--nationality--george_e_burch</td>\n",
       "      <td>0.013099</td>\n",
       "      <td>-0.000271</td>\n",
       "      <td>109</td>\n",
       "      <td>0</td>\n",
       "      <td>3</td>\n",
       "      <td>1</td>\n",
       "      <td>nationality</td>\n",
       "    </tr>\n",
       "    <tr>\n",
       "      <th>1</th>\n",
       "      <td>Nonsense</td>\n",
       "      <td>blanka_of_namur--gender--friedrich_vii_margrav...</td>\n",
       "      <td>0.024888</td>\n",
       "      <td>-0.000198</td>\n",
       "      <td>151</td>\n",
       "      <td>0</td>\n",
       "      <td>3</td>\n",
       "      <td>3</td>\n",
       "      <td>gender</td>\n",
       "    </tr>\n",
       "    <tr>\n",
       "      <th>2</th>\n",
       "      <td>Nonsense</td>\n",
       "      <td>alpheus_baker--profession--martha_bulloch</td>\n",
       "      <td>0.019042</td>\n",
       "      <td>-0.001908</td>\n",
       "      <td>188</td>\n",
       "      <td>0</td>\n",
       "      <td>9</td>\n",
       "      <td>6</td>\n",
       "      <td>profession</td>\n",
       "    </tr>\n",
       "    <tr>\n",
       "      <th>3</th>\n",
       "      <td>Nonsense</td>\n",
       "      <td>tim_russert--ethnicity--davis_hanson_waite</td>\n",
       "      <td>0.022815</td>\n",
       "      <td>-0.000209</td>\n",
       "      <td>188</td>\n",
       "      <td>0</td>\n",
       "      <td>5</td>\n",
       "      <td>3</td>\n",
       "      <td>ethnicity</td>\n",
       "    </tr>\n",
       "    <tr>\n",
       "      <th>4</th>\n",
       "      <td>Nonsense</td>\n",
       "      <td>andy_bowen--place_of_birth--kadambini_ganguly</td>\n",
       "      <td>0.038236</td>\n",
       "      <td>-0.000322</td>\n",
       "      <td>139</td>\n",
       "      <td>0</td>\n",
       "      <td>5</td>\n",
       "      <td>4</td>\n",
       "      <td>place_of_birth</td>\n",
       "    </tr>\n",
       "  </tbody>\n",
       "</table>\n",
       "</div>"
      ],
      "text/plain": [
       "  Query Triple Category                                       Query Triple  \\\n",
       "0              Nonsense     josaphat_kuncevyc--nationality--george_e_burch   \n",
       "1              Nonsense  blanka_of_namur--gender--friedrich_vii_margrav...   \n",
       "2              Nonsense          alpheus_baker--profession--martha_bulloch   \n",
       "3              Nonsense         tim_russert--ethnicity--davis_hanson_waite   \n",
       "4              Nonsense      andy_bowen--place_of_birth--kadambini_ganguly   \n",
       "\n",
       "   KGE Score  linklogic Fidelity  Total Features Considered  linklogic  \\\n",
       "0   0.013099           -0.000271                        109          0   \n",
       "1   0.024888           -0.000198                        151          0   \n",
       "2   0.019042           -0.001908                        188          0   \n",
       "3   0.022815           -0.000209                        188          0   \n",
       "4   0.038236           -0.000322                        139          0   \n",
       "\n",
       "   Path score heuristic, 0.90  Path score heuristic, 0.95        relation  \n",
       "0                           3                           1     nationality  \n",
       "1                           3                           3          gender  \n",
       "2                           9                           6      profession  \n",
       "3                           5                           3       ethnicity  \n",
       "4                           5                           4  place_of_birth  "
      ]
     },
     "execution_count": 5,
     "metadata": {},
     "output_type": "execute_result"
    }
   ],
   "source": [
    "# pull out relevant info into dataframe\n",
    "rows = []\n",
    "for exp, exp_long in experiments.items():\n",
    "    print(exp_long)\n",
    "    for triple in P[exp]:\n",
    "\n",
    "        heuristic_paths_90 = [p for p in triple['linklogic_features'] if p['kge_score']['path_score'] > thresh90]\n",
    "        heuristic_paths_95 = [p for p in triple['linklogic_features'] if p['kge_score']['path_score'] > thresh95]\n",
    "        \n",
    "        rows.append({\n",
    "            'Query Triple Category': exp_long,\n",
    "            'Query Triple': '--'.join(triple['query_triple']),\n",
    "            'KGE Score': float(triple['query_triple_kge_score']),\n",
    "            'linklogic Fidelity': triple['linklogic_metrics']['test_acc'],\n",
    "            'Total Features Considered': len(triple['linklogic_features']),\n",
    "            'linklogic': len(triple['linklogic_explanations']),\n",
    "            'Path score heuristic, 0.90': len(heuristic_paths_90),\n",
    "            'Path score heuristic, 0.95': len(heuristic_paths_95)\n",
    "        })\n",
    "data = pd.DataFrame(rows)\n",
    "data = data.drop_duplicates()\n",
    "data['relation'] = data['Query Triple'].apply(lambda x: x.split('--')[1])\n",
    "\n",
    "data.shape\n",
    "data.head()"
   ]
  },
  {
   "cell_type": "code",
   "execution_count": 6,
   "id": "36f6ad59-f811-4f3c-afc9-13ad417484eb",
   "metadata": {},
   "outputs": [
    {
     "data": {
      "image/png": "[encoded data removed]",
      "text/plain": [
       "<Figure size 360x288 with 1 Axes>"
      ]
     },
     "metadata": {
      "needs_background": "light"
     },
     "output_type": "display_data"
    }
   ],
   "source": [
    "_ = plt.figure(figsize=(5,4))\n",
    "g = sns.boxplot(data=data, x='Query Triple Category', y='KGE Score', color=palette['generic'], boxprops=dict(alpha=0.7))\n",
    "_ = g.set(xlabel=None)\n",
    "_ = g.get_figure().savefig(f'{figure_dir}quant_A.{plot.figtype}', bbox_inches='tight')"
   ]
  },
  {
   "cell_type": "code",
   "execution_count": 10,
   "id": "f0faaaae-3e40-4649-b0b7-fb1268a06186",
   "metadata": {},
   "outputs": [
    {
     "data": {
      "text/plain": [
       "Query Triple Category\n",
       "False Fact    0.034988\n",
       "Nonsense      0.021119\n",
       "True Fact     0.777588\n",
       "Name: KGE Score, dtype: float64"
      ]
     },
     "execution_count": 10,
     "metadata": {},
     "output_type": "execute_result"
    }
   ],
   "source": [
    "data.groupby('Query Triple Category')['KGE Score'].mean()"
   ]
  },
  {
   "cell_type": "code",
   "execution_count": 34,
   "id": "f8a05f92-7553-490d-afd6-52e572d273c5",
   "metadata": {},
   "outputs": [
    {
     "data": {
      "image/png": "[encoded data removed]",
      "text/plain": [
       "<Figure size 360x288 with 1 Axes>"
      ]
     },
     "metadata": {
      "needs_background": "light"
     },
     "output_type": "display_data"
    }
   ],
   "source": [
    "explain_size = pd.melt(data, id_vars=['Query Triple Category', 'Query Triple'], value_vars=['linklogic', 'Path score heuristic, 0.90', 'Path score heuristic, 0.95'])\n",
    "explain_size.columns = ['Query Triple Category', 'Query Triple', 'Method', 'Explanation Size']\n",
    "\n",
    "pal = {'Path score heuristic, 0.90': palette['Heuristic90'],\n",
    "       'Path score heuristic, 0.95': palette['Heuristic95'],\n",
    "       'linklogic': palette['linklogic']}\n",
    "\n",
    "_ = plt.figure(figsize=(5,4))\n",
    "g = sns.boxplot(data=explain_size, x='Query Triple Category', y='Explanation Size', \n",
    "                hue='Method', fliersize=0, palette=pal, boxprops=dict(alpha=.9), hue_order=pal.keys()) \n",
    "_ = g.set_ylim([0, 12]) \n",
    "_ = g.legend(loc='upper left')\n",
    "_ = g.set(xlabel=None)\n",
    "_ = g.get_figure().savefig(f'{figure_dir}quant_B.{plot.figtype}', bbox_inches='tight')"
   ]
  },
  {
   "cell_type": "code",
   "execution_count": 44,
   "id": "3df82124-efac-40a8-8bdc-84a9894d6ddc",
   "metadata": {},
   "outputs": [
    {
     "data": {
      "text/plain": [
       "Method                      Query Triple Category\n",
       "Path score heuristic, 0.90  False Fact               2.034615\n",
       "                            Nonsense                 2.854615\n",
       "                            True Fact                4.055641\n",
       "Path score heuristic, 0.95  False Fact               1.234615\n",
       "                            Nonsense                 1.693846\n",
       "                            True Fact                2.550232\n",
       "linklogic                   False Fact               0.233077\n",
       "                            Nonsense                 0.217692\n",
       "                            True Fact                1.922720\n",
       "Name: Explanation Size, dtype: float64"
      ]
     },
     "execution_count": 44,
     "metadata": {},
     "output_type": "execute_result"
    }
   ],
   "source": [
    "explain_size.groupby(['Method', 'Query Triple Category'])['Explanation Size'].mean()"
   ]
  },
  {
   "cell_type": "code",
   "execution_count": 52,
   "id": "d00f9efe-56ab-446a-acfd-cafa1dc0eb39",
   "metadata": {},
   "outputs": [],
   "source": [
    "#explain_size.to_csv('explanation_size.tsv', sep='\\t', index=False)\n",
    "#data.to_csv('true_false_nonsense_triples_all_metrics.tsv', sep='\\t', index=False)"
   ]
  },
  {
   "cell_type": "code",
   "execution_count": 49,
   "id": "4eaa12ba-773e-4c34-8899-a269acd508fd",
   "metadata": {},
   "outputs": [
    {
     "data": {
      "text/html": [
       "<div>\n",
       "<style scoped>\n",
       "    .dataframe tbody tr th:only-of-type {\n",
       "        vertical-align: middle;\n",
       "    }\n",
       "\n",
       "    .dataframe tbody tr th {\n",
       "        vertical-align: top;\n",
       "    }\n",
       "\n",
       "    .dataframe thead th {\n",
       "        text-align: right;\n",
       "    }\n",
       "</style>\n",
       "<table border=\"1\" class=\"dataframe\">\n",
       "  <thead>\n",
       "    <tr style=\"text-align: right;\">\n",
       "      <th></th>\n",
       "      <th>0</th>\n",
       "      <th>1</th>\n",
       "    </tr>\n",
       "  </thead>\n",
       "  <tbody>\n",
       "    <tr>\n",
       "      <th>0</th>\n",
       "      <td>(a_starker_leopold--place_of_birth--ossining, ...</td>\n",
       "      <td>Query Triple Category                    ...</td>\n",
       "    </tr>\n",
       "    <tr>\n",
       "      <th>1</th>\n",
       "      <td>(aaron_bancroft--place_of_death--haddington, F...</td>\n",
       "      <td>Query Triple Category                    ...</td>\n",
       "    </tr>\n",
       "    <tr>\n",
       "      <th>2</th>\n",
       "      <td>(aaron_s_daggett--place_of_birth--silent_film_...</td>\n",
       "      <td>Query Triple Category                    ...</td>\n",
       "    </tr>\n",
       "    <tr>\n",
       "      <th>3</th>\n",
       "      <td>(aaron_sapiro--spouse--aberdeenshire, Nonsense)</td>\n",
       "      <td>Query Triple Category                    ...</td>\n",
       "    </tr>\n",
       "    <tr>\n",
       "      <th>4</th>\n",
       "      <td>(aatsista-mahkan--ethnicity--blackfoot, True F...</td>\n",
       "      <td>Query Triple Category                   ...</td>\n",
       "    </tr>\n",
       "    <tr>\n",
       "      <th>...</th>\n",
       "      <td>...</td>\n",
       "      <td>...</td>\n",
       "    </tr>\n",
       "    <tr>\n",
       "      <th>3889</th>\n",
       "      <td>(zhou_jichang--ethnicity--portuguese_american,...</td>\n",
       "      <td>Query Triple Category                    ...</td>\n",
       "    </tr>\n",
       "    <tr>\n",
       "      <th>3890</th>\n",
       "      <td>(ziaur_rahman--location--boudica, Nonsense)</td>\n",
       "      <td>Query Triple Category                    ...</td>\n",
       "    </tr>\n",
       "    <tr>\n",
       "      <th>3891</th>\n",
       "      <td>(zoltan_kodaly--place_of_birth--kecskemet, Tru...</td>\n",
       "      <td>Query Triple Category                   ...</td>\n",
       "    </tr>\n",
       "    <tr>\n",
       "      <th>3892</th>\n",
       "      <td>(zygmunt_krasinski--profession--lawyer, False ...</td>\n",
       "      <td>Query Triple Category                    ...</td>\n",
       "    </tr>\n",
       "    <tr>\n",
       "      <th>3893</th>\n",
       "      <td>(zyndram_z_maszkowic--place_of_birth--nowy_sac...</td>\n",
       "      <td>Query Triple Category                   ...</td>\n",
       "    </tr>\n",
       "  </tbody>\n",
       "</table>\n",
       "<p>3894 rows × 2 columns</p>\n",
       "</div>"
      ],
      "text/plain": [
       "                                                      0  \\\n",
       "0     (a_starker_leopold--place_of_birth--ossining, ...   \n",
       "1     (aaron_bancroft--place_of_death--haddington, F...   \n",
       "2     (aaron_s_daggett--place_of_birth--silent_film_...   \n",
       "3       (aaron_sapiro--spouse--aberdeenshire, Nonsense)   \n",
       "4     (aatsista-mahkan--ethnicity--blackfoot, True F...   \n",
       "...                                                 ...   \n",
       "3889  (zhou_jichang--ethnicity--portuguese_american,...   \n",
       "3890        (ziaur_rahman--location--boudica, Nonsense)   \n",
       "3891  (zoltan_kodaly--place_of_birth--kecskemet, Tru...   \n",
       "3892  (zygmunt_krasinski--profession--lawyer, False ...   \n",
       "3893  (zyndram_z_maszkowic--place_of_birth--nowy_sac...   \n",
       "\n",
       "                                                      1  \n",
       "0          Query Triple Category                    ...  \n",
       "1          Query Triple Category                    ...  \n",
       "2          Query Triple Category                    ...  \n",
       "3          Query Triple Category                    ...  \n",
       "4           Query Triple Category                   ...  \n",
       "...                                                 ...  \n",
       "3889       Query Triple Category                    ...  \n",
       "3890       Query Triple Category                    ...  \n",
       "3891        Query Triple Category                   ...  \n",
       "3892       Query Triple Category                    ...  \n",
       "3893        Query Triple Category                   ...  \n",
       "\n",
       "[3894 rows x 2 columns]"
      ]
     },
     "execution_count": 49,
     "metadata": {},
     "output_type": "execute_result"
    }
   ],
   "source": [
    "tmp = pd.DataFrame(explain_size.groupby(['Query Triple', 'Query Triple Category'], as_index=False))\n",
    "tmp"
   ]
  },
  {
   "cell_type": "code",
   "execution_count": 54,
   "id": "da47ef0b-1dd2-473e-8438-711e0f44b9bd",
   "metadata": {},
   "outputs": [
    {
     "data": {
      "text/plain": [
       "Query Triple Category\n",
       "False Fact    0.014266\n",
       "Nonsense      0.016307\n",
       "True Fact     0.291351\n",
       "Name: linklogic Fidelity, dtype: float64"
      ]
     },
     "execution_count": 54,
     "metadata": {},
     "output_type": "execute_result"
    }
   ],
   "source": [
    "data.groupby(['Query Triple Category'])['linklogic Fidelity'].mean()"
   ]
  },
  {
   "cell_type": "code",
   "execution_count": 57,
   "id": "5a102043-bd2f-4d43-a462-9daa25a570a6",
   "metadata": {},
   "outputs": [
    {
     "data": {
      "text/html": [
       "<div>\n",
       "<style scoped>\n",
       "    .dataframe tbody tr th:only-of-type {\n",
       "        vertical-align: middle;\n",
       "    }\n",
       "\n",
       "    .dataframe tbody tr th {\n",
       "        vertical-align: top;\n",
       "    }\n",
       "\n",
       "    .dataframe thead th {\n",
       "        text-align: right;\n",
       "    }\n",
       "</style>\n",
       "<table border=\"1\" class=\"dataframe\">\n",
       "  <thead>\n",
       "    <tr style=\"text-align: right;\">\n",
       "      <th></th>\n",
       "      <th>Query Triple Category</th>\n",
       "      <th>Query Triple</th>\n",
       "      <th>KGE Score</th>\n",
       "      <th>linklogic Fidelity</th>\n",
       "      <th>Total Features Considered</th>\n",
       "      <th>linklogic</th>\n",
       "      <th>Path score heuristic, 0.90</th>\n",
       "      <th>Path score heuristic, 0.95</th>\n",
       "      <th>relation</th>\n",
       "      <th>relation_category</th>\n",
       "    </tr>\n",
       "  </thead>\n",
       "  <tbody>\n",
       "    <tr>\n",
       "      <th>0</th>\n",
       "      <td>Nonsense</td>\n",
       "      <td>josaphat_kuncevyc--nationality--george_e_burch</td>\n",
       "      <td>0.013099</td>\n",
       "      <td>-0.000271</td>\n",
       "      <td>109</td>\n",
       "      <td>0</td>\n",
       "      <td>3</td>\n",
       "      <td>1</td>\n",
       "      <td>nationality</td>\n",
       "      <td>Location</td>\n",
       "    </tr>\n",
       "    <tr>\n",
       "      <th>1</th>\n",
       "      <td>Nonsense</td>\n",
       "      <td>blanka_of_namur--gender--friedrich_vii_margrav...</td>\n",
       "      <td>0.024888</td>\n",
       "      <td>-0.000198</td>\n",
       "      <td>151</td>\n",
       "      <td>0</td>\n",
       "      <td>3</td>\n",
       "      <td>3</td>\n",
       "      <td>gender</td>\n",
       "      <td>Other</td>\n",
       "    </tr>\n",
       "    <tr>\n",
       "      <th>2</th>\n",
       "      <td>Nonsense</td>\n",
       "      <td>alpheus_baker--profession--martha_bulloch</td>\n",
       "      <td>0.019042</td>\n",
       "      <td>-0.001908</td>\n",
       "      <td>188</td>\n",
       "      <td>0</td>\n",
       "      <td>9</td>\n",
       "      <td>6</td>\n",
       "      <td>profession</td>\n",
       "      <td>Other</td>\n",
       "    </tr>\n",
       "    <tr>\n",
       "      <th>3</th>\n",
       "      <td>Nonsense</td>\n",
       "      <td>tim_russert--ethnicity--davis_hanson_waite</td>\n",
       "      <td>0.022815</td>\n",
       "      <td>-0.000209</td>\n",
       "      <td>188</td>\n",
       "      <td>0</td>\n",
       "      <td>5</td>\n",
       "      <td>3</td>\n",
       "      <td>ethnicity</td>\n",
       "      <td>Other</td>\n",
       "    </tr>\n",
       "    <tr>\n",
       "      <th>4</th>\n",
       "      <td>Nonsense</td>\n",
       "      <td>andy_bowen--place_of_birth--kadambini_ganguly</td>\n",
       "      <td>0.038236</td>\n",
       "      <td>-0.000322</td>\n",
       "      <td>139</td>\n",
       "      <td>0</td>\n",
       "      <td>5</td>\n",
       "      <td>4</td>\n",
       "      <td>place_of_birth</td>\n",
       "      <td>Location</td>\n",
       "    </tr>\n",
       "  </tbody>\n",
       "</table>\n",
       "</div>"
      ],
      "text/plain": [
       "  Query Triple Category                                       Query Triple  \\\n",
       "0              Nonsense     josaphat_kuncevyc--nationality--george_e_burch   \n",
       "1              Nonsense  blanka_of_namur--gender--friedrich_vii_margrav...   \n",
       "2              Nonsense          alpheus_baker--profession--martha_bulloch   \n",
       "3              Nonsense         tim_russert--ethnicity--davis_hanson_waite   \n",
       "4              Nonsense      andy_bowen--place_of_birth--kadambini_ganguly   \n",
       "\n",
       "   KGE Score  linklogic Fidelity  Total Features Considered  linklogic  \\\n",
       "0   0.013099           -0.000271                        109          0   \n",
       "1   0.024888           -0.000198                        151          0   \n",
       "2   0.019042           -0.001908                        188          0   \n",
       "3   0.022815           -0.000209                        188          0   \n",
       "4   0.038236           -0.000322                        139          0   \n",
       "\n",
       "   Path score heuristic, 0.90  Path score heuristic, 0.95        relation  \\\n",
       "0                           3                           1     nationality   \n",
       "1                           3                           3          gender   \n",
       "2                           9                           6      profession   \n",
       "3                           5                           3       ethnicity   \n",
       "4                           5                           4  place_of_birth   \n",
       "\n",
       "  relation_category  \n",
       "0          Location  \n",
       "1             Other  \n",
       "2             Other  \n",
       "3             Other  \n",
       "4          Location  "
      ]
     },
     "execution_count": 57,
     "metadata": {},
     "output_type": "execute_result"
    }
   ],
   "source": [
    "data.head()"
   ]
  },
  {
   "cell_type": "code",
   "execution_count": 64,
   "id": "dd54d899-88dc-4448-a10e-ef2edf57b290",
   "metadata": {},
   "outputs": [],
   "source": [
    "nonsense = data.loc[data['Query Triple Category'] == 'Nonsense', 'linklogic Fidelity']\n",
    "false_fact = data.loc[data['Query Triple Category'] == 'False Fact', 'linklogic Fidelity']\n",
    "true_fact = data.loc[data['Query Triple Category'] == 'True Fact', 'linklogic Fidelity']"
   ]
  },
  {
   "cell_type": "code",
   "execution_count": 65,
   "id": "11d6cabb-006c-4045-9b25-a65b7e1e2384",
   "metadata": {},
   "outputs": [],
   "source": [
    "from scipy.stats import ttest_ind"
   ]
  },
  {
   "cell_type": "code",
   "execution_count": 67,
   "id": "c47fe4e9-22a5-44d7-9c91-abcb05dc7db2",
   "metadata": {},
   "outputs": [
    {
     "data": {
      "text/plain": [
       "1294"
      ]
     },
     "execution_count": 67,
     "metadata": {},
     "output_type": "execute_result"
    }
   ],
   "source": [
    "len(true_fact)"
   ]
  },
  {
   "cell_type": "code",
   "execution_count": 68,
   "id": "dfa57a28-6d73-4031-bbf3-3cfc1686c5a2",
   "metadata": {},
   "outputs": [
    {
     "data": {
      "text/plain": [
       "Ttest_indResult(statistic=36.044590034649914, pvalue=5.673057519794053e-231)"
      ]
     },
     "execution_count": 68,
     "metadata": {},
     "output_type": "execute_result"
    }
   ],
   "source": [
    "ttest_ind(true_fact, false_fact)"
   ]
  },
  {
   "cell_type": "code",
   "execution_count": 35,
   "id": "56ecf429-cb14-4d53-a266-056c317101ac",
   "metadata": {
    "tags": []
   },
   "outputs": [
    {
     "data": {
      "text/html": [
       "<div>\n",
       "<style scoped>\n",
       "    .dataframe tbody tr th:only-of-type {\n",
       "        vertical-align: middle;\n",
       "    }\n",
       "\n",
       "    .dataframe tbody tr th {\n",
       "        vertical-align: top;\n",
       "    }\n",
       "\n",
       "    .dataframe thead th {\n",
       "        text-align: right;\n",
       "    }\n",
       "</style>\n",
       "<table border=\"1\" class=\"dataframe\">\n",
       "  <thead>\n",
       "    <tr style=\"text-align: right;\">\n",
       "      <th></th>\n",
       "      <th>Method</th>\n",
       "      <th>Query Triple Category</th>\n",
       "      <th>positive</th>\n",
       "      <th>all</th>\n",
       "      <th>percent</th>\n",
       "    </tr>\n",
       "  </thead>\n",
       "  <tbody>\n",
       "    <tr>\n",
       "      <th>0</th>\n",
       "      <td>Path score heuristic, 0.90</td>\n",
       "      <td>False Fact</td>\n",
       "      <td>1077</td>\n",
       "      <td>1300</td>\n",
       "      <td>82.846154</td>\n",
       "    </tr>\n",
       "    <tr>\n",
       "      <th>1</th>\n",
       "      <td>Path score heuristic, 0.90</td>\n",
       "      <td>Nonsense</td>\n",
       "      <td>1178</td>\n",
       "      <td>1300</td>\n",
       "      <td>90.615385</td>\n",
       "    </tr>\n",
       "    <tr>\n",
       "      <th>2</th>\n",
       "      <td>Path score heuristic, 0.90</td>\n",
       "      <td>True Fact</td>\n",
       "      <td>1070</td>\n",
       "      <td>1294</td>\n",
       "      <td>82.689335</td>\n",
       "    </tr>\n",
       "    <tr>\n",
       "      <th>3</th>\n",
       "      <td>Path score heuristic, 0.95</td>\n",
       "      <td>False Fact</td>\n",
       "      <td>810</td>\n",
       "      <td>1300</td>\n",
       "      <td>62.307692</td>\n",
       "    </tr>\n",
       "    <tr>\n",
       "      <th>4</th>\n",
       "      <td>Path score heuristic, 0.95</td>\n",
       "      <td>Nonsense</td>\n",
       "      <td>998</td>\n",
       "      <td>1300</td>\n",
       "      <td>76.769231</td>\n",
       "    </tr>\n",
       "    <tr>\n",
       "      <th>5</th>\n",
       "      <td>Path score heuristic, 0.95</td>\n",
       "      <td>True Fact</td>\n",
       "      <td>856</td>\n",
       "      <td>1294</td>\n",
       "      <td>66.151468</td>\n",
       "    </tr>\n",
       "    <tr>\n",
       "      <th>6</th>\n",
       "      <td>linklogic</td>\n",
       "      <td>False Fact</td>\n",
       "      <td>132</td>\n",
       "      <td>1300</td>\n",
       "      <td>10.153846</td>\n",
       "    </tr>\n",
       "    <tr>\n",
       "      <th>7</th>\n",
       "      <td>linklogic</td>\n",
       "      <td>Nonsense</td>\n",
       "      <td>168</td>\n",
       "      <td>1300</td>\n",
       "      <td>12.923077</td>\n",
       "    </tr>\n",
       "    <tr>\n",
       "      <th>8</th>\n",
       "      <td>linklogic</td>\n",
       "      <td>True Fact</td>\n",
       "      <td>980</td>\n",
       "      <td>1294</td>\n",
       "      <td>75.734158</td>\n",
       "    </tr>\n",
       "  </tbody>\n",
       "</table>\n",
       "</div>"
      ],
      "text/plain": [
       "                       Method Query Triple Category  positive   all    percent\n",
       "0  Path score heuristic, 0.90            False Fact      1077  1300  82.846154\n",
       "1  Path score heuristic, 0.90              Nonsense      1178  1300  90.615385\n",
       "2  Path score heuristic, 0.90             True Fact      1070  1294  82.689335\n",
       "3  Path score heuristic, 0.95            False Fact       810  1300  62.307692\n",
       "4  Path score heuristic, 0.95              Nonsense       998  1300  76.769231\n",
       "5  Path score heuristic, 0.95             True Fact       856  1294  66.151468\n",
       "6                   linklogic            False Fact       132  1300  10.153846\n",
       "7                   linklogic              Nonsense       168  1300  12.923077\n",
       "8                   linklogic             True Fact       980  1294  75.734158"
      ]
     },
     "execution_count": 35,
     "metadata": {},
     "output_type": "execute_result"
    }
   ],
   "source": [
    "explain_size['positive'] = explain_size['Explanation Size'] > 0\n",
    "explain_stats_pos = explain_size.groupby(['Method', 'Query Triple Category', 'Query Triple'], as_index=False)['positive'].any()\n",
    "explain_stats_pos = explain_stats_pos.groupby(['Method', 'Query Triple Category'], as_index=False)['positive'].sum()\n",
    "\n",
    "explain_size['all'] = explain_size['Explanation Size'] >= 0\n",
    "explain_stats_all = explain_size.groupby(['Method', 'Query Triple Category', 'Query Triple'], as_index=False)['all'].any()\n",
    "explain_stats_all = explain_stats_all.groupby(['Method', 'Query Triple Category'], as_index=False)['all'].sum()\n",
    "\n",
    "explain_stats = explain_stats_pos.merge(explain_stats_all, on=['Method', 'Query Triple Category'], how='left')\n",
    "\n",
    "explain_stats['percent'] = 100 * (explain_stats['positive'] / explain_stats['all'])\n",
    "\n",
    "explain_stats"
   ]
  },
  {
   "cell_type": "code",
   "execution_count": 36,
   "id": "32237afa-1e90-48df-b510-78db8a32def5",
   "metadata": {},
   "outputs": [
    {
     "data": {
      "image/png": "[encoded data removed]",
      "text/plain": [
       "<Figure size 360x288 with 1 Axes>"
      ]
     },
     "metadata": {
      "needs_background": "light"
     },
     "output_type": "display_data"
    }
   ],
   "source": [
    "_ = plt.figure(figsize=(5,4))\n",
    "g = sns.boxplot(data=data, x='Query Triple Category', y='linklogic Fidelity', color=palette['linklogic'], boxprops=dict(alpha=0.9))\n",
    "_ = g.set(xlabel=None)\n",
    "_ = g.get_figure().savefig(f'{figure_dir}quant_C_simple.{plot.figtype}', bbox_inches='tight')"
   ]
  },
  {
   "cell_type": "code",
   "execution_count": 76,
   "id": "181a89cf-d81d-48df-b825-c190b941dc8b",
   "metadata": {},
   "outputs": [
    {
     "data": {
      "image/png": "[encoded data removed]",
      "text/plain": [
       "<Figure size 360x288 with 1 Axes>"
      ]
     },
     "metadata": {
      "needs_background": "light"
     },
     "output_type": "display_data"
    }
   ],
   "source": [
    "relation_categories = {\n",
    "    'Other': ['cause_of_death', 'ethnicity', 'gender', 'institution', 'profession', 'religion'],\n",
    "    'Location': ['location', 'place_of_birth', 'place_of_death', 'nationality'],\n",
    "    'Family': ['children', 'spouse', 'parents']}\n",
    "rel_dict = {}\n",
    "for key, values in relation_categories.items():\n",
    "    for val in values:\n",
    "        rel_dict[val] = key\n",
    "data['relation_category'] = data['relation'].map(rel_dict)\n",
    "\n",
    "\n",
    "pal = plot.get_sequential_palette(name='Spectral')\n",
    "_ = plt.figure(figsize=(5,4))\n",
    "g = sns.boxplot(data=data, x='Query Triple Category', y='linklogic Fidelity', hue='relation_category', \n",
    "                hue_order = ['Other', 'Location', 'Family'], palette=pal)\n",
    "_ = g.legend(loc='upper left', title='Relation Category')\n",
    "_ = g.set_ylim([0, 1]) \n",
    "_ = g.set(xlabel=None)\n",
    "_ = g.get_figure().savefig(f'{figure_dir}quant_C.{plot.figtype}', bbox_inches='tight')"
   ]
  },
  {
   "cell_type": "code",
   "execution_count": 38,
   "id": "ced9510f-dc34-4d13-a026-4d6d08ebbd50",
   "metadata": {},
   "outputs": [],
   "source": [
    "# load explanations\n",
    "results_dir = '../../explanations/linklogic/full_parents_benchmark/'\n",
    "figure_dir = '../../figures/figures_for_paper/'\n",
    "\n",
    "with open(f'{results_dir}/fb13_child_false.pickle', 'rb') as f:\n",
    "    results = pickle.load(f)"
   ]
  },
  {
   "cell_type": "code",
   "execution_count": 39,
   "id": "3b59f019-5754-40d9-b719-caf364edc5e5",
   "metadata": {},
   "outputs": [
    {
     "name": "stdout",
     "output_type": "stream",
     "text": [
      "Loaded benchmark with 6260 triples\n"
     ]
    }
   ],
   "source": [
    "# load benchmark\n",
    "with open('../../data/commonsense_benchmark/v4/commonsense_benchmark_all.json', 'r') as f:\n",
    "    benchmark = json.load(f)\n",
    "    \n",
    "print(f'Loaded benchmark with {len(benchmark)} triples')"
   ]
  },
  {
   "cell_type": "code",
   "execution_count": 40,
   "id": "4b813b39-5970-4b80-b549-e43f9c22773a",
   "metadata": {},
   "outputs": [
    {
     "name": "stderr",
     "output_type": "stream",
     "text": [
      "100%|██████████| 6260/6260 [00:12<00:00, 486.47it/s]\n"
     ]
    }
   ],
   "source": [
    "rows = []\n",
    "for i, bmk in tqdm(enumerate(benchmark), total=len(benchmark)):\n",
    "    triple = bmk['query_triple']\n",
    "\n",
    "    res = eval.get_results_for_query_triple(results, triple)\n",
    "\n",
    "    if not res:\n",
    "        continue\n",
    "\n",
    "    num_heuristic_paths_90 = sum([1 for f in res['linklogic_features'] if f['kge_score']['path_score'] > thresh90])\n",
    "    num_heuristic_paths_95 = sum([1 for f in res['linklogic_features'] if f['kge_score']['path_score'] > thresh95])\n",
    "\n",
    "    rows.append({\n",
    "        'Query Triple': '--'.join(triple),\n",
    "        'linklogic Fidelity': res['linklogic_metrics']['test_acc'],\n",
    "        'Number of Siblings': len(bmk['entity_names']['siblings']),\n",
    "        'num_paths_linklogic': len(res['linklogic_explanations']),\n",
    "        'num_paths_heuristic_90': num_heuristic_paths_90,\n",
    "        'num_paths_heuristic_95': num_heuristic_paths_95\n",
    "    })\n",
    "sibs = pd.DataFrame(rows)"
   ]
  },
  {
   "cell_type": "code",
   "execution_count": 41,
   "id": "1c4ac7d0-bd83-41de-9a97-ff18d0cbdcb2",
   "metadata": {},
   "outputs": [
    {
     "data": {
      "text/plain": [
       "<Figure size 360x288 with 0 Axes>"
      ]
     },
     "execution_count": 41,
     "metadata": {},
     "output_type": "execute_result"
    },
    {
     "data": {
      "image/png": "[encoded data removed]",
      "text/plain": [
       "<Figure size 360x288 with 1 Axes>"
      ]
     },
     "metadata": {
      "needs_background": "light"
     },
     "output_type": "display_data"
    }
   ],
   "source": [
    "plt.figure(figsize=(5,4))\n",
    "g = sns.lineplot(data=sibs, x='Number of Siblings', y='linklogic Fidelity', color=palette['linklogic'])\n",
    "_ = g.get_figure().savefig(f'{figure_dir}quant_F.{plot.figtype}', bbox_inches='tight')"
   ]
  },
  {
   "cell_type": "code",
   "execution_count": 42,
   "id": "1946d018-9d93-40a6-ba5b-7198f93523f7",
   "metadata": {},
   "outputs": [
    {
     "data": {
      "text/plain": [
       "<Figure size 360x288 with 0 Axes>"
      ]
     },
     "execution_count": 42,
     "metadata": {},
     "output_type": "execute_result"
    },
    {
     "data": {
      "image/png": "[encoded data removed]",
      "text/plain": [
       "<Figure size 360x288 with 1 Axes>"
      ]
     },
     "metadata": {
      "needs_background": "light"
     },
     "output_type": "display_data"
    }
   ],
   "source": [
    "num_paths = sibs.melt(id_vars=['Query Triple', 'Number of Siblings'], value_vars=['num_paths_linklogic', 'num_paths_heuristic_90', 'num_paths_heuristic_95'])\n",
    "num_paths['variable'] = num_paths['variable'].map({'num_paths_linklogic': 'linklogic', \n",
    "                           'num_paths_heuristic_90': heuristic90,\n",
    "                           'num_paths_heuristic_95': heuristic95})\n",
    "\n",
    "pal = plot.get_categorical_palette()\n",
    "palette = {'linklogic': pal['linklogic'], heuristic90: pal['Heuristic90'], heuristic95: pal['Heuristic95'] }\n",
    "plt.figure(figsize=(5,4))\n",
    "g = sns.lineplot(data=num_paths, x='Number of Siblings', y='value', hue='variable', palette=palette)\n",
    "_ = g.legend(title='')\n",
    "_ = g.set(ylabel='Explanation Size')\n",
    "g.get_figure().savefig(f'{figure_dir}quant_E.{plot.figtype}', bbox_inches='tight')"
   ]
  },
  {
   "cell_type": "code",
   "execution_count": null,
   "id": "0f2959e2-47fa-4ff0-9d46-bcff574e904c",
   "metadata": {},
   "outputs": [],
   "source": []
  }
 ],
 "metadata": {
  "kernelspec": {
   "display_name": "Python 3",
   "language": "python",
   "name": "python3"
  },
  "language_info": {
   "codemirror_mode": {
    "name": "ipython",
    "version": 3
   },
   "file_extension": ".py",
   "mimetype": "text/x-python",
   "name": "python",
   "nbconvert_exporter": "python",
   "pygments_lexer": "ipython3",
   "version": "3.6.5"
  }
 },
 "nbformat": 4,
 "nbformat_minor": 5
}
