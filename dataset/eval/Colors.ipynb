{
 "cells": [
  {
   "cell_type": "code",
   "execution_count": 1,
   "id": "cb8e468e-b630-418c-b568-35f5056d8c78",
   "metadata": {},
   "outputs": [
    {
     "data": {
      "image/png": "[encoded data removed]",
      "text/plain": [
       "<Figure size 432x72 with 1 Axes>"
      ]
     },
     "metadata": {
      "needs_background": "light"
     },
     "output_type": "display_data"
    }
   ],
   "source": [
    "import seaborn as sns\n",
    "pal_unnorm = [[136, 145, 235], [224, 139, 121], [125, 213, 181],\n",
    "        [246, 210, 127], [219, 179, 176], [185, 224, 227], ]\n",
    "pal = [[a/255,b/255,c/255] for a,b,c in pal_unnorm]\n",
    "sns.palplot(pal)"
   ]
  },
  {
   "cell_type": "code",
   "execution_count": null,
   "id": "ce2e5a91-b400-4cc2-810c-4c6768026cad",
   "metadata": {},
   "outputs": [],
   "source": []
  }
 ],
 "metadata": {
  "kernelspec": {
   "display_name": "Python 3",
   "language": "python",
   "name": "python3"
  },
  "language_info": {
   "codemirror_mode": {
    "name": "ipython",
    "version": 3
   },
   "file_extension": ".py",
   "mimetype": "text/x-python",
   "name": "python",
   "nbconvert_exporter": "python",
   "pygments_lexer": "ipython3",
   "version": "3.6.5"
  }
 },
 "nbformat": 4,
 "nbformat_minor": 5
}
