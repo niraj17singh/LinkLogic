{
 "cells": [
  {
   "cell_type": "code",
   "execution_count": 45,
   "id": "b73f094b-4024-457c-9cb1-b45819e664c6",
   "metadata": {},
   "outputs": [],
   "source": [
    "import pickle5 as pickle\n",
    "import json\n",
    "import pandas as pd\n",
    "from tqdm import tqdm\n",
    "import numpy as np\n",
    "\n",
    "import random\n",
    "\n",
    "import plotly.express as px\n",
    "\n",
    "import eval\n",
    "import utils as ut\n",
    "import plot\n",
    "\n",
    "pd.options.mode.chained_assignment = None # turns off pandas SettingWithCopyWarning"
   ]
  },
  {
   "cell_type": "code",
   "execution_count": 46,
   "id": "5903d3f1-4048-410b-a47f-7f675c26d754",
   "metadata": {},
   "outputs": [],
   "source": [
    "figure_dir = '../../figures/'\n",
    "results_dir = '../../explanations/linklogic/gender/'"
   ]
  },
  {
   "cell_type": "code",
   "execution_count": 47,
   "id": "191a6b3e-8969-45d7-a52d-be9c5ba6d530",
   "metadata": {},
   "outputs": [
    {
     "name": "stdout",
     "output_type": "stream",
     "text": [
      "Loading results for experiment true gender\n",
      "Loading results for experiment flipped gender\n"
     ]
    }
   ],
   "source": [
    "# load results\n",
    "experiments = {'true gender': 'positive',\n",
    "               'flipped gender': 'negative'}\n",
    "\n",
    "results = dict()\n",
    "for experiment, s in experiments.items():\n",
    "    print(f'Loading results for experiment {experiment}')\n",
    "    with open(f'{results_dir}/fb13_resplit_train_100_interaction_{s}.pickle', 'rb') as f:\n",
    "        results[experiment] = pickle.load(f)"
   ]
  },
  {
   "cell_type": "code",
   "execution_count": 48,
   "id": "0687dd00-ecfd-4357-bb4d-cd89f8a006ca",
   "metadata": {},
   "outputs": [],
   "source": [
    "male = dict()\n",
    "male['true']= [res for res in results['true gender'] if res['query_triple'][2] == 'male' and len(res['linklogic_explanations']) > 0]\n",
    "male['flip'] = [res for res in results['flipped gender'] if res['query_triple'][2] == 'female' and len(res['linklogic_explanations']) > 0]"
   ]
  },
  {
   "cell_type": "code",
   "execution_count": 57,
   "id": "fcd8729d-b0ff-4e58-a488-58a4acbdb305",
   "metadata": {},
   "outputs": [],
   "source": [
    "male_true = [res['query_triple'][0] for res in male['true']]\n",
    "male_flip = [res['query_triple'][0] for res in male['flip']]\n",
    "shared_set = male_flip"
   ]
  },
  {
   "cell_type": "code",
   "execution_count": 64,
   "id": "27114428-8c0a-464d-8bc9-298767f5ecc2",
   "metadata": {},
   "outputs": [
    {
     "data": {
      "text/plain": [
       "'jacques_lacan'"
      ]
     },
     "execution_count": 64,
     "metadata": {},
     "output_type": "execute_result"
    },
    {
     "data": {
      "text/plain": [
       "'john_hill_1716'"
      ]
     },
     "execution_count": 64,
     "metadata": {},
     "output_type": "execute_result"
    }
   ],
   "source": [
    "dude\n",
    "male_true[0]"
   ]
  },
  {
   "cell_type": "code",
   "execution_count": 59,
   "id": "73c73c40-e59d-45cf-9237-88853ae7cd12",
   "metadata": {},
   "outputs": [],
   "source": [
    "def find_res_by_name(results, name):\n",
    "    out = [res for res in results if res['query_triple'][0] == name]\n",
    "    assert len(out) == 1\n",
    "    return out[0]"
   ]
  },
  {
   "cell_type": "code",
   "execution_count": 41,
   "id": "dfbd3770-4634-4835-8cf2-12070a390604",
   "metadata": {},
   "outputs": [],
   "source": [
    "def print_results(res):\n",
    "    paths = res['linklogic_explanations']\n",
    "    fidelity = res['linklogic_metrics']['test_acc']\n",
    "    print(f'{len(paths)} paths, fidelity={fidelity:.2f}')\n",
    "    for path in paths:\n",
    "        print(f\"{path['coef']:.2f}: {path['path']}\")"
   ]
  },
  {
   "cell_type": "code",
   "execution_count": 43,
   "id": "f85646e3-9974-476d-8e22-11e8d8cf50c8",
   "metadata": {},
   "outputs": [
    {
     "data": {
      "text/plain": [
       "['wallace_pratt', 'gender', 'male']"
      ]
     },
     "execution_count": 43,
     "metadata": {},
     "output_type": "execute_result"
    },
    {
     "name": "stdout",
     "output_type": "stream",
     "text": [
      "Results for male query:\n",
      "4 paths, fidelity=0.29\n",
      "0.04: ['wallace_pratt', 'location', 'tucson']\n",
      "0.03: ['wallace_pratt', 'institution', 'university_of_kansas']\n",
      "0.02: ['wallace_pratt', 'profession', 'geologist']\n",
      "0.00: ['wallace_pratt', 'location', 'kansas']\n",
      "\n",
      "Results for (counterfactual) female query:\n",
      "5 paths, fidelity=0.18\n",
      "0.03: ['wallace_pratt', 'institution', 'university_of_kansas']\n",
      "0.02: ['wallace_pratt', 'location', 'tucson']\n",
      "0.01: ['wallace_pratt', 'place_of_birth', 'tucson']\n",
      "0.00: ['wallace_pratt', 'location', 'kansas']\n",
      "0.00: ['wallace_pratt', 'profession', 'geologist']\n",
      "\n",
      "\n",
      "\n"
     ]
    },
    {
     "data": {
      "text/plain": [
       "['nikola_vitov_gucetic', 'gender', 'male']"
      ]
     },
     "execution_count": 43,
     "metadata": {},
     "output_type": "execute_result"
    },
    {
     "name": "stdout",
     "output_type": "stream",
     "text": [
      "Results for male query:\n",
      "4 paths, fidelity=0.26\n",
      "0.04: ['nikola_vitov_gucetic', 'spouse', 'marin_getaldic', 'gender', 'female']\n",
      "0.03: ['nikola_vitov_gucetic', 'location', 'dubrovnik']\n",
      "0.01: ['nikola_vitov_gucetic', 'place_of_death', 'dubrovnik']\n",
      "0.00: ['nikola_vitov_gucetic', 'profession', 'scientist']\n",
      "\n",
      "Results for (counterfactual) female query:\n",
      "3 paths, fidelity=0.13\n",
      "0.03: ['nikola_vitov_gucetic', 'location', 'dubrovnik']\n",
      "0.01: ['nikola_vitov_gucetic', 'place_of_birth', 'dubrovnik']\n",
      "0.01: ['nikola_vitov_gucetic', 'children', 'eleanor_of_mantua_empress_ferdinand_iii', 'gender', 'female']\n",
      "\n",
      "\n",
      "\n"
     ]
    },
    {
     "data": {
      "text/plain": [
       "['ashley_day_leavitt', 'gender', 'male']"
      ]
     },
     "execution_count": 43,
     "metadata": {},
     "output_type": "execute_result"
    },
    {
     "name": "stdout",
     "output_type": "stream",
     "text": [
      "Results for male query:\n",
      "4 paths, fidelity=0.20\n",
      "0.02: ['ashley_day_leavitt', 'spouse', 'beulah_bondi', 'gender', 'female']\n",
      "0.02: ['ashley_day_leavitt', 'religion', 'protestantism']\n",
      "0.01: ['ashley_day_leavitt', 'place_of_birth', 'chicago']\n",
      "0.01: ['ashley_day_leavitt', 'location', 'chicago']\n",
      "\n",
      "Results for (counterfactual) female query:\n",
      "3 paths, fidelity=0.10\n",
      "0.03: ['ashley_day_leavitt', 'location', 'chicago']\n",
      "0.02: ['ashley_day_leavitt', 'religion', 'protestantism']\n",
      "0.00: ['ashley_day_leavitt', 'place_of_birth', 'chicago']\n",
      "\n",
      "\n",
      "\n"
     ]
    },
    {
     "data": {
      "text/plain": [
       "['frank_chapman', 'gender', 'male']"
      ]
     },
     "execution_count": 43,
     "metadata": {},
     "output_type": "execute_result"
    },
    {
     "name": "stdout",
     "output_type": "stream",
     "text": [
      "Results for male query:\n",
      "2 paths, fidelity=0.26\n",
      "0.05: ['frank_chapman', 'children', 'marceline_day', 'gender', 'female']\n",
      "0.04: ['frank_chapman', 'location', 'teaneck']\n",
      "\n",
      "Results for (counterfactual) female query:\n",
      "3 paths, fidelity=0.20\n",
      "0.05: ['frank_chapman', 'location', 'teaneck']\n",
      "0.02: ['frank_chapman', 'spouse', 'christine_jorgensen', 'gender', 'female']\n",
      "0.00: ['frank_chapman', 'parents', 'leonie_gilmour', 'gender', 'female']\n",
      "\n",
      "\n",
      "\n"
     ]
    },
    {
     "data": {
      "text/plain": [
       "['david_humphreys_1752', 'gender', 'male']"
      ]
     },
     "execution_count": 43,
     "metadata": {},
     "output_type": "execute_result"
    },
    {
     "name": "stdout",
     "output_type": "stream",
     "text": [
      "Results for male query:\n",
      "3 paths, fidelity=0.18\n",
      "0.03: ['david_humphreys_1752', 'location', 'derby_connecticut']\n",
      "0.00: ['david_humphreys_1752', 'institution', 'yale_university']\n",
      "0.00: ['david_humphreys_1752', 'spouse', 'sarah_lockwood_winchester', 'gender', 'female']\n",
      "\n",
      "Results for (counterfactual) female query:\n",
      "2 paths, fidelity=0.13\n",
      "0.03: ['david_humphreys_1752', 'location', 'derby_connecticut']\n",
      "0.01: ['david_humphreys_1752', 'institution', 'yale_university']\n",
      "\n",
      "\n",
      "\n"
     ]
    },
    {
     "data": {
      "text/plain": [
       "['anthony_eden', 'gender', 'male']"
      ]
     },
     "execution_count": 43,
     "metadata": {},
     "output_type": "execute_result"
    },
    {
     "name": "stdout",
     "output_type": "stream",
     "text": [
      "Results for male query:\n",
      "2 paths, fidelity=0.32\n",
      "0.07: ['anthony_eden', 'spouse', 'clarissa_eden_countess_of_avon', 'gender', 'female']\n",
      "0.01: ['anthony_eden', 'profession', 'member_of_parliament']\n",
      "\n",
      "Results for (counterfactual) female query:\n",
      "1 paths, fidelity=0.16\n",
      "0.05: ['anthony_eden', 'spouse', 'clarissa_eden_countess_of_avon', 'gender', 'female']\n",
      "\n",
      "\n",
      "\n"
     ]
    },
    {
     "data": {
      "text/plain": [
       "['curly_lambeau', 'gender', 'male']"
      ]
     },
     "execution_count": 43,
     "metadata": {},
     "output_type": "execute_result"
    },
    {
     "name": "stdout",
     "output_type": "stream",
     "text": [
      "Results for male query:\n",
      "2 paths, fidelity=0.30\n",
      "0.08: ['curly_lambeau', 'parents', 'lucille_clifton', 'gender', 'female']\n",
      "0.03: ['curly_lambeau', 'place_of_birth', 'green_bay']\n",
      "\n",
      "Results for (counterfactual) female query:\n",
      "2 paths, fidelity=0.17\n",
      "0.07: ['curly_lambeau', 'place_of_birth', 'green_bay']\n",
      "0.02: ['curly_lambeau', 'spouse', 'ella_raines', 'gender', 'female']\n",
      "\n",
      "\n",
      "\n"
     ]
    },
    {
     "data": {
      "text/plain": [
       "['marinus_willett', 'gender', 'male']"
      ]
     },
     "execution_count": 43,
     "metadata": {},
     "output_type": "execute_result"
    },
    {
     "name": "stdout",
     "output_type": "stream",
     "text": [
      "Results for male query:\n",
      "2 paths, fidelity=0.31\n",
      "0.06: ['marinus_willett', 'children', 'geraldine_page', 'gender', 'female']\n",
      "0.04: ['marinus_willett', 'parents', 'brenda_frazier', 'gender', 'female']\n",
      "\n",
      "Results for (counterfactual) female query:\n",
      "3 paths, fidelity=0.20\n",
      "0.08: ['marinus_willett', 'spouse', 'jo_ann_davis', 'gender', 'female']\n",
      "0.01: ['marinus_willett', 'children', 'princess_maria_josepha_of_saxony', 'gender', 'female']\n",
      "0.00: ['marinus_willett', 'spouse', 'princess_elizabeth_of_the_united_kingdom', 'gender', 'female']\n",
      "\n",
      "\n",
      "\n"
     ]
    },
    {
     "data": {
      "text/plain": [
       "['james_hazen_hyde', 'gender', 'male']"
      ]
     },
     "execution_count": 43,
     "metadata": {},
     "output_type": "execute_result"
    },
    {
     "name": "stdout",
     "output_type": "stream",
     "text": [
      "Results for male query:\n",
      "2 paths, fidelity=0.20\n",
      "0.04: ['james_hazen_hyde', 'parents', 'g_e_m_anscombe', 'gender', 'female']\n",
      "0.02: ['james_hazen_hyde', 'children', 'sohane_benziane', 'gender', 'female']\n",
      "\n",
      "Results for (counterfactual) female query:\n",
      "2 paths, fidelity=0.08\n",
      "0.03: ['james_hazen_hyde', 'children', 'sohane_benziane', 'gender', 'female']\n",
      "0.00: ['james_hazen_hyde', 'children', 'evelyn_laye', 'gender', 'female']\n",
      "\n",
      "\n",
      "\n"
     ]
    },
    {
     "data": {
      "text/plain": [
       "['daryl_duke', 'gender', 'male']"
      ]
     },
     "execution_count": 43,
     "metadata": {},
     "output_type": "execute_result"
    },
    {
     "name": "stdout",
     "output_type": "stream",
     "text": [
      "Results for male query:\n",
      "2 paths, fidelity=0.29\n",
      "0.05: ['daryl_duke', 'spouse', 'barbara_kelly', 'gender', 'female']\n",
      "0.03: ['daryl_duke', 'location', 'vancouver_british_columbia']\n",
      "\n",
      "Results for (counterfactual) female query:\n",
      "3 paths, fidelity=0.12\n",
      "0.02: ['daryl_duke', 'location', 'vancouver_british_columbia']\n",
      "0.01: ['daryl_duke', 'spouse', 'barbara_kelly', 'gender', 'female']\n",
      "0.01: ['daryl_duke', 'place_of_birth', 'vancouver_british_columbia']\n",
      "\n",
      "\n",
      "\n"
     ]
    },
    {
     "data": {
      "text/plain": [
       "['hendrik_van_rijgersma', 'gender', 'male']"
      ]
     },
     "execution_count": 43,
     "metadata": {},
     "output_type": "execute_result"
    },
    {
     "name": "stdout",
     "output_type": "stream",
     "text": [
      "Results for male query:\n",
      "2 paths, fidelity=0.32\n",
      "0.07: ['hendrik_van_rijgersma', 'children', 'sjoukje_bokma_de_boer', 'gender', 'female']\n",
      "0.03: ['hendrik_van_rijgersma', 'location', 'friesland']\n",
      "\n",
      "Results for (counterfactual) female query:\n",
      "2 paths, fidelity=0.21\n",
      "0.08: ['hendrik_van_rijgersma', 'children', 'sjoukje_bokma_de_boer', 'gender', 'female']\n",
      "0.01: ['hendrik_van_rijgersma', 'location', 'friesland']\n",
      "\n",
      "\n",
      "\n"
     ]
    },
    {
     "data": {
      "text/plain": [
       "['atle_selberg', 'gender', 'male']"
      ]
     },
     "execution_count": 43,
     "metadata": {},
     "output_type": "execute_result"
    },
    {
     "name": "stdout",
     "output_type": "stream",
     "text": [
      "Results for male query:\n",
      "2 paths, fidelity=0.26\n",
      "0.06: ['atle_selberg', 'institution', 'university_of_oslo']\n",
      "0.01: ['atle_selberg', 'place_of_death', 'princeton']\n",
      "\n",
      "Results for (counterfactual) female query:\n",
      "2 paths, fidelity=0.19\n",
      "0.04: ['atle_selberg', 'institution', 'university_of_oslo']\n",
      "0.01: ['atle_selberg', 'place_of_death', 'princeton']\n",
      "\n",
      "\n",
      "\n"
     ]
    },
    {
     "data": {
      "text/plain": [
       "['charles_fane_2nd_viscount_fane', 'gender', 'male']"
      ]
     },
     "execution_count": 43,
     "metadata": {},
     "output_type": "execute_result"
    },
    {
     "name": "stdout",
     "output_type": "stream",
     "text": [
      "Results for male query:\n",
      "2 paths, fidelity=0.21\n",
      "0.04: ['charles_fane_2nd_viscount_fane', 'parents', 'mary_augusta_ward', 'gender', 'female']\n",
      "0.01: ['charles_fane_2nd_viscount_fane', 'institution', 'eton_college']\n",
      "\n",
      "Results for (counterfactual) female query:\n",
      "2 paths, fidelity=0.07\n",
      "0.02: ['charles_fane_2nd_viscount_fane', 'spouse', 'lady_elizabeth_spencer', 'gender', 'female']\n",
      "0.01: ['charles_fane_2nd_viscount_fane', 'institution', 'eton_college']\n",
      "\n",
      "\n",
      "\n"
     ]
    },
    {
     "data": {
      "text/plain": [
       "['thomas_stewart_1940', 'gender', 'male']"
      ]
     },
     "execution_count": 43,
     "metadata": {},
     "output_type": "execute_result"
    },
    {
     "name": "stdout",
     "output_type": "stream",
     "text": [
      "Results for male query:\n",
      "2 paths, fidelity=0.34\n",
      "0.06: ['thomas_stewart_1940', 'parents', 'kay_johnson', 'gender', 'female']\n",
      "0.04: ['thomas_stewart_1940', 'institution', 'baylor_university']\n",
      "\n",
      "Results for (counterfactual) female query:\n",
      "2 paths, fidelity=0.21\n",
      "0.04: ['thomas_stewart_1940', 'children', 'bessie_smith', 'gender', 'female']\n",
      "0.04: ['thomas_stewart_1940', 'institution', 'baylor_university']\n",
      "\n",
      "\n",
      "\n"
     ]
    },
    {
     "data": {
      "text/plain": [
       "['grand_duke_cyril_vladimirovich_of_russia', 'gender', 'male']"
      ]
     },
     "execution_count": 43,
     "metadata": {},
     "output_type": "execute_result"
    },
    {
     "name": "stdout",
     "output_type": "stream",
     "text": [
      "Results for male query:\n",
      "3 paths, fidelity=0.30\n",
      "0.06: ['grand_duke_cyril_vladimirovich_of_russia', 'spouse', 'princess_victoria_melita_of_edinburgh_and_saxe-coburg-gotha', 'gender', 'female']\n",
      "0.01: ['grand_duke_cyril_vladimirovich_of_russia', 'parents', 'grand_duke_vladimir_alexandrovich_of_russia', 'gender', 'male']\n",
      "0.01: ['grand_duke_cyril_vladimirovich_of_russia', 'place_of_birth', 'saint_petersburg']\n",
      "\n",
      "Results for (counterfactual) female query:\n",
      "5 paths, fidelity=0.34\n",
      "0.12: ['grand_duke_cyril_vladimirovich_of_russia', 'spouse', 'andrei_vladimirovich_of_russia', 'gender', 'male']\n",
      "0.02: ['grand_duke_cyril_vladimirovich_of_russia', 'children', 'kira_kirillovna_of_russia', 'gender', 'female']\n",
      "0.01: ['grand_duke_cyril_vladimirovich_of_russia', 'children', 'grand_duke_vladimir_of_russia']\n",
      "0.01: ['grand_duke_cyril_vladimirovich_of_russia', 'parents', 'marie_of_mecklenburg_schwerin']\n",
      "0.00: ['grand_duke_cyril_vladimirovich_of_russia', 'place_of_birth', 'saint_petersburg']\n",
      "\n",
      "\n",
      "\n"
     ]
    },
    {
     "data": {
      "text/plain": [
       "['friedrich_wilhelm_von_steuben', 'gender', 'male']"
      ]
     },
     "execution_count": 43,
     "metadata": {},
     "output_type": "execute_result"
    },
    {
     "name": "stdout",
     "output_type": "stream",
     "text": [
      "Results for male query:\n",
      "3 paths, fidelity=0.27\n",
      "0.03: ['friedrich_wilhelm_von_steuben', 'location', 'magdeburg']\n",
      "0.02: ['friedrich_wilhelm_von_steuben', 'parents', 'grete_mosheim', 'gender', 'female']\n",
      "0.01: ['friedrich_wilhelm_von_steuben', 'place_of_death', 'utica']\n",
      "\n",
      "Results for (counterfactual) female query:\n",
      "3 paths, fidelity=0.17\n",
      "0.03: ['friedrich_wilhelm_von_steuben', 'children', 'feodora_of_saxe_meiningen', 'gender', 'female']\n",
      "0.02: ['friedrich_wilhelm_von_steuben', 'location', 'magdeburg']\n",
      "0.02: ['friedrich_wilhelm_von_steuben', 'place_of_death', 'utica']\n",
      "\n",
      "\n",
      "\n"
     ]
    },
    {
     "data": {
      "text/plain": [
       "['kamehameha_v', 'gender', 'male']"
      ]
     },
     "execution_count": 43,
     "metadata": {},
     "output_type": "execute_result"
    },
    {
     "name": "stdout",
     "output_type": "stream",
     "text": [
      "Results for male query:\n",
      "4 paths, fidelity=0.34\n",
      "0.05: ['kamehameha_v', 'spouse', 'kaahumanu_iv', 'gender', 'female']\n",
      "0.02: ['kamehameha_v', 'spouse', 'queen_emma_of_hawaii', 'gender', 'female']\n",
      "0.01: ['kamehameha_v', 'parents', 'mataio_kekuanaoa']\n",
      "0.00: ['kamehameha_v', 'children', 'albert_kamehameha']\n",
      "\n",
      "Results for (counterfactual) female query:\n",
      "3 paths, fidelity=0.28\n",
      "0.10: ['kamehameha_v', 'spouse', 'kamehameha_iv', 'gender', 'male']\n",
      "0.00: ['kamehameha_v', 'spouse', 'kaahumanu_iv', 'gender', 'female']\n",
      "0.00: ['kamehameha_v', 'place_of_death', 'honolulu']\n",
      "\n",
      "\n",
      "\n"
     ]
    },
    {
     "data": {
      "text/plain": [
       "['dave_dudley', 'gender', 'male']"
      ]
     },
     "execution_count": 43,
     "metadata": {},
     "output_type": "execute_result"
    },
    {
     "name": "stdout",
     "output_type": "stream",
     "text": [
      "Results for male query:\n",
      "2 paths, fidelity=0.23\n",
      "0.06: ['dave_dudley', 'spouse', 'frances_dana_barker_gage', 'gender', 'female']\n",
      "0.00: ['dave_dudley', 'children', 'frances_dana_barker_gage', 'gender', 'female']\n",
      "\n",
      "Results for (counterfactual) female query:\n",
      "2 paths, fidelity=0.20\n",
      "0.07: ['dave_dudley', 'children', 'ella_raines', 'gender', 'female']\n",
      "0.02: ['dave_dudley', 'spouse', 'toby_wing', 'gender', 'female']\n",
      "\n",
      "\n",
      "\n"
     ]
    },
    {
     "data": {
      "text/plain": [
       "['lord_arthur_somerset', 'gender', 'male']"
      ]
     },
     "execution_count": 43,
     "metadata": {},
     "output_type": "execute_result"
    },
    {
     "name": "stdout",
     "output_type": "stream",
     "text": [
      "Results for male query:\n",
      "1 paths, fidelity=0.34\n",
      "0.09: ['lord_arthur_somerset', 'parents', 'henry_somerset_8th_duke_of_beaufort', 'gender', 'male']\n",
      "\n",
      "Results for (counterfactual) female query:\n",
      "1 paths, fidelity=0.18\n",
      "0.04: ['lord_arthur_somerset', 'parents', 'henry_somerset_8th_duke_of_beaufort', 'gender', 'male']\n",
      "\n",
      "\n",
      "\n"
     ]
    },
    {
     "data": {
      "text/plain": [
       "['francis_dickens', 'gender', 'male']"
      ]
     },
     "execution_count": 43,
     "metadata": {},
     "output_type": "execute_result"
    },
    {
     "name": "stdout",
     "output_type": "stream",
     "text": [
      "Results for male query:\n",
      "1 paths, fidelity=0.30\n",
      "0.06: ['francis_dickens', 'parents', 'catherine_dickens', 'gender', 'female']\n",
      "\n",
      "Results for (counterfactual) female query:\n",
      "1 paths, fidelity=0.18\n",
      "0.07: ['francis_dickens', 'parents', 'catherine_dickens', 'gender', 'female']\n",
      "\n",
      "\n",
      "\n"
     ]
    },
    {
     "data": {
      "text/plain": [
       "['john_monger', 'gender', 'male']"
      ]
     },
     "execution_count": 43,
     "metadata": {},
     "output_type": "execute_result"
    },
    {
     "name": "stdout",
     "output_type": "stream",
     "text": [
      "Results for male query:\n",
      "2 paths, fidelity=0.25\n",
      "0.05: ['john_monger', 'place_of_death', 'york_australia']\n",
      "0.01: ['john_monger', 'parents', 'olga_preobrajenska', 'gender', 'female']\n",
      "\n",
      "Results for (counterfactual) female query:\n",
      "1 paths, fidelity=0.21\n",
      "0.06: ['john_monger', 'place_of_death', 'york_australia']\n",
      "\n",
      "\n",
      "\n"
     ]
    },
    {
     "data": {
      "text/plain": [
       "['john_gordon_sprigg', 'gender', 'male']"
      ]
     },
     "execution_count": 43,
     "metadata": {},
     "output_type": "execute_result"
    },
    {
     "name": "stdout",
     "output_type": "stream",
     "text": [
      "Results for male query:\n",
      "2 paths, fidelity=0.24\n",
      "0.05: ['john_gordon_sprigg', 'place_of_birth', 'ipswich']\n",
      "0.00: ['john_gordon_sprigg', 'place_of_death', 'cape_town']\n",
      "\n",
      "Results for (counterfactual) female query:\n",
      "1 paths, fidelity=0.21\n",
      "0.07: ['john_gordon_sprigg', 'place_of_birth', 'ipswich']\n",
      "\n",
      "\n",
      "\n"
     ]
    },
    {
     "data": {
      "text/plain": [
       "['theophilos', 'gender', 'male']"
      ]
     },
     "execution_count": 43,
     "metadata": {},
     "output_type": "execute_result"
    },
    {
     "name": "stdout",
     "output_type": "stream",
     "text": [
      "Results for male query:\n",
      "2 paths, fidelity=0.30\n",
      "0.07: ['theophilos', 'children', 'michael_iii', 'gender', 'male']\n",
      "0.00: ['theophilos', 'parents', 'michael_ii']\n",
      "\n",
      "Results for (counterfactual) female query:\n",
      "2 paths, fidelity=0.23\n",
      "0.06: ['theophilos', 'children', 'michael_iii', 'gender', 'male']\n",
      "0.02: ['theophilos', 'parents', 'michael_ii']\n",
      "\n",
      "\n",
      "\n"
     ]
    },
    {
     "data": {
      "text/plain": [
       "['ricardo_cortez', 'gender', 'male']"
      ]
     },
     "execution_count": 43,
     "metadata": {},
     "output_type": "execute_result"
    },
    {
     "name": "stdout",
     "output_type": "stream",
     "text": [
      "Results for male query:\n",
      "3 paths, fidelity=0.35\n",
      "0.05: ['ricardo_cortez', 'spouse', 'vanessa_brown', 'gender', 'female']\n",
      "0.05: ['ricardo_cortez', 'spouse', 'lotte_lenya', 'gender', 'female']\n",
      "0.03: ['ricardo_cortez', 'children', 'monique_serf', 'gender', 'female']\n",
      "\n",
      "Results for (counterfactual) female query:\n",
      "3 paths, fidelity=0.33\n",
      "0.14: ['ricardo_cortez', 'spouse', 'vanessa_brown', 'gender', 'female']\n",
      "0.03: ['ricardo_cortez', 'place_of_birth', 'vienna']\n",
      "0.03: ['ricardo_cortez', 'spouse', 'berthold_viertel', 'gender', 'male']\n",
      "\n",
      "\n",
      "\n"
     ]
    },
    {
     "data": {
      "text/plain": [
       "['william_wrigley_jr', 'gender', 'male']"
      ]
     },
     "execution_count": 43,
     "metadata": {},
     "output_type": "execute_result"
    },
    {
     "name": "stdout",
     "output_type": "stream",
     "text": [
      "Results for male query:\n",
      "3 paths, fidelity=0.24\n",
      "0.05: ['william_wrigley_jr', 'children', 'mary_travers', 'gender', 'female']\n",
      "0.02: ['william_wrigley_jr', 'location', 'philadelphia']\n",
      "0.02: ['william_wrigley_jr', 'place_of_death', 'phoenix']\n",
      "\n",
      "Results for (counterfactual) female query:\n",
      "3 paths, fidelity=0.17\n",
      "0.03: ['william_wrigley_jr', 'location', 'philadelphia']\n",
      "0.03: ['william_wrigley_jr', 'place_of_death', 'phoenix']\n",
      "0.02: ['william_wrigley_jr', 'parents', 'maria_poe', 'gender', 'female']\n",
      "\n",
      "\n",
      "\n"
     ]
    },
    {
     "data": {
      "text/plain": [
       "['huug_de_groot', 'gender', 'male']"
      ]
     },
     "execution_count": 43,
     "metadata": {},
     "output_type": "execute_result"
    },
    {
     "name": "stdout",
     "output_type": "stream",
     "text": [
      "Results for male query:\n",
      "3 paths, fidelity=0.26\n",
      "0.05: ['huug_de_groot', 'place_of_death', 'scheveningen']\n",
      "0.01: ['huug_de_groot', 'place_of_birth', 'rotterdam']\n",
      "0.01: ['huug_de_groot', 'spouse', 'sjoukje_bokma_de_boer', 'gender', 'female']\n",
      "\n",
      "Results for (counterfactual) female query:\n",
      "2 paths, fidelity=0.18\n",
      "0.05: ['huug_de_groot', 'children', 'charlotta_kaletta', 'gender', 'female']\n",
      "0.04: ['huug_de_groot', 'place_of_death', 'scheveningen']\n",
      "\n",
      "\n",
      "\n"
     ]
    },
    {
     "data": {
      "text/plain": [
       "['blaze_foley', 'gender', 'male']"
      ]
     },
     "execution_count": 43,
     "metadata": {},
     "output_type": "execute_result"
    },
    {
     "name": "stdout",
     "output_type": "stream",
     "text": [
      "Results for male query:\n",
      "2 paths, fidelity=0.32\n",
      "0.06: ['blaze_foley', 'spouse', 'irina_arkhipova', 'gender', 'female']\n",
      "0.03: ['blaze_foley', 'place_of_death', 'austin']\n",
      "\n",
      "Results for (counterfactual) female query:\n",
      "3 paths, fidelity=0.20\n",
      "0.04: ['blaze_foley', 'place_of_death', 'austin']\n",
      "0.03: ['blaze_foley', 'spouse', 'liz_carpenter', 'gender', 'female']\n",
      "0.01: ['blaze_foley', 'spouse', 'molly_ivins', 'gender', 'female']\n",
      "\n",
      "\n",
      "\n"
     ]
    },
    {
     "data": {
      "text/plain": [
       "['laurent_terzieff', 'gender', 'male']"
      ]
     },
     "execution_count": 43,
     "metadata": {},
     "output_type": "execute_result"
    },
    {
     "name": "stdout",
     "output_type": "stream",
     "text": [
      "Results for male query:\n",
      "3 paths, fidelity=0.28\n",
      "0.04: ['laurent_terzieff', 'spouse', 'marie_dubas', 'gender', 'female']\n",
      "0.03: ['laurent_terzieff', 'place_of_birth', 'toulouse']\n",
      "0.01: ['laurent_terzieff', 'location', 'toulouse']\n",
      "\n",
      "Results for (counterfactual) female query:\n",
      "4 paths, fidelity=0.19\n",
      "0.02: ['laurent_terzieff', 'place_of_birth', 'toulouse']\n",
      "0.02: ['laurent_terzieff', 'children', 'landgravine_amalie_of_hesse_darmstadt', 'gender', 'female']\n",
      "0.02: ['laurent_terzieff', 'spouse', 'emilie_bigottini', 'gender', 'female']\n",
      "0.01: ['laurent_terzieff', 'location', 'toulouse']\n",
      "\n",
      "\n",
      "\n"
     ]
    },
    {
     "data": {
      "text/plain": [
       "['sir_edward_seymour_4th_baronet', 'gender', 'male']"
      ]
     },
     "execution_count": 43,
     "metadata": {},
     "output_type": "execute_result"
    },
    {
     "name": "stdout",
     "output_type": "stream",
     "text": [
      "Results for male query:\n",
      "2 paths, fidelity=0.20\n",
      "0.03: ['sir_edward_seymour_4th_baronet', 'spouse', 'elizabeth_barrett_browning', 'gender', 'female']\n",
      "0.02: ['sir_edward_seymour_4th_baronet', 'spouse', 'marie_lloyd', 'gender', 'female']\n",
      "\n",
      "Results for (counterfactual) female query:\n",
      "3 paths, fidelity=0.18\n",
      "0.06: ['sir_edward_seymour_4th_baronet', 'spouse', 'marie_lloyd', 'gender', 'female']\n",
      "0.01: ['sir_edward_seymour_4th_baronet', 'nationality', 'england']\n",
      "0.00: ['sir_edward_seymour_4th_baronet', 'children', 'elizabeth_of_york_duchess_of_suffolk', 'gender', 'female']\n",
      "\n",
      "\n",
      "\n"
     ]
    },
    {
     "data": {
      "text/plain": [
       "['james_j_jeffries', 'gender', 'male']"
      ]
     },
     "execution_count": 43,
     "metadata": {},
     "output_type": "execute_result"
    },
    {
     "name": "stdout",
     "output_type": "stream",
     "text": [
      "Results for male query:\n",
      "3 paths, fidelity=0.25\n",
      "0.05: ['james_j_jeffries', 'spouse', 'judith_chupac', 'gender', 'female']\n",
      "0.01: ['james_j_jeffries', 'place_of_birth', 'burbank']\n",
      "0.00: ['james_j_jeffries', 'profession', 'professional_boxer']\n",
      "\n",
      "Results for (counterfactual) female query:\n",
      "3 paths, fidelity=0.13\n",
      "0.02: ['james_j_jeffries', 'place_of_death', 'burbank']\n",
      "0.01: ['james_j_jeffries', 'location', 'burbank']\n",
      "0.01: ['james_j_jeffries', 'profession', 'professional_boxer']\n",
      "\n",
      "\n",
      "\n"
     ]
    },
    {
     "data": {
      "text/plain": [
       "['clarence_j_a_turner', 'gender', 'male']"
      ]
     },
     "execution_count": 43,
     "metadata": {},
     "output_type": "execute_result"
    },
    {
     "name": "stdout",
     "output_type": "stream",
     "text": [
      "Results for male query:\n",
      "2 paths, fidelity=0.22\n",
      "0.03: ['clarence_j_a_turner', 'profession', 'jockey']\n",
      "0.03: ['clarence_j_a_turner', 'spouse', 'anna_lee_aldred', 'gender', 'female']\n",
      "\n",
      "Results for (counterfactual) female query:\n",
      "1 paths, fidelity=0.06\n",
      "0.02: ['clarence_j_a_turner', 'profession', 'jockey']\n",
      "\n",
      "\n",
      "\n"
     ]
    },
    {
     "data": {
      "text/plain": [
       "['turlough_ocarolan', 'gender', 'male']"
      ]
     },
     "execution_count": 43,
     "metadata": {},
     "output_type": "execute_result"
    },
    {
     "name": "stdout",
     "output_type": "stream",
     "text": [
      "Results for male query:\n",
      "3 paths, fidelity=0.24\n",
      "0.03: ['turlough_ocarolan', 'place_of_birth', 'county_meath']\n",
      "0.03: ['turlough_ocarolan', 'spouse', 'margaret_ball', 'gender', 'female']\n",
      "0.00: ['turlough_ocarolan', 'children', 'margaret_ball', 'gender', 'female']\n",
      "\n",
      "Results for (counterfactual) female query:\n",
      "3 paths, fidelity=0.15\n",
      "0.02: ['turlough_ocarolan', 'place_of_birth', 'county_meath']\n",
      "0.02: ['turlough_ocarolan', 'children', 'margaret_ball', 'gender', 'female']\n",
      "0.01: ['turlough_ocarolan', 'spouse', 'margaret_ball', 'gender', 'female']\n",
      "\n",
      "\n",
      "\n"
     ]
    },
    {
     "data": {
      "text/plain": [
       "['johannes_sturm', 'gender', 'male']"
      ]
     },
     "execution_count": 43,
     "metadata": {},
     "output_type": "execute_result"
    },
    {
     "name": "stdout",
     "output_type": "stream",
     "text": [
      "Results for male query:\n",
      "3 paths, fidelity=0.21\n",
      "0.03: ['johannes_sturm', 'place_of_death', 'strasbourg']\n",
      "0.01: ['johannes_sturm', 'location', 'strasbourg']\n",
      "0.01: ['johannes_sturm', 'parents', 'augusta_wilhelmine_of_hesse_darmstadt', 'gender', 'female']\n",
      "\n",
      "Results for (counterfactual) female query:\n",
      "3 paths, fidelity=0.12\n",
      "0.02: ['johannes_sturm', 'location', 'strasbourg']\n",
      "0.02: ['johannes_sturm', 'place_of_death', 'strasbourg']\n",
      "0.01: ['johannes_sturm', 'place_of_birth', 'strasbourg']\n",
      "\n",
      "\n",
      "\n"
     ]
    },
    {
     "data": {
      "text/plain": [
       "['edmond_hoyle', 'gender', 'male']"
      ]
     },
     "execution_count": 43,
     "metadata": {},
     "output_type": "execute_result"
    },
    {
     "name": "stdout",
     "output_type": "stream",
     "text": [
      "Results for male query:\n",
      "2 paths, fidelity=0.33\n",
      "0.11: ['edmond_hoyle', 'spouse', 'berengaria_of_navarre', 'gender', 'female']\n",
      "0.00: ['edmond_hoyle', 'parents', 'joan_fitzalan', 'gender', 'female']\n",
      "\n",
      "Results for (counterfactual) female query:\n",
      "5 paths, fidelity=0.23\n",
      "0.08: ['edmond_hoyle', 'spouse', 'lady_frances_brandon', 'gender', 'female']\n",
      "0.02: ['edmond_hoyle', 'parents', 'joan_fitzalan', 'gender', 'female']\n",
      "0.00: ['edmond_hoyle', 'place_of_birth', 'england']\n",
      "0.00: ['edmond_hoyle', 'spouse', 'berengaria_of_navarre', 'gender', 'female']\n",
      "0.00: ['edmond_hoyle', 'place_of_death', 'london']\n",
      "\n",
      "\n",
      "\n"
     ]
    },
    {
     "data": {
      "text/plain": [
       "['burchard_mauchart', 'gender', 'male']"
      ]
     },
     "execution_count": 43,
     "metadata": {},
     "output_type": "execute_result"
    },
    {
     "name": "stdout",
     "output_type": "stream",
     "text": [
      "Results for male query:\n",
      "3 paths, fidelity=0.30\n",
      "0.04: ['burchard_mauchart', 'institution', 'eberhard_karls_university_of_tubingen']\n",
      "0.03: ['burchard_mauchart', 'parents', 'emilie_schindler', 'gender', 'female']\n",
      "0.00: ['burchard_mauchart', 'spouse', 'rebecca_henriette_lejeune_dirichlet', 'gender', 'female']\n",
      "\n",
      "Results for (counterfactual) female query:\n",
      "1 paths, fidelity=0.13\n",
      "0.04: ['burchard_mauchart', 'institution', 'eberhard_karls_university_of_tubingen']\n",
      "\n",
      "\n",
      "\n"
     ]
    },
    {
     "data": {
      "text/plain": [
       "['franz_skutsch', 'gender', 'male']"
      ]
     },
     "execution_count": 43,
     "metadata": {},
     "output_type": "execute_result"
    },
    {
     "name": "stdout",
     "output_type": "stream",
     "text": [
      "Results for male query:\n",
      "2 paths, fidelity=0.28\n",
      "0.06: ['franz_skutsch', 'spouse', 'countess_palatine_hedwig_elisabeth_amelia_of_neuburg', 'gender', 'female']\n",
      "0.01: ['franz_skutsch', 'place_of_death', 'wroclaw']\n",
      "\n",
      "Results for (counterfactual) female query:\n",
      "3 paths, fidelity=0.19\n",
      "0.06: ['franz_skutsch', 'spouse', 'countess_palatine_hedwig_elisabeth_amelia_of_neuburg', 'gender', 'female']\n",
      "0.01: ['franz_skutsch', 'place_of_death', 'wroclaw']\n",
      "0.01: ['franz_skutsch', 'spouse', 'duchess_marie_of_mecklenburg', 'gender', 'female']\n",
      "\n",
      "\n",
      "\n"
     ]
    },
    {
     "data": {
      "text/plain": [
       "['charles_brackett', 'gender', 'male']"
      ]
     },
     "execution_count": 43,
     "metadata": {},
     "output_type": "execute_result"
    },
    {
     "name": "stdout",
     "output_type": "stream",
     "text": [
      "Results for male query:\n",
      "4 paths, fidelity=0.35\n",
      "0.05: ['charles_brackett', 'parents', 'marija_gimbutas', 'gender', 'female']\n",
      "0.04: ['charles_brackett', 'place_of_birth', 'saratoga_springs']\n",
      "0.02: ['charles_brackett', 'parents', 'frances_dana_barker_gage', 'gender', 'female']\n",
      "0.01: ['charles_brackett', 'location', 'saratoga_springs']\n",
      "\n",
      "Results for (counterfactual) female query:\n",
      "4 paths, fidelity=0.23\n",
      "0.06: ['charles_brackett', 'place_of_birth', 'saratoga_springs']\n",
      "0.04: ['charles_brackett', 'spouse', 'dorothy_phillips', 'gender', 'female']\n",
      "0.02: ['charles_brackett', 'profession', 'screenwriter']\n",
      "0.00: ['charles_brackett', 'place_of_death', 'los_angeles']\n",
      "\n",
      "\n",
      "\n"
     ]
    },
    {
     "data": {
      "text/plain": [
       "['angus_morrison', 'gender', 'male']"
      ]
     },
     "execution_count": 43,
     "metadata": {},
     "output_type": "execute_result"
    },
    {
     "name": "stdout",
     "output_type": "stream",
     "text": [
      "Results for male query:\n",
      "2 paths, fidelity=0.24\n",
      "0.04: ['angus_morrison', 'spouse', 'margaret_battye', 'gender', 'female']\n",
      "0.03: ['angus_morrison', 'location', 'edinburgh']\n",
      "\n",
      "Results for (counterfactual) female query:\n",
      "2 paths, fidelity=0.15\n",
      "0.04: ['angus_morrison', 'location', 'edinburgh']\n",
      "0.03: ['angus_morrison', 'parents', 'matilda_of_ringelheim', 'gender', 'female']\n",
      "\n",
      "\n",
      "\n"
     ]
    },
    {
     "data": {
      "text/plain": [
       "['john_james_pringle', 'gender', 'male']"
      ]
     },
     "execution_count": 43,
     "metadata": {},
     "output_type": "execute_result"
    },
    {
     "name": "stdout",
     "output_type": "stream",
     "text": [
      "Results for male query:\n",
      "3 paths, fidelity=0.25\n",
      "0.04: ['john_james_pringle', 'place_of_death', 'christchurch']\n",
      "0.02: ['john_james_pringle', 'children', 'ines_suarez', 'gender', 'female']\n",
      "0.00: ['john_james_pringle', 'spouse', 'kate_sheppard', 'gender', 'female']\n",
      "\n",
      "Results for (counterfactual) female query:\n",
      "2 paths, fidelity=0.18\n",
      "0.04: ['john_james_pringle', 'place_of_death', 'christchurch']\n",
      "0.03: ['john_james_pringle', 'children', 'ines_suarez', 'gender', 'female']\n",
      "\n",
      "\n",
      "\n"
     ]
    },
    {
     "data": {
      "text/plain": [
       "['melchior_berri', 'gender', 'male']"
      ]
     },
     "execution_count": 43,
     "metadata": {},
     "output_type": "execute_result"
    },
    {
     "name": "stdout",
     "output_type": "stream",
     "text": [
      "Results for male query:\n",
      "4 paths, fidelity=0.24\n",
      "0.03: ['melchior_berri', 'nationality', 'switzerland']\n",
      "0.02: ['melchior_berri', 'spouse', 'meret_oppenheim', 'gender', 'female']\n",
      "0.01: ['melchior_berri', 'children', 'elisabeth_kubler-ross', 'gender', 'female']\n",
      "0.01: ['melchior_berri', 'place_of_death', 'basel']\n",
      "\n",
      "Results for (counterfactual) female query:\n",
      "4 paths, fidelity=0.15\n",
      "0.03: ['melchior_berri', 'parents', 'princess_alexandra_of_hanover_and_cumberland', 'gender', 'female']\n",
      "0.02: ['melchior_berri', 'place_of_birth', 'basel']\n",
      "0.01: ['melchior_berri', 'parents', 'sophie_hunger', 'gender', 'female']\n",
      "0.00: ['melchior_berri', 'nationality', 'switzerland']\n",
      "\n",
      "\n",
      "\n"
     ]
    },
    {
     "data": {
      "text/plain": [
       "['charles_bell', 'gender', 'male']"
      ]
     },
     "execution_count": 43,
     "metadata": {},
     "output_type": "execute_result"
    },
    {
     "name": "stdout",
     "output_type": "stream",
     "text": [
      "Results for male query:\n",
      "7 paths, fidelity=0.28\n",
      "0.04: ['charles_bell', 'place_of_death', 'worcester']\n",
      "0.02: ['charles_bell', 'profession', 'surgeon']\n",
      "0.01: ['charles_bell', 'location', 'edinburgh']\n",
      "0.01: ['charles_bell', 'place_of_birth', 'edinburgh']\n",
      "0.01: ['charles_bell', 'spouse', 'anne_bannerman', 'gender', 'female']\n",
      "0.01: ['charles_bell', 'spouse', 'joanna_baillie', 'gender', 'female']\n",
      "0.00: ['charles_bell', 'institution', 'university_of_edinburgh']\n",
      "\n",
      "Results for (counterfactual) female query:\n",
      "3 paths, fidelity=0.14\n",
      "0.03: ['charles_bell', 'place_of_death', 'worcester']\n",
      "0.02: ['charles_bell', 'location', 'edinburgh']\n",
      "0.00: ['charles_bell', 'place_of_birth', 'edinburgh']\n",
      "\n",
      "\n",
      "\n"
     ]
    },
    {
     "data": {
      "text/plain": [
       "['jan_zamoyski', 'gender', 'male']"
      ]
     },
     "execution_count": 43,
     "metadata": {},
     "output_type": "execute_result"
    },
    {
     "name": "stdout",
     "output_type": "stream",
     "text": [
      "Results for male query:\n",
      "1 paths, fidelity=0.26\n",
      "0.05: ['jan_zamoyski', 'place_of_death', 'zamosc']\n",
      "\n",
      "Results for (counterfactual) female query:\n",
      "1 paths, fidelity=0.13\n",
      "0.04: ['jan_zamoyski', 'place_of_death', 'zamosc']\n",
      "\n",
      "\n",
      "\n"
     ]
    },
    {
     "data": {
      "text/plain": [
       "['desiderius_erasmus', 'gender', 'male']"
      ]
     },
     "execution_count": 43,
     "metadata": {},
     "output_type": "execute_result"
    },
    {
     "name": "stdout",
     "output_type": "stream",
     "text": [
      "Results for male query:\n",
      "4 paths, fidelity=0.31\n",
      "0.05: ['desiderius_erasmus', 'location', 'gouda']\n",
      "0.02: ['desiderius_erasmus', 'profession', 'theologian']\n",
      "0.01: ['desiderius_erasmus', 'children', 'louise_hale', 'gender', 'female']\n",
      "0.00: ['desiderius_erasmus', 'location', 'rotterdam']\n",
      "\n",
      "Results for (counterfactual) female query:\n",
      "3 paths, fidelity=0.26\n",
      "0.06: ['desiderius_erasmus', 'profession', 'theologian']\n",
      "0.03: ['desiderius_erasmus', 'spouse', 'elisabeth_of_bavaria', 'gender', 'female']\n",
      "0.03: ['desiderius_erasmus', 'location', 'gouda']\n",
      "\n",
      "\n",
      "\n"
     ]
    },
    {
     "data": {
      "text/plain": [
       "['frank_robbins', 'gender', 'male']"
      ]
     },
     "execution_count": 43,
     "metadata": {},
     "output_type": "execute_result"
    },
    {
     "name": "stdout",
     "output_type": "stream",
     "text": [
      "Results for male query:\n",
      "2 paths, fidelity=0.25\n",
      "0.05: ['frank_robbins', 'place_of_death', 'san_miguel_de_allende']\n",
      "0.01: ['frank_robbins', 'place_of_birth', 'boston_massachusetts']\n",
      "\n",
      "Results for (counterfactual) female query:\n",
      "3 paths, fidelity=0.22\n",
      "0.04: ['frank_robbins', 'place_of_death', 'san_miguel_de_allende']\n",
      "0.02: ['frank_robbins', 'parents', 'marcella_boveri', 'gender', 'female']\n",
      "0.02: ['frank_robbins', 'place_of_birth', 'boston_massachusetts']\n",
      "\n",
      "\n",
      "\n"
     ]
    },
    {
     "data": {
      "text/plain": [
       "['naser_makarem_shirazi', 'gender', 'male']"
      ]
     },
     "execution_count": 43,
     "metadata": {},
     "output_type": "execute_result"
    },
    {
     "name": "stdout",
     "output_type": "stream",
     "text": [
      "Results for male query:\n",
      "3 paths, fidelity=0.29\n",
      "0.06: ['naser_makarem_shirazi', 'spouse', 'sohane_benziane', 'gender', 'female']\n",
      "0.01: ['naser_makarem_shirazi', 'spouse', 'samira_bellil', 'gender', 'female']\n",
      "0.01: ['naser_makarem_shirazi', 'religion', 'islam']\n",
      "\n",
      "Results for (counterfactual) female query:\n",
      "2 paths, fidelity=0.22\n",
      "0.08: ['naser_makarem_shirazi', 'children', 'mihrimar', 'gender', 'female']\n",
      "0.00: ['naser_makarem_shirazi', 'religion', 'islam']\n",
      "\n",
      "\n",
      "\n"
     ]
    },
    {
     "data": {
      "text/plain": [
       "['wilhelm_julius_foerster', 'gender', 'male']"
      ]
     },
     "execution_count": 43,
     "metadata": {},
     "output_type": "execute_result"
    },
    {
     "name": "stdout",
     "output_type": "stream",
     "text": [
      "Results for male query:\n",
      "4 paths, fidelity=0.21\n",
      "0.04: ['wilhelm_julius_foerster', 'place_of_birth', 'zielona_gora']\n",
      "0.01: ['wilhelm_julius_foerster', 'location', 'zielona_gora']\n",
      "0.01: ['wilhelm_julius_foerster', 'parents', 'augusta_viktoria_of_schleswig-holstein', 'gender', 'female']\n",
      "0.00: ['wilhelm_julius_foerster', 'place_of_death', 'potsdam']\n",
      "\n",
      "Results for (counterfactual) female query:\n",
      "1 paths, fidelity=0.15\n",
      "0.05: ['wilhelm_julius_foerster', 'place_of_birth', 'zielona_gora']\n",
      "\n",
      "\n",
      "\n"
     ]
    },
    {
     "data": {
      "text/plain": [
       "['leonard_of_port_maurice', 'gender', 'male']"
      ]
     },
     "execution_count": 43,
     "metadata": {},
     "output_type": "execute_result"
    },
    {
     "name": "stdout",
     "output_type": "stream",
     "text": [
      "Results for male query:\n",
      "2 paths, fidelity=0.18\n",
      "0.04: ['leonard_of_port_maurice', 'place_of_birth', 'imperia']\n",
      "0.00: ['leonard_of_port_maurice', 'location', 'imperia']\n",
      "\n",
      "Results for (counterfactual) female query:\n",
      "1 paths, fidelity=0.13\n",
      "0.04: ['leonard_of_port_maurice', 'place_of_birth', 'imperia']\n",
      "\n",
      "\n",
      "\n"
     ]
    },
    {
     "data": {
      "text/plain": [
       "['clifford_bax', 'gender', 'male']"
      ]
     },
     "execution_count": 43,
     "metadata": {},
     "output_type": "execute_result"
    },
    {
     "name": "stdout",
     "output_type": "stream",
     "text": [
      "Results for male query:\n",
      "4 paths, fidelity=0.28\n",
      "0.03: ['clifford_bax', 'spouse', 'marie_lloyd', 'gender', 'female']\n",
      "0.03: ['clifford_bax', 'profession', 'editor']\n",
      "0.03: ['clifford_bax', 'profession', 'astrologer']\n",
      "0.01: ['clifford_bax', 'profession', 'translator']\n",
      "\n",
      "Results for (counterfactual) female query:\n",
      "5 paths, fidelity=0.26\n",
      "0.04: ['clifford_bax', 'parents', 'lady_frances_brandon', 'gender', 'female']\n",
      "0.04: ['clifford_bax', 'profession', 'translator']\n",
      "0.02: ['clifford_bax', 'profession', 'editor']\n",
      "0.01: ['clifford_bax', 'nationality', 'england']\n",
      "0.00: ['clifford_bax', 'profession', 'astrologer']\n",
      "\n",
      "\n",
      "\n"
     ]
    },
    {
     "data": {
      "text/plain": [
       "['jimmy_dean', 'gender', 'male']"
      ]
     },
     "execution_count": 43,
     "metadata": {},
     "output_type": "execute_result"
    },
    {
     "name": "stdout",
     "output_type": "stream",
     "text": [
      "Results for male query:\n",
      "5 paths, fidelity=0.30\n",
      "0.03: ['jimmy_dean', 'children', 'marjorie_merriweather_post', 'gender', 'female']\n",
      "0.02: ['jimmy_dean', 'location', 'texas']\n",
      "0.02: ['jimmy_dean', 'cause_of_death', 'death_by_natural_causes']\n",
      "0.01: ['jimmy_dean', 'children', 'nicolette_larson', 'gender', 'female']\n",
      "0.01: ['jimmy_dean', 'spouse', 'mary_lasker', 'gender', 'female']\n",
      "\n",
      "Results for (counterfactual) female query:\n",
      "5 paths, fidelity=0.31\n",
      "0.12: ['jimmy_dean', 'children', 'aaliyah', 'gender', 'female']\n",
      "0.04: ['jimmy_dean', 'cause_of_death', 'death_by_natural_causes']\n",
      "0.02: ['jimmy_dean', 'location', 'texas']\n",
      "0.01: ['jimmy_dean', 'profession', 'singer']\n",
      "0.01: ['jimmy_dean', 'profession', 'entrepreneur']\n",
      "\n",
      "\n",
      "\n"
     ]
    },
    {
     "data": {
      "text/plain": [
       "['william_batchelder_bradbury', 'gender', 'male']"
      ]
     },
     "execution_count": 43,
     "metadata": {},
     "output_type": "execute_result"
    },
    {
     "name": "stdout",
     "output_type": "stream",
     "text": [
      "Results for male query:\n",
      "4 paths, fidelity=0.28\n",
      "0.04: ['william_batchelder_bradbury', 'spouse', 'ernestine_gilbreth_carey', 'gender', 'female']\n",
      "0.03: ['william_batchelder_bradbury', 'location', 'montclair']\n",
      "0.01: ['william_batchelder_bradbury', 'place_of_birth', 'montclair']\n",
      "0.01: ['william_batchelder_bradbury', 'place_of_death', 'montclair']\n",
      "\n",
      "Results for (counterfactual) female query:\n",
      "5 paths, fidelity=0.19\n",
      "0.04: ['william_batchelder_bradbury', 'spouse', 'ernestine_gilbreth_carey', 'gender', 'female']\n",
      "0.02: ['william_batchelder_bradbury', 'location', 'montclair']\n",
      "0.02: ['william_batchelder_bradbury', 'place_of_birth', 'montclair']\n",
      "0.01: ['william_batchelder_bradbury', 'place_of_death', 'montclair']\n",
      "0.01: ['william_batchelder_bradbury', 'children', 'ernestine_gilbreth_carey', 'gender', 'female']\n",
      "\n",
      "\n",
      "\n"
     ]
    },
    {
     "data": {
      "text/plain": [
       "['louis_vii_of_france', 'gender', 'male']"
      ]
     },
     "execution_count": 43,
     "metadata": {},
     "output_type": "execute_result"
    },
    {
     "name": "stdout",
     "output_type": "stream",
     "text": [
      "Results for male query:\n",
      "4 paths, fidelity=0.33\n",
      "0.04: ['louis_vii_of_france', 'spouse', 'constance_of_castile_queen_of_france', 'gender', 'female']\n",
      "0.03: ['louis_vii_of_france', 'children', 'alys_countess_of_the_vexin', 'gender', 'female']\n",
      "0.02: ['louis_vii_of_france', 'parents', 'louis_vi_of_france', 'gender', 'male']\n",
      "0.00: ['louis_vii_of_france', 'children', 'philip_ii_of_france']\n",
      "\n",
      "Results for (counterfactual) female query:\n",
      "7 paths, fidelity=0.29\n",
      "0.03: ['louis_vii_of_france', 'children', 'marguerite_of_france_1158', 'gender', 'female']\n",
      "0.03: ['louis_vii_of_france', 'children', 'alix_of_france', 'gender', 'female']\n",
      "0.02: ['louis_vii_of_france', 'children', 'philip_ii_of_france']\n",
      "0.01: ['louis_vii_of_france', 'spouse', 'constance_of_castile_queen_of_france', 'gender', 'female']\n",
      "0.01: ['louis_vii_of_france', 'children', 'alys_countess_of_the_vexin', 'gender', 'female']\n",
      "0.01: ['louis_vii_of_france', 'children', 'alys_countess_of_the_vexin']\n",
      "0.00: ['louis_vii_of_france', 'spouse', 'henry_ii_of_england', 'gender', 'male']\n",
      "\n",
      "\n",
      "\n"
     ]
    },
    {
     "data": {
      "text/plain": [
       "['ian_stevenson', 'gender', 'male']"
      ]
     },
     "execution_count": 43,
     "metadata": {},
     "output_type": "execute_result"
    },
    {
     "name": "stdout",
     "output_type": "stream",
     "text": [
      "Results for male query:\n",
      "6 paths, fidelity=0.28\n",
      "0.03: ['ian_stevenson', 'ethnicity', 'caucasian_race']\n",
      "0.02: ['ian_stevenson', 'institution', 'university_of_st_andrews']\n",
      "0.01: ['ian_stevenson', 'location', 'charlottesville']\n",
      "0.00: ['ian_stevenson', 'place_of_birth', 'charlottesville']\n",
      "0.00: ['ian_stevenson', 'institution', 'mcgill_university']\n",
      "0.00: ['ian_stevenson', 'place_of_birth', 'montreal']\n",
      "\n",
      "Results for (counterfactual) female query:\n",
      "4 paths, fidelity=0.25\n",
      "0.02: ['ian_stevenson', 'institution', 'university_of_st_andrews']\n",
      "0.02: ['ian_stevenson', 'ethnicity', 'caucasian_race']\n",
      "0.02: ['ian_stevenson', 'location', 'charlottesville']\n",
      "0.01: ['ian_stevenson', 'place_of_birth', 'montreal']\n",
      "\n",
      "\n",
      "\n"
     ]
    },
    {
     "data": {
      "text/plain": [
       "['david_lewis_1901', 'gender', 'male']"
      ]
     },
     "execution_count": 43,
     "metadata": {},
     "output_type": "execute_result"
    },
    {
     "name": "stdout",
     "output_type": "stream",
     "text": [
      "Results for male query:\n",
      "4 paths, fidelity=0.26\n",
      "0.06: ['david_lewis_1901', 'spouse', 'celia_franca', 'gender', 'female']\n",
      "0.04: ['david_lewis_1901', 'place_of_death', 'ottawa']\n",
      "0.00: ['david_lewis_1901', 'institution', 'mcgill_university']\n",
      "0.00: ['david_lewis_1901', 'location', 'montreal']\n",
      "\n",
      "Results for (counterfactual) female query:\n",
      "4 paths, fidelity=0.16\n",
      "0.02: ['david_lewis_1901', 'location', 'montreal']\n",
      "0.02: ['david_lewis_1901', 'place_of_death', 'ottawa']\n",
      "0.01: ['david_lewis_1901', 'spouse', 'zoe_laurier', 'gender', 'female']\n",
      "0.00: ['david_lewis_1901', 'religion', 'judaism']\n",
      "\n",
      "\n",
      "\n"
     ]
    },
    {
     "data": {
      "text/plain": [
       "['edward_montagu_2nd_earl_of_sandwich', 'gender', 'male']"
      ]
     },
     "execution_count": 43,
     "metadata": {},
     "output_type": "execute_result"
    },
    {
     "name": "stdout",
     "output_type": "stream",
     "text": [
      "Results for male query:\n",
      "2 paths, fidelity=0.26\n",
      "0.03: ['edward_montagu_2nd_earl_of_sandwich', 'children', 'edward_montagu_3rd_earl_of_sandwich', 'gender', 'male']\n",
      "0.02: ['edward_montagu_2nd_earl_of_sandwich', 'parents', 'edward_montagu_1st_earl_of_sandwich']\n",
      "\n",
      "Results for (counterfactual) female query:\n",
      "2 paths, fidelity=0.25\n",
      "0.08: ['edward_montagu_2nd_earl_of_sandwich', 'children', 'edward_montagu_3rd_earl_of_sandwich', 'gender', 'male']\n",
      "0.02: ['edward_montagu_2nd_earl_of_sandwich', 'parents', 'edward_montagu_1st_earl_of_sandwich']\n",
      "\n",
      "\n",
      "\n"
     ]
    },
    {
     "data": {
      "text/plain": [
       "['roy_thomson_1st_baron_thomson_of_fleet', 'gender', 'male']"
      ]
     },
     "execution_count": 43,
     "metadata": {},
     "output_type": "execute_result"
    },
    {
     "name": "stdout",
     "output_type": "stream",
     "text": [
      "Results for male query:\n",
      "1 paths, fidelity=0.37\n",
      "0.11: ['roy_thomson_1st_baron_thomson_of_fleet', 'children', 'kenneth_thomson_2nd_baron_thomson_of_fleet', 'gender', 'male']\n",
      "\n",
      "Results for (counterfactual) female query:\n",
      "2 paths, fidelity=0.17\n",
      "0.03: ['roy_thomson_1st_baron_thomson_of_fleet', 'children', 'kenneth_thomson_2nd_baron_thomson_of_fleet', 'gender', 'male']\n",
      "0.02: ['roy_thomson_1st_baron_thomson_of_fleet', 'place_of_birth', 'toronto']\n",
      "\n",
      "\n",
      "\n"
     ]
    },
    {
     "data": {
      "text/plain": [
       "['franz_stock', 'gender', 'male']"
      ]
     },
     "execution_count": 43,
     "metadata": {},
     "output_type": "execute_result"
    },
    {
     "name": "stdout",
     "output_type": "stream",
     "text": [
      "Results for male query:\n",
      "3 paths, fidelity=0.17\n",
      "0.03: ['franz_stock', 'spouse', 'romy_schneider', 'gender', 'female']\n",
      "0.01: ['franz_stock', 'place_of_death', 'paris']\n",
      "0.01: ['franz_stock', 'children', 'julie_manet', 'gender', 'female']\n",
      "\n",
      "Results for (counterfactual) female query:\n",
      "3 paths, fidelity=0.15\n",
      "0.05: ['franz_stock', 'children', 'julie_manet', 'gender', 'female']\n",
      "0.02: ['franz_stock', 'place_of_death', 'paris']\n",
      "0.00: ['franz_stock', 'parents', 'joanna_of_bourbon', 'gender', 'female']\n",
      "\n",
      "\n",
      "\n"
     ]
    },
    {
     "data": {
      "text/plain": [
       "['john_drake_lebanon', 'gender', 'male']"
      ]
     },
     "execution_count": 43,
     "metadata": {},
     "output_type": "execute_result"
    },
    {
     "name": "stdout",
     "output_type": "stream",
     "text": [
      "Results for male query:\n",
      "4 paths, fidelity=0.23\n",
      "0.03: ['john_drake_lebanon', 'children', 'john_drake_1872']\n",
      "0.03: ['john_drake_lebanon', 'place_of_birth', 'lebanon_ohio']\n",
      "0.01: ['john_drake_lebanon', 'children', 'tracy_drake']\n",
      "0.01: ['john_drake_lebanon', 'location', 'lebanon_ohio']\n",
      "\n",
      "Results for (counterfactual) female query:\n",
      "2 paths, fidelity=0.15\n",
      "0.03: ['john_drake_lebanon', 'place_of_birth', 'lebanon_ohio']\n",
      "0.02: ['john_drake_lebanon', 'children', 'tracy_drake']\n",
      "\n",
      "\n",
      "\n"
     ]
    },
    {
     "data": {
      "text/plain": [
       "['dominik_hieronim_radziwill', 'gender', 'male']"
      ]
     },
     "execution_count": 43,
     "metadata": {},
     "output_type": "execute_result"
    },
    {
     "name": "stdout",
     "output_type": "stream",
     "text": [
      "Results for male query:\n",
      "2 paths, fidelity=0.28\n",
      "0.06: ['dominik_hieronim_radziwill', 'parents', 'hieronim_wincenty_radziwill', 'gender', 'male']\n",
      "0.01: ['dominik_hieronim_radziwill', 'parents', 'hieronim_wincenty_radziwill']\n",
      "\n",
      "Results for (counterfactual) female query:\n",
      "2 paths, fidelity=0.16\n",
      "0.04: ['dominik_hieronim_radziwill', 'parents', 'hieronim_wincenty_radziwill', 'gender', 'male']\n",
      "0.01: ['dominik_hieronim_radziwill', 'parents', 'hieronim_wincenty_radziwill']\n",
      "\n",
      "\n",
      "\n"
     ]
    },
    {
     "data": {
      "text/plain": [
       "['george_croom_robertson', 'gender', 'male']"
      ]
     },
     "execution_count": 43,
     "metadata": {},
     "output_type": "execute_result"
    },
    {
     "name": "stdout",
     "output_type": "stream",
     "text": [
      "Results for male query:\n",
      "3 paths, fidelity=0.32\n",
      "0.06: ['george_croom_robertson', 'spouse', 'gladys_pyle', 'gender', 'female']\n",
      "0.03: ['george_croom_robertson', 'institution', 'university_of_aberdeen']\n",
      "0.00: ['george_croom_robertson', 'children', 'margaret_of_england', 'gender', 'female']\n",
      "\n",
      "Results for (counterfactual) female query:\n",
      "1 paths, fidelity=0.08\n",
      "0.03: ['george_croom_robertson', 'institution', 'university_of_aberdeen']\n",
      "\n",
      "\n",
      "\n"
     ]
    },
    {
     "data": {
      "text/plain": [
       "['seth_boyden', 'gender', 'male']"
      ]
     },
     "execution_count": 43,
     "metadata": {},
     "output_type": "execute_result"
    },
    {
     "name": "stdout",
     "output_type": "stream",
     "text": [
      "Results for male query:\n",
      "2 paths, fidelity=0.33\n",
      "0.09: ['seth_boyden', 'spouse', 'kathryn_minner', 'gender', 'female']\n",
      "0.02: ['seth_boyden', 'location', 'newark']\n",
      "\n",
      "Results for (counterfactual) female query:\n",
      "2 paths, fidelity=0.20\n",
      "0.06: ['seth_boyden', 'parents', 'bette_nesmith_graham', 'gender', 'female']\n",
      "0.02: ['seth_boyden', 'location', 'newark']\n",
      "\n",
      "\n",
      "\n"
     ]
    },
    {
     "data": {
      "text/plain": [
       "['william_dobson', 'gender', 'male']"
      ]
     },
     "execution_count": 43,
     "metadata": {},
     "output_type": "execute_result"
    },
    {
     "name": "stdout",
     "output_type": "stream",
     "text": [
      "Results for male query:\n",
      "3 paths, fidelity=0.27\n",
      "0.04: ['william_dobson', 'children', 'fredegond_shove', 'gender', 'female']\n",
      "0.04: ['william_dobson', 'place_of_death', 'oxford']\n",
      "0.00: ['william_dobson', 'spouse', 'elizabeth_porter', 'gender', 'female']\n",
      "\n",
      "Results for (counterfactual) female query:\n",
      "2 paths, fidelity=0.13\n",
      "0.03: ['william_dobson', 'place_of_death', 'oxford']\n",
      "0.02: ['william_dobson', 'place_of_birth', 'london']\n",
      "\n",
      "\n",
      "\n"
     ]
    },
    {
     "data": {
      "text/plain": [
       "['heinrich_ernst_schirmer', 'gender', 'male']"
      ]
     },
     "execution_count": 43,
     "metadata": {},
     "output_type": "execute_result"
    },
    {
     "name": "stdout",
     "output_type": "stream",
     "text": [
      "Results for male query:\n",
      "2 paths, fidelity=0.23\n",
      "0.03: ['heinrich_ernst_schirmer', 'children', 'elisabeth_fredericka_sophie_of_brandenburg_bayreuth', 'gender', 'female']\n",
      "0.03: ['heinrich_ernst_schirmer', 'parents', 'hildegard_peplau', 'gender', 'female']\n",
      "\n",
      "Results for (counterfactual) female query:\n",
      "2 paths, fidelity=0.20\n",
      "0.07: ['heinrich_ernst_schirmer', 'children', 'elisabeth_fredericka_sophie_of_brandenburg_bayreuth', 'gender', 'female']\n",
      "0.01: ['heinrich_ernst_schirmer', 'parents', 'princess_elisabeth_of_anhalt', 'gender', 'female']\n",
      "\n",
      "\n",
      "\n"
     ]
    },
    {
     "data": {
      "text/plain": [
       "['hovhannes_shiraz', 'gender', 'male']"
      ]
     },
     "execution_count": 43,
     "metadata": {},
     "output_type": "execute_result"
    },
    {
     "name": "stdout",
     "output_type": "stream",
     "text": [
      "Results for male query:\n",
      "3 paths, fidelity=0.26\n",
      "0.04: ['hovhannes_shiraz', 'place_of_birth', 'gyumri']\n",
      "0.02: ['hovhannes_shiraz', 'children', 'shushanik', 'gender', 'female']\n",
      "0.00: ['hovhannes_shiraz', 'location', 'gyumri']\n",
      "\n",
      "Results for (counterfactual) female query:\n",
      "4 paths, fidelity=0.30\n",
      "0.08: ['hovhannes_shiraz', 'spouse', 'infanta_francisca_josefa_of_portugal', 'gender', 'female']\n",
      "0.05: ['hovhannes_shiraz', 'place_of_birth', 'gyumri']\n",
      "0.00: ['hovhannes_shiraz', 'location', 'gyumri']\n",
      "0.00: ['hovhannes_shiraz', 'parents', 'natalia_alexeievna_of_russia', 'gender', 'female']\n",
      "\n",
      "\n",
      "\n"
     ]
    },
    {
     "data": {
      "text/plain": [
       "['ian_porterfield', 'gender', 'male']"
      ]
     },
     "execution_count": 43,
     "metadata": {},
     "output_type": "execute_result"
    },
    {
     "name": "stdout",
     "output_type": "stream",
     "text": [
      "Results for male query:\n",
      "4 paths, fidelity=0.21\n",
      "0.04: ['ian_porterfield', 'place_of_death', 'surrey']\n",
      "0.02: ['ian_porterfield', 'cause_of_death', 'cancer']\n",
      "0.00: ['ian_porterfield', 'spouse', 'joanna_baillie', 'gender', 'female']\n",
      "0.00: ['ian_porterfield', 'cause_of_death', 'colorectal_cancer']\n",
      "\n",
      "Results for (counterfactual) female query:\n",
      "5 paths, fidelity=0.17\n",
      "0.03: ['ian_porterfield', 'place_of_death', 'surrey']\n",
      "0.01: ['ian_porterfield', 'spouse', 'eartha_kitt', 'gender', 'female']\n",
      "0.01: ['ian_porterfield', 'cause_of_death', 'cancer']\n",
      "0.01: ['ian_porterfield', 'nationality', 'scotland']\n",
      "0.01: ['ian_porterfield', 'cause_of_death', 'colorectal_cancer']\n",
      "\n",
      "\n",
      "\n"
     ]
    },
    {
     "data": {
      "text/plain": [
       "['don_haggerty', 'gender', 'male']"
      ]
     },
     "execution_count": 43,
     "metadata": {},
     "output_type": "execute_result"
    },
    {
     "name": "stdout",
     "output_type": "stream",
     "text": [
      "Results for male query:\n",
      "2 paths, fidelity=0.32\n",
      "0.07: ['don_haggerty', 'spouse', 'constance_hunting', 'gender', 'female']\n",
      "0.02: ['don_haggerty', 'institution', 'brown_university']\n",
      "\n",
      "Results for (counterfactual) female query:\n",
      "2 paths, fidelity=0.20\n",
      "0.04: ['don_haggerty', 'institution', 'brown_university']\n",
      "0.02: ['don_haggerty', 'children', 'ruth_cracknell', 'gender', 'female']\n",
      "\n",
      "\n",
      "\n"
     ]
    },
    {
     "data": {
      "text/plain": [
       "['jeremy_monteiro', 'gender', 'male']"
      ]
     },
     "execution_count": 43,
     "metadata": {},
     "output_type": "execute_result"
    },
    {
     "name": "stdout",
     "output_type": "stream",
     "text": [
      "Results for male query:\n",
      "4 paths, fidelity=0.23\n",
      "0.03: ['jeremy_monteiro', 'nationality', 'singapore']\n",
      "0.02: ['jeremy_monteiro', 'spouse', 'loke_cheng_kim', 'gender', 'female']\n",
      "0.01: ['jeremy_monteiro', 'profession', 'jazz_pianist']\n",
      "0.00: ['jeremy_monteiro', 'spouse', 'bonny_hicks', 'gender', 'female']\n",
      "\n",
      "Results for (counterfactual) female query:\n",
      "5 paths, fidelity=0.23\n",
      "0.05: ['jeremy_monteiro', 'parents', 'landgravine_amalie_of_hesse_darmstadt', 'gender', 'female']\n",
      "0.03: ['jeremy_monteiro', 'nationality', 'singapore']\n",
      "0.01: ['jeremy_monteiro', 'profession', 'singer']\n",
      "0.01: ['jeremy_monteiro', 'spouse', 'loke_cheng_kim', 'gender', 'female']\n",
      "0.01: ['jeremy_monteiro', 'profession', 'jazz_pianist']\n",
      "\n",
      "\n",
      "\n"
     ]
    },
    {
     "data": {
      "text/plain": [
       "['michael_bigg', 'gender', 'male']"
      ]
     },
     "execution_count": 43,
     "metadata": {},
     "output_type": "execute_result"
    },
    {
     "name": "stdout",
     "output_type": "stream",
     "text": [
      "Results for male query:\n",
      "2 paths, fidelity=0.19\n",
      "0.02: ['michael_bigg', 'institution', 'university_of_british_columbia']\n",
      "0.01: ['michael_bigg', 'cause_of_death', 'leukemia']\n",
      "\n",
      "Results for (counterfactual) female query:\n",
      "3 paths, fidelity=0.18\n",
      "0.03: ['michael_bigg', 'place_of_birth', 'london']\n",
      "0.03: ['michael_bigg', 'institution', 'university_of_british_columbia']\n",
      "0.01: ['michael_bigg', 'cause_of_death', 'leukemia']\n",
      "\n",
      "\n",
      "\n"
     ]
    },
    {
     "data": {
      "text/plain": [
       "['julius_von_sachs', 'gender', 'male']"
      ]
     },
     "execution_count": 43,
     "metadata": {},
     "output_type": "execute_result"
    },
    {
     "name": "stdout",
     "output_type": "stream",
     "text": [
      "Results for male query:\n",
      "3 paths, fidelity=0.28\n",
      "0.05: ['julius_von_sachs', 'institution', 'charles_university_in_prague']\n",
      "0.04: ['julius_von_sachs', 'place_of_death', 'wurzburg']\n",
      "0.00: ['julius_von_sachs', 'place_of_birth', 'wroclaw']\n",
      "\n",
      "Results for (counterfactual) female query:\n",
      "2 paths, fidelity=0.14\n",
      "0.02: ['julius_von_sachs', 'institution', 'charles_university_in_prague']\n",
      "0.02: ['julius_von_sachs', 'place_of_death', 'wurzburg']\n",
      "\n",
      "\n",
      "\n"
     ]
    },
    {
     "data": {
      "text/plain": [
       "['rod_steiger', 'gender', 'male']"
      ]
     },
     "execution_count": 43,
     "metadata": {},
     "output_type": "execute_result"
    },
    {
     "name": "stdout",
     "output_type": "stream",
     "text": [
      "Results for male query:\n",
      "2 paths, fidelity=0.37\n",
      "0.12: ['rod_steiger', 'spouse', 'fay_bainter', 'gender', 'female']\n",
      "0.02: ['rod_steiger', 'profession', 'sailor']\n",
      "\n",
      "Results for (counterfactual) female query:\n",
      "5 paths, fidelity=0.26\n",
      "0.04: ['rod_steiger', 'children', 'sharon_tate', 'gender', 'female']\n",
      "0.04: ['rod_steiger', 'children', 'edith_bouvier_beale', 'gender', 'female']\n",
      "0.03: ['rod_steiger', 'children', 'esther_sandoval', 'gender', 'female']\n",
      "0.02: ['rod_steiger', 'place_of_death', 'los_angeles']\n",
      "0.02: ['rod_steiger', 'profession', 'sailor']\n",
      "\n",
      "\n",
      "\n"
     ]
    },
    {
     "data": {
      "text/plain": [
       "['stuart_roosa', 'gender', 'male']"
      ]
     },
     "execution_count": 43,
     "metadata": {},
     "output_type": "execute_result"
    },
    {
     "name": "stdout",
     "output_type": "stream",
     "text": [
      "Results for male query:\n",
      "4 paths, fidelity=0.20\n",
      "0.03: ['stuart_roosa', 'institution', 'university_of_arizona']\n",
      "0.02: ['stuart_roosa', 'cause_of_death', 'pancreatitis']\n",
      "0.00: ['stuart_roosa', 'location', 'oklahoma']\n",
      "0.00: ['stuart_roosa', 'profession', 'astronaut']\n",
      "\n",
      "Results for (counterfactual) female query:\n",
      "3 paths, fidelity=0.16\n",
      "0.02: ['stuart_roosa', 'cause_of_death', 'pancreatitis']\n",
      "0.01: ['stuart_roosa', 'institution', 'university_of_arizona']\n",
      "0.01: ['stuart_roosa', 'location', 'oklahoma']\n",
      "\n",
      "\n",
      "\n"
     ]
    },
    {
     "data": {
      "text/plain": [
       "['max_gunther_schrank', 'gender', 'male']"
      ]
     },
     "execution_count": 43,
     "metadata": {},
     "output_type": "execute_result"
    },
    {
     "name": "stdout",
     "output_type": "stream",
     "text": [
      "Results for male query:\n",
      "1 paths, fidelity=0.20\n",
      "0.05: ['max_gunther_schrank', 'place_of_death', 'grunwald']\n",
      "\n",
      "Results for (counterfactual) female query:\n",
      "2 paths, fidelity=0.16\n",
      "0.06: ['max_gunther_schrank', 'place_of_death', 'grunwald']\n",
      "0.00: ['max_gunther_schrank', 'children', 'anne_stine_ingstad', 'gender', 'female']\n",
      "\n",
      "\n",
      "\n"
     ]
    },
    {
     "data": {
      "text/plain": [
       "['christopher_magee', 'gender', 'male']"
      ]
     },
     "execution_count": 43,
     "metadata": {},
     "output_type": "execute_result"
    },
    {
     "name": "stdout",
     "output_type": "stream",
     "text": [
      "Results for male query:\n",
      "3 paths, fidelity=0.30\n",
      "0.05: ['christopher_magee', 'spouse', 'dakota_staton_1930', 'gender', 'female']\n",
      "0.02: ['christopher_magee', 'place_of_death', 'pittsburgh']\n",
      "0.02: ['christopher_magee', 'place_of_birth', 'pittsburgh']\n",
      "\n",
      "Results for (counterfactual) female query:\n",
      "4 paths, fidelity=0.21\n",
      "0.05: ['christopher_magee', 'children', 'lois_wilson_1894', 'gender', 'female']\n",
      "0.04: ['christopher_magee', 'place_of_birth', 'pittsburgh']\n",
      "0.00: ['christopher_magee', 'place_of_death', 'pittsburgh']\n",
      "0.00: ['christopher_magee', 'spouse', 'eleonora_duse', 'gender', 'female']\n",
      "\n",
      "\n",
      "\n"
     ]
    },
    {
     "data": {
      "text/plain": [
       "['ali_hassan_al-majid', 'gender', 'male']"
      ]
     },
     "execution_count": 43,
     "metadata": {},
     "output_type": "execute_result"
    },
    {
     "name": "stdout",
     "output_type": "stream",
     "text": [
      "Results for male query:\n",
      "5 paths, fidelity=0.21\n",
      "0.02: ['ali_hassan_al-majid', 'place_of_death', 'iraq']\n",
      "0.02: ['ali_hassan_al-majid', 'place_of_birth', 'tikrit']\n",
      "0.01: ['ali_hassan_al-majid', 'location', 'tikrit']\n",
      "0.01: ['ali_hassan_al-majid', 'cause_of_death', 'capital_punishment']\n",
      "0.00: ['ali_hassan_al-majid', 'religion', 'sunni_islam']\n",
      "\n",
      "Results for (counterfactual) female query:\n",
      "6 paths, fidelity=0.22\n",
      "0.04: ['ali_hassan_al-majid', 'location', 'tikrit']\n",
      "0.02: ['ali_hassan_al-majid', 'place_of_death', 'iraq']\n",
      "0.01: ['ali_hassan_al-majid', 'cause_of_death', 'capital_punishment']\n",
      "0.01: ['ali_hassan_al-majid', 'cause_of_death', 'hanging']\n",
      "0.01: ['ali_hassan_al-majid', 'place_of_birth', 'tikrit']\n",
      "0.00: ['ali_hassan_al-majid', 'religion', 'sunni_islam']\n",
      "\n",
      "\n",
      "\n"
     ]
    },
    {
     "data": {
      "text/plain": [
       "['shepperd_strudwick', 'gender', 'male']"
      ]
     },
     "execution_count": 43,
     "metadata": {},
     "output_type": "execute_result"
    },
    {
     "name": "stdout",
     "output_type": "stream",
     "text": [
      "Results for male query:\n",
      "5 paths, fidelity=0.33\n",
      "0.05: ['shepperd_strudwick', 'place_of_birth', 'hillsborough']\n",
      "0.04: ['shepperd_strudwick', 'parents', 'frances_bavier', 'gender', 'female']\n",
      "0.01: ['shepperd_strudwick', 'spouse', 'mary_stuart', 'gender', 'female']\n",
      "0.01: ['shepperd_strudwick', 'location', 'north_carolina']\n",
      "0.01: ['shepperd_strudwick', 'location', 'hillsborough']\n",
      "\n",
      "Results for (counterfactual) female query:\n",
      "4 paths, fidelity=0.16\n",
      "0.04: ['shepperd_strudwick', 'place_of_birth', 'hillsborough']\n",
      "0.01: ['shepperd_strudwick', 'location', 'hillsborough']\n",
      "0.01: ['shepperd_strudwick', 'location', 'north_carolina']\n",
      "0.00: ['shepperd_strudwick', 'place_of_death', 'new_york']\n",
      "\n",
      "\n",
      "\n"
     ]
    },
    {
     "data": {
      "text/plain": [
       "['karl_saur', 'gender', 'male']"
      ]
     },
     "execution_count": 43,
     "metadata": {},
     "output_type": "execute_result"
    },
    {
     "name": "stdout",
     "output_type": "stream",
     "text": [
      "Results for male query:\n",
      "3 paths, fidelity=0.22\n",
      "0.03: ['karl_saur', 'spouse', 'archduchess_maria_anna_josepha_of_austria', 'gender', 'female']\n",
      "0.03: ['karl_saur', 'place_of_birth', 'dusseldorf']\n",
      "0.00: ['karl_saur', 'spouse', 'emilie_schindler', 'gender', 'female']\n",
      "\n",
      "Results for (counterfactual) female query:\n",
      "2 paths, fidelity=0.13\n",
      "0.05: ['karl_saur', 'place_of_birth', 'dusseldorf']\n",
      "0.01: ['karl_saur', 'spouse', 'archduchess_maria_anna_josepha_of_austria', 'gender', 'female']\n",
      "\n",
      "\n",
      "\n"
     ]
    },
    {
     "data": {
      "text/plain": [
       "['randolph_scott', 'gender', 'male']"
      ]
     },
     "execution_count": 43,
     "metadata": {},
     "output_type": "execute_result"
    },
    {
     "name": "stdout",
     "output_type": "stream",
     "text": [
      "Results for male query:\n",
      "3 paths, fidelity=0.30\n",
      "0.04: ['randolph_scott', 'place_of_birth', 'orange_county_virginia']\n",
      "0.02: ['randolph_scott', 'institution', 'georgia_institute_of_technology']\n",
      "0.01: ['randolph_scott', 'location', 'virginia']\n",
      "\n",
      "Results for (counterfactual) female query:\n",
      "5 paths, fidelity=0.22\n",
      "0.02: ['randolph_scott', 'location', 'virginia']\n",
      "0.02: ['randolph_scott', 'institution', 'georgia_institute_of_technology']\n",
      "0.02: ['randolph_scott', 'place_of_death', 'beverly_hills']\n",
      "0.02: ['randolph_scott', 'place_of_birth', 'orange_county_virginia']\n",
      "0.00: ['randolph_scott', 'location', 'orange_county_virginia']\n",
      "\n",
      "\n",
      "\n"
     ]
    },
    {
     "data": {
      "text/plain": [
       "['edward_samuel_rogers', 'gender', 'male']"
      ]
     },
     "execution_count": 43,
     "metadata": {},
     "output_type": "execute_result"
    },
    {
     "name": "stdout",
     "output_type": "stream",
     "text": [
      "Results for male query:\n",
      "4 paths, fidelity=0.27\n",
      "0.04: ['edward_samuel_rogers', 'spouse', 'jane_jacobs', 'gender', 'female']\n",
      "0.02: ['edward_samuel_rogers', 'place_of_birth', 'toronto']\n",
      "0.01: ['edward_samuel_rogers', 'cause_of_death', 'congestive_heart_failure']\n",
      "0.00: ['edward_samuel_rogers', 'location', 'toronto']\n",
      "\n",
      "Results for (counterfactual) female query:\n",
      "2 paths, fidelity=0.10\n",
      "0.03: ['edward_samuel_rogers', 'place_of_birth', 'toronto']\n",
      "0.00: ['edward_samuel_rogers', 'cause_of_death', 'congestive_heart_failure']\n",
      "\n",
      "\n",
      "\n"
     ]
    },
    {
     "data": {
      "text/plain": [
       "['john_park_finley', 'gender', 'male']"
      ]
     },
     "execution_count": 43,
     "metadata": {},
     "output_type": "execute_result"
    },
    {
     "name": "stdout",
     "output_type": "stream",
     "text": [
      "Results for male query:\n",
      "3 paths, fidelity=0.19\n",
      "0.02: ['john_park_finley', 'place_of_birth', 'ann_arbor']\n",
      "0.01: ['john_park_finley', 'place_of_death', 'battle_creek']\n",
      "0.00: ['john_park_finley', 'children', 'marceline_day', 'gender', 'female']\n",
      "\n",
      "Results for (counterfactual) female query:\n",
      "3 paths, fidelity=0.13\n",
      "0.02: ['john_park_finley', 'place_of_birth', 'ann_arbor']\n",
      "0.01: ['john_park_finley', 'place_of_death', 'battle_creek']\n",
      "0.00: ['john_park_finley', 'location', 'ann_arbor']\n",
      "\n",
      "\n",
      "\n"
     ]
    },
    {
     "data": {
      "text/plain": [
       "['louis_of_etruria', 'gender', 'male']"
      ]
     },
     "execution_count": 43,
     "metadata": {},
     "output_type": "execute_result"
    },
    {
     "name": "stdout",
     "output_type": "stream",
     "text": [
      "Results for male query:\n",
      "3 paths, fidelity=0.33\n",
      "0.05: ['louis_of_etruria', 'spouse', 'maria_louisa_of_spain_duchess_of_lucca', 'gender', 'female']\n",
      "0.03: ['louis_of_etruria', 'parents', 'maria_amalia_of_austria', 'gender', 'female']\n",
      "0.00: ['louis_of_etruria', 'place_of_birth', 'piacenza']\n",
      "\n",
      "Results for (counterfactual) female query:\n",
      "5 paths, fidelity=0.21\n",
      "0.03: ['louis_of_etruria', 'parents', 'marie_amalie_of_austria']\n",
      "0.02: ['louis_of_etruria', 'spouse', 'maria_louisa_of_spain_duchess_of_lucca', 'gender', 'female']\n",
      "0.02: ['louis_of_etruria', 'parents', 'maria_amalia_of_austria', 'gender', 'female']\n",
      "0.00: ['louis_of_etruria', 'parents', 'ferdinand_duke_of_parma', 'gender', 'male']\n",
      "0.00: ['louis_of_etruria', 'place_of_birth', 'piacenza']\n",
      "\n",
      "\n",
      "\n"
     ]
    },
    {
     "data": {
      "text/plain": [
       "['kato_kiyomasa', 'gender', 'male']"
      ]
     },
     "execution_count": 43,
     "metadata": {},
     "output_type": "execute_result"
    },
    {
     "name": "stdout",
     "output_type": "stream",
     "text": [
      "Results for male query:\n",
      "3 paths, fidelity=0.23\n",
      "0.03: ['kato_kiyomasa', 'place_of_death', 'kumamoto']\n",
      "0.02: ['kato_kiyomasa', 'location', 'owari_province']\n",
      "0.01: ['kato_kiyomasa', 'place_of_birth', 'owari_province']\n",
      "\n",
      "Results for (counterfactual) female query:\n",
      "3 paths, fidelity=0.21\n",
      "0.02: ['kato_kiyomasa', 'place_of_birth', 'owari_province']\n",
      "0.02: ['kato_kiyomasa', 'place_of_death', 'kumamoto']\n",
      "0.01: ['kato_kiyomasa', 'location', 'owari_province']\n",
      "\n",
      "\n",
      "\n"
     ]
    },
    {
     "data": {
      "text/plain": [
       "['glen_harmon', 'gender', 'male']"
      ]
     },
     "execution_count": 43,
     "metadata": {},
     "output_type": "execute_result"
    },
    {
     "name": "stdout",
     "output_type": "stream",
     "text": [
      "Results for male query:\n",
      "1 paths, fidelity=0.23\n",
      "0.05: ['glen_harmon', 'place_of_death', 'mississauga']\n",
      "\n",
      "Results for (counterfactual) female query:\n",
      "1 paths, fidelity=0.17\n",
      "0.04: ['glen_harmon', 'place_of_death', 'mississauga']\n",
      "\n",
      "\n",
      "\n"
     ]
    },
    {
     "data": {
      "text/plain": [
       "['white_man_runs_him', 'gender', 'male']"
      ]
     },
     "execution_count": 43,
     "metadata": {},
     "output_type": "execute_result"
    },
    {
     "name": "stdout",
     "output_type": "stream",
     "text": [
      "Results for male query:\n",
      "2 paths, fidelity=0.24\n",
      "0.04: ['white_man_runs_him', 'spouse', 'pretty_shield', 'gender', 'female']\n",
      "0.01: ['white_man_runs_him', 'ethnicity', 'crow_nation']\n",
      "\n",
      "Results for (counterfactual) female query:\n",
      "1 paths, fidelity=0.26\n",
      "0.09: ['white_man_runs_him', 'spouse', 'goes_ahead', 'gender', 'male']\n",
      "\n",
      "\n",
      "\n"
     ]
    },
    {
     "data": {
      "text/plain": [
       "['anton_pilgram', 'gender', 'male']"
      ]
     },
     "execution_count": 43,
     "metadata": {},
     "output_type": "execute_result"
    },
    {
     "name": "stdout",
     "output_type": "stream",
     "text": [
      "Results for male query:\n",
      "3 paths, fidelity=0.28\n",
      "0.06: ['anton_pilgram', 'parents', 'maria_restituta', 'gender', 'female']\n",
      "0.02: ['anton_pilgram', 'place_of_birth', 'brno']\n",
      "0.00: ['anton_pilgram', 'place_of_death', 'vienna']\n",
      "\n",
      "Results for (counterfactual) female query:\n",
      "2 paths, fidelity=0.17\n",
      "0.04: ['anton_pilgram', 'place_of_birth', 'brno']\n",
      "0.03: ['anton_pilgram', 'parents', 'maria_restituta', 'gender', 'female']\n",
      "\n",
      "\n",
      "\n"
     ]
    },
    {
     "data": {
      "text/plain": [
       "['francis_burton_craige', 'gender', 'male']"
      ]
     },
     "execution_count": 43,
     "metadata": {},
     "output_type": "execute_result"
    },
    {
     "name": "stdout",
     "output_type": "stream",
     "text": [
      "Results for male query:\n",
      "3 paths, fidelity=0.24\n",
      "0.02: ['francis_burton_craige', 'place_of_birth', 'salisbury_north_carolina']\n",
      "0.01: ['francis_burton_craige', 'place_of_death', 'concord_north_carolina']\n",
      "0.01: ['francis_burton_craige', 'institution', 'university_of_north_carolina_at_chapel_hill']\n",
      "\n",
      "Results for (counterfactual) female query:\n",
      "3 paths, fidelity=0.16\n",
      "0.03: ['francis_burton_craige', 'place_of_death', 'concord_north_carolina']\n",
      "0.02: ['francis_burton_craige', 'place_of_birth', 'salisbury_north_carolina']\n",
      "0.01: ['francis_burton_craige', 'location', 'salisbury_north_carolina']\n",
      "\n",
      "\n",
      "\n"
     ]
    },
    {
     "data": {
      "text/plain": [
       "['august_neander', 'gender', 'male']"
      ]
     },
     "execution_count": 43,
     "metadata": {},
     "output_type": "execute_result"
    },
    {
     "name": "stdout",
     "output_type": "stream",
     "text": [
      "Results for male query:\n",
      "4 paths, fidelity=0.28\n",
      "0.06: ['august_neander', 'place_of_birth', 'gottingen']\n",
      "0.02: ['august_neander', 'parents', 'elisabeth_radziwill', 'gender', 'female']\n",
      "0.01: ['august_neander', 'place_of_death', 'berlin']\n",
      "0.00: ['august_neander', 'spouse', 'berta_behrens', 'gender', 'female']\n",
      "\n",
      "Results for (counterfactual) female query:\n",
      "3 paths, fidelity=0.17\n",
      "0.05: ['august_neander', 'place_of_birth', 'gottingen']\n",
      "0.01: ['august_neander', 'spouse', 'berta_behrens', 'gender', 'female']\n",
      "0.00: ['august_neander', 'place_of_death', 'berlin']\n",
      "\n",
      "\n",
      "\n"
     ]
    },
    {
     "data": {
      "text/plain": [
       "['henri_lachambre', 'gender', 'male']"
      ]
     },
     "execution_count": 43,
     "metadata": {},
     "output_type": "execute_result"
    },
    {
     "name": "stdout",
     "output_type": "stream",
     "text": [
      "Results for male query:\n",
      "2 paths, fidelity=0.25\n",
      "0.05: ['henri_lachambre', 'children', 'anna_of_oldenburg', 'gender', 'female']\n",
      "0.02: ['henri_lachambre', 'profession', 'aerospace_engineer']\n",
      "\n",
      "Results for (counterfactual) female query:\n",
      "3 paths, fidelity=0.07\n",
      "0.01: ['henri_lachambre', 'profession', 'aerospace_engineer']\n",
      "0.01: ['henri_lachambre', 'children', 'anna_of_oldenburg', 'gender', 'female']\n",
      "0.01: ['henri_lachambre', 'children', 'maria_josefa_de_la_soledad_9th_duchess_of_osuna', 'gender', 'female']\n",
      "\n",
      "\n",
      "\n"
     ]
    },
    {
     "data": {
      "text/plain": [
       "['robert_sutton_harrington', 'gender', 'male']"
      ]
     },
     "execution_count": 43,
     "metadata": {},
     "output_type": "execute_result"
    },
    {
     "name": "stdout",
     "output_type": "stream",
     "text": [
      "Results for male query:\n",
      "3 paths, fidelity=0.31\n",
      "0.06: ['robert_sutton_harrington', 'children', 'may_swenson', 'gender', 'female']\n",
      "0.03: ['robert_sutton_harrington', 'parents', 'frances_dana_barker_gage', 'gender', 'female']\n",
      "0.01: ['robert_sutton_harrington', 'profession', 'astronomer']\n",
      "\n",
      "Results for (counterfactual) female query:\n",
      "3 paths, fidelity=0.18\n",
      "0.07: ['robert_sutton_harrington', 'spouse', 'ella_raines', 'gender', 'female']\n",
      "0.01: ['robert_sutton_harrington', 'children', 'henrietta_swan_leavitt', 'gender', 'female']\n",
      "0.00: ['robert_sutton_harrington', 'profession', 'astronomer']\n",
      "\n",
      "\n",
      "\n"
     ]
    },
    {
     "data": {
      "text/plain": [
       "['francesco_severi', 'gender', 'male']"
      ]
     },
     "execution_count": 43,
     "metadata": {},
     "output_type": "execute_result"
    },
    {
     "name": "stdout",
     "output_type": "stream",
     "text": [
      "Results for male query:\n",
      "3 paths, fidelity=0.27\n",
      "0.05: ['francesco_severi', 'institution', 'university_of_turin']\n",
      "0.03: ['francesco_severi', 'religion', 'catholic']\n",
      "0.02: ['francesco_severi', 'location', 'arezzo']\n",
      "\n",
      "Results for (counterfactual) female query:\n",
      "4 paths, fidelity=0.16\n",
      "0.04: ['francesco_severi', 'institution', 'university_of_turin']\n",
      "0.01: ['francesco_severi', 'place_of_birth', 'arezzo']\n",
      "0.01: ['francesco_severi', 'religion', 'catholic']\n",
      "0.00: ['francesco_severi', 'location', 'arezzo']\n",
      "\n",
      "\n",
      "\n"
     ]
    },
    {
     "data": {
      "text/plain": [
       "['gregory_corso', 'gender', 'male']"
      ]
     },
     "execution_count": 43,
     "metadata": {},
     "output_type": "execute_result"
    },
    {
     "name": "stdout",
     "output_type": "stream",
     "text": [
      "Results for male query:\n",
      "5 paths, fidelity=0.32\n",
      "0.06: ['gregory_corso', 'spouse', 'hortense_calisher', 'gender', 'female']\n",
      "0.03: ['gregory_corso', 'parents', 'stokely_carmichael', 'gender', 'male']\n",
      "0.03: ['gregory_corso', 'location', 'minnesota']\n",
      "0.02: ['gregory_corso', 'cause_of_death', 'prostate_cancer']\n",
      "0.00: ['gregory_corso', 'parents', 'julia_ward_howe', 'gender', 'female']\n",
      "\n",
      "Results for (counterfactual) female query:\n",
      "8 paths, fidelity=0.29\n",
      "0.05: ['gregory_corso', 'location', 'minnesota']\n",
      "0.05: ['gregory_corso', 'parents', 'stokely_carmichael', 'gender', 'male']\n",
      "0.03: ['gregory_corso', 'place_of_birth', 'new_york']\n",
      "0.02: ['gregory_corso', 'cause_of_death', 'prostate_cancer']\n",
      "0.02: ['gregory_corso', 'place_of_death', 'minnesota']\n",
      "0.01: ['gregory_corso', 'spouse', 'benny_bufano', 'gender', 'male']\n",
      "0.00: ['gregory_corso', 'profession', 'novelist']\n",
      "0.00: ['gregory_corso', 'nationality', 'italy']\n",
      "\n",
      "\n",
      "\n"
     ]
    },
    {
     "data": {
      "text/plain": [
       "['alfred_moore_waddell', 'gender', 'male']"
      ]
     },
     "execution_count": 43,
     "metadata": {},
     "output_type": "execute_result"
    },
    {
     "name": "stdout",
     "output_type": "stream",
     "text": [
      "Results for male query:\n",
      "3 paths, fidelity=0.35\n",
      "0.07: ['alfred_moore_waddell', 'parents', 'gladys_pyle', 'gender', 'female']\n",
      "0.04: ['alfred_moore_waddell', 'children', 'marceline_day', 'gender', 'female']\n",
      "0.01: ['alfred_moore_waddell', 'children', 'frances_dana_barker_gage', 'gender', 'female']\n",
      "\n",
      "Results for (counterfactual) female query:\n",
      "2 paths, fidelity=0.20\n",
      "0.06: ['alfred_moore_waddell', 'parents', 'gladys_pyle', 'gender', 'female']\n",
      "0.02: ['alfred_moore_waddell', 'children', 'ella_raines', 'gender', 'female']\n",
      "\n",
      "\n",
      "\n"
     ]
    },
    {
     "data": {
      "text/plain": [
       "['mark_aitchison_young', 'gender', 'male']"
      ]
     },
     "execution_count": 43,
     "metadata": {},
     "output_type": "execute_result"
    },
    {
     "name": "stdout",
     "output_type": "stream",
     "text": [
      "Results for male query:\n",
      "3 paths, fidelity=0.30\n",
      "0.06: ['mark_aitchison_young', 'parents', 'ida_de_grey', 'gender', 'female']\n",
      "0.03: ['mark_aitchison_young', 'institution', 'kings_college_cambridge']\n",
      "0.00: ['mark_aitchison_young', 'institution', 'eton_college']\n",
      "\n",
      "Results for (counterfactual) female query:\n",
      "2 paths, fidelity=0.08\n",
      "0.02: ['mark_aitchison_young', 'institution', 'kings_college_cambridge']\n",
      "0.01: ['mark_aitchison_young', 'spouse', 'lydia_lopokova', 'gender', 'female']\n",
      "\n",
      "\n",
      "\n"
     ]
    },
    {
     "data": {
      "text/plain": [
       "['carl_greenberg', 'gender', 'male']"
      ]
     },
     "execution_count": 43,
     "metadata": {},
     "output_type": "execute_result"
    },
    {
     "name": "stdout",
     "output_type": "stream",
     "text": [
      "Results for male query:\n",
      "5 paths, fidelity=0.29\n",
      "0.04: ['carl_greenberg', 'spouse', 'jeanie_macpherson', 'gender', 'female']\n",
      "0.03: ['carl_greenberg', 'parents', 'julia_ward_howe', 'gender', 'female']\n",
      "0.02: ['carl_greenberg', 'place_of_birth', 'boston_massachusetts']\n",
      "0.01: ['carl_greenberg', 'children', 'christa_mcauliffe', 'gender', 'female']\n",
      "0.00: ['carl_greenberg', 'children', 'helen_vinson', 'gender', 'female']\n",
      "\n",
      "Results for (counterfactual) female query:\n",
      "3 paths, fidelity=0.27\n",
      "0.10: ['carl_greenberg', 'children', 'sharon_tate', 'gender', 'female']\n",
      "0.03: ['carl_greenberg', 'place_of_birth', 'boston_massachusetts']\n",
      "0.02: ['carl_greenberg', 'place_of_death', 'los_angeles']\n",
      "\n",
      "\n",
      "\n"
     ]
    },
    {
     "data": {
      "text/plain": [
       "['frank_tudor', 'gender', 'male']"
      ]
     },
     "execution_count": 43,
     "metadata": {},
     "output_type": "execute_result"
    },
    {
     "name": "stdout",
     "output_type": "stream",
     "text": [
      "Results for male query:\n",
      "3 paths, fidelity=0.23\n",
      "0.05: ['frank_tudor', 'place_of_death', 'richmond_victoria']\n",
      "0.02: ['frank_tudor', 'children', 'miles_franklin', 'gender', 'female']\n",
      "0.00: ['frank_tudor', 'spouse', 'sharon_grierson', 'gender', 'female']\n",
      "\n",
      "Results for (counterfactual) female query:\n",
      "1 paths, fidelity=0.15\n",
      "0.06: ['frank_tudor', 'place_of_death', 'richmond_victoria']\n",
      "\n",
      "\n",
      "\n"
     ]
    },
    {
     "data": {
      "text/plain": [
       "['hasegawa_tohaku', 'gender', 'male']"
      ]
     },
     "execution_count": 43,
     "metadata": {},
     "output_type": "execute_result"
    },
    {
     "name": "stdout",
     "output_type": "stream",
     "text": [
      "Results for male query:\n",
      "1 paths, fidelity=0.21\n",
      "0.05: ['hasegawa_tohaku', 'place_of_death', 'edo']\n",
      "\n",
      "Results for (counterfactual) female query:\n",
      "1 paths, fidelity=0.12\n",
      "0.04: ['hasegawa_tohaku', 'place_of_death', 'edo']\n",
      "\n",
      "\n",
      "\n"
     ]
    }
   ],
   "source": [
    "for i, res in enumerate(male['true']):\n",
    "    res_true = res\n",
    "    res_flip = male['flip'][i]\n",
    "    \n",
    "    res_true['query_triple']\n",
    "    \n",
    "    assert res_true['query_triple'][:2] == res_flip['query_triple'][:2]\n",
    "    \n",
    "    print('Results for male query:')\n",
    "    print_results(res_true)\n",
    "    \n",
    "    print('\\nResults for (counterfactual) female query:')\n",
    "    print_results(res_flip)\n",
    "    \n",
    "    print('\\n\\n')"
   ]
  },
  {
   "cell_type": "code",
   "execution_count": null,
   "id": "c5d30be2-d29a-4c44-8ad8-af41286cc673",
   "metadata": {},
   "outputs": [],
   "source": [
    "# feature_df_list = []\n",
    "\n",
    "# for i, bmk in tqdm(enumerate(benchmark), total=len(benchmark)):\n",
    "\n",
    "#     assert bmk['category'] == 'parents'\n",
    "#     assert len(bmk['entity_names']['siblings']) == 1\n",
    "\n",
    "#     triple = bmk['query_triple']\n",
    "#     s_triple = ut.stringify_path(triple)\n",
    "\n",
    "#     bmk_df = eval.extract_bmk_paths_as_df(bmk, ctg_column=category_column)\n",
    "\n",
    "#     for experiment in experiments.keys():\n",
    "\n",
    "#         res = eval.get_results_for_query_triple(results[experiment], triple)\n",
    "#         if not res:\n",
    "#             continue\n",
    "            \n",
    "            \n",
    "#         feature_df = eval.extract_feature_df_from_results(res['linklogic_features'], bmk['entity_names'], kthresh=kthresh,\n",
    "#                                                           experiment=experiment, query_triple=s_triple)\n",
    "#         num_true_candidates = feature_df['label'].sum()\n",
    "#         if num_true_candidates == 0:\n",
    "#             continue\n",
    "\n",
    "#         feature_df_list.append(feature_df)"
   ]
  },
  {
   "cell_type": "code",
   "execution_count": null,
   "id": "d451dc7f-5f1f-4927-9754-624204d367b9",
   "metadata": {},
   "outputs": [],
   "source": [
    "# fdata = pd.concat(feature_df_list, axis=0)\n",
    "# plot.incidents_per_path_category(fdata, experiments=[experiment], min_count=min_count, palette=palette, score_column='coefficient', \n",
    "#                                       path_column=path_column, filename=f'{figure_dir}/linklogic: {experiment}.png')"
   ]
  }
 ],
 "metadata": {
  "kernelspec": {
   "display_name": "Python 3",
   "language": "python",
   "name": "python3"
  },
  "language_info": {
   "codemirror_mode": {
    "name": "ipython",
    "version": 3
   },
   "file_extension": ".py",
   "mimetype": "text/x-python",
   "name": "python",
   "nbconvert_exporter": "python",
   "pygments_lexer": "ipython3",
   "version": "3.6.5"
  }
 },
 "nbformat": 4,
 "nbformat_minor": 5
}
