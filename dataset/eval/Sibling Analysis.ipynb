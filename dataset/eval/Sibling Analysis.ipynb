{
 "cells": [
  {
   "cell_type": "code",
   "execution_count": null,
   "id": "0545f212-7019-4441-a6ea-caa20cfc51ca",
   "metadata": {},
   "outputs": [],
   "source": [
    "import pandas as pd\n",
    "import json\n",
    "import pickle5 as pickle\n",
    "from tqdm import tqdm\n",
    "import numpy as np\n",
    "\n",
    "from plotnine import *\n",
    "import plotly.express as px\n",
    "\n",
    "import eval"
   ]
  },
  {
   "cell_type": "code",
   "execution_count": null,
   "id": "06d05c7d-e832-429d-9b08-64e49b9e31bf",
   "metadata": {},
   "outputs": [],
   "source": [
    "# load explanations\n",
    "results_dir = '../../explanations/linklogic/full_parents_benchmark/'\n",
    "experiments = {'before_sib': ['fb13', 'False'],\n",
    "              'after_sib': ['fb14', 'False']}\n",
    "figure_dir = '../../figures/figures_for_paper/'"
   ]
  },
  {
   "cell_type": "code",
   "execution_count": null,
   "id": "27066b0b-8346-48d5-b6d5-06d1ef0b62d9",
   "metadata": {},
   "outputs": [],
   "source": [
    "results = dict()\n",
    "for experiment, strings in experiments.items():\n",
    "    print(f'Loading results for experiment {experiment}')\n",
    "    sibling = strings[0]\n",
    "    child = strings[1]\n",
    "    with open(f'{results_dir}/{sibling}_child_{child}.pickle', 'rb') as f:\n",
    "        results[experiment] = pickle.load(f)"
   ]
  },
  {
   "cell_type": "code",
   "execution_count": null,
   "id": "69cf4f7c-eb90-4175-8884-880221fdd87f",
   "metadata": {},
   "outputs": [],
   "source": [
    "# load benchmark\n",
    "with open('../../data/commonsense_benchmark/v4/commonsense_benchmark_all.json', 'r') as f:\n",
    "    benchmark = json.load(f)\n",
    "    \n",
    "print(f'Loaded benchmark with {len(benchmark)} triples')"
   ]
  },
  {
   "cell_type": "code",
   "execution_count": null,
   "id": "13c82c3a-111d-4aad-8dd3-b26b77956adf",
   "metadata": {},
   "outputs": [],
   "source": [
    "thresh_95 = -np.log(0.05)\n",
    "thresh_90 = -np.log(0.1)"
   ]
  },
  {
   "cell_type": "code",
   "execution_count": null,
   "id": "b560a4b8-9fc3-43d3-b112-546a9627dbda",
   "metadata": {
    "tags": []
   },
   "outputs": [],
   "source": [
    "# extract fidelity for each query triple and generate scatterplot\n",
    "rows = []\n",
    "for i, bmk in tqdm(enumerate(benchmark), total=len(benchmark)):\n",
    "    triple = bmk['query_triple']\n",
    "    for experiment in experiments.keys():\n",
    "        res = eval.get_results_for_query_triple(results[experiment], triple)\n",
    "        \n",
    "        if not res:\n",
    "            #print(f'Did not find results for {triple}')\n",
    "            continue\n",
    "            \n",
    "        num_heuristic_paths_90 = sum([1 for f in res['linklogic_features'] if f['kge_score']['path_score'] > thresh_90])\n",
    "        num_heuristic_paths_95 = sum([1 for f in res['linklogic_features'] if f['kge_score']['path_score'] > thresh_95])\n",
    "        \n",
    "        rows.append({\n",
    "            'experiment': experiment,\n",
    "            'query_triple': '--'.join(triple),\n",
    "            'fidelity': res['linklogic_metrics']['test_acc'],\n",
    "            'num_siblings': len(bmk['entity_names']['siblings']),\n",
    "            'num_paths_linklogic': len(res['linklogic_explanations']),\n",
    "            'num_paths_heuristic_90': num_heuristic_paths_90,\n",
    "            'num_paths_heuristic_95': num_heuristic_paths_95\n",
    "        })\n",
    "sibling_metrics = pd.DataFrame(rows)"
   ]
  },
  {
   "cell_type": "code",
   "execution_count": null,
   "id": "dba12559-0271-4e7b-886e-3e30439645b2",
   "metadata": {},
   "outputs": [],
   "source": [
    "sibs = sibling_metrics.pivot(columns='experiment', index=['query_triple', 'num_siblings'], values='fidelity').reset_index()\n",
    "sibs['any_siblings'] = sibs['num_siblings'] >0\n",
    "ggplot(sibs, aes(x='before_sib', fill='num_siblings', group='num_siblings')) + geom_density(alpha=0.1) + labs(x='fidelity')"
   ]
  },
  {
   "cell_type": "code",
   "execution_count": null,
   "id": "03a11c54-8bba-46e7-a78c-e20e12bc3bee",
   "metadata": {},
   "outputs": [],
   "source": [
    "ggplot(sibs, aes(x='before_sib', y='after_sib')) + geom_point(alpha=0.1, size=3) + geom_abline(slope=1, intercept=0) + facet_grid('.~any_siblings')"
   ]
  },
  {
   "cell_type": "code",
   "execution_count": null,
   "id": "c6e15785-f69a-483c-bf87-6db65db3eba6",
   "metadata": {},
   "outputs": [],
   "source": [
    "import plotly.express as px\n",
    "\n",
    "sib1 = sibling_metrics[sibling_metrics.experiment == 'after_sib']\n",
    "sib1[['num_paths_heuristic_90', 'num_paths_heuristic_95', 'num_paths_linklogic']].hist()\n",
    "num_paths = sib1.melt(id_vars=['query_triple', 'num_siblings'], value_vars=['num_paths_linklogic', 'num_paths_heuristic_90', 'num_paths_heuristic_95'])\n",
    "num_paths['variable'] = num_paths['variable'].map({'num_paths_linklogic': 'linklogic', \n",
    "                           'num_paths_heuristic_90': 'PathScore, 0.90 threshold',\n",
    "                           'num_paths_heuristic_95': 'PathScore, 0.95 threshold'})\n",
    "p = px.box(num_paths, x='num_siblings', y='value', color='variable',\n",
    "       labels={'num_siblings': 'Number of Siblings', 'value': 'Explanation Size (# of Paths)'})\n",
    "p.update_layout({'legend_title_text': ''})\n",
    "p.write_image(f'{figure_dir}/num_paths_by_num_siblings.png')\n",
    "#p.update_layout(legend_orientation='v')"
   ]
  },
  {
   "cell_type": "code",
   "execution_count": null,
   "id": "4eca7e8f-73ad-4821-8a99-0e94e44a1196",
   "metadata": {},
   "outputs": [],
   "source": [
    "ggplot(sib_b4, aes(x='num_siblings', y='num_heuristic_paths', fill='num_siblings', group='num_siblings')) + geom_boxplot(alpha=0.5) #+ geom_abline(slope=1, intercept=0)"
   ]
  },
  {
   "cell_type": "code",
   "execution_count": null,
   "id": "f46800f3-222f-45bb-90ca-a2ca910263f4",
   "metadata": {},
   "outputs": [],
   "source": [
    "ggplot(sib_b4, aes(x='num_siblings', y='num_linklogic_paths', fill='num_siblings', group='num_siblings')) + geom_boxplot(alpha=0.5)"
   ]
  },
  {
   "cell_type": "code",
   "execution_count": null,
   "id": "901eab4b-149e-46d8-a4cc-e1b43c471337",
   "metadata": {},
   "outputs": [],
   "source": [
    "# sib_pivot['difference'] = sib_pivot['after_sib'] - sib_pivot['before_sib']\n",
    "# sib_pivot['dummy'] = 1\n",
    "# ggplot(sib_pivot, aes(y='difference', x='dummy')) + geom_boxplot()"
   ]
  }
 ],
 "metadata": {
  "kernelspec": {
   "display_name": "Python 3",
   "language": "python",
   "name": "python3"
  },
  "language_info": {
   "codemirror_mode": {
    "name": "ipython",
    "version": 3
   },
   "file_extension": ".py",
   "mimetype": "text/x-python",
   "name": "python",
   "nbconvert_exporter": "python",
   "pygments_lexer": "ipython3",
   "version": "3.6.5"
  }
 },
 "nbformat": 4,
 "nbformat_minor": 5
}
