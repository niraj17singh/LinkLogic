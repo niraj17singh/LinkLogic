{
 "cells": [
  {
   "cell_type": "code",
   "execution_count": 1,
   "id": "ac349d71-6459-4ffb-adfd-ee5bb5c02bfa",
   "metadata": {},
   "outputs": [],
   "source": [
    "import pickle5 as pickle\n",
    "import json\n",
    "import pandas as pd\n",
    "from tqdm import tqdm\n",
    "import numpy as np\n",
    "import random\n",
    "\n",
    "import plotly.express as px\n",
    "\n",
    "import eval\n",
    "import utils as ut\n",
    "import plot\n",
    "\n",
    "pd.options.mode.chained_assignment = None # turns off pandas SettingWithCopyWarning"
   ]
  },
  {
   "cell_type": "markdown",
   "id": "b8ef6872-e370-4b16-b61a-493842426661",
   "metadata": {},
   "source": [
    "### Run parameters"
   ]
  },
  {
   "cell_type": "code",
   "execution_count": 2,
   "id": "6d4721f4-ef25-43d7-904b-9ea349f11811",
   "metadata": {},
   "outputs": [],
   "source": [
    "plot_individual_results = False\n",
    "#score_column = 'coefficient'\n",
    "kthresh = 10\n",
    "score_column = f'top{kthresh} path score'\n",
    "path_column = 'path category'\n",
    "category_column = 'category'\n",
    "k_range = list(range(1, 11))\n",
    "limit_k = True\n",
    "figure_dir = '../../figures/'"
   ]
  },
  {
   "cell_type": "markdown",
   "id": "fa05579b-c3e0-494e-9965-d18dfe82674e",
   "metadata": {},
   "source": [
    "### Load benchmark and results"
   ]
  },
  {
   "cell_type": "code",
   "execution_count": 3,
   "id": "a67b2eeb-fcdf-4287-bc9c-673754b2e190",
   "metadata": {},
   "outputs": [
    {
     "name": "stdout",
     "output_type": "stream",
     "text": [
      "Loaded benchmark with 895 triples\n"
     ]
    }
   ],
   "source": [
    "# load benchmark\n",
    "with open('../../data/commonsense_benchmark/v4/commonsense_benchmark_one_sibling.json', 'r') as f:\n",
    "    benchmark = json.load(f)\n",
    "    \n",
    "print(f'Loaded benchmark with {len(benchmark)} triples')"
   ]
  },
  {
   "cell_type": "code",
   "execution_count": 4,
   "id": "6e3a843e-62ad-4244-aab6-1b2f6c2a60fc",
   "metadata": {},
   "outputs": [],
   "source": [
    "# load explanations\n",
    "results_dir = '../../explanations/linklogic/full_parents_benchmark/'\n",
    "experiments = {'sibling false, child true': ['fb13', 'True'],\n",
    "              'sibling false, child false': ['fb13', 'False'],\n",
    "              'sibling true, child true': ['fb14', 'True'],\n",
    "              'sibling true, child false': ['fb14', 'False']}"
   ]
  },
  {
   "cell_type": "code",
   "execution_count": 5,
   "id": "0cdb2f9a-f6d4-48dc-a237-9c943d3ea64e",
   "metadata": {},
   "outputs": [
    {
     "name": "stdout",
     "output_type": "stream",
     "text": [
      "Loading results for experiment sibling false, child true\n",
      "Loading results for experiment sibling false, child false\n",
      "Loading results for experiment sibling true, child true\n",
      "Loading results for experiment sibling true, child false\n"
     ]
    }
   ],
   "source": [
    "results = dict()\n",
    "for experiment, strings in experiments.items():\n",
    "    print(f'Loading results for experiment {experiment}')\n",
    "    sibling = strings[0]\n",
    "    child = strings[1]\n",
    "    with open(f'{results_dir}/{sibling}_child_{child}.pickle', 'rb') as f:\n",
    "        results[experiment] = pickle.load(f)"
   ]
  },
  {
   "cell_type": "markdown",
   "id": "11c07d38-675e-4a9c-9664-fd215e806c42",
   "metadata": {},
   "source": [
    "### Compute Metrics"
   ]
  },
  {
   "cell_type": "code",
   "execution_count": 6,
   "id": "bb41b85a-5850-4b26-a8e0-b24d4e9e23cb",
   "metadata": {
    "tags": []
   },
   "outputs": [
    {
     "name": "stderr",
     "output_type": "stream",
     "text": [
      "100%|██████████| 895/895 [02:24<00:00,  6.17it/s]\n"
     ]
    }
   ],
   "source": [
    "import eval\n",
    "metrics = []\n",
    "feature_df_list = []\n",
    "\n",
    "for i, bmk in tqdm(enumerate(benchmark), total=len(benchmark)):\n",
    "\n",
    "    assert bmk['category'] == 'parents'\n",
    "    assert len(bmk['entity_names']['siblings']) == 1\n",
    "\n",
    "    triple = bmk['query_triple']\n",
    "    s_triple = ut.stringify_path(triple)\n",
    "\n",
    "    bmk_df = eval.extract_bmk_paths_as_df(bmk, ctg_column=category_column)\n",
    "\n",
    "    for experiment in experiments.keys():\n",
    "\n",
    "        res = eval.get_results_for_query_triple(results[experiment], triple)\n",
    "        if not res:\n",
    "            continue\n",
    "            \n",
    "        feature_df = eval.extract_feature_df_from_results(res['linklogic_features'], bmk_df=bmk_df, names=bmk['entity_names'], kthresh=kthresh,\n",
    "                                                          experiment=experiment, query_triple=s_triple)\n",
    "        num_true_candidates = feature_df['label'].sum()\n",
    "        if num_true_candidates == 0:\n",
    "            continue\n",
    "\n",
    "        feature_df_list.append(feature_df)\n",
    "        \n",
    "        y_true = [feature_df['label']]\n",
    "        y_true_weighted = [feature_df['bmk confidence']]\n",
    "        y_heuristic = [feature_df['baseline path score']]\n",
    "        y_linklogic = [feature_df['coefficient']]\n",
    "        y_random = [feature_df['random']]\n",
    "        \n",
    "        if limit_k:\n",
    "            ks = eval.filter_k_range(k_range, feature_df['coefficient'])\n",
    "        else:\n",
    "            ks = k_range\n",
    "\n",
    "        metrics.append({'experiment': experiment,\n",
    "                        'ndcg: heuristic': eval.ndcg_score_range(y_true, y_heuristic, ks),\n",
    "                        'ndcg: linklogic': eval.ndcg_score_range(y_true, y_linklogic, ks),\n",
    "                        'ndcg: random': eval.ndcg_score_range(y_true, y_random, ks),\n",
    "                        \n",
    "                        'wndcg: heuristic': eval.ndcg_score_range(y_true_weighted, y_heuristic, ks),\n",
    "                        'wndcg: linklogic': eval.ndcg_score_range(y_true_weighted, y_linklogic, ks),\n",
    "                        'wndcg: random': eval.ndcg_score_range(y_true_weighted, y_random, ks),\n",
    "                        \n",
    "                        'p@k: heuristic': eval.precision_at_k_range(y_true[0], y_heuristic[0], ks),\n",
    "                        'p@k: linklogic': eval.precision_at_k_range(y_true[0], y_linklogic[0], ks),\n",
    "                        'p@k: random': eval.precision_at_k_range(y_true[0], y_random[0], ks),\n",
    "            \n",
    "                        'num true': num_true_candidates,\n",
    "                        'query triple': s_triple,\n",
    "                        'kge score': float(res['query_triple_kge_score']),\n",
    "                        'fidelity': res['linklogic_metrics']['test_acc']})\n",
    "\n",
    "        if plot_individual_results:\n",
    "            fig = px.scatter(feature_df, x='baseline path score', y='coefficient', color='label',\n",
    "                             hover_data=[\"path\"], title=f'features: {s_triple}')\n",
    "            fig.show()"
   ]
  },
  {
   "cell_type": "code",
   "execution_count": 8,
   "id": "03d37262-b5aa-4f99-bf4e-ee372bde9fbe",
   "metadata": {
    "tags": []
   },
   "outputs": [],
   "source": [
    "fdata = pd.concat(feature_df_list, axis=0)\n",
    "xcol = 'coefficient'\n",
    "min_count = 5\n",
    "palette = {'sibling false, child false':'tab:red',\n",
    " 'sibling false, child true': 'tab:olive',\n",
    " 'sibling true, child false': 'mediumorchid',\n",
    " 'sibling true, child true': 'tab:cyan'}\n",
    "\n",
    "query_triples = random.sample(set(fdata.query_triple), 5)\n",
    "\n",
    "# for experiment in experiments.keys():\n",
    "    \n",
    "#     plot.incidents_per_path_category(fdata, experiments=[experiment], min_count=min_count, palette=palette, score_column='coefficient', \n",
    "#                                      path_column=path_column, filename=f'{figure_dir}/linklogic: {experiment}.png')\n",
    "\n",
    "#     plot.incidents_per_path_category(fdata, experiments=[experiment], min_count=min_count, palette=palette, score_column=f'top{kthresh} path score', \n",
    "#                                      path_column=path_column, filename=f'{figure_dir}/Heuristic: {experiment}.png')\n",
    "    \n",
    "    \n",
    "   # for triple in query_triples:\n",
    "   #     plot.scores_per_path_category(fdata, score_column='normalized coefficient', title=f'Path Logic {triple}', experiments=[experiment],\n",
    "   #                                   filename=f'{figure_dir}linklogic scores {experiment} {triple}.png', min_val = 0.01, palette=palette, query_triple=triple)\n",
    "\n",
    "   #     plot.scores_per_path_category(fdata, score_column=f'top{kthresh} path score', title=f'Heuristic Scoring, top {kthresh}, {triple}', experiments=[experiment],\n",
    "   #                                   filename=f'{figure_dir}Heuristic scores {experiment} {triple}.png', min_val=0.1, palette=palette, query_triple=triple)\n",
    "\n",
    "# plot.incidents_per_path_category(fdata, experiments=['sibling false, child true', 'sibling false, child false'], min_count=min_count,\n",
    "#                                  palette=palette, score_column=score_column, path_column=path_column, filename=f'{figure_dir}Exp1_2_NoSibling_RemoveChild.png')\n",
    "# plot.incidents_per_path_category(fdata, experiments=['sibling true, child true', 'sibling true, child false'], min_count=min_count,\n",
    "#                                  palette=palette, score_column=score_column, path_column=path_column, filename=f'{figure_dir}Exp3_WithSibling_RemoveChild.png')\n",
    "# plot.incidents_per_path_category(fdata, experiments=['sibling false, child false', 'sibling true, child false'], min_count=min_count,\n",
    "#                                  palette=palette, score_column=score_column, path_column=path_column, filename=f'{figure_dir}Exp2_3_NoChild_AddSibling.png')\n",
    "# plot.incidents_per_path_category(fdata, experiments=['sibling false, child true', 'sibling true, child true'], min_count=min_count,\n",
    "#                                  palette=palette, score_column=score_column, path_column=path_column, filename=f'{figure_dir}Exp1_3_WithChild_AddSibling.png')"
   ]
  },
  {
   "cell_type": "code",
   "execution_count": 9,
   "id": "1583adb8-a994-44c1-9259-2cd9148445ad",
   "metadata": {},
   "outputs": [],
   "source": [
    "pivot_fdata = fdata.pivot(index=['query_triple', 'path', 'path category'], columns='experiment', values='coefficient')"
   ]
  },
  {
   "cell_type": "code",
   "execution_count": 12,
   "id": "ce6dff33-aacf-45d2-a1ba-d63fb34633a4",
   "metadata": {},
   "outputs": [
    {
     "data": {
      "text/html": [
       "<div>\n",
       "<style scoped>\n",
       "    .dataframe tbody tr th:only-of-type {\n",
       "        vertical-align: middle;\n",
       "    }\n",
       "\n",
       "    .dataframe tbody tr th {\n",
       "        vertical-align: top;\n",
       "    }\n",
       "\n",
       "    .dataframe thead th {\n",
       "        text-align: right;\n",
       "    }\n",
       "</style>\n",
       "<table border=\"1\" class=\"dataframe\">\n",
       "  <thead>\n",
       "    <tr style=\"text-align: right;\">\n",
       "      <th>experiment</th>\n",
       "      <th>query_triple</th>\n",
       "      <th>path</th>\n",
       "      <th>path category</th>\n",
       "      <th>sibling false, child false</th>\n",
       "      <th>sibling false, child true</th>\n",
       "      <th>sibling true, child false</th>\n",
       "      <th>sibling true, child true</th>\n",
       "    </tr>\n",
       "  </thead>\n",
       "  <tbody>\n",
       "    <tr>\n",
       "      <th>0</th>\n",
       "      <td>abigail_may_alcott_nieriker--parents--abby_may</td>\n",
       "      <td>abby_may--cause_of_death--cancer</td>\n",
       "      <td>P--cause_of_death--X</td>\n",
       "      <td>NaN</td>\n",
       "      <td>NaN</td>\n",
       "      <td>0.0</td>\n",
       "      <td>0.000000</td>\n",
       "    </tr>\n",
       "    <tr>\n",
       "      <th>1</th>\n",
       "      <td>abigail_may_alcott_nieriker--parents--abby_may</td>\n",
       "      <td>abby_may--cause_of_death--pancreatic_cancer</td>\n",
       "      <td>P--cause_of_death--X</td>\n",
       "      <td>NaN</td>\n",
       "      <td>NaN</td>\n",
       "      <td>0.0</td>\n",
       "      <td>0.000000</td>\n",
       "    </tr>\n",
       "    <tr>\n",
       "      <th>2</th>\n",
       "      <td>abigail_may_alcott_nieriker--parents--abby_may</td>\n",
       "      <td>abby_may--children--abigail_may_alcott_nieriker</td>\n",
       "      <td>**P--has_child-&gt;C</td>\n",
       "      <td>NaN</td>\n",
       "      <td>1.042151</td>\n",
       "      <td>NaN</td>\n",
       "      <td>0.875528</td>\n",
       "    </tr>\n",
       "    <tr>\n",
       "      <th>3</th>\n",
       "      <td>abigail_may_alcott_nieriker--parents--abby_may</td>\n",
       "      <td>abby_may--children--ahmed_iii</td>\n",
       "      <td>P--has_child-&gt;X</td>\n",
       "      <td>NaN</td>\n",
       "      <td>NaN</td>\n",
       "      <td>0.0</td>\n",
       "      <td>0.000000</td>\n",
       "    </tr>\n",
       "    <tr>\n",
       "      <th>4</th>\n",
       "      <td>abigail_may_alcott_nieriker--parents--abby_may</td>\n",
       "      <td>abby_may--children--ahmed_iii--sibling--abigai...</td>\n",
       "      <td>C--sibling--X--has_parent-&gt;P</td>\n",
       "      <td>NaN</td>\n",
       "      <td>NaN</td>\n",
       "      <td>0.0</td>\n",
       "      <td>0.000000</td>\n",
       "    </tr>\n",
       "  </tbody>\n",
       "</table>\n",
       "</div>"
      ],
      "text/plain": [
       "experiment                                    query_triple  \\\n",
       "0           abigail_may_alcott_nieriker--parents--abby_may   \n",
       "1           abigail_may_alcott_nieriker--parents--abby_may   \n",
       "2           abigail_may_alcott_nieriker--parents--abby_may   \n",
       "3           abigail_may_alcott_nieriker--parents--abby_may   \n",
       "4           abigail_may_alcott_nieriker--parents--abby_may   \n",
       "\n",
       "experiment                                               path  \\\n",
       "0                            abby_may--cause_of_death--cancer   \n",
       "1                 abby_may--cause_of_death--pancreatic_cancer   \n",
       "2             abby_may--children--abigail_may_alcott_nieriker   \n",
       "3                               abby_may--children--ahmed_iii   \n",
       "4           abby_may--children--ahmed_iii--sibling--abigai...   \n",
       "\n",
       "experiment                 path category  sibling false, child false  \\\n",
       "0                   P--cause_of_death--X                         NaN   \n",
       "1                   P--cause_of_death--X                         NaN   \n",
       "2                      **P--has_child->C                         NaN   \n",
       "3                        P--has_child->X                         NaN   \n",
       "4           C--sibling--X--has_parent->P                         NaN   \n",
       "\n",
       "experiment  sibling false, child true  sibling true, child false  \\\n",
       "0                                 NaN                        0.0   \n",
       "1                                 NaN                        0.0   \n",
       "2                            1.042151                        NaN   \n",
       "3                                 NaN                        0.0   \n",
       "4                                 NaN                        0.0   \n",
       "\n",
       "experiment  sibling true, child true  \n",
       "0                           0.000000  \n",
       "1                           0.000000  \n",
       "2                           0.875528  \n",
       "3                           0.000000  \n",
       "4                           0.000000  "
      ]
     },
     "execution_count": 12,
     "metadata": {},
     "output_type": "execute_result"
    }
   ],
   "source": [
    "pivot_fdata.reset_index(inplace=True)\n",
    "pivot_fdata.head()"
   ]
  },
  {
   "cell_type": "code",
   "execution_count": 13,
   "id": "ecb5f726-53c0-426a-84f3-3a82ae9e168e",
   "metadata": {},
   "outputs": [],
   "source": [
    "pivot_fdata['difference'] =  pivot_fdata['sibling true, child false'] - pivot_fdata['sibling false, child false']"
   ]
  },
  {
   "cell_type": "code",
   "execution_count": 16,
   "id": "a5f02b5c-eda9-4899-8f9d-2c12004d6873",
   "metadata": {},
   "outputs": [
    {
     "data": {
      "text/html": [
       "<div>\n",
       "<style scoped>\n",
       "    .dataframe tbody tr th:only-of-type {\n",
       "        vertical-align: middle;\n",
       "    }\n",
       "\n",
       "    .dataframe tbody tr th {\n",
       "        vertical-align: top;\n",
       "    }\n",
       "\n",
       "    .dataframe thead th {\n",
       "        text-align: right;\n",
       "    }\n",
       "</style>\n",
       "<table border=\"1\" class=\"dataframe\">\n",
       "  <thead>\n",
       "    <tr style=\"text-align: right;\">\n",
       "      <th>experiment</th>\n",
       "      <th>query_triple</th>\n",
       "      <th>path</th>\n",
       "      <th>path category</th>\n",
       "      <th>sibling false, child false</th>\n",
       "      <th>sibling false, child true</th>\n",
       "      <th>sibling true, child false</th>\n",
       "      <th>sibling true, child true</th>\n",
       "      <th>difference</th>\n",
       "    </tr>\n",
       "  </thead>\n",
       "  <tbody>\n",
       "    <tr>\n",
       "      <th>0</th>\n",
       "      <td>abigail_may_alcott_nieriker--parents--abby_may</td>\n",
       "      <td>abby_may--cause_of_death--cancer</td>\n",
       "      <td>P--cause_of_death--X</td>\n",
       "      <td>NaN</td>\n",
       "      <td>NaN</td>\n",
       "      <td>0.0</td>\n",
       "      <td>0.000000</td>\n",
       "      <td>NaN</td>\n",
       "    </tr>\n",
       "    <tr>\n",
       "      <th>1</th>\n",
       "      <td>abigail_may_alcott_nieriker--parents--abby_may</td>\n",
       "      <td>abby_may--cause_of_death--pancreatic_cancer</td>\n",
       "      <td>P--cause_of_death--X</td>\n",
       "      <td>NaN</td>\n",
       "      <td>NaN</td>\n",
       "      <td>0.0</td>\n",
       "      <td>0.000000</td>\n",
       "      <td>NaN</td>\n",
       "    </tr>\n",
       "    <tr>\n",
       "      <th>2</th>\n",
       "      <td>abigail_may_alcott_nieriker--parents--abby_may</td>\n",
       "      <td>abby_may--children--abigail_may_alcott_nieriker</td>\n",
       "      <td>**P--has_child-&gt;C</td>\n",
       "      <td>NaN</td>\n",
       "      <td>1.042151</td>\n",
       "      <td>NaN</td>\n",
       "      <td>0.875528</td>\n",
       "      <td>NaN</td>\n",
       "    </tr>\n",
       "    <tr>\n",
       "      <th>3</th>\n",
       "      <td>abigail_may_alcott_nieriker--parents--abby_may</td>\n",
       "      <td>abby_may--children--ahmed_iii</td>\n",
       "      <td>P--has_child-&gt;X</td>\n",
       "      <td>NaN</td>\n",
       "      <td>NaN</td>\n",
       "      <td>0.0</td>\n",
       "      <td>0.000000</td>\n",
       "      <td>NaN</td>\n",
       "    </tr>\n",
       "    <tr>\n",
       "      <th>4</th>\n",
       "      <td>abigail_may_alcott_nieriker--parents--abby_may</td>\n",
       "      <td>abby_may--children--ahmed_iii--sibling--abigai...</td>\n",
       "      <td>C--sibling--X--has_parent-&gt;P</td>\n",
       "      <td>NaN</td>\n",
       "      <td>NaN</td>\n",
       "      <td>0.0</td>\n",
       "      <td>0.000000</td>\n",
       "      <td>NaN</td>\n",
       "    </tr>\n",
       "  </tbody>\n",
       "</table>\n",
       "</div>"
      ],
      "text/plain": [
       "experiment                                    query_triple  \\\n",
       "0           abigail_may_alcott_nieriker--parents--abby_may   \n",
       "1           abigail_may_alcott_nieriker--parents--abby_may   \n",
       "2           abigail_may_alcott_nieriker--parents--abby_may   \n",
       "3           abigail_may_alcott_nieriker--parents--abby_may   \n",
       "4           abigail_may_alcott_nieriker--parents--abby_may   \n",
       "\n",
       "experiment                                               path  \\\n",
       "0                            abby_may--cause_of_death--cancer   \n",
       "1                 abby_may--cause_of_death--pancreatic_cancer   \n",
       "2             abby_may--children--abigail_may_alcott_nieriker   \n",
       "3                               abby_may--children--ahmed_iii   \n",
       "4           abby_may--children--ahmed_iii--sibling--abigai...   \n",
       "\n",
       "experiment                 path category  sibling false, child false  \\\n",
       "0                   P--cause_of_death--X                         NaN   \n",
       "1                   P--cause_of_death--X                         NaN   \n",
       "2                      **P--has_child->C                         NaN   \n",
       "3                        P--has_child->X                         NaN   \n",
       "4           C--sibling--X--has_parent->P                         NaN   \n",
       "\n",
       "experiment  sibling false, child true  sibling true, child false  \\\n",
       "0                                 NaN                        0.0   \n",
       "1                                 NaN                        0.0   \n",
       "2                            1.042151                        NaN   \n",
       "3                                 NaN                        0.0   \n",
       "4                                 NaN                        0.0   \n",
       "\n",
       "experiment  sibling true, child true  difference  \n",
       "0                           0.000000         NaN  \n",
       "1                           0.000000         NaN  \n",
       "2                           0.875528         NaN  \n",
       "3                           0.000000         NaN  \n",
       "4                           0.000000         NaN  "
      ]
     },
     "execution_count": 16,
     "metadata": {},
     "output_type": "execute_result"
    }
   ],
   "source": [
    "pivot_fdata.head()"
   ]
  },
  {
   "cell_type": "code",
   "execution_count": 24,
   "id": "8d548daf-1445-463b-a41d-a610d135d7eb",
   "metadata": {},
   "outputs": [
    {
     "name": "stderr",
     "output_type": "stream",
     "text": [
      "No handles with labels found to put in legend.\n"
     ]
    },
    {
     "data": {
      "image/png": "[encoded data removed]",
      "text/plain": [
       "<Figure size 288x720 with 1 Axes>"
      ]
     },
     "metadata": {},
     "output_type": "display_data"
    }
   ],
   "source": [
    "plot.scores_per_path_category(pivot_fdata, score_column='difference', min_val=0.001, abs_mean=True)"
   ]
  },
  {
   "cell_type": "code",
   "execution_count": 21,
   "id": "09d52e74-bc3d-4071-884d-01c1b8f9010d",
   "metadata": {},
   "outputs": [
    {
     "data": {
      "text/plain": [
       "path category\n",
       "**C--has_parent->CP               0.121685\n",
       "**C--has_parent->CP--spouse--P    0.065890\n",
       "**C--sibling--S                        NaN\n",
       "**C--sibling--S--has_parent->P         NaN\n",
       "**P--has_child->C                      NaN\n",
       "                                    ...   \n",
       "P--sibling--S                          NaN\n",
       "P--sibling--X                          NaN\n",
       "P--spouse--C                      0.000215\n",
       "P--spouse--S                      0.002213\n",
       "P--spouse--X                      0.001216\n",
       "Name: difference, Length: 87, dtype: float64"
      ]
     },
     "execution_count": 21,
     "metadata": {},
     "output_type": "execute_result"
    }
   ],
   "source": [
    "abs(pivot_fdata.groupby('path category')['difference'].mean())"
   ]
  },
  {
   "cell_type": "code",
   "execution_count": null,
   "id": "b2a4e4eb-2146-46c3-be18-ca39f810c306",
   "metadata": {},
   "outputs": [],
   "source": [
    "# overlay = 'num true'\n",
    "# M = pd.DataFrame(metrics)  \n",
    "\n",
    "# plot.scatter_with_facets(M=M, x='wndcg: random', y='wndcg: linklogic', color=overlay, filename=None)\n",
    "# plot.scatter_with_facets(M=M, x='wndcg: score heuristic', y='wndcg: linklogic', color=overlay, filename=None)\n",
    "# plot.scatter_with_facets(M=M, x='wndcg: random', y='wndcg: score heuristic', color=overlay, filename=None)"
   ]
  },
  {
   "cell_type": "markdown",
   "id": "c6a8f5d9-6d2f-411a-b49a-7cda39b9fc18",
   "metadata": {},
   "source": [
    "### Summary metrics: NDCG"
   ]
  },
  {
   "cell_type": "code",
   "execution_count": null,
   "id": "8967c678-ec88-4752-9fea-b5725e51162c",
   "metadata": {},
   "outputs": [],
   "source": [
    "M = pd.DataFrame(metrics)  "
   ]
  },
  {
   "cell_type": "code",
   "execution_count": null,
   "id": "90dbe3e6-515e-43ed-88a7-a5e43cb2ed69",
   "metadata": {},
   "outputs": [],
   "source": [
    "from plotnine import *"
   ]
  },
  {
   "cell_type": "code",
   "execution_count": null,
   "id": "5c19149c-dae5-44bb-bbc9-1d0c31fdb7b3",
   "metadata": {},
   "outputs": [],
   "source": [
    "rows = []\n",
    "metric = 'ndcg'\n",
    "for i, row in M.iterrows():\n",
    "    \n",
    "    max_k = len(row[f'{metric}: random'])\n",
    "    ks = k_range[:max_k]\n",
    "        \n",
    "    for k in ks:\n",
    "        rows.append({\n",
    "            'k': str(k),\n",
    "            'query triple': row['query triple'],\n",
    "            'experiment': row['experiment'],\n",
    "            f'{metric}: heuristic': row[f'{metric}: heuristic'][k-1],\n",
    "            f'{metric}: linklogic': row[f'{metric}: linklogic'][k-1],\n",
    "            f'{metric}: random': row[f'{metric}: random'][k-1]\n",
    "        })\n",
    "m = pd.DataFrame(rows).melt(id_vars=['k', 'query triple', 'experiment'])\n",
    "\n",
    "m = m[m['k'].isin(['1', '2', '3', '4', '5', '6', '7', '8', '9'])]\n",
    "#px.box(m, x='k', y='value', color='variable', facet_col='experiment')\n",
    "p = ggplot(m, aes(x='k', y='value', fill='variable')) + geom_boxplot() + facet_grid('.~experiment')\n",
    "p.save(f'{metric}_at_k.png', height=5, width=15)"
   ]
  }
 ],
 "metadata": {
  "kernelspec": {
   "display_name": "Python 3",
   "language": "python",
   "name": "python3"
  },
  "language_info": {
   "codemirror_mode": {
    "name": "ipython",
    "version": 3
   },
   "file_extension": ".py",
   "mimetype": "text/x-python",
   "name": "python",
   "nbconvert_exporter": "python",
   "pygments_lexer": "ipython3",
   "version": "3.6.5"
  }
 },
 "nbformat": 4,
 "nbformat_minor": 5
}
