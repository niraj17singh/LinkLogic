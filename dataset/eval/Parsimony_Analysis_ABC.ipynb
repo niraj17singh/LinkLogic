{
 "cells": [
  {
   "cell_type": "code",
   "execution_count": 1,
   "metadata": {},
   "outputs": [],
   "source": [
    "import pandas as pd\n",
    "import pickle5 as pickle\n",
    "import numpy as np\n",
    "import seaborn as sns\n",
    "from collections import defaultdict\n",
    "\n",
    "import matplotlib.pyplot as plt\n",
    "\n",
    "import plot"
   ]
  },
  {
   "cell_type": "code",
   "execution_count": 2,
   "metadata": {},
   "outputs": [],
   "source": [
    "palette = plot.get_categorical_palette()\n",
    "heuristic = 'Path score heuristic, 0.95'"
   ]
  },
  {
   "cell_type": "code",
   "execution_count": 3,
   "metadata": {},
   "outputs": [],
   "source": [
    "base_dir = '/Users/rhodos/Desktop/Projects/akbc2021/'\n",
    "figure_dir = f'{base_dir}figures/figures_for_paper/'\n",
    "results_dir = f'{base_dir}explanations/linklogic/for_paper/true_false_nonsense/'\n",
    "\n",
    "kge_thresh = 0.95\n",
    "log_thresh = -np.log(1-kge_thresh)"
   ]
  },
  {
   "cell_type": "code",
   "execution_count": 11,
   "metadata": {},
   "outputs": [],
   "source": [
    "data = pd.read_csv(f'{results_dir}/parsimony_analysis.csv', sep='\\t', index_col=0)"
   ]
  },
  {
   "cell_type": "code",
   "execution_count": 14,
   "metadata": {},
   "outputs": [],
   "source": [
    "data['Exp'] = data['Exp'].replace({'nonsense': 'Nonsense', 'false_facts': 'False Fact', 'true_facts': 'True Fact'})\n",
    "data.columns = ['Query Triple Category', 'Query Triple', 'KGE Score', 'linklogic Fidelity', 'Total Features', 'Explanation Size']"
   ]
  },
  {
   "cell_type": "code",
   "execution_count": 17,
   "metadata": {},
   "outputs": [
    {
     "data": {
      "text/html": [
       "<div>\n",
       "<style scoped>\n",
       "    .dataframe tbody tr th:only-of-type {\n",
       "        vertical-align: middle;\n",
       "    }\n",
       "\n",
       "    .dataframe tbody tr th {\n",
       "        vertical-align: top;\n",
       "    }\n",
       "\n",
       "    .dataframe thead th {\n",
       "        text-align: right;\n",
       "    }\n",
       "</style>\n",
       "<table border=\"1\" class=\"dataframe\">\n",
       "  <thead>\n",
       "    <tr style=\"text-align: right;\">\n",
       "      <th></th>\n",
       "      <th>Query Triple Category</th>\n",
       "      <th>Query Triple</th>\n",
       "      <th>KGE Score</th>\n",
       "      <th>linklogic Fidelity</th>\n",
       "      <th>Total Features</th>\n",
       "      <th>Explanation Size</th>\n",
       "    </tr>\n",
       "  </thead>\n",
       "  <tbody>\n",
       "    <tr>\n",
       "      <th>0</th>\n",
       "      <td>Nonsense</td>\n",
       "      <td>['josaphat_kuncevyc', 'nationality', 'george_e...</td>\n",
       "      <td>0.013099</td>\n",
       "      <td>-0.000271</td>\n",
       "      <td>109</td>\n",
       "      <td>0</td>\n",
       "    </tr>\n",
       "    <tr>\n",
       "      <th>1</th>\n",
       "      <td>Nonsense</td>\n",
       "      <td>['blanka_of_namur', 'gender', 'friedrich_vii_m...</td>\n",
       "      <td>0.024888</td>\n",
       "      <td>-0.000198</td>\n",
       "      <td>151</td>\n",
       "      <td>0</td>\n",
       "    </tr>\n",
       "    <tr>\n",
       "      <th>2</th>\n",
       "      <td>Nonsense</td>\n",
       "      <td>['alpheus_baker', 'profession', 'martha_bulloch']</td>\n",
       "      <td>0.019042</td>\n",
       "      <td>-0.001908</td>\n",
       "      <td>188</td>\n",
       "      <td>0</td>\n",
       "    </tr>\n",
       "    <tr>\n",
       "      <th>3</th>\n",
       "      <td>Nonsense</td>\n",
       "      <td>['tim_russert', 'ethnicity', 'davis_hanson_wai...</td>\n",
       "      <td>0.022815</td>\n",
       "      <td>-0.000209</td>\n",
       "      <td>188</td>\n",
       "      <td>0</td>\n",
       "    </tr>\n",
       "    <tr>\n",
       "      <th>4</th>\n",
       "      <td>Nonsense</td>\n",
       "      <td>['andy_bowen', 'place_of_birth', 'kadambini_ga...</td>\n",
       "      <td>0.038236</td>\n",
       "      <td>-0.000322</td>\n",
       "      <td>139</td>\n",
       "      <td>0</td>\n",
       "    </tr>\n",
       "  </tbody>\n",
       "</table>\n",
       "</div>"
      ],
      "text/plain": [
       "  Query Triple Category                                       Query Triple  \\\n",
       "0              Nonsense  ['josaphat_kuncevyc', 'nationality', 'george_e...   \n",
       "1              Nonsense  ['blanka_of_namur', 'gender', 'friedrich_vii_m...   \n",
       "2              Nonsense  ['alpheus_baker', 'profession', 'martha_bulloch']   \n",
       "3              Nonsense  ['tim_russert', 'ethnicity', 'davis_hanson_wai...   \n",
       "4              Nonsense  ['andy_bowen', 'place_of_birth', 'kadambini_ga...   \n",
       "\n",
       "   KGE Score  linklogic Fidelity  Total Features  Explanation Size  \n",
       "0   0.013099           -0.000271             109                 0  \n",
       "1   0.024888           -0.000198             151                 0  \n",
       "2   0.019042           -0.001908             188                 0  \n",
       "3   0.022815           -0.000209             188                 0  \n",
       "4   0.038236           -0.000322             139                 0  "
      ]
     },
     "execution_count": 17,
     "metadata": {},
     "output_type": "execute_result"
    }
   ],
   "source": [
    "data.head()"
   ]
  },
  {
   "cell_type": "code",
   "execution_count": null,
   "metadata": {
    "tags": []
   },
   "outputs": [],
   "source": [
    "# Get metrics and organize into dataframe\n",
    "triples, expt, kge_score, fidelity, no_of_features, num_explanations_linklogic, num_explanations_heuristic = [], [], [], [], [], [], []\n",
    "selected_heuristic_paths = defaultdict(list)\n",
    "for exp in ['Nonsense', 'False Fact', 'True Fact']:\n",
    "    selected_heuristic_paths[exp] = list()\n",
    "    for d in data[exp]:\n",
    "        expt.append(exp)\n",
    "        triples.append(d[\"query_triple\"])\n",
    "        kge_score.append(float(d[\"query_triple_kge_score\"]))\n",
    "        fidelity.append(d[\"linklogic_metrics\"][\"test_acc\"])\n",
    "        num_explanations_linklogic.append(sum([1 if f[\"coef\"] !=0.0 else 0 for f in d[\"linklogic_features\"]]))\n",
    "        num_heuristic_paths = sum([1 for f in d['linklogic_features'] if f['kge_score']['path_score'] > log_thresh])\n",
    "        num_explanations_heuristic.append(num_heuristic_paths)\n",
    "        \n",
    "df = pd.DataFrame({\"Query Triple Category\": expt, \n",
    "              \"Triple\": triples,\n",
    "              \"KGE Score for Query Triple\": kge_score,\n",
    "              \"linklogic Explanation Fidelity\": fidelity,\n",
    "              \"linklogic\": num_explanations_linklogic,\n",
    "              heuristic: num_explanations_heuristic,\n",
    "              })"
   ]
  },
  {
   "cell_type": "code",
   "execution_count": null,
   "metadata": {},
   "outputs": [],
   "source": [
    "id_vars = ['Triple', 'Query Triple Category']\n",
    "df1 = df[id_vars + ['KGE Score for Query Triple', 'linklogic Explanation Fidelity']]\n",
    "mdata = df1.melt(id_vars=id_vars)\n",
    "\n",
    "g = sns.FacetGrid(mdata, col=\"variable\", sharey=False)\n",
    "_ = g.map_dataframe(sns.boxplot, x=\"Query Triple Category\", y=\"value\", boxprops=dict(alpha=.5), color=palette['generic'])\n",
    "_ = g.set_xticklabels(size=10)\n",
    "_ = g.set_titles('')\n",
    "_ = g.axes[0,0].set_ylabel('KGE Score')\n",
    "_ = g.axes[0,1].set_ylabel('linklogic Fidelity')\n",
    "g.savefig(f'{figure_dir}Parsimony_A_B.{plot.figtype}', bbox_inches='tight')"
   ]
  },
  {
   "cell_type": "code",
   "execution_count": null,
   "metadata": {},
   "outputs": [],
   "source": [
    "plt.figure(figsize=(5,4))\n",
    "df2 = df[id_vars + [\"linklogic\", heuristic]].melt(id_vars=id_vars)\n",
    "g = sns.boxplot(data=df2, x=\"Query Triple Category\", y=\"value\", hue=\"variable\", \n",
    "            palette={'linklogic': palette['linklogic'], heuristic: palette['Heuristic95']},\n",
    "            boxprops=dict(alpha=.9))\n",
    "_ = g.set(xlabel=None, ylabel='Explanation Size')\n",
    "_ = g.legend(title='')\n",
    "g.get_figure().savefig(f'{figure_dir}Parsimony_C.{plot.figtype}', bbox_inches='tight')"
   ]
  },
  {
   "cell_type": "code",
   "execution_count": null,
   "metadata": {},
   "outputs": [],
   "source": [
    "# TODO:\n",
    "# Make panel B linklogic blue\n",
    "# Adjust ylim in panel B to max 30"
   ]
  }
 ],
 "metadata": {
  "kernelspec": {
   "display_name": "Python 3",
   "language": "python",
   "name": "python3"
  },
  "language_info": {
   "codemirror_mode": {
    "name": "ipython",
    "version": 3
   },
   "file_extension": ".py",
   "mimetype": "text/x-python",
   "name": "python",
   "nbconvert_exporter": "python",
   "pygments_lexer": "ipython3",
   "version": "3.6.5"
  }
 },
 "nbformat": 4,
 "nbformat_minor": 4
}
