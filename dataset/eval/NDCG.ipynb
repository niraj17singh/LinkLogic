{
 "cells": [
  {
   "cell_type": "code",
   "execution_count": 52,
   "id": "8569a4fc-d9c4-492e-a61b-d715e222e38e",
   "metadata": {},
   "outputs": [],
   "source": [
    "import pandas as pd\n",
    "import json\n",
    "\n",
    "import matplotlib.pyplot as plt\n",
    "import seaborn as sns\n",
    "import plot"
   ]
  },
  {
   "cell_type": "code",
   "execution_count": 53,
   "id": "e9b5bb58-b808-46bc-974b-0352c10d5b5c",
   "metadata": {},
   "outputs": [],
   "source": [
    "figure_dir = '../../figures/submission_june_21/'\n",
    "M = pd.read_csv(f'{figure_dir}/metrics_parents_benchmark_all.tsv', sep='\\t')\n",
    "heuristic = 'Path score heuristic'"
   ]
  },
  {
   "cell_type": "code",
   "execution_count": 54,
   "id": "c6b2dbaa-2799-4129-b6bb-6ab03a4de35b",
   "metadata": {},
   "outputs": [
    {
     "name": "stdout",
     "output_type": "stream",
     "text": [
      "Loaded benchmark with 895 triples\n"
     ]
    }
   ],
   "source": [
    "# load benchmark\n",
    "with open('../../data/commonsense_benchmark/v5/commonsense_benchmark_one_sibling.json', 'r') as f:\n",
    "    benchmark = json.load(f)\n",
    "    \n",
    "print(f'Loaded benchmark with {len(benchmark)} triples')"
   ]
  },
  {
   "cell_type": "code",
   "execution_count": 55,
   "id": "23b44cad-9fcb-4367-b745-b369a3691d3a",
   "metadata": {},
   "outputs": [
    {
     "data": {
      "text/plain": [
       "(3147, 11)"
      ]
     },
     "execution_count": 55,
     "metadata": {},
     "output_type": "execute_result"
    }
   ],
   "source": [
    "one_sibling_triples = ['--'.join(b['query_triple']) for b in benchmark]\n",
    "M_one = M[M['query triple'].isin(one_sibling_triples)]\n",
    "M_one.shape"
   ]
  },
  {
   "cell_type": "code",
   "execution_count": 63,
   "id": "5f954458-d2da-42cd-9a43-ba7ef937f7d4",
   "metadata": {},
   "outputs": [],
   "source": [
    "def plot_performance_metric(M, experiments=['sibling false, child false'], metric='wndcg', k_range = list(range(1, 11)), filename=None):\n",
    "    rows = []\n",
    "    \n",
    "    h_count = 0\n",
    "    p_count = 0\n",
    "    \n",
    "    for i, row in M.iterrows():\n",
    "        #print(i)\n",
    "\n",
    "        max_k = len(row[f'{metric}: random'])\n",
    "        ks = k_range[:max_k]\n",
    "\n",
    "        if row['experiment'] in experiments:\n",
    "            if len(row[f'{metric}: heuristic']) < max_k:\n",
    "                h_count += 1\n",
    "                continue\n",
    "                \n",
    "            if len(row[f'{metric}: linklogic']) < max_k:\n",
    "                p_count += 1\n",
    "                continue\n",
    "                \n",
    "            for k in ks:\n",
    "                rows.append({\n",
    "                    'k': str(k),\n",
    "                    'query triple': row['query triple'],\n",
    "                    'experiment': row['experiment'],\n",
    "                    heuristic: row[f'{metric}: heuristic'][k-1],\n",
    "                    'linklogic': row[f'{metric}: linklogic'][k-1]\n",
    "                })\n",
    "    m = pd.DataFrame(rows).melt(id_vars=['k', 'query triple', 'experiment'])\n",
    "\n",
    "    m = m[m['k'].isin(['1', '2', '3', '4', '5', '6', '7'])]\n",
    "\n",
    "    pal = plot.get_categorical_palette()\n",
    "    palette = {'linklogic': pal['linklogic'], heuristic: pal['Heuristic95']}\n",
    "    plt.figure(figsize=(5,4))\n",
    "    g = sns.lineplot(data=m, x='k', y='value', hue='variable', hue_order=palette.keys(), palette=palette)\n",
    "    _ = g.set(ylabel='NDCG@K')\n",
    "    _ = g.legend(title='')\n",
    "    \n",
    "    if filename is not None:\n",
    "        g.get_figure().savefig(filename, bbox_inches='tight')\n",
    "        \n",
    "    return [h_count, p_count]"
   ]
  },
  {
   "cell_type": "code",
   "execution_count": 57,
   "id": "194bf6c1-c466-4c78-9a9c-437077d017b7",
   "metadata": {
    "tags": []
   },
   "outputs": [
    {
     "data": {
      "image/png": "[encoded data removed]",
      "text/plain": [
       "<Figure size 360x288 with 1 Axes>"
      ]
     },
     "metadata": {
      "needs_background": "light"
     },
     "output_type": "display_data"
    }
   ],
   "source": [
    "h_count, p_count = plot_performance_metric(M, experiments=['sibling false, child false'], metric='wndcg')#, filename=f'{figure_dir}NDCG.{plot.figtype}')"
   ]
  },
  {
   "cell_type": "code",
   "execution_count": 58,
   "id": "6f289836-c202-448d-a080-48db3094fbaa",
   "metadata": {},
   "outputs": [
    {
     "data": {
      "text/plain": [
       "4"
      ]
     },
     "execution_count": 58,
     "metadata": {},
     "output_type": "execute_result"
    }
   ],
   "source": [
    "p_count"
   ]
  },
  {
   "cell_type": "code",
   "execution_count": 59,
   "id": "6e273d89-a9e3-4df8-a722-33ba656b6cd8",
   "metadata": {},
   "outputs": [
    {
     "data": {
      "text/plain": [
       "3091"
      ]
     },
     "execution_count": 59,
     "metadata": {},
     "output_type": "execute_result"
    }
   ],
   "source": [
    "h_count"
   ]
  },
  {
   "cell_type": "code",
   "execution_count": null,
   "id": "9fd66396-5702-43cd-8995-eb201e140993",
   "metadata": {},
   "outputs": [],
   "source": [
    "for i, row in M.iterrows():\n",
    "    #print(i)\n",
    "\n",
    "    max_k = len(row[f'{metric}: random'])\n",
    "    ks = k_range[:max_k]\n",
    "\n",
    "    if row['experiment'] in experiments:\n",
    "        if len(row[f'{metric}: heuristic']) < max_k:\n",
    "            h_count += 1\n",
    "            continue\n",
    "\n",
    "        if len(row[f'{metric}: linklogic']) < max_k:\n",
    "            p_count += 1\n",
    "            continue\n",
    "\n",
    "        for k in ks:\n",
    "            rows.append({\n",
    "                'k': str(k),\n",
    "                'query triple': row['query triple'],\n",
    "                'experiment': row['experiment'],\n",
    "                heuristic: row[f'{metric}: heuristic'][k-1],\n",
    "                'linklogic': row[f'{metric}: linklogic'][k-1]\n",
    "            })\n",
    "m = pd.DataFrame(rows).melt(id_vars=['k', 'query triple', 'experiment'])\n",
    "\n",
    "m = m[m['k'].isin(['1', '2', '3', '4', '5', '6', '7'])]\n",
    "\n",
    "pal = plot.get_categorical_palette()\n",
    "palette = {'linklogic': pal['linklogic'], heuristic: pal['Heuristic95']}\n",
    "plt.figure(figsize=(5,4))\n",
    "g = sns.lineplot(data=m, x='k', y='value', hue='variable', hue_order=palette.keys(), palette=palette)\n",
    "_ = g.set(ylabel='NDCG@K')\n",
    "_ = g.legend(title='')"
   ]
  },
  {
   "cell_type": "code",
   "execution_count": 62,
   "id": "517ee72e-8b9a-4d5d-a9bf-c3859d10abb9",
   "metadata": {},
   "outputs": [
    {
     "data": {
      "text/plain": [
       "(16980, 11)"
      ]
     },
     "execution_count": 62,
     "metadata": {},
     "output_type": "execute_result"
    }
   ],
   "source": [
    "\n",
    "\n"
   ]
  },
  {
   "cell_type": "code",
   "execution_count": null,
   "id": "cd4950cc-6347-4b8b-8c70-feb10df30344",
   "metadata": {},
   "outputs": [],
   "source": []
  }
 ],
 "metadata": {
  "kernelspec": {
   "display_name": "Python 3",
   "language": "python",
   "name": "python3"
  },
  "language_info": {
   "codemirror_mode": {
    "name": "ipython",
    "version": 3
   },
   "file_extension": ".py",
   "mimetype": "text/x-python",
   "name": "python",
   "nbconvert_exporter": "python",
   "pygments_lexer": "ipython3",
   "version": "3.6.5"
  }
 },
 "nbformat": 4,
 "nbformat_minor": 5
}
