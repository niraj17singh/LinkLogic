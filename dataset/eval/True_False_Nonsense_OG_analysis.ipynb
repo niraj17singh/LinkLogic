{
 "cells": [
  {
   "cell_type": "code",
   "execution_count": null,
   "id": "68923b9c-49e0-4ce2-a9bc-fd4c02fadb65",
   "metadata": {},
   "outputs": [],
   "source": [
    "### Analysis for true/false/nonsense results\n",
    "\n",
    "results_dir = '../../explanations/linklogic/for_paper/Exp4/results/'\n",
    "\n",
    "with open(f'{results_dir}/4a_100.pickle', 'rb') as f:\n",
    "    nonsensical = pickle.load(f)\n",
    "    \n",
    "with open(f'{results_dir}/4d_100.pickle', 'rb') as f:\n",
    "    true_triples = pickle.load(f)\n",
    "    \n",
    "with open(f'{results_dir}/4b_100.pickle', 'rb') as f:\n",
    "    false_triples = pickle.load(f)\n",
    "\n",
    "nonsensical_r2 = [a['linklogic_metrics']['test_acc'] for a in nonsensical]\n",
    "\n",
    "len([a for a in nonsensical_r2 if a<0])\n",
    "\n",
    "true_r2 = [a['linklogic_metrics']['test_acc'] for a in true_triples]\n",
    "\n",
    "np.mean(true_r2)\n",
    "\n",
    "np.std(true_r2)\n",
    "\n",
    "np.mean([len(a['linklogic_explanations']) for a in true_triples])\n",
    "\n",
    "all_exps = []\n",
    "for a in true_triples:\n",
    "    num_exps = 0\n",
    "    for b in a['linklogic_explanations']:\n",
    "        if b['kge_score']['path_score']>2.9957:\n",
    "            num_exps+=1\n",
    "    all_exps.append(num_exps)\n",
    "\n",
    "np.mean(all_exps)\n",
    "\n",
    "nonsensical_r2 = [a['linklogic_metrics']['test_acc'] for a in nonsensical]\n",
    "\n",
    "np.mean(nonsensical_r2)\n",
    "\n",
    "false_r2 = [a['linklogic_metrics']['test_acc'] for a in false_triples]\n",
    "\n",
    "np.std(false_r2)"
   ]
  }
 ],
 "metadata": {
  "kernelspec": {
   "display_name": "Python 3",
   "language": "python",
   "name": "python3"
  },
  "language_info": {
   "codemirror_mode": {
    "name": "ipython",
    "version": 3
   },
   "file_extension": ".py",
   "mimetype": "text/x-python",
   "name": "python",
   "nbconvert_exporter": "python",
   "pygments_lexer": "ipython3",
   "version": "3.6.5"
  }
 },
 "nbformat": 4,
 "nbformat_minor": 5
}
