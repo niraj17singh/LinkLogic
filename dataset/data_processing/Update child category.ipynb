{
 "cells": [
  {
   "cell_type": "code",
   "execution_count": 1,
   "id": "ea6b0279-0cd5-40bd-b708-19c19250905b",
   "metadata": {},
   "outputs": [],
   "source": [
    "import json"
   ]
  },
  {
   "cell_type": "code",
   "execution_count": 5,
   "id": "8fdd46cd-b975-421c-8df7-ba890bc7d2db",
   "metadata": {},
   "outputs": [],
   "source": [
    "# data dir\n",
    "data_dir = '../../data/commonsense_benchmark'\n",
    "with open(f'{data_dir}/v3/commonsense_benchmark_all.json', 'r') as f:\n",
    "    benchmark = json.load(f)"
   ]
  },
  {
   "cell_type": "code",
   "execution_count": 7,
   "id": "a92cecb6-4792-41c1-82a6-4c5d43b495db",
   "metadata": {},
   "outputs": [],
   "source": [
    "for bmk in benchmark:\n",
    "    for p in bmk['explanatory_paths']:\n",
    "        if p['category'] == 'child':\n",
    "            p['category'] = 'parent--child'"
   ]
  },
  {
   "cell_type": "code",
   "execution_count": 9,
   "id": "eb28b0c7-81f3-4bc8-856d-f221e9ebda2b",
   "metadata": {},
   "outputs": [],
   "source": [
    "with open(f'{data_dir}/v3/commonsense_benchmark_all_tmp.json', 'w') as f:\n",
    "      json.dump(benchmark, f, indent=4)"
   ]
  },
  {
   "cell_type": "code",
   "execution_count": null,
   "id": "59408a55-9488-4210-82a6-f8154c1f83f2",
   "metadata": {},
   "outputs": [],
   "source": []
  }
 ],
 "metadata": {
  "kernelspec": {
   "display_name": "Python 3",
   "language": "python",
   "name": "python3"
  },
  "language_info": {
   "codemirror_mode": {
    "name": "ipython",
    "version": 3
   },
   "file_extension": ".py",
   "mimetype": "text/x-python",
   "name": "python",
   "nbconvert_exporter": "python",
   "pygments_lexer": "ipython3",
   "version": "3.6.5"
  }
 },
 "nbformat": 4,
 "nbformat_minor": 5
}
