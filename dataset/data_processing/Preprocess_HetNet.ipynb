{
 "cells": [
  {
   "cell_type": "code",
   "execution_count": 17,
   "metadata": {},
   "outputs": [],
   "source": [
    "from tqdm import tqdm \n",
    "import random\n",
    "\n",
    "# Read edges file\n",
    "file = \"hetionet-v1.0-edges.sif\"\n",
    "header = open(file, \"r\")"
   ]
  },
  {
   "cell_type": "code",
   "execution_count": 18,
   "metadata": {},
   "outputs": [],
   "source": [
    "# Create a graph.txt \n",
    "with open(\"graph.txt\", \"w\") as text_file:\n",
    "    cnt = 0\n",
    "    for line in header:\n",
    "        if cnt >0:\n",
    "            e1, r, e2 = line.strip().split(\"\\t\")\n",
    "            message = e1 + \";\" + r + \";\" + e2 + \"\\n\"\n",
    "            text_file.write(message)\n",
    "        cnt +=1"
   ]
  },
  {
   "cell_type": "code",
   "execution_count": 19,
   "metadata": {},
   "outputs": [],
   "source": [
    "seed =1234\n",
    "triples = []\n",
    "lines = open(\"graph.txt\")\n",
    "for line in lines:\n",
    "    e1, r, e2 = line.strip().split(\";\")\n",
    "    triples.append((e1, r, e2))"
   ]
  },
  {
   "cell_type": "code",
   "execution_count": 20,
   "metadata": {},
   "outputs": [
    {
     "data": {
      "text/plain": [
       "[('Gene::9021', 'GpBP', 'Biological Process::GO:0071357'),\n",
       " ('Gene::51676', 'GpBP', 'Biological Process::GO:0098780'),\n",
       " ('Gene::19', 'GpBP', 'Biological Process::GO:0055088'),\n",
       " ('Gene::3176', 'GpBP', 'Biological Process::GO:0010243'),\n",
       " ('Gene::3039', 'GpBP', 'Biological Process::GO:0006898')]"
      ]
     },
     "execution_count": 20,
     "metadata": {},
     "output_type": "execute_result"
    }
   ],
   "source": [
    "triples[:5]"
   ]
  },
  {
   "cell_type": "code",
   "execution_count": 21,
   "metadata": {},
   "outputs": [
    {
     "data": {
      "text/plain": [
       "[('Gene::7006', 'GpBP', 'Biological Process::GO:0050853'),\n",
       " ('Anatomy::UBERON:0002367', 'AeG', 'Gene::51368'),\n",
       " ('Anatomy::UBERON:0002037', 'AeG', 'Gene::84695'),\n",
       " ('Compound::DB00736', 'CcSE', 'Side Effect::C0302295'),\n",
       " ('Gene::1789', 'GpBP', 'Biological Process::GO:0031062')]"
      ]
     },
     "execution_count": 21,
     "metadata": {},
     "output_type": "execute_result"
    }
   ],
   "source": [
    "random.Random(seed).shuffle(triples)\n",
    "triples[:5]"
   ]
  },
  {
   "cell_type": "code",
   "execution_count": 22,
   "metadata": {},
   "outputs": [],
   "source": [
    "train_triples = triples[:int(len(triples)*0.8)]\n",
    "dev_triples = triples[int(len(triples)*0.8): int(len(triples)*0.9)]\n",
    "test_triples = triples[int(len(triples)*0.9):]"
   ]
  },
  {
   "cell_type": "code",
   "execution_count": 23,
   "metadata": {},
   "outputs": [],
   "source": [
    "# Store Train, Dev and Test files"
   ]
  },
  {
   "cell_type": "code",
   "execution_count": 24,
   "metadata": {},
   "outputs": [],
   "source": [
    "with open(\"train.txt\", \"w\") as text_file:\n",
    "    for i in range(len(train_triples)):\n",
    "        e1, r, e2 = train_triples[i]\n",
    "        message = e1 + \";\" + r + \";\" + e2 + \"\\n\"\n",
    "        text_file.write(message)"
   ]
  },
  {
   "cell_type": "code",
   "execution_count": 25,
   "metadata": {},
   "outputs": [],
   "source": [
    "with open(\"dev.txt\", \"w\") as text_file:\n",
    "    for i in range(len(dev_triples)):\n",
    "        e1, r, e2 = dev_triples[i]\n",
    "        message = e1 + \";\" + r + \";\" + e2 + \"\\n\"\n",
    "        text_file.write(message)"
   ]
  },
  {
   "cell_type": "code",
   "execution_count": 26,
   "metadata": {},
   "outputs": [],
   "source": [
    "with open(\"test.txt\", \"w\") as text_file:\n",
    "    for i in range(len(test_triples)):\n",
    "        e1, r, e2 = test_triples[i]\n",
    "        message = e1 + \";\" + r + \";\" + e2 + \"\\n\"\n",
    "        text_file.write(message)"
   ]
  },
  {
   "cell_type": "code",
   "execution_count": 28,
   "metadata": {},
   "outputs": [
    {
     "name": "stderr",
     "output_type": "stream",
     "text": [
      "100%|██████████| 2250197/2250197 [00:01<00:00, 1193197.28it/s]\n"
     ]
    },
    {
     "data": {
      "text/plain": [
       "2250197"
      ]
     },
     "execution_count": 28,
     "metadata": {},
     "output_type": "execute_result"
    }
   ],
   "source": [
    "# Create ids for each unique entity type\n",
    "lines = open(\"graph.txt\").readlines()\n",
    "relation_dic = {}\n",
    "entity_dic = {}\n",
    "for line in tqdm(lines):\n",
    "    line = line.strip()\n",
    "    e1, r, e2 = line.split(\";\")\n",
    "    if e1 not in entity_dic:\n",
    "        entity_dic[e1] = 1\n",
    "    if e2 not in entity_dic:\n",
    "        entity_dic[e2] = 1\n",
    "    if r not in relation_dic:\n",
    "        relation_dic[r] = 1\n",
    "    \n",
    "len(lines)"
   ]
  },
  {
   "cell_type": "code",
   "execution_count": 29,
   "metadata": {},
   "outputs": [
    {
     "data": {
      "text/plain": [
       "24"
      ]
     },
     "execution_count": 29,
     "metadata": {},
     "output_type": "execute_result"
    }
   ],
   "source": [
    "len(relation_dic)"
   ]
  },
  {
   "cell_type": "code",
   "execution_count": 30,
   "metadata": {},
   "outputs": [
    {
     "data": {
      "text/plain": [
       "45158"
      ]
     },
     "execution_count": 30,
     "metadata": {},
     "output_type": "execute_result"
    }
   ],
   "source": [
    "len(entity_dic)"
   ]
  },
  {
   "cell_type": "code",
   "execution_count": 31,
   "metadata": {},
   "outputs": [],
   "source": [
    "# Save id to entity mapping \n",
    "with open(\"entities.dict\", \"w\") as text_file:\n",
    "    for i in range(len(entity_dic)):\n",
    "        text_file.write(str(i) + \"\\t\" + list(entity_dic.keys())[i] + \"\\n\")\n",
    "    "
   ]
  },
  {
   "cell_type": "code",
   "execution_count": 32,
   "metadata": {},
   "outputs": [],
   "source": [
    "# Save id to relation mapping \n",
    "with open(\"relations.dict\", \"w\") as text_file:\n",
    "    for i in range(len(relation_dic)):\n",
    "        text_file.write(str(i) + \"\\t\" + list(relation_dic.keys())[i] + \"\\n\")\n",
    "    "
   ]
  }
 ],
 "metadata": {
  "kernelspec": {
   "display_name": "Python 3",
   "language": "python",
   "name": "python3"
  },
  "language_info": {
   "codemirror_mode": {
    "name": "ipython",
    "version": 3
   },
   "file_extension": ".py",
   "mimetype": "text/x-python",
   "name": "python",
   "nbconvert_exporter": "python",
   "pygments_lexer": "ipython3",
   "version": "3.6.5"
  }
 },
 "nbformat": 4,
 "nbformat_minor": 4
}
