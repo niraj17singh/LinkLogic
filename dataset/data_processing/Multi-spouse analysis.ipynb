{
 "cells": [
  {
   "cell_type": "code",
   "execution_count": 1,
   "id": "211cd6ad-cdce-4659-a77d-5c41e517ecea",
   "metadata": {},
   "outputs": [],
   "source": [
    "import pandas as pd\n",
    "from neo4j import GraphDatabase"
   ]
  },
  {
   "cell_type": "code",
   "execution_count": 2,
   "id": "df5c4b49-129b-452b-8831-32cb82ed73aa",
   "metadata": {},
   "outputs": [],
   "source": [
    "# setup database connection\n",
    "driver = GraphDatabase.driver('bolt://localhost:7687', auth=('neo4j', 'fb13'))\n",
    "sess = driver.session()"
   ]
  },
  {
   "cell_type": "code",
   "execution_count": 19,
   "id": "817f9f3a-65f4-4322-8f86-5836ae002853",
   "metadata": {},
   "outputs": [],
   "source": [
    "def res_to_df(res):\n",
    "    result_list = [record for record in res]\n",
    "    return pd.DataFrame(result_list, columns=res.keys()) \n",
    "\n",
    "def cypherize_str_list(str_list, brackets=True, quotes=True):\n",
    "    if type(str_list) is not list:\n",
    "        str_list = [str_list]\n",
    "\n",
    "    if quotes:\n",
    "        out = '\", \"'.join(str_list)\n",
    "    else:\n",
    "        out = \", \".join(str_list)\n",
    "\n",
    "    if brackets:\n",
    "        out = '[\"' + out + '\"]'\n",
    "\n",
    "    return out"
   ]
  },
  {
   "cell_type": "code",
   "execution_count": 15,
   "id": "03cc45e4-6b8f-4963-8d5b-97444455a9f2",
   "metadata": {},
   "outputs": [],
   "source": [
    "# identify people with at least two spouses\n",
    "q = '''\n",
    "MATCH (p:Person)-[:spouse]-(x)\n",
    "WITH p.name as person, count(distinct x) as num_spouses, collect(distinct x.name) as spouses\n",
    "WHERE num_spouses = 2\n",
    "RETURN person, spouses, num_spouses ORDER BY num_spouses DESC\n",
    "'''"
   ]
  },
  {
   "cell_type": "code",
   "execution_count": 16,
   "id": "e826ffe2-26f3-4eb1-ad64-afa8b4495150",
   "metadata": {},
   "outputs": [],
   "source": [
    "promiscuous = res_to_df(sess.run(q))\n",
    "promiscuous"
   ]
  },
  {
   "cell_type": "code",
   "execution_count": 18,
   "id": "405a773f-f4fc-4126-a03d-145b81c58074",
   "metadata": {},
   "outputs": [],
   "source": [
    "# identify the subset that has children"
   ]
  },
  {
   "cell_type": "code",
   "execution_count": 26,
   "id": "b2c6ab6d-4615-410b-bf5f-d04fd97de169",
   "metadata": {},
   "outputs": [],
   "source": [
    "people = cypherize_str_list(list(promiscuous.person))\n",
    "q = f'''\n",
    "MATCH (p:Person) WHERE p.name in {people}\n",
    "MATCH (p)-[:children]->(x)\n",
    "RETURN p.name as parent, x.name as child \n",
    "\n",
    "UNION\n",
    "\n",
    "MATCH (p:Person) WHERE p.name in {people}\n",
    "MATCH (p)<-[:parents]-(x)\n",
    "RETURN p.name as parent, x.name as child\n",
    "'''\n",
    "promiscuous_parents = res_to_df(sess.run(q))"
   ]
  },
  {
   "cell_type": "code",
   "execution_count": 29,
   "id": "1977d56b-da7b-415f-b896-df76d1ec9892",
   "metadata": {},
   "outputs": [
    {
     "data": {
      "text/html": [
       "<div>\n",
       "<style scoped>\n",
       "    .dataframe tbody tr th:only-of-type {\n",
       "        vertical-align: middle;\n",
       "    }\n",
       "\n",
       "    .dataframe tbody tr th {\n",
       "        vertical-align: top;\n",
       "    }\n",
       "\n",
       "    .dataframe thead th {\n",
       "        text-align: right;\n",
       "    }\n",
       "</style>\n",
       "<table border=\"1\" class=\"dataframe\">\n",
       "  <thead>\n",
       "    <tr style=\"text-align: right;\">\n",
       "      <th></th>\n",
       "      <th>parent</th>\n",
       "      <th>child</th>\n",
       "    </tr>\n",
       "  </thead>\n",
       "  <tbody>\n",
       "    <tr>\n",
       "      <th>0</th>\n",
       "      <td>abigail_adams</td>\n",
       "      <td>{john_quincy_adams}</td>\n",
       "    </tr>\n",
       "    <tr>\n",
       "      <th>1</th>\n",
       "      <td>adela_capet</td>\n",
       "      <td>{robert_i_count_of_flanders, matilda_of_flanders}</td>\n",
       "    </tr>\n",
       "    <tr>\n",
       "      <th>2</th>\n",
       "      <td>adelaide_del_vasto</td>\n",
       "      <td>{roger_ii_of_sicily}</td>\n",
       "    </tr>\n",
       "    <tr>\n",
       "      <th>3</th>\n",
       "      <td>adelaide_of_anjou</td>\n",
       "      <td>{constance_of_arles}</td>\n",
       "    </tr>\n",
       "    <tr>\n",
       "      <th>4</th>\n",
       "      <td>afonso_v_of_portugal</td>\n",
       "      <td>{joana_crown_princess_of_portugal, john_ii_of_...</td>\n",
       "    </tr>\n",
       "    <tr>\n",
       "      <th>...</th>\n",
       "      <td>...</td>\n",
       "      <td>...</td>\n",
       "    </tr>\n",
       "    <tr>\n",
       "      <th>193</th>\n",
       "      <td>william_i_of_wurttemberg</td>\n",
       "      <td>{sophie_of_wurttemberg, charles_i_of_wurttemberg}</td>\n",
       "    </tr>\n",
       "    <tr>\n",
       "      <th>194</th>\n",
       "      <td>william_iii_of_the_netherlands</td>\n",
       "      <td>{prince_willem_of_the_netherlands, wilhelmina_...</td>\n",
       "    </tr>\n",
       "    <tr>\n",
       "      <th>195</th>\n",
       "      <td>woodrow_wilson</td>\n",
       "      <td>{margaret_woodrow_wilson, eleanor_wilson_mcadoo}</td>\n",
       "    </tr>\n",
       "    <tr>\n",
       "      <th>196</th>\n",
       "      <td>yaroslav_i_the_wise</td>\n",
       "      <td>{sviatoslav_ii_of_kiev, anne_of_kiev, iziaslav...</td>\n",
       "    </tr>\n",
       "    <tr>\n",
       "      <th>197</th>\n",
       "      <td>yongzheng_emperor</td>\n",
       "      <td>{qianlong_emperor}</td>\n",
       "    </tr>\n",
       "  </tbody>\n",
       "</table>\n",
       "<p>198 rows × 2 columns</p>\n",
       "</div>"
      ],
      "text/plain": [
       "                             parent  \\\n",
       "0                     abigail_adams   \n",
       "1                       adela_capet   \n",
       "2                adelaide_del_vasto   \n",
       "3                 adelaide_of_anjou   \n",
       "4              afonso_v_of_portugal   \n",
       "..                              ...   \n",
       "193        william_i_of_wurttemberg   \n",
       "194  william_iii_of_the_netherlands   \n",
       "195                  woodrow_wilson   \n",
       "196             yaroslav_i_the_wise   \n",
       "197               yongzheng_emperor   \n",
       "\n",
       "                                                 child  \n",
       "0                                  {john_quincy_adams}  \n",
       "1    {robert_i_count_of_flanders, matilda_of_flanders}  \n",
       "2                                 {roger_ii_of_sicily}  \n",
       "3                                 {constance_of_arles}  \n",
       "4    {joana_crown_princess_of_portugal, john_ii_of_...  \n",
       "..                                                 ...  \n",
       "193  {sophie_of_wurttemberg, charles_i_of_wurttemberg}  \n",
       "194  {prince_willem_of_the_netherlands, wilhelmina_...  \n",
       "195   {margaret_woodrow_wilson, eleanor_wilson_mcadoo}  \n",
       "196  {sviatoslav_ii_of_kiev, anne_of_kiev, iziaslav...  \n",
       "197                                 {qianlong_emperor}  \n",
       "\n",
       "[198 rows x 2 columns]"
      ]
     },
     "execution_count": 29,
     "metadata": {},
     "output_type": "execute_result"
    }
   ],
   "source": [
    "promiscuous_parents.groupby('parent', as_index=False).agg(set)"
   ]
  },
  {
   "cell_type": "code",
   "execution_count": null,
   "id": "cf732c4a-304d-4e60-8a99-a833f4f87b5d",
   "metadata": {},
   "outputs": [],
   "source": []
  }
 ],
 "metadata": {
  "kernelspec": {
   "display_name": "Python 3",
   "language": "python",
   "name": "python3"
  },
  "language_info": {
   "codemirror_mode": {
    "name": "ipython",
    "version": 3
   },
   "file_extension": ".py",
   "mimetype": "text/x-python",
   "name": "python",
   "nbconvert_exporter": "python",
   "pygments_lexer": "ipython3",
   "version": "3.6.5"
  }
 },
 "nbformat": 4,
 "nbformat_minor": 5
}
