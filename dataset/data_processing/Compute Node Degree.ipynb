{
 "cells": [
  {
   "cell_type": "code",
   "execution_count": 1,
   "id": "cec2782d-b2be-426c-a652-b9cfd355684f",
   "metadata": {},
   "outputs": [],
   "source": [
    "import pandas as pd\n",
    "from neo4j import GraphDatabase\n",
    "from tqdm import tqdm\n",
    "\n",
    "import os\n",
    "import sys\n",
    "eval_dir = os.path.join(os.path.realpath('..'), 'akbc_2021/eval')\n",
    "sys.path.append(eval_dir) \n",
    "import utils as ut"
   ]
  },
  {
   "cell_type": "code",
   "execution_count": 2,
   "id": "bb0bace9-c2be-43cf-a06f-65bfd32d51ee",
   "metadata": {},
   "outputs": [],
   "source": [
    "# setup database connection\n",
    "driver = GraphDatabase.driver('bolt://localhost:7687', auth=('neo4j', 'fb14'))\n",
    "sess = driver.session()"
   ]
  },
  {
   "cell_type": "code",
   "execution_count": 3,
   "id": "022d2779-9733-482f-a899-1bf09a716edd",
   "metadata": {},
   "outputs": [
    {
     "name": "stdout",
     "output_type": "stream",
     "text": [
      "include_sibling:  True\n"
     ]
    },
    {
     "data": {
      "text/plain": [
       "(74845, 5)"
      ]
     },
     "execution_count": 3,
     "metadata": {},
     "output_type": "execute_result"
    },
    {
     "data": {
      "text/html": [
       "<div>\n",
       "<style scoped>\n",
       "    .dataframe tbody tr th:only-of-type {\n",
       "        vertical-align: middle;\n",
       "    }\n",
       "\n",
       "    .dataframe tbody tr th {\n",
       "        vertical-align: top;\n",
       "    }\n",
       "\n",
       "    .dataframe thead th {\n",
       "        text-align: right;\n",
       "    }\n",
       "</style>\n",
       "<table border=\"1\" class=\"dataframe\">\n",
       "  <thead>\n",
       "    <tr style=\"text-align: right;\">\n",
       "      <th></th>\n",
       "      <th>entity</th>\n",
       "      <th>type</th>\n",
       "      <th>in_degree</th>\n",
       "      <th>out_degree</th>\n",
       "      <th>total_degree</th>\n",
       "    </tr>\n",
       "  </thead>\n",
       "  <tbody>\n",
       "    <tr>\n",
       "      <th>0</th>\n",
       "      <td>charles_studd</td>\n",
       "      <td>Person</td>\n",
       "      <td>0.0</td>\n",
       "      <td>5.0</td>\n",
       "      <td>5</td>\n",
       "    </tr>\n",
       "    <tr>\n",
       "      <th>1</th>\n",
       "      <td>villach</td>\n",
       "      <td>Location</td>\n",
       "      <td>5.0</td>\n",
       "      <td>0.0</td>\n",
       "      <td>5</td>\n",
       "    </tr>\n",
       "    <tr>\n",
       "      <th>2</th>\n",
       "      <td>vesta_m_roy</td>\n",
       "      <td>Person</td>\n",
       "      <td>0.0</td>\n",
       "      <td>4.0</td>\n",
       "      <td>4</td>\n",
       "    </tr>\n",
       "    <tr>\n",
       "      <th>3</th>\n",
       "      <td>wirt_c_rowland</td>\n",
       "      <td>Person</td>\n",
       "      <td>0.0</td>\n",
       "      <td>4.0</td>\n",
       "      <td>4</td>\n",
       "    </tr>\n",
       "    <tr>\n",
       "      <th>4</th>\n",
       "      <td>metairie</td>\n",
       "      <td>Location</td>\n",
       "      <td>3.0</td>\n",
       "      <td>0.0</td>\n",
       "      <td>3</td>\n",
       "    </tr>\n",
       "  </tbody>\n",
       "</table>\n",
       "</div>"
      ],
      "text/plain": [
       "           entity      type  in_degree  out_degree  total_degree\n",
       "0   charles_studd    Person        0.0         5.0             5\n",
       "1         villach  Location        5.0         0.0             5\n",
       "2     vesta_m_roy    Person        0.0         4.0             4\n",
       "3  wirt_c_rowland    Person        0.0         4.0             4\n",
       "4        metairie  Location        3.0         0.0             3"
      ]
     },
     "execution_count": 3,
     "metadata": {},
     "output_type": "execute_result"
    },
    {
     "name": "stdout",
     "output_type": "stream",
     "text": [
      "include_sibling:  False\n"
     ]
    },
    {
     "data": {
      "text/plain": [
       "(74845, 5)"
      ]
     },
     "execution_count": 3,
     "metadata": {},
     "output_type": "execute_result"
    },
    {
     "data": {
      "text/html": [
       "<div>\n",
       "<style scoped>\n",
       "    .dataframe tbody tr th:only-of-type {\n",
       "        vertical-align: middle;\n",
       "    }\n",
       "\n",
       "    .dataframe tbody tr th {\n",
       "        vertical-align: top;\n",
       "    }\n",
       "\n",
       "    .dataframe thead th {\n",
       "        text-align: right;\n",
       "    }\n",
       "</style>\n",
       "<table border=\"1\" class=\"dataframe\">\n",
       "  <thead>\n",
       "    <tr style=\"text-align: right;\">\n",
       "      <th></th>\n",
       "      <th>entity</th>\n",
       "      <th>type</th>\n",
       "      <th>in_degree</th>\n",
       "      <th>out_degree</th>\n",
       "      <th>total_degree</th>\n",
       "    </tr>\n",
       "  </thead>\n",
       "  <tbody>\n",
       "    <tr>\n",
       "      <th>0</th>\n",
       "      <td>charles_studd</td>\n",
       "      <td>Person</td>\n",
       "      <td>0.0</td>\n",
       "      <td>5.0</td>\n",
       "      <td>5</td>\n",
       "    </tr>\n",
       "    <tr>\n",
       "      <th>1</th>\n",
       "      <td>villach</td>\n",
       "      <td>Location</td>\n",
       "      <td>5.0</td>\n",
       "      <td>0.0</td>\n",
       "      <td>5</td>\n",
       "    </tr>\n",
       "    <tr>\n",
       "      <th>2</th>\n",
       "      <td>vesta_m_roy</td>\n",
       "      <td>Person</td>\n",
       "      <td>0.0</td>\n",
       "      <td>4.0</td>\n",
       "      <td>4</td>\n",
       "    </tr>\n",
       "    <tr>\n",
       "      <th>3</th>\n",
       "      <td>wirt_c_rowland</td>\n",
       "      <td>Person</td>\n",
       "      <td>0.0</td>\n",
       "      <td>4.0</td>\n",
       "      <td>4</td>\n",
       "    </tr>\n",
       "    <tr>\n",
       "      <th>4</th>\n",
       "      <td>metairie</td>\n",
       "      <td>Location</td>\n",
       "      <td>3.0</td>\n",
       "      <td>0.0</td>\n",
       "      <td>3</td>\n",
       "    </tr>\n",
       "  </tbody>\n",
       "</table>\n",
       "</div>"
      ],
      "text/plain": [
       "           entity      type  in_degree  out_degree  total_degree\n",
       "0   charles_studd    Person        0.0         5.0             5\n",
       "1         villach  Location        5.0         0.0             5\n",
       "2     vesta_m_roy    Person        0.0         4.0             4\n",
       "3  wirt_c_rowland    Person        0.0         4.0             4\n",
       "4        metairie  Location        3.0         0.0             3"
      ]
     },
     "execution_count": 3,
     "metadata": {},
     "output_type": "execute_result"
    }
   ],
   "source": [
    "for include_sibling in [True, False]:\n",
    "    print('include_sibling: ', include_sibling)\n",
    "    \n",
    "    if not include_sibling:\n",
    "        sibling_clause = \"WHERE type(r) <> 'sibling'\"\n",
    "        out_dir = '../data/fb13/resplit/'\n",
    "    else:\n",
    "        sibling_clause = \"\"\n",
    "        out_dir = '../data/fb13/resplit_with_sibs/'\n",
    "    \n",
    "    q_out = f'''\n",
    "    MATCH (n)-[r]->(x)\n",
    "    {sibling_clause}\n",
    "    RETURN n.name as entity, count(distinct r) as out_degree\n",
    "    '''\n",
    "\n",
    "    q_in = f'''\n",
    "    MATCH (n)<-[r]-(x)\n",
    "    {sibling_clause}\n",
    "    RETURN n.name as entity, count(distinct r) as in_degree\n",
    "    '''\n",
    "\n",
    "    q_total = f'''\n",
    "    MATCH (n)-[r]-(x)\n",
    "    {sibling_clause}\n",
    "    RETURN n.name as entity, count(distinct r) as total_degree\n",
    "    '''\n",
    "\n",
    "    q_all = '''\n",
    "    MATCH (n)\n",
    "    RETURN n.name as entity, labels(n) as type\n",
    "    '''\n",
    "    \n",
    "    all_nodes = ut.res_to_df(sess.run(q_all))\n",
    "    all_nodes = all_nodes.explode(column='type') # reformat singleton label lists\n",
    "\n",
    "    in_degree = ut.res_to_df(sess.run(q_in))\n",
    "    out_degree = ut.res_to_df(sess.run(q_out))\n",
    "    total_degree = ut.res_to_df(sess.run(q_total)) # I confirmed that this is equivalent to summing in_degre and out_degree\n",
    "\n",
    "    degree = all_nodes.merge(in_degree, on='entity', how='left')\n",
    "    degree = degree.merge(out_degree, on='entity', how='left')\n",
    "    degree = degree.merge(total_degree, on='entity', how='left')\n",
    "    degree.fillna(0, inplace=True)\n",
    "\n",
    "    degree.shape\n",
    "    degree.head()\n",
    "    \n",
    "    degree.to_csv(f'{out_dir}/node_degree.tsv', sep='\\t', index=False)"
   ]
  },
  {
   "cell_type": "code",
   "execution_count": null,
   "id": "f03603b6-e1f9-41ab-9f50-9024233b600c",
   "metadata": {},
   "outputs": [],
   "source": []
  }
 ],
 "metadata": {
  "kernelspec": {
   "display_name": "Python 3",
   "language": "python",
   "name": "python3"
  },
  "language_info": {
   "codemirror_mode": {
    "name": "ipython",
    "version": 3
   },
   "file_extension": ".py",
   "mimetype": "text/x-python",
   "name": "python",
   "nbconvert_exporter": "python",
   "pygments_lexer": "ipython3",
   "version": "3.6.5"
  }
 },
 "nbformat": 4,
 "nbformat_minor": 5
}
