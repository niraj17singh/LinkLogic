{
 "cells": [
  {
   "cell_type": "code",
   "execution_count": 1,
   "id": "d3cb1734-c45d-47ac-868b-7a3ef0773f99",
   "metadata": {},
   "outputs": [],
   "source": [
    "import json"
   ]
  },
  {
   "cell_type": "code",
   "execution_count": 2,
   "id": "fa51fbae-d44f-44f9-9d43-0c28e3c349af",
   "metadata": {},
   "outputs": [],
   "source": [
    "# data dir\n",
    "data_dir = '../data/commonsense_benchmark'"
   ]
  },
  {
   "cell_type": "code",
   "execution_count": 3,
   "id": "af4ba075-be90-411d-813e-2a3026830b9b",
   "metadata": {},
   "outputs": [],
   "source": [
    "with open(f'{data_dir}/v2/commonsense_benchmark_for_analysis.json', 'r') as f:\n",
    "    analysis_set = json.load(f)\n",
    "\n",
    "with open(f'{data_dir}/v2/commonsense_benchmark_for_tuning.json', 'r') as f:\n",
    "    tuning_set = json.load(f)"
   ]
  },
  {
   "cell_type": "code",
   "execution_count": 4,
   "id": "b3fba52f-52ed-40ae-b756-122a602b9f72",
   "metadata": {},
   "outputs": [],
   "source": [
    "analysis_triples = [bmk['query_triple'] for bmk in analysis_set]\n",
    "tuning_triples = [bmk['query_triple'] for bmk in tuning_set]\n",
    "\n",
    "assert len(analysis_triples) == 200\n",
    "assert len(tuning_triples) == 20"
   ]
  },
  {
   "cell_type": "code",
   "execution_count": 5,
   "id": "0fa38309-ce76-4d25-9e97-35b1c4c8d6d4",
   "metadata": {},
   "outputs": [],
   "source": [
    "with open(f'{data_dir}/v3/commonsense_benchmark_all.json', 'r') as f:\n",
    "    benchmark = json.load(f)"
   ]
  },
  {
   "cell_type": "code",
   "execution_count": 6,
   "id": "3d897b50-2520-4aac-bd0f-91536b1b15a7",
   "metadata": {},
   "outputs": [],
   "source": [
    "analysis_new = [bmk for bmk in benchmark if bmk['query_triple'] in analysis_triples]\n",
    "tuning_new = [bmk for bmk in benchmark if bmk['query_triple'] in tuning_triples]\n",
    "\n",
    "assert len(analysis_new) == 200\n",
    "assert len(tuning_new) == 20\n",
    "\n",
    "for p in analysis_new:\n",
    "    assert len(p['explanatory_paths']) > 0\n",
    "    \n",
    "for p in tuning_new:\n",
    "    assert len(p['explanatory_paths']) > 0"
   ]
  },
  {
   "cell_type": "code",
   "execution_count": 7,
   "id": "b1e28bb3-1af0-444e-8b8d-975752ecb7c8",
   "metadata": {},
   "outputs": [],
   "source": [
    "with open(f'{data_dir}/v3/commonsense_benchmark_for_analysis.json', 'w') as f:\n",
    "      json.dump(analysis_new, f, indent=4)\n",
    "\n",
    "with open(f'{data_dir}/v3/commonsense_benchmark_for_tuning.json', 'w') as f:\n",
    "      json.dump(tuning_new, f, indent=4)"
   ]
  }
 ],
 "metadata": {
  "kernelspec": {
   "display_name": "Python 3",
   "language": "python",
   "name": "python3"
  },
  "language_info": {
   "codemirror_mode": {
    "name": "ipython",
    "version": 3
   },
   "file_extension": ".py",
   "mimetype": "text/x-python",
   "name": "python",
   "nbconvert_exporter": "python",
   "pygments_lexer": "ipython3",
   "version": "3.6.5"
  }
 },
 "nbformat": 4,
 "nbformat_minor": 5
}
