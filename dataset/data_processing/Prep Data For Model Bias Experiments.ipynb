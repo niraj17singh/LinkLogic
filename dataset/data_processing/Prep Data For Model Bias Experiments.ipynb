{
 "cells": [
  {
   "cell_type": "code",
   "execution_count": 1,
   "id": "e793d186-033d-41d4-abde-4cfa1ae26832",
   "metadata": {},
   "outputs": [],
   "source": [
    "import pandas as pd"
   ]
  },
  {
   "cell_type": "code",
   "execution_count": null,
   "id": "bb6bb6ee-2632-4c65-8e94-47cfcc71b4ad",
   "metadata": {},
   "outputs": [],
   "source": [
    "# Part 1: predict gender of each individual - how accurate is the KGE score?\n",
    "# (Could show confusion matrix- probably more females predicted to be male than the other way around)"
   ]
  },
  {
   "cell_type": "code",
   "execution_count": null,
   "id": "ae214031-69f2-4629-aca6-d39210596e9b",
   "metadata": {},
   "outputs": [],
   "source": []
  },
  {
   "cell_type": "code",
   "execution_count": null,
   "id": "d7645539-2967-4130-93ef-beaf2a46872b",
   "metadata": {},
   "outputs": [],
   "source": [
    "# Part 2: explain why the model is predicting a particular gender\n",
    "# A has gender [M/F] because\n",
    "# A has spouse B has gender [F/M] <--- Heteronormative\n",
    "# A has profession X\n",
    "# (For those that are married, we would expect to see the heteronormative bias showing up via "
   ]
  },
  {
   "cell_type": "code",
   "execution_count": null,
   "id": "8fa9afbe-90dd-4ee7-99c9-a9e3b0d1a0c5",
   "metadata": {},
   "outputs": [],
   "source": [
    "# Optional: Show that the model is more confused about the gender of individuals\n",
    "# with professions that \n",
    "\n"
   ]
  }
 ],
 "metadata": {
  "kernelspec": {
   "display_name": "Python 3",
   "language": "python",
   "name": "python3"
  },
  "language_info": {
   "codemirror_mode": {
    "name": "ipython",
    "version": 3
   },
   "file_extension": ".py",
   "mimetype": "text/x-python",
   "name": "python",
   "nbconvert_exporter": "python",
   "pygments_lexer": "ipython3",
   "version": "3.6.5"
  }
 },
 "nbformat": 4,
 "nbformat_minor": 5
}
