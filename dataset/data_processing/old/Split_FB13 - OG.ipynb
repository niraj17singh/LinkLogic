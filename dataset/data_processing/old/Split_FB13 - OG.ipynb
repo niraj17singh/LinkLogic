{
 "cells": [
  {
   "cell_type": "code",
   "execution_count": 1,
   "id": "8680b939-28b2-43e8-99d3-651e6ada3f80",
   "metadata": {},
   "outputs": [],
   "source": [
    "import pandas as pd\n",
    "import networkx as nx\n",
    "from tqdm import tqdm"
   ]
  },
  {
   "cell_type": "code",
   "execution_count": 2,
   "id": "4e81913e-521a-480b-8dbf-2b7ad55e8ff0",
   "metadata": {},
   "outputs": [],
   "source": [
    "def split_triples(triples, fracs):\n",
    "    assert len(fracs) == 3\n",
    "    assert sum(fracs) == 1\n",
    "    \n",
    "    train, remainder = split_triples_into_two(triples, fracs[0])\n",
    "    valid, test = split_triples_into_two(remainder, fracs[1]/(fracs[1] + fracs[2]))\n",
    "    \n",
    "    return train, valid, test\n",
    "\n",
    "def split_triples_into_two(triples, frac):\n",
    "    group1 = triples.sample(frac=frac, random_state=42)\n",
    "    group2 = triples.drop(group1.index)\n",
    "    assert group1.shape[0] + group2.shape[0] == triples.shape[0]\n",
    "    return group1, group2\n",
    "\n",
    "# Note that we are using Graph instead of MultiDiGraph here since networkx does not support\n",
    "# computing connected components on a directed graph \n",
    "def construct_networkx_object(df_triples, df_entities):\n",
    "    G = nx.Graph()\n",
    "\n",
    "    # add nodes\n",
    "    print('adding nodes')\n",
    "    e_tuples = [(row['name'], {'id': row['id']}) for i, row in df_entities.iterrows()]\n",
    "    G.add_nodes_from(e_tuples)\n",
    "    \n",
    "    # add edges\n",
    "    print('adding edges')\n",
    "    for i, row in tqdm(df_triples.iterrows(), total=df_triples.shape[0]):\n",
    "        G.add_edge(row.e1, row.e2, relation=row.rel)\n",
    "        \n",
    "    assert nx.number_of_nodes(G) == df_entities.shape[0]\n",
    "        \n",
    "    return G\n",
    "\n",
    "def restrict_triples_to_entities(triples, entities_to_keep):\n",
    "    assert all(triples.columns == ['e1', 'rel', 'e2'])\n",
    "    \n",
    "    idx_to_keep = []\n",
    "    for idx, row in triples.iterrows():\n",
    "        if row.e1 in entities_to_keep and row.e2 in entities_to_keep:\n",
    "            idx_to_keep.append(idx)\n",
    "    \n",
    "    print(f'Keeping {len(idx_to_keep)} rows out of {triples.shape[0]}')\n",
    "    \n",
    "    return triples.loc[idx_to_keep,]\n",
    "\n",
    "def get_all_entities_from_triples(triples):\n",
    "    return set(triples.e1).union(set(triples.e2))"
   ]
  },
  {
   "cell_type": "markdown",
   "id": "a8fa0171-96cd-4f81-991a-609f13f56980",
   "metadata": {},
   "source": [
    "### Read in the full set of triples and split randomly (80/10/10)"
   ]
  },
  {
   "cell_type": "code",
   "execution_count": 3,
   "id": "6af94751-de0f-4b5e-9b6f-7cee43aafd6e",
   "metadata": {},
   "outputs": [
    {
     "data": {
      "text/plain": [
       "gender            66663\n",
       "nationality       54451\n",
       "profession        54182\n",
       "place_of_death    40579\n",
       "place_of_birth    37970\n",
       "location          28783\n",
       "institution       18358\n",
       "cause_of_death    12857\n",
       "religion           9635\n",
       "parents            6268\n",
       "children           6041\n",
       "ethnicity          5622\n",
       "spouse             4464\n",
       "Name: rel, dtype: int64"
      ]
     },
     "execution_count": 3,
     "metadata": {},
     "output_type": "execute_result"
    }
   ],
   "source": [
    "data_dir = '../data/fb13/'\n",
    "graph = pd.read_csv(f'{data_dir}/graph.txt', sep='\\t', names=['e1', 'rel', 'e2'])\n",
    "graph.rel.value_counts()"
   ]
  },
  {
   "cell_type": "code",
   "execution_count": 4,
   "id": "6466a4b5-ba46-4910-8144-01509ae81665",
   "metadata": {},
   "outputs": [],
   "source": [
    "train, valid, test = split_triples(graph, fracs=[0.8, 0.1, 0.1])\n",
    "#train.rel.value_counts()\n",
    "#valid.rel.value_counts()\n",
    "#test.rel.value_counts()"
   ]
  },
  {
   "cell_type": "markdown",
   "id": "3df2452d-ec5a-4e37-ae50-4f7c2914ce3d",
   "metadata": {},
   "source": [
    "### Identify largest connected component in training data and restrict all splits to entities from this component"
   ]
  },
  {
   "cell_type": "code",
   "execution_count": 5,
   "id": "ec3a9843-dafb-4ec2-9eb6-c2184292fbc5",
   "metadata": {},
   "outputs": [
    {
     "name": "stdout",
     "output_type": "stream",
     "text": [
      "adding nodes\n"
     ]
    },
    {
     "name": "stderr",
     "output_type": "stream",
     "text": [
      "  1%|          | 1811/276698 [00:00<00:30, 9064.06it/s]"
     ]
    },
    {
     "name": "stdout",
     "output_type": "stream",
     "text": [
      "adding edges\n"
     ]
    },
    {
     "name": "stderr",
     "output_type": "stream",
     "text": [
      "100%|██████████| 276698/276698 [00:30<00:00, 8993.24it/s]\n"
     ]
    }
   ],
   "source": [
    "# Read in entity info and construct networkX object from training data\n",
    "entities = pd.read_csv(f'{data_dir}/entity2id.txt', sep='\\t', names=['name', 'id'])\n",
    "G = construct_networkx_object(train, entities)"
   ]
  },
  {
   "cell_type": "code",
   "execution_count": 6,
   "id": "1d83f415-2f65-48d6-8925-7f2ff8a786fc",
   "metadata": {},
   "outputs": [
    {
     "data": {
      "text/plain": [
       "[74845]"
      ]
     },
     "execution_count": 6,
     "metadata": {},
     "output_type": "execute_result"
    }
   ],
   "source": [
    "# Identify largest connected component of this\n",
    "largest_component = max(nx.connected_components(G), key=len)\n",
    "G_connected = G.subgraph(largest_component).copy()\n",
    "\n",
    "# Confirm that this is a single connected component\n",
    "[len(c) for c in sorted(nx.connected_components(G_connected), key=len, reverse=True)]"
   ]
  },
  {
   "cell_type": "code",
   "execution_count": 7,
   "id": "2b487156-5bc4-401b-90f1-208781439b62",
   "metadata": {},
   "outputs": [],
   "source": [
    "# Extract the nodes from this component and confirm that there are fewer than in the original graph\n",
    "entities_to_keep = set(G_connected.nodes())\n",
    "all_entities = set(G.nodes())\n",
    "assert len(entities_to_keep) < len(all_entities)"
   ]
  },
  {
   "cell_type": "code",
   "execution_count": 14,
   "id": "5ad5ccc4-1a74-4891-bdf9-79d9fb340e54",
   "metadata": {
    "tags": []
   },
   "outputs": [
    {
     "name": "stdout",
     "output_type": "stream",
     "text": [
      "Keeping 276690 rows out of 276698\n",
      "Keeping 34292 rows out of 34588\n",
      "Keeping 34287 rows out of 34587\n"
     ]
    }
   ],
   "source": [
    "# Filter train, valid, test, and entities based on this\n",
    "train_filtered = restrict_triples_to_entities(train, entities_to_keep)\n",
    "valid_filtered = restrict_triples_to_entities(valid, entities_to_keep)\n",
    "test_filtered = restrict_triples_to_entities(test, entities_to_keep)\n",
    "entities_filtered = entities[entities.name.isin(entities_to_keep)]"
   ]
  },
  {
   "cell_type": "code",
   "execution_count": 15,
   "id": "a224640d-4f7d-4563-9fc9-f89e37196a41",
   "metadata": {},
   "outputs": [],
   "source": [
    "# Confirm that valid and test entities are a subset of train entities\n",
    "train_entities = get_all_entities_from_triples(train_filtered)\n",
    "valid_entities = get_all_entities_from_triples(valid_filtered)\n",
    "test_entities = get_all_entities_from_triples(test_filtered)\n",
    "assert valid_entities.issubset(train_entities)\n",
    "assert test_entities.issubset(train_entities)"
   ]
  },
  {
   "cell_type": "code",
   "execution_count": 30,
   "id": "fb4ab729-2644-44ce-b425-9dff33163232",
   "metadata": {},
   "outputs": [
    {
     "name": "stderr",
     "output_type": "stream",
     "text": [
      "/Users/rhodos/.pyenv/versions/3.6.5/envs/akbc/lib/python3.6/site-packages/pandas/core/generic.py:5170: SettingWithCopyWarning: \n",
      "A value is trying to be set on a copy of a slice from a DataFrame.\n",
      "Try using .loc[row_indexer,col_indexer] = value instead\n",
      "\n",
      "See the caveats in the documentation: https://pandas.pydata.org/pandas-docs/stable/user_guide/indexing.html#returning-a-view-versus-a-copy\n",
      "  self[name] = value\n"
     ]
    }
   ],
   "source": [
    "# Reset entity id mapping\n",
    "entities_filtered.id = range(74845)"
   ]
  },
  {
   "cell_type": "code",
   "execution_count": 31,
   "id": "0dd58492-b639-4996-abd7-1df62142afb8",
   "metadata": {},
   "outputs": [],
   "source": [
    "# Write to file\n",
    "train_filtered.to_csv(f'{data_dir}resplit/train.txt', sep='\\t', index=False, header=None)\n",
    "valid_filtered.to_csv(f'{data_dir}resplit/valid.txt', sep='\\t', index=False, header=None)\n",
    "test_filtered.to_csv(f'{data_dir}resplit/test.txt', sep='\\t', index=False, header=None)\n",
    "entities_filtered.to_csv(f'{data_dir}resplit/entity2id.txt', sep='\\t', index=False, header=None)"
   ]
  }
 ],
 "metadata": {
  "kernelspec": {
   "display_name": "Python 3",
   "language": "python",
   "name": "python3"
  },
  "language_info": {
   "codemirror_mode": {
    "name": "ipython",
    "version": 3
   },
   "file_extension": ".py",
   "mimetype": "text/x-python",
   "name": "python",
   "nbconvert_exporter": "python",
   "pygments_lexer": "ipython3",
   "version": "3.6.5"
  }
 },
 "nbformat": 4,
 "nbformat_minor": 5
}
