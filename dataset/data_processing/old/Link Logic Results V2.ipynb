{
 "cells": [
  {
   "cell_type": "code",
   "execution_count": 1,
   "id": "da8e85f2-e038-4c75-81de-f71e6d643380",
   "metadata": {},
   "outputs": [],
   "source": [
    "import pickle5 as pickle\n",
    "import json\n",
    "from sklearn.metrics import ndcg_score\n",
    "import pandas as pd\n",
    "from scipy.stats import wilcoxon\n",
    "import plotly.express as px\n",
    "from collections import defaultdict\n",
    "import math"
   ]
  },
  {
   "cell_type": "code",
   "execution_count": 2,
   "id": "047631dd-b855-4760-b87a-45317d1764b2",
   "metadata": {},
   "outputs": [],
   "source": [
    "# settings\n",
    "plot_individual_results = False"
   ]
  },
  {
   "cell_type": "markdown",
   "id": "2a677261-4140-4c87-ad82-71a32a3f68fc",
   "metadata": {},
   "source": [
    "Load prediction explanations and benchmark"
   ]
  },
  {
   "cell_type": "code",
   "execution_count": 3,
   "id": "70e24a40-a34a-4b9b-bd8f-599775f47fcd",
   "metadata": {},
   "outputs": [],
   "source": [
    "with open('../../data/commonsense_benchmark/v2/commonsense_benchmark_for_analysis.json', 'r') as f:\n",
    "    benchmark = json.load(f)"
   ]
  },
  {
   "cell_type": "code",
   "execution_count": 5,
   "id": "ec91cbca-db34-4cc8-99b8-858200a29ee0",
   "metadata": {
    "tags": []
   },
   "outputs": [],
   "source": [
    "results_dir = '../../results/linklogic/v2/'\n",
    "\n",
    "results = dict()\n",
    "decoder = 'ComplEx'\n",
    "hop_settings = ['1hop', '2hop', 'all']\n",
    "\n",
    "for hops in hop_settings:\n",
    "    with open(f'{results_dir}/parents_analysis_{decoder}_{hops}_logsum_True_alpha_0.1.pickle', 'rb') as f:\n",
    "        results[hops] = pickle.load(f)"
   ]
  },
  {
   "cell_type": "markdown",
   "id": "8f5072ba-abff-4c68-abd3-34582db02f64",
   "metadata": {},
   "source": [
    "Utility functions"
   ]
  },
  {
   "cell_type": "code",
   "execution_count": 6,
   "id": "353a0359-aadc-4f1a-9836-56ba76feb759",
   "metadata": {},
   "outputs": [],
   "source": [
    "def get_results_for_query_triple(results, triple):\n",
    "    out = None\n",
    "    for i, res in enumerate(results):\n",
    "        if res['query_triple'] == triple:\n",
    "            out = res\n",
    "            break\n",
    "    #if out is None:\n",
    "    #    print('Warning: did not find query triple in results')\n",
    "    return out\n",
    "\n",
    "def stringify_path(path):\n",
    "    return '--'.join(path)\n",
    "\n",
    "def extract_feature_df_from_results(res, bmk_df):\n",
    "    rows = []\n",
    "    for f in res:\n",
    "        path = stringify_path(f['path'])\n",
    "        path_score = f['kge_score']['path_score']\n",
    "        coef = f['coef']\n",
    "        rows.append({'path': path,\n",
    "                   'coefficient': coef,\n",
    "                   'coefficient_product': coef*path_score,\n",
    "                   'baseline_path_score': path_score,\n",
    "                   'label': int(path in set(bmk_df.path))})\n",
    "    df = pd.DataFrame(rows)\n",
    "    df['random'] = 0\n",
    "    df = df.merge(bmk_df, on='path', how='left')\n",
    "    df['bmk_confidence'] = df['bmk_confidence'].fillna(0)\n",
    "    return df\n",
    "\n",
    "def extract_bmk_paths_as_df(bmk):\n",
    "    rows = []\n",
    "    for p in bmk['explanatory_paths']:\n",
    "        row = {'path': stringify_path(p['path']),\n",
    "               'bmk_confidence': p['confidence'],\n",
    "               'bmk_category': p['category']}\n",
    "        rows.append(row)\n",
    "    return pd.DataFrame(rows)\n",
    "    \n",
    "def mean_diffs_by_confidence(df):\n",
    "    if has_multi_confidence_bmks(df):     \n",
    "        levels = set(df.bmk_confidence).difference({0})\n",
    "        assert len(levels) == 2\n",
    "        low_confidence = str(min(levels))\n",
    "        high_confidence = str(max(levels))\n",
    "        all_means = mean_by_confidence(df, column='coefficient')\n",
    "        diff = all_means[high_confidence] - all_means[low_confidence]\n",
    "    else:\n",
    "        diff = math.nan\n",
    "    return diff\n",
    "\n",
    "def mean_by_confidence(df, column='coefficient'):\n",
    "    levels = set(df.bmk_confidence)\n",
    "    means = dict()\n",
    "    for level in levels:\n",
    "        means[str(level)] = df.loc[df.bmk_confidence == level, column].mean()\n",
    "    return means\n",
    "\n",
    "def has_multi_confidence_bmks(df):\n",
    "    return len(set(df.bmk_confidence).difference({0})) > 1\n",
    "\n",
    "def get_bmk_results(df):\n",
    "    return df[df.label == 1]"
   ]
  },
  {
   "cell_type": "markdown",
   "id": "ac41f821-fe36-49a2-b1c6-2e7258d5ea76",
   "metadata": {},
   "source": [
    "Compute metrics"
   ]
  },
  {
   "cell_type": "code",
   "execution_count": 9,
   "id": "a0e112f2-695e-4bd8-bfaf-ed97995b02d3",
   "metadata": {
    "tags": []
   },
   "outputs": [],
   "source": [
    "# compute metrics\n",
    "metrics = []\n",
    "df = defaultdict(dict)\n",
    "\n",
    "for i, bmk in enumerate(benchmark):\n",
    "    \n",
    "    if bmk['category'] == 'location':\n",
    "        continue\n",
    "        \n",
    "    triple = bmk['query_triple']\n",
    "    s_triple = stringify_path(triple)\n",
    "    \n",
    "    bmk_df = extract_bmk_paths_as_df(bmk)\n",
    "    num_true = bmk_df.shape[0]\n",
    "    \n",
    "    for hops in hop_settings:\n",
    "\n",
    "        res = get_results_for_query_triple(results[hops], triple)\n",
    "\n",
    "        if res:\n",
    "            feature_df = extract_feature_df_from_results(res['linklogic_features'], bmk_df) \n",
    "            num_true_candidates = feature_df['label'].sum()\n",
    "\n",
    "            if num_true_candidates > 0:\n",
    "                y_true = [feature_df['label']]\n",
    "                fidelity_train = res['linklogic_metrics']['train_acc']\n",
    "                fidelity_test = res['linklogic_metrics']['test_acc']\n",
    "                kge_score = float(res['query_triple_kge_score'])\n",
    "                coef_differential = mean_diffs_by_confidence(feature_df)\n",
    "                coef_means = mean_by_confidence(feature_df, column='coefficient')\n",
    "                metrics.append({'hops': hops,\n",
    "                                'raw_score': ndcg_score(y_true=y_true, y_score=[feature_df['baseline_path_score']]),\n",
    "                                'linklogic': ndcg_score(y_true=y_true, y_score=[feature_df['coefficient']]),\n",
    "                                'linklogic_product': ndcg_score(y_true=y_true, y_score=[feature_df['coefficient_product']]),\n",
    "                                'random': ndcg_score(y_true=y_true, y_score = [feature_df['random']]),\n",
    "                                'coef_differential': coef_differential,\n",
    "                                'coef_non_benchmark': coef_means.get('0.0'),\n",
    "                                'coef_benchmark_1': coef_means.get('1.0'),\n",
    "                                'coef_benchmark_2': coef_means.get('2.0'),\n",
    "                                'coef_benchmark_3': coef_means.get('3.0'),\n",
    "                                'num_true': num_true_candidates,\n",
    "                                'query_triple': s_triple,\n",
    "                                'query_triple_kge_score': kge_score,\n",
    "                                'fidelity_train': fidelity_train,\n",
    "                                'fidelity': fidelity_test})\n",
    "\n",
    "                if plot_individual_results:\n",
    "                    fig = px.scatter(feature_df, x='baseline_path_score', y='coefficient', color='label', hover_data=[\"path\"], title=f'{hops} features: {s_triple}')\n",
    "                    fig.show()\n",
    "                \n",
    "M = pd.DataFrame(metrics)        "
   ]
  },
  {
   "cell_type": "code",
   "execution_count": 27,
   "id": "308fcfb9-0a1c-4f3f-ba92-bc85cb84f5b6",
   "metadata": {},
   "outputs": [
    {
     "data": {
      "application/vnd.plotly.v1+json": {
       "config": {
        "plotlyServerURL": "https://plot.ly"
       },
       "data": [
        {
         "alignmentgroup": "True",
         "hovertemplate": "variable=%{x}<br>mean coefficient value=%{y}<extra></extra>",
         "legendgroup": "",
         "marker": {
          "color": "#636efa"
         },
         "name": "",
         "notched": false,
         "offsetgroup": "",
         "orientation": "v",
         "showlegend": false,
         "type": "box",
         "x": [
          "coef_non_benchmark",
          "coef_non_benchmark",
          "coef_non_benchmark",
          "coef_non_benchmark",
          "coef_non_benchmark",
          "coef_non_benchmark",
          "coef_non_benchmark",
          "coef_non_benchmark",
          "coef_non_benchmark",
          "coef_non_benchmark",
          "coef_non_benchmark",
          "coef_non_benchmark",
          "coef_non_benchmark",
          "coef_non_benchmark",
          "coef_non_benchmark",
          "coef_non_benchmark",
          "coef_non_benchmark",
          "coef_non_benchmark",
          "coef_non_benchmark",
          "coef_non_benchmark",
          "coef_non_benchmark",
          "coef_non_benchmark",
          "coef_non_benchmark",
          "coef_non_benchmark",
          "coef_non_benchmark",
          "coef_non_benchmark",
          "coef_non_benchmark",
          "coef_non_benchmark",
          "coef_non_benchmark",
          "coef_non_benchmark",
          "coef_non_benchmark",
          "coef_non_benchmark",
          "coef_non_benchmark",
          "coef_non_benchmark",
          "coef_non_benchmark",
          "coef_non_benchmark",
          "coef_non_benchmark",
          "coef_non_benchmark",
          "coef_non_benchmark",
          "coef_non_benchmark",
          "coef_non_benchmark",
          "coef_non_benchmark",
          "coef_non_benchmark",
          "coef_non_benchmark",
          "coef_non_benchmark",
          "coef_non_benchmark",
          "coef_non_benchmark",
          "coef_non_benchmark",
          "coef_non_benchmark",
          "coef_non_benchmark",
          "coef_non_benchmark",
          "coef_non_benchmark",
          "coef_non_benchmark",
          "coef_non_benchmark",
          "coef_non_benchmark",
          "coef_non_benchmark",
          "coef_non_benchmark",
          "coef_non_benchmark",
          "coef_non_benchmark",
          "coef_non_benchmark",
          "coef_non_benchmark",
          "coef_non_benchmark",
          "coef_non_benchmark",
          "coef_non_benchmark",
          "coef_non_benchmark",
          "coef_non_benchmark",
          "coef_non_benchmark",
          "coef_non_benchmark",
          "coef_non_benchmark",
          "coef_non_benchmark",
          "coef_non_benchmark",
          "coef_non_benchmark",
          "coef_non_benchmark",
          "coef_non_benchmark",
          "coef_non_benchmark",
          "coef_non_benchmark",
          "coef_non_benchmark",
          "coef_non_benchmark",
          "coef_non_benchmark",
          "coef_non_benchmark",
          "coef_non_benchmark",
          "coef_non_benchmark",
          "coef_non_benchmark",
          "coef_non_benchmark",
          "coef_non_benchmark",
          "coef_non_benchmark",
          "coef_non_benchmark",
          "coef_non_benchmark",
          "coef_non_benchmark",
          "coef_non_benchmark",
          "coef_non_benchmark",
          "coef_non_benchmark",
          "coef_non_benchmark",
          "coef_non_benchmark",
          "coef_non_benchmark",
          "coef_non_benchmark",
          "coef_non_benchmark",
          "coef_non_benchmark",
          "coef_non_benchmark",
          "coef_non_benchmark",
          "coef_non_benchmark",
          "coef_non_benchmark",
          "coef_non_benchmark",
          "coef_non_benchmark",
          "coef_non_benchmark",
          "coef_non_benchmark",
          "coef_non_benchmark",
          "coef_non_benchmark",
          "coef_non_benchmark",
          "coef_non_benchmark",
          "coef_non_benchmark",
          "coef_non_benchmark",
          "coef_non_benchmark",
          "coef_non_benchmark",
          "coef_non_benchmark",
          "coef_non_benchmark",
          "coef_non_benchmark",
          "coef_non_benchmark",
          "coef_non_benchmark",
          "coef_non_benchmark",
          "coef_non_benchmark",
          "coef_non_benchmark",
          "coef_non_benchmark",
          "coef_non_benchmark",
          "coef_non_benchmark",
          "coef_non_benchmark",
          "coef_non_benchmark",
          "coef_non_benchmark",
          "coef_benchmark_2",
          "coef_benchmark_2",
          "coef_benchmark_2",
          "coef_benchmark_2",
          "coef_benchmark_2",
          "coef_benchmark_2",
          "coef_benchmark_2",
          "coef_benchmark_2",
          "coef_benchmark_2",
          "coef_benchmark_2",
          "coef_benchmark_2",
          "coef_benchmark_2",
          "coef_benchmark_2",
          "coef_benchmark_2",
          "coef_benchmark_2",
          "coef_benchmark_2",
          "coef_benchmark_2",
          "coef_benchmark_2",
          "coef_benchmark_2",
          "coef_benchmark_2",
          "coef_benchmark_2",
          "coef_benchmark_2",
          "coef_benchmark_2",
          "coef_benchmark_2",
          "coef_benchmark_2",
          "coef_benchmark_2",
          "coef_benchmark_2",
          "coef_benchmark_2",
          "coef_benchmark_2",
          "coef_benchmark_2",
          "coef_benchmark_2",
          "coef_benchmark_2",
          "coef_benchmark_2",
          "coef_benchmark_2",
          "coef_benchmark_2",
          "coef_benchmark_2",
          "coef_benchmark_2",
          "coef_benchmark_2",
          "coef_benchmark_2",
          "coef_benchmark_2",
          "coef_benchmark_2",
          "coef_benchmark_2",
          "coef_benchmark_2",
          "coef_benchmark_2",
          "coef_benchmark_2",
          "coef_benchmark_2",
          "coef_benchmark_2",
          "coef_benchmark_2",
          "coef_benchmark_2",
          "coef_benchmark_2",
          "coef_benchmark_2",
          "coef_benchmark_2",
          "coef_benchmark_2",
          "coef_benchmark_2",
          "coef_benchmark_2",
          "coef_benchmark_2",
          "coef_benchmark_2",
          "coef_benchmark_2",
          "coef_benchmark_2",
          "coef_benchmark_2",
          "coef_benchmark_2",
          "coef_benchmark_2",
          "coef_benchmark_2",
          "coef_benchmark_2",
          "coef_benchmark_2",
          "coef_benchmark_2",
          "coef_benchmark_2",
          "coef_benchmark_2",
          "coef_benchmark_2",
          "coef_benchmark_2",
          "coef_benchmark_2",
          "coef_benchmark_2",
          "coef_benchmark_2",
          "coef_benchmark_2",
          "coef_benchmark_2",
          "coef_benchmark_2",
          "coef_benchmark_2",
          "coef_benchmark_2",
          "coef_benchmark_2",
          "coef_benchmark_2",
          "coef_benchmark_2",
          "coef_benchmark_2",
          "coef_benchmark_2",
          "coef_benchmark_2",
          "coef_benchmark_2",
          "coef_benchmark_2",
          "coef_benchmark_2",
          "coef_benchmark_2",
          "coef_benchmark_2",
          "coef_benchmark_2",
          "coef_benchmark_2",
          "coef_benchmark_2",
          "coef_benchmark_2",
          "coef_benchmark_2",
          "coef_benchmark_2",
          "coef_benchmark_2",
          "coef_benchmark_2",
          "coef_benchmark_2",
          "coef_benchmark_2",
          "coef_benchmark_2",
          "coef_benchmark_2",
          "coef_benchmark_2",
          "coef_benchmark_2",
          "coef_benchmark_2",
          "coef_benchmark_2",
          "coef_benchmark_2",
          "coef_benchmark_2",
          "coef_benchmark_2",
          "coef_benchmark_2",
          "coef_benchmark_2",
          "coef_benchmark_2",
          "coef_benchmark_2",
          "coef_benchmark_2",
          "coef_benchmark_2",
          "coef_benchmark_2",
          "coef_benchmark_2",
          "coef_benchmark_2",
          "coef_benchmark_2",
          "coef_benchmark_2",
          "coef_benchmark_2",
          "coef_benchmark_2",
          "coef_benchmark_2",
          "coef_benchmark_2",
          "coef_benchmark_2",
          "coef_benchmark_2",
          "coef_benchmark_2",
          "coef_benchmark_2",
          "coef_benchmark_2",
          "coef_benchmark_3",
          "coef_benchmark_3",
          "coef_benchmark_3",
          "coef_benchmark_3",
          "coef_benchmark_3",
          "coef_benchmark_3",
          "coef_benchmark_3",
          "coef_benchmark_3",
          "coef_benchmark_3",
          "coef_benchmark_3",
          "coef_benchmark_3",
          "coef_benchmark_3",
          "coef_benchmark_3",
          "coef_benchmark_3",
          "coef_benchmark_3",
          "coef_benchmark_3",
          "coef_benchmark_3",
          "coef_benchmark_3",
          "coef_benchmark_3",
          "coef_benchmark_3",
          "coef_benchmark_3",
          "coef_benchmark_3",
          "coef_benchmark_3",
          "coef_benchmark_3",
          "coef_benchmark_3",
          "coef_benchmark_3",
          "coef_benchmark_3",
          "coef_benchmark_3",
          "coef_benchmark_3",
          "coef_benchmark_3",
          "coef_benchmark_3",
          "coef_benchmark_3",
          "coef_benchmark_3",
          "coef_benchmark_3",
          "coef_benchmark_3",
          "coef_benchmark_3",
          "coef_benchmark_3",
          "coef_benchmark_3",
          "coef_benchmark_3",
          "coef_benchmark_3",
          "coef_benchmark_3",
          "coef_benchmark_3",
          "coef_benchmark_3",
          "coef_benchmark_3",
          "coef_benchmark_3",
          "coef_benchmark_3",
          "coef_benchmark_3",
          "coef_benchmark_3",
          "coef_benchmark_3",
          "coef_benchmark_3",
          "coef_benchmark_3",
          "coef_benchmark_3",
          "coef_benchmark_3",
          "coef_benchmark_3",
          "coef_benchmark_3",
          "coef_benchmark_3",
          "coef_benchmark_3",
          "coef_benchmark_3",
          "coef_benchmark_3",
          "coef_benchmark_3",
          "coef_benchmark_3",
          "coef_benchmark_3",
          "coef_benchmark_3",
          "coef_benchmark_3",
          "coef_benchmark_3",
          "coef_benchmark_3",
          "coef_benchmark_3",
          "coef_benchmark_3",
          "coef_benchmark_3",
          "coef_benchmark_3",
          "coef_benchmark_3",
          "coef_benchmark_3",
          "coef_benchmark_3",
          "coef_benchmark_3",
          "coef_benchmark_3",
          "coef_benchmark_3",
          "coef_benchmark_3",
          "coef_benchmark_3",
          "coef_benchmark_3",
          "coef_benchmark_3",
          "coef_benchmark_3",
          "coef_benchmark_3",
          "coef_benchmark_3",
          "coef_benchmark_3",
          "coef_benchmark_3",
          "coef_benchmark_3",
          "coef_benchmark_3",
          "coef_benchmark_3",
          "coef_benchmark_3",
          "coef_benchmark_3",
          "coef_benchmark_3",
          "coef_benchmark_3",
          "coef_benchmark_3",
          "coef_benchmark_3",
          "coef_benchmark_3",
          "coef_benchmark_3",
          "coef_benchmark_3",
          "coef_benchmark_3",
          "coef_benchmark_3",
          "coef_benchmark_3",
          "coef_benchmark_3",
          "coef_benchmark_3",
          "coef_benchmark_3",
          "coef_benchmark_3",
          "coef_benchmark_3",
          "coef_benchmark_3",
          "coef_benchmark_3",
          "coef_benchmark_3",
          "coef_benchmark_3",
          "coef_benchmark_3",
          "coef_benchmark_3",
          "coef_benchmark_3",
          "coef_benchmark_3",
          "coef_benchmark_3",
          "coef_benchmark_3",
          "coef_benchmark_3",
          "coef_benchmark_3",
          "coef_benchmark_3",
          "coef_benchmark_3",
          "coef_benchmark_3",
          "coef_benchmark_3",
          "coef_benchmark_3",
          "coef_benchmark_3",
          "coef_benchmark_3",
          "coef_benchmark_3",
          "coef_benchmark_3",
          "coef_benchmark_3",
          "coef_benchmark_3",
          "coef_differential",
          "coef_differential",
          "coef_differential",
          "coef_differential",
          "coef_differential",
          "coef_differential",
          "coef_differential",
          "coef_differential",
          "coef_differential",
          "coef_differential",
          "coef_differential",
          "coef_differential",
          "coef_differential",
          "coef_differential",
          "coef_differential",
          "coef_differential",
          "coef_differential",
          "coef_differential",
          "coef_differential",
          "coef_differential",
          "coef_differential",
          "coef_differential",
          "coef_differential",
          "coef_differential",
          "coef_differential",
          "coef_differential",
          "coef_differential",
          "coef_differential",
          "coef_differential",
          "coef_differential",
          "coef_differential",
          "coef_differential",
          "coef_differential",
          "coef_differential",
          "coef_differential",
          "coef_differential",
          "coef_differential",
          "coef_differential",
          "coef_differential",
          "coef_differential",
          "coef_differential",
          "coef_differential",
          "coef_differential",
          "coef_differential",
          "coef_differential",
          "coef_differential",
          "coef_differential",
          "coef_differential",
          "coef_differential",
          "coef_differential",
          "coef_differential",
          "coef_differential",
          "coef_differential",
          "coef_differential",
          "coef_differential",
          "coef_differential",
          "coef_differential",
          "coef_differential",
          "coef_differential",
          "coef_differential",
          "coef_differential",
          "coef_differential",
          "coef_differential",
          "coef_differential",
          "coef_differential",
          "coef_differential",
          "coef_differential",
          "coef_differential",
          "coef_differential",
          "coef_differential",
          "coef_differential",
          "coef_differential",
          "coef_differential",
          "coef_differential",
          "coef_differential",
          "coef_differential",
          "coef_differential",
          "coef_differential",
          "coef_differential",
          "coef_differential",
          "coef_differential",
          "coef_differential",
          "coef_differential",
          "coef_differential",
          "coef_differential",
          "coef_differential",
          "coef_differential",
          "coef_differential",
          "coef_differential",
          "coef_differential",
          "coef_differential",
          "coef_differential",
          "coef_differential",
          "coef_differential",
          "coef_differential",
          "coef_differential",
          "coef_differential",
          "coef_differential",
          "coef_differential",
          "coef_differential",
          "coef_differential",
          "coef_differential",
          "coef_differential",
          "coef_differential",
          "coef_differential",
          "coef_differential",
          "coef_differential",
          "coef_differential",
          "coef_differential",
          "coef_differential",
          "coef_differential",
          "coef_differential",
          "coef_differential",
          "coef_differential",
          "coef_differential",
          "coef_differential",
          "coef_differential",
          "coef_differential",
          "coef_differential",
          "coef_differential",
          "coef_differential",
          "coef_differential",
          "coef_differential",
          "coef_differential",
          "coef_differential",
          "coef_differential",
          "coef_differential",
          "coef_differential"
         ],
         "x0": " ",
         "xaxis": "x",
         "y": [
          0.003685129138776964,
          0.008187232503302467,
          0.002261034528552435,
          0.006877985553895487,
          0.004326992728477207,
          0.005683564237582616,
          0.008769993512256756,
          0.003428937044123148,
          0.0057762909928399326,
          0.008777048500086657,
          0.0034340756137874896,
          0.0029900476096071083,
          0.002456718591291923,
          0.0034755799155398396,
          0.006702098780957003,
          0.0018847940495939168,
          0.0054850533290732445,
          0.014337571646022769,
          0.0038205179435909045,
          0.02259556341094086,
          0.011596451281653883,
          0.005278931409310203,
          0.010520552318672906,
          0.0032760084211965954,
          0.010618428573583992,
          0.0075444578420989904,
          0.005358027425555917,
          0.004495100354024184,
          0.009905720007648037,
          0.011263059684117572,
          0.0056415538485573265,
          0.0038742458314738335,
          0.0030757040662505123,
          0.005270809649700541,
          0.012131163154708314,
          0.0034230486597569302,
          0.0054969601274144995,
          0.0291416962834108,
          0.004313287604064636,
          0.007889476604321915,
          0.025603347023688397,
          0.005708728576264593,
          0.005919595793577015,
          0.007154985488763386,
          0.0038140091593041026,
          0.004544121754292735,
          0.004507030133438324,
          0.002516719652540075,
          0.015928448742371714,
          0.012658587341173639,
          0.008311485600722021,
          0.007372213842207261,
          0.00556694660954396,
          0.0020273520839183697,
          0.001900590289390721,
          0.0053360319919103045,
          0.002297428753608656,
          0.003036192967298338,
          0,
          0,
          0.01765874949904228,
          0.010697118590609319,
          0.005633873690706424,
          0,
          0.004436796679119191,
          0.005032891438793131,
          0.005153567414571066,
          0.002770557569397156,
          0.0046725413853395655,
          0.006097428007437255,
          0.002725006276324987,
          0.0043085885437161645,
          0.002430957449314063,
          0.005241206526589594,
          0.006757895190543982,
          0.0027083141224118266,
          0.0048673232157204534,
          0.00490153710104926,
          0.0027788663349624337,
          0.006109811815742744,
          0.0039025465708390924,
          0.005337644050433954,
          0.03229426615182487,
          0.004578507451512535,
          0.006026814970905219,
          0.004526340178264876,
          0.005238611158045639,
          0.003803904549948789,
          0.006155161696655575,
          0.002405517630932195,
          0.003537763104787622,
          0.005301942053355469,
          0.007839139082432792,
          0.0028600463437836753,
          0.005237573865635145,
          0.006478318970920317,
          0.0029394072356340914,
          0.00465918305358482,
          0.017074709389570286,
          0.003725312717131033,
          0.0034598578490363466,
          0.0021392379397841173,
          0.05022797552653983,
          0.012858488369898651,
          0.005139901580213979,
          0.0063806361086929725,
          0.003160073970271024,
          0.00498785846074821,
          0.013541244297637083,
          0.004524198597884417,
          0.006613975661208039,
          0.0036624017703499804,
          0.004636914527880664,
          0.0030427958062700035,
          0.0023661208630698194,
          0.018366819406357433,
          0.012666184576046145,
          0.004667280982442741,
          0.0031023378733453346,
          0.007054998009417086,
          0.0045653154478871374,
          0.005549761591177317,
          0.006311068358136822,
          0.0032677991775244696,
          0.0049061226409759075,
          0.003809792031941138,
          0.0034820045432079573,
          0.002022760330200438,
          0.15765661708692658,
          0.45973822593146096,
          0.05273397551064413,
          0.044007147645593596,
          0.04435888583821269,
          0.0013749549476376466,
          0.43600532874528775,
          0.00089351848539943,
          0.04031464202067856,
          0.4779481259277564,
          0.020326191551218356,
          null,
          null,
          0.11116363679024356,
          0.4981416727686486,
          0.07387631290751316,
          0.015939121795430385,
          0.41803264568709414,
          0.008109110066408479,
          0.6276543743806933,
          0.034393087205682855,
          0.014096087307209126,
          0.3490053743833929,
          0.007036153099236095,
          null,
          null,
          null,
          null,
          1.1640516081510972,
          0,
          0.0004663454804482632,
          0.5641734547091559,
          0.00035399539793021164,
          0,
          0.25910980727608857,
          0,
          null,
          0.24571582655687801,
          0,
          0.1102385630685016,
          0.352021047914019,
          0.037005586101892224,
          0.05752764757621052,
          0.5649602251719514,
          0.01930448455556671,
          0,
          0.5344021037429261,
          0,
          null,
          null,
          null,
          0.7071198213484993,
          0,
          null,
          null,
          0,
          0.6950716334585658,
          0.008611051135207149,
          null,
          null,
          0.6514622280199011,
          0,
          null,
          0.8427041078171407,
          0.03205512670338804,
          0.013068635067096988,
          0.4863000706294909,
          0.009844598745350512,
          0.012266584290682324,
          0.5488650270953197,
          0.008091079934219484,
          0.06740737816349923,
          0.06752037776883128,
          0,
          0.4611162861101135,
          0,
          0.0048386129409226115,
          0.4984252384240502,
          0.004164014986565387,
          null,
          null,
          0,
          0.5836756500751794,
          0,
          0,
          0,
          0.06308661004364358,
          0.06351752122528156,
          1.3542050377006864e-05,
          0.6881823333163158,
          4.1678883238790885e-05,
          0.006094708357741415,
          0.37210356883419826,
          0.005075375825138014,
          0.006042120008758056,
          0.4506732545026382,
          0.004787465122574318,
          0.037281635314904,
          0.3302357632825606,
          0,
          null,
          null,
          0.33465262393034884,
          0,
          0,
          0.4025939493011984,
          0,
          0.24837375316462487,
          0.35438152411279067,
          0,
          0.09680913124523388,
          0.09709078105579855,
          null,
          0.7603232189272893,
          0.08313664967506576,
          0.9030525571204735,
          0,
          0.0612643514022958,
          0.06073906519579567,
          0,
          0,
          0.057607004414231416,
          0.5588529547114907,
          0.02893021439963005,
          null,
          null,
          0.021680334364886165,
          0.021721064043587698,
          0.9723340355981797,
          null,
          0.9717940408057846,
          0.9071554131645984,
          0.9067671391463249,
          0.9048380280311691,
          null,
          0.9056537242462271,
          0.9810130206597533,
          null,
          0.9803768741930374,
          1.2506009100418853,
          1.25068928489826,
          0.8382626233633989,
          null,
          0.8389452111003499,
          1.006803548966798,
          null,
          1.0052112530544752,
          null,
          null,
          0.9617783494256352,
          null,
          0.9618655609805569,
          0.9791365665728949,
          0.9781895906873322,
          1.00013132923469,
          1.0006493191928043,
          null,
          null,
          0.8650235094163298,
          null,
          0.8650060933727439,
          0.9438475246358221,
          null,
          0.9442006900593158,
          1.0357367909376176,
          null,
          1.039583106894743,
          0.8889906997775161,
          null,
          0.8878580237656003,
          0.8812801814832038,
          null,
          0.8810210404562419,
          0.9950269771041208,
          null,
          0.9947515518074976,
          0.7757023350151898,
          0.7756083413479121,
          1.029201041622125,
          null,
          1.0284371360861335,
          1.5701132612993067,
          1.5664156224902936,
          0.9204621649904724,
          null,
          0.914085679156206,
          1.531250674794099,
          1.531250674794099,
          null,
          null,
          1.069715406410774,
          null,
          1.0562542964562214,
          0.8347509568864476,
          null,
          0.8344213897350131,
          1.0515144675982857,
          null,
          1.051838655849858,
          0.87566019811675,
          0.8756931626701272,
          1.068600585817469,
          null,
          1.0683726349945497,
          0.8987659382653842,
          null,
          0.900085490002485,
          0.8427036059538568,
          0.8428054507271936,
          1.117832054702657,
          null,
          1.1184379453894395,
          1.331745622141915,
          1.333934735288099,
          0.918376409673972,
          0.9186330711038254,
          0.8089377133299527,
          null,
          0.808990102210345,
          0.9661227764769671,
          null,
          0.9700089565257348,
          0.9558768490911846,
          null,
          0.9553459287552113,
          0.9839261215346002,
          null,
          0.9816425742236029,
          0.9013063724011422,
          0.9003448269555567,
          null,
          null,
          0.858349975276585,
          null,
          0.858307349118454,
          0.8360508800903906,
          null,
          0.8424260235342806,
          0.5221120839064549,
          0.519988623789905,
          1.0522476776388388,
          null,
          1.0461969695127888,
          null,
          null,
          1.0349899498952608,
          1.0367985442514065,
          0.9335169131029198,
          0.934733784272468,
          0.9295531446882889,
          null,
          0.9286111224782583,
          1.155074308544785,
          1.1550100053692693,
          0.8787228270138294,
          0.8783943314296319,
          0.8146774185112531,
          null,
          0.9190600652951404,
          0.8631482655190048,
          0.8624082533081122,
          0.9034630730835315,
          null,
          0.9047602057608277,
          0.9406983786390747,
          null,
          0.960050682641819,
          null,
          null,
          0.7270989865731553,
          null,
          0.7650688981928367,
          0.9908644271713676,
          null,
          0.9971021429880668,
          null,
          null,
          0.9476822621184261,
          null,
          0.9548294078813208,
          null,
          null,
          null,
          null,
          null,
          null,
          0.8645571639358816,
          null,
          0.8646520979748137,
          0.9438475246358221,
          null,
          0.9442006900593158,
          null,
          null,
          1.039583106894743,
          0.7787521367090144,
          null,
          0.8508524376637081,
          0.8237525339069932,
          null,
          0.8617165559006752,
          0.9950269771041208,
          null,
          0.9947515518074976,
          null,
          null,
          null,
          null,
          1.0284371360861335,
          null,
          null,
          0.9204621649904724,
          null,
          0.9054746280209989,
          null,
          null,
          null,
          null,
          null,
          null,
          1.0241991697528334,
          0.8216823218193506,
          null,
          0.8245767909896626,
          1.0392478833076033,
          null,
          1.0437475759156385,
          0.8082528199532508,
          0.808172784901296,
          1.068600585817469,
          null,
          1.0683726349945497,
          0.8939273253244616,
          null,
          0.8959214750159196,
          null,
          null,
          1.117832054702657,
          null,
          1.1184379453894395,
          1.331745622141915,
          1.333934735288099,
          0.8552897996303285,
          0.8551155498785439,
          0.8089241712795757,
          null,
          0.8089484233271061,
          0.9600280681192257,
          null,
          0.9649335807005968,
          0.9498347290824266,
          null,
          0.950558463632637,
          0.9466444862196962,
          null,
          0.9816425742236029,
          null,
          null,
          null,
          null,
          0.858349975276585,
          null,
          0.858307349118454,
          0.5876771269257658,
          null,
          0.8424260235342806,
          0.42530295266122103,
          0.4228978427341064,
          null,
          null,
          0.9630603198377231,
          null,
          null,
          0.973725598492965,
          0.9760594790556109,
          0.9335169131029198,
          0.934733784272468,
          0.8719461402740575,
          null,
          0.8996809080786282,
          null,
          null,
          0.8570424926489433,
          0.8566732673860442
         ],
         "y0": " ",
         "yaxis": "y"
        }
       ],
       "layout": {
        "boxmode": "group",
        "height": 400,
        "legend": {
         "tracegroupgap": 0
        },
        "template": {
         "data": {
          "bar": [
           {
            "error_x": {
             "color": "#2a3f5f"
            },
            "error_y": {
             "color": "#2a3f5f"
            },
            "marker": {
             "line": {
              "color": "#E5ECF6",
              "width": 0.5
             }
            },
            "type": "bar"
           }
          ],
          "barpolar": [
           {
            "marker": {
             "line": {
              "color": "#E5ECF6",
              "width": 0.5
             }
            },
            "type": "barpolar"
           }
          ],
          "carpet": [
           {
            "aaxis": {
             "endlinecolor": "#2a3f5f",
             "gridcolor": "white",
             "linecolor": "white",
             "minorgridcolor": "white",
             "startlinecolor": "#2a3f5f"
            },
            "baxis": {
             "endlinecolor": "#2a3f5f",
             "gridcolor": "white",
             "linecolor": "white",
             "minorgridcolor": "white",
             "startlinecolor": "#2a3f5f"
            },
            "type": "carpet"
           }
          ],
          "choropleth": [
           {
            "colorbar": {
             "outlinewidth": 0,
             "ticks": ""
            },
            "type": "choropleth"
           }
          ],
          "contour": [
           {
            "colorbar": {
             "outlinewidth": 0,
             "ticks": ""
            },
            "colorscale": [
             [
              0,
              "#0d0887"
             ],
             [
              0.1111111111111111,
              "#46039f"
             ],
             [
              0.2222222222222222,
              "#7201a8"
             ],
             [
              0.3333333333333333,
              "#9c179e"
             ],
             [
              0.4444444444444444,
              "#bd3786"
             ],
             [
              0.5555555555555556,
              "#d8576b"
             ],
             [
              0.6666666666666666,
              "#ed7953"
             ],
             [
              0.7777777777777778,
              "#fb9f3a"
             ],
             [
              0.8888888888888888,
              "#fdca26"
             ],
             [
              1,
              "#f0f921"
             ]
            ],
            "type": "contour"
           }
          ],
          "contourcarpet": [
           {
            "colorbar": {
             "outlinewidth": 0,
             "ticks": ""
            },
            "type": "contourcarpet"
           }
          ],
          "heatmap": [
           {
            "colorbar": {
             "outlinewidth": 0,
             "ticks": ""
            },
            "colorscale": [
             [
              0,
              "#0d0887"
             ],
             [
              0.1111111111111111,
              "#46039f"
             ],
             [
              0.2222222222222222,
              "#7201a8"
             ],
             [
              0.3333333333333333,
              "#9c179e"
             ],
             [
              0.4444444444444444,
              "#bd3786"
             ],
             [
              0.5555555555555556,
              "#d8576b"
             ],
             [
              0.6666666666666666,
              "#ed7953"
             ],
             [
              0.7777777777777778,
              "#fb9f3a"
             ],
             [
              0.8888888888888888,
              "#fdca26"
             ],
             [
              1,
              "#f0f921"
             ]
            ],
            "type": "heatmap"
           }
          ],
          "heatmapgl": [
           {
            "colorbar": {
             "outlinewidth": 0,
             "ticks": ""
            },
            "colorscale": [
             [
              0,
              "#0d0887"
             ],
             [
              0.1111111111111111,
              "#46039f"
             ],
             [
              0.2222222222222222,
              "#7201a8"
             ],
             [
              0.3333333333333333,
              "#9c179e"
             ],
             [
              0.4444444444444444,
              "#bd3786"
             ],
             [
              0.5555555555555556,
              "#d8576b"
             ],
             [
              0.6666666666666666,
              "#ed7953"
             ],
             [
              0.7777777777777778,
              "#fb9f3a"
             ],
             [
              0.8888888888888888,
              "#fdca26"
             ],
             [
              1,
              "#f0f921"
             ]
            ],
            "type": "heatmapgl"
           }
          ],
          "histogram": [
           {
            "marker": {
             "colorbar": {
              "outlinewidth": 0,
              "ticks": ""
             }
            },
            "type": "histogram"
           }
          ],
          "histogram2d": [
           {
            "colorbar": {
             "outlinewidth": 0,
             "ticks": ""
            },
            "colorscale": [
             [
              0,
              "#0d0887"
             ],
             [
              0.1111111111111111,
              "#46039f"
             ],
             [
              0.2222222222222222,
              "#7201a8"
             ],
             [
              0.3333333333333333,
              "#9c179e"
             ],
             [
              0.4444444444444444,
              "#bd3786"
             ],
             [
              0.5555555555555556,
              "#d8576b"
             ],
             [
              0.6666666666666666,
              "#ed7953"
             ],
             [
              0.7777777777777778,
              "#fb9f3a"
             ],
             [
              0.8888888888888888,
              "#fdca26"
             ],
             [
              1,
              "#f0f921"
             ]
            ],
            "type": "histogram2d"
           }
          ],
          "histogram2dcontour": [
           {
            "colorbar": {
             "outlinewidth": 0,
             "ticks": ""
            },
            "colorscale": [
             [
              0,
              "#0d0887"
             ],
             [
              0.1111111111111111,
              "#46039f"
             ],
             [
              0.2222222222222222,
              "#7201a8"
             ],
             [
              0.3333333333333333,
              "#9c179e"
             ],
             [
              0.4444444444444444,
              "#bd3786"
             ],
             [
              0.5555555555555556,
              "#d8576b"
             ],
             [
              0.6666666666666666,
              "#ed7953"
             ],
             [
              0.7777777777777778,
              "#fb9f3a"
             ],
             [
              0.8888888888888888,
              "#fdca26"
             ],
             [
              1,
              "#f0f921"
             ]
            ],
            "type": "histogram2dcontour"
           }
          ],
          "mesh3d": [
           {
            "colorbar": {
             "outlinewidth": 0,
             "ticks": ""
            },
            "type": "mesh3d"
           }
          ],
          "parcoords": [
           {
            "line": {
             "colorbar": {
              "outlinewidth": 0,
              "ticks": ""
             }
            },
            "type": "parcoords"
           }
          ],
          "pie": [
           {
            "automargin": true,
            "type": "pie"
           }
          ],
          "scatter": [
           {
            "marker": {
             "colorbar": {
              "outlinewidth": 0,
              "ticks": ""
             }
            },
            "type": "scatter"
           }
          ],
          "scatter3d": [
           {
            "line": {
             "colorbar": {
              "outlinewidth": 0,
              "ticks": ""
             }
            },
            "marker": {
             "colorbar": {
              "outlinewidth": 0,
              "ticks": ""
             }
            },
            "type": "scatter3d"
           }
          ],
          "scattercarpet": [
           {
            "marker": {
             "colorbar": {
              "outlinewidth": 0,
              "ticks": ""
             }
            },
            "type": "scattercarpet"
           }
          ],
          "scattergeo": [
           {
            "marker": {
             "colorbar": {
              "outlinewidth": 0,
              "ticks": ""
             }
            },
            "type": "scattergeo"
           }
          ],
          "scattergl": [
           {
            "marker": {
             "colorbar": {
              "outlinewidth": 0,
              "ticks": ""
             }
            },
            "type": "scattergl"
           }
          ],
          "scattermapbox": [
           {
            "marker": {
             "colorbar": {
              "outlinewidth": 0,
              "ticks": ""
             }
            },
            "type": "scattermapbox"
           }
          ],
          "scatterpolar": [
           {
            "marker": {
             "colorbar": {
              "outlinewidth": 0,
              "ticks": ""
             }
            },
            "type": "scatterpolar"
           }
          ],
          "scatterpolargl": [
           {
            "marker": {
             "colorbar": {
              "outlinewidth": 0,
              "ticks": ""
             }
            },
            "type": "scatterpolargl"
           }
          ],
          "scatterternary": [
           {
            "marker": {
             "colorbar": {
              "outlinewidth": 0,
              "ticks": ""
             }
            },
            "type": "scatterternary"
           }
          ],
          "surface": [
           {
            "colorbar": {
             "outlinewidth": 0,
             "ticks": ""
            },
            "colorscale": [
             [
              0,
              "#0d0887"
             ],
             [
              0.1111111111111111,
              "#46039f"
             ],
             [
              0.2222222222222222,
              "#7201a8"
             ],
             [
              0.3333333333333333,
              "#9c179e"
             ],
             [
              0.4444444444444444,
              "#bd3786"
             ],
             [
              0.5555555555555556,
              "#d8576b"
             ],
             [
              0.6666666666666666,
              "#ed7953"
             ],
             [
              0.7777777777777778,
              "#fb9f3a"
             ],
             [
              0.8888888888888888,
              "#fdca26"
             ],
             [
              1,
              "#f0f921"
             ]
            ],
            "type": "surface"
           }
          ],
          "table": [
           {
            "cells": {
             "fill": {
              "color": "#EBF0F8"
             },
             "line": {
              "color": "white"
             }
            },
            "header": {
             "fill": {
              "color": "#C8D4E3"
             },
             "line": {
              "color": "white"
             }
            },
            "type": "table"
           }
          ]
         },
         "layout": {
          "annotationdefaults": {
           "arrowcolor": "#2a3f5f",
           "arrowhead": 0,
           "arrowwidth": 1
          },
          "autotypenumbers": "strict",
          "coloraxis": {
           "colorbar": {
            "outlinewidth": 0,
            "ticks": ""
           }
          },
          "colorscale": {
           "diverging": [
            [
             0,
             "#8e0152"
            ],
            [
             0.1,
             "#c51b7d"
            ],
            [
             0.2,
             "#de77ae"
            ],
            [
             0.3,
             "#f1b6da"
            ],
            [
             0.4,
             "#fde0ef"
            ],
            [
             0.5,
             "#f7f7f7"
            ],
            [
             0.6,
             "#e6f5d0"
            ],
            [
             0.7,
             "#b8e186"
            ],
            [
             0.8,
             "#7fbc41"
            ],
            [
             0.9,
             "#4d9221"
            ],
            [
             1,
             "#276419"
            ]
           ],
           "sequential": [
            [
             0,
             "#0d0887"
            ],
            [
             0.1111111111111111,
             "#46039f"
            ],
            [
             0.2222222222222222,
             "#7201a8"
            ],
            [
             0.3333333333333333,
             "#9c179e"
            ],
            [
             0.4444444444444444,
             "#bd3786"
            ],
            [
             0.5555555555555556,
             "#d8576b"
            ],
            [
             0.6666666666666666,
             "#ed7953"
            ],
            [
             0.7777777777777778,
             "#fb9f3a"
            ],
            [
             0.8888888888888888,
             "#fdca26"
            ],
            [
             1,
             "#f0f921"
            ]
           ],
           "sequentialminus": [
            [
             0,
             "#0d0887"
            ],
            [
             0.1111111111111111,
             "#46039f"
            ],
            [
             0.2222222222222222,
             "#7201a8"
            ],
            [
             0.3333333333333333,
             "#9c179e"
            ],
            [
             0.4444444444444444,
             "#bd3786"
            ],
            [
             0.5555555555555556,
             "#d8576b"
            ],
            [
             0.6666666666666666,
             "#ed7953"
            ],
            [
             0.7777777777777778,
             "#fb9f3a"
            ],
            [
             0.8888888888888888,
             "#fdca26"
            ],
            [
             1,
             "#f0f921"
            ]
           ]
          },
          "colorway": [
           "#636efa",
           "#EF553B",
           "#00cc96",
           "#ab63fa",
           "#FFA15A",
           "#19d3f3",
           "#FF6692",
           "#B6E880",
           "#FF97FF",
           "#FECB52"
          ],
          "font": {
           "color": "#2a3f5f"
          },
          "geo": {
           "bgcolor": "white",
           "lakecolor": "white",
           "landcolor": "#E5ECF6",
           "showlakes": true,
           "showland": true,
           "subunitcolor": "white"
          },
          "hoverlabel": {
           "align": "left"
          },
          "hovermode": "closest",
          "mapbox": {
           "style": "light"
          },
          "paper_bgcolor": "white",
          "plot_bgcolor": "#E5ECF6",
          "polar": {
           "angularaxis": {
            "gridcolor": "white",
            "linecolor": "white",
            "ticks": ""
           },
           "bgcolor": "#E5ECF6",
           "radialaxis": {
            "gridcolor": "white",
            "linecolor": "white",
            "ticks": ""
           }
          },
          "scene": {
           "xaxis": {
            "backgroundcolor": "#E5ECF6",
            "gridcolor": "white",
            "gridwidth": 2,
            "linecolor": "white",
            "showbackground": true,
            "ticks": "",
            "zerolinecolor": "white"
           },
           "yaxis": {
            "backgroundcolor": "#E5ECF6",
            "gridcolor": "white",
            "gridwidth": 2,
            "linecolor": "white",
            "showbackground": true,
            "ticks": "",
            "zerolinecolor": "white"
           },
           "zaxis": {
            "backgroundcolor": "#E5ECF6",
            "gridcolor": "white",
            "gridwidth": 2,
            "linecolor": "white",
            "showbackground": true,
            "ticks": "",
            "zerolinecolor": "white"
           }
          },
          "shapedefaults": {
           "line": {
            "color": "#2a3f5f"
           }
          },
          "ternary": {
           "aaxis": {
            "gridcolor": "white",
            "linecolor": "white",
            "ticks": ""
           },
           "baxis": {
            "gridcolor": "white",
            "linecolor": "white",
            "ticks": ""
           },
           "bgcolor": "#E5ECF6",
           "caxis": {
            "gridcolor": "white",
            "linecolor": "white",
            "ticks": ""
           }
          },
          "title": {
           "x": 0.05
          },
          "xaxis": {
           "automargin": true,
           "gridcolor": "white",
           "linecolor": "white",
           "ticks": "",
           "title": {
            "standoff": 15
           },
           "zerolinecolor": "white",
           "zerolinewidth": 2
          },
          "yaxis": {
           "automargin": true,
           "gridcolor": "white",
           "linecolor": "white",
           "ticks": "",
           "title": {
            "standoff": 15
           },
           "zerolinecolor": "white",
           "zerolinewidth": 2
          }
         }
        },
        "title": {
         "text": "Coefficient values for paths by benchmark confidence level"
        },
        "width": 800,
        "xaxis": {
         "anchor": "y",
         "autorange": true,
         "domain": [
          0,
          1
         ],
         "range": [
          -0.5,
          3.5
         ],
         "title": {
          "text": "variable"
         },
         "type": "category"
        },
        "yaxis": {
         "anchor": "x",
         "autorange": true,
         "domain": [
          0,
          1
         ],
         "range": [
          -0.08722851451662815,
          1.6573417758159348
         ],
         "title": {
          "text": "mean coefficient value"
         },
         "type": "linear"
        }
       }
      },
      "image/png": "[encoded data removed]",
      "text/html": [
       "<div>                            <div id=\"065df488-8487-40d3-9af2-4b2429f7750a\" class=\"plotly-graph-div\" style=\"height:400px; width:800px;\"></div>            <script type=\"text/javascript\">                require([\"plotly\"], function(Plotly) {                    window.PLOTLYENV=window.PLOTLYENV || {};                                    if (document.getElementById(\"065df488-8487-40d3-9af2-4b2429f7750a\")) {                    Plotly.newPlot(                        \"065df488-8487-40d3-9af2-4b2429f7750a\",                        [{\"alignmentgroup\": \"True\", \"hovertemplate\": \"variable=%{x}<br>mean coefficient value=%{y}<extra></extra>\", \"legendgroup\": \"\", \"marker\": {\"color\": \"#636efa\"}, \"name\": \"\", \"notched\": false, \"offsetgroup\": \"\", \"orientation\": \"v\", \"showlegend\": false, \"type\": \"box\", \"x\": [\"coef_non_benchmark\", \"coef_non_benchmark\", \"coef_non_benchmark\", \"coef_non_benchmark\", \"coef_non_benchmark\", \"coef_non_benchmark\", \"coef_non_benchmark\", \"coef_non_benchmark\", \"coef_non_benchmark\", \"coef_non_benchmark\", \"coef_non_benchmark\", \"coef_non_benchmark\", \"coef_non_benchmark\", \"coef_non_benchmark\", \"coef_non_benchmark\", \"coef_non_benchmark\", \"coef_non_benchmark\", \"coef_non_benchmark\", \"coef_non_benchmark\", \"coef_non_benchmark\", \"coef_non_benchmark\", \"coef_non_benchmark\", \"coef_non_benchmark\", \"coef_non_benchmark\", \"coef_non_benchmark\", \"coef_non_benchmark\", \"coef_non_benchmark\", \"coef_non_benchmark\", \"coef_non_benchmark\", \"coef_non_benchmark\", \"coef_non_benchmark\", \"coef_non_benchmark\", \"coef_non_benchmark\", \"coef_non_benchmark\", \"coef_non_benchmark\", \"coef_non_benchmark\", \"coef_non_benchmark\", \"coef_non_benchmark\", \"coef_non_benchmark\", \"coef_non_benchmark\", \"coef_non_benchmark\", \"coef_non_benchmark\", \"coef_non_benchmark\", \"coef_non_benchmark\", \"coef_non_benchmark\", \"coef_non_benchmark\", \"coef_non_benchmark\", \"coef_non_benchmark\", \"coef_non_benchmark\", \"coef_non_benchmark\", \"coef_non_benchmark\", \"coef_non_benchmark\", \"coef_non_benchmark\", \"coef_non_benchmark\", \"coef_non_benchmark\", \"coef_non_benchmark\", \"coef_non_benchmark\", \"coef_non_benchmark\", \"coef_non_benchmark\", \"coef_non_benchmark\", \"coef_non_benchmark\", \"coef_non_benchmark\", \"coef_non_benchmark\", \"coef_non_benchmark\", \"coef_non_benchmark\", \"coef_non_benchmark\", \"coef_non_benchmark\", \"coef_non_benchmark\", \"coef_non_benchmark\", \"coef_non_benchmark\", \"coef_non_benchmark\", \"coef_non_benchmark\", \"coef_non_benchmark\", \"coef_non_benchmark\", \"coef_non_benchmark\", \"coef_non_benchmark\", \"coef_non_benchmark\", \"coef_non_benchmark\", \"coef_non_benchmark\", \"coef_non_benchmark\", \"coef_non_benchmark\", \"coef_non_benchmark\", \"coef_non_benchmark\", \"coef_non_benchmark\", \"coef_non_benchmark\", \"coef_non_benchmark\", \"coef_non_benchmark\", \"coef_non_benchmark\", \"coef_non_benchmark\", \"coef_non_benchmark\", \"coef_non_benchmark\", \"coef_non_benchmark\", \"coef_non_benchmark\", \"coef_non_benchmark\", \"coef_non_benchmark\", \"coef_non_benchmark\", \"coef_non_benchmark\", \"coef_non_benchmark\", \"coef_non_benchmark\", \"coef_non_benchmark\", \"coef_non_benchmark\", \"coef_non_benchmark\", \"coef_non_benchmark\", \"coef_non_benchmark\", \"coef_non_benchmark\", \"coef_non_benchmark\", \"coef_non_benchmark\", \"coef_non_benchmark\", \"coef_non_benchmark\", \"coef_non_benchmark\", \"coef_non_benchmark\", \"coef_non_benchmark\", \"coef_non_benchmark\", \"coef_non_benchmark\", \"coef_non_benchmark\", \"coef_non_benchmark\", \"coef_non_benchmark\", \"coef_non_benchmark\", \"coef_non_benchmark\", \"coef_non_benchmark\", \"coef_non_benchmark\", \"coef_non_benchmark\", \"coef_non_benchmark\", \"coef_non_benchmark\", \"coef_non_benchmark\", \"coef_non_benchmark\", \"coef_non_benchmark\", \"coef_non_benchmark\", \"coef_benchmark_2\", \"coef_benchmark_2\", \"coef_benchmark_2\", \"coef_benchmark_2\", \"coef_benchmark_2\", \"coef_benchmark_2\", \"coef_benchmark_2\", \"coef_benchmark_2\", \"coef_benchmark_2\", \"coef_benchmark_2\", \"coef_benchmark_2\", \"coef_benchmark_2\", \"coef_benchmark_2\", \"coef_benchmark_2\", \"coef_benchmark_2\", \"coef_benchmark_2\", \"coef_benchmark_2\", \"coef_benchmark_2\", \"coef_benchmark_2\", \"coef_benchmark_2\", \"coef_benchmark_2\", \"coef_benchmark_2\", \"coef_benchmark_2\", \"coef_benchmark_2\", \"coef_benchmark_2\", \"coef_benchmark_2\", \"coef_benchmark_2\", \"coef_benchmark_2\", \"coef_benchmark_2\", \"coef_benchmark_2\", \"coef_benchmark_2\", \"coef_benchmark_2\", \"coef_benchmark_2\", \"coef_benchmark_2\", \"coef_benchmark_2\", \"coef_benchmark_2\", \"coef_benchmark_2\", \"coef_benchmark_2\", \"coef_benchmark_2\", \"coef_benchmark_2\", \"coef_benchmark_2\", \"coef_benchmark_2\", \"coef_benchmark_2\", \"coef_benchmark_2\", \"coef_benchmark_2\", \"coef_benchmark_2\", \"coef_benchmark_2\", \"coef_benchmark_2\", \"coef_benchmark_2\", \"coef_benchmark_2\", \"coef_benchmark_2\", \"coef_benchmark_2\", \"coef_benchmark_2\", \"coef_benchmark_2\", \"coef_benchmark_2\", \"coef_benchmark_2\", \"coef_benchmark_2\", \"coef_benchmark_2\", \"coef_benchmark_2\", \"coef_benchmark_2\", \"coef_benchmark_2\", \"coef_benchmark_2\", \"coef_benchmark_2\", \"coef_benchmark_2\", \"coef_benchmark_2\", \"coef_benchmark_2\", \"coef_benchmark_2\", \"coef_benchmark_2\", \"coef_benchmark_2\", \"coef_benchmark_2\", \"coef_benchmark_2\", \"coef_benchmark_2\", \"coef_benchmark_2\", \"coef_benchmark_2\", \"coef_benchmark_2\", \"coef_benchmark_2\", \"coef_benchmark_2\", \"coef_benchmark_2\", \"coef_benchmark_2\", \"coef_benchmark_2\", \"coef_benchmark_2\", \"coef_benchmark_2\", \"coef_benchmark_2\", \"coef_benchmark_2\", \"coef_benchmark_2\", \"coef_benchmark_2\", \"coef_benchmark_2\", \"coef_benchmark_2\", \"coef_benchmark_2\", \"coef_benchmark_2\", \"coef_benchmark_2\", \"coef_benchmark_2\", \"coef_benchmark_2\", \"coef_benchmark_2\", \"coef_benchmark_2\", \"coef_benchmark_2\", \"coef_benchmark_2\", \"coef_benchmark_2\", \"coef_benchmark_2\", \"coef_benchmark_2\", \"coef_benchmark_2\", \"coef_benchmark_2\", \"coef_benchmark_2\", \"coef_benchmark_2\", \"coef_benchmark_2\", \"coef_benchmark_2\", \"coef_benchmark_2\", \"coef_benchmark_2\", \"coef_benchmark_2\", \"coef_benchmark_2\", \"coef_benchmark_2\", \"coef_benchmark_2\", \"coef_benchmark_2\", \"coef_benchmark_2\", \"coef_benchmark_2\", \"coef_benchmark_2\", \"coef_benchmark_2\", \"coef_benchmark_2\", \"coef_benchmark_2\", \"coef_benchmark_2\", \"coef_benchmark_2\", \"coef_benchmark_2\", \"coef_benchmark_2\", \"coef_benchmark_2\", \"coef_benchmark_2\", \"coef_benchmark_2\", \"coef_benchmark_2\", \"coef_benchmark_2\", \"coef_benchmark_3\", \"coef_benchmark_3\", \"coef_benchmark_3\", \"coef_benchmark_3\", \"coef_benchmark_3\", \"coef_benchmark_3\", \"coef_benchmark_3\", \"coef_benchmark_3\", \"coef_benchmark_3\", \"coef_benchmark_3\", \"coef_benchmark_3\", \"coef_benchmark_3\", \"coef_benchmark_3\", \"coef_benchmark_3\", \"coef_benchmark_3\", \"coef_benchmark_3\", \"coef_benchmark_3\", \"coef_benchmark_3\", \"coef_benchmark_3\", \"coef_benchmark_3\", \"coef_benchmark_3\", \"coef_benchmark_3\", \"coef_benchmark_3\", \"coef_benchmark_3\", \"coef_benchmark_3\", \"coef_benchmark_3\", \"coef_benchmark_3\", \"coef_benchmark_3\", \"coef_benchmark_3\", \"coef_benchmark_3\", \"coef_benchmark_3\", \"coef_benchmark_3\", \"coef_benchmark_3\", \"coef_benchmark_3\", \"coef_benchmark_3\", \"coef_benchmark_3\", \"coef_benchmark_3\", \"coef_benchmark_3\", \"coef_benchmark_3\", \"coef_benchmark_3\", \"coef_benchmark_3\", \"coef_benchmark_3\", \"coef_benchmark_3\", \"coef_benchmark_3\", \"coef_benchmark_3\", \"coef_benchmark_3\", \"coef_benchmark_3\", \"coef_benchmark_3\", \"coef_benchmark_3\", \"coef_benchmark_3\", \"coef_benchmark_3\", \"coef_benchmark_3\", \"coef_benchmark_3\", \"coef_benchmark_3\", \"coef_benchmark_3\", \"coef_benchmark_3\", \"coef_benchmark_3\", \"coef_benchmark_3\", \"coef_benchmark_3\", \"coef_benchmark_3\", \"coef_benchmark_3\", \"coef_benchmark_3\", \"coef_benchmark_3\", \"coef_benchmark_3\", \"coef_benchmark_3\", \"coef_benchmark_3\", \"coef_benchmark_3\", \"coef_benchmark_3\", \"coef_benchmark_3\", \"coef_benchmark_3\", \"coef_benchmark_3\", \"coef_benchmark_3\", \"coef_benchmark_3\", \"coef_benchmark_3\", \"coef_benchmark_3\", \"coef_benchmark_3\", \"coef_benchmark_3\", \"coef_benchmark_3\", \"coef_benchmark_3\", \"coef_benchmark_3\", \"coef_benchmark_3\", \"coef_benchmark_3\", \"coef_benchmark_3\", \"coef_benchmark_3\", \"coef_benchmark_3\", \"coef_benchmark_3\", \"coef_benchmark_3\", \"coef_benchmark_3\", \"coef_benchmark_3\", \"coef_benchmark_3\", \"coef_benchmark_3\", \"coef_benchmark_3\", \"coef_benchmark_3\", \"coef_benchmark_3\", \"coef_benchmark_3\", \"coef_benchmark_3\", \"coef_benchmark_3\", \"coef_benchmark_3\", \"coef_benchmark_3\", \"coef_benchmark_3\", \"coef_benchmark_3\", \"coef_benchmark_3\", \"coef_benchmark_3\", \"coef_benchmark_3\", \"coef_benchmark_3\", \"coef_benchmark_3\", \"coef_benchmark_3\", \"coef_benchmark_3\", \"coef_benchmark_3\", \"coef_benchmark_3\", \"coef_benchmark_3\", \"coef_benchmark_3\", \"coef_benchmark_3\", \"coef_benchmark_3\", \"coef_benchmark_3\", \"coef_benchmark_3\", \"coef_benchmark_3\", \"coef_benchmark_3\", \"coef_benchmark_3\", \"coef_benchmark_3\", \"coef_benchmark_3\", \"coef_benchmark_3\", \"coef_benchmark_3\", \"coef_benchmark_3\", \"coef_benchmark_3\", \"coef_benchmark_3\", \"coef_benchmark_3\", \"coef_benchmark_3\", \"coef_differential\", \"coef_differential\", \"coef_differential\", \"coef_differential\", \"coef_differential\", \"coef_differential\", \"coef_differential\", \"coef_differential\", \"coef_differential\", \"coef_differential\", \"coef_differential\", \"coef_differential\", \"coef_differential\", \"coef_differential\", \"coef_differential\", \"coef_differential\", \"coef_differential\", \"coef_differential\", \"coef_differential\", \"coef_differential\", \"coef_differential\", \"coef_differential\", \"coef_differential\", \"coef_differential\", \"coef_differential\", \"coef_differential\", \"coef_differential\", \"coef_differential\", \"coef_differential\", \"coef_differential\", \"coef_differential\", \"coef_differential\", \"coef_differential\", \"coef_differential\", \"coef_differential\", \"coef_differential\", \"coef_differential\", \"coef_differential\", \"coef_differential\", \"coef_differential\", \"coef_differential\", \"coef_differential\", \"coef_differential\", \"coef_differential\", \"coef_differential\", \"coef_differential\", \"coef_differential\", \"coef_differential\", \"coef_differential\", \"coef_differential\", \"coef_differential\", \"coef_differential\", \"coef_differential\", \"coef_differential\", \"coef_differential\", \"coef_differential\", \"coef_differential\", \"coef_differential\", \"coef_differential\", \"coef_differential\", \"coef_differential\", \"coef_differential\", \"coef_differential\", \"coef_differential\", \"coef_differential\", \"coef_differential\", \"coef_differential\", \"coef_differential\", \"coef_differential\", \"coef_differential\", \"coef_differential\", \"coef_differential\", \"coef_differential\", \"coef_differential\", \"coef_differential\", \"coef_differential\", \"coef_differential\", \"coef_differential\", \"coef_differential\", \"coef_differential\", \"coef_differential\", \"coef_differential\", \"coef_differential\", \"coef_differential\", \"coef_differential\", \"coef_differential\", \"coef_differential\", \"coef_differential\", \"coef_differential\", \"coef_differential\", \"coef_differential\", \"coef_differential\", \"coef_differential\", \"coef_differential\", \"coef_differential\", \"coef_differential\", \"coef_differential\", \"coef_differential\", \"coef_differential\", \"coef_differential\", \"coef_differential\", \"coef_differential\", \"coef_differential\", \"coef_differential\", \"coef_differential\", \"coef_differential\", \"coef_differential\", \"coef_differential\", \"coef_differential\", \"coef_differential\", \"coef_differential\", \"coef_differential\", \"coef_differential\", \"coef_differential\", \"coef_differential\", \"coef_differential\", \"coef_differential\", \"coef_differential\", \"coef_differential\", \"coef_differential\", \"coef_differential\", \"coef_differential\", \"coef_differential\", \"coef_differential\", \"coef_differential\", \"coef_differential\", \"coef_differential\", \"coef_differential\"], \"x0\": \" \", \"xaxis\": \"x\", \"y\": [0.003685129138776964, 0.008187232503302467, 0.002261034528552435, 0.006877985553895487, 0.004326992728477207, 0.005683564237582616, 0.008769993512256756, 0.003428937044123148, 0.0057762909928399326, 0.008777048500086657, 0.0034340756137874896, 0.0029900476096071083, 0.002456718591291923, 0.0034755799155398396, 0.006702098780957003, 0.0018847940495939168, 0.0054850533290732445, 0.014337571646022769, 0.0038205179435909045, 0.02259556341094086, 0.011596451281653883, 0.005278931409310203, 0.010520552318672906, 0.0032760084211965954, 0.010618428573583992, 0.0075444578420989904, 0.005358027425555917, 0.004495100354024184, 0.009905720007648037, 0.011263059684117572, 0.0056415538485573265, 0.0038742458314738335, 0.0030757040662505123, 0.005270809649700541, 0.012131163154708314, 0.0034230486597569302, 0.0054969601274144995, 0.0291416962834108, 0.004313287604064636, 0.007889476604321915, 0.025603347023688397, 0.005708728576264593, 0.005919595793577015, 0.007154985488763386, 0.0038140091593041026, 0.004544121754292735, 0.004507030133438324, 0.002516719652540075, 0.015928448742371714, 0.012658587341173639, 0.008311485600722021, 0.007372213842207261, 0.00556694660954396, 0.0020273520839183697, 0.001900590289390721, 0.0053360319919103045, 0.002297428753608656, 0.003036192967298338, 0.0, 0.0, 0.01765874949904228, 0.010697118590609319, 0.005633873690706424, 0.0, 0.004436796679119191, 0.005032891438793131, 0.005153567414571066, 0.002770557569397156, 0.0046725413853395655, 0.006097428007437255, 0.002725006276324987, 0.0043085885437161645, 0.002430957449314063, 0.005241206526589594, 0.006757895190543982, 0.0027083141224118266, 0.0048673232157204534, 0.00490153710104926, 0.0027788663349624337, 0.006109811815742744, 0.0039025465708390924, 0.005337644050433954, 0.03229426615182487, 0.004578507451512535, 0.006026814970905219, 0.004526340178264876, 0.005238611158045639, 0.003803904549948789, 0.006155161696655575, 0.002405517630932195, 0.003537763104787622, 0.005301942053355469, 0.007839139082432792, 0.0028600463437836753, 0.005237573865635145, 0.006478318970920317, 0.0029394072356340914, 0.00465918305358482, 0.017074709389570286, 0.003725312717131033, 0.0034598578490363466, 0.0021392379397841173, 0.05022797552653983, 0.012858488369898651, 0.005139901580213979, 0.0063806361086929725, 0.003160073970271024, 0.00498785846074821, 0.013541244297637083, 0.004524198597884417, 0.006613975661208039, 0.0036624017703499804, 0.004636914527880664, 0.0030427958062700035, 0.0023661208630698194, 0.018366819406357433, 0.012666184576046145, 0.004667280982442741, 0.0031023378733453346, 0.007054998009417086, 0.0045653154478871374, 0.005549761591177317, 0.006311068358136822, 0.0032677991775244696, 0.0049061226409759075, 0.003809792031941138, 0.0034820045432079573, 0.002022760330200438, 0.15765661708692658, 0.45973822593146096, 0.05273397551064413, 0.044007147645593596, 0.04435888583821269, 0.0013749549476376466, 0.43600532874528775, 0.00089351848539943, 0.04031464202067856, 0.4779481259277564, 0.020326191551218356, null, null, 0.11116363679024356, 0.4981416727686486, 0.07387631290751316, 0.015939121795430385, 0.41803264568709414, 0.008109110066408479, 0.6276543743806933, 0.034393087205682855, 0.014096087307209126, 0.3490053743833929, 0.007036153099236095, null, null, null, null, 1.1640516081510972, 0.0, 0.0004663454804482632, 0.5641734547091559, 0.00035399539793021164, 0.0, 0.25910980727608857, 0.0, null, 0.24571582655687801, 0.0, 0.1102385630685016, 0.352021047914019, 0.037005586101892224, 0.05752764757621052, 0.5649602251719514, 0.01930448455556671, 0.0, 0.5344021037429261, 0.0, null, null, null, 0.7071198213484993, 0.0, null, null, 0.0, 0.6950716334585658, 0.008611051135207149, null, null, 0.6514622280199011, 0.0, null, 0.8427041078171407, 0.03205512670338804, 0.013068635067096988, 0.4863000706294909, 0.009844598745350512, 0.012266584290682324, 0.5488650270953197, 0.008091079934219484, 0.06740737816349923, 0.06752037776883128, 0.0, 0.4611162861101135, 0.0, 0.0048386129409226115, 0.4984252384240502, 0.004164014986565387, null, null, 0.0, 0.5836756500751794, 0.0, 0.0, 0.0, 0.06308661004364358, 0.06351752122528156, 1.3542050377006864e-05, 0.6881823333163158, 4.1678883238790885e-05, 0.006094708357741415, 0.37210356883419826, 0.005075375825138014, 0.006042120008758056, 0.4506732545026382, 0.004787465122574318, 0.037281635314904, 0.3302357632825606, 0.0, null, null, 0.33465262393034884, 0.0, 0.0, 0.4025939493011984, 0.0, 0.24837375316462487, 0.35438152411279067, 0.0, 0.09680913124523388, 0.09709078105579855, null, 0.7603232189272893, 0.08313664967506576, 0.9030525571204735, 0.0, 0.0612643514022958, 0.06073906519579567, 0.0, 0.0, 0.057607004414231416, 0.5588529547114907, 0.02893021439963005, null, null, 0.021680334364886165, 0.021721064043587698, 0.9723340355981797, null, 0.9717940408057846, 0.9071554131645984, 0.9067671391463249, 0.9048380280311691, null, 0.9056537242462271, 0.9810130206597533, null, 0.9803768741930374, 1.2506009100418853, 1.25068928489826, 0.8382626233633989, null, 0.8389452111003499, 1.006803548966798, null, 1.0052112530544752, null, null, 0.9617783494256352, null, 0.9618655609805569, 0.9791365665728949, 0.9781895906873322, 1.00013132923469, 1.0006493191928043, null, null, 0.8650235094163298, null, 0.8650060933727439, 0.9438475246358221, null, 0.9442006900593158, 1.0357367909376176, null, 1.039583106894743, 0.8889906997775161, null, 0.8878580237656003, 0.8812801814832038, null, 0.8810210404562419, 0.9950269771041208, null, 0.9947515518074976, 0.7757023350151898, 0.7756083413479121, 1.029201041622125, null, 1.0284371360861335, 1.5701132612993067, 1.5664156224902936, 0.9204621649904724, null, 0.914085679156206, 1.531250674794099, 1.531250674794099, null, null, 1.069715406410774, null, 1.0562542964562214, 0.8347509568864476, null, 0.8344213897350131, 1.0515144675982857, null, 1.051838655849858, 0.87566019811675, 0.8756931626701272, 1.068600585817469, null, 1.0683726349945497, 0.8987659382653842, null, 0.900085490002485, 0.8427036059538568, 0.8428054507271936, 1.117832054702657, null, 1.1184379453894395, 1.331745622141915, 1.333934735288099, 0.918376409673972, 0.9186330711038254, 0.8089377133299527, null, 0.808990102210345, 0.9661227764769671, null, 0.9700089565257348, 0.9558768490911846, null, 0.9553459287552113, 0.9839261215346002, null, 0.9816425742236029, 0.9013063724011422, 0.9003448269555567, null, null, 0.858349975276585, null, 0.858307349118454, 0.8360508800903906, null, 0.8424260235342806, 0.5221120839064549, 0.519988623789905, 1.0522476776388388, null, 1.0461969695127888, null, null, 1.0349899498952608, 1.0367985442514065, 0.9335169131029198, 0.934733784272468, 0.9295531446882889, null, 0.9286111224782583, 1.155074308544785, 1.1550100053692693, 0.8787228270138294, 0.8783943314296319, 0.8146774185112531, null, 0.9190600652951404, 0.8631482655190048, 0.8624082533081122, 0.9034630730835315, null, 0.9047602057608277, 0.9406983786390747, null, 0.960050682641819, null, null, 0.7270989865731553, null, 0.7650688981928367, 0.9908644271713676, null, 0.9971021429880668, null, null, 0.9476822621184261, null, 0.9548294078813208, null, null, null, null, null, null, 0.8645571639358816, null, 0.8646520979748137, 0.9438475246358221, null, 0.9442006900593158, null, null, 1.039583106894743, 0.7787521367090144, null, 0.8508524376637081, 0.8237525339069932, null, 0.8617165559006752, 0.9950269771041208, null, 0.9947515518074976, null, null, null, null, 1.0284371360861335, null, null, 0.9204621649904724, null, 0.9054746280209989, null, null, null, null, null, null, 1.0241991697528334, 0.8216823218193506, null, 0.8245767909896626, 1.0392478833076033, null, 1.0437475759156385, 0.8082528199532508, 0.808172784901296, 1.068600585817469, null, 1.0683726349945497, 0.8939273253244616, null, 0.8959214750159196, null, null, 1.117832054702657, null, 1.1184379453894395, 1.331745622141915, 1.333934735288099, 0.8552897996303285, 0.8551155498785439, 0.8089241712795757, null, 0.8089484233271061, 0.9600280681192257, null, 0.9649335807005968, 0.9498347290824266, null, 0.950558463632637, 0.9466444862196962, null, 0.9816425742236029, null, null, null, null, 0.858349975276585, null, 0.858307349118454, 0.5876771269257658, null, 0.8424260235342806, 0.42530295266122103, 0.4228978427341064, null, null, 0.9630603198377231, null, null, 0.973725598492965, 0.9760594790556109, 0.9335169131029198, 0.934733784272468, 0.8719461402740575, null, 0.8996809080786282, null, null, 0.8570424926489433, 0.8566732673860442], \"y0\": \" \", \"yaxis\": \"y\"}],                        {\"boxmode\": \"group\", \"height\": 400, \"legend\": {\"tracegroupgap\": 0}, \"template\": {\"data\": {\"bar\": [{\"error_x\": {\"color\": \"#2a3f5f\"}, \"error_y\": {\"color\": \"#2a3f5f\"}, \"marker\": {\"line\": {\"color\": \"#E5ECF6\", \"width\": 0.5}}, \"type\": \"bar\"}], \"barpolar\": [{\"marker\": {\"line\": {\"color\": \"#E5ECF6\", \"width\": 0.5}}, \"type\": \"barpolar\"}], \"carpet\": [{\"aaxis\": {\"endlinecolor\": \"#2a3f5f\", \"gridcolor\": \"white\", \"linecolor\": \"white\", \"minorgridcolor\": \"white\", \"startlinecolor\": \"#2a3f5f\"}, \"baxis\": {\"endlinecolor\": \"#2a3f5f\", \"gridcolor\": \"white\", \"linecolor\": \"white\", \"minorgridcolor\": \"white\", \"startlinecolor\": \"#2a3f5f\"}, \"type\": \"carpet\"}], \"choropleth\": [{\"colorbar\": {\"outlinewidth\": 0, \"ticks\": \"\"}, \"type\": \"choropleth\"}], \"contour\": [{\"colorbar\": {\"outlinewidth\": 0, \"ticks\": \"\"}, \"colorscale\": [[0.0, \"#0d0887\"], [0.1111111111111111, \"#46039f\"], [0.2222222222222222, \"#7201a8\"], [0.3333333333333333, \"#9c179e\"], [0.4444444444444444, \"#bd3786\"], [0.5555555555555556, \"#d8576b\"], [0.6666666666666666, \"#ed7953\"], [0.7777777777777778, \"#fb9f3a\"], [0.8888888888888888, \"#fdca26\"], [1.0, \"#f0f921\"]], \"type\": \"contour\"}], \"contourcarpet\": [{\"colorbar\": {\"outlinewidth\": 0, \"ticks\": \"\"}, \"type\": \"contourcarpet\"}], \"heatmap\": [{\"colorbar\": {\"outlinewidth\": 0, \"ticks\": \"\"}, \"colorscale\": [[0.0, \"#0d0887\"], [0.1111111111111111, \"#46039f\"], [0.2222222222222222, \"#7201a8\"], [0.3333333333333333, \"#9c179e\"], [0.4444444444444444, \"#bd3786\"], [0.5555555555555556, \"#d8576b\"], [0.6666666666666666, \"#ed7953\"], [0.7777777777777778, \"#fb9f3a\"], [0.8888888888888888, \"#fdca26\"], [1.0, \"#f0f921\"]], \"type\": \"heatmap\"}], \"heatmapgl\": [{\"colorbar\": {\"outlinewidth\": 0, \"ticks\": \"\"}, \"colorscale\": [[0.0, \"#0d0887\"], [0.1111111111111111, \"#46039f\"], [0.2222222222222222, \"#7201a8\"], [0.3333333333333333, \"#9c179e\"], [0.4444444444444444, \"#bd3786\"], [0.5555555555555556, \"#d8576b\"], [0.6666666666666666, \"#ed7953\"], [0.7777777777777778, \"#fb9f3a\"], [0.8888888888888888, \"#fdca26\"], [1.0, \"#f0f921\"]], \"type\": \"heatmapgl\"}], \"histogram\": [{\"marker\": {\"colorbar\": {\"outlinewidth\": 0, \"ticks\": \"\"}}, \"type\": \"histogram\"}], \"histogram2d\": [{\"colorbar\": {\"outlinewidth\": 0, \"ticks\": \"\"}, \"colorscale\": [[0.0, \"#0d0887\"], [0.1111111111111111, \"#46039f\"], [0.2222222222222222, \"#7201a8\"], [0.3333333333333333, \"#9c179e\"], [0.4444444444444444, \"#bd3786\"], [0.5555555555555556, \"#d8576b\"], [0.6666666666666666, \"#ed7953\"], [0.7777777777777778, \"#fb9f3a\"], [0.8888888888888888, \"#fdca26\"], [1.0, \"#f0f921\"]], \"type\": \"histogram2d\"}], \"histogram2dcontour\": [{\"colorbar\": {\"outlinewidth\": 0, \"ticks\": \"\"}, \"colorscale\": [[0.0, \"#0d0887\"], [0.1111111111111111, \"#46039f\"], [0.2222222222222222, \"#7201a8\"], [0.3333333333333333, \"#9c179e\"], [0.4444444444444444, \"#bd3786\"], [0.5555555555555556, \"#d8576b\"], [0.6666666666666666, \"#ed7953\"], [0.7777777777777778, \"#fb9f3a\"], [0.8888888888888888, \"#fdca26\"], [1.0, \"#f0f921\"]], \"type\": \"histogram2dcontour\"}], \"mesh3d\": [{\"colorbar\": {\"outlinewidth\": 0, \"ticks\": \"\"}, \"type\": \"mesh3d\"}], \"parcoords\": [{\"line\": {\"colorbar\": {\"outlinewidth\": 0, \"ticks\": \"\"}}, \"type\": \"parcoords\"}], \"pie\": [{\"automargin\": true, \"type\": \"pie\"}], \"scatter\": [{\"marker\": {\"colorbar\": {\"outlinewidth\": 0, \"ticks\": \"\"}}, \"type\": \"scatter\"}], \"scatter3d\": [{\"line\": {\"colorbar\": {\"outlinewidth\": 0, \"ticks\": \"\"}}, \"marker\": {\"colorbar\": {\"outlinewidth\": 0, \"ticks\": \"\"}}, \"type\": \"scatter3d\"}], \"scattercarpet\": [{\"marker\": {\"colorbar\": {\"outlinewidth\": 0, \"ticks\": \"\"}}, \"type\": \"scattercarpet\"}], \"scattergeo\": [{\"marker\": {\"colorbar\": {\"outlinewidth\": 0, \"ticks\": \"\"}}, \"type\": \"scattergeo\"}], \"scattergl\": [{\"marker\": {\"colorbar\": {\"outlinewidth\": 0, \"ticks\": \"\"}}, \"type\": \"scattergl\"}], \"scattermapbox\": [{\"marker\": {\"colorbar\": {\"outlinewidth\": 0, \"ticks\": \"\"}}, \"type\": \"scattermapbox\"}], \"scatterpolar\": [{\"marker\": {\"colorbar\": {\"outlinewidth\": 0, \"ticks\": \"\"}}, \"type\": \"scatterpolar\"}], \"scatterpolargl\": [{\"marker\": {\"colorbar\": {\"outlinewidth\": 0, \"ticks\": \"\"}}, \"type\": \"scatterpolargl\"}], \"scatterternary\": [{\"marker\": {\"colorbar\": {\"outlinewidth\": 0, \"ticks\": \"\"}}, \"type\": \"scatterternary\"}], \"surface\": [{\"colorbar\": {\"outlinewidth\": 0, \"ticks\": \"\"}, \"colorscale\": [[0.0, \"#0d0887\"], [0.1111111111111111, \"#46039f\"], [0.2222222222222222, \"#7201a8\"], [0.3333333333333333, \"#9c179e\"], [0.4444444444444444, \"#bd3786\"], [0.5555555555555556, \"#d8576b\"], [0.6666666666666666, \"#ed7953\"], [0.7777777777777778, \"#fb9f3a\"], [0.8888888888888888, \"#fdca26\"], [1.0, \"#f0f921\"]], \"type\": \"surface\"}], \"table\": [{\"cells\": {\"fill\": {\"color\": \"#EBF0F8\"}, \"line\": {\"color\": \"white\"}}, \"header\": {\"fill\": {\"color\": \"#C8D4E3\"}, \"line\": {\"color\": \"white\"}}, \"type\": \"table\"}]}, \"layout\": {\"annotationdefaults\": {\"arrowcolor\": \"#2a3f5f\", \"arrowhead\": 0, \"arrowwidth\": 1}, \"autotypenumbers\": \"strict\", \"coloraxis\": {\"colorbar\": {\"outlinewidth\": 0, \"ticks\": \"\"}}, \"colorscale\": {\"diverging\": [[0, \"#8e0152\"], [0.1, \"#c51b7d\"], [0.2, \"#de77ae\"], [0.3, \"#f1b6da\"], [0.4, \"#fde0ef\"], [0.5, \"#f7f7f7\"], [0.6, \"#e6f5d0\"], [0.7, \"#b8e186\"], [0.8, \"#7fbc41\"], [0.9, \"#4d9221\"], [1, \"#276419\"]], \"sequential\": [[0.0, \"#0d0887\"], [0.1111111111111111, \"#46039f\"], [0.2222222222222222, \"#7201a8\"], [0.3333333333333333, \"#9c179e\"], [0.4444444444444444, \"#bd3786\"], [0.5555555555555556, \"#d8576b\"], [0.6666666666666666, \"#ed7953\"], [0.7777777777777778, \"#fb9f3a\"], [0.8888888888888888, \"#fdca26\"], [1.0, \"#f0f921\"]], \"sequentialminus\": [[0.0, \"#0d0887\"], [0.1111111111111111, \"#46039f\"], [0.2222222222222222, \"#7201a8\"], [0.3333333333333333, \"#9c179e\"], [0.4444444444444444, \"#bd3786\"], [0.5555555555555556, \"#d8576b\"], [0.6666666666666666, \"#ed7953\"], [0.7777777777777778, \"#fb9f3a\"], [0.8888888888888888, \"#fdca26\"], [1.0, \"#f0f921\"]]}, \"colorway\": [\"#636efa\", \"#EF553B\", \"#00cc96\", \"#ab63fa\", \"#FFA15A\", \"#19d3f3\", \"#FF6692\", \"#B6E880\", \"#FF97FF\", \"#FECB52\"], \"font\": {\"color\": \"#2a3f5f\"}, \"geo\": {\"bgcolor\": \"white\", \"lakecolor\": \"white\", \"landcolor\": \"#E5ECF6\", \"showlakes\": true, \"showland\": true, \"subunitcolor\": \"white\"}, \"hoverlabel\": {\"align\": \"left\"}, \"hovermode\": \"closest\", \"mapbox\": {\"style\": \"light\"}, \"paper_bgcolor\": \"white\", \"plot_bgcolor\": \"#E5ECF6\", \"polar\": {\"angularaxis\": {\"gridcolor\": \"white\", \"linecolor\": \"white\", \"ticks\": \"\"}, \"bgcolor\": \"#E5ECF6\", \"radialaxis\": {\"gridcolor\": \"white\", \"linecolor\": \"white\", \"ticks\": \"\"}}, \"scene\": {\"xaxis\": {\"backgroundcolor\": \"#E5ECF6\", \"gridcolor\": \"white\", \"gridwidth\": 2, \"linecolor\": \"white\", \"showbackground\": true, \"ticks\": \"\", \"zerolinecolor\": \"white\"}, \"yaxis\": {\"backgroundcolor\": \"#E5ECF6\", \"gridcolor\": \"white\", \"gridwidth\": 2, \"linecolor\": \"white\", \"showbackground\": true, \"ticks\": \"\", \"zerolinecolor\": \"white\"}, \"zaxis\": {\"backgroundcolor\": \"#E5ECF6\", \"gridcolor\": \"white\", \"gridwidth\": 2, \"linecolor\": \"white\", \"showbackground\": true, \"ticks\": \"\", \"zerolinecolor\": \"white\"}}, \"shapedefaults\": {\"line\": {\"color\": \"#2a3f5f\"}}, \"ternary\": {\"aaxis\": {\"gridcolor\": \"white\", \"linecolor\": \"white\", \"ticks\": \"\"}, \"baxis\": {\"gridcolor\": \"white\", \"linecolor\": \"white\", \"ticks\": \"\"}, \"bgcolor\": \"#E5ECF6\", \"caxis\": {\"gridcolor\": \"white\", \"linecolor\": \"white\", \"ticks\": \"\"}}, \"title\": {\"x\": 0.05}, \"xaxis\": {\"automargin\": true, \"gridcolor\": \"white\", \"linecolor\": \"white\", \"ticks\": \"\", \"title\": {\"standoff\": 15}, \"zerolinecolor\": \"white\", \"zerolinewidth\": 2}, \"yaxis\": {\"automargin\": true, \"gridcolor\": \"white\", \"linecolor\": \"white\", \"ticks\": \"\", \"title\": {\"standoff\": 15}, \"zerolinecolor\": \"white\", \"zerolinewidth\": 2}}}, \"title\": {\"text\": \"Coefficient values for paths by benchmark confidence level\"}, \"width\": 800, \"xaxis\": {\"anchor\": \"y\", \"domain\": [0.0, 1.0], \"title\": {\"text\": \"variable\"}}, \"yaxis\": {\"anchor\": \"x\", \"domain\": [0.0, 1.0], \"title\": {\"text\": \"mean coefficient value\"}}},                        {\"responsive\": true}                    ).then(function(){\n",
       "                            \n",
       "var gd = document.getElementById('065df488-8487-40d3-9af2-4b2429f7750a');\n",
       "var x = new MutationObserver(function (mutations, observer) {{\n",
       "        var display = window.getComputedStyle(gd).display;\n",
       "        if (!display || display === 'none') {{\n",
       "            console.log([gd, 'removed!']);\n",
       "            Plotly.purge(gd);\n",
       "            observer.disconnect();\n",
       "        }}\n",
       "}});\n",
       "\n",
       "// Listen for the removal of the full notebook cells\n",
       "var notebookContainer = gd.closest('#notebook-container');\n",
       "if (notebookContainer) {{\n",
       "    x.observe(notebookContainer, {childList: true});\n",
       "}}\n",
       "\n",
       "// Listen for the clearing of the current output cell\n",
       "var outputEl = gd.closest('.output');\n",
       "if (outputEl) {{\n",
       "    x.observe(outputEl, {childList: true});\n",
       "}}\n",
       "\n",
       "                        })                };                });            </script>        </div>"
      ]
     },
     "metadata": {},
     "output_type": "display_data"
    }
   ],
   "source": [
    "m = M[['coef_non_benchmark', 'coef_benchmark_2', 'coef_benchmark_3', 'coef_differential']].melt()\n",
    "px.box(m, y='value', x='variable', title='Coefficient values for paths by benchmark confidence level', \n",
    "      labels={'value': 'mean coefficient value'}, width=800, height=400)"
   ]
  },
  {
   "cell_type": "code",
   "execution_count": 17,
   "id": "d997246e-0942-4dda-b0c7-f5fbcab5e3fe",
   "metadata": {},
   "outputs": [],
   "source": [
    "def plot_scatter_with_facets(M, x, y, color, palette='matter', filename=None, size=8, width=900, height=300):\n",
    "    fig = px.scatter(M, x=x, y=y, color=color, facet_col='hops', \n",
    "                     hover_data=[\"query_triple\", \"query_triple_kge_score\"],\n",
    "                     color_continuous_scale=palette, opacity=0.5, width=width, height=height)\n",
    "    fig.add_shape(dict(type=\"line\", x0=0, y0=0, x1=1.1, y1=1.1, line_width=1),\n",
    "                       row=\"all\", col=\"all\",\n",
    "                  line=dict(color=\"gray\", width=1, dash=\"dot\"))\n",
    "    \n",
    "    fig.update_traces(marker_size=size, marker_line={'width':0.5, 'color':'lightgrey'})\n",
    "    \n",
    "    fig.layout.plot_bgcolor = '#f0f0f0'\n",
    "    fig.show()\n",
    "    if filename is not None:\n",
    "        fig.write_html(filename)"
   ]
  },
  {
   "cell_type": "code",
   "execution_count": 19,
   "id": "0ada6cf9-217a-4a1c-adcd-ca83ae7c709a",
   "metadata": {},
   "outputs": [
    {
     "data": {
      "application/vnd.plotly.v1+json": {
       "config": {
        "plotlyServerURL": "https://plot.ly"
       },
       "data": [
        {
         "customdata": [
          [
           "publius_septimius_geta--parents--julia_domna",
           0.9722038
          ],
          [
           "alice_of_bourbon_parma--parents--louise_marie_therese_of_france",
           0.98301446
          ],
          [
           "princess_amelia_sophia_of_great_britain--parents--george_ii_of_great_britain",
           0.9859283
          ],
          [
           "christian_v_of_denmark--parents--sophia_amelia_of_brunswick_luneburg",
           0.976494
          ],
          [
           "frederick_terman--parents--lewis_terman",
           0.9708561
          ],
          [
           "lady_jane_grey--parents--lady_frances_brandon",
           0.98196423
          ],
          [
           "princess_cecilia_of_sweden_1807--parents--gustav_iv_adolf_of_sweden",
           0.9776373
          ],
          [
           "maria_luisa_of_savoy--parents--victor_amadeus_ii_of_sardinia",
           0.96920353
          ],
          [
           "antiochus_iii_the_great--parents--seleucus_ii_callinicus",
           0.9850825
          ],
          [
           "augustus_pugin--parents--augustus_charles_pugin",
           0.98073936
          ],
          [
           "geoffrey_ii_duke_of_brittany--parents--henry_ii_of_england",
           0.9751305
          ],
          [
           "frederick_ix_of_denmark--parents--christian_x_of_denmark",
           0.9503574
          ],
          [
           "james_rudolph_garfield--parents--james_garfield",
           0.9808333
          ],
          [
           "minamoto_no_yoriie--parents--hojo_masako",
           0.9856418
          ],
          [
           "abdulmecid--parents--mahmud_ii",
           0.9892191
          ],
          [
           "margaret_of_york--parents--cecily_neville",
           0.9874077
          ],
          [
           "emperor_komei--parents--emperor_ninko",
           0.9812971
          ],
          [
           "theuderic_iii--parents--balthild",
           0.97680193
          ],
          [
           "frances_gulick--parents--luther_gulick",
           0.941363
          ],
          [
           "princess_ileana_of_romania--parents--marie_of_edinburgh",
           0.9851478
          ],
          [
           "jovan_vladimir--parents--petrislav_of_duklja_and_travunia",
           0.9737017
          ],
          [
           "albert_francis_capone--parents--mae_capone",
           0.9512877
          ],
          [
           "mary_plantagenet--parents--edward_iii_of_england",
           0.9811323
          ],
          [
           "john_iii_of_sweden--parents--gustav_i_of_sweden",
           0.9552274
          ],
          [
           "george_crown_prince_of_serbia--parents--zorka_of_montenegro",
           0.9777884
          ],
          [
           "prince_augustus_frederick_duke_of_sussex--parents--charlotte_of_mecklenburg-strelitz",
           0.97009754
          ],
          [
           "princess_elizabeth_of_the_united_kingdom--parents--george_iii_of_the_united_kingdom",
           0.9633542
          ],
          [
           "sebastian_of_portugal--parents--john_crown_prince_of_portugal",
           0.97903824
          ],
          [
           "lindsay_crosby--parents--bing_crosby",
           0.96038955
          ],
          [
           "dominik_mikolaj_radziwill--parents--aleksander_ludwik_radziwill",
           0.97936845
          ],
          [
           "elizabeth_medora_leigh--parents--george_byron_6th_baron_byron",
           0.96682817
          ],
          [
           "prince_henry_of_prussia--parents--sophia_dorothea_of_hanover",
           0.98229516
          ],
          [
           "charlotte_princess_royal--parents--charlotte_of_mecklenburg-strelitz",
           0.9730996
          ],
          [
           "princess_adelgunde_of_bavaria--parents--therese_of_saxe_hildburghausen",
           0.98799706
          ],
          [
           "hans_albert_einstein--parents--mileva_maric",
           0.98081756
          ],
          [
           "alexis_i_du_pont_bayard--parents--thomas_f_bayard_jr",
           0.9787707
          ],
          [
           "baltasar_carlos_prince_of_asturias--parents--philip_iv_of_spain",
           0.97654176
          ],
          [
           "archduchess_luise_princess_of_tuscany--parents--ferdinand_iv_grand_duke_of_tuscany",
           0.9771985
          ],
          [
           "cleopatra_thea--parents--cleopatra_ii_of_egypt",
           0.9881151
          ],
          [
           "aleksandar_obrenovic--parents--natalija_obrenovic",
           0.9815599
          ],
          [
           "rudolph_i_of_bohemia--parents--albert_i_of_germany",
           0.97996587
          ],
          [
           "charles_ii_gonzaga--parents--charles_i_duke_of_mantua",
           0.9748905
          ],
          [
           "augusta_of_cambridge--parents--princess_augusta_of_hesse-kassel",
           0.98547643
          ],
          [
           "chiang_wei-kuo--parents--tai_chi-tao",
           0.9765339
          ],
          [
           "maria_isabel_of_portugal--parents--john_vi_of_portugal",
           0.9896506
          ]
         ],
         "hovertemplate": "hops=1hop<br>random=%{x}<br>linklogic=%{y}<br>query_triple=%{customdata[0]}<br>query_triple_kge_score=%{customdata[1]}<br>num_true=%{marker.color}<extra></extra>",
         "legendgroup": "",
         "marker": {
          "color": [
           2,
           2,
           7,
           3,
           1,
           3,
           3,
           3,
           1,
           1,
           8,
           2,
           1,
           2,
           2,
           6,
           1,
           1,
           1,
           6,
           1,
           1,
           7,
           5,
           3,
           15,
           15,
           1,
           2,
           2,
           3,
           10,
           15,
           8,
           2,
           1,
           6,
           2,
           4,
           1,
           4,
           2,
           3,
           1,
           8
          ],
          "coloraxis": "coloraxis",
          "line": {
           "color": "lightgrey",
           "width": 0.5
          },
          "opacity": 0.5,
          "size": 8,
          "symbol": "circle"
         },
         "mode": "markers",
         "name": "",
         "orientation": "v",
         "showlegend": false,
         "type": "scatter",
         "x": [
          0.234519736000272,
          0.24460057453757622,
          0.35692594159139096,
          0.2729976042595562,
          0.18945186587508475,
          0.2553959615907384,
          0.2687236193973018,
          0.2594339902931645,
          0.2217238919555148,
          0.19198529613263352,
          0.3735045137391674,
          0.22597973448084135,
          0.19124260762128342,
          0.2539405399447637,
          0.2402919037679507,
          0.33139973564325426,
          0.23997832841039332,
          0.2131123901695754,
          0.22501656524116131,
          0.33623371749505104,
          0.24752316741834557,
          0.1927438909628485,
          0.35175678764383034,
          0.3224687424925108,
          0.2629367883948145,
          0.48755490655758327,
          0.46567138117136003,
          0.18876061197188929,
          0.23877658077642397,
          0.27489905938729936,
          0.2735583221502498,
          0.4082691092888633,
          0.4839445926826535,
          0.382660849546195,
          0.2183126393896233,
          0.18086576325137405,
          0.3176817627647139,
          0.23232375945097275,
          0.3338018802969579,
          0.1870909528344978,
          0.298629194895266,
          0.24516882924163622,
          0.2708149841043677,
          0.19637097646732418,
          0.3563684978168401
         ],
         "xaxis": "x",
         "y": [
          0.9197207891481877,
          0.8315546295836228,
          0.6317533563351223,
          0.755837535342991,
          1,
          0.7832440810610274,
          0.732832652723318,
          0.7162162581856992,
          1,
          1,
          0.6013764754743106,
          0.7189660199418173,
          1,
          0.8772153153380493,
          0.8772153153380493,
          0.5640717856778384,
          1,
          1,
          1,
          0.5647908891671025,
          1,
          1,
          0.7296657447703762,
          0.6889428593082426,
          0.8529278650606568,
          0.598670363716936,
          0.6612573855988182,
          1,
          0.7250676979157327,
          0.7388306039419795,
          0.8529278650606568,
          0.6204174805211068,
          0.6872566546532044,
          0.660312891337312,
          0.8065735963827294,
          1,
          0.5509111413741669,
          0.9197207891481877,
          0.7375002708736418,
          1,
          0.8220230903936452,
          0.7275679521469698,
          0.7878183814550751,
          1,
          0.6413066953527117
         ],
         "yaxis": "y"
        },
        {
         "customdata": [
          [
           "publius_septimius_geta--parents--julia_domna",
           0.9722038
          ],
          [
           "princess_amelia_sophia_of_great_britain--parents--george_ii_of_great_britain",
           0.9859283
          ],
          [
           "christian_v_of_denmark--parents--sophia_amelia_of_brunswick_luneburg",
           0.976494
          ],
          [
           "lady_jane_grey--parents--lady_frances_brandon",
           0.98196423
          ],
          [
           "princess_cecilia_of_sweden_1807--parents--gustav_iv_adolf_of_sweden",
           0.9776373
          ],
          [
           "pierre_koechlin--parents--emma_rossier",
           0.9553046
          ],
          [
           "maria_luisa_of_savoy--parents--victor_amadeus_ii_of_sardinia",
           0.96920353
          ],
          [
           "marie_of_brienne--parents--berenguela_of_leon",
           0.97387797
          ],
          [
           "geoffrey_ii_duke_of_brittany--parents--henry_ii_of_england",
           0.9751305
          ],
          [
           "frederick_ix_of_denmark--parents--christian_x_of_denmark",
           0.9503574
          ],
          [
           "james_rudolph_garfield--parents--james_garfield",
           0.9808333
          ],
          [
           "minamoto_no_yoriie--parents--hojo_masako",
           0.9856418
          ],
          [
           "abdulmecid--parents--mahmud_ii",
           0.9892191
          ],
          [
           "margaret_of_york--parents--cecily_neville",
           0.9874077
          ],
          [
           "theuderic_iii--parents--balthild",
           0.97680193
          ],
          [
           "princess_ileana_of_romania--parents--marie_of_edinburgh",
           0.9851478
          ],
          [
           "william_michael_rossetti--parents--gabriele_rossetti",
           0.9867381
          ],
          [
           "albert_francis_capone--parents--mae_capone",
           0.9512877
          ],
          [
           "mary_plantagenet--parents--edward_iii_of_england",
           0.9811323
          ],
          [
           "john_iii_of_sweden--parents--gustav_i_of_sweden",
           0.9552274
          ],
          [
           "prince_augustus_frederick_duke_of_sussex--parents--charlotte_of_mecklenburg-strelitz",
           0.97009754
          ],
          [
           "princess_elizabeth_of_the_united_kingdom--parents--george_iii_of_the_united_kingdom",
           0.9633542
          ],
          [
           "lindsay_crosby--parents--bing_crosby",
           0.96038955
          ],
          [
           "prince_henry_of_prussia--parents--sophia_dorothea_of_hanover",
           0.98229516
          ],
          [
           "charlotte_princess_royal--parents--charlotte_of_mecklenburg-strelitz",
           0.9730996
          ],
          [
           "princess_adelgunde_of_bavaria--parents--therese_of_saxe_hildburghausen",
           0.98799706
          ],
          [
           "hans_albert_einstein--parents--mileva_maric",
           0.98081756
          ],
          [
           "theodore_ii_laskaris--parents--irene_lascarina",
           0.9648506
          ],
          [
           "baltasar_carlos_prince_of_asturias--parents--philip_iv_of_spain",
           0.97654176
          ],
          [
           "archduchess_luise_princess_of_tuscany--parents--ferdinand_iv_grand_duke_of_tuscany",
           0.9771985
          ],
          [
           "aleksandar_obrenovic--parents--natalija_obrenovic",
           0.9815599
          ],
          [
           "irene_doukaina_laskarina--parents--elena_of_bulgaria",
           0.9592115
          ],
          [
           "augusta_of_cambridge--parents--princess_augusta_of_hesse-kassel",
           0.98547643
          ]
         ],
         "hovertemplate": "hops=2hop<br>random=%{x}<br>linklogic=%{y}<br>query_triple=%{customdata[0]}<br>query_triple_kge_score=%{customdata[1]}<br>num_true=%{marker.color}<extra></extra>",
         "legendgroup": "",
         "marker": {
          "color": [
           2,
           2,
           2,
           1,
           2,
           1,
           2,
           1,
           2,
           2,
           2,
           2,
           2,
           2,
           2,
           2,
           1,
           2,
           2,
           2,
           2,
           2,
           2,
           2,
           2,
           2,
           2,
           1,
           2,
           2,
           2,
           1,
           2
          ],
          "coloraxis": "coloraxis",
          "line": {
           "color": "lightgrey",
           "width": 0.5
          },
          "opacity": 0.5,
          "size": 8,
          "symbol": "circle"
         },
         "mode": "markers",
         "name": "",
         "orientation": "v",
         "showlegend": false,
         "type": "scatter",
         "x": [
          0.25061971415312345,
          0.24239526449568743,
          0.24691653909995978,
          0.17565048656591298,
          0.269055182921491,
          0.24116077456755022,
          0.24133134651087285,
          0.2334218068377205,
          0.22179467000992403,
          0.24751394082991945,
          0.31632834396757115,
          0.3204781766318984,
          0.26295736360922484,
          0.2198568855244123,
          0.29721893720492054,
          0.24293671121688476,
          0.2324101854867764,
          0.3554420570068792,
          0.2198568855244123,
          0.24403923047296353,
          0.22634893355152477,
          0.22983015948781962,
          0.3988775380358108,
          0.23543049075193895,
          0.2290308434895583,
          0.22983015948781962,
          0.2802900283347716,
          0.2707892976309602,
          0.22383255886101644,
          0.2699864901514905,
          0.2539405399447637,
          0.24361198442368162,
          0.24403923047296353
         ],
         "xaxis": "x2",
         "y": [
          0.6934264036172708,
          1,
          0.9197207891481877,
          0.6309297535714573,
          0.7349274835704961,
          1,
          0.8315546295836228,
          1,
          1,
          0.5437713091520254,
          0.57064171895532,
          0.6509209298071323,
          0.8772153153380493,
          0.9197207891481877,
          0.9197207891481877,
          1,
          1,
          1,
          1,
          1,
          0.9197207891481877,
          0.9197207891481877,
          0.6934264036172708,
          0.9197207891481877,
          0.6509209298071323,
          0.9197207891481877,
          0.6509209298071323,
          0.4306765580733929,
          1,
          0.57064171895532,
          1,
          1,
          0.8503449055347547
         ],
         "yaxis": "y2"
        },
        {
         "customdata": [
          [
           "publius_septimius_geta--parents--julia_domna",
           0.9722038
          ],
          [
           "alice_of_bourbon_parma--parents--louise_marie_therese_of_france",
           0.98301446
          ],
          [
           "princess_amelia_sophia_of_great_britain--parents--george_ii_of_great_britain",
           0.9859283
          ],
          [
           "christian_v_of_denmark--parents--sophia_amelia_of_brunswick_luneburg",
           0.976494
          ],
          [
           "frederick_terman--parents--lewis_terman",
           0.9708561
          ],
          [
           "lady_jane_grey--parents--lady_frances_brandon",
           0.98196423
          ],
          [
           "princess_cecilia_of_sweden_1807--parents--gustav_iv_adolf_of_sweden",
           0.9776373
          ],
          [
           "pierre_koechlin--parents--emma_rossier",
           0.9553046
          ],
          [
           "maria_luisa_of_savoy--parents--victor_amadeus_ii_of_sardinia",
           0.96920353
          ],
          [
           "antiochus_iii_the_great--parents--seleucus_ii_callinicus",
           0.9850825
          ],
          [
           "augustus_pugin--parents--augustus_charles_pugin",
           0.98073936
          ],
          [
           "marie_of_brienne--parents--berenguela_of_leon",
           0.97387797
          ],
          [
           "geoffrey_ii_duke_of_brittany--parents--henry_ii_of_england",
           0.9751305
          ],
          [
           "frederick_ix_of_denmark--parents--christian_x_of_denmark",
           0.9503574
          ],
          [
           "james_rudolph_garfield--parents--james_garfield",
           0.9808333
          ],
          [
           "minamoto_no_yoriie--parents--hojo_masako",
           0.9856418
          ],
          [
           "abdulmecid--parents--mahmud_ii",
           0.9892191
          ],
          [
           "margaret_of_york--parents--cecily_neville",
           0.9874077
          ],
          [
           "emperor_komei--parents--emperor_ninko",
           0.9812971
          ],
          [
           "theuderic_iii--parents--balthild",
           0.97680193
          ],
          [
           "frances_gulick--parents--luther_gulick",
           0.941363
          ],
          [
           "princess_ileana_of_romania--parents--marie_of_edinburgh",
           0.9851478
          ],
          [
           "jovan_vladimir--parents--petrislav_of_duklja_and_travunia",
           0.9737017
          ],
          [
           "william_michael_rossetti--parents--gabriele_rossetti",
           0.9867381
          ],
          [
           "albert_francis_capone--parents--mae_capone",
           0.9512877
          ],
          [
           "mary_plantagenet--parents--edward_iii_of_england",
           0.9811323
          ],
          [
           "john_iii_of_sweden--parents--gustav_i_of_sweden",
           0.9552274
          ],
          [
           "george_crown_prince_of_serbia--parents--zorka_of_montenegro",
           0.9777884
          ],
          [
           "prince_augustus_frederick_duke_of_sussex--parents--charlotte_of_mecklenburg-strelitz",
           0.97009754
          ],
          [
           "princess_elizabeth_of_the_united_kingdom--parents--george_iii_of_the_united_kingdom",
           0.9633542
          ],
          [
           "sebastian_of_portugal--parents--john_crown_prince_of_portugal",
           0.97903824
          ],
          [
           "lindsay_crosby--parents--bing_crosby",
           0.96038955
          ],
          [
           "dominik_mikolaj_radziwill--parents--aleksander_ludwik_radziwill",
           0.97936845
          ],
          [
           "elizabeth_medora_leigh--parents--george_byron_6th_baron_byron",
           0.96682817
          ],
          [
           "prince_henry_of_prussia--parents--sophia_dorothea_of_hanover",
           0.98229516
          ],
          [
           "charlotte_princess_royal--parents--charlotte_of_mecklenburg-strelitz",
           0.9730996
          ],
          [
           "princess_adelgunde_of_bavaria--parents--therese_of_saxe_hildburghausen",
           0.98799706
          ],
          [
           "hans_albert_einstein--parents--mileva_maric",
           0.98081756
          ],
          [
           "alexis_i_du_pont_bayard--parents--thomas_f_bayard_jr",
           0.9787707
          ],
          [
           "theodore_ii_laskaris--parents--irene_lascarina",
           0.9648506
          ],
          [
           "baltasar_carlos_prince_of_asturias--parents--philip_iv_of_spain",
           0.97654176
          ],
          [
           "archduchess_luise_princess_of_tuscany--parents--ferdinand_iv_grand_duke_of_tuscany",
           0.9771985
          ],
          [
           "cleopatra_thea--parents--cleopatra_ii_of_egypt",
           0.9881151
          ],
          [
           "aleksandar_obrenovic--parents--natalija_obrenovic",
           0.9815599
          ],
          [
           "irene_doukaina_laskarina--parents--elena_of_bulgaria",
           0.9592115
          ],
          [
           "rudolph_i_of_bohemia--parents--albert_i_of_germany",
           0.97996587
          ],
          [
           "charles_ii_gonzaga--parents--charles_i_duke_of_mantua",
           0.9748905
          ],
          [
           "augusta_of_cambridge--parents--princess_augusta_of_hesse-kassel",
           0.98547643
          ],
          [
           "chiang_wei-kuo--parents--tai_chi-tao",
           0.9765339
          ],
          [
           "maria_isabel_of_portugal--parents--john_vi_of_portugal",
           0.9896506
          ]
         ],
         "hovertemplate": "hops=all<br>random=%{x}<br>linklogic=%{y}<br>query_triple=%{customdata[0]}<br>query_triple_kge_score=%{customdata[1]}<br>num_true=%{marker.color}<extra></extra>",
         "legendgroup": "",
         "marker": {
          "color": [
           4,
           2,
           9,
           5,
           1,
           4,
           5,
           1,
           5,
           1,
           1,
           1,
           10,
           4,
           3,
           4,
           4,
           8,
           1,
           3,
           1,
           8,
           1,
           1,
           3,
           9,
           7,
           3,
           17,
           17,
           1,
           4,
           2,
           3,
           12,
           17,
           10,
           4,
           1,
           1,
           8,
           4,
           4,
           3,
           1,
           4,
           2,
           5,
           1,
           8
          ],
          "coloraxis": "coloraxis",
          "line": {
           "color": "lightgrey",
           "width": 0.5
          },
          "opacity": 0.5,
          "size": 8,
          "symbol": "circle"
         },
         "mode": "markers",
         "name": "",
         "orientation": "v",
         "showlegend": false,
         "type": "scatter",
         "x": [
          0.26348647124890123,
          0.21682802563866724,
          0.34675589508128896,
          0.28770531506497127,
          0.18006589467519038,
          0.24439236053289154,
          0.2944909667549105,
          0.18808294747889295,
          0.27745952499294546,
          0.20135176513350725,
          0.18339141791429545,
          0.18488342519405304,
          0.35118324637833354,
          0.2581619901482827,
          0.25240470892694805,
          0.29529051429698877,
          0.27252896323131026,
          0.3203211148138767,
          0.22417052759177677,
          0.26771015874983817,
          0.21940505158963536,
          0.3316969309744221,
          0.24752316741834557,
          0.18281300951098278,
          0.25859766140760637,
          0.3351254047747075,
          0.3196792419853168,
          0.22847880268781298,
          0.43711276109834346,
          0.42815427979443715,
          0.16855656783885412,
          0.2911381634862003,
          0.2539405399447637,
          0.2520444346562034,
          0.38274434602210355,
          0.4383152009181426,
          0.3614474649467835,
          0.25969274638607065,
          0.16075542940700308,
          0.1901571808711228,
          0.3155513601801096,
          0.2667105696110119,
          0.2854662071684161,
          0.2370473934169372,
          0.1884201096551631,
          0.2695289167300341,
          0.21892295462205238,
          0.28493112055049696,
          0.1836844836324886,
          0.3142029437939758
         ],
         "xaxis": "x3",
         "y": [
          0.7116502962349941,
          0.8315546295836228,
          0.5935292862523176,
          0.6490632486905941,
          1,
          0.7022579219154342,
          0.6353136055543083,
          0.35620718710802235,
          0.6170679387699733,
          1,
          1,
          0.1730517848637372,
          0.5647285926218844,
          0.5748430486545271,
          0.6253857392281226,
          0.6961569641818836,
          0.6872723664688878,
          0.5232502802959617,
          1,
          0.6355034627521062,
          1,
          0.599173532701779,
          1,
          0.17304454824531296,
          0.8603443310417204,
          0.6814470122862115,
          0.6297019601014525,
          0.8529278650606568,
          0.5529433713896595,
          0.6265579448946689,
          1,
          0.5964632957844672,
          0.7309524846540226,
          0.8529278650606568,
          0.5855496808213373,
          0.6397266938522849,
          0.622238194681943,
          0.5712285610640588,
          1,
          0.17424745130670605,
          0.5167424463582111,
          0.5815138287986616,
          0.7194269823881173,
          0.8529278650606568,
          0.17577727138226662,
          0.8166729627171838,
          0.7171132253323854,
          0.6712295966365736,
          1,
          0.621275278403074
         ],
         "yaxis": "y3"
        }
       ],
       "layout": {
        "annotations": [
         {
          "font": {},
          "showarrow": false,
          "text": "hops=1hop",
          "x": 0.15999999999999998,
          "xanchor": "center",
          "xref": "paper",
          "y": 1,
          "yanchor": "bottom",
          "yref": "paper"
         },
         {
          "font": {},
          "showarrow": false,
          "text": "hops=2hop",
          "x": 0.49999999999999994,
          "xanchor": "center",
          "xref": "paper",
          "y": 1,
          "yanchor": "bottom",
          "yref": "paper"
         },
         {
          "font": {},
          "showarrow": false,
          "text": "hops=all",
          "x": 0.8399999999999999,
          "xanchor": "center",
          "xref": "paper",
          "y": 1,
          "yanchor": "bottom",
          "yref": "paper"
         }
        ],
        "coloraxis": {
         "colorbar": {
          "title": {
           "text": "num_true"
          }
         },
         "colorscale": [
          [
           0,
           "rgb(253, 237, 176)"
          ],
          [
           0.09090909090909091,
           "rgb(250, 205, 145)"
          ],
          [
           0.18181818181818182,
           "rgb(246, 173, 119)"
          ],
          [
           0.2727272727272727,
           "rgb(240, 142, 98)"
          ],
          [
           0.36363636363636365,
           "rgb(231, 109, 84)"
          ],
          [
           0.45454545454545453,
           "rgb(216, 80, 83)"
          ],
          [
           0.5454545454545454,
           "rgb(195, 56, 90)"
          ],
          [
           0.6363636363636364,
           "rgb(168, 40, 96)"
          ],
          [
           0.7272727272727273,
           "rgb(138, 29, 99)"
          ],
          [
           0.8181818181818182,
           "rgb(107, 24, 93)"
          ],
          [
           0.9090909090909091,
           "rgb(76, 21, 80)"
          ],
          [
           1,
           "rgb(47, 15, 61)"
          ]
         ]
        },
        "height": 300,
        "legend": {
         "tracegroupgap": 0
        },
        "margin": {
         "t": 60
        },
        "plot_bgcolor": "#f0f0f0",
        "shapes": [
         {
          "line": {
           "color": "gray",
           "dash": "dot",
           "width": 1
          },
          "type": "line",
          "x0": 0,
          "x1": 1.1,
          "xref": "x",
          "y0": 0,
          "y1": 1.1,
          "yref": "y"
         },
         {
          "line": {
           "color": "gray",
           "dash": "dot",
           "width": 1
          },
          "type": "line",
          "x0": 0,
          "x1": 1.1,
          "xref": "x2",
          "y0": 0,
          "y1": 1.1,
          "yref": "y2"
         },
         {
          "line": {
           "color": "gray",
           "dash": "dot",
           "width": 1
          },
          "type": "line",
          "x0": 0,
          "x1": 1.1,
          "xref": "x3",
          "y0": 0,
          "y1": 1.1,
          "yref": "y3"
         }
        ],
        "template": {
         "data": {
          "bar": [
           {
            "error_x": {
             "color": "#2a3f5f"
            },
            "error_y": {
             "color": "#2a3f5f"
            },
            "marker": {
             "line": {
              "color": "#E5ECF6",
              "width": 0.5
             }
            },
            "type": "bar"
           }
          ],
          "barpolar": [
           {
            "marker": {
             "line": {
              "color": "#E5ECF6",
              "width": 0.5
             }
            },
            "type": "barpolar"
           }
          ],
          "carpet": [
           {
            "aaxis": {
             "endlinecolor": "#2a3f5f",
             "gridcolor": "white",
             "linecolor": "white",
             "minorgridcolor": "white",
             "startlinecolor": "#2a3f5f"
            },
            "baxis": {
             "endlinecolor": "#2a3f5f",
             "gridcolor": "white",
             "linecolor": "white",
             "minorgridcolor": "white",
             "startlinecolor": "#2a3f5f"
            },
            "type": "carpet"
           }
          ],
          "choropleth": [
           {
            "colorbar": {
             "outlinewidth": 0,
             "ticks": ""
            },
            "type": "choropleth"
           }
          ],
          "contour": [
           {
            "colorbar": {
             "outlinewidth": 0,
             "ticks": ""
            },
            "colorscale": [
             [
              0,
              "#0d0887"
             ],
             [
              0.1111111111111111,
              "#46039f"
             ],
             [
              0.2222222222222222,
              "#7201a8"
             ],
             [
              0.3333333333333333,
              "#9c179e"
             ],
             [
              0.4444444444444444,
              "#bd3786"
             ],
             [
              0.5555555555555556,
              "#d8576b"
             ],
             [
              0.6666666666666666,
              "#ed7953"
             ],
             [
              0.7777777777777778,
              "#fb9f3a"
             ],
             [
              0.8888888888888888,
              "#fdca26"
             ],
             [
              1,
              "#f0f921"
             ]
            ],
            "type": "contour"
           }
          ],
          "contourcarpet": [
           {
            "colorbar": {
             "outlinewidth": 0,
             "ticks": ""
            },
            "type": "contourcarpet"
           }
          ],
          "heatmap": [
           {
            "colorbar": {
             "outlinewidth": 0,
             "ticks": ""
            },
            "colorscale": [
             [
              0,
              "#0d0887"
             ],
             [
              0.1111111111111111,
              "#46039f"
             ],
             [
              0.2222222222222222,
              "#7201a8"
             ],
             [
              0.3333333333333333,
              "#9c179e"
             ],
             [
              0.4444444444444444,
              "#bd3786"
             ],
             [
              0.5555555555555556,
              "#d8576b"
             ],
             [
              0.6666666666666666,
              "#ed7953"
             ],
             [
              0.7777777777777778,
              "#fb9f3a"
             ],
             [
              0.8888888888888888,
              "#fdca26"
             ],
             [
              1,
              "#f0f921"
             ]
            ],
            "type": "heatmap"
           }
          ],
          "heatmapgl": [
           {
            "colorbar": {
             "outlinewidth": 0,
             "ticks": ""
            },
            "colorscale": [
             [
              0,
              "#0d0887"
             ],
             [
              0.1111111111111111,
              "#46039f"
             ],
             [
              0.2222222222222222,
              "#7201a8"
             ],
             [
              0.3333333333333333,
              "#9c179e"
             ],
             [
              0.4444444444444444,
              "#bd3786"
             ],
             [
              0.5555555555555556,
              "#d8576b"
             ],
             [
              0.6666666666666666,
              "#ed7953"
             ],
             [
              0.7777777777777778,
              "#fb9f3a"
             ],
             [
              0.8888888888888888,
              "#fdca26"
             ],
             [
              1,
              "#f0f921"
             ]
            ],
            "type": "heatmapgl"
           }
          ],
          "histogram": [
           {
            "marker": {
             "colorbar": {
              "outlinewidth": 0,
              "ticks": ""
             }
            },
            "type": "histogram"
           }
          ],
          "histogram2d": [
           {
            "colorbar": {
             "outlinewidth": 0,
             "ticks": ""
            },
            "colorscale": [
             [
              0,
              "#0d0887"
             ],
             [
              0.1111111111111111,
              "#46039f"
             ],
             [
              0.2222222222222222,
              "#7201a8"
             ],
             [
              0.3333333333333333,
              "#9c179e"
             ],
             [
              0.4444444444444444,
              "#bd3786"
             ],
             [
              0.5555555555555556,
              "#d8576b"
             ],
             [
              0.6666666666666666,
              "#ed7953"
             ],
             [
              0.7777777777777778,
              "#fb9f3a"
             ],
             [
              0.8888888888888888,
              "#fdca26"
             ],
             [
              1,
              "#f0f921"
             ]
            ],
            "type": "histogram2d"
           }
          ],
          "histogram2dcontour": [
           {
            "colorbar": {
             "outlinewidth": 0,
             "ticks": ""
            },
            "colorscale": [
             [
              0,
              "#0d0887"
             ],
             [
              0.1111111111111111,
              "#46039f"
             ],
             [
              0.2222222222222222,
              "#7201a8"
             ],
             [
              0.3333333333333333,
              "#9c179e"
             ],
             [
              0.4444444444444444,
              "#bd3786"
             ],
             [
              0.5555555555555556,
              "#d8576b"
             ],
             [
              0.6666666666666666,
              "#ed7953"
             ],
             [
              0.7777777777777778,
              "#fb9f3a"
             ],
             [
              0.8888888888888888,
              "#fdca26"
             ],
             [
              1,
              "#f0f921"
             ]
            ],
            "type": "histogram2dcontour"
           }
          ],
          "mesh3d": [
           {
            "colorbar": {
             "outlinewidth": 0,
             "ticks": ""
            },
            "type": "mesh3d"
           }
          ],
          "parcoords": [
           {
            "line": {
             "colorbar": {
              "outlinewidth": 0,
              "ticks": ""
             }
            },
            "type": "parcoords"
           }
          ],
          "pie": [
           {
            "automargin": true,
            "type": "pie"
           }
          ],
          "scatter": [
           {
            "marker": {
             "colorbar": {
              "outlinewidth": 0,
              "ticks": ""
             }
            },
            "type": "scatter"
           }
          ],
          "scatter3d": [
           {
            "line": {
             "colorbar": {
              "outlinewidth": 0,
              "ticks": ""
             }
            },
            "marker": {
             "colorbar": {
              "outlinewidth": 0,
              "ticks": ""
             }
            },
            "type": "scatter3d"
           }
          ],
          "scattercarpet": [
           {
            "marker": {
             "colorbar": {
              "outlinewidth": 0,
              "ticks": ""
             }
            },
            "type": "scattercarpet"
           }
          ],
          "scattergeo": [
           {
            "marker": {
             "colorbar": {
              "outlinewidth": 0,
              "ticks": ""
             }
            },
            "type": "scattergeo"
           }
          ],
          "scattergl": [
           {
            "marker": {
             "colorbar": {
              "outlinewidth": 0,
              "ticks": ""
             }
            },
            "type": "scattergl"
           }
          ],
          "scattermapbox": [
           {
            "marker": {
             "colorbar": {
              "outlinewidth": 0,
              "ticks": ""
             }
            },
            "type": "scattermapbox"
           }
          ],
          "scatterpolar": [
           {
            "marker": {
             "colorbar": {
              "outlinewidth": 0,
              "ticks": ""
             }
            },
            "type": "scatterpolar"
           }
          ],
          "scatterpolargl": [
           {
            "marker": {
             "colorbar": {
              "outlinewidth": 0,
              "ticks": ""
             }
            },
            "type": "scatterpolargl"
           }
          ],
          "scatterternary": [
           {
            "marker": {
             "colorbar": {
              "outlinewidth": 0,
              "ticks": ""
             }
            },
            "type": "scatterternary"
           }
          ],
          "surface": [
           {
            "colorbar": {
             "outlinewidth": 0,
             "ticks": ""
            },
            "colorscale": [
             [
              0,
              "#0d0887"
             ],
             [
              0.1111111111111111,
              "#46039f"
             ],
             [
              0.2222222222222222,
              "#7201a8"
             ],
             [
              0.3333333333333333,
              "#9c179e"
             ],
             [
              0.4444444444444444,
              "#bd3786"
             ],
             [
              0.5555555555555556,
              "#d8576b"
             ],
             [
              0.6666666666666666,
              "#ed7953"
             ],
             [
              0.7777777777777778,
              "#fb9f3a"
             ],
             [
              0.8888888888888888,
              "#fdca26"
             ],
             [
              1,
              "#f0f921"
             ]
            ],
            "type": "surface"
           }
          ],
          "table": [
           {
            "cells": {
             "fill": {
              "color": "#EBF0F8"
             },
             "line": {
              "color": "white"
             }
            },
            "header": {
             "fill": {
              "color": "#C8D4E3"
             },
             "line": {
              "color": "white"
             }
            },
            "type": "table"
           }
          ]
         },
         "layout": {
          "annotationdefaults": {
           "arrowcolor": "#2a3f5f",
           "arrowhead": 0,
           "arrowwidth": 1
          },
          "autotypenumbers": "strict",
          "coloraxis": {
           "colorbar": {
            "outlinewidth": 0,
            "ticks": ""
           }
          },
          "colorscale": {
           "diverging": [
            [
             0,
             "#8e0152"
            ],
            [
             0.1,
             "#c51b7d"
            ],
            [
             0.2,
             "#de77ae"
            ],
            [
             0.3,
             "#f1b6da"
            ],
            [
             0.4,
             "#fde0ef"
            ],
            [
             0.5,
             "#f7f7f7"
            ],
            [
             0.6,
             "#e6f5d0"
            ],
            [
             0.7,
             "#b8e186"
            ],
            [
             0.8,
             "#7fbc41"
            ],
            [
             0.9,
             "#4d9221"
            ],
            [
             1,
             "#276419"
            ]
           ],
           "sequential": [
            [
             0,
             "#0d0887"
            ],
            [
             0.1111111111111111,
             "#46039f"
            ],
            [
             0.2222222222222222,
             "#7201a8"
            ],
            [
             0.3333333333333333,
             "#9c179e"
            ],
            [
             0.4444444444444444,
             "#bd3786"
            ],
            [
             0.5555555555555556,
             "#d8576b"
            ],
            [
             0.6666666666666666,
             "#ed7953"
            ],
            [
             0.7777777777777778,
             "#fb9f3a"
            ],
            [
             0.8888888888888888,
             "#fdca26"
            ],
            [
             1,
             "#f0f921"
            ]
           ],
           "sequentialminus": [
            [
             0,
             "#0d0887"
            ],
            [
             0.1111111111111111,
             "#46039f"
            ],
            [
             0.2222222222222222,
             "#7201a8"
            ],
            [
             0.3333333333333333,
             "#9c179e"
            ],
            [
             0.4444444444444444,
             "#bd3786"
            ],
            [
             0.5555555555555556,
             "#d8576b"
            ],
            [
             0.6666666666666666,
             "#ed7953"
            ],
            [
             0.7777777777777778,
             "#fb9f3a"
            ],
            [
             0.8888888888888888,
             "#fdca26"
            ],
            [
             1,
             "#f0f921"
            ]
           ]
          },
          "colorway": [
           "#636efa",
           "#EF553B",
           "#00cc96",
           "#ab63fa",
           "#FFA15A",
           "#19d3f3",
           "#FF6692",
           "#B6E880",
           "#FF97FF",
           "#FECB52"
          ],
          "font": {
           "color": "#2a3f5f"
          },
          "geo": {
           "bgcolor": "white",
           "lakecolor": "white",
           "landcolor": "#E5ECF6",
           "showlakes": true,
           "showland": true,
           "subunitcolor": "white"
          },
          "hoverlabel": {
           "align": "left"
          },
          "hovermode": "closest",
          "mapbox": {
           "style": "light"
          },
          "paper_bgcolor": "white",
          "plot_bgcolor": "#E5ECF6",
          "polar": {
           "angularaxis": {
            "gridcolor": "white",
            "linecolor": "white",
            "ticks": ""
           },
           "bgcolor": "#E5ECF6",
           "radialaxis": {
            "gridcolor": "white",
            "linecolor": "white",
            "ticks": ""
           }
          },
          "scene": {
           "xaxis": {
            "backgroundcolor": "#E5ECF6",
            "gridcolor": "white",
            "gridwidth": 2,
            "linecolor": "white",
            "showbackground": true,
            "ticks": "",
            "zerolinecolor": "white"
           },
           "yaxis": {
            "backgroundcolor": "#E5ECF6",
            "gridcolor": "white",
            "gridwidth": 2,
            "linecolor": "white",
            "showbackground": true,
            "ticks": "",
            "zerolinecolor": "white"
           },
           "zaxis": {
            "backgroundcolor": "#E5ECF6",
            "gridcolor": "white",
            "gridwidth": 2,
            "linecolor": "white",
            "showbackground": true,
            "ticks": "",
            "zerolinecolor": "white"
           }
          },
          "shapedefaults": {
           "line": {
            "color": "#2a3f5f"
           }
          },
          "ternary": {
           "aaxis": {
            "gridcolor": "white",
            "linecolor": "white",
            "ticks": ""
           },
           "baxis": {
            "gridcolor": "white",
            "linecolor": "white",
            "ticks": ""
           },
           "bgcolor": "#E5ECF6",
           "caxis": {
            "gridcolor": "white",
            "linecolor": "white",
            "ticks": ""
           }
          },
          "title": {
           "x": 0.05
          },
          "xaxis": {
           "automargin": true,
           "gridcolor": "white",
           "linecolor": "white",
           "ticks": "",
           "title": {
            "standoff": 15
           },
           "zerolinecolor": "white",
           "zerolinewidth": 2
          },
          "yaxis": {
           "automargin": true,
           "gridcolor": "white",
           "linecolor": "white",
           "ticks": "",
           "title": {
            "standoff": 15
           },
           "zerolinecolor": "white",
           "zerolinewidth": 2
          }
         }
        },
        "width": 900,
        "xaxis": {
         "anchor": "y",
         "autorange": true,
         "domain": [
          0,
          0.31999999999999995
         ],
         "range": [
          -0.002417794970986461,
          1.1024177949709866
         ],
         "title": {
          "text": "random"
         },
         "type": "linear"
        },
        "xaxis2": {
         "anchor": "y2",
         "autorange": true,
         "domain": [
          0.33999999999999997,
          0.6599999999999999
         ],
         "matches": "x",
         "range": [
          -0.002417794970986461,
          1.1024177949709866
         ],
         "title": {
          "text": "random"
         },
         "type": "linear"
        },
        "xaxis3": {
         "anchor": "y3",
         "autorange": true,
         "domain": [
          0.6799999999999999,
          0.9999999999999999
         ],
         "matches": "x",
         "range": [
          -0.002417794970986461,
          1.1024177949709866
         ],
         "title": {
          "text": "random"
         },
         "type": "linear"
        },
        "yaxis": {
         "anchor": "x",
         "autorange": true,
         "domain": [
          0,
          1
         ],
         "range": [
          -0.003459119496855346,
          1.1034591194968555
         ],
         "title": {
          "text": "linklogic"
         },
         "type": "linear"
        },
        "yaxis2": {
         "anchor": "x2",
         "autorange": true,
         "domain": [
          0,
          1
         ],
         "matches": "y",
         "range": [
          -0.003459119496855346,
          1.1034591194968555
         ],
         "showticklabels": false,
         "type": "linear"
        },
        "yaxis3": {
         "anchor": "x3",
         "autorange": true,
         "domain": [
          0,
          1
         ],
         "matches": "y",
         "range": [
          -0.003459119496855346,
          1.1034591194968555
         ],
         "showticklabels": false,
         "type": "linear"
        }
       }
      },
      "image/png": "[encoded data removed]",
      "text/html": [
       "<div>                            <div id=\"60320553-8c05-412f-b46c-fdd5d019d6c4\" class=\"plotly-graph-div\" style=\"height:300px; width:900px;\"></div>            <script type=\"text/javascript\">                require([\"plotly\"], function(Plotly) {                    window.PLOTLYENV=window.PLOTLYENV || {};                                    if (document.getElementById(\"60320553-8c05-412f-b46c-fdd5d019d6c4\")) {                    Plotly.newPlot(                        \"60320553-8c05-412f-b46c-fdd5d019d6c4\",                        [{\"customdata\": [[\"publius_septimius_geta--parents--julia_domna\", 0.9722038], [\"alice_of_bourbon_parma--parents--louise_marie_therese_of_france\", 0.98301446], [\"princess_amelia_sophia_of_great_britain--parents--george_ii_of_great_britain\", 0.9859283], [\"christian_v_of_denmark--parents--sophia_amelia_of_brunswick_luneburg\", 0.976494], [\"frederick_terman--parents--lewis_terman\", 0.9708561], [\"lady_jane_grey--parents--lady_frances_brandon\", 0.98196423], [\"princess_cecilia_of_sweden_1807--parents--gustav_iv_adolf_of_sweden\", 0.9776373], [\"maria_luisa_of_savoy--parents--victor_amadeus_ii_of_sardinia\", 0.96920353], [\"antiochus_iii_the_great--parents--seleucus_ii_callinicus\", 0.9850825], [\"augustus_pugin--parents--augustus_charles_pugin\", 0.98073936], [\"geoffrey_ii_duke_of_brittany--parents--henry_ii_of_england\", 0.9751305], [\"frederick_ix_of_denmark--parents--christian_x_of_denmark\", 0.9503574], [\"james_rudolph_garfield--parents--james_garfield\", 0.9808333], [\"minamoto_no_yoriie--parents--hojo_masako\", 0.9856418], [\"abdulmecid--parents--mahmud_ii\", 0.9892191], [\"margaret_of_york--parents--cecily_neville\", 0.9874077], [\"emperor_komei--parents--emperor_ninko\", 0.9812971], [\"theuderic_iii--parents--balthild\", 0.97680193], [\"frances_gulick--parents--luther_gulick\", 0.941363], [\"princess_ileana_of_romania--parents--marie_of_edinburgh\", 0.9851478], [\"jovan_vladimir--parents--petrislav_of_duklja_and_travunia\", 0.9737017], [\"albert_francis_capone--parents--mae_capone\", 0.9512877], [\"mary_plantagenet--parents--edward_iii_of_england\", 0.9811323], [\"john_iii_of_sweden--parents--gustav_i_of_sweden\", 0.9552274], [\"george_crown_prince_of_serbia--parents--zorka_of_montenegro\", 0.9777884], [\"prince_augustus_frederick_duke_of_sussex--parents--charlotte_of_mecklenburg-strelitz\", 0.97009754], [\"princess_elizabeth_of_the_united_kingdom--parents--george_iii_of_the_united_kingdom\", 0.9633542], [\"sebastian_of_portugal--parents--john_crown_prince_of_portugal\", 0.97903824], [\"lindsay_crosby--parents--bing_crosby\", 0.96038955], [\"dominik_mikolaj_radziwill--parents--aleksander_ludwik_radziwill\", 0.97936845], [\"elizabeth_medora_leigh--parents--george_byron_6th_baron_byron\", 0.96682817], [\"prince_henry_of_prussia--parents--sophia_dorothea_of_hanover\", 0.98229516], [\"charlotte_princess_royal--parents--charlotte_of_mecklenburg-strelitz\", 0.9730996], [\"princess_adelgunde_of_bavaria--parents--therese_of_saxe_hildburghausen\", 0.98799706], [\"hans_albert_einstein--parents--mileva_maric\", 0.98081756], [\"alexis_i_du_pont_bayard--parents--thomas_f_bayard_jr\", 0.9787707], [\"baltasar_carlos_prince_of_asturias--parents--philip_iv_of_spain\", 0.97654176], [\"archduchess_luise_princess_of_tuscany--parents--ferdinand_iv_grand_duke_of_tuscany\", 0.9771985], [\"cleopatra_thea--parents--cleopatra_ii_of_egypt\", 0.9881151], [\"aleksandar_obrenovic--parents--natalija_obrenovic\", 0.9815599], [\"rudolph_i_of_bohemia--parents--albert_i_of_germany\", 0.97996587], [\"charles_ii_gonzaga--parents--charles_i_duke_of_mantua\", 0.9748905], [\"augusta_of_cambridge--parents--princess_augusta_of_hesse-kassel\", 0.98547643], [\"chiang_wei-kuo--parents--tai_chi-tao\", 0.9765339], [\"maria_isabel_of_portugal--parents--john_vi_of_portugal\", 0.9896506]], \"hovertemplate\": \"hops=1hop<br>random=%{x}<br>linklogic=%{y}<br>query_triple=%{customdata[0]}<br>query_triple_kge_score=%{customdata[1]}<br>num_true=%{marker.color}<extra></extra>\", \"legendgroup\": \"\", \"marker\": {\"color\": [2, 2, 7, 3, 1, 3, 3, 3, 1, 1, 8, 2, 1, 2, 2, 6, 1, 1, 1, 6, 1, 1, 7, 5, 3, 15, 15, 1, 2, 2, 3, 10, 15, 8, 2, 1, 6, 2, 4, 1, 4, 2, 3, 1, 8], \"coloraxis\": \"coloraxis\", \"line\": {\"color\": \"lightgrey\", \"width\": 0.5}, \"opacity\": 0.5, \"size\": 8, \"symbol\": \"circle\"}, \"mode\": \"markers\", \"name\": \"\", \"orientation\": \"v\", \"showlegend\": false, \"type\": \"scatter\", \"x\": [0.234519736000272, 0.24460057453757622, 0.35692594159139096, 0.2729976042595562, 0.18945186587508475, 0.2553959615907384, 0.2687236193973018, 0.2594339902931645, 0.2217238919555148, 0.19198529613263352, 0.3735045137391674, 0.22597973448084135, 0.19124260762128342, 0.2539405399447637, 0.2402919037679507, 0.33139973564325426, 0.23997832841039332, 0.2131123901695754, 0.22501656524116131, 0.33623371749505104, 0.24752316741834557, 0.1927438909628485, 0.35175678764383034, 0.3224687424925108, 0.2629367883948145, 0.48755490655758327, 0.46567138117136003, 0.18876061197188929, 0.23877658077642397, 0.27489905938729936, 0.2735583221502498, 0.4082691092888633, 0.4839445926826535, 0.382660849546195, 0.2183126393896233, 0.18086576325137405, 0.3176817627647139, 0.23232375945097275, 0.3338018802969579, 0.1870909528344978, 0.298629194895266, 0.24516882924163622, 0.2708149841043677, 0.19637097646732418, 0.3563684978168401], \"xaxis\": \"x\", \"y\": [0.9197207891481877, 0.8315546295836228, 0.6317533563351223, 0.755837535342991, 1.0, 0.7832440810610274, 0.732832652723318, 0.7162162581856992, 1.0, 1.0, 0.6013764754743106, 0.7189660199418173, 1.0, 0.8772153153380493, 0.8772153153380493, 0.5640717856778384, 1.0, 1.0, 1.0, 0.5647908891671025, 1.0, 1.0, 0.7296657447703762, 0.6889428593082426, 0.8529278650606568, 0.598670363716936, 0.6612573855988182, 1.0, 0.7250676979157327, 0.7388306039419795, 0.8529278650606568, 0.6204174805211068, 0.6872566546532044, 0.660312891337312, 0.8065735963827294, 1.0, 0.5509111413741669, 0.9197207891481877, 0.7375002708736418, 1.0, 0.8220230903936452, 0.7275679521469698, 0.7878183814550751, 1.0, 0.6413066953527117], \"yaxis\": \"y\"}, {\"customdata\": [[\"publius_septimius_geta--parents--julia_domna\", 0.9722038], [\"princess_amelia_sophia_of_great_britain--parents--george_ii_of_great_britain\", 0.9859283], [\"christian_v_of_denmark--parents--sophia_amelia_of_brunswick_luneburg\", 0.976494], [\"lady_jane_grey--parents--lady_frances_brandon\", 0.98196423], [\"princess_cecilia_of_sweden_1807--parents--gustav_iv_adolf_of_sweden\", 0.9776373], [\"pierre_koechlin--parents--emma_rossier\", 0.9553046], [\"maria_luisa_of_savoy--parents--victor_amadeus_ii_of_sardinia\", 0.96920353], [\"marie_of_brienne--parents--berenguela_of_leon\", 0.97387797], [\"geoffrey_ii_duke_of_brittany--parents--henry_ii_of_england\", 0.9751305], [\"frederick_ix_of_denmark--parents--christian_x_of_denmark\", 0.9503574], [\"james_rudolph_garfield--parents--james_garfield\", 0.9808333], [\"minamoto_no_yoriie--parents--hojo_masako\", 0.9856418], [\"abdulmecid--parents--mahmud_ii\", 0.9892191], [\"margaret_of_york--parents--cecily_neville\", 0.9874077], [\"theuderic_iii--parents--balthild\", 0.97680193], [\"princess_ileana_of_romania--parents--marie_of_edinburgh\", 0.9851478], [\"william_michael_rossetti--parents--gabriele_rossetti\", 0.9867381], [\"albert_francis_capone--parents--mae_capone\", 0.9512877], [\"mary_plantagenet--parents--edward_iii_of_england\", 0.9811323], [\"john_iii_of_sweden--parents--gustav_i_of_sweden\", 0.9552274], [\"prince_augustus_frederick_duke_of_sussex--parents--charlotte_of_mecklenburg-strelitz\", 0.97009754], [\"princess_elizabeth_of_the_united_kingdom--parents--george_iii_of_the_united_kingdom\", 0.9633542], [\"lindsay_crosby--parents--bing_crosby\", 0.96038955], [\"prince_henry_of_prussia--parents--sophia_dorothea_of_hanover\", 0.98229516], [\"charlotte_princess_royal--parents--charlotte_of_mecklenburg-strelitz\", 0.9730996], [\"princess_adelgunde_of_bavaria--parents--therese_of_saxe_hildburghausen\", 0.98799706], [\"hans_albert_einstein--parents--mileva_maric\", 0.98081756], [\"theodore_ii_laskaris--parents--irene_lascarina\", 0.9648506], [\"baltasar_carlos_prince_of_asturias--parents--philip_iv_of_spain\", 0.97654176], [\"archduchess_luise_princess_of_tuscany--parents--ferdinand_iv_grand_duke_of_tuscany\", 0.9771985], [\"aleksandar_obrenovic--parents--natalija_obrenovic\", 0.9815599], [\"irene_doukaina_laskarina--parents--elena_of_bulgaria\", 0.9592115], [\"augusta_of_cambridge--parents--princess_augusta_of_hesse-kassel\", 0.98547643]], \"hovertemplate\": \"hops=2hop<br>random=%{x}<br>linklogic=%{y}<br>query_triple=%{customdata[0]}<br>query_triple_kge_score=%{customdata[1]}<br>num_true=%{marker.color}<extra></extra>\", \"legendgroup\": \"\", \"marker\": {\"color\": [2, 2, 2, 1, 2, 1, 2, 1, 2, 2, 2, 2, 2, 2, 2, 2, 1, 2, 2, 2, 2, 2, 2, 2, 2, 2, 2, 1, 2, 2, 2, 1, 2], \"coloraxis\": \"coloraxis\", \"line\": {\"color\": \"lightgrey\", \"width\": 0.5}, \"opacity\": 0.5, \"size\": 8, \"symbol\": \"circle\"}, \"mode\": \"markers\", \"name\": \"\", \"orientation\": \"v\", \"showlegend\": false, \"type\": \"scatter\", \"x\": [0.25061971415312345, 0.24239526449568743, 0.24691653909995978, 0.17565048656591298, 0.269055182921491, 0.24116077456755022, 0.24133134651087285, 0.2334218068377205, 0.22179467000992403, 0.24751394082991945, 0.31632834396757115, 0.3204781766318984, 0.26295736360922484, 0.2198568855244123, 0.29721893720492054, 0.24293671121688476, 0.2324101854867764, 0.3554420570068792, 0.2198568855244123, 0.24403923047296353, 0.22634893355152477, 0.22983015948781962, 0.3988775380358108, 0.23543049075193895, 0.2290308434895583, 0.22983015948781962, 0.2802900283347716, 0.2707892976309602, 0.22383255886101644, 0.2699864901514905, 0.2539405399447637, 0.24361198442368162, 0.24403923047296353], \"xaxis\": \"x2\", \"y\": [0.6934264036172708, 1.0, 0.9197207891481877, 0.6309297535714573, 0.7349274835704961, 1.0, 0.8315546295836228, 1.0, 1.0, 0.5437713091520254, 0.57064171895532, 0.6509209298071323, 0.8772153153380493, 0.9197207891481877, 0.9197207891481877, 1.0, 1.0, 1.0, 1.0, 1.0, 0.9197207891481877, 0.9197207891481877, 0.6934264036172708, 0.9197207891481877, 0.6509209298071323, 0.9197207891481877, 0.6509209298071323, 0.4306765580733929, 1.0, 0.57064171895532, 1.0, 1.0, 0.8503449055347547], \"yaxis\": \"y2\"}, {\"customdata\": [[\"publius_septimius_geta--parents--julia_domna\", 0.9722038], [\"alice_of_bourbon_parma--parents--louise_marie_therese_of_france\", 0.98301446], [\"princess_amelia_sophia_of_great_britain--parents--george_ii_of_great_britain\", 0.9859283], [\"christian_v_of_denmark--parents--sophia_amelia_of_brunswick_luneburg\", 0.976494], [\"frederick_terman--parents--lewis_terman\", 0.9708561], [\"lady_jane_grey--parents--lady_frances_brandon\", 0.98196423], [\"princess_cecilia_of_sweden_1807--parents--gustav_iv_adolf_of_sweden\", 0.9776373], [\"pierre_koechlin--parents--emma_rossier\", 0.9553046], [\"maria_luisa_of_savoy--parents--victor_amadeus_ii_of_sardinia\", 0.96920353], [\"antiochus_iii_the_great--parents--seleucus_ii_callinicus\", 0.9850825], [\"augustus_pugin--parents--augustus_charles_pugin\", 0.98073936], [\"marie_of_brienne--parents--berenguela_of_leon\", 0.97387797], [\"geoffrey_ii_duke_of_brittany--parents--henry_ii_of_england\", 0.9751305], [\"frederick_ix_of_denmark--parents--christian_x_of_denmark\", 0.9503574], [\"james_rudolph_garfield--parents--james_garfield\", 0.9808333], [\"minamoto_no_yoriie--parents--hojo_masako\", 0.9856418], [\"abdulmecid--parents--mahmud_ii\", 0.9892191], [\"margaret_of_york--parents--cecily_neville\", 0.9874077], [\"emperor_komei--parents--emperor_ninko\", 0.9812971], [\"theuderic_iii--parents--balthild\", 0.97680193], [\"frances_gulick--parents--luther_gulick\", 0.941363], [\"princess_ileana_of_romania--parents--marie_of_edinburgh\", 0.9851478], [\"jovan_vladimir--parents--petrislav_of_duklja_and_travunia\", 0.9737017], [\"william_michael_rossetti--parents--gabriele_rossetti\", 0.9867381], [\"albert_francis_capone--parents--mae_capone\", 0.9512877], [\"mary_plantagenet--parents--edward_iii_of_england\", 0.9811323], [\"john_iii_of_sweden--parents--gustav_i_of_sweden\", 0.9552274], [\"george_crown_prince_of_serbia--parents--zorka_of_montenegro\", 0.9777884], [\"prince_augustus_frederick_duke_of_sussex--parents--charlotte_of_mecklenburg-strelitz\", 0.97009754], [\"princess_elizabeth_of_the_united_kingdom--parents--george_iii_of_the_united_kingdom\", 0.9633542], [\"sebastian_of_portugal--parents--john_crown_prince_of_portugal\", 0.97903824], [\"lindsay_crosby--parents--bing_crosby\", 0.96038955], [\"dominik_mikolaj_radziwill--parents--aleksander_ludwik_radziwill\", 0.97936845], [\"elizabeth_medora_leigh--parents--george_byron_6th_baron_byron\", 0.96682817], [\"prince_henry_of_prussia--parents--sophia_dorothea_of_hanover\", 0.98229516], [\"charlotte_princess_royal--parents--charlotte_of_mecklenburg-strelitz\", 0.9730996], [\"princess_adelgunde_of_bavaria--parents--therese_of_saxe_hildburghausen\", 0.98799706], [\"hans_albert_einstein--parents--mileva_maric\", 0.98081756], [\"alexis_i_du_pont_bayard--parents--thomas_f_bayard_jr\", 0.9787707], [\"theodore_ii_laskaris--parents--irene_lascarina\", 0.9648506], [\"baltasar_carlos_prince_of_asturias--parents--philip_iv_of_spain\", 0.97654176], [\"archduchess_luise_princess_of_tuscany--parents--ferdinand_iv_grand_duke_of_tuscany\", 0.9771985], [\"cleopatra_thea--parents--cleopatra_ii_of_egypt\", 0.9881151], [\"aleksandar_obrenovic--parents--natalija_obrenovic\", 0.9815599], [\"irene_doukaina_laskarina--parents--elena_of_bulgaria\", 0.9592115], [\"rudolph_i_of_bohemia--parents--albert_i_of_germany\", 0.97996587], [\"charles_ii_gonzaga--parents--charles_i_duke_of_mantua\", 0.9748905], [\"augusta_of_cambridge--parents--princess_augusta_of_hesse-kassel\", 0.98547643], [\"chiang_wei-kuo--parents--tai_chi-tao\", 0.9765339], [\"maria_isabel_of_portugal--parents--john_vi_of_portugal\", 0.9896506]], \"hovertemplate\": \"hops=all<br>random=%{x}<br>linklogic=%{y}<br>query_triple=%{customdata[0]}<br>query_triple_kge_score=%{customdata[1]}<br>num_true=%{marker.color}<extra></extra>\", \"legendgroup\": \"\", \"marker\": {\"color\": [4, 2, 9, 5, 1, 4, 5, 1, 5, 1, 1, 1, 10, 4, 3, 4, 4, 8, 1, 3, 1, 8, 1, 1, 3, 9, 7, 3, 17, 17, 1, 4, 2, 3, 12, 17, 10, 4, 1, 1, 8, 4, 4, 3, 1, 4, 2, 5, 1, 8], \"coloraxis\": \"coloraxis\", \"line\": {\"color\": \"lightgrey\", \"width\": 0.5}, \"opacity\": 0.5, \"size\": 8, \"symbol\": \"circle\"}, \"mode\": \"markers\", \"name\": \"\", \"orientation\": \"v\", \"showlegend\": false, \"type\": \"scatter\", \"x\": [0.26348647124890123, 0.21682802563866724, 0.34675589508128896, 0.28770531506497127, 0.18006589467519038, 0.24439236053289154, 0.2944909667549105, 0.18808294747889295, 0.27745952499294546, 0.20135176513350725, 0.18339141791429545, 0.18488342519405304, 0.35118324637833354, 0.2581619901482827, 0.25240470892694805, 0.29529051429698877, 0.27252896323131026, 0.3203211148138767, 0.22417052759177677, 0.26771015874983817, 0.21940505158963536, 0.3316969309744221, 0.24752316741834557, 0.18281300951098278, 0.25859766140760637, 0.3351254047747075, 0.3196792419853168, 0.22847880268781298, 0.43711276109834346, 0.42815427979443715, 0.16855656783885412, 0.2911381634862003, 0.2539405399447637, 0.2520444346562034, 0.38274434602210355, 0.4383152009181426, 0.3614474649467835, 0.25969274638607065, 0.16075542940700308, 0.1901571808711228, 0.3155513601801096, 0.2667105696110119, 0.2854662071684161, 0.2370473934169372, 0.1884201096551631, 0.2695289167300341, 0.21892295462205238, 0.28493112055049696, 0.1836844836324886, 0.3142029437939758], \"xaxis\": \"x3\", \"y\": [0.7116502962349941, 0.8315546295836228, 0.5935292862523176, 0.6490632486905941, 1.0, 0.7022579219154342, 0.6353136055543083, 0.35620718710802235, 0.6170679387699733, 1.0, 1.0, 0.1730517848637372, 0.5647285926218844, 0.5748430486545271, 0.6253857392281226, 0.6961569641818836, 0.6872723664688878, 0.5232502802959617, 1.0, 0.6355034627521062, 1.0, 0.599173532701779, 1.0, 0.17304454824531296, 0.8603443310417204, 0.6814470122862115, 0.6297019601014525, 0.8529278650606568, 0.5529433713896595, 0.6265579448946689, 1.0, 0.5964632957844672, 0.7309524846540226, 0.8529278650606568, 0.5855496808213373, 0.6397266938522849, 0.622238194681943, 0.5712285610640588, 1.0, 0.17424745130670605, 0.5167424463582111, 0.5815138287986616, 0.7194269823881173, 0.8529278650606568, 0.17577727138226662, 0.8166729627171838, 0.7171132253323854, 0.6712295966365736, 1.0, 0.621275278403074], \"yaxis\": \"y3\"}],                        {\"annotations\": [{\"font\": {}, \"showarrow\": false, \"text\": \"hops=1hop\", \"x\": 0.15999999999999998, \"xanchor\": \"center\", \"xref\": \"paper\", \"y\": 1.0, \"yanchor\": \"bottom\", \"yref\": \"paper\"}, {\"font\": {}, \"showarrow\": false, \"text\": \"hops=2hop\", \"x\": 0.49999999999999994, \"xanchor\": \"center\", \"xref\": \"paper\", \"y\": 1.0, \"yanchor\": \"bottom\", \"yref\": \"paper\"}, {\"font\": {}, \"showarrow\": false, \"text\": \"hops=all\", \"x\": 0.8399999999999999, \"xanchor\": \"center\", \"xref\": \"paper\", \"y\": 1.0, \"yanchor\": \"bottom\", \"yref\": \"paper\"}], \"coloraxis\": {\"colorbar\": {\"title\": {\"text\": \"num_true\"}}, \"colorscale\": [[0.0, \"rgb(253, 237, 176)\"], [0.09090909090909091, \"rgb(250, 205, 145)\"], [0.18181818181818182, \"rgb(246, 173, 119)\"], [0.2727272727272727, \"rgb(240, 142, 98)\"], [0.36363636363636365, \"rgb(231, 109, 84)\"], [0.45454545454545453, \"rgb(216, 80, 83)\"], [0.5454545454545454, \"rgb(195, 56, 90)\"], [0.6363636363636364, \"rgb(168, 40, 96)\"], [0.7272727272727273, \"rgb(138, 29, 99)\"], [0.8181818181818182, \"rgb(107, 24, 93)\"], [0.9090909090909091, \"rgb(76, 21, 80)\"], [1.0, \"rgb(47, 15, 61)\"]]}, \"height\": 300, \"legend\": {\"tracegroupgap\": 0}, \"margin\": {\"t\": 60}, \"plot_bgcolor\": \"#f0f0f0\", \"shapes\": [{\"line\": {\"color\": \"gray\", \"dash\": \"dot\", \"width\": 1}, \"type\": \"line\", \"x0\": 0, \"x1\": 1.1, \"xref\": \"x\", \"y0\": 0, \"y1\": 1.1, \"yref\": \"y\"}, {\"line\": {\"color\": \"gray\", \"dash\": \"dot\", \"width\": 1}, \"type\": \"line\", \"x0\": 0, \"x1\": 1.1, \"xref\": \"x2\", \"y0\": 0, \"y1\": 1.1, \"yref\": \"y2\"}, {\"line\": {\"color\": \"gray\", \"dash\": \"dot\", \"width\": 1}, \"type\": \"line\", \"x0\": 0, \"x1\": 1.1, \"xref\": \"x3\", \"y0\": 0, \"y1\": 1.1, \"yref\": \"y3\"}], \"template\": {\"data\": {\"bar\": [{\"error_x\": {\"color\": \"#2a3f5f\"}, \"error_y\": {\"color\": \"#2a3f5f\"}, \"marker\": {\"line\": {\"color\": \"#E5ECF6\", \"width\": 0.5}}, \"type\": \"bar\"}], \"barpolar\": [{\"marker\": {\"line\": {\"color\": \"#E5ECF6\", \"width\": 0.5}}, \"type\": \"barpolar\"}], \"carpet\": [{\"aaxis\": {\"endlinecolor\": \"#2a3f5f\", \"gridcolor\": \"white\", \"linecolor\": \"white\", \"minorgridcolor\": \"white\", \"startlinecolor\": \"#2a3f5f\"}, \"baxis\": {\"endlinecolor\": \"#2a3f5f\", \"gridcolor\": \"white\", \"linecolor\": \"white\", \"minorgridcolor\": \"white\", \"startlinecolor\": \"#2a3f5f\"}, \"type\": \"carpet\"}], \"choropleth\": [{\"colorbar\": {\"outlinewidth\": 0, \"ticks\": \"\"}, \"type\": \"choropleth\"}], \"contour\": [{\"colorbar\": {\"outlinewidth\": 0, \"ticks\": \"\"}, \"colorscale\": [[0.0, \"#0d0887\"], [0.1111111111111111, \"#46039f\"], [0.2222222222222222, \"#7201a8\"], [0.3333333333333333, \"#9c179e\"], [0.4444444444444444, \"#bd3786\"], [0.5555555555555556, \"#d8576b\"], [0.6666666666666666, \"#ed7953\"], [0.7777777777777778, \"#fb9f3a\"], [0.8888888888888888, \"#fdca26\"], [1.0, \"#f0f921\"]], \"type\": \"contour\"}], \"contourcarpet\": [{\"colorbar\": {\"outlinewidth\": 0, \"ticks\": \"\"}, \"type\": \"contourcarpet\"}], \"heatmap\": [{\"colorbar\": {\"outlinewidth\": 0, \"ticks\": \"\"}, \"colorscale\": [[0.0, \"#0d0887\"], [0.1111111111111111, \"#46039f\"], [0.2222222222222222, \"#7201a8\"], [0.3333333333333333, \"#9c179e\"], [0.4444444444444444, \"#bd3786\"], [0.5555555555555556, \"#d8576b\"], [0.6666666666666666, \"#ed7953\"], [0.7777777777777778, \"#fb9f3a\"], [0.8888888888888888, \"#fdca26\"], [1.0, \"#f0f921\"]], \"type\": \"heatmap\"}], \"heatmapgl\": [{\"colorbar\": {\"outlinewidth\": 0, \"ticks\": \"\"}, \"colorscale\": [[0.0, \"#0d0887\"], [0.1111111111111111, \"#46039f\"], [0.2222222222222222, \"#7201a8\"], [0.3333333333333333, \"#9c179e\"], [0.4444444444444444, \"#bd3786\"], [0.5555555555555556, \"#d8576b\"], [0.6666666666666666, \"#ed7953\"], [0.7777777777777778, \"#fb9f3a\"], [0.8888888888888888, \"#fdca26\"], [1.0, \"#f0f921\"]], \"type\": \"heatmapgl\"}], \"histogram\": [{\"marker\": {\"colorbar\": {\"outlinewidth\": 0, \"ticks\": \"\"}}, \"type\": \"histogram\"}], \"histogram2d\": [{\"colorbar\": {\"outlinewidth\": 0, \"ticks\": \"\"}, \"colorscale\": [[0.0, \"#0d0887\"], [0.1111111111111111, \"#46039f\"], [0.2222222222222222, \"#7201a8\"], [0.3333333333333333, \"#9c179e\"], [0.4444444444444444, \"#bd3786\"], [0.5555555555555556, \"#d8576b\"], [0.6666666666666666, \"#ed7953\"], [0.7777777777777778, \"#fb9f3a\"], [0.8888888888888888, \"#fdca26\"], [1.0, \"#f0f921\"]], \"type\": \"histogram2d\"}], \"histogram2dcontour\": [{\"colorbar\": {\"outlinewidth\": 0, \"ticks\": \"\"}, \"colorscale\": [[0.0, \"#0d0887\"], [0.1111111111111111, \"#46039f\"], [0.2222222222222222, \"#7201a8\"], [0.3333333333333333, \"#9c179e\"], [0.4444444444444444, \"#bd3786\"], [0.5555555555555556, \"#d8576b\"], [0.6666666666666666, \"#ed7953\"], [0.7777777777777778, \"#fb9f3a\"], [0.8888888888888888, \"#fdca26\"], [1.0, \"#f0f921\"]], \"type\": \"histogram2dcontour\"}], \"mesh3d\": [{\"colorbar\": {\"outlinewidth\": 0, \"ticks\": \"\"}, \"type\": \"mesh3d\"}], \"parcoords\": [{\"line\": {\"colorbar\": {\"outlinewidth\": 0, \"ticks\": \"\"}}, \"type\": \"parcoords\"}], \"pie\": [{\"automargin\": true, \"type\": \"pie\"}], \"scatter\": [{\"marker\": {\"colorbar\": {\"outlinewidth\": 0, \"ticks\": \"\"}}, \"type\": \"scatter\"}], \"scatter3d\": [{\"line\": {\"colorbar\": {\"outlinewidth\": 0, \"ticks\": \"\"}}, \"marker\": {\"colorbar\": {\"outlinewidth\": 0, \"ticks\": \"\"}}, \"type\": \"scatter3d\"}], \"scattercarpet\": [{\"marker\": {\"colorbar\": {\"outlinewidth\": 0, \"ticks\": \"\"}}, \"type\": \"scattercarpet\"}], \"scattergeo\": [{\"marker\": {\"colorbar\": {\"outlinewidth\": 0, \"ticks\": \"\"}}, \"type\": \"scattergeo\"}], \"scattergl\": [{\"marker\": {\"colorbar\": {\"outlinewidth\": 0, \"ticks\": \"\"}}, \"type\": \"scattergl\"}], \"scattermapbox\": [{\"marker\": {\"colorbar\": {\"outlinewidth\": 0, \"ticks\": \"\"}}, \"type\": \"scattermapbox\"}], \"scatterpolar\": [{\"marker\": {\"colorbar\": {\"outlinewidth\": 0, \"ticks\": \"\"}}, \"type\": \"scatterpolar\"}], \"scatterpolargl\": [{\"marker\": {\"colorbar\": {\"outlinewidth\": 0, \"ticks\": \"\"}}, \"type\": \"scatterpolargl\"}], \"scatterternary\": [{\"marker\": {\"colorbar\": {\"outlinewidth\": 0, \"ticks\": \"\"}}, \"type\": \"scatterternary\"}], \"surface\": [{\"colorbar\": {\"outlinewidth\": 0, \"ticks\": \"\"}, \"colorscale\": [[0.0, \"#0d0887\"], [0.1111111111111111, \"#46039f\"], [0.2222222222222222, \"#7201a8\"], [0.3333333333333333, \"#9c179e\"], [0.4444444444444444, \"#bd3786\"], [0.5555555555555556, \"#d8576b\"], [0.6666666666666666, \"#ed7953\"], [0.7777777777777778, \"#fb9f3a\"], [0.8888888888888888, \"#fdca26\"], [1.0, \"#f0f921\"]], \"type\": \"surface\"}], \"table\": [{\"cells\": {\"fill\": {\"color\": \"#EBF0F8\"}, \"line\": {\"color\": \"white\"}}, \"header\": {\"fill\": {\"color\": \"#C8D4E3\"}, \"line\": {\"color\": \"white\"}}, \"type\": \"table\"}]}, \"layout\": {\"annotationdefaults\": {\"arrowcolor\": \"#2a3f5f\", \"arrowhead\": 0, \"arrowwidth\": 1}, \"autotypenumbers\": \"strict\", \"coloraxis\": {\"colorbar\": {\"outlinewidth\": 0, \"ticks\": \"\"}}, \"colorscale\": {\"diverging\": [[0, \"#8e0152\"], [0.1, \"#c51b7d\"], [0.2, \"#de77ae\"], [0.3, \"#f1b6da\"], [0.4, \"#fde0ef\"], [0.5, \"#f7f7f7\"], [0.6, \"#e6f5d0\"], [0.7, \"#b8e186\"], [0.8, \"#7fbc41\"], [0.9, \"#4d9221\"], [1, \"#276419\"]], \"sequential\": [[0.0, \"#0d0887\"], [0.1111111111111111, \"#46039f\"], [0.2222222222222222, \"#7201a8\"], [0.3333333333333333, \"#9c179e\"], [0.4444444444444444, \"#bd3786\"], [0.5555555555555556, \"#d8576b\"], [0.6666666666666666, \"#ed7953\"], [0.7777777777777778, \"#fb9f3a\"], [0.8888888888888888, \"#fdca26\"], [1.0, \"#f0f921\"]], \"sequentialminus\": [[0.0, \"#0d0887\"], [0.1111111111111111, \"#46039f\"], [0.2222222222222222, \"#7201a8\"], [0.3333333333333333, \"#9c179e\"], [0.4444444444444444, \"#bd3786\"], [0.5555555555555556, \"#d8576b\"], [0.6666666666666666, \"#ed7953\"], [0.7777777777777778, \"#fb9f3a\"], [0.8888888888888888, \"#fdca26\"], [1.0, \"#f0f921\"]]}, \"colorway\": [\"#636efa\", \"#EF553B\", \"#00cc96\", \"#ab63fa\", \"#FFA15A\", \"#19d3f3\", \"#FF6692\", \"#B6E880\", \"#FF97FF\", \"#FECB52\"], \"font\": {\"color\": \"#2a3f5f\"}, \"geo\": {\"bgcolor\": \"white\", \"lakecolor\": \"white\", \"landcolor\": \"#E5ECF6\", \"showlakes\": true, \"showland\": true, \"subunitcolor\": \"white\"}, \"hoverlabel\": {\"align\": \"left\"}, \"hovermode\": \"closest\", \"mapbox\": {\"style\": \"light\"}, \"paper_bgcolor\": \"white\", \"plot_bgcolor\": \"#E5ECF6\", \"polar\": {\"angularaxis\": {\"gridcolor\": \"white\", \"linecolor\": \"white\", \"ticks\": \"\"}, \"bgcolor\": \"#E5ECF6\", \"radialaxis\": {\"gridcolor\": \"white\", \"linecolor\": \"white\", \"ticks\": \"\"}}, \"scene\": {\"xaxis\": {\"backgroundcolor\": \"#E5ECF6\", \"gridcolor\": \"white\", \"gridwidth\": 2, \"linecolor\": \"white\", \"showbackground\": true, \"ticks\": \"\", \"zerolinecolor\": \"white\"}, \"yaxis\": {\"backgroundcolor\": \"#E5ECF6\", \"gridcolor\": \"white\", \"gridwidth\": 2, \"linecolor\": \"white\", \"showbackground\": true, \"ticks\": \"\", \"zerolinecolor\": \"white\"}, \"zaxis\": {\"backgroundcolor\": \"#E5ECF6\", \"gridcolor\": \"white\", \"gridwidth\": 2, \"linecolor\": \"white\", \"showbackground\": true, \"ticks\": \"\", \"zerolinecolor\": \"white\"}}, \"shapedefaults\": {\"line\": {\"color\": \"#2a3f5f\"}}, \"ternary\": {\"aaxis\": {\"gridcolor\": \"white\", \"linecolor\": \"white\", \"ticks\": \"\"}, \"baxis\": {\"gridcolor\": \"white\", \"linecolor\": \"white\", \"ticks\": \"\"}, \"bgcolor\": \"#E5ECF6\", \"caxis\": {\"gridcolor\": \"white\", \"linecolor\": \"white\", \"ticks\": \"\"}}, \"title\": {\"x\": 0.05}, \"xaxis\": {\"automargin\": true, \"gridcolor\": \"white\", \"linecolor\": \"white\", \"ticks\": \"\", \"title\": {\"standoff\": 15}, \"zerolinecolor\": \"white\", \"zerolinewidth\": 2}, \"yaxis\": {\"automargin\": true, \"gridcolor\": \"white\", \"linecolor\": \"white\", \"ticks\": \"\", \"title\": {\"standoff\": 15}, \"zerolinecolor\": \"white\", \"zerolinewidth\": 2}}}, \"width\": 900, \"xaxis\": {\"anchor\": \"y\", \"domain\": [0.0, 0.31999999999999995], \"title\": {\"text\": \"random\"}}, \"xaxis2\": {\"anchor\": \"y2\", \"domain\": [0.33999999999999997, 0.6599999999999999], \"matches\": \"x\", \"title\": {\"text\": \"random\"}}, \"xaxis3\": {\"anchor\": \"y3\", \"domain\": [0.6799999999999999, 0.9999999999999999], \"matches\": \"x\", \"title\": {\"text\": \"random\"}}, \"yaxis\": {\"anchor\": \"x\", \"domain\": [0.0, 1.0], \"title\": {\"text\": \"linklogic\"}}, \"yaxis2\": {\"anchor\": \"x2\", \"domain\": [0.0, 1.0], \"matches\": \"y\", \"showticklabels\": false}, \"yaxis3\": {\"anchor\": \"x3\", \"domain\": [0.0, 1.0], \"matches\": \"y\", \"showticklabels\": false}},                        {\"responsive\": true}                    ).then(function(){\n",
       "                            \n",
       "var gd = document.getElementById('60320553-8c05-412f-b46c-fdd5d019d6c4');\n",
       "var x = new MutationObserver(function (mutations, observer) {{\n",
       "        var display = window.getComputedStyle(gd).display;\n",
       "        if (!display || display === 'none') {{\n",
       "            console.log([gd, 'removed!']);\n",
       "            Plotly.purge(gd);\n",
       "            observer.disconnect();\n",
       "        }}\n",
       "}});\n",
       "\n",
       "// Listen for the removal of the full notebook cells\n",
       "var notebookContainer = gd.closest('#notebook-container');\n",
       "if (notebookContainer) {{\n",
       "    x.observe(notebookContainer, {childList: true});\n",
       "}}\n",
       "\n",
       "// Listen for the clearing of the current output cell\n",
       "var outputEl = gd.closest('.output');\n",
       "if (outputEl) {{\n",
       "    x.observe(outputEl, {childList: true});\n",
       "}}\n",
       "\n",
       "                        })                };                });            </script>        </div>"
      ]
     },
     "metadata": {},
     "output_type": "display_data"
    },
    {
     "data": {
      "application/vnd.plotly.v1+json": {
       "config": {
        "plotlyServerURL": "https://plot.ly"
       },
       "data": [
        {
         "customdata": [
          [
           "publius_septimius_geta--parents--julia_domna",
           0.9722038
          ],
          [
           "alice_of_bourbon_parma--parents--louise_marie_therese_of_france",
           0.98301446
          ],
          [
           "princess_amelia_sophia_of_great_britain--parents--george_ii_of_great_britain",
           0.9859283
          ],
          [
           "christian_v_of_denmark--parents--sophia_amelia_of_brunswick_luneburg",
           0.976494
          ],
          [
           "frederick_terman--parents--lewis_terman",
           0.9708561
          ],
          [
           "lady_jane_grey--parents--lady_frances_brandon",
           0.98196423
          ],
          [
           "princess_cecilia_of_sweden_1807--parents--gustav_iv_adolf_of_sweden",
           0.9776373
          ],
          [
           "maria_luisa_of_savoy--parents--victor_amadeus_ii_of_sardinia",
           0.96920353
          ],
          [
           "antiochus_iii_the_great--parents--seleucus_ii_callinicus",
           0.9850825
          ],
          [
           "augustus_pugin--parents--augustus_charles_pugin",
           0.98073936
          ],
          [
           "geoffrey_ii_duke_of_brittany--parents--henry_ii_of_england",
           0.9751305
          ],
          [
           "frederick_ix_of_denmark--parents--christian_x_of_denmark",
           0.9503574
          ],
          [
           "james_rudolph_garfield--parents--james_garfield",
           0.9808333
          ],
          [
           "minamoto_no_yoriie--parents--hojo_masako",
           0.9856418
          ],
          [
           "abdulmecid--parents--mahmud_ii",
           0.9892191
          ],
          [
           "margaret_of_york--parents--cecily_neville",
           0.9874077
          ],
          [
           "emperor_komei--parents--emperor_ninko",
           0.9812971
          ],
          [
           "theuderic_iii--parents--balthild",
           0.97680193
          ],
          [
           "frances_gulick--parents--luther_gulick",
           0.941363
          ],
          [
           "princess_ileana_of_romania--parents--marie_of_edinburgh",
           0.9851478
          ],
          [
           "jovan_vladimir--parents--petrislav_of_duklja_and_travunia",
           0.9737017
          ],
          [
           "albert_francis_capone--parents--mae_capone",
           0.9512877
          ],
          [
           "mary_plantagenet--parents--edward_iii_of_england",
           0.9811323
          ],
          [
           "john_iii_of_sweden--parents--gustav_i_of_sweden",
           0.9552274
          ],
          [
           "george_crown_prince_of_serbia--parents--zorka_of_montenegro",
           0.9777884
          ],
          [
           "prince_augustus_frederick_duke_of_sussex--parents--charlotte_of_mecklenburg-strelitz",
           0.97009754
          ],
          [
           "princess_elizabeth_of_the_united_kingdom--parents--george_iii_of_the_united_kingdom",
           0.9633542
          ],
          [
           "sebastian_of_portugal--parents--john_crown_prince_of_portugal",
           0.97903824
          ],
          [
           "lindsay_crosby--parents--bing_crosby",
           0.96038955
          ],
          [
           "dominik_mikolaj_radziwill--parents--aleksander_ludwik_radziwill",
           0.97936845
          ],
          [
           "elizabeth_medora_leigh--parents--george_byron_6th_baron_byron",
           0.96682817
          ],
          [
           "prince_henry_of_prussia--parents--sophia_dorothea_of_hanover",
           0.98229516
          ],
          [
           "charlotte_princess_royal--parents--charlotte_of_mecklenburg-strelitz",
           0.9730996
          ],
          [
           "princess_adelgunde_of_bavaria--parents--therese_of_saxe_hildburghausen",
           0.98799706
          ],
          [
           "hans_albert_einstein--parents--mileva_maric",
           0.98081756
          ],
          [
           "alexis_i_du_pont_bayard--parents--thomas_f_bayard_jr",
           0.9787707
          ],
          [
           "baltasar_carlos_prince_of_asturias--parents--philip_iv_of_spain",
           0.97654176
          ],
          [
           "archduchess_luise_princess_of_tuscany--parents--ferdinand_iv_grand_duke_of_tuscany",
           0.9771985
          ],
          [
           "cleopatra_thea--parents--cleopatra_ii_of_egypt",
           0.9881151
          ],
          [
           "aleksandar_obrenovic--parents--natalija_obrenovic",
           0.9815599
          ],
          [
           "rudolph_i_of_bohemia--parents--albert_i_of_germany",
           0.97996587
          ],
          [
           "charles_ii_gonzaga--parents--charles_i_duke_of_mantua",
           0.9748905
          ],
          [
           "augusta_of_cambridge--parents--princess_augusta_of_hesse-kassel",
           0.98547643
          ],
          [
           "chiang_wei-kuo--parents--tai_chi-tao",
           0.9765339
          ],
          [
           "maria_isabel_of_portugal--parents--john_vi_of_portugal",
           0.9896506
          ]
         ],
         "hovertemplate": "hops=1hop<br>raw_score=%{x}<br>linklogic=%{y}<br>query_triple=%{customdata[0]}<br>query_triple_kge_score=%{customdata[1]}<br>num_true=%{marker.color}<extra></extra>",
         "legendgroup": "",
         "marker": {
          "color": [
           2,
           2,
           7,
           3,
           1,
           3,
           3,
           3,
           1,
           1,
           8,
           2,
           1,
           2,
           2,
           6,
           1,
           1,
           1,
           6,
           1,
           1,
           7,
           5,
           3,
           15,
           15,
           1,
           2,
           2,
           3,
           10,
           15,
           8,
           2,
           1,
           6,
           2,
           4,
           1,
           4,
           2,
           3,
           1,
           8
          ],
          "coloraxis": "coloraxis",
          "line": {
           "color": "lightgrey",
           "width": 0.5
          },
          "opacity": 0.5,
          "size": 8,
          "symbol": "circle"
         },
         "mode": "markers",
         "name": "",
         "orientation": "v",
         "showlegend": false,
         "type": "scatter",
         "x": [
          0.6240505200038378,
          0.57064171895532,
          0.8586825918244816,
          0.9060254355346823,
          0.6309297535714573,
          0.732828620477791,
          0.5881601264058985,
          0.8529278650606568,
          1,
          1,
          0.7523694914801552,
          0.43062411638656717,
          0.5,
          0.6240505200038378,
          0.7903864795495061,
          0.7791723042503585,
          0.6309297535714573,
          0.35620718710802235,
          1,
          0.8998587643699822,
          1,
          0.38685280723454163,
          0.9256850023120645,
          0.4706340741150935,
          0.5239472913541398,
          0.921855557838386,
          0.7613831983540764,
          0.4306765580733929,
          0.9197207891481877,
          1,
          0.7844801364718916,
          0.8173214112308467,
          0.9205352703085707,
          0.7463104175395293,
          0.6240505200038378,
          1,
          0.8933138436362861,
          0.6240505200038378,
          0.8276904491046954,
          0.6309297535714573,
          0.9047172294870751,
          0.6934264036172708,
          1,
          0.4306765580733929,
          0.9623322809981272
         ],
         "xaxis": "x",
         "y": [
          0.9197207891481877,
          0.8315546295836228,
          0.6317533563351223,
          0.755837535342991,
          1,
          0.7832440810610274,
          0.732832652723318,
          0.7162162581856992,
          1,
          1,
          0.6013764754743106,
          0.7189660199418173,
          1,
          0.8772153153380493,
          0.8772153153380493,
          0.5640717856778384,
          1,
          1,
          1,
          0.5647908891671025,
          1,
          1,
          0.7296657447703762,
          0.6889428593082426,
          0.8529278650606568,
          0.598670363716936,
          0.6612573855988182,
          1,
          0.7250676979157327,
          0.7388306039419795,
          0.8529278650606568,
          0.6204174805211068,
          0.6872566546532044,
          0.660312891337312,
          0.8065735963827294,
          1,
          0.5509111413741669,
          0.9197207891481877,
          0.7375002708736418,
          1,
          0.8220230903936452,
          0.7275679521469698,
          0.7878183814550751,
          1,
          0.6413066953527117
         ],
         "yaxis": "y"
        },
        {
         "customdata": [
          [
           "publius_septimius_geta--parents--julia_domna",
           0.9722038
          ],
          [
           "princess_amelia_sophia_of_great_britain--parents--george_ii_of_great_britain",
           0.9859283
          ],
          [
           "christian_v_of_denmark--parents--sophia_amelia_of_brunswick_luneburg",
           0.976494
          ],
          [
           "lady_jane_grey--parents--lady_frances_brandon",
           0.98196423
          ],
          [
           "princess_cecilia_of_sweden_1807--parents--gustav_iv_adolf_of_sweden",
           0.9776373
          ],
          [
           "pierre_koechlin--parents--emma_rossier",
           0.9553046
          ],
          [
           "maria_luisa_of_savoy--parents--victor_amadeus_ii_of_sardinia",
           0.96920353
          ],
          [
           "marie_of_brienne--parents--berenguela_of_leon",
           0.97387797
          ],
          [
           "geoffrey_ii_duke_of_brittany--parents--henry_ii_of_england",
           0.9751305
          ],
          [
           "frederick_ix_of_denmark--parents--christian_x_of_denmark",
           0.9503574
          ],
          [
           "james_rudolph_garfield--parents--james_garfield",
           0.9808333
          ],
          [
           "minamoto_no_yoriie--parents--hojo_masako",
           0.9856418
          ],
          [
           "abdulmecid--parents--mahmud_ii",
           0.9892191
          ],
          [
           "margaret_of_york--parents--cecily_neville",
           0.9874077
          ],
          [
           "theuderic_iii--parents--balthild",
           0.97680193
          ],
          [
           "princess_ileana_of_romania--parents--marie_of_edinburgh",
           0.9851478
          ],
          [
           "william_michael_rossetti--parents--gabriele_rossetti",
           0.9867381
          ],
          [
           "albert_francis_capone--parents--mae_capone",
           0.9512877
          ],
          [
           "mary_plantagenet--parents--edward_iii_of_england",
           0.9811323
          ],
          [
           "john_iii_of_sweden--parents--gustav_i_of_sweden",
           0.9552274
          ],
          [
           "prince_augustus_frederick_duke_of_sussex--parents--charlotte_of_mecklenburg-strelitz",
           0.97009754
          ],
          [
           "princess_elizabeth_of_the_united_kingdom--parents--george_iii_of_the_united_kingdom",
           0.9633542
          ],
          [
           "lindsay_crosby--parents--bing_crosby",
           0.96038955
          ],
          [
           "prince_henry_of_prussia--parents--sophia_dorothea_of_hanover",
           0.98229516
          ],
          [
           "charlotte_princess_royal--parents--charlotte_of_mecklenburg-strelitz",
           0.9730996
          ],
          [
           "princess_adelgunde_of_bavaria--parents--therese_of_saxe_hildburghausen",
           0.98799706
          ],
          [
           "hans_albert_einstein--parents--mileva_maric",
           0.98081756
          ],
          [
           "theodore_ii_laskaris--parents--irene_lascarina",
           0.9648506
          ],
          [
           "baltasar_carlos_prince_of_asturias--parents--philip_iv_of_spain",
           0.97654176
          ],
          [
           "archduchess_luise_princess_of_tuscany--parents--ferdinand_iv_grand_duke_of_tuscany",
           0.9771985
          ],
          [
           "aleksandar_obrenovic--parents--natalija_obrenovic",
           0.9815599
          ],
          [
           "irene_doukaina_laskarina--parents--elena_of_bulgaria",
           0.9592115
          ],
          [
           "augusta_of_cambridge--parents--princess_augusta_of_hesse-kassel",
           0.98547643
          ]
         ],
         "hovertemplate": "hops=2hop<br>raw_score=%{x}<br>linklogic=%{y}<br>query_triple=%{customdata[0]}<br>query_triple_kge_score=%{customdata[1]}<br>num_true=%{marker.color}<extra></extra>",
         "legendgroup": "",
         "marker": {
          "color": [
           2,
           2,
           2,
           1,
           2,
           1,
           2,
           1,
           2,
           2,
           2,
           2,
           2,
           2,
           2,
           2,
           1,
           2,
           2,
           2,
           2,
           2,
           2,
           2,
           2,
           2,
           2,
           1,
           2,
           2,
           2,
           1,
           2
          ],
          "coloraxis": "coloraxis",
          "line": {
           "color": "lightgrey",
           "width": 0.5
          },
          "opacity": 0.5,
          "size": 8,
          "symbol": "circle"
         },
         "mode": "markers",
         "name": "",
         "orientation": "v",
         "showlegend": false,
         "type": "scatter",
         "x": [
          1,
          1,
          1,
          1,
          1,
          1,
          1,
          1,
          1,
          1,
          1,
          1,
          1,
          1,
          1,
          1,
          1,
          1,
          1,
          1,
          1,
          1,
          1,
          1,
          1,
          1,
          1,
          0.6309297535714573,
          1,
          1,
          1,
          1,
          1
         ],
         "xaxis": "x2",
         "y": [
          0.6934264036172708,
          1,
          0.9197207891481877,
          0.6309297535714573,
          0.7349274835704961,
          1,
          0.8315546295836228,
          1,
          1,
          0.5437713091520254,
          0.57064171895532,
          0.6509209298071323,
          0.8772153153380493,
          0.9197207891481877,
          0.9197207891481877,
          1,
          1,
          1,
          1,
          1,
          0.9197207891481877,
          0.9197207891481877,
          0.6934264036172708,
          0.9197207891481877,
          0.6509209298071323,
          0.9197207891481877,
          0.6509209298071323,
          0.4306765580733929,
          1,
          0.57064171895532,
          1,
          1,
          0.8503449055347547
         ],
         "yaxis": "y2"
        },
        {
         "customdata": [
          [
           "publius_septimius_geta--parents--julia_domna",
           0.9722038
          ],
          [
           "alice_of_bourbon_parma--parents--louise_marie_therese_of_france",
           0.98301446
          ],
          [
           "princess_amelia_sophia_of_great_britain--parents--george_ii_of_great_britain",
           0.9859283
          ],
          [
           "christian_v_of_denmark--parents--sophia_amelia_of_brunswick_luneburg",
           0.976494
          ],
          [
           "frederick_terman--parents--lewis_terman",
           0.9708561
          ],
          [
           "lady_jane_grey--parents--lady_frances_brandon",
           0.98196423
          ],
          [
           "princess_cecilia_of_sweden_1807--parents--gustav_iv_adolf_of_sweden",
           0.9776373
          ],
          [
           "pierre_koechlin--parents--emma_rossier",
           0.9553046
          ],
          [
           "maria_luisa_of_savoy--parents--victor_amadeus_ii_of_sardinia",
           0.96920353
          ],
          [
           "antiochus_iii_the_great--parents--seleucus_ii_callinicus",
           0.9850825
          ],
          [
           "augustus_pugin--parents--augustus_charles_pugin",
           0.98073936
          ],
          [
           "marie_of_brienne--parents--berenguela_of_leon",
           0.97387797
          ],
          [
           "geoffrey_ii_duke_of_brittany--parents--henry_ii_of_england",
           0.9751305
          ],
          [
           "frederick_ix_of_denmark--parents--christian_x_of_denmark",
           0.9503574
          ],
          [
           "james_rudolph_garfield--parents--james_garfield",
           0.9808333
          ],
          [
           "minamoto_no_yoriie--parents--hojo_masako",
           0.9856418
          ],
          [
           "abdulmecid--parents--mahmud_ii",
           0.9892191
          ],
          [
           "margaret_of_york--parents--cecily_neville",
           0.9874077
          ],
          [
           "emperor_komei--parents--emperor_ninko",
           0.9812971
          ],
          [
           "theuderic_iii--parents--balthild",
           0.97680193
          ],
          [
           "frances_gulick--parents--luther_gulick",
           0.941363
          ],
          [
           "princess_ileana_of_romania--parents--marie_of_edinburgh",
           0.9851478
          ],
          [
           "jovan_vladimir--parents--petrislav_of_duklja_and_travunia",
           0.9737017
          ],
          [
           "william_michael_rossetti--parents--gabriele_rossetti",
           0.9867381
          ],
          [
           "albert_francis_capone--parents--mae_capone",
           0.9512877
          ],
          [
           "mary_plantagenet--parents--edward_iii_of_england",
           0.9811323
          ],
          [
           "john_iii_of_sweden--parents--gustav_i_of_sweden",
           0.9552274
          ],
          [
           "george_crown_prince_of_serbia--parents--zorka_of_montenegro",
           0.9777884
          ],
          [
           "prince_augustus_frederick_duke_of_sussex--parents--charlotte_of_mecklenburg-strelitz",
           0.97009754
          ],
          [
           "princess_elizabeth_of_the_united_kingdom--parents--george_iii_of_the_united_kingdom",
           0.9633542
          ],
          [
           "sebastian_of_portugal--parents--john_crown_prince_of_portugal",
           0.97903824
          ],
          [
           "lindsay_crosby--parents--bing_crosby",
           0.96038955
          ],
          [
           "dominik_mikolaj_radziwill--parents--aleksander_ludwik_radziwill",
           0.97936845
          ],
          [
           "elizabeth_medora_leigh--parents--george_byron_6th_baron_byron",
           0.96682817
          ],
          [
           "prince_henry_of_prussia--parents--sophia_dorothea_of_hanover",
           0.98229516
          ],
          [
           "charlotte_princess_royal--parents--charlotte_of_mecklenburg-strelitz",
           0.9730996
          ],
          [
           "princess_adelgunde_of_bavaria--parents--therese_of_saxe_hildburghausen",
           0.98799706
          ],
          [
           "hans_albert_einstein--parents--mileva_maric",
           0.98081756
          ],
          [
           "alexis_i_du_pont_bayard--parents--thomas_f_bayard_jr",
           0.9787707
          ],
          [
           "theodore_ii_laskaris--parents--irene_lascarina",
           0.9648506
          ],
          [
           "baltasar_carlos_prince_of_asturias--parents--philip_iv_of_spain",
           0.97654176
          ],
          [
           "archduchess_luise_princess_of_tuscany--parents--ferdinand_iv_grand_duke_of_tuscany",
           0.9771985
          ],
          [
           "cleopatra_thea--parents--cleopatra_ii_of_egypt",
           0.9881151
          ],
          [
           "aleksandar_obrenovic--parents--natalija_obrenovic",
           0.9815599
          ],
          [
           "irene_doukaina_laskarina--parents--elena_of_bulgaria",
           0.9592115
          ],
          [
           "rudolph_i_of_bohemia--parents--albert_i_of_germany",
           0.97996587
          ],
          [
           "charles_ii_gonzaga--parents--charles_i_duke_of_mantua",
           0.9748905
          ],
          [
           "augusta_of_cambridge--parents--princess_augusta_of_hesse-kassel",
           0.98547643
          ],
          [
           "chiang_wei-kuo--parents--tai_chi-tao",
           0.9765339
          ],
          [
           "maria_isabel_of_portugal--parents--john_vi_of_portugal",
           0.9896506
          ]
         ],
         "hovertemplate": "hops=all<br>raw_score=%{x}<br>linklogic=%{y}<br>query_triple=%{customdata[0]}<br>query_triple_kge_score=%{customdata[1]}<br>num_true=%{marker.color}<extra></extra>",
         "legendgroup": "",
         "marker": {
          "color": [
           4,
           2,
           9,
           5,
           1,
           4,
           5,
           1,
           5,
           1,
           1,
           1,
           10,
           4,
           3,
           4,
           4,
           8,
           1,
           3,
           1,
           8,
           1,
           1,
           3,
           9,
           7,
           3,
           17,
           17,
           1,
           4,
           2,
           3,
           12,
           17,
           10,
           4,
           1,
           1,
           8,
           4,
           4,
           3,
           1,
           4,
           2,
           5,
           1,
           8
          ],
          "coloraxis": "coloraxis",
          "line": {
           "color": "lightgrey",
           "width": 0.5
          },
          "opacity": 0.5,
          "size": 8,
          "symbol": "circle"
         },
         "mode": "markers",
         "name": "",
         "orientation": "v",
         "showlegend": false,
         "type": "scatter",
         "x": [
          0.8397730354659674,
          0.2537579740823649,
          0.6903293174189808,
          0.7415024506678048,
          0.6309297535714573,
          0.6268114371726364,
          0.7625348876208002,
          1,
          0.7642356891596209,
          0.2626495350371938,
          0.38685280723454163,
          1,
          0.6515631669794042,
          0.7966850442836542,
          0.8886164761813454,
          0.8107039262096658,
          0.7853588624479882,
          0.6850533503859856,
          0.28906482631788766,
          0.8677123412716871,
          1,
          0.6953149212310836,
          1,
          1,
          0.8962626271568189,
          0.68444955570389,
          0.6889954242717761,
          0.3053719715616364,
          0.6433029104764093,
          0.6372176561975629,
          0.22767024869695263,
          0.8481093384192857,
          0.3482723708517656,
          0.30832851667326283,
          0.6523596019430701,
          0.6357373477644191,
          0.6612414286437492,
          0.8397730354659674,
          0.3154648767857289,
          0.6309297535714573,
          0.6876693820241203,
          0.8107039262096658,
          0.3085643301934963,
          0.9010126104210694,
          1,
          0.3241725814797817,
          0.3102267425692944,
          0.7848920220149774,
          0.2702381544273198,
          0.35773978768802356
         ],
         "xaxis": "x3",
         "y": [
          0.7116502962349941,
          0.8315546295836228,
          0.5935292862523176,
          0.6490632486905941,
          1,
          0.7022579219154342,
          0.6353136055543083,
          0.35620718710802235,
          0.6170679387699733,
          1,
          1,
          0.1730517848637372,
          0.5647285926218844,
          0.5748430486545271,
          0.6253857392281226,
          0.6961569641818836,
          0.6872723664688878,
          0.5232502802959617,
          1,
          0.6355034627521062,
          1,
          0.599173532701779,
          1,
          0.17304454824531296,
          0.8603443310417204,
          0.6814470122862115,
          0.6297019601014525,
          0.8529278650606568,
          0.5529433713896595,
          0.6265579448946689,
          1,
          0.5964632957844672,
          0.7309524846540226,
          0.8529278650606568,
          0.5855496808213373,
          0.6397266938522849,
          0.622238194681943,
          0.5712285610640588,
          1,
          0.17424745130670605,
          0.5167424463582111,
          0.5815138287986616,
          0.7194269823881173,
          0.8529278650606568,
          0.17577727138226662,
          0.8166729627171838,
          0.7171132253323854,
          0.6712295966365736,
          1,
          0.621275278403074
         ],
         "yaxis": "y3"
        }
       ],
       "layout": {
        "annotations": [
         {
          "font": {},
          "showarrow": false,
          "text": "hops=1hop",
          "x": 0.15999999999999998,
          "xanchor": "center",
          "xref": "paper",
          "y": 1,
          "yanchor": "bottom",
          "yref": "paper"
         },
         {
          "font": {},
          "showarrow": false,
          "text": "hops=2hop",
          "x": 0.49999999999999994,
          "xanchor": "center",
          "xref": "paper",
          "y": 1,
          "yanchor": "bottom",
          "yref": "paper"
         },
         {
          "font": {},
          "showarrow": false,
          "text": "hops=all",
          "x": 0.8399999999999999,
          "xanchor": "center",
          "xref": "paper",
          "y": 1,
          "yanchor": "bottom",
          "yref": "paper"
         }
        ],
        "coloraxis": {
         "colorbar": {
          "title": {
           "text": "num_true"
          }
         },
         "colorscale": [
          [
           0,
           "rgb(253, 237, 176)"
          ],
          [
           0.09090909090909091,
           "rgb(250, 205, 145)"
          ],
          [
           0.18181818181818182,
           "rgb(246, 173, 119)"
          ],
          [
           0.2727272727272727,
           "rgb(240, 142, 98)"
          ],
          [
           0.36363636363636365,
           "rgb(231, 109, 84)"
          ],
          [
           0.45454545454545453,
           "rgb(216, 80, 83)"
          ],
          [
           0.5454545454545454,
           "rgb(195, 56, 90)"
          ],
          [
           0.6363636363636364,
           "rgb(168, 40, 96)"
          ],
          [
           0.7272727272727273,
           "rgb(138, 29, 99)"
          ],
          [
           0.8181818181818182,
           "rgb(107, 24, 93)"
          ],
          [
           0.9090909090909091,
           "rgb(76, 21, 80)"
          ],
          [
           1,
           "rgb(47, 15, 61)"
          ]
         ]
        },
        "height": 300,
        "legend": {
         "tracegroupgap": 0
        },
        "margin": {
         "t": 60
        },
        "plot_bgcolor": "#f0f0f0",
        "shapes": [
         {
          "line": {
           "color": "gray",
           "dash": "dot",
           "width": 1
          },
          "type": "line",
          "x0": 0,
          "x1": 1.1,
          "xref": "x",
          "y0": 0,
          "y1": 1.1,
          "yref": "y"
         },
         {
          "line": {
           "color": "gray",
           "dash": "dot",
           "width": 1
          },
          "type": "line",
          "x0": 0,
          "x1": 1.1,
          "xref": "x2",
          "y0": 0,
          "y1": 1.1,
          "yref": "y2"
         },
         {
          "line": {
           "color": "gray",
           "dash": "dot",
           "width": 1
          },
          "type": "line",
          "x0": 0,
          "x1": 1.1,
          "xref": "x3",
          "y0": 0,
          "y1": 1.1,
          "yref": "y3"
         }
        ],
        "template": {
         "data": {
          "bar": [
           {
            "error_x": {
             "color": "#2a3f5f"
            },
            "error_y": {
             "color": "#2a3f5f"
            },
            "marker": {
             "line": {
              "color": "#E5ECF6",
              "width": 0.5
             }
            },
            "type": "bar"
           }
          ],
          "barpolar": [
           {
            "marker": {
             "line": {
              "color": "#E5ECF6",
              "width": 0.5
             }
            },
            "type": "barpolar"
           }
          ],
          "carpet": [
           {
            "aaxis": {
             "endlinecolor": "#2a3f5f",
             "gridcolor": "white",
             "linecolor": "white",
             "minorgridcolor": "white",
             "startlinecolor": "#2a3f5f"
            },
            "baxis": {
             "endlinecolor": "#2a3f5f",
             "gridcolor": "white",
             "linecolor": "white",
             "minorgridcolor": "white",
             "startlinecolor": "#2a3f5f"
            },
            "type": "carpet"
           }
          ],
          "choropleth": [
           {
            "colorbar": {
             "outlinewidth": 0,
             "ticks": ""
            },
            "type": "choropleth"
           }
          ],
          "contour": [
           {
            "colorbar": {
             "outlinewidth": 0,
             "ticks": ""
            },
            "colorscale": [
             [
              0,
              "#0d0887"
             ],
             [
              0.1111111111111111,
              "#46039f"
             ],
             [
              0.2222222222222222,
              "#7201a8"
             ],
             [
              0.3333333333333333,
              "#9c179e"
             ],
             [
              0.4444444444444444,
              "#bd3786"
             ],
             [
              0.5555555555555556,
              "#d8576b"
             ],
             [
              0.6666666666666666,
              "#ed7953"
             ],
             [
              0.7777777777777778,
              "#fb9f3a"
             ],
             [
              0.8888888888888888,
              "#fdca26"
             ],
             [
              1,
              "#f0f921"
             ]
            ],
            "type": "contour"
           }
          ],
          "contourcarpet": [
           {
            "colorbar": {
             "outlinewidth": 0,
             "ticks": ""
            },
            "type": "contourcarpet"
           }
          ],
          "heatmap": [
           {
            "colorbar": {
             "outlinewidth": 0,
             "ticks": ""
            },
            "colorscale": [
             [
              0,
              "#0d0887"
             ],
             [
              0.1111111111111111,
              "#46039f"
             ],
             [
              0.2222222222222222,
              "#7201a8"
             ],
             [
              0.3333333333333333,
              "#9c179e"
             ],
             [
              0.4444444444444444,
              "#bd3786"
             ],
             [
              0.5555555555555556,
              "#d8576b"
             ],
             [
              0.6666666666666666,
              "#ed7953"
             ],
             [
              0.7777777777777778,
              "#fb9f3a"
             ],
             [
              0.8888888888888888,
              "#fdca26"
             ],
             [
              1,
              "#f0f921"
             ]
            ],
            "type": "heatmap"
           }
          ],
          "heatmapgl": [
           {
            "colorbar": {
             "outlinewidth": 0,
             "ticks": ""
            },
            "colorscale": [
             [
              0,
              "#0d0887"
             ],
             [
              0.1111111111111111,
              "#46039f"
             ],
             [
              0.2222222222222222,
              "#7201a8"
             ],
             [
              0.3333333333333333,
              "#9c179e"
             ],
             [
              0.4444444444444444,
              "#bd3786"
             ],
             [
              0.5555555555555556,
              "#d8576b"
             ],
             [
              0.6666666666666666,
              "#ed7953"
             ],
             [
              0.7777777777777778,
              "#fb9f3a"
             ],
             [
              0.8888888888888888,
              "#fdca26"
             ],
             [
              1,
              "#f0f921"
             ]
            ],
            "type": "heatmapgl"
           }
          ],
          "histogram": [
           {
            "marker": {
             "colorbar": {
              "outlinewidth": 0,
              "ticks": ""
             }
            },
            "type": "histogram"
           }
          ],
          "histogram2d": [
           {
            "colorbar": {
             "outlinewidth": 0,
             "ticks": ""
            },
            "colorscale": [
             [
              0,
              "#0d0887"
             ],
             [
              0.1111111111111111,
              "#46039f"
             ],
             [
              0.2222222222222222,
              "#7201a8"
             ],
             [
              0.3333333333333333,
              "#9c179e"
             ],
             [
              0.4444444444444444,
              "#bd3786"
             ],
             [
              0.5555555555555556,
              "#d8576b"
             ],
             [
              0.6666666666666666,
              "#ed7953"
             ],
             [
              0.7777777777777778,
              "#fb9f3a"
             ],
             [
              0.8888888888888888,
              "#fdca26"
             ],
             [
              1,
              "#f0f921"
             ]
            ],
            "type": "histogram2d"
           }
          ],
          "histogram2dcontour": [
           {
            "colorbar": {
             "outlinewidth": 0,
             "ticks": ""
            },
            "colorscale": [
             [
              0,
              "#0d0887"
             ],
             [
              0.1111111111111111,
              "#46039f"
             ],
             [
              0.2222222222222222,
              "#7201a8"
             ],
             [
              0.3333333333333333,
              "#9c179e"
             ],
             [
              0.4444444444444444,
              "#bd3786"
             ],
             [
              0.5555555555555556,
              "#d8576b"
             ],
             [
              0.6666666666666666,
              "#ed7953"
             ],
             [
              0.7777777777777778,
              "#fb9f3a"
             ],
             [
              0.8888888888888888,
              "#fdca26"
             ],
             [
              1,
              "#f0f921"
             ]
            ],
            "type": "histogram2dcontour"
           }
          ],
          "mesh3d": [
           {
            "colorbar": {
             "outlinewidth": 0,
             "ticks": ""
            },
            "type": "mesh3d"
           }
          ],
          "parcoords": [
           {
            "line": {
             "colorbar": {
              "outlinewidth": 0,
              "ticks": ""
             }
            },
            "type": "parcoords"
           }
          ],
          "pie": [
           {
            "automargin": true,
            "type": "pie"
           }
          ],
          "scatter": [
           {
            "marker": {
             "colorbar": {
              "outlinewidth": 0,
              "ticks": ""
             }
            },
            "type": "scatter"
           }
          ],
          "scatter3d": [
           {
            "line": {
             "colorbar": {
              "outlinewidth": 0,
              "ticks": ""
             }
            },
            "marker": {
             "colorbar": {
              "outlinewidth": 0,
              "ticks": ""
             }
            },
            "type": "scatter3d"
           }
          ],
          "scattercarpet": [
           {
            "marker": {
             "colorbar": {
              "outlinewidth": 0,
              "ticks": ""
             }
            },
            "type": "scattercarpet"
           }
          ],
          "scattergeo": [
           {
            "marker": {
             "colorbar": {
              "outlinewidth": 0,
              "ticks": ""
             }
            },
            "type": "scattergeo"
           }
          ],
          "scattergl": [
           {
            "marker": {
             "colorbar": {
              "outlinewidth": 0,
              "ticks": ""
             }
            },
            "type": "scattergl"
           }
          ],
          "scattermapbox": [
           {
            "marker": {
             "colorbar": {
              "outlinewidth": 0,
              "ticks": ""
             }
            },
            "type": "scattermapbox"
           }
          ],
          "scatterpolar": [
           {
            "marker": {
             "colorbar": {
              "outlinewidth": 0,
              "ticks": ""
             }
            },
            "type": "scatterpolar"
           }
          ],
          "scatterpolargl": [
           {
            "marker": {
             "colorbar": {
              "outlinewidth": 0,
              "ticks": ""
             }
            },
            "type": "scatterpolargl"
           }
          ],
          "scatterternary": [
           {
            "marker": {
             "colorbar": {
              "outlinewidth": 0,
              "ticks": ""
             }
            },
            "type": "scatterternary"
           }
          ],
          "surface": [
           {
            "colorbar": {
             "outlinewidth": 0,
             "ticks": ""
            },
            "colorscale": [
             [
              0,
              "#0d0887"
             ],
             [
              0.1111111111111111,
              "#46039f"
             ],
             [
              0.2222222222222222,
              "#7201a8"
             ],
             [
              0.3333333333333333,
              "#9c179e"
             ],
             [
              0.4444444444444444,
              "#bd3786"
             ],
             [
              0.5555555555555556,
              "#d8576b"
             ],
             [
              0.6666666666666666,
              "#ed7953"
             ],
             [
              0.7777777777777778,
              "#fb9f3a"
             ],
             [
              0.8888888888888888,
              "#fdca26"
             ],
             [
              1,
              "#f0f921"
             ]
            ],
            "type": "surface"
           }
          ],
          "table": [
           {
            "cells": {
             "fill": {
              "color": "#EBF0F8"
             },
             "line": {
              "color": "white"
             }
            },
            "header": {
             "fill": {
              "color": "#C8D4E3"
             },
             "line": {
              "color": "white"
             }
            },
            "type": "table"
           }
          ]
         },
         "layout": {
          "annotationdefaults": {
           "arrowcolor": "#2a3f5f",
           "arrowhead": 0,
           "arrowwidth": 1
          },
          "autotypenumbers": "strict",
          "coloraxis": {
           "colorbar": {
            "outlinewidth": 0,
            "ticks": ""
           }
          },
          "colorscale": {
           "diverging": [
            [
             0,
             "#8e0152"
            ],
            [
             0.1,
             "#c51b7d"
            ],
            [
             0.2,
             "#de77ae"
            ],
            [
             0.3,
             "#f1b6da"
            ],
            [
             0.4,
             "#fde0ef"
            ],
            [
             0.5,
             "#f7f7f7"
            ],
            [
             0.6,
             "#e6f5d0"
            ],
            [
             0.7,
             "#b8e186"
            ],
            [
             0.8,
             "#7fbc41"
            ],
            [
             0.9,
             "#4d9221"
            ],
            [
             1,
             "#276419"
            ]
           ],
           "sequential": [
            [
             0,
             "#0d0887"
            ],
            [
             0.1111111111111111,
             "#46039f"
            ],
            [
             0.2222222222222222,
             "#7201a8"
            ],
            [
             0.3333333333333333,
             "#9c179e"
            ],
            [
             0.4444444444444444,
             "#bd3786"
            ],
            [
             0.5555555555555556,
             "#d8576b"
            ],
            [
             0.6666666666666666,
             "#ed7953"
            ],
            [
             0.7777777777777778,
             "#fb9f3a"
            ],
            [
             0.8888888888888888,
             "#fdca26"
            ],
            [
             1,
             "#f0f921"
            ]
           ],
           "sequentialminus": [
            [
             0,
             "#0d0887"
            ],
            [
             0.1111111111111111,
             "#46039f"
            ],
            [
             0.2222222222222222,
             "#7201a8"
            ],
            [
             0.3333333333333333,
             "#9c179e"
            ],
            [
             0.4444444444444444,
             "#bd3786"
            ],
            [
             0.5555555555555556,
             "#d8576b"
            ],
            [
             0.6666666666666666,
             "#ed7953"
            ],
            [
             0.7777777777777778,
             "#fb9f3a"
            ],
            [
             0.8888888888888888,
             "#fdca26"
            ],
            [
             1,
             "#f0f921"
            ]
           ]
          },
          "colorway": [
           "#636efa",
           "#EF553B",
           "#00cc96",
           "#ab63fa",
           "#FFA15A",
           "#19d3f3",
           "#FF6692",
           "#B6E880",
           "#FF97FF",
           "#FECB52"
          ],
          "font": {
           "color": "#2a3f5f"
          },
          "geo": {
           "bgcolor": "white",
           "lakecolor": "white",
           "landcolor": "#E5ECF6",
           "showlakes": true,
           "showland": true,
           "subunitcolor": "white"
          },
          "hoverlabel": {
           "align": "left"
          },
          "hovermode": "closest",
          "mapbox": {
           "style": "light"
          },
          "paper_bgcolor": "white",
          "plot_bgcolor": "#E5ECF6",
          "polar": {
           "angularaxis": {
            "gridcolor": "white",
            "linecolor": "white",
            "ticks": ""
           },
           "bgcolor": "#E5ECF6",
           "radialaxis": {
            "gridcolor": "white",
            "linecolor": "white",
            "ticks": ""
           }
          },
          "scene": {
           "xaxis": {
            "backgroundcolor": "#E5ECF6",
            "gridcolor": "white",
            "gridwidth": 2,
            "linecolor": "white",
            "showbackground": true,
            "ticks": "",
            "zerolinecolor": "white"
           },
           "yaxis": {
            "backgroundcolor": "#E5ECF6",
            "gridcolor": "white",
            "gridwidth": 2,
            "linecolor": "white",
            "showbackground": true,
            "ticks": "",
            "zerolinecolor": "white"
           },
           "zaxis": {
            "backgroundcolor": "#E5ECF6",
            "gridcolor": "white",
            "gridwidth": 2,
            "linecolor": "white",
            "showbackground": true,
            "ticks": "",
            "zerolinecolor": "white"
           }
          },
          "shapedefaults": {
           "line": {
            "color": "#2a3f5f"
           }
          },
          "ternary": {
           "aaxis": {
            "gridcolor": "white",
            "linecolor": "white",
            "ticks": ""
           },
           "baxis": {
            "gridcolor": "white",
            "linecolor": "white",
            "ticks": ""
           },
           "bgcolor": "#E5ECF6",
           "caxis": {
            "gridcolor": "white",
            "linecolor": "white",
            "ticks": ""
           }
          },
          "title": {
           "x": 0.05
          },
          "xaxis": {
           "automargin": true,
           "gridcolor": "white",
           "linecolor": "white",
           "ticks": "",
           "title": {
            "standoff": 15
           },
           "zerolinecolor": "white",
           "zerolinewidth": 2
          },
          "yaxis": {
           "automargin": true,
           "gridcolor": "white",
           "linecolor": "white",
           "ticks": "",
           "title": {
            "standoff": 15
           },
           "zerolinecolor": "white",
           "zerolinewidth": 2
          }
         }
        },
        "width": 900,
        "xaxis": {
         "anchor": "y",
         "autorange": true,
         "domain": [
          0,
          0.31999999999999995
         ],
         "range": [
          -0.002417794970986461,
          1.1024177949709866
         ],
         "title": {
          "text": "raw_score"
         },
         "type": "linear"
        },
        "xaxis2": {
         "anchor": "y2",
         "autorange": true,
         "domain": [
          0.33999999999999997,
          0.6599999999999999
         ],
         "matches": "x",
         "range": [
          -0.002417794970986461,
          1.1024177949709866
         ],
         "title": {
          "text": "raw_score"
         },
         "type": "linear"
        },
        "xaxis3": {
         "anchor": "y3",
         "autorange": true,
         "domain": [
          0.6799999999999999,
          0.9999999999999999
         ],
         "matches": "x",
         "range": [
          -0.002417794970986461,
          1.1024177949709866
         ],
         "title": {
          "text": "raw_score"
         },
         "type": "linear"
        },
        "yaxis": {
         "anchor": "x",
         "autorange": true,
         "domain": [
          0,
          1
         ],
         "range": [
          -0.003459119496855346,
          1.1034591194968555
         ],
         "title": {
          "text": "linklogic"
         },
         "type": "linear"
        },
        "yaxis2": {
         "anchor": "x2",
         "autorange": true,
         "domain": [
          0,
          1
         ],
         "matches": "y",
         "range": [
          -0.003459119496855346,
          1.1034591194968555
         ],
         "showticklabels": false,
         "type": "linear"
        },
        "yaxis3": {
         "anchor": "x3",
         "autorange": true,
         "domain": [
          0,
          1
         ],
         "matches": "y",
         "range": [
          -0.003459119496855346,
          1.1034591194968555
         ],
         "showticklabels": false,
         "type": "linear"
        }
       }
      },
      "image/png": "[encoded data removed]",
      "text/html": [
       "<div>                            <div id=\"3d2a0df6-b20b-4d57-9a71-986a60d25b24\" class=\"plotly-graph-div\" style=\"height:300px; width:900px;\"></div>            <script type=\"text/javascript\">                require([\"plotly\"], function(Plotly) {                    window.PLOTLYENV=window.PLOTLYENV || {};                                    if (document.getElementById(\"3d2a0df6-b20b-4d57-9a71-986a60d25b24\")) {                    Plotly.newPlot(                        \"3d2a0df6-b20b-4d57-9a71-986a60d25b24\",                        [{\"customdata\": [[\"publius_septimius_geta--parents--julia_domna\", 0.9722038], [\"alice_of_bourbon_parma--parents--louise_marie_therese_of_france\", 0.98301446], [\"princess_amelia_sophia_of_great_britain--parents--george_ii_of_great_britain\", 0.9859283], [\"christian_v_of_denmark--parents--sophia_amelia_of_brunswick_luneburg\", 0.976494], [\"frederick_terman--parents--lewis_terman\", 0.9708561], [\"lady_jane_grey--parents--lady_frances_brandon\", 0.98196423], [\"princess_cecilia_of_sweden_1807--parents--gustav_iv_adolf_of_sweden\", 0.9776373], [\"maria_luisa_of_savoy--parents--victor_amadeus_ii_of_sardinia\", 0.96920353], [\"antiochus_iii_the_great--parents--seleucus_ii_callinicus\", 0.9850825], [\"augustus_pugin--parents--augustus_charles_pugin\", 0.98073936], [\"geoffrey_ii_duke_of_brittany--parents--henry_ii_of_england\", 0.9751305], [\"frederick_ix_of_denmark--parents--christian_x_of_denmark\", 0.9503574], [\"james_rudolph_garfield--parents--james_garfield\", 0.9808333], [\"minamoto_no_yoriie--parents--hojo_masako\", 0.9856418], [\"abdulmecid--parents--mahmud_ii\", 0.9892191], [\"margaret_of_york--parents--cecily_neville\", 0.9874077], [\"emperor_komei--parents--emperor_ninko\", 0.9812971], [\"theuderic_iii--parents--balthild\", 0.97680193], [\"frances_gulick--parents--luther_gulick\", 0.941363], [\"princess_ileana_of_romania--parents--marie_of_edinburgh\", 0.9851478], [\"jovan_vladimir--parents--petrislav_of_duklja_and_travunia\", 0.9737017], [\"albert_francis_capone--parents--mae_capone\", 0.9512877], [\"mary_plantagenet--parents--edward_iii_of_england\", 0.9811323], [\"john_iii_of_sweden--parents--gustav_i_of_sweden\", 0.9552274], [\"george_crown_prince_of_serbia--parents--zorka_of_montenegro\", 0.9777884], [\"prince_augustus_frederick_duke_of_sussex--parents--charlotte_of_mecklenburg-strelitz\", 0.97009754], [\"princess_elizabeth_of_the_united_kingdom--parents--george_iii_of_the_united_kingdom\", 0.9633542], [\"sebastian_of_portugal--parents--john_crown_prince_of_portugal\", 0.97903824], [\"lindsay_crosby--parents--bing_crosby\", 0.96038955], [\"dominik_mikolaj_radziwill--parents--aleksander_ludwik_radziwill\", 0.97936845], [\"elizabeth_medora_leigh--parents--george_byron_6th_baron_byron\", 0.96682817], [\"prince_henry_of_prussia--parents--sophia_dorothea_of_hanover\", 0.98229516], [\"charlotte_princess_royal--parents--charlotte_of_mecklenburg-strelitz\", 0.9730996], [\"princess_adelgunde_of_bavaria--parents--therese_of_saxe_hildburghausen\", 0.98799706], [\"hans_albert_einstein--parents--mileva_maric\", 0.98081756], [\"alexis_i_du_pont_bayard--parents--thomas_f_bayard_jr\", 0.9787707], [\"baltasar_carlos_prince_of_asturias--parents--philip_iv_of_spain\", 0.97654176], [\"archduchess_luise_princess_of_tuscany--parents--ferdinand_iv_grand_duke_of_tuscany\", 0.9771985], [\"cleopatra_thea--parents--cleopatra_ii_of_egypt\", 0.9881151], [\"aleksandar_obrenovic--parents--natalija_obrenovic\", 0.9815599], [\"rudolph_i_of_bohemia--parents--albert_i_of_germany\", 0.97996587], [\"charles_ii_gonzaga--parents--charles_i_duke_of_mantua\", 0.9748905], [\"augusta_of_cambridge--parents--princess_augusta_of_hesse-kassel\", 0.98547643], [\"chiang_wei-kuo--parents--tai_chi-tao\", 0.9765339], [\"maria_isabel_of_portugal--parents--john_vi_of_portugal\", 0.9896506]], \"hovertemplate\": \"hops=1hop<br>raw_score=%{x}<br>linklogic=%{y}<br>query_triple=%{customdata[0]}<br>query_triple_kge_score=%{customdata[1]}<br>num_true=%{marker.color}<extra></extra>\", \"legendgroup\": \"\", \"marker\": {\"color\": [2, 2, 7, 3, 1, 3, 3, 3, 1, 1, 8, 2, 1, 2, 2, 6, 1, 1, 1, 6, 1, 1, 7, 5, 3, 15, 15, 1, 2, 2, 3, 10, 15, 8, 2, 1, 6, 2, 4, 1, 4, 2, 3, 1, 8], \"coloraxis\": \"coloraxis\", \"line\": {\"color\": \"lightgrey\", \"width\": 0.5}, \"opacity\": 0.5, \"size\": 8, \"symbol\": \"circle\"}, \"mode\": \"markers\", \"name\": \"\", \"orientation\": \"v\", \"showlegend\": false, \"type\": \"scatter\", \"x\": [0.6240505200038378, 0.57064171895532, 0.8586825918244816, 0.9060254355346823, 0.6309297535714573, 0.732828620477791, 0.5881601264058985, 0.8529278650606568, 1.0, 1.0, 0.7523694914801552, 0.43062411638656717, 0.5, 0.6240505200038378, 0.7903864795495061, 0.7791723042503585, 0.6309297535714573, 0.35620718710802235, 1.0, 0.8998587643699822, 1.0, 0.38685280723454163, 0.9256850023120645, 0.4706340741150935, 0.5239472913541398, 0.921855557838386, 0.7613831983540764, 0.4306765580733929, 0.9197207891481877, 1.0, 0.7844801364718916, 0.8173214112308467, 0.9205352703085707, 0.7463104175395293, 0.6240505200038378, 1.0, 0.8933138436362861, 0.6240505200038378, 0.8276904491046954, 0.6309297535714573, 0.9047172294870751, 0.6934264036172708, 1.0, 0.4306765580733929, 0.9623322809981272], \"xaxis\": \"x\", \"y\": [0.9197207891481877, 0.8315546295836228, 0.6317533563351223, 0.755837535342991, 1.0, 0.7832440810610274, 0.732832652723318, 0.7162162581856992, 1.0, 1.0, 0.6013764754743106, 0.7189660199418173, 1.0, 0.8772153153380493, 0.8772153153380493, 0.5640717856778384, 1.0, 1.0, 1.0, 0.5647908891671025, 1.0, 1.0, 0.7296657447703762, 0.6889428593082426, 0.8529278650606568, 0.598670363716936, 0.6612573855988182, 1.0, 0.7250676979157327, 0.7388306039419795, 0.8529278650606568, 0.6204174805211068, 0.6872566546532044, 0.660312891337312, 0.8065735963827294, 1.0, 0.5509111413741669, 0.9197207891481877, 0.7375002708736418, 1.0, 0.8220230903936452, 0.7275679521469698, 0.7878183814550751, 1.0, 0.6413066953527117], \"yaxis\": \"y\"}, {\"customdata\": [[\"publius_septimius_geta--parents--julia_domna\", 0.9722038], [\"princess_amelia_sophia_of_great_britain--parents--george_ii_of_great_britain\", 0.9859283], [\"christian_v_of_denmark--parents--sophia_amelia_of_brunswick_luneburg\", 0.976494], [\"lady_jane_grey--parents--lady_frances_brandon\", 0.98196423], [\"princess_cecilia_of_sweden_1807--parents--gustav_iv_adolf_of_sweden\", 0.9776373], [\"pierre_koechlin--parents--emma_rossier\", 0.9553046], [\"maria_luisa_of_savoy--parents--victor_amadeus_ii_of_sardinia\", 0.96920353], [\"marie_of_brienne--parents--berenguela_of_leon\", 0.97387797], [\"geoffrey_ii_duke_of_brittany--parents--henry_ii_of_england\", 0.9751305], [\"frederick_ix_of_denmark--parents--christian_x_of_denmark\", 0.9503574], [\"james_rudolph_garfield--parents--james_garfield\", 0.9808333], [\"minamoto_no_yoriie--parents--hojo_masako\", 0.9856418], [\"abdulmecid--parents--mahmud_ii\", 0.9892191], [\"margaret_of_york--parents--cecily_neville\", 0.9874077], [\"theuderic_iii--parents--balthild\", 0.97680193], [\"princess_ileana_of_romania--parents--marie_of_edinburgh\", 0.9851478], [\"william_michael_rossetti--parents--gabriele_rossetti\", 0.9867381], [\"albert_francis_capone--parents--mae_capone\", 0.9512877], [\"mary_plantagenet--parents--edward_iii_of_england\", 0.9811323], [\"john_iii_of_sweden--parents--gustav_i_of_sweden\", 0.9552274], [\"prince_augustus_frederick_duke_of_sussex--parents--charlotte_of_mecklenburg-strelitz\", 0.97009754], [\"princess_elizabeth_of_the_united_kingdom--parents--george_iii_of_the_united_kingdom\", 0.9633542], [\"lindsay_crosby--parents--bing_crosby\", 0.96038955], [\"prince_henry_of_prussia--parents--sophia_dorothea_of_hanover\", 0.98229516], [\"charlotte_princess_royal--parents--charlotte_of_mecklenburg-strelitz\", 0.9730996], [\"princess_adelgunde_of_bavaria--parents--therese_of_saxe_hildburghausen\", 0.98799706], [\"hans_albert_einstein--parents--mileva_maric\", 0.98081756], [\"theodore_ii_laskaris--parents--irene_lascarina\", 0.9648506], [\"baltasar_carlos_prince_of_asturias--parents--philip_iv_of_spain\", 0.97654176], [\"archduchess_luise_princess_of_tuscany--parents--ferdinand_iv_grand_duke_of_tuscany\", 0.9771985], [\"aleksandar_obrenovic--parents--natalija_obrenovic\", 0.9815599], [\"irene_doukaina_laskarina--parents--elena_of_bulgaria\", 0.9592115], [\"augusta_of_cambridge--parents--princess_augusta_of_hesse-kassel\", 0.98547643]], \"hovertemplate\": \"hops=2hop<br>raw_score=%{x}<br>linklogic=%{y}<br>query_triple=%{customdata[0]}<br>query_triple_kge_score=%{customdata[1]}<br>num_true=%{marker.color}<extra></extra>\", \"legendgroup\": \"\", \"marker\": {\"color\": [2, 2, 2, 1, 2, 1, 2, 1, 2, 2, 2, 2, 2, 2, 2, 2, 1, 2, 2, 2, 2, 2, 2, 2, 2, 2, 2, 1, 2, 2, 2, 1, 2], \"coloraxis\": \"coloraxis\", \"line\": {\"color\": \"lightgrey\", \"width\": 0.5}, \"opacity\": 0.5, \"size\": 8, \"symbol\": \"circle\"}, \"mode\": \"markers\", \"name\": \"\", \"orientation\": \"v\", \"showlegend\": false, \"type\": \"scatter\", \"x\": [1.0, 1.0, 1.0, 1.0, 1.0, 1.0, 1.0, 1.0, 1.0, 1.0, 1.0, 1.0, 1.0, 1.0, 1.0, 1.0, 1.0, 1.0, 1.0, 1.0, 1.0, 1.0, 1.0, 1.0, 1.0, 1.0, 1.0, 0.6309297535714573, 1.0, 1.0, 1.0, 1.0, 1.0], \"xaxis\": \"x2\", \"y\": [0.6934264036172708, 1.0, 0.9197207891481877, 0.6309297535714573, 0.7349274835704961, 1.0, 0.8315546295836228, 1.0, 1.0, 0.5437713091520254, 0.57064171895532, 0.6509209298071323, 0.8772153153380493, 0.9197207891481877, 0.9197207891481877, 1.0, 1.0, 1.0, 1.0, 1.0, 0.9197207891481877, 0.9197207891481877, 0.6934264036172708, 0.9197207891481877, 0.6509209298071323, 0.9197207891481877, 0.6509209298071323, 0.4306765580733929, 1.0, 0.57064171895532, 1.0, 1.0, 0.8503449055347547], \"yaxis\": \"y2\"}, {\"customdata\": [[\"publius_septimius_geta--parents--julia_domna\", 0.9722038], [\"alice_of_bourbon_parma--parents--louise_marie_therese_of_france\", 0.98301446], [\"princess_amelia_sophia_of_great_britain--parents--george_ii_of_great_britain\", 0.9859283], [\"christian_v_of_denmark--parents--sophia_amelia_of_brunswick_luneburg\", 0.976494], [\"frederick_terman--parents--lewis_terman\", 0.9708561], [\"lady_jane_grey--parents--lady_frances_brandon\", 0.98196423], [\"princess_cecilia_of_sweden_1807--parents--gustav_iv_adolf_of_sweden\", 0.9776373], [\"pierre_koechlin--parents--emma_rossier\", 0.9553046], [\"maria_luisa_of_savoy--parents--victor_amadeus_ii_of_sardinia\", 0.96920353], [\"antiochus_iii_the_great--parents--seleucus_ii_callinicus\", 0.9850825], [\"augustus_pugin--parents--augustus_charles_pugin\", 0.98073936], [\"marie_of_brienne--parents--berenguela_of_leon\", 0.97387797], [\"geoffrey_ii_duke_of_brittany--parents--henry_ii_of_england\", 0.9751305], [\"frederick_ix_of_denmark--parents--christian_x_of_denmark\", 0.9503574], [\"james_rudolph_garfield--parents--james_garfield\", 0.9808333], [\"minamoto_no_yoriie--parents--hojo_masako\", 0.9856418], [\"abdulmecid--parents--mahmud_ii\", 0.9892191], [\"margaret_of_york--parents--cecily_neville\", 0.9874077], [\"emperor_komei--parents--emperor_ninko\", 0.9812971], [\"theuderic_iii--parents--balthild\", 0.97680193], [\"frances_gulick--parents--luther_gulick\", 0.941363], [\"princess_ileana_of_romania--parents--marie_of_edinburgh\", 0.9851478], [\"jovan_vladimir--parents--petrislav_of_duklja_and_travunia\", 0.9737017], [\"william_michael_rossetti--parents--gabriele_rossetti\", 0.9867381], [\"albert_francis_capone--parents--mae_capone\", 0.9512877], [\"mary_plantagenet--parents--edward_iii_of_england\", 0.9811323], [\"john_iii_of_sweden--parents--gustav_i_of_sweden\", 0.9552274], [\"george_crown_prince_of_serbia--parents--zorka_of_montenegro\", 0.9777884], [\"prince_augustus_frederick_duke_of_sussex--parents--charlotte_of_mecklenburg-strelitz\", 0.97009754], [\"princess_elizabeth_of_the_united_kingdom--parents--george_iii_of_the_united_kingdom\", 0.9633542], [\"sebastian_of_portugal--parents--john_crown_prince_of_portugal\", 0.97903824], [\"lindsay_crosby--parents--bing_crosby\", 0.96038955], [\"dominik_mikolaj_radziwill--parents--aleksander_ludwik_radziwill\", 0.97936845], [\"elizabeth_medora_leigh--parents--george_byron_6th_baron_byron\", 0.96682817], [\"prince_henry_of_prussia--parents--sophia_dorothea_of_hanover\", 0.98229516], [\"charlotte_princess_royal--parents--charlotte_of_mecklenburg-strelitz\", 0.9730996], [\"princess_adelgunde_of_bavaria--parents--therese_of_saxe_hildburghausen\", 0.98799706], [\"hans_albert_einstein--parents--mileva_maric\", 0.98081756], [\"alexis_i_du_pont_bayard--parents--thomas_f_bayard_jr\", 0.9787707], [\"theodore_ii_laskaris--parents--irene_lascarina\", 0.9648506], [\"baltasar_carlos_prince_of_asturias--parents--philip_iv_of_spain\", 0.97654176], [\"archduchess_luise_princess_of_tuscany--parents--ferdinand_iv_grand_duke_of_tuscany\", 0.9771985], [\"cleopatra_thea--parents--cleopatra_ii_of_egypt\", 0.9881151], [\"aleksandar_obrenovic--parents--natalija_obrenovic\", 0.9815599], [\"irene_doukaina_laskarina--parents--elena_of_bulgaria\", 0.9592115], [\"rudolph_i_of_bohemia--parents--albert_i_of_germany\", 0.97996587], [\"charles_ii_gonzaga--parents--charles_i_duke_of_mantua\", 0.9748905], [\"augusta_of_cambridge--parents--princess_augusta_of_hesse-kassel\", 0.98547643], [\"chiang_wei-kuo--parents--tai_chi-tao\", 0.9765339], [\"maria_isabel_of_portugal--parents--john_vi_of_portugal\", 0.9896506]], \"hovertemplate\": \"hops=all<br>raw_score=%{x}<br>linklogic=%{y}<br>query_triple=%{customdata[0]}<br>query_triple_kge_score=%{customdata[1]}<br>num_true=%{marker.color}<extra></extra>\", \"legendgroup\": \"\", \"marker\": {\"color\": [4, 2, 9, 5, 1, 4, 5, 1, 5, 1, 1, 1, 10, 4, 3, 4, 4, 8, 1, 3, 1, 8, 1, 1, 3, 9, 7, 3, 17, 17, 1, 4, 2, 3, 12, 17, 10, 4, 1, 1, 8, 4, 4, 3, 1, 4, 2, 5, 1, 8], \"coloraxis\": \"coloraxis\", \"line\": {\"color\": \"lightgrey\", \"width\": 0.5}, \"opacity\": 0.5, \"size\": 8, \"symbol\": \"circle\"}, \"mode\": \"markers\", \"name\": \"\", \"orientation\": \"v\", \"showlegend\": false, \"type\": \"scatter\", \"x\": [0.8397730354659674, 0.2537579740823649, 0.6903293174189808, 0.7415024506678048, 0.6309297535714573, 0.6268114371726364, 0.7625348876208002, 1.0, 0.7642356891596209, 0.2626495350371938, 0.38685280723454163, 1.0, 0.6515631669794042, 0.7966850442836542, 0.8886164761813454, 0.8107039262096658, 0.7853588624479882, 0.6850533503859856, 0.28906482631788766, 0.8677123412716871, 1.0, 0.6953149212310836, 1.0, 1.0, 0.8962626271568189, 0.68444955570389, 0.6889954242717761, 0.3053719715616364, 0.6433029104764093, 0.6372176561975629, 0.22767024869695263, 0.8481093384192857, 0.3482723708517656, 0.30832851667326283, 0.6523596019430701, 0.6357373477644191, 0.6612414286437492, 0.8397730354659674, 0.3154648767857289, 0.6309297535714573, 0.6876693820241203, 0.8107039262096658, 0.3085643301934963, 0.9010126104210694, 1.0, 0.3241725814797817, 0.3102267425692944, 0.7848920220149774, 0.2702381544273198, 0.35773978768802356], \"xaxis\": \"x3\", \"y\": [0.7116502962349941, 0.8315546295836228, 0.5935292862523176, 0.6490632486905941, 1.0, 0.7022579219154342, 0.6353136055543083, 0.35620718710802235, 0.6170679387699733, 1.0, 1.0, 0.1730517848637372, 0.5647285926218844, 0.5748430486545271, 0.6253857392281226, 0.6961569641818836, 0.6872723664688878, 0.5232502802959617, 1.0, 0.6355034627521062, 1.0, 0.599173532701779, 1.0, 0.17304454824531296, 0.8603443310417204, 0.6814470122862115, 0.6297019601014525, 0.8529278650606568, 0.5529433713896595, 0.6265579448946689, 1.0, 0.5964632957844672, 0.7309524846540226, 0.8529278650606568, 0.5855496808213373, 0.6397266938522849, 0.622238194681943, 0.5712285610640588, 1.0, 0.17424745130670605, 0.5167424463582111, 0.5815138287986616, 0.7194269823881173, 0.8529278650606568, 0.17577727138226662, 0.8166729627171838, 0.7171132253323854, 0.6712295966365736, 1.0, 0.621275278403074], \"yaxis\": \"y3\"}],                        {\"annotations\": [{\"font\": {}, \"showarrow\": false, \"text\": \"hops=1hop\", \"x\": 0.15999999999999998, \"xanchor\": \"center\", \"xref\": \"paper\", \"y\": 1.0, \"yanchor\": \"bottom\", \"yref\": \"paper\"}, {\"font\": {}, \"showarrow\": false, \"text\": \"hops=2hop\", \"x\": 0.49999999999999994, \"xanchor\": \"center\", \"xref\": \"paper\", \"y\": 1.0, \"yanchor\": \"bottom\", \"yref\": \"paper\"}, {\"font\": {}, \"showarrow\": false, \"text\": \"hops=all\", \"x\": 0.8399999999999999, \"xanchor\": \"center\", \"xref\": \"paper\", \"y\": 1.0, \"yanchor\": \"bottom\", \"yref\": \"paper\"}], \"coloraxis\": {\"colorbar\": {\"title\": {\"text\": \"num_true\"}}, \"colorscale\": [[0.0, \"rgb(253, 237, 176)\"], [0.09090909090909091, \"rgb(250, 205, 145)\"], [0.18181818181818182, \"rgb(246, 173, 119)\"], [0.2727272727272727, \"rgb(240, 142, 98)\"], [0.36363636363636365, \"rgb(231, 109, 84)\"], [0.45454545454545453, \"rgb(216, 80, 83)\"], [0.5454545454545454, \"rgb(195, 56, 90)\"], [0.6363636363636364, \"rgb(168, 40, 96)\"], [0.7272727272727273, \"rgb(138, 29, 99)\"], [0.8181818181818182, \"rgb(107, 24, 93)\"], [0.9090909090909091, \"rgb(76, 21, 80)\"], [1.0, \"rgb(47, 15, 61)\"]]}, \"height\": 300, \"legend\": {\"tracegroupgap\": 0}, \"margin\": {\"t\": 60}, \"plot_bgcolor\": \"#f0f0f0\", \"shapes\": [{\"line\": {\"color\": \"gray\", \"dash\": \"dot\", \"width\": 1}, \"type\": \"line\", \"x0\": 0, \"x1\": 1.1, \"xref\": \"x\", \"y0\": 0, \"y1\": 1.1, \"yref\": \"y\"}, {\"line\": {\"color\": \"gray\", \"dash\": \"dot\", \"width\": 1}, \"type\": \"line\", \"x0\": 0, \"x1\": 1.1, \"xref\": \"x2\", \"y0\": 0, \"y1\": 1.1, \"yref\": \"y2\"}, {\"line\": {\"color\": \"gray\", \"dash\": \"dot\", \"width\": 1}, \"type\": \"line\", \"x0\": 0, \"x1\": 1.1, \"xref\": \"x3\", \"y0\": 0, \"y1\": 1.1, \"yref\": \"y3\"}], \"template\": {\"data\": {\"bar\": [{\"error_x\": {\"color\": \"#2a3f5f\"}, \"error_y\": {\"color\": \"#2a3f5f\"}, \"marker\": {\"line\": {\"color\": \"#E5ECF6\", \"width\": 0.5}}, \"type\": \"bar\"}], \"barpolar\": [{\"marker\": {\"line\": {\"color\": \"#E5ECF6\", \"width\": 0.5}}, \"type\": \"barpolar\"}], \"carpet\": [{\"aaxis\": {\"endlinecolor\": \"#2a3f5f\", \"gridcolor\": \"white\", \"linecolor\": \"white\", \"minorgridcolor\": \"white\", \"startlinecolor\": \"#2a3f5f\"}, \"baxis\": {\"endlinecolor\": \"#2a3f5f\", \"gridcolor\": \"white\", \"linecolor\": \"white\", \"minorgridcolor\": \"white\", \"startlinecolor\": \"#2a3f5f\"}, \"type\": \"carpet\"}], \"choropleth\": [{\"colorbar\": {\"outlinewidth\": 0, \"ticks\": \"\"}, \"type\": \"choropleth\"}], \"contour\": [{\"colorbar\": {\"outlinewidth\": 0, \"ticks\": \"\"}, \"colorscale\": [[0.0, \"#0d0887\"], [0.1111111111111111, \"#46039f\"], [0.2222222222222222, \"#7201a8\"], [0.3333333333333333, \"#9c179e\"], [0.4444444444444444, \"#bd3786\"], [0.5555555555555556, \"#d8576b\"], [0.6666666666666666, \"#ed7953\"], [0.7777777777777778, \"#fb9f3a\"], [0.8888888888888888, \"#fdca26\"], [1.0, \"#f0f921\"]], \"type\": \"contour\"}], \"contourcarpet\": [{\"colorbar\": {\"outlinewidth\": 0, \"ticks\": \"\"}, \"type\": \"contourcarpet\"}], \"heatmap\": [{\"colorbar\": {\"outlinewidth\": 0, \"ticks\": \"\"}, \"colorscale\": [[0.0, \"#0d0887\"], [0.1111111111111111, \"#46039f\"], [0.2222222222222222, \"#7201a8\"], [0.3333333333333333, \"#9c179e\"], [0.4444444444444444, \"#bd3786\"], [0.5555555555555556, \"#d8576b\"], [0.6666666666666666, \"#ed7953\"], [0.7777777777777778, \"#fb9f3a\"], [0.8888888888888888, \"#fdca26\"], [1.0, \"#f0f921\"]], \"type\": \"heatmap\"}], \"heatmapgl\": [{\"colorbar\": {\"outlinewidth\": 0, \"ticks\": \"\"}, \"colorscale\": [[0.0, \"#0d0887\"], [0.1111111111111111, \"#46039f\"], [0.2222222222222222, \"#7201a8\"], [0.3333333333333333, \"#9c179e\"], [0.4444444444444444, \"#bd3786\"], [0.5555555555555556, \"#d8576b\"], [0.6666666666666666, \"#ed7953\"], [0.7777777777777778, \"#fb9f3a\"], [0.8888888888888888, \"#fdca26\"], [1.0, \"#f0f921\"]], \"type\": \"heatmapgl\"}], \"histogram\": [{\"marker\": {\"colorbar\": {\"outlinewidth\": 0, \"ticks\": \"\"}}, \"type\": \"histogram\"}], \"histogram2d\": [{\"colorbar\": {\"outlinewidth\": 0, \"ticks\": \"\"}, \"colorscale\": [[0.0, \"#0d0887\"], [0.1111111111111111, \"#46039f\"], [0.2222222222222222, \"#7201a8\"], [0.3333333333333333, \"#9c179e\"], [0.4444444444444444, \"#bd3786\"], [0.5555555555555556, \"#d8576b\"], [0.6666666666666666, \"#ed7953\"], [0.7777777777777778, \"#fb9f3a\"], [0.8888888888888888, \"#fdca26\"], [1.0, \"#f0f921\"]], \"type\": \"histogram2d\"}], \"histogram2dcontour\": [{\"colorbar\": {\"outlinewidth\": 0, \"ticks\": \"\"}, \"colorscale\": [[0.0, \"#0d0887\"], [0.1111111111111111, \"#46039f\"], [0.2222222222222222, \"#7201a8\"], [0.3333333333333333, \"#9c179e\"], [0.4444444444444444, \"#bd3786\"], [0.5555555555555556, \"#d8576b\"], [0.6666666666666666, \"#ed7953\"], [0.7777777777777778, \"#fb9f3a\"], [0.8888888888888888, \"#fdca26\"], [1.0, \"#f0f921\"]], \"type\": \"histogram2dcontour\"}], \"mesh3d\": [{\"colorbar\": {\"outlinewidth\": 0, \"ticks\": \"\"}, \"type\": \"mesh3d\"}], \"parcoords\": [{\"line\": {\"colorbar\": {\"outlinewidth\": 0, \"ticks\": \"\"}}, \"type\": \"parcoords\"}], \"pie\": [{\"automargin\": true, \"type\": \"pie\"}], \"scatter\": [{\"marker\": {\"colorbar\": {\"outlinewidth\": 0, \"ticks\": \"\"}}, \"type\": \"scatter\"}], \"scatter3d\": [{\"line\": {\"colorbar\": {\"outlinewidth\": 0, \"ticks\": \"\"}}, \"marker\": {\"colorbar\": {\"outlinewidth\": 0, \"ticks\": \"\"}}, \"type\": \"scatter3d\"}], \"scattercarpet\": [{\"marker\": {\"colorbar\": {\"outlinewidth\": 0, \"ticks\": \"\"}}, \"type\": \"scattercarpet\"}], \"scattergeo\": [{\"marker\": {\"colorbar\": {\"outlinewidth\": 0, \"ticks\": \"\"}}, \"type\": \"scattergeo\"}], \"scattergl\": [{\"marker\": {\"colorbar\": {\"outlinewidth\": 0, \"ticks\": \"\"}}, \"type\": \"scattergl\"}], \"scattermapbox\": [{\"marker\": {\"colorbar\": {\"outlinewidth\": 0, \"ticks\": \"\"}}, \"type\": \"scattermapbox\"}], \"scatterpolar\": [{\"marker\": {\"colorbar\": {\"outlinewidth\": 0, \"ticks\": \"\"}}, \"type\": \"scatterpolar\"}], \"scatterpolargl\": [{\"marker\": {\"colorbar\": {\"outlinewidth\": 0, \"ticks\": \"\"}}, \"type\": \"scatterpolargl\"}], \"scatterternary\": [{\"marker\": {\"colorbar\": {\"outlinewidth\": 0, \"ticks\": \"\"}}, \"type\": \"scatterternary\"}], \"surface\": [{\"colorbar\": {\"outlinewidth\": 0, \"ticks\": \"\"}, \"colorscale\": [[0.0, \"#0d0887\"], [0.1111111111111111, \"#46039f\"], [0.2222222222222222, \"#7201a8\"], [0.3333333333333333, \"#9c179e\"], [0.4444444444444444, \"#bd3786\"], [0.5555555555555556, \"#d8576b\"], [0.6666666666666666, \"#ed7953\"], [0.7777777777777778, \"#fb9f3a\"], [0.8888888888888888, \"#fdca26\"], [1.0, \"#f0f921\"]], \"type\": \"surface\"}], \"table\": [{\"cells\": {\"fill\": {\"color\": \"#EBF0F8\"}, \"line\": {\"color\": \"white\"}}, \"header\": {\"fill\": {\"color\": \"#C8D4E3\"}, \"line\": {\"color\": \"white\"}}, \"type\": \"table\"}]}, \"layout\": {\"annotationdefaults\": {\"arrowcolor\": \"#2a3f5f\", \"arrowhead\": 0, \"arrowwidth\": 1}, \"autotypenumbers\": \"strict\", \"coloraxis\": {\"colorbar\": {\"outlinewidth\": 0, \"ticks\": \"\"}}, \"colorscale\": {\"diverging\": [[0, \"#8e0152\"], [0.1, \"#c51b7d\"], [0.2, \"#de77ae\"], [0.3, \"#f1b6da\"], [0.4, \"#fde0ef\"], [0.5, \"#f7f7f7\"], [0.6, \"#e6f5d0\"], [0.7, \"#b8e186\"], [0.8, \"#7fbc41\"], [0.9, \"#4d9221\"], [1, \"#276419\"]], \"sequential\": [[0.0, \"#0d0887\"], [0.1111111111111111, \"#46039f\"], [0.2222222222222222, \"#7201a8\"], [0.3333333333333333, \"#9c179e\"], [0.4444444444444444, \"#bd3786\"], [0.5555555555555556, \"#d8576b\"], [0.6666666666666666, \"#ed7953\"], [0.7777777777777778, \"#fb9f3a\"], [0.8888888888888888, \"#fdca26\"], [1.0, \"#f0f921\"]], \"sequentialminus\": [[0.0, \"#0d0887\"], [0.1111111111111111, \"#46039f\"], [0.2222222222222222, \"#7201a8\"], [0.3333333333333333, \"#9c179e\"], [0.4444444444444444, \"#bd3786\"], [0.5555555555555556, \"#d8576b\"], [0.6666666666666666, \"#ed7953\"], [0.7777777777777778, \"#fb9f3a\"], [0.8888888888888888, \"#fdca26\"], [1.0, \"#f0f921\"]]}, \"colorway\": [\"#636efa\", \"#EF553B\", \"#00cc96\", \"#ab63fa\", \"#FFA15A\", \"#19d3f3\", \"#FF6692\", \"#B6E880\", \"#FF97FF\", \"#FECB52\"], \"font\": {\"color\": \"#2a3f5f\"}, \"geo\": {\"bgcolor\": \"white\", \"lakecolor\": \"white\", \"landcolor\": \"#E5ECF6\", \"showlakes\": true, \"showland\": true, \"subunitcolor\": \"white\"}, \"hoverlabel\": {\"align\": \"left\"}, \"hovermode\": \"closest\", \"mapbox\": {\"style\": \"light\"}, \"paper_bgcolor\": \"white\", \"plot_bgcolor\": \"#E5ECF6\", \"polar\": {\"angularaxis\": {\"gridcolor\": \"white\", \"linecolor\": \"white\", \"ticks\": \"\"}, \"bgcolor\": \"#E5ECF6\", \"radialaxis\": {\"gridcolor\": \"white\", \"linecolor\": \"white\", \"ticks\": \"\"}}, \"scene\": {\"xaxis\": {\"backgroundcolor\": \"#E5ECF6\", \"gridcolor\": \"white\", \"gridwidth\": 2, \"linecolor\": \"white\", \"showbackground\": true, \"ticks\": \"\", \"zerolinecolor\": \"white\"}, \"yaxis\": {\"backgroundcolor\": \"#E5ECF6\", \"gridcolor\": \"white\", \"gridwidth\": 2, \"linecolor\": \"white\", \"showbackground\": true, \"ticks\": \"\", \"zerolinecolor\": \"white\"}, \"zaxis\": {\"backgroundcolor\": \"#E5ECF6\", \"gridcolor\": \"white\", \"gridwidth\": 2, \"linecolor\": \"white\", \"showbackground\": true, \"ticks\": \"\", \"zerolinecolor\": \"white\"}}, \"shapedefaults\": {\"line\": {\"color\": \"#2a3f5f\"}}, \"ternary\": {\"aaxis\": {\"gridcolor\": \"white\", \"linecolor\": \"white\", \"ticks\": \"\"}, \"baxis\": {\"gridcolor\": \"white\", \"linecolor\": \"white\", \"ticks\": \"\"}, \"bgcolor\": \"#E5ECF6\", \"caxis\": {\"gridcolor\": \"white\", \"linecolor\": \"white\", \"ticks\": \"\"}}, \"title\": {\"x\": 0.05}, \"xaxis\": {\"automargin\": true, \"gridcolor\": \"white\", \"linecolor\": \"white\", \"ticks\": \"\", \"title\": {\"standoff\": 15}, \"zerolinecolor\": \"white\", \"zerolinewidth\": 2}, \"yaxis\": {\"automargin\": true, \"gridcolor\": \"white\", \"linecolor\": \"white\", \"ticks\": \"\", \"title\": {\"standoff\": 15}, \"zerolinecolor\": \"white\", \"zerolinewidth\": 2}}}, \"width\": 900, \"xaxis\": {\"anchor\": \"y\", \"domain\": [0.0, 0.31999999999999995], \"title\": {\"text\": \"raw_score\"}}, \"xaxis2\": {\"anchor\": \"y2\", \"domain\": [0.33999999999999997, 0.6599999999999999], \"matches\": \"x\", \"title\": {\"text\": \"raw_score\"}}, \"xaxis3\": {\"anchor\": \"y3\", \"domain\": [0.6799999999999999, 0.9999999999999999], \"matches\": \"x\", \"title\": {\"text\": \"raw_score\"}}, \"yaxis\": {\"anchor\": \"x\", \"domain\": [0.0, 1.0], \"title\": {\"text\": \"linklogic\"}}, \"yaxis2\": {\"anchor\": \"x2\", \"domain\": [0.0, 1.0], \"matches\": \"y\", \"showticklabels\": false}, \"yaxis3\": {\"anchor\": \"x3\", \"domain\": [0.0, 1.0], \"matches\": \"y\", \"showticklabels\": false}},                        {\"responsive\": true}                    ).then(function(){\n",
       "                            \n",
       "var gd = document.getElementById('3d2a0df6-b20b-4d57-9a71-986a60d25b24');\n",
       "var x = new MutationObserver(function (mutations, observer) {{\n",
       "        var display = window.getComputedStyle(gd).display;\n",
       "        if (!display || display === 'none') {{\n",
       "            console.log([gd, 'removed!']);\n",
       "            Plotly.purge(gd);\n",
       "            observer.disconnect();\n",
       "        }}\n",
       "}});\n",
       "\n",
       "// Listen for the removal of the full notebook cells\n",
       "var notebookContainer = gd.closest('#notebook-container');\n",
       "if (notebookContainer) {{\n",
       "    x.observe(notebookContainer, {childList: true});\n",
       "}}\n",
       "\n",
       "// Listen for the clearing of the current output cell\n",
       "var outputEl = gd.closest('.output');\n",
       "if (outputEl) {{\n",
       "    x.observe(outputEl, {childList: true});\n",
       "}}\n",
       "\n",
       "                        })                };                });            </script>        </div>"
      ]
     },
     "metadata": {},
     "output_type": "display_data"
    },
    {
     "data": {
      "application/vnd.plotly.v1+json": {
       "config": {
        "plotlyServerURL": "https://plot.ly"
       },
       "data": [
        {
         "customdata": [
          [
           "publius_septimius_geta--parents--julia_domna",
           0.9722038
          ],
          [
           "alice_of_bourbon_parma--parents--louise_marie_therese_of_france",
           0.98301446
          ],
          [
           "princess_amelia_sophia_of_great_britain--parents--george_ii_of_great_britain",
           0.9859283
          ],
          [
           "christian_v_of_denmark--parents--sophia_amelia_of_brunswick_luneburg",
           0.976494
          ],
          [
           "frederick_terman--parents--lewis_terman",
           0.9708561
          ],
          [
           "lady_jane_grey--parents--lady_frances_brandon",
           0.98196423
          ],
          [
           "princess_cecilia_of_sweden_1807--parents--gustav_iv_adolf_of_sweden",
           0.9776373
          ],
          [
           "maria_luisa_of_savoy--parents--victor_amadeus_ii_of_sardinia",
           0.96920353
          ],
          [
           "antiochus_iii_the_great--parents--seleucus_ii_callinicus",
           0.9850825
          ],
          [
           "augustus_pugin--parents--augustus_charles_pugin",
           0.98073936
          ],
          [
           "geoffrey_ii_duke_of_brittany--parents--henry_ii_of_england",
           0.9751305
          ],
          [
           "frederick_ix_of_denmark--parents--christian_x_of_denmark",
           0.9503574
          ],
          [
           "james_rudolph_garfield--parents--james_garfield",
           0.9808333
          ],
          [
           "minamoto_no_yoriie--parents--hojo_masako",
           0.9856418
          ],
          [
           "abdulmecid--parents--mahmud_ii",
           0.9892191
          ],
          [
           "margaret_of_york--parents--cecily_neville",
           0.9874077
          ],
          [
           "emperor_komei--parents--emperor_ninko",
           0.9812971
          ],
          [
           "theuderic_iii--parents--balthild",
           0.97680193
          ],
          [
           "frances_gulick--parents--luther_gulick",
           0.941363
          ],
          [
           "princess_ileana_of_romania--parents--marie_of_edinburgh",
           0.9851478
          ],
          [
           "jovan_vladimir--parents--petrislav_of_duklja_and_travunia",
           0.9737017
          ],
          [
           "albert_francis_capone--parents--mae_capone",
           0.9512877
          ],
          [
           "mary_plantagenet--parents--edward_iii_of_england",
           0.9811323
          ],
          [
           "john_iii_of_sweden--parents--gustav_i_of_sweden",
           0.9552274
          ],
          [
           "george_crown_prince_of_serbia--parents--zorka_of_montenegro",
           0.9777884
          ],
          [
           "prince_augustus_frederick_duke_of_sussex--parents--charlotte_of_mecklenburg-strelitz",
           0.97009754
          ],
          [
           "princess_elizabeth_of_the_united_kingdom--parents--george_iii_of_the_united_kingdom",
           0.9633542
          ],
          [
           "sebastian_of_portugal--parents--john_crown_prince_of_portugal",
           0.97903824
          ],
          [
           "lindsay_crosby--parents--bing_crosby",
           0.96038955
          ],
          [
           "dominik_mikolaj_radziwill--parents--aleksander_ludwik_radziwill",
           0.97936845
          ],
          [
           "elizabeth_medora_leigh--parents--george_byron_6th_baron_byron",
           0.96682817
          ],
          [
           "prince_henry_of_prussia--parents--sophia_dorothea_of_hanover",
           0.98229516
          ],
          [
           "charlotte_princess_royal--parents--charlotte_of_mecklenburg-strelitz",
           0.9730996
          ],
          [
           "princess_adelgunde_of_bavaria--parents--therese_of_saxe_hildburghausen",
           0.98799706
          ],
          [
           "hans_albert_einstein--parents--mileva_maric",
           0.98081756
          ],
          [
           "alexis_i_du_pont_bayard--parents--thomas_f_bayard_jr",
           0.9787707
          ],
          [
           "baltasar_carlos_prince_of_asturias--parents--philip_iv_of_spain",
           0.97654176
          ],
          [
           "archduchess_luise_princess_of_tuscany--parents--ferdinand_iv_grand_duke_of_tuscany",
           0.9771985
          ],
          [
           "cleopatra_thea--parents--cleopatra_ii_of_egypt",
           0.9881151
          ],
          [
           "aleksandar_obrenovic--parents--natalija_obrenovic",
           0.9815599
          ],
          [
           "rudolph_i_of_bohemia--parents--albert_i_of_germany",
           0.97996587
          ],
          [
           "charles_ii_gonzaga--parents--charles_i_duke_of_mantua",
           0.9748905
          ],
          [
           "augusta_of_cambridge--parents--princess_augusta_of_hesse-kassel",
           0.98547643
          ],
          [
           "chiang_wei-kuo--parents--tai_chi-tao",
           0.9765339
          ],
          [
           "maria_isabel_of_portugal--parents--john_vi_of_portugal",
           0.9896506
          ]
         ],
         "hovertemplate": "hops=1hop<br>random=%{x}<br>raw_score=%{y}<br>query_triple=%{customdata[0]}<br>query_triple_kge_score=%{customdata[1]}<br>num_true=%{marker.color}<extra></extra>",
         "legendgroup": "",
         "marker": {
          "color": [
           2,
           2,
           7,
           3,
           1,
           3,
           3,
           3,
           1,
           1,
           8,
           2,
           1,
           2,
           2,
           6,
           1,
           1,
           1,
           6,
           1,
           1,
           7,
           5,
           3,
           15,
           15,
           1,
           2,
           2,
           3,
           10,
           15,
           8,
           2,
           1,
           6,
           2,
           4,
           1,
           4,
           2,
           3,
           1,
           8
          ],
          "coloraxis": "coloraxis",
          "line": {
           "color": "lightgrey",
           "width": 0.5
          },
          "opacity": 0.5,
          "size": 8,
          "symbol": "circle"
         },
         "mode": "markers",
         "name": "",
         "orientation": "v",
         "showlegend": false,
         "type": "scatter",
         "x": [
          0.234519736000272,
          0.24460057453757622,
          0.35692594159139096,
          0.2729976042595562,
          0.18945186587508475,
          0.2553959615907384,
          0.2687236193973018,
          0.2594339902931645,
          0.2217238919555148,
          0.19198529613263352,
          0.3735045137391674,
          0.22597973448084135,
          0.19124260762128342,
          0.2539405399447637,
          0.2402919037679507,
          0.33139973564325426,
          0.23997832841039332,
          0.2131123901695754,
          0.22501656524116131,
          0.33623371749505104,
          0.24752316741834557,
          0.1927438909628485,
          0.35175678764383034,
          0.3224687424925108,
          0.2629367883948145,
          0.48755490655758327,
          0.46567138117136003,
          0.18876061197188929,
          0.23877658077642397,
          0.27489905938729936,
          0.2735583221502498,
          0.4082691092888633,
          0.4839445926826535,
          0.382660849546195,
          0.2183126393896233,
          0.18086576325137405,
          0.3176817627647139,
          0.23232375945097275,
          0.3338018802969579,
          0.1870909528344978,
          0.298629194895266,
          0.24516882924163622,
          0.2708149841043677,
          0.19637097646732418,
          0.3563684978168401
         ],
         "xaxis": "x",
         "y": [
          0.6240505200038378,
          0.57064171895532,
          0.8586825918244816,
          0.9060254355346823,
          0.6309297535714573,
          0.732828620477791,
          0.5881601264058985,
          0.8529278650606568,
          1,
          1,
          0.7523694914801552,
          0.43062411638656717,
          0.5,
          0.6240505200038378,
          0.7903864795495061,
          0.7791723042503585,
          0.6309297535714573,
          0.35620718710802235,
          1,
          0.8998587643699822,
          1,
          0.38685280723454163,
          0.9256850023120645,
          0.4706340741150935,
          0.5239472913541398,
          0.921855557838386,
          0.7613831983540764,
          0.4306765580733929,
          0.9197207891481877,
          1,
          0.7844801364718916,
          0.8173214112308467,
          0.9205352703085707,
          0.7463104175395293,
          0.6240505200038378,
          1,
          0.8933138436362861,
          0.6240505200038378,
          0.8276904491046954,
          0.6309297535714573,
          0.9047172294870751,
          0.6934264036172708,
          1,
          0.4306765580733929,
          0.9623322809981272
         ],
         "yaxis": "y"
        },
        {
         "customdata": [
          [
           "publius_septimius_geta--parents--julia_domna",
           0.9722038
          ],
          [
           "princess_amelia_sophia_of_great_britain--parents--george_ii_of_great_britain",
           0.9859283
          ],
          [
           "christian_v_of_denmark--parents--sophia_amelia_of_brunswick_luneburg",
           0.976494
          ],
          [
           "lady_jane_grey--parents--lady_frances_brandon",
           0.98196423
          ],
          [
           "princess_cecilia_of_sweden_1807--parents--gustav_iv_adolf_of_sweden",
           0.9776373
          ],
          [
           "pierre_koechlin--parents--emma_rossier",
           0.9553046
          ],
          [
           "maria_luisa_of_savoy--parents--victor_amadeus_ii_of_sardinia",
           0.96920353
          ],
          [
           "marie_of_brienne--parents--berenguela_of_leon",
           0.97387797
          ],
          [
           "geoffrey_ii_duke_of_brittany--parents--henry_ii_of_england",
           0.9751305
          ],
          [
           "frederick_ix_of_denmark--parents--christian_x_of_denmark",
           0.9503574
          ],
          [
           "james_rudolph_garfield--parents--james_garfield",
           0.9808333
          ],
          [
           "minamoto_no_yoriie--parents--hojo_masako",
           0.9856418
          ],
          [
           "abdulmecid--parents--mahmud_ii",
           0.9892191
          ],
          [
           "margaret_of_york--parents--cecily_neville",
           0.9874077
          ],
          [
           "theuderic_iii--parents--balthild",
           0.97680193
          ],
          [
           "princess_ileana_of_romania--parents--marie_of_edinburgh",
           0.9851478
          ],
          [
           "william_michael_rossetti--parents--gabriele_rossetti",
           0.9867381
          ],
          [
           "albert_francis_capone--parents--mae_capone",
           0.9512877
          ],
          [
           "mary_plantagenet--parents--edward_iii_of_england",
           0.9811323
          ],
          [
           "john_iii_of_sweden--parents--gustav_i_of_sweden",
           0.9552274
          ],
          [
           "prince_augustus_frederick_duke_of_sussex--parents--charlotte_of_mecklenburg-strelitz",
           0.97009754
          ],
          [
           "princess_elizabeth_of_the_united_kingdom--parents--george_iii_of_the_united_kingdom",
           0.9633542
          ],
          [
           "lindsay_crosby--parents--bing_crosby",
           0.96038955
          ],
          [
           "prince_henry_of_prussia--parents--sophia_dorothea_of_hanover",
           0.98229516
          ],
          [
           "charlotte_princess_royal--parents--charlotte_of_mecklenburg-strelitz",
           0.9730996
          ],
          [
           "princess_adelgunde_of_bavaria--parents--therese_of_saxe_hildburghausen",
           0.98799706
          ],
          [
           "hans_albert_einstein--parents--mileva_maric",
           0.98081756
          ],
          [
           "theodore_ii_laskaris--parents--irene_lascarina",
           0.9648506
          ],
          [
           "baltasar_carlos_prince_of_asturias--parents--philip_iv_of_spain",
           0.97654176
          ],
          [
           "archduchess_luise_princess_of_tuscany--parents--ferdinand_iv_grand_duke_of_tuscany",
           0.9771985
          ],
          [
           "aleksandar_obrenovic--parents--natalija_obrenovic",
           0.9815599
          ],
          [
           "irene_doukaina_laskarina--parents--elena_of_bulgaria",
           0.9592115
          ],
          [
           "augusta_of_cambridge--parents--princess_augusta_of_hesse-kassel",
           0.98547643
          ]
         ],
         "hovertemplate": "hops=2hop<br>random=%{x}<br>raw_score=%{y}<br>query_triple=%{customdata[0]}<br>query_triple_kge_score=%{customdata[1]}<br>num_true=%{marker.color}<extra></extra>",
         "legendgroup": "",
         "marker": {
          "color": [
           2,
           2,
           2,
           1,
           2,
           1,
           2,
           1,
           2,
           2,
           2,
           2,
           2,
           2,
           2,
           2,
           1,
           2,
           2,
           2,
           2,
           2,
           2,
           2,
           2,
           2,
           2,
           1,
           2,
           2,
           2,
           1,
           2
          ],
          "coloraxis": "coloraxis",
          "line": {
           "color": "lightgrey",
           "width": 0.5
          },
          "opacity": 0.5,
          "size": 8,
          "symbol": "circle"
         },
         "mode": "markers",
         "name": "",
         "orientation": "v",
         "showlegend": false,
         "type": "scatter",
         "x": [
          0.25061971415312345,
          0.24239526449568743,
          0.24691653909995978,
          0.17565048656591298,
          0.269055182921491,
          0.24116077456755022,
          0.24133134651087285,
          0.2334218068377205,
          0.22179467000992403,
          0.24751394082991945,
          0.31632834396757115,
          0.3204781766318984,
          0.26295736360922484,
          0.2198568855244123,
          0.29721893720492054,
          0.24293671121688476,
          0.2324101854867764,
          0.3554420570068792,
          0.2198568855244123,
          0.24403923047296353,
          0.22634893355152477,
          0.22983015948781962,
          0.3988775380358108,
          0.23543049075193895,
          0.2290308434895583,
          0.22983015948781962,
          0.2802900283347716,
          0.2707892976309602,
          0.22383255886101644,
          0.2699864901514905,
          0.2539405399447637,
          0.24361198442368162,
          0.24403923047296353
         ],
         "xaxis": "x2",
         "y": [
          1,
          1,
          1,
          1,
          1,
          1,
          1,
          1,
          1,
          1,
          1,
          1,
          1,
          1,
          1,
          1,
          1,
          1,
          1,
          1,
          1,
          1,
          1,
          1,
          1,
          1,
          1,
          0.6309297535714573,
          1,
          1,
          1,
          1,
          1
         ],
         "yaxis": "y2"
        },
        {
         "customdata": [
          [
           "publius_septimius_geta--parents--julia_domna",
           0.9722038
          ],
          [
           "alice_of_bourbon_parma--parents--louise_marie_therese_of_france",
           0.98301446
          ],
          [
           "princess_amelia_sophia_of_great_britain--parents--george_ii_of_great_britain",
           0.9859283
          ],
          [
           "christian_v_of_denmark--parents--sophia_amelia_of_brunswick_luneburg",
           0.976494
          ],
          [
           "frederick_terman--parents--lewis_terman",
           0.9708561
          ],
          [
           "lady_jane_grey--parents--lady_frances_brandon",
           0.98196423
          ],
          [
           "princess_cecilia_of_sweden_1807--parents--gustav_iv_adolf_of_sweden",
           0.9776373
          ],
          [
           "pierre_koechlin--parents--emma_rossier",
           0.9553046
          ],
          [
           "maria_luisa_of_savoy--parents--victor_amadeus_ii_of_sardinia",
           0.96920353
          ],
          [
           "antiochus_iii_the_great--parents--seleucus_ii_callinicus",
           0.9850825
          ],
          [
           "augustus_pugin--parents--augustus_charles_pugin",
           0.98073936
          ],
          [
           "marie_of_brienne--parents--berenguela_of_leon",
           0.97387797
          ],
          [
           "geoffrey_ii_duke_of_brittany--parents--henry_ii_of_england",
           0.9751305
          ],
          [
           "frederick_ix_of_denmark--parents--christian_x_of_denmark",
           0.9503574
          ],
          [
           "james_rudolph_garfield--parents--james_garfield",
           0.9808333
          ],
          [
           "minamoto_no_yoriie--parents--hojo_masako",
           0.9856418
          ],
          [
           "abdulmecid--parents--mahmud_ii",
           0.9892191
          ],
          [
           "margaret_of_york--parents--cecily_neville",
           0.9874077
          ],
          [
           "emperor_komei--parents--emperor_ninko",
           0.9812971
          ],
          [
           "theuderic_iii--parents--balthild",
           0.97680193
          ],
          [
           "frances_gulick--parents--luther_gulick",
           0.941363
          ],
          [
           "princess_ileana_of_romania--parents--marie_of_edinburgh",
           0.9851478
          ],
          [
           "jovan_vladimir--parents--petrislav_of_duklja_and_travunia",
           0.9737017
          ],
          [
           "william_michael_rossetti--parents--gabriele_rossetti",
           0.9867381
          ],
          [
           "albert_francis_capone--parents--mae_capone",
           0.9512877
          ],
          [
           "mary_plantagenet--parents--edward_iii_of_england",
           0.9811323
          ],
          [
           "john_iii_of_sweden--parents--gustav_i_of_sweden",
           0.9552274
          ],
          [
           "george_crown_prince_of_serbia--parents--zorka_of_montenegro",
           0.9777884
          ],
          [
           "prince_augustus_frederick_duke_of_sussex--parents--charlotte_of_mecklenburg-strelitz",
           0.97009754
          ],
          [
           "princess_elizabeth_of_the_united_kingdom--parents--george_iii_of_the_united_kingdom",
           0.9633542
          ],
          [
           "sebastian_of_portugal--parents--john_crown_prince_of_portugal",
           0.97903824
          ],
          [
           "lindsay_crosby--parents--bing_crosby",
           0.96038955
          ],
          [
           "dominik_mikolaj_radziwill--parents--aleksander_ludwik_radziwill",
           0.97936845
          ],
          [
           "elizabeth_medora_leigh--parents--george_byron_6th_baron_byron",
           0.96682817
          ],
          [
           "prince_henry_of_prussia--parents--sophia_dorothea_of_hanover",
           0.98229516
          ],
          [
           "charlotte_princess_royal--parents--charlotte_of_mecklenburg-strelitz",
           0.9730996
          ],
          [
           "princess_adelgunde_of_bavaria--parents--therese_of_saxe_hildburghausen",
           0.98799706
          ],
          [
           "hans_albert_einstein--parents--mileva_maric",
           0.98081756
          ],
          [
           "alexis_i_du_pont_bayard--parents--thomas_f_bayard_jr",
           0.9787707
          ],
          [
           "theodore_ii_laskaris--parents--irene_lascarina",
           0.9648506
          ],
          [
           "baltasar_carlos_prince_of_asturias--parents--philip_iv_of_spain",
           0.97654176
          ],
          [
           "archduchess_luise_princess_of_tuscany--parents--ferdinand_iv_grand_duke_of_tuscany",
           0.9771985
          ],
          [
           "cleopatra_thea--parents--cleopatra_ii_of_egypt",
           0.9881151
          ],
          [
           "aleksandar_obrenovic--parents--natalija_obrenovic",
           0.9815599
          ],
          [
           "irene_doukaina_laskarina--parents--elena_of_bulgaria",
           0.9592115
          ],
          [
           "rudolph_i_of_bohemia--parents--albert_i_of_germany",
           0.97996587
          ],
          [
           "charles_ii_gonzaga--parents--charles_i_duke_of_mantua",
           0.9748905
          ],
          [
           "augusta_of_cambridge--parents--princess_augusta_of_hesse-kassel",
           0.98547643
          ],
          [
           "chiang_wei-kuo--parents--tai_chi-tao",
           0.9765339
          ],
          [
           "maria_isabel_of_portugal--parents--john_vi_of_portugal",
           0.9896506
          ]
         ],
         "hovertemplate": "hops=all<br>random=%{x}<br>raw_score=%{y}<br>query_triple=%{customdata[0]}<br>query_triple_kge_score=%{customdata[1]}<br>num_true=%{marker.color}<extra></extra>",
         "legendgroup": "",
         "marker": {
          "color": [
           4,
           2,
           9,
           5,
           1,
           4,
           5,
           1,
           5,
           1,
           1,
           1,
           10,
           4,
           3,
           4,
           4,
           8,
           1,
           3,
           1,
           8,
           1,
           1,
           3,
           9,
           7,
           3,
           17,
           17,
           1,
           4,
           2,
           3,
           12,
           17,
           10,
           4,
           1,
           1,
           8,
           4,
           4,
           3,
           1,
           4,
           2,
           5,
           1,
           8
          ],
          "coloraxis": "coloraxis",
          "line": {
           "color": "lightgrey",
           "width": 0.5
          },
          "opacity": 0.5,
          "size": 8,
          "symbol": "circle"
         },
         "mode": "markers",
         "name": "",
         "orientation": "v",
         "showlegend": false,
         "type": "scatter",
         "x": [
          0.26348647124890123,
          0.21682802563866724,
          0.34675589508128896,
          0.28770531506497127,
          0.18006589467519038,
          0.24439236053289154,
          0.2944909667549105,
          0.18808294747889295,
          0.27745952499294546,
          0.20135176513350725,
          0.18339141791429545,
          0.18488342519405304,
          0.35118324637833354,
          0.2581619901482827,
          0.25240470892694805,
          0.29529051429698877,
          0.27252896323131026,
          0.3203211148138767,
          0.22417052759177677,
          0.26771015874983817,
          0.21940505158963536,
          0.3316969309744221,
          0.24752316741834557,
          0.18281300951098278,
          0.25859766140760637,
          0.3351254047747075,
          0.3196792419853168,
          0.22847880268781298,
          0.43711276109834346,
          0.42815427979443715,
          0.16855656783885412,
          0.2911381634862003,
          0.2539405399447637,
          0.2520444346562034,
          0.38274434602210355,
          0.4383152009181426,
          0.3614474649467835,
          0.25969274638607065,
          0.16075542940700308,
          0.1901571808711228,
          0.3155513601801096,
          0.2667105696110119,
          0.2854662071684161,
          0.2370473934169372,
          0.1884201096551631,
          0.2695289167300341,
          0.21892295462205238,
          0.28493112055049696,
          0.1836844836324886,
          0.3142029437939758
         ],
         "xaxis": "x3",
         "y": [
          0.8397730354659674,
          0.2537579740823649,
          0.6903293174189808,
          0.7415024506678048,
          0.6309297535714573,
          0.6268114371726364,
          0.7625348876208002,
          1,
          0.7642356891596209,
          0.2626495350371938,
          0.38685280723454163,
          1,
          0.6515631669794042,
          0.7966850442836542,
          0.8886164761813454,
          0.8107039262096658,
          0.7853588624479882,
          0.6850533503859856,
          0.28906482631788766,
          0.8677123412716871,
          1,
          0.6953149212310836,
          1,
          1,
          0.8962626271568189,
          0.68444955570389,
          0.6889954242717761,
          0.3053719715616364,
          0.6433029104764093,
          0.6372176561975629,
          0.22767024869695263,
          0.8481093384192857,
          0.3482723708517656,
          0.30832851667326283,
          0.6523596019430701,
          0.6357373477644191,
          0.6612414286437492,
          0.8397730354659674,
          0.3154648767857289,
          0.6309297535714573,
          0.6876693820241203,
          0.8107039262096658,
          0.3085643301934963,
          0.9010126104210694,
          1,
          0.3241725814797817,
          0.3102267425692944,
          0.7848920220149774,
          0.2702381544273198,
          0.35773978768802356
         ],
         "yaxis": "y3"
        }
       ],
       "layout": {
        "annotations": [
         {
          "font": {},
          "showarrow": false,
          "text": "hops=1hop",
          "x": 0.15999999999999998,
          "xanchor": "center",
          "xref": "paper",
          "y": 1,
          "yanchor": "bottom",
          "yref": "paper"
         },
         {
          "font": {},
          "showarrow": false,
          "text": "hops=2hop",
          "x": 0.49999999999999994,
          "xanchor": "center",
          "xref": "paper",
          "y": 1,
          "yanchor": "bottom",
          "yref": "paper"
         },
         {
          "font": {},
          "showarrow": false,
          "text": "hops=all",
          "x": 0.8399999999999999,
          "xanchor": "center",
          "xref": "paper",
          "y": 1,
          "yanchor": "bottom",
          "yref": "paper"
         }
        ],
        "coloraxis": {
         "colorbar": {
          "title": {
           "text": "num_true"
          }
         },
         "colorscale": [
          [
           0,
           "rgb(253, 237, 176)"
          ],
          [
           0.09090909090909091,
           "rgb(250, 205, 145)"
          ],
          [
           0.18181818181818182,
           "rgb(246, 173, 119)"
          ],
          [
           0.2727272727272727,
           "rgb(240, 142, 98)"
          ],
          [
           0.36363636363636365,
           "rgb(231, 109, 84)"
          ],
          [
           0.45454545454545453,
           "rgb(216, 80, 83)"
          ],
          [
           0.5454545454545454,
           "rgb(195, 56, 90)"
          ],
          [
           0.6363636363636364,
           "rgb(168, 40, 96)"
          ],
          [
           0.7272727272727273,
           "rgb(138, 29, 99)"
          ],
          [
           0.8181818181818182,
           "rgb(107, 24, 93)"
          ],
          [
           0.9090909090909091,
           "rgb(76, 21, 80)"
          ],
          [
           1,
           "rgb(47, 15, 61)"
          ]
         ]
        },
        "height": 300,
        "legend": {
         "tracegroupgap": 0
        },
        "margin": {
         "t": 60
        },
        "plot_bgcolor": "#f0f0f0",
        "shapes": [
         {
          "line": {
           "color": "gray",
           "dash": "dot",
           "width": 1
          },
          "type": "line",
          "x0": 0,
          "x1": 1.1,
          "xref": "x",
          "y0": 0,
          "y1": 1.1,
          "yref": "y"
         },
         {
          "line": {
           "color": "gray",
           "dash": "dot",
           "width": 1
          },
          "type": "line",
          "x0": 0,
          "x1": 1.1,
          "xref": "x2",
          "y0": 0,
          "y1": 1.1,
          "yref": "y2"
         },
         {
          "line": {
           "color": "gray",
           "dash": "dot",
           "width": 1
          },
          "type": "line",
          "x0": 0,
          "x1": 1.1,
          "xref": "x3",
          "y0": 0,
          "y1": 1.1,
          "yref": "y3"
         }
        ],
        "template": {
         "data": {
          "bar": [
           {
            "error_x": {
             "color": "#2a3f5f"
            },
            "error_y": {
             "color": "#2a3f5f"
            },
            "marker": {
             "line": {
              "color": "#E5ECF6",
              "width": 0.5
             }
            },
            "type": "bar"
           }
          ],
          "barpolar": [
           {
            "marker": {
             "line": {
              "color": "#E5ECF6",
              "width": 0.5
             }
            },
            "type": "barpolar"
           }
          ],
          "carpet": [
           {
            "aaxis": {
             "endlinecolor": "#2a3f5f",
             "gridcolor": "white",
             "linecolor": "white",
             "minorgridcolor": "white",
             "startlinecolor": "#2a3f5f"
            },
            "baxis": {
             "endlinecolor": "#2a3f5f",
             "gridcolor": "white",
             "linecolor": "white",
             "minorgridcolor": "white",
             "startlinecolor": "#2a3f5f"
            },
            "type": "carpet"
           }
          ],
          "choropleth": [
           {
            "colorbar": {
             "outlinewidth": 0,
             "ticks": ""
            },
            "type": "choropleth"
           }
          ],
          "contour": [
           {
            "colorbar": {
             "outlinewidth": 0,
             "ticks": ""
            },
            "colorscale": [
             [
              0,
              "#0d0887"
             ],
             [
              0.1111111111111111,
              "#46039f"
             ],
             [
              0.2222222222222222,
              "#7201a8"
             ],
             [
              0.3333333333333333,
              "#9c179e"
             ],
             [
              0.4444444444444444,
              "#bd3786"
             ],
             [
              0.5555555555555556,
              "#d8576b"
             ],
             [
              0.6666666666666666,
              "#ed7953"
             ],
             [
              0.7777777777777778,
              "#fb9f3a"
             ],
             [
              0.8888888888888888,
              "#fdca26"
             ],
             [
              1,
              "#f0f921"
             ]
            ],
            "type": "contour"
           }
          ],
          "contourcarpet": [
           {
            "colorbar": {
             "outlinewidth": 0,
             "ticks": ""
            },
            "type": "contourcarpet"
           }
          ],
          "heatmap": [
           {
            "colorbar": {
             "outlinewidth": 0,
             "ticks": ""
            },
            "colorscale": [
             [
              0,
              "#0d0887"
             ],
             [
              0.1111111111111111,
              "#46039f"
             ],
             [
              0.2222222222222222,
              "#7201a8"
             ],
             [
              0.3333333333333333,
              "#9c179e"
             ],
             [
              0.4444444444444444,
              "#bd3786"
             ],
             [
              0.5555555555555556,
              "#d8576b"
             ],
             [
              0.6666666666666666,
              "#ed7953"
             ],
             [
              0.7777777777777778,
              "#fb9f3a"
             ],
             [
              0.8888888888888888,
              "#fdca26"
             ],
             [
              1,
              "#f0f921"
             ]
            ],
            "type": "heatmap"
           }
          ],
          "heatmapgl": [
           {
            "colorbar": {
             "outlinewidth": 0,
             "ticks": ""
            },
            "colorscale": [
             [
              0,
              "#0d0887"
             ],
             [
              0.1111111111111111,
              "#46039f"
             ],
             [
              0.2222222222222222,
              "#7201a8"
             ],
             [
              0.3333333333333333,
              "#9c179e"
             ],
             [
              0.4444444444444444,
              "#bd3786"
             ],
             [
              0.5555555555555556,
              "#d8576b"
             ],
             [
              0.6666666666666666,
              "#ed7953"
             ],
             [
              0.7777777777777778,
              "#fb9f3a"
             ],
             [
              0.8888888888888888,
              "#fdca26"
             ],
             [
              1,
              "#f0f921"
             ]
            ],
            "type": "heatmapgl"
           }
          ],
          "histogram": [
           {
            "marker": {
             "colorbar": {
              "outlinewidth": 0,
              "ticks": ""
             }
            },
            "type": "histogram"
           }
          ],
          "histogram2d": [
           {
            "colorbar": {
             "outlinewidth": 0,
             "ticks": ""
            },
            "colorscale": [
             [
              0,
              "#0d0887"
             ],
             [
              0.1111111111111111,
              "#46039f"
             ],
             [
              0.2222222222222222,
              "#7201a8"
             ],
             [
              0.3333333333333333,
              "#9c179e"
             ],
             [
              0.4444444444444444,
              "#bd3786"
             ],
             [
              0.5555555555555556,
              "#d8576b"
             ],
             [
              0.6666666666666666,
              "#ed7953"
             ],
             [
              0.7777777777777778,
              "#fb9f3a"
             ],
             [
              0.8888888888888888,
              "#fdca26"
             ],
             [
              1,
              "#f0f921"
             ]
            ],
            "type": "histogram2d"
           }
          ],
          "histogram2dcontour": [
           {
            "colorbar": {
             "outlinewidth": 0,
             "ticks": ""
            },
            "colorscale": [
             [
              0,
              "#0d0887"
             ],
             [
              0.1111111111111111,
              "#46039f"
             ],
             [
              0.2222222222222222,
              "#7201a8"
             ],
             [
              0.3333333333333333,
              "#9c179e"
             ],
             [
              0.4444444444444444,
              "#bd3786"
             ],
             [
              0.5555555555555556,
              "#d8576b"
             ],
             [
              0.6666666666666666,
              "#ed7953"
             ],
             [
              0.7777777777777778,
              "#fb9f3a"
             ],
             [
              0.8888888888888888,
              "#fdca26"
             ],
             [
              1,
              "#f0f921"
             ]
            ],
            "type": "histogram2dcontour"
           }
          ],
          "mesh3d": [
           {
            "colorbar": {
             "outlinewidth": 0,
             "ticks": ""
            },
            "type": "mesh3d"
           }
          ],
          "parcoords": [
           {
            "line": {
             "colorbar": {
              "outlinewidth": 0,
              "ticks": ""
             }
            },
            "type": "parcoords"
           }
          ],
          "pie": [
           {
            "automargin": true,
            "type": "pie"
           }
          ],
          "scatter": [
           {
            "marker": {
             "colorbar": {
              "outlinewidth": 0,
              "ticks": ""
             }
            },
            "type": "scatter"
           }
          ],
          "scatter3d": [
           {
            "line": {
             "colorbar": {
              "outlinewidth": 0,
              "ticks": ""
             }
            },
            "marker": {
             "colorbar": {
              "outlinewidth": 0,
              "ticks": ""
             }
            },
            "type": "scatter3d"
           }
          ],
          "scattercarpet": [
           {
            "marker": {
             "colorbar": {
              "outlinewidth": 0,
              "ticks": ""
             }
            },
            "type": "scattercarpet"
           }
          ],
          "scattergeo": [
           {
            "marker": {
             "colorbar": {
              "outlinewidth": 0,
              "ticks": ""
             }
            },
            "type": "scattergeo"
           }
          ],
          "scattergl": [
           {
            "marker": {
             "colorbar": {
              "outlinewidth": 0,
              "ticks": ""
             }
            },
            "type": "scattergl"
           }
          ],
          "scattermapbox": [
           {
            "marker": {
             "colorbar": {
              "outlinewidth": 0,
              "ticks": ""
             }
            },
            "type": "scattermapbox"
           }
          ],
          "scatterpolar": [
           {
            "marker": {
             "colorbar": {
              "outlinewidth": 0,
              "ticks": ""
             }
            },
            "type": "scatterpolar"
           }
          ],
          "scatterpolargl": [
           {
            "marker": {
             "colorbar": {
              "outlinewidth": 0,
              "ticks": ""
             }
            },
            "type": "scatterpolargl"
           }
          ],
          "scatterternary": [
           {
            "marker": {
             "colorbar": {
              "outlinewidth": 0,
              "ticks": ""
             }
            },
            "type": "scatterternary"
           }
          ],
          "surface": [
           {
            "colorbar": {
             "outlinewidth": 0,
             "ticks": ""
            },
            "colorscale": [
             [
              0,
              "#0d0887"
             ],
             [
              0.1111111111111111,
              "#46039f"
             ],
             [
              0.2222222222222222,
              "#7201a8"
             ],
             [
              0.3333333333333333,
              "#9c179e"
             ],
             [
              0.4444444444444444,
              "#bd3786"
             ],
             [
              0.5555555555555556,
              "#d8576b"
             ],
             [
              0.6666666666666666,
              "#ed7953"
             ],
             [
              0.7777777777777778,
              "#fb9f3a"
             ],
             [
              0.8888888888888888,
              "#fdca26"
             ],
             [
              1,
              "#f0f921"
             ]
            ],
            "type": "surface"
           }
          ],
          "table": [
           {
            "cells": {
             "fill": {
              "color": "#EBF0F8"
             },
             "line": {
              "color": "white"
             }
            },
            "header": {
             "fill": {
              "color": "#C8D4E3"
             },
             "line": {
              "color": "white"
             }
            },
            "type": "table"
           }
          ]
         },
         "layout": {
          "annotationdefaults": {
           "arrowcolor": "#2a3f5f",
           "arrowhead": 0,
           "arrowwidth": 1
          },
          "autotypenumbers": "strict",
          "coloraxis": {
           "colorbar": {
            "outlinewidth": 0,
            "ticks": ""
           }
          },
          "colorscale": {
           "diverging": [
            [
             0,
             "#8e0152"
            ],
            [
             0.1,
             "#c51b7d"
            ],
            [
             0.2,
             "#de77ae"
            ],
            [
             0.3,
             "#f1b6da"
            ],
            [
             0.4,
             "#fde0ef"
            ],
            [
             0.5,
             "#f7f7f7"
            ],
            [
             0.6,
             "#e6f5d0"
            ],
            [
             0.7,
             "#b8e186"
            ],
            [
             0.8,
             "#7fbc41"
            ],
            [
             0.9,
             "#4d9221"
            ],
            [
             1,
             "#276419"
            ]
           ],
           "sequential": [
            [
             0,
             "#0d0887"
            ],
            [
             0.1111111111111111,
             "#46039f"
            ],
            [
             0.2222222222222222,
             "#7201a8"
            ],
            [
             0.3333333333333333,
             "#9c179e"
            ],
            [
             0.4444444444444444,
             "#bd3786"
            ],
            [
             0.5555555555555556,
             "#d8576b"
            ],
            [
             0.6666666666666666,
             "#ed7953"
            ],
            [
             0.7777777777777778,
             "#fb9f3a"
            ],
            [
             0.8888888888888888,
             "#fdca26"
            ],
            [
             1,
             "#f0f921"
            ]
           ],
           "sequentialminus": [
            [
             0,
             "#0d0887"
            ],
            [
             0.1111111111111111,
             "#46039f"
            ],
            [
             0.2222222222222222,
             "#7201a8"
            ],
            [
             0.3333333333333333,
             "#9c179e"
            ],
            [
             0.4444444444444444,
             "#bd3786"
            ],
            [
             0.5555555555555556,
             "#d8576b"
            ],
            [
             0.6666666666666666,
             "#ed7953"
            ],
            [
             0.7777777777777778,
             "#fb9f3a"
            ],
            [
             0.8888888888888888,
             "#fdca26"
            ],
            [
             1,
             "#f0f921"
            ]
           ]
          },
          "colorway": [
           "#636efa",
           "#EF553B",
           "#00cc96",
           "#ab63fa",
           "#FFA15A",
           "#19d3f3",
           "#FF6692",
           "#B6E880",
           "#FF97FF",
           "#FECB52"
          ],
          "font": {
           "color": "#2a3f5f"
          },
          "geo": {
           "bgcolor": "white",
           "lakecolor": "white",
           "landcolor": "#E5ECF6",
           "showlakes": true,
           "showland": true,
           "subunitcolor": "white"
          },
          "hoverlabel": {
           "align": "left"
          },
          "hovermode": "closest",
          "mapbox": {
           "style": "light"
          },
          "paper_bgcolor": "white",
          "plot_bgcolor": "#E5ECF6",
          "polar": {
           "angularaxis": {
            "gridcolor": "white",
            "linecolor": "white",
            "ticks": ""
           },
           "bgcolor": "#E5ECF6",
           "radialaxis": {
            "gridcolor": "white",
            "linecolor": "white",
            "ticks": ""
           }
          },
          "scene": {
           "xaxis": {
            "backgroundcolor": "#E5ECF6",
            "gridcolor": "white",
            "gridwidth": 2,
            "linecolor": "white",
            "showbackground": true,
            "ticks": "",
            "zerolinecolor": "white"
           },
           "yaxis": {
            "backgroundcolor": "#E5ECF6",
            "gridcolor": "white",
            "gridwidth": 2,
            "linecolor": "white",
            "showbackground": true,
            "ticks": "",
            "zerolinecolor": "white"
           },
           "zaxis": {
            "backgroundcolor": "#E5ECF6",
            "gridcolor": "white",
            "gridwidth": 2,
            "linecolor": "white",
            "showbackground": true,
            "ticks": "",
            "zerolinecolor": "white"
           }
          },
          "shapedefaults": {
           "line": {
            "color": "#2a3f5f"
           }
          },
          "ternary": {
           "aaxis": {
            "gridcolor": "white",
            "linecolor": "white",
            "ticks": ""
           },
           "baxis": {
            "gridcolor": "white",
            "linecolor": "white",
            "ticks": ""
           },
           "bgcolor": "#E5ECF6",
           "caxis": {
            "gridcolor": "white",
            "linecolor": "white",
            "ticks": ""
           }
          },
          "title": {
           "x": 0.05
          },
          "xaxis": {
           "automargin": true,
           "gridcolor": "white",
           "linecolor": "white",
           "ticks": "",
           "title": {
            "standoff": 15
           },
           "zerolinecolor": "white",
           "zerolinewidth": 2
          },
          "yaxis": {
           "automargin": true,
           "gridcolor": "white",
           "linecolor": "white",
           "ticks": "",
           "title": {
            "standoff": 15
           },
           "zerolinecolor": "white",
           "zerolinewidth": 2
          }
         }
        },
        "width": 900,
        "xaxis": {
         "anchor": "y",
         "autorange": true,
         "domain": [
          0,
          0.31999999999999995
         ],
         "range": [
          -0.002417794970986461,
          1.1024177949709866
         ],
         "title": {
          "text": "random"
         },
         "type": "linear"
        },
        "xaxis2": {
         "anchor": "y2",
         "autorange": true,
         "domain": [
          0.33999999999999997,
          0.6599999999999999
         ],
         "matches": "x",
         "range": [
          -0.002417794970986461,
          1.1024177949709866
         ],
         "title": {
          "text": "random"
         },
         "type": "linear"
        },
        "xaxis3": {
         "anchor": "y3",
         "autorange": true,
         "domain": [
          0.6799999999999999,
          0.9999999999999999
         ],
         "matches": "x",
         "range": [
          -0.002417794970986461,
          1.1024177949709866
         ],
         "title": {
          "text": "random"
         },
         "type": "linear"
        },
        "yaxis": {
         "anchor": "x",
         "autorange": true,
         "domain": [
          0,
          1
         ],
         "range": [
          -0.003459119496855346,
          1.1034591194968555
         ],
         "title": {
          "text": "raw_score"
         },
         "type": "linear"
        },
        "yaxis2": {
         "anchor": "x2",
         "autorange": true,
         "domain": [
          0,
          1
         ],
         "matches": "y",
         "range": [
          -0.003459119496855346,
          1.1034591194968555
         ],
         "showticklabels": false,
         "type": "linear"
        },
        "yaxis3": {
         "anchor": "x3",
         "autorange": true,
         "domain": [
          0,
          1
         ],
         "matches": "y",
         "range": [
          -0.003459119496855346,
          1.1034591194968555
         ],
         "showticklabels": false,
         "type": "linear"
        }
       }
      },
      "image/png": "[encoded data removed]",
      "text/html": [
       "<div>                            <div id=\"3fb843af-cbf0-4c98-afa2-d424a23947b3\" class=\"plotly-graph-div\" style=\"height:300px; width:900px;\"></div>            <script type=\"text/javascript\">                require([\"plotly\"], function(Plotly) {                    window.PLOTLYENV=window.PLOTLYENV || {};                                    if (document.getElementById(\"3fb843af-cbf0-4c98-afa2-d424a23947b3\")) {                    Plotly.newPlot(                        \"3fb843af-cbf0-4c98-afa2-d424a23947b3\",                        [{\"customdata\": [[\"publius_septimius_geta--parents--julia_domna\", 0.9722038], [\"alice_of_bourbon_parma--parents--louise_marie_therese_of_france\", 0.98301446], [\"princess_amelia_sophia_of_great_britain--parents--george_ii_of_great_britain\", 0.9859283], [\"christian_v_of_denmark--parents--sophia_amelia_of_brunswick_luneburg\", 0.976494], [\"frederick_terman--parents--lewis_terman\", 0.9708561], [\"lady_jane_grey--parents--lady_frances_brandon\", 0.98196423], [\"princess_cecilia_of_sweden_1807--parents--gustav_iv_adolf_of_sweden\", 0.9776373], [\"maria_luisa_of_savoy--parents--victor_amadeus_ii_of_sardinia\", 0.96920353], [\"antiochus_iii_the_great--parents--seleucus_ii_callinicus\", 0.9850825], [\"augustus_pugin--parents--augustus_charles_pugin\", 0.98073936], [\"geoffrey_ii_duke_of_brittany--parents--henry_ii_of_england\", 0.9751305], [\"frederick_ix_of_denmark--parents--christian_x_of_denmark\", 0.9503574], [\"james_rudolph_garfield--parents--james_garfield\", 0.9808333], [\"minamoto_no_yoriie--parents--hojo_masako\", 0.9856418], [\"abdulmecid--parents--mahmud_ii\", 0.9892191], [\"margaret_of_york--parents--cecily_neville\", 0.9874077], [\"emperor_komei--parents--emperor_ninko\", 0.9812971], [\"theuderic_iii--parents--balthild\", 0.97680193], [\"frances_gulick--parents--luther_gulick\", 0.941363], [\"princess_ileana_of_romania--parents--marie_of_edinburgh\", 0.9851478], [\"jovan_vladimir--parents--petrislav_of_duklja_and_travunia\", 0.9737017], [\"albert_francis_capone--parents--mae_capone\", 0.9512877], [\"mary_plantagenet--parents--edward_iii_of_england\", 0.9811323], [\"john_iii_of_sweden--parents--gustav_i_of_sweden\", 0.9552274], [\"george_crown_prince_of_serbia--parents--zorka_of_montenegro\", 0.9777884], [\"prince_augustus_frederick_duke_of_sussex--parents--charlotte_of_mecklenburg-strelitz\", 0.97009754], [\"princess_elizabeth_of_the_united_kingdom--parents--george_iii_of_the_united_kingdom\", 0.9633542], [\"sebastian_of_portugal--parents--john_crown_prince_of_portugal\", 0.97903824], [\"lindsay_crosby--parents--bing_crosby\", 0.96038955], [\"dominik_mikolaj_radziwill--parents--aleksander_ludwik_radziwill\", 0.97936845], [\"elizabeth_medora_leigh--parents--george_byron_6th_baron_byron\", 0.96682817], [\"prince_henry_of_prussia--parents--sophia_dorothea_of_hanover\", 0.98229516], [\"charlotte_princess_royal--parents--charlotte_of_mecklenburg-strelitz\", 0.9730996], [\"princess_adelgunde_of_bavaria--parents--therese_of_saxe_hildburghausen\", 0.98799706], [\"hans_albert_einstein--parents--mileva_maric\", 0.98081756], [\"alexis_i_du_pont_bayard--parents--thomas_f_bayard_jr\", 0.9787707], [\"baltasar_carlos_prince_of_asturias--parents--philip_iv_of_spain\", 0.97654176], [\"archduchess_luise_princess_of_tuscany--parents--ferdinand_iv_grand_duke_of_tuscany\", 0.9771985], [\"cleopatra_thea--parents--cleopatra_ii_of_egypt\", 0.9881151], [\"aleksandar_obrenovic--parents--natalija_obrenovic\", 0.9815599], [\"rudolph_i_of_bohemia--parents--albert_i_of_germany\", 0.97996587], [\"charles_ii_gonzaga--parents--charles_i_duke_of_mantua\", 0.9748905], [\"augusta_of_cambridge--parents--princess_augusta_of_hesse-kassel\", 0.98547643], [\"chiang_wei-kuo--parents--tai_chi-tao\", 0.9765339], [\"maria_isabel_of_portugal--parents--john_vi_of_portugal\", 0.9896506]], \"hovertemplate\": \"hops=1hop<br>random=%{x}<br>raw_score=%{y}<br>query_triple=%{customdata[0]}<br>query_triple_kge_score=%{customdata[1]}<br>num_true=%{marker.color}<extra></extra>\", \"legendgroup\": \"\", \"marker\": {\"color\": [2, 2, 7, 3, 1, 3, 3, 3, 1, 1, 8, 2, 1, 2, 2, 6, 1, 1, 1, 6, 1, 1, 7, 5, 3, 15, 15, 1, 2, 2, 3, 10, 15, 8, 2, 1, 6, 2, 4, 1, 4, 2, 3, 1, 8], \"coloraxis\": \"coloraxis\", \"line\": {\"color\": \"lightgrey\", \"width\": 0.5}, \"opacity\": 0.5, \"size\": 8, \"symbol\": \"circle\"}, \"mode\": \"markers\", \"name\": \"\", \"orientation\": \"v\", \"showlegend\": false, \"type\": \"scatter\", \"x\": [0.234519736000272, 0.24460057453757622, 0.35692594159139096, 0.2729976042595562, 0.18945186587508475, 0.2553959615907384, 0.2687236193973018, 0.2594339902931645, 0.2217238919555148, 0.19198529613263352, 0.3735045137391674, 0.22597973448084135, 0.19124260762128342, 0.2539405399447637, 0.2402919037679507, 0.33139973564325426, 0.23997832841039332, 0.2131123901695754, 0.22501656524116131, 0.33623371749505104, 0.24752316741834557, 0.1927438909628485, 0.35175678764383034, 0.3224687424925108, 0.2629367883948145, 0.48755490655758327, 0.46567138117136003, 0.18876061197188929, 0.23877658077642397, 0.27489905938729936, 0.2735583221502498, 0.4082691092888633, 0.4839445926826535, 0.382660849546195, 0.2183126393896233, 0.18086576325137405, 0.3176817627647139, 0.23232375945097275, 0.3338018802969579, 0.1870909528344978, 0.298629194895266, 0.24516882924163622, 0.2708149841043677, 0.19637097646732418, 0.3563684978168401], \"xaxis\": \"x\", \"y\": [0.6240505200038378, 0.57064171895532, 0.8586825918244816, 0.9060254355346823, 0.6309297535714573, 0.732828620477791, 0.5881601264058985, 0.8529278650606568, 1.0, 1.0, 0.7523694914801552, 0.43062411638656717, 0.5, 0.6240505200038378, 0.7903864795495061, 0.7791723042503585, 0.6309297535714573, 0.35620718710802235, 1.0, 0.8998587643699822, 1.0, 0.38685280723454163, 0.9256850023120645, 0.4706340741150935, 0.5239472913541398, 0.921855557838386, 0.7613831983540764, 0.4306765580733929, 0.9197207891481877, 1.0, 0.7844801364718916, 0.8173214112308467, 0.9205352703085707, 0.7463104175395293, 0.6240505200038378, 1.0, 0.8933138436362861, 0.6240505200038378, 0.8276904491046954, 0.6309297535714573, 0.9047172294870751, 0.6934264036172708, 1.0, 0.4306765580733929, 0.9623322809981272], \"yaxis\": \"y\"}, {\"customdata\": [[\"publius_septimius_geta--parents--julia_domna\", 0.9722038], [\"princess_amelia_sophia_of_great_britain--parents--george_ii_of_great_britain\", 0.9859283], [\"christian_v_of_denmark--parents--sophia_amelia_of_brunswick_luneburg\", 0.976494], [\"lady_jane_grey--parents--lady_frances_brandon\", 0.98196423], [\"princess_cecilia_of_sweden_1807--parents--gustav_iv_adolf_of_sweden\", 0.9776373], [\"pierre_koechlin--parents--emma_rossier\", 0.9553046], [\"maria_luisa_of_savoy--parents--victor_amadeus_ii_of_sardinia\", 0.96920353], [\"marie_of_brienne--parents--berenguela_of_leon\", 0.97387797], [\"geoffrey_ii_duke_of_brittany--parents--henry_ii_of_england\", 0.9751305], [\"frederick_ix_of_denmark--parents--christian_x_of_denmark\", 0.9503574], [\"james_rudolph_garfield--parents--james_garfield\", 0.9808333], [\"minamoto_no_yoriie--parents--hojo_masako\", 0.9856418], [\"abdulmecid--parents--mahmud_ii\", 0.9892191], [\"margaret_of_york--parents--cecily_neville\", 0.9874077], [\"theuderic_iii--parents--balthild\", 0.97680193], [\"princess_ileana_of_romania--parents--marie_of_edinburgh\", 0.9851478], [\"william_michael_rossetti--parents--gabriele_rossetti\", 0.9867381], [\"albert_francis_capone--parents--mae_capone\", 0.9512877], [\"mary_plantagenet--parents--edward_iii_of_england\", 0.9811323], [\"john_iii_of_sweden--parents--gustav_i_of_sweden\", 0.9552274], [\"prince_augustus_frederick_duke_of_sussex--parents--charlotte_of_mecklenburg-strelitz\", 0.97009754], [\"princess_elizabeth_of_the_united_kingdom--parents--george_iii_of_the_united_kingdom\", 0.9633542], [\"lindsay_crosby--parents--bing_crosby\", 0.96038955], [\"prince_henry_of_prussia--parents--sophia_dorothea_of_hanover\", 0.98229516], [\"charlotte_princess_royal--parents--charlotte_of_mecklenburg-strelitz\", 0.9730996], [\"princess_adelgunde_of_bavaria--parents--therese_of_saxe_hildburghausen\", 0.98799706], [\"hans_albert_einstein--parents--mileva_maric\", 0.98081756], [\"theodore_ii_laskaris--parents--irene_lascarina\", 0.9648506], [\"baltasar_carlos_prince_of_asturias--parents--philip_iv_of_spain\", 0.97654176], [\"archduchess_luise_princess_of_tuscany--parents--ferdinand_iv_grand_duke_of_tuscany\", 0.9771985], [\"aleksandar_obrenovic--parents--natalija_obrenovic\", 0.9815599], [\"irene_doukaina_laskarina--parents--elena_of_bulgaria\", 0.9592115], [\"augusta_of_cambridge--parents--princess_augusta_of_hesse-kassel\", 0.98547643]], \"hovertemplate\": \"hops=2hop<br>random=%{x}<br>raw_score=%{y}<br>query_triple=%{customdata[0]}<br>query_triple_kge_score=%{customdata[1]}<br>num_true=%{marker.color}<extra></extra>\", \"legendgroup\": \"\", \"marker\": {\"color\": [2, 2, 2, 1, 2, 1, 2, 1, 2, 2, 2, 2, 2, 2, 2, 2, 1, 2, 2, 2, 2, 2, 2, 2, 2, 2, 2, 1, 2, 2, 2, 1, 2], \"coloraxis\": \"coloraxis\", \"line\": {\"color\": \"lightgrey\", \"width\": 0.5}, \"opacity\": 0.5, \"size\": 8, \"symbol\": \"circle\"}, \"mode\": \"markers\", \"name\": \"\", \"orientation\": \"v\", \"showlegend\": false, \"type\": \"scatter\", \"x\": [0.25061971415312345, 0.24239526449568743, 0.24691653909995978, 0.17565048656591298, 0.269055182921491, 0.24116077456755022, 0.24133134651087285, 0.2334218068377205, 0.22179467000992403, 0.24751394082991945, 0.31632834396757115, 0.3204781766318984, 0.26295736360922484, 0.2198568855244123, 0.29721893720492054, 0.24293671121688476, 0.2324101854867764, 0.3554420570068792, 0.2198568855244123, 0.24403923047296353, 0.22634893355152477, 0.22983015948781962, 0.3988775380358108, 0.23543049075193895, 0.2290308434895583, 0.22983015948781962, 0.2802900283347716, 0.2707892976309602, 0.22383255886101644, 0.2699864901514905, 0.2539405399447637, 0.24361198442368162, 0.24403923047296353], \"xaxis\": \"x2\", \"y\": [1.0, 1.0, 1.0, 1.0, 1.0, 1.0, 1.0, 1.0, 1.0, 1.0, 1.0, 1.0, 1.0, 1.0, 1.0, 1.0, 1.0, 1.0, 1.0, 1.0, 1.0, 1.0, 1.0, 1.0, 1.0, 1.0, 1.0, 0.6309297535714573, 1.0, 1.0, 1.0, 1.0, 1.0], \"yaxis\": \"y2\"}, {\"customdata\": [[\"publius_septimius_geta--parents--julia_domna\", 0.9722038], [\"alice_of_bourbon_parma--parents--louise_marie_therese_of_france\", 0.98301446], [\"princess_amelia_sophia_of_great_britain--parents--george_ii_of_great_britain\", 0.9859283], [\"christian_v_of_denmark--parents--sophia_amelia_of_brunswick_luneburg\", 0.976494], [\"frederick_terman--parents--lewis_terman\", 0.9708561], [\"lady_jane_grey--parents--lady_frances_brandon\", 0.98196423], [\"princess_cecilia_of_sweden_1807--parents--gustav_iv_adolf_of_sweden\", 0.9776373], [\"pierre_koechlin--parents--emma_rossier\", 0.9553046], [\"maria_luisa_of_savoy--parents--victor_amadeus_ii_of_sardinia\", 0.96920353], [\"antiochus_iii_the_great--parents--seleucus_ii_callinicus\", 0.9850825], [\"augustus_pugin--parents--augustus_charles_pugin\", 0.98073936], [\"marie_of_brienne--parents--berenguela_of_leon\", 0.97387797], [\"geoffrey_ii_duke_of_brittany--parents--henry_ii_of_england\", 0.9751305], [\"frederick_ix_of_denmark--parents--christian_x_of_denmark\", 0.9503574], [\"james_rudolph_garfield--parents--james_garfield\", 0.9808333], [\"minamoto_no_yoriie--parents--hojo_masako\", 0.9856418], [\"abdulmecid--parents--mahmud_ii\", 0.9892191], [\"margaret_of_york--parents--cecily_neville\", 0.9874077], [\"emperor_komei--parents--emperor_ninko\", 0.9812971], [\"theuderic_iii--parents--balthild\", 0.97680193], [\"frances_gulick--parents--luther_gulick\", 0.941363], [\"princess_ileana_of_romania--parents--marie_of_edinburgh\", 0.9851478], [\"jovan_vladimir--parents--petrislav_of_duklja_and_travunia\", 0.9737017], [\"william_michael_rossetti--parents--gabriele_rossetti\", 0.9867381], [\"albert_francis_capone--parents--mae_capone\", 0.9512877], [\"mary_plantagenet--parents--edward_iii_of_england\", 0.9811323], [\"john_iii_of_sweden--parents--gustav_i_of_sweden\", 0.9552274], [\"george_crown_prince_of_serbia--parents--zorka_of_montenegro\", 0.9777884], [\"prince_augustus_frederick_duke_of_sussex--parents--charlotte_of_mecklenburg-strelitz\", 0.97009754], [\"princess_elizabeth_of_the_united_kingdom--parents--george_iii_of_the_united_kingdom\", 0.9633542], [\"sebastian_of_portugal--parents--john_crown_prince_of_portugal\", 0.97903824], [\"lindsay_crosby--parents--bing_crosby\", 0.96038955], [\"dominik_mikolaj_radziwill--parents--aleksander_ludwik_radziwill\", 0.97936845], [\"elizabeth_medora_leigh--parents--george_byron_6th_baron_byron\", 0.96682817], [\"prince_henry_of_prussia--parents--sophia_dorothea_of_hanover\", 0.98229516], [\"charlotte_princess_royal--parents--charlotte_of_mecklenburg-strelitz\", 0.9730996], [\"princess_adelgunde_of_bavaria--parents--therese_of_saxe_hildburghausen\", 0.98799706], [\"hans_albert_einstein--parents--mileva_maric\", 0.98081756], [\"alexis_i_du_pont_bayard--parents--thomas_f_bayard_jr\", 0.9787707], [\"theodore_ii_laskaris--parents--irene_lascarina\", 0.9648506], [\"baltasar_carlos_prince_of_asturias--parents--philip_iv_of_spain\", 0.97654176], [\"archduchess_luise_princess_of_tuscany--parents--ferdinand_iv_grand_duke_of_tuscany\", 0.9771985], [\"cleopatra_thea--parents--cleopatra_ii_of_egypt\", 0.9881151], [\"aleksandar_obrenovic--parents--natalija_obrenovic\", 0.9815599], [\"irene_doukaina_laskarina--parents--elena_of_bulgaria\", 0.9592115], [\"rudolph_i_of_bohemia--parents--albert_i_of_germany\", 0.97996587], [\"charles_ii_gonzaga--parents--charles_i_duke_of_mantua\", 0.9748905], [\"augusta_of_cambridge--parents--princess_augusta_of_hesse-kassel\", 0.98547643], [\"chiang_wei-kuo--parents--tai_chi-tao\", 0.9765339], [\"maria_isabel_of_portugal--parents--john_vi_of_portugal\", 0.9896506]], \"hovertemplate\": \"hops=all<br>random=%{x}<br>raw_score=%{y}<br>query_triple=%{customdata[0]}<br>query_triple_kge_score=%{customdata[1]}<br>num_true=%{marker.color}<extra></extra>\", \"legendgroup\": \"\", \"marker\": {\"color\": [4, 2, 9, 5, 1, 4, 5, 1, 5, 1, 1, 1, 10, 4, 3, 4, 4, 8, 1, 3, 1, 8, 1, 1, 3, 9, 7, 3, 17, 17, 1, 4, 2, 3, 12, 17, 10, 4, 1, 1, 8, 4, 4, 3, 1, 4, 2, 5, 1, 8], \"coloraxis\": \"coloraxis\", \"line\": {\"color\": \"lightgrey\", \"width\": 0.5}, \"opacity\": 0.5, \"size\": 8, \"symbol\": \"circle\"}, \"mode\": \"markers\", \"name\": \"\", \"orientation\": \"v\", \"showlegend\": false, \"type\": \"scatter\", \"x\": [0.26348647124890123, 0.21682802563866724, 0.34675589508128896, 0.28770531506497127, 0.18006589467519038, 0.24439236053289154, 0.2944909667549105, 0.18808294747889295, 0.27745952499294546, 0.20135176513350725, 0.18339141791429545, 0.18488342519405304, 0.35118324637833354, 0.2581619901482827, 0.25240470892694805, 0.29529051429698877, 0.27252896323131026, 0.3203211148138767, 0.22417052759177677, 0.26771015874983817, 0.21940505158963536, 0.3316969309744221, 0.24752316741834557, 0.18281300951098278, 0.25859766140760637, 0.3351254047747075, 0.3196792419853168, 0.22847880268781298, 0.43711276109834346, 0.42815427979443715, 0.16855656783885412, 0.2911381634862003, 0.2539405399447637, 0.2520444346562034, 0.38274434602210355, 0.4383152009181426, 0.3614474649467835, 0.25969274638607065, 0.16075542940700308, 0.1901571808711228, 0.3155513601801096, 0.2667105696110119, 0.2854662071684161, 0.2370473934169372, 0.1884201096551631, 0.2695289167300341, 0.21892295462205238, 0.28493112055049696, 0.1836844836324886, 0.3142029437939758], \"xaxis\": \"x3\", \"y\": [0.8397730354659674, 0.2537579740823649, 0.6903293174189808, 0.7415024506678048, 0.6309297535714573, 0.6268114371726364, 0.7625348876208002, 1.0, 0.7642356891596209, 0.2626495350371938, 0.38685280723454163, 1.0, 0.6515631669794042, 0.7966850442836542, 0.8886164761813454, 0.8107039262096658, 0.7853588624479882, 0.6850533503859856, 0.28906482631788766, 0.8677123412716871, 1.0, 0.6953149212310836, 1.0, 1.0, 0.8962626271568189, 0.68444955570389, 0.6889954242717761, 0.3053719715616364, 0.6433029104764093, 0.6372176561975629, 0.22767024869695263, 0.8481093384192857, 0.3482723708517656, 0.30832851667326283, 0.6523596019430701, 0.6357373477644191, 0.6612414286437492, 0.8397730354659674, 0.3154648767857289, 0.6309297535714573, 0.6876693820241203, 0.8107039262096658, 0.3085643301934963, 0.9010126104210694, 1.0, 0.3241725814797817, 0.3102267425692944, 0.7848920220149774, 0.2702381544273198, 0.35773978768802356], \"yaxis\": \"y3\"}],                        {\"annotations\": [{\"font\": {}, \"showarrow\": false, \"text\": \"hops=1hop\", \"x\": 0.15999999999999998, \"xanchor\": \"center\", \"xref\": \"paper\", \"y\": 1.0, \"yanchor\": \"bottom\", \"yref\": \"paper\"}, {\"font\": {}, \"showarrow\": false, \"text\": \"hops=2hop\", \"x\": 0.49999999999999994, \"xanchor\": \"center\", \"xref\": \"paper\", \"y\": 1.0, \"yanchor\": \"bottom\", \"yref\": \"paper\"}, {\"font\": {}, \"showarrow\": false, \"text\": \"hops=all\", \"x\": 0.8399999999999999, \"xanchor\": \"center\", \"xref\": \"paper\", \"y\": 1.0, \"yanchor\": \"bottom\", \"yref\": \"paper\"}], \"coloraxis\": {\"colorbar\": {\"title\": {\"text\": \"num_true\"}}, \"colorscale\": [[0.0, \"rgb(253, 237, 176)\"], [0.09090909090909091, \"rgb(250, 205, 145)\"], [0.18181818181818182, \"rgb(246, 173, 119)\"], [0.2727272727272727, \"rgb(240, 142, 98)\"], [0.36363636363636365, \"rgb(231, 109, 84)\"], [0.45454545454545453, \"rgb(216, 80, 83)\"], [0.5454545454545454, \"rgb(195, 56, 90)\"], [0.6363636363636364, \"rgb(168, 40, 96)\"], [0.7272727272727273, \"rgb(138, 29, 99)\"], [0.8181818181818182, \"rgb(107, 24, 93)\"], [0.9090909090909091, \"rgb(76, 21, 80)\"], [1.0, \"rgb(47, 15, 61)\"]]}, \"height\": 300, \"legend\": {\"tracegroupgap\": 0}, \"margin\": {\"t\": 60}, \"plot_bgcolor\": \"#f0f0f0\", \"shapes\": [{\"line\": {\"color\": \"gray\", \"dash\": \"dot\", \"width\": 1}, \"type\": \"line\", \"x0\": 0, \"x1\": 1.1, \"xref\": \"x\", \"y0\": 0, \"y1\": 1.1, \"yref\": \"y\"}, {\"line\": {\"color\": \"gray\", \"dash\": \"dot\", \"width\": 1}, \"type\": \"line\", \"x0\": 0, \"x1\": 1.1, \"xref\": \"x2\", \"y0\": 0, \"y1\": 1.1, \"yref\": \"y2\"}, {\"line\": {\"color\": \"gray\", \"dash\": \"dot\", \"width\": 1}, \"type\": \"line\", \"x0\": 0, \"x1\": 1.1, \"xref\": \"x3\", \"y0\": 0, \"y1\": 1.1, \"yref\": \"y3\"}], \"template\": {\"data\": {\"bar\": [{\"error_x\": {\"color\": \"#2a3f5f\"}, \"error_y\": {\"color\": \"#2a3f5f\"}, \"marker\": {\"line\": {\"color\": \"#E5ECF6\", \"width\": 0.5}}, \"type\": \"bar\"}], \"barpolar\": [{\"marker\": {\"line\": {\"color\": \"#E5ECF6\", \"width\": 0.5}}, \"type\": \"barpolar\"}], \"carpet\": [{\"aaxis\": {\"endlinecolor\": \"#2a3f5f\", \"gridcolor\": \"white\", \"linecolor\": \"white\", \"minorgridcolor\": \"white\", \"startlinecolor\": \"#2a3f5f\"}, \"baxis\": {\"endlinecolor\": \"#2a3f5f\", \"gridcolor\": \"white\", \"linecolor\": \"white\", \"minorgridcolor\": \"white\", \"startlinecolor\": \"#2a3f5f\"}, \"type\": \"carpet\"}], \"choropleth\": [{\"colorbar\": {\"outlinewidth\": 0, \"ticks\": \"\"}, \"type\": \"choropleth\"}], \"contour\": [{\"colorbar\": {\"outlinewidth\": 0, \"ticks\": \"\"}, \"colorscale\": [[0.0, \"#0d0887\"], [0.1111111111111111, \"#46039f\"], [0.2222222222222222, \"#7201a8\"], [0.3333333333333333, \"#9c179e\"], [0.4444444444444444, \"#bd3786\"], [0.5555555555555556, \"#d8576b\"], [0.6666666666666666, \"#ed7953\"], [0.7777777777777778, \"#fb9f3a\"], [0.8888888888888888, \"#fdca26\"], [1.0, \"#f0f921\"]], \"type\": \"contour\"}], \"contourcarpet\": [{\"colorbar\": {\"outlinewidth\": 0, \"ticks\": \"\"}, \"type\": \"contourcarpet\"}], \"heatmap\": [{\"colorbar\": {\"outlinewidth\": 0, \"ticks\": \"\"}, \"colorscale\": [[0.0, \"#0d0887\"], [0.1111111111111111, \"#46039f\"], [0.2222222222222222, \"#7201a8\"], [0.3333333333333333, \"#9c179e\"], [0.4444444444444444, \"#bd3786\"], [0.5555555555555556, \"#d8576b\"], [0.6666666666666666, \"#ed7953\"], [0.7777777777777778, \"#fb9f3a\"], [0.8888888888888888, \"#fdca26\"], [1.0, \"#f0f921\"]], \"type\": \"heatmap\"}], \"heatmapgl\": [{\"colorbar\": {\"outlinewidth\": 0, \"ticks\": \"\"}, \"colorscale\": [[0.0, \"#0d0887\"], [0.1111111111111111, \"#46039f\"], [0.2222222222222222, \"#7201a8\"], [0.3333333333333333, \"#9c179e\"], [0.4444444444444444, \"#bd3786\"], [0.5555555555555556, \"#d8576b\"], [0.6666666666666666, \"#ed7953\"], [0.7777777777777778, \"#fb9f3a\"], [0.8888888888888888, \"#fdca26\"], [1.0, \"#f0f921\"]], \"type\": \"heatmapgl\"}], \"histogram\": [{\"marker\": {\"colorbar\": {\"outlinewidth\": 0, \"ticks\": \"\"}}, \"type\": \"histogram\"}], \"histogram2d\": [{\"colorbar\": {\"outlinewidth\": 0, \"ticks\": \"\"}, \"colorscale\": [[0.0, \"#0d0887\"], [0.1111111111111111, \"#46039f\"], [0.2222222222222222, \"#7201a8\"], [0.3333333333333333, \"#9c179e\"], [0.4444444444444444, \"#bd3786\"], [0.5555555555555556, \"#d8576b\"], [0.6666666666666666, \"#ed7953\"], [0.7777777777777778, \"#fb9f3a\"], [0.8888888888888888, \"#fdca26\"], [1.0, \"#f0f921\"]], \"type\": \"histogram2d\"}], \"histogram2dcontour\": [{\"colorbar\": {\"outlinewidth\": 0, \"ticks\": \"\"}, \"colorscale\": [[0.0, \"#0d0887\"], [0.1111111111111111, \"#46039f\"], [0.2222222222222222, \"#7201a8\"], [0.3333333333333333, \"#9c179e\"], [0.4444444444444444, \"#bd3786\"], [0.5555555555555556, \"#d8576b\"], [0.6666666666666666, \"#ed7953\"], [0.7777777777777778, \"#fb9f3a\"], [0.8888888888888888, \"#fdca26\"], [1.0, \"#f0f921\"]], \"type\": \"histogram2dcontour\"}], \"mesh3d\": [{\"colorbar\": {\"outlinewidth\": 0, \"ticks\": \"\"}, \"type\": \"mesh3d\"}], \"parcoords\": [{\"line\": {\"colorbar\": {\"outlinewidth\": 0, \"ticks\": \"\"}}, \"type\": \"parcoords\"}], \"pie\": [{\"automargin\": true, \"type\": \"pie\"}], \"scatter\": [{\"marker\": {\"colorbar\": {\"outlinewidth\": 0, \"ticks\": \"\"}}, \"type\": \"scatter\"}], \"scatter3d\": [{\"line\": {\"colorbar\": {\"outlinewidth\": 0, \"ticks\": \"\"}}, \"marker\": {\"colorbar\": {\"outlinewidth\": 0, \"ticks\": \"\"}}, \"type\": \"scatter3d\"}], \"scattercarpet\": [{\"marker\": {\"colorbar\": {\"outlinewidth\": 0, \"ticks\": \"\"}}, \"type\": \"scattercarpet\"}], \"scattergeo\": [{\"marker\": {\"colorbar\": {\"outlinewidth\": 0, \"ticks\": \"\"}}, \"type\": \"scattergeo\"}], \"scattergl\": [{\"marker\": {\"colorbar\": {\"outlinewidth\": 0, \"ticks\": \"\"}}, \"type\": \"scattergl\"}], \"scattermapbox\": [{\"marker\": {\"colorbar\": {\"outlinewidth\": 0, \"ticks\": \"\"}}, \"type\": \"scattermapbox\"}], \"scatterpolar\": [{\"marker\": {\"colorbar\": {\"outlinewidth\": 0, \"ticks\": \"\"}}, \"type\": \"scatterpolar\"}], \"scatterpolargl\": [{\"marker\": {\"colorbar\": {\"outlinewidth\": 0, \"ticks\": \"\"}}, \"type\": \"scatterpolargl\"}], \"scatterternary\": [{\"marker\": {\"colorbar\": {\"outlinewidth\": 0, \"ticks\": \"\"}}, \"type\": \"scatterternary\"}], \"surface\": [{\"colorbar\": {\"outlinewidth\": 0, \"ticks\": \"\"}, \"colorscale\": [[0.0, \"#0d0887\"], [0.1111111111111111, \"#46039f\"], [0.2222222222222222, \"#7201a8\"], [0.3333333333333333, \"#9c179e\"], [0.4444444444444444, \"#bd3786\"], [0.5555555555555556, \"#d8576b\"], [0.6666666666666666, \"#ed7953\"], [0.7777777777777778, \"#fb9f3a\"], [0.8888888888888888, \"#fdca26\"], [1.0, \"#f0f921\"]], \"type\": \"surface\"}], \"table\": [{\"cells\": {\"fill\": {\"color\": \"#EBF0F8\"}, \"line\": {\"color\": \"white\"}}, \"header\": {\"fill\": {\"color\": \"#C8D4E3\"}, \"line\": {\"color\": \"white\"}}, \"type\": \"table\"}]}, \"layout\": {\"annotationdefaults\": {\"arrowcolor\": \"#2a3f5f\", \"arrowhead\": 0, \"arrowwidth\": 1}, \"autotypenumbers\": \"strict\", \"coloraxis\": {\"colorbar\": {\"outlinewidth\": 0, \"ticks\": \"\"}}, \"colorscale\": {\"diverging\": [[0, \"#8e0152\"], [0.1, \"#c51b7d\"], [0.2, \"#de77ae\"], [0.3, \"#f1b6da\"], [0.4, \"#fde0ef\"], [0.5, \"#f7f7f7\"], [0.6, \"#e6f5d0\"], [0.7, \"#b8e186\"], [0.8, \"#7fbc41\"], [0.9, \"#4d9221\"], [1, \"#276419\"]], \"sequential\": [[0.0, \"#0d0887\"], [0.1111111111111111, \"#46039f\"], [0.2222222222222222, \"#7201a8\"], [0.3333333333333333, \"#9c179e\"], [0.4444444444444444, \"#bd3786\"], [0.5555555555555556, \"#d8576b\"], [0.6666666666666666, \"#ed7953\"], [0.7777777777777778, \"#fb9f3a\"], [0.8888888888888888, \"#fdca26\"], [1.0, \"#f0f921\"]], \"sequentialminus\": [[0.0, \"#0d0887\"], [0.1111111111111111, \"#46039f\"], [0.2222222222222222, \"#7201a8\"], [0.3333333333333333, \"#9c179e\"], [0.4444444444444444, \"#bd3786\"], [0.5555555555555556, \"#d8576b\"], [0.6666666666666666, \"#ed7953\"], [0.7777777777777778, \"#fb9f3a\"], [0.8888888888888888, \"#fdca26\"], [1.0, \"#f0f921\"]]}, \"colorway\": [\"#636efa\", \"#EF553B\", \"#00cc96\", \"#ab63fa\", \"#FFA15A\", \"#19d3f3\", \"#FF6692\", \"#B6E880\", \"#FF97FF\", \"#FECB52\"], \"font\": {\"color\": \"#2a3f5f\"}, \"geo\": {\"bgcolor\": \"white\", \"lakecolor\": \"white\", \"landcolor\": \"#E5ECF6\", \"showlakes\": true, \"showland\": true, \"subunitcolor\": \"white\"}, \"hoverlabel\": {\"align\": \"left\"}, \"hovermode\": \"closest\", \"mapbox\": {\"style\": \"light\"}, \"paper_bgcolor\": \"white\", \"plot_bgcolor\": \"#E5ECF6\", \"polar\": {\"angularaxis\": {\"gridcolor\": \"white\", \"linecolor\": \"white\", \"ticks\": \"\"}, \"bgcolor\": \"#E5ECF6\", \"radialaxis\": {\"gridcolor\": \"white\", \"linecolor\": \"white\", \"ticks\": \"\"}}, \"scene\": {\"xaxis\": {\"backgroundcolor\": \"#E5ECF6\", \"gridcolor\": \"white\", \"gridwidth\": 2, \"linecolor\": \"white\", \"showbackground\": true, \"ticks\": \"\", \"zerolinecolor\": \"white\"}, \"yaxis\": {\"backgroundcolor\": \"#E5ECF6\", \"gridcolor\": \"white\", \"gridwidth\": 2, \"linecolor\": \"white\", \"showbackground\": true, \"ticks\": \"\", \"zerolinecolor\": \"white\"}, \"zaxis\": {\"backgroundcolor\": \"#E5ECF6\", \"gridcolor\": \"white\", \"gridwidth\": 2, \"linecolor\": \"white\", \"showbackground\": true, \"ticks\": \"\", \"zerolinecolor\": \"white\"}}, \"shapedefaults\": {\"line\": {\"color\": \"#2a3f5f\"}}, \"ternary\": {\"aaxis\": {\"gridcolor\": \"white\", \"linecolor\": \"white\", \"ticks\": \"\"}, \"baxis\": {\"gridcolor\": \"white\", \"linecolor\": \"white\", \"ticks\": \"\"}, \"bgcolor\": \"#E5ECF6\", \"caxis\": {\"gridcolor\": \"white\", \"linecolor\": \"white\", \"ticks\": \"\"}}, \"title\": {\"x\": 0.05}, \"xaxis\": {\"automargin\": true, \"gridcolor\": \"white\", \"linecolor\": \"white\", \"ticks\": \"\", \"title\": {\"standoff\": 15}, \"zerolinecolor\": \"white\", \"zerolinewidth\": 2}, \"yaxis\": {\"automargin\": true, \"gridcolor\": \"white\", \"linecolor\": \"white\", \"ticks\": \"\", \"title\": {\"standoff\": 15}, \"zerolinecolor\": \"white\", \"zerolinewidth\": 2}}}, \"width\": 900, \"xaxis\": {\"anchor\": \"y\", \"domain\": [0.0, 0.31999999999999995], \"title\": {\"text\": \"random\"}}, \"xaxis2\": {\"anchor\": \"y2\", \"domain\": [0.33999999999999997, 0.6599999999999999], \"matches\": \"x\", \"title\": {\"text\": \"random\"}}, \"xaxis3\": {\"anchor\": \"y3\", \"domain\": [0.6799999999999999, 0.9999999999999999], \"matches\": \"x\", \"title\": {\"text\": \"random\"}}, \"yaxis\": {\"anchor\": \"x\", \"domain\": [0.0, 1.0], \"title\": {\"text\": \"raw_score\"}}, \"yaxis2\": {\"anchor\": \"x2\", \"domain\": [0.0, 1.0], \"matches\": \"y\", \"showticklabels\": false}, \"yaxis3\": {\"anchor\": \"x3\", \"domain\": [0.0, 1.0], \"matches\": \"y\", \"showticklabels\": false}},                        {\"responsive\": true}                    ).then(function(){\n",
       "                            \n",
       "var gd = document.getElementById('3fb843af-cbf0-4c98-afa2-d424a23947b3');\n",
       "var x = new MutationObserver(function (mutations, observer) {{\n",
       "        var display = window.getComputedStyle(gd).display;\n",
       "        if (!display || display === 'none') {{\n",
       "            console.log([gd, 'removed!']);\n",
       "            Plotly.purge(gd);\n",
       "            observer.disconnect();\n",
       "        }}\n",
       "}});\n",
       "\n",
       "// Listen for the removal of the full notebook cells\n",
       "var notebookContainer = gd.closest('#notebook-container');\n",
       "if (notebookContainer) {{\n",
       "    x.observe(notebookContainer, {childList: true});\n",
       "}}\n",
       "\n",
       "// Listen for the clearing of the current output cell\n",
       "var outputEl = gd.closest('.output');\n",
       "if (outputEl) {{\n",
       "    x.observe(outputEl, {childList: true});\n",
       "}}\n",
       "\n",
       "                        })                };                });            </script>        </div>"
      ]
     },
     "metadata": {},
     "output_type": "display_data"
    }
   ],
   "source": [
    "overlay = 'num_true'\n",
    "plot_scatter_with_facets(M=M, x='random', y='linklogic', color=overlay, filename='LinkLogic_v_Random.html')\n",
    "plot_scatter_with_facets(M=M, x='raw_score', y='linklogic', color=overlay, filename='LinkLogic_v_RawFeatureScores.html')\n",
    "plot_scatter_with_facets(M=M, x='random', y='raw_score', color=overlay, filename='RawFeatureScores_v_Random.html')"
   ]
  },
  {
   "cell_type": "code",
   "execution_count": null,
   "id": "015297c2-0a36-4d50-8e87-c51b5440568d",
   "metadata": {},
   "outputs": [],
   "source": [
    "# Goal: show which paths are ranked where "
   ]
  }
 ],
 "metadata": {
  "kernelspec": {
   "display_name": "Python 3",
   "language": "python",
   "name": "python3"
  },
  "language_info": {
   "codemirror_mode": {
    "name": "ipython",
    "version": 3
   },
   "file_extension": ".py",
   "mimetype": "text/x-python",
   "name": "python",
   "nbconvert_exporter": "python",
   "pygments_lexer": "ipython3",
   "version": "3.6.5"
  }
 },
 "nbformat": 4,
 "nbformat_minor": 5
}
