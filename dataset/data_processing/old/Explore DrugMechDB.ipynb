{
 "cells": [
  {
   "cell_type": "code",
   "execution_count": 1,
   "id": "d96c7da7-cbeb-4cdf-b107-bdd77f3e0eee",
   "metadata": {},
   "outputs": [],
   "source": [
    "import pandas as pd\n",
    "import yaml"
   ]
  },
  {
   "cell_type": "code",
   "execution_count": 2,
   "id": "f5d6752a-9850-4c12-8689-d2ca24c830f7",
   "metadata": {},
   "outputs": [],
   "source": [
    "# Read DrugMechDB Dataset\n",
    "with open(\"../data/drugmechdb/DrugMechDB_indication_paths.yml\", 'r') as stream:\n",
    "    try:\n",
    "        drugmech = (yaml.safe_load(stream))\n",
    "    except yaml.YAMLError as exc:\n",
    "        print(exc)"
   ]
  },
  {
   "cell_type": "code",
   "execution_count": 3,
   "id": "afcaa86b-74ca-4741-a24b-89c11ee27e48",
   "metadata": {},
   "outputs": [
    {
     "ename": "SyntaxError",
     "evalue": "invalid syntax (<ipython-input-3-f656c8083558>, line 1)",
     "output_type": "error",
     "traceback": [
      "\u001b[0;36m  File \u001b[0;32m\"<ipython-input-3-f656c8083558>\"\u001b[0;36m, line \u001b[0;32m1\u001b[0m\n\u001b[0;31m    Explore DrugMechDB data\u001b[0m\n\u001b[0m                     ^\u001b[0m\n\u001b[0;31mSyntaxError\u001b[0m\u001b[0;31m:\u001b[0m invalid syntax\n"
     ]
    }
   ],
   "source": [
    "Explore DrugMechDB data\n",
    "diseases = []\n",
    "last_links = []\n",
    "for mech in drugmech:\n",
    "    diseases.append(mech['graph']['disease'])\n",
    "    last_links.append(mech['links'][-1]['key'])\n",
    "\n",
    "#last_links\n",
    "\n",
    "diseases.sort()\n",
    "dx_count = dict()\n",
    "\n",
    "for dx in diseases:\n",
    "    if dx in dx_count.keys():\n",
    "        dx_count[dx] += 1\n",
    "    else:\n",
    "        dx_count[dx] = 1\n",
    "        \n",
    "dx_count"
   ]
  },
  {
   "cell_type": "code",
   "execution_count": null,
   "id": "cc6ce979-de19-46a3-b041-306894069fb1",
   "metadata": {},
   "outputs": [],
   "source": [
    "\n",
    "mesh_to_do = get_mesh_to_disease_ontology()\n",
    "all_hetnet_ids = set(hetnet_nodes['id_stripped'])\n",
    "\n",
    "#success, no_DO_overlap, no_DO_mapping = 0, 0, 0\n",
    "#types = []\n",
    "for _, mech in drugmech_df.iterrows():\n",
    "    mesh = mech.disease_id_dmdb\n",
    "    \n",
    "    # Check if we can map to hetnet disease\n",
    "    \n",
    "    found_in_hetnet = False\n",
    "    \n",
    "    if mesh in mesh_to_do.keys():\n",
    "        do_ids = mesh_to_do[mesh]\n",
    "    \n",
    "        matched = 0\n",
    "        for i, do in enumerate(do_ids):\n",
    "            if do in all_hetnet_ids:\n",
    "                found_in_hetnet = True\n",
    "                matched +=1\n",
    "                #print(f'matched {i} DO index')\n",
    "                #break\n",
    "        if found_in_hetnet:\n",
    "            #print('good!')\n",
    "            success +=1\n",
    "            if matched > 1:\n",
    "                print(f'Warning: {matched} DO ids are in Hetnet for {mesh}')\n",
    "            else:\n",
    "                pass\n",
    "                #print('Only 1 DO id matched')\n",
    "        else:\n",
    "            #print('mapping exists but DO id not in hetnet')\n",
    "            no_DO_overlap += 1\n",
    "    else:\n",
    "        #print('no mapping to disease ontology')\n",
    "        no_DO_mapping += 1\n",
    "        \n",
    "    # If we didn't find it in disease, check in symptom\n",
    "    if not found_in_hetnet:\n",
    "        if mesh[5:] in all_hetnet_ids:\n",
    "            found_in_hetnet=True\n",
    "            success += 1\n",
    "            #print('found it directly via mesh id')\n",
    "        \n",
    "#print(dx_mech_ct)"
   ]
  }
 ],
 "metadata": {
  "kernelspec": {
   "display_name": "Python 3",
   "language": "python",
   "name": "python3"
  },
  "language_info": {
   "codemirror_mode": {
    "name": "ipython",
    "version": 3
   },
   "file_extension": ".py",
   "mimetype": "text/x-python",
   "name": "python",
   "nbconvert_exporter": "python",
   "pygments_lexer": "ipython3",
   "version": "3.6.5"
  }
 },
 "nbformat": 4,
 "nbformat_minor": 5
}
