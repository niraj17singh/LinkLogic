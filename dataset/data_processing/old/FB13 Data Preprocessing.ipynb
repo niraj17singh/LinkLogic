{
 "cells": [
  {
   "cell_type": "code",
   "execution_count": 2,
   "metadata": {},
   "outputs": [],
   "source": [
    "entities = open(\"entity2id.txt\", \"r\")\n",
    "\n",
    "with open(\"entities.dict\", \"w\") as file:\n",
    "    for i in entities:\n",
    "        i = i.strip()\n",
    "        e1, id = i.split(\"\\t\")\n",
    "        file.write(str(id) + \"\\t\" + e1 + \"\\n\")"
   ]
  },
  {
   "cell_type": "code",
   "execution_count": 3,
   "metadata": {},
   "outputs": [],
   "source": [
    "relations = open(\"relation2id.txt\", \"r\")\n",
    "\n",
    "with open(\"relations.dict\", \"w\") as file:\n",
    "    for i in relations:\n",
    "        i = i.strip()\n",
    "        r, id = i.split(\"\\t\")\n",
    "        file.write(str(id) + \"\\t\" + r + \"\\n\")"
   ]
  },
  {
   "cell_type": "code",
   "execution_count": 4,
   "metadata": {},
   "outputs": [],
   "source": [
    "test = open(\"test_original.txt\", \"r\")\n",
    "\n",
    "with open(\"test.txt\", \"w\") as file:\n",
    "    for i in test:\n",
    "        i = i.strip()\n",
    "        e1, r, e2, l = i.split(\"\\t\")\n",
    "        if l == str(1):\n",
    "            file.write(e1 + \"\\t\" + r + \"\\t\" + e2 + \"\\n\")"
   ]
  },
  {
   "cell_type": "code",
   "execution_count": 6,
   "metadata": {},
   "outputs": [],
   "source": [
    "valid = open(\"valid_original.txt\", \"r\")\n",
    "\n",
    "with open(\"valid.txt\", \"w\") as file:\n",
    "    for i in valid:\n",
    "        i = i.strip()\n",
    "        e1, r, e2, l = i.split(\"\\t\")\n",
    "        if l == str(1):\n",
    "            file.write(e1 + \"\\t\" + r + \"\\t\" + e2 + \"\\n\")"
   ]
  },
  {
   "cell_type": "code",
   "execution_count": null,
   "metadata": {},
   "outputs": [],
   "source": []
  }
 ],
 "metadata": {
  "kernelspec": {
   "display_name": "Python 3",
   "language": "python",
   "name": "python3"
  },
  "language_info": {
   "codemirror_mode": {
    "name": "ipython",
    "version": 3
   },
   "file_extension": ".py",
   "mimetype": "text/x-python",
   "name": "python",
   "nbconvert_exporter": "python",
   "pygments_lexer": "ipython3",
   "version": "3.6.5"
  }
 },
 "nbformat": 4,
 "nbformat_minor": 4
}
