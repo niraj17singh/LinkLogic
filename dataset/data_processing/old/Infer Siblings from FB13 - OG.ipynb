{
 "cells": [
  {
   "cell_type": "code",
   "execution_count": 1,
   "id": "67f74256-bbb5-4876-8b41-3b3664deb7fd",
   "metadata": {},
   "outputs": [],
   "source": [
    "import pandas as pd\n",
    "from neo4j import GraphDatabase"
   ]
  },
  {
   "cell_type": "code",
   "execution_count": 2,
   "id": "f71c36b3-8bf1-416d-9add-a6e4837a5104",
   "metadata": {},
   "outputs": [],
   "source": [
    "# setup database connection\n",
    "driver = GraphDatabase.driver('bolt://localhost:7687', auth=('neo4j', 'fb13'))\n",
    "sess = driver.session()"
   ]
  },
  {
   "cell_type": "code",
   "execution_count": 3,
   "id": "a03a17e7-ede3-411f-a7b6-34bdc588f1ae",
   "metadata": {},
   "outputs": [],
   "source": [
    "def res_to_df(res):\n",
    "    result_list = [record for record in res]\n",
    "    return pd.DataFrame(result_list, columns=res.keys())  "
   ]
  },
  {
   "cell_type": "code",
   "execution_count": 7,
   "id": "0e4d4b9f-c1e9-48da-9026-dea2acc069f9",
   "metadata": {},
   "outputs": [],
   "source": [
    "q = '''\n",
    "MATCH (a:Person)<-[:children]-(x:Person)<-[:parents]-(b:Person)\n",
    "WHERE a <> b\n",
    "RETURN a.name as child, b.name as sibling, x.name as parent\n",
    "\n",
    "UNION\n",
    "\n",
    "MATCH (a:Person)-[:parents]->(x:Person)<-[:parents]-(b:Person)\n",
    "WHERE a <> b\n",
    "RETURN a.name as child, b.name as sibling, x.name as parent\n",
    "\n",
    "UNION\n",
    "\n",
    "MATCH (a:Person)<-[:children]-(x:Person)-[:children]->(b:Person)\n",
    "WHERE a <> b\n",
    "RETURN a.name as child, b.name as sibling, x.name as parent\n",
    "\n",
    "UNION\n",
    "\n",
    "MATCH (a:Person)-[:parents]->(x:Person)-[:children]->(b:Person)\n",
    "WHERE a <> b\n",
    "RETURN a.name as child, b.name as sibling, x.name as parent\n",
    "'''\n",
    "family_triples = res_to_df(sess.run(q))"
   ]
  },
  {
   "cell_type": "code",
   "execution_count": 40,
   "id": "a6f165e9-b748-4755-a8f2-cf8971d9caad",
   "metadata": {},
   "outputs": [],
   "source": [
    "num_shared_parents = pd.DataFrame(family_triples.groupby(['child', 'sibling'], as_index=False).size())\n",
    "num_shared_parents.columns = ['child', 'sibling', 'num_parents']"
   ]
  },
  {
   "cell_type": "code",
   "execution_count": 44,
   "id": "359197e9-ed85-4873-9e03-668f2a969efe",
   "metadata": {},
   "outputs": [
    {
     "data": {
      "text/plain": [
       "(8252, 3)"
      ]
     },
     "execution_count": 44,
     "metadata": {},
     "output_type": "execute_result"
    },
    {
     "data": {
      "text/plain": [
       "(4408, 3)"
      ]
     },
     "execution_count": 44,
     "metadata": {},
     "output_type": "execute_result"
    }
   ],
   "source": [
    "num_shared_parents.shape\n",
    "num_shared_parents[num_shared_parents.num_parents > 1].shape"
   ]
  },
  {
   "cell_type": "code",
   "execution_count": 33,
   "id": "7a43588b-3123-4a88-957e-000aeebeed92",
   "metadata": {},
   "outputs": [
    {
     "data": {
      "text/plain": [
       "child                        sibling                    \n",
       "abigail_may_alcott_nieriker  louisa_may_alcott              2\n",
       "adela_of_normandy            henry_i_of_england             2\n",
       "                             robert_iii_duke_of_normandy    2\n",
       "                             william_ii_of_england          2\n",
       "adelaide_rixa_of_poland      casimir_i_of_poland            2\n",
       "                                                           ..\n",
       "zeppo_marx                   chico_marx                     2\n",
       "                             groucho_marx                   2\n",
       "                             gummo_marx                     2\n",
       "                             harpo_marx                     2\n",
       "zita_of_bourbon-parma        felix_of_bourbon-parma         2\n",
       "Length: 4388, dtype: int64"
      ]
     },
     "execution_count": 33,
     "metadata": {},
     "output_type": "execute_result"
    }
   ],
   "source": [
    "x[x==2]"
   ]
  },
  {
   "cell_type": "code",
   "execution_count": 8,
   "id": "6c33db93-deac-4f4a-a6f1-e02d88e8d4de",
   "metadata": {},
   "outputs": [],
   "source": [
    "sib1 = family_triples.groupby('child').agg(set)"
   ]
  },
  {
   "cell_type": "code",
   "execution_count": 11,
   "id": "933f07fe-53b0-47e1-b149-a07a77e92124",
   "metadata": {},
   "outputs": [
    {
     "name": "stdout",
     "output_type": "stream",
     "text": [
      "sibling\n",
      "parent\n"
     ]
    }
   ],
   "source": [
    "for sib in sib1:\n",
    "    print(sib)"
   ]
  },
  {
   "cell_type": "code",
   "execution_count": 21,
   "id": "e7e60fb9-d72b-4442-92f6-7ea0b83565fb",
   "metadata": {},
   "outputs": [
    {
     "data": {
      "text/plain": [
       "{'matilda_of_flanders', 'william_i_of_england'}"
      ]
     },
     "execution_count": 21,
     "metadata": {},
     "output_type": "execute_result"
    },
    {
     "data": {
      "text/plain": [
       "{'adela_of_normandy', 'henry_i_of_england', 'robert_iii_duke_of_normandy'}"
      ]
     },
     "execution_count": 21,
     "metadata": {},
     "output_type": "execute_result"
    }
   ],
   "source": [
    "person = 'william_ii_of_england'\n",
    "P = sib1['parent']\n",
    "P[person]\n",
    "\n",
    "S = sib1['sibling']\n",
    "S[person]"
   ]
  },
  {
   "cell_type": "code",
   "execution_count": 19,
   "id": "c0e55629-fc01-418f-82cd-af8aee279c7e",
   "metadata": {},
   "outputs": [
    {
     "data": {
      "text/plain": [
       "{'matilda_of_flanders', 'william_i_of_england'}"
      ]
     },
     "execution_count": 19,
     "metadata": {},
     "output_type": "execute_result"
    }
   ],
   "source": []
  },
  {
   "cell_type": "code",
   "execution_count": 12,
   "id": "aa3f5198-39e2-4c29-8427-414f47853388",
   "metadata": {},
   "outputs": [
    {
     "data": {
      "text/html": [
       "<div>\n",
       "<style scoped>\n",
       "    .dataframe tbody tr th:only-of-type {\n",
       "        vertical-align: middle;\n",
       "    }\n",
       "\n",
       "    .dataframe tbody tr th {\n",
       "        vertical-align: top;\n",
       "    }\n",
       "\n",
       "    .dataframe thead th {\n",
       "        text-align: right;\n",
       "    }\n",
       "</style>\n",
       "<table border=\"1\" class=\"dataframe\">\n",
       "  <thead>\n",
       "    <tr style=\"text-align: right;\">\n",
       "      <th></th>\n",
       "      <th>child</th>\n",
       "      <th>sibling</th>\n",
       "      <th>parent</th>\n",
       "    </tr>\n",
       "  </thead>\n",
       "  <tbody>\n",
       "    <tr>\n",
       "      <th>0</th>\n",
       "      <td>frederick_i_margrave_of_brandenburg-ansbach</td>\n",
       "      <td>john_elector_of_brandenburg</td>\n",
       "      <td>albert_iii_elector_of_brandenburg</td>\n",
       "    </tr>\n",
       "    <tr>\n",
       "      <th>1</th>\n",
       "      <td>harry_brodribb_irving</td>\n",
       "      <td>laurence_irving</td>\n",
       "      <td>henry_irving</td>\n",
       "    </tr>\n",
       "    <tr>\n",
       "      <th>2</th>\n",
       "      <td>grand_duke_alexander_alexandrovich_of_russia</td>\n",
       "      <td>nicholas_ii_of_russia</td>\n",
       "      <td>alexander_iii_of_russia</td>\n",
       "    </tr>\n",
       "    <tr>\n",
       "      <th>3</th>\n",
       "      <td>grand_duke_alexander_alexandrovich_of_russia</td>\n",
       "      <td>grand_duke_michael_alexandrovich_of_russia</td>\n",
       "      <td>alexander_iii_of_russia</td>\n",
       "    </tr>\n",
       "    <tr>\n",
       "      <th>4</th>\n",
       "      <td>grand_duke_alexander_alexandrovich_of_russia</td>\n",
       "      <td>grand_duchess_olga_alexandrovna_of_russia</td>\n",
       "      <td>alexander_iii_of_russia</td>\n",
       "    </tr>\n",
       "  </tbody>\n",
       "</table>\n",
       "</div>"
      ],
      "text/plain": [
       "                                          child  \\\n",
       "0   frederick_i_margrave_of_brandenburg-ansbach   \n",
       "1                         harry_brodribb_irving   \n",
       "2  grand_duke_alexander_alexandrovich_of_russia   \n",
       "3  grand_duke_alexander_alexandrovich_of_russia   \n",
       "4  grand_duke_alexander_alexandrovich_of_russia   \n",
       "\n",
       "                                      sibling  \\\n",
       "0                 john_elector_of_brandenburg   \n",
       "1                             laurence_irving   \n",
       "2                       nicholas_ii_of_russia   \n",
       "3  grand_duke_michael_alexandrovich_of_russia   \n",
       "4   grand_duchess_olga_alexandrovna_of_russia   \n",
       "\n",
       "                              parent  \n",
       "0  albert_iii_elector_of_brandenburg  \n",
       "1                       henry_irving  \n",
       "2            alexander_iii_of_russia  \n",
       "3            alexander_iii_of_russia  \n",
       "4            alexander_iii_of_russia  "
      ]
     },
     "execution_count": 12,
     "metadata": {},
     "output_type": "execute_result"
    }
   ],
   "source": [
    "family_triples.head()"
   ]
  },
  {
   "cell_type": "code",
   "execution_count": null,
   "id": "0fa11848-1c5a-4da8-90d6-bd64466046aa",
   "metadata": {},
   "outputs": [],
   "source": []
  }
 ],
 "metadata": {
  "kernelspec": {
   "display_name": "Python 3",
   "language": "python",
   "name": "python3"
  },
  "language_info": {
   "codemirror_mode": {
    "name": "ipython",
    "version": 3
   },
   "file_extension": ".py",
   "mimetype": "text/x-python",
   "name": "python",
   "nbconvert_exporter": "python",
   "pygments_lexer": "ipython3",
   "version": "3.6.5"
  }
 },
 "nbformat": 4,
 "nbformat_minor": 5
}
