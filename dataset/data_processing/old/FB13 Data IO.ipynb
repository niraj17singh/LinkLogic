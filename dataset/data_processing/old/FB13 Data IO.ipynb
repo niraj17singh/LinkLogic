{
 "cells": [
  {
   "cell_type": "code",
   "execution_count": 2,
   "metadata": {},
   "outputs": [],
   "source": [
    "with open(\"graph.txt\", \"w\") as graph:\n",
    "    for tt in [\"train\", \"test\", \"valid\"]:\n",
    "        with open(f\"{tt}.txt\", \"r\") as file:\n",
    "            for f in file:\n",
    "                f = f.strip()\n",
    "                e1, r, e2 = f.split(\"\\t\")\n",
    "                graph.write(str(e1) + \"\\t\" + str(r) + \"\\t\" + str(e2) + \"\\n\")"
   ]
  },
  {
   "cell_type": "code",
   "execution_count": 5,
   "metadata": {},
   "outputs": [],
   "source": [
    "benchmark = [\"spouse\", \"children\", \"parents\", \"profession\", \"location\"]\n",
    "for test_relation in benchmark:\n",
    "    with open(f\"test_{test_relation}.txt\", \"w\") as file:\n",
    "        with open(\"graph.txt\", \"r\") as graph:\n",
    "            for f in graph:\n",
    "                f = f.strip()\n",
    "                e1, r, e2 = f.split(\"\\t\")\n",
    "                if r == test_relation:\n",
    "                    file.write(str(e1) + \"\\t\" + str(r) + \"\\t\" + str(e2) + \"\\n\")\n"
   ]
  },
  {
   "cell_type": "code",
   "execution_count": null,
   "metadata": {},
   "outputs": [],
   "source": []
  }
 ],
 "metadata": {
  "kernelspec": {
   "display_name": "Python 3",
   "language": "python",
   "name": "python3"
  },
  "language_info": {
   "codemirror_mode": {
    "name": "ipython",
    "version": 3
   },
   "file_extension": ".py",
   "mimetype": "text/x-python",
   "name": "python",
   "nbconvert_exporter": "python",
   "pygments_lexer": "ipython3",
   "version": "3.6.5"
  }
 },
 "nbformat": 4,
 "nbformat_minor": 4
}
